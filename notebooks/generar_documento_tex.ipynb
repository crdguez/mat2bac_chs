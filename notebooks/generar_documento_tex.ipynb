{
 "cells": [
  {
   "cell_type": "code",
   "execution_count": 1,
   "metadata": {},
   "outputs": [],
   "source": [
    "import pandas as pd\n",
    "from docparts import escribir_preambulo, escribir_ejercicios2, escribir_fin\n",
    "\n",
    "ejercicios = \"ejercicios_intervalos.csv\"\n",
    "df_ejercicios = pd.read_csv(ejercicios)\n",
    "\n",
    "fichero = 'intervalos'\n",
    "titulo = 'Intervalos de confianza'\n",
    "curso = '2BCccss'\n",
    "\n",
    "#df_ejercicios.to_csv(\"ej.csv\")"
   ]
  },
  {
   "cell_type": "code",
   "execution_count": 2,
   "metadata": {},
   "outputs": [],
   "source": [
    "escribir_preambulo(fichero, titulo, 'ejercicios')\n",
    "escribir_ejercicios2(df_ejercicios,fichero)\n",
    "escribir_fin(fichero)"
   ]
  },
  {
   "cell_type": "code",
   "execution_count": 4,
   "metadata": {},
   "outputs": [],
   "source": [
    "ejercicios = \"ejercicios_intervalos3.csv\"\n",
    "df_ejercicios = pd.read_csv(ejercicios)\n",
    "\n",
    "fichero = 'autoevaluacion'\n",
    "titulo = 'Autoevaluación'\n",
    "\n",
    "curso = '2BCccss'\n",
    "\n",
    "#df_ejercicios.to_csv(\"ej.csv\")"
   ]
  },
  {
   "cell_type": "code",
   "execution_count": 5,
   "metadata": {},
   "outputs": [],
   "source": [
    "escribir_preambulo(fichero, titulo, 'ejercicios')\n",
    "escribir_ejercicios2(df_ejercicios,fichero)\n",
    "escribir_fin(fichero)"
   ]
  }
 ],
 "metadata": {
  "kernelspec": {
   "display_name": "Python 3",
   "language": "python",
   "name": "python3"
  },
  "language_info": {
   "codemirror_mode": {
    "name": "ipython",
    "version": 3
   },
   "file_extension": ".py",
   "mimetype": "text/x-python",
   "name": "python",
   "nbconvert_exporter": "python",
   "pygments_lexer": "ipython3",
   "version": "3.6.8"
  }
 },
 "nbformat": 4,
 "nbformat_minor": 2
}

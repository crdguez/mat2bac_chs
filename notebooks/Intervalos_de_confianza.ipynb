{
  "nbformat": 4,
  "nbformat_minor": 0,
  "metadata": {
    "colab": {
      "name": "Intervalos_de_confianza.ipynb",
      "provenance": [],
      "include_colab_link": true
    },
    "kernelspec": {
      "name": "python3",
      "display_name": "Python 3"
    }
  },
  "cells": [
    {
      "cell_type": "markdown",
      "metadata": {
        "id": "view-in-github",
        "colab_type": "text"
      },
      "source": [
        "<a href=\"https://colab.research.google.com/github/crdguez/mat2bac_chs/blob/master/notebooks/Intervalos_de_confianza.ipynb\" target=\"_parent\"><img src=\"https://colab.research.google.com/assets/colab-badge.svg\" alt=\"Open In Colab\"/></a>"
      ]
    },
    {
      "cell_type": "code",
      "metadata": {
        "id": "vN_kzESqyAw8",
        "colab_type": "code",
        "colab": {}
      },
      "source": [
        "import numpy as np\n",
        "import scipy.stats\n",
        "from sympy.stats import Normal, P\n",
        "from sympy import *\n",
        "\n",
        "def mean_confidence_interval2(data, confidence=0.95):\n",
        "    a = 1.0 * np.array(data)\n",
        "    n = len(a)\n",
        "    m, se = np.mean(a), scipy.stats.sem(a)\n",
        "    h = se * scipy.stats.t.ppf((1 + confidence) / 2., n-1)\n",
        "    return m, m-h, m+h\n",
        "\n",
        "def media_intervalo(data=[],media=None, desviacion=None, confianza=0.95):\n",
        "    if data == [] :\n",
        "      m = media\n",
        "      d = desviacion\n",
        "    else :\n",
        "      m = np.mean((1.0*np.array(data)))\n",
        "      d = np.std((1.0*np.array(data)))\n",
        "\n",
        "    return m\n"
      ],
      "execution_count": 0,
      "outputs": []
    },
    {
      "cell_type": "code",
      "metadata": {
        "id": "_kSXC5pQb7vc",
        "colab_type": "code",
        "outputId": "48d2de77-a4c2-4e8c-bcf5-8284c0239f37",
        "colab": {
          "base_uri": "https://localhost:8080/",
          "height": 35
        }
      },
      "source": [
        "media_intervalo([1,2,3]),media_intervalo(media=3)"
      ],
      "execution_count": 0,
      "outputs": [
        {
          "output_type": "execute_result",
          "data": {
            "text/plain": [
              "(2.0, 3)"
            ]
          },
          "metadata": {
            "tags": []
          },
          "execution_count": 57
        }
      ]
    },
    {
      "cell_type": "code",
      "metadata": {
        "id": "lboD0-7ggHow",
        "colab_type": "code",
        "outputId": "2fe9b986-33ed-47ae-dc6c-7c6f456a232b",
        "colab": {
          "base_uri": "https://localhost:8080/",
          "height": 139
        }
      },
      "source": [
        "mu = 6.32\n",
        "sigma = 2.3\n",
        "confianza = 0.95\n",
        "N = 100\n",
        "\n",
        "import numpy as np\n",
        "import scipy.stats\n",
        "\n",
        "def media_intervalo(confianza, mu , sigma, N) : \n",
        "\n",
        "  #E=scipy.stats.norm.ppf((1-(1-confianza/100)/2), mu, sigma/np.sqrt(N))-mu\n",
        "\n",
        "  alpha = 1-confianza\n",
        "  #pmax = (1-(1-confianza)/2)\n",
        "  pmax = confianza+(alpha)/2\n",
        "  zcritico=scipy.stats.norm.ppf(pmax)\n",
        "  E=zcritico*sigma/np.sqrt(N)\n",
        "\n",
        "  return alpha,pmax,zcritico,E,mu-E,mu+E,scipy.stats.norm.interval(confianza, loc=mu, scale=sigma/np.sqrt(N))\n",
        "\n",
        "def proporcion_intervalo(confianza, aciertos, N) : \n",
        "\n",
        "  #E=scipy.stats.norm.ppf((1-(1-confianza/100)/2), mu, sigma/np.sqrt(N))-mu\n",
        "  proporcion_muestral = aciertos/N\n",
        "  alpha = 1-confianza\n",
        "  #pmax = (1-(1-confianza)/2)\n",
        "  pmax = confianza+(alpha)/2\n",
        "  zcritico=scipy.stats.norm.ppf(pmax)\n",
        "  E=zcritico*np.sqrt(proporcion_muestral*(1-proporcion_muestral)/N)\n",
        "\n",
        "  return proporcion_muestral, alpha,pmax,zcritico,E,proporcion_muestral-E,proporcion_muestral+E,scipy.stats.norm.interval(confianza, loc=aciertos/N, scale=np.sqrt(((aciertos/N)*(1-aciertos/N))/N))\n",
        "\n",
        "media_intervalo(confianza, mu , sigma, N)\n"
      ],
      "execution_count": 0,
      "outputs": [
        {
          "output_type": "execute_result",
          "data": {
            "text/plain": [
              "(0.050000000000000044,\n",
              " 0.975,\n",
              " 1.959963984540054,\n",
              " 0.4507917164442124,\n",
              " 5.869208283555788,\n",
              " 6.770791716444212,\n",
              " (5.869208283555788, 6.770791716444212))"
            ]
          },
          "metadata": {
            "tags": []
          },
          "execution_count": 4
        }
      ]
    },
    {
      "cell_type": "markdown",
      "metadata": {
        "id": "UwRAK3GxnO7d",
        "colab_type": "text"
      },
      "source": [
        "### Septiembre 2012\n",
        "La cantidad de refresco que se sirve en cada vaso a la entrada de unos cines está\n",
        "normalmente distribuida con una desviación típica de 15 ml. Hemos medido las cantidades en los vasos de\n",
        "los 25 asistentes de una determinada sesión que compraron un refresco y hemos obtenido un promedio de\n",
        "200,8 ml. Fijado un nivel de confianza del 90%, calcular el intervalo de confianza para la media de la\n",
        "cantidad de refresco que se sirve en cada vaso."
      ]
    },
    {
      "cell_type": "code",
      "metadata": {
        "id": "S0FGu_8WnRu2",
        "colab_type": "code",
        "outputId": "530cbd8f-2077-4c48-d33e-92fafea38713",
        "colab": {
          "base_uri": "https://localhost:8080/",
          "height": 164
        }
      },
      "source": [
        "mu = 200.8\n",
        "sigma = 15\n",
        "N = 25\n",
        "confianza = 0.90\n",
        "\n",
        "scipy.stats.norm.interval(confianza, loc=mu, scale=sigma/np.sqrt(N)), media_intervalo(confianza, mu , sigma, N)\n",
        "\n"
      ],
      "execution_count": 0,
      "outputs": [
        {
          "output_type": "execute_result",
          "data": {
            "text/plain": [
              "((195.8654391191456, 205.73456088085442),\n",
              " (0.09999999999999998,\n",
              "  0.95,\n",
              "  1.6448536269514722,\n",
              "  4.934560880854416,\n",
              "  195.8654391191456,\n",
              "  205.73456088085442,\n",
              "  (195.8654391191456, 205.73456088085442)))"
            ]
          },
          "metadata": {
            "tags": []
          },
          "execution_count": 12
        }
      ]
    },
    {
      "cell_type": "markdown",
      "metadata": {
        "id": "Ta5Vqs5FFH3k",
        "colab_type": "text"
      },
      "source": [
        "### Septiembre 2017\n",
        "\n",
        "La duración de las bombillas de un fabricante es una variable aleatoria con distribución\n",
        "normal de desviación típica 75 horas. Decidimos tomar un tamaño de la muestra igual a 150, comprobamos la duración de cada\n",
        "bombilla y calculamos su promedio, que resulta ser 1053 horas. Calcular el intervalo de confianza al 98\\%\n",
        "para la media de la duración de las bombillas del fabricante."
      ]
    },
    {
      "cell_type": "code",
      "metadata": {
        "id": "ac8gaIxuFYjN",
        "colab_type": "code",
        "outputId": "f8933c9e-f30e-44ec-adb4-a114b6167e6a",
        "colab": {
          "base_uri": "https://localhost:8080/",
          "height": 156
        }
      },
      "source": [
        "mu = 1053\n",
        "sigma = 75\n",
        "N = 150\n",
        "confianza = 0.98\n",
        "\n",
        "scipy.stats.norm.interval(confianza, loc=mu, scale=sigma/np.sqrt(N)), media_intervalo(confianza, mu , sigma, N)"
      ],
      "execution_count": 0,
      "outputs": [
        {
          "output_type": "execute_result",
          "data": {
            "text/plain": [
              "((1038.7540868609788, 1067.2459131390212),\n",
              " (0.020000000000000018,\n",
              "  0.99,\n",
              "  2.3263478740408408,\n",
              "  14.24591313902123,\n",
              "  1038.7540868609788,\n",
              "  1067.2459131390212,\n",
              "  (1038.7540868609788, 1067.2459131390212)))"
            ]
          },
          "metadata": {
            "tags": []
          },
          "execution_count": 5
        }
      ]
    },
    {
      "cell_type": "markdown",
      "metadata": {
        "id": "Tu-VQCBaK72f",
        "colab_type": "text"
      },
      "source": [
        "### Cálculo del tamaño de una muestra\n",
        "\n",
        "Se desea realizar una investigación para estimar el peso medio de los recién nacidos de madres fumadoras. Se admite un error máximo de 50 gramos, con una confianza del 95%. Si por estudios anteriores se sabe que la desviación típica del peso medio de tales recién nacidos es de 400 gramos, ¿qué tamaño mínimo de muestra se necesita en la investigación?\n"
      ]
    },
    {
      "cell_type": "code",
      "metadata": {
        "id": "d6-1-t2w6ObT",
        "colab_type": "code",
        "outputId": "3ecad6ef-1808-41de-bdaf-96f54955b68b",
        "colab": {
          "base_uri": "https://localhost:8080/",
          "height": 35
        }
      },
      "source": [
        "import math \n",
        "\n",
        "E = 50\n",
        "confianza = 0.91\n",
        "sigma = 400\n",
        "\n",
        "def error_max_media(confianza, sigma, E) :\n",
        "  alpha = 1-confianza\n",
        "  #pmax = (1-(1-confianza)/2)\n",
        "  pmax = confianza+(alpha)/2\n",
        "  zcritico=scipy.stats.norm.ppf(pmax)\n",
        "  n=(zcritico*sigma/E)**2\n",
        "  return alpha, pmax, round(zcritico,4), round(n,4), math.ceil(n)\n",
        "\n",
        "error_max_media(confianza, sigma, E)\n",
        "\n",
        "\n",
        "def error_max_proporcion(confianza, proporcion, E) :\n",
        "  alpha = 1-confianza\n",
        "  #pmax = (1-(1-confianza)/2)\n",
        "  pmax = confianza+(alpha)/2\n",
        "  zcritico=scipy.stats.norm.ppf(pmax)\n",
        "  n=(proporcion*(1-proporcion))/(E/zcritico)**2\n",
        "  return alpha, pmax, round(zcritico,4), round(n,4), math.ceil(n)\n",
        "\n",
        "error_max_media(confianza, sigma, E)"
      ],
      "execution_count": 0,
      "outputs": [
        {
          "output_type": "execute_result",
          "data": {
            "text/plain": [
              "(0.08999999999999997, 0.9550000000000001, 1.6954, 183.9599, 184)"
            ]
          },
          "metadata": {
            "tags": []
          },
          "execution_count": 2
        }
      ]
    },
    {
      "cell_type": "code",
      "metadata": {
        "id": "52mm-TJ3XkHQ",
        "colab_type": "code",
        "outputId": "5aeb9a46-ea30-45ee-b496-46dee564c5d0",
        "colab": {
          "base_uri": "https://localhost:8080/",
          "height": 35
        }
      },
      "source": [
        "E = 0.04\n",
        "proporcion = 0.5\n",
        "confianza = 0.91\n",
        "\n",
        "error_max_proporcion(confianza, proporcion, E)"
      ],
      "execution_count": 0,
      "outputs": [
        {
          "output_type": "execute_result",
          "data": {
            "text/plain": [
              "(0.08999999999999997, 0.9550000000000001, 1.6954, 449.1208, 450)"
            ]
          },
          "metadata": {
            "tags": []
          },
          "execution_count": 3
        }
      ]
    },
    {
      "cell_type": "markdown",
      "metadata": {
        "id": "s1rIXyu9XkzZ",
        "colab_type": "text"
      },
      "source": [
        "- Deseamos valorar el grado de conocimientos en historia de una población\n",
        "de varios miles de estudiantes. Sabemos\n",
        "que σ = 2,3. Nos proponemos estimar μ pasando una prueba a 100\n",
        "estudiantes.\n",
        "a) Calcular el intervalo característico\n",
        "para $\\overline{x}$\n",
        "correspondiente a una probabilidad de 0,95\n",
        "\n",
        "- Una vez realizada la prueba a 100 estudiantes concretos, se ha obtenido una\n",
        "media $\\overline{x}$ = 6,32.\n",
        "b) Hallar el intervalo de confianza de\n",
        "μ con un nivel de confianza del\n",
        "95 %.\n"
      ]
    },
    {
      "cell_type": "markdown",
      "metadata": {
        "id": "0tpv7OCcOMYp",
        "colab_type": "text"
      },
      "source": [
        "### Junio 2018 Estimación de la proporción por intervalo de confianza\n",
        "\n",
        "Para estimar la proporción de personas con sobrepeso en una población se ha tomado una\n",
        "muestra aleatoria simple de tamaño 100 personas, de las cuales 21 tienen sobrepeso. Calcular el intervalo\n",
        "de confianza al 96% para la proporción de personas con sobrepeso en la población.\n",
        "\n"
      ]
    },
    {
      "cell_type": "code",
      "metadata": {
        "id": "6lZVzgYWOdmc",
        "colab_type": "code",
        "outputId": "efc6bb33-5c49-458f-d77d-3cf5cf9f8a68",
        "colab": {
          "base_uri": "https://localhost:8080/",
          "height": 164
        }
      },
      "source": [
        "proporcion_intervalo(0.96, 21, 100)"
      ],
      "execution_count": 0,
      "outputs": [
        {
          "output_type": "execute_result",
          "data": {
            "text/plain": [
              "(0.21,\n",
              " 0.040000000000000036,\n",
              " 0.98,\n",
              " 2.0537489106318225,\n",
              " 0.08365088482115177,\n",
              " 0.12634911517884823,\n",
              " 0.29365088482115176,\n",
              " (0.12634911517884823, 0.29365088482115176))"
            ]
          },
          "metadata": {
            "tags": []
          },
          "execution_count": 9
        }
      ]
    },
    {
      "cell_type": "markdown",
      "metadata": {
        "id": "ErJBN13qmwNh",
        "colab_type": "text"
      },
      "source": [
        "## Ejercicios de distribuciones muestrales\n",
        "\n",
        "\n",
        "Se ha seleccionado una muestra al azar de 50 mujeres de una población de mayores\n",
        "de 18 años. Se desconoce la talla media de la población, pero en la muestra se ha\n",
        "observado que la media de las 50 tallas es 1,60 m. Si se sabe por otros estudios que\n",
        "la desviación típica en la población es de 3,3 cm, determina la probabilidad de que la\n",
        "media de la población no difiere en más de 1 cm de la de la muestra.\n"
      ]
    },
    {
      "cell_type": "code",
      "metadata": {
        "id": "NoM0c8tum_mV",
        "colab_type": "code",
        "outputId": "246cb20e-5886-4d80-fcce-243e0f4fda11",
        "colab": {
          "base_uri": "https://localhost:8080/",
          "height": 35
        }
      },
      "source": [
        "n = 50\n",
        "\n",
        "media_muestral = 1.60\n",
        "\n",
        "sigma = 3.3\n",
        "\n",
        "error_maximo = 1\n",
        "\n",
        "Z = Normal('Z',0,1)\n",
        "X = Normal('X',media_muestral,sigma/sqrt(n))\n",
        "\n",
        "P(And(X>media_muestral-error_maximo,X<media_muestral+error_maximo)), P(And(Z>-1/(sigma/sqrt(n)),Z<1/(sigma/sqrt(n)))), sigma/sqrt(n).evalf(2)\n",
        "#P(And(3<=X, X<4.5))\n",
        "\n",
        "\n",
        "\n",
        "\n"
      ],
      "execution_count": 0,
      "outputs": [
        {
          "output_type": "execute_result",
          "data": {
            "text/plain": [
              "(0.967866646858422, 0.967866646858422, 0.466479492187500)"
            ]
          },
          "metadata": {
            "tags": []
          },
          "execution_count": 10
        }
      ]
    }
  ]
}
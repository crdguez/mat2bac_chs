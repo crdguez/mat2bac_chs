{
  "nbformat": 4,
  "nbformat_minor": 0,
  "metadata": {
    "colab": {
      "name": "matrices.ipynb",
      "provenance": [],
      "collapsed_sections": [],
      "include_colab_link": true
    },
    "kernelspec": {
      "name": "python3",
      "display_name": "Python 3"
    }
  },
  "cells": [
    {
      "cell_type": "markdown",
      "metadata": {
        "id": "view-in-github",
        "colab_type": "text"
      },
      "source": [
        "<a href=\"https://colab.research.google.com/github/crdguez/mat2bac_chs/blob/master/notebooks/matrices.ipynb\" target=\"_parent\"><img src=\"https://colab.research.google.com/assets/colab-badge.svg\" alt=\"Open In Colab\"/></a>"
      ]
    },
    {
      "cell_type": "code",
      "metadata": {
        "id": "-cVvkLt0Yl6m",
        "colab_type": "code",
        "colab": {}
      },
      "source": [
        "#!pip install sympy"
      ],
      "execution_count": 0,
      "outputs": []
    },
    {
      "cell_type": "code",
      "metadata": {
        "id": "fkQeaZkrY0PY",
        "colab_type": "code",
        "colab": {}
      },
      "source": [
        "from sympy import *\n",
        "# init_session()\n",
        "from __future__ import division\n",
        "x, y, z, t = symbols('x y z t')\n",
        "k, m, n = symbols('k m n', integer=True)\n",
        "f, g, h = symbols('f g h', cls=Function)\n",
        "init_printing()\n"
      ],
      "execution_count": 0,
      "outputs": []
    },
    {
      "cell_type": "code",
      "metadata": {
        "id": "eSlSnZI5Zh4W",
        "colab_type": "code",
        "outputId": "de9149ad-7254-4835-8aa1-98976accefb7",
        "colab": {
          "base_uri": "https://localhost:8080/",
          "height": 476
        }
      },
      "source": [
        "# p3. e1\n",
        "\n",
        "A = Matrix([[1,2],[-2,3]])\n",
        "B = Matrix([[0,3],[1,2]])\n",
        "C = Matrix([[-1,3],[0,-2]])\n",
        "\n",
        "pprint(A), pprint(B),pprint(C)\n",
        "pprint(\"A+B-C:\")\n",
        "pprint(A+B-C)\n",
        "pprint(\"A-B+C:\")\n",
        "pprint(A-B+C)\n",
        "pprint(\"2*A-3*B:\")\n",
        "pprint(2*A-3*B)\n",
        "pprint(\"A-2*B+3*C:\")\n",
        "pprint(A-2*B+3*C)\n"
      ],
      "execution_count": 0,
      "outputs": [
        {
          "output_type": "stream",
          "text": [
            "⎡1   2⎤\n",
            "⎢     ⎥\n",
            "⎣-2  3⎦\n",
            "⎡0  3⎤\n",
            "⎢    ⎥\n",
            "⎣1  2⎦\n",
            "⎡-1  3 ⎤\n",
            "⎢      ⎥\n",
            "⎣0   -2⎦\n",
            "A+B-C:\n",
            "⎡2   2⎤\n",
            "⎢     ⎥\n",
            "⎣-1  7⎦\n",
            "A-B+C:\n",
            "⎡0   2 ⎤\n",
            "⎢      ⎥\n",
            "⎣-3  -1⎦\n",
            "2*A-3*B:\n",
            "⎡2   -5⎤\n",
            "⎢      ⎥\n",
            "⎣-7  0 ⎦\n",
            "A-2*B+3*C:\n",
            "⎡-2  5 ⎤\n",
            "⎢      ⎥\n",
            "⎣-4  -7⎦\n"
          ],
          "name": "stdout"
        }
      ]
    },
    {
      "cell_type": "code",
      "metadata": {
        "colab_type": "code",
        "outputId": "10da3dd1-c7b3-4eff-fa73-ffbc4958d734",
        "id": "-OdL4aFRcSUy",
        "colab": {
          "base_uri": "https://localhost:8080/",
          "height": 72
        }
      },
      "source": [
        "# p3. e2\n",
        "\n",
        "A = Matrix([[1,5,6],[2,8,4]])\n",
        "B = Matrix([[1,0,4],[-2,7,3]])\n",
        "\n",
        "\n",
        "pprint(3*A-B)"
      ],
      "execution_count": 0,
      "outputs": [
        {
          "output_type": "stream",
          "text": [
            "⎡2  15  14⎤\n",
            "⎢         ⎥\n",
            "⎣8  17  9 ⎦\n"
          ],
          "name": "stdout"
        }
      ]
    },
    {
      "cell_type": "code",
      "metadata": {
        "colab_type": "code",
        "outputId": "a1e057e4-76bb-4020-c400-96eb6234bc3c",
        "id": "1p-MYQC89YeZ",
        "colab": {
          "base_uri": "https://localhost:8080/",
          "height": 182
        }
      },
      "source": [
        "A = Matrix([[1,2],[-2,3]])\n",
        "B = Matrix([[0,3],[1,2]])\n",
        "C = Matrix([[-1,3],[0,-2]])\n",
        "\n",
        "pprint(A*B)\n",
        "pprint(B.transpose())\n",
        "B.rank()\n",
        "pprint(B.inv())"
      ],
      "execution_count": 0,
      "outputs": [
        {
          "output_type": "stream",
          "text": [
            "⎡2  7⎤\n",
            "⎢    ⎥\n",
            "⎣3  0⎦\n",
            "⎡0  1⎤\n",
            "⎢    ⎥\n",
            "⎣3  2⎦\n",
            "⎡-2/3  1⎤\n",
            "⎢       ⎥\n",
            "⎣1/3   0⎦\n"
          ],
          "name": "stdout"
        }
      ]
    },
    {
      "cell_type": "code",
      "metadata": {
        "id": "d_Ox16SUccqB",
        "colab_type": "code",
        "outputId": "fea9ebf1-3425-41ab-895c-c3ad0fee5e41",
        "colab": {
          "base_uri": "https://localhost:8080/",
          "height": 109
        }
      },
      "source": [
        "#p4.ej1\n",
        "\n",
        "a, b, c, d = symbols('a b c d')\n",
        "\n",
        "# solución\n",
        "\n",
        "SOL = Matrix([[a,7],[-2,3*d]])+Matrix([[5,a+b],[c+d,4]])-2*Matrix([[a,b],[c,d]])\n",
        "\n",
        "#a, b, c, d = [5,12,-6,-4]\n",
        "# comprobación: \n",
        "pprint(SOL)\n",
        "\n",
        "sistema = [i for i in SOL]\n",
        "#[sistema.append(i) for i in SOL]\n",
        "#[[sistema.append(SOL)]]\n",
        "SOL.shape[0]\n",
        "#pprint(sistema)\n",
        "pprint(solve(sistema,(a,b,c,d)))\n",
        "\n",
        "\n",
        "\n"
      ],
      "execution_count": 0,
      "outputs": [
        {
          "output_type": "stream",
          "text": [
            "⎡  -a + 5    a - b + 7⎤\n",
            "⎢                     ⎥\n",
            "⎣-c + d - 2    d + 4  ⎦\n",
            "[-a + 5, a - b + 7, -c + d - 2, d + 4]\n",
            "{a: 5, b: 12, c: -6, d: -4}\n"
          ],
          "name": "stdout"
        }
      ]
    },
    {
      "cell_type": "code",
      "metadata": {
        "id": "B98Q1_D1qmpt",
        "colab_type": "code",
        "outputId": "9dcf79d7-8232-444d-b4e1-fe7629b8a594",
        "colab": {
          "base_uri": "https://localhost:8080/",
          "height": 364
        }
      },
      "source": [
        "# p5.ej11\n",
        "\n",
        "A, B = Matrix([[2,1],[3,0]]), Matrix([[6,2],[0,1]])\n",
        "\n",
        "sistema = [x+y-A,x-y-B]"
      ],
      "execution_count": 0,
      "outputs": [
        {
          "output_type": "error",
          "ename": "TypeError",
          "evalue": "ignored",
          "traceback": [
            "\u001b[0;31m---------------------------------------------------------------------------\u001b[0m",
            "\u001b[0;31mTypeError\u001b[0m                                 Traceback (most recent call last)",
            "\u001b[0;32m<ipython-input-40-5d512d3451c1>\u001b[0m in \u001b[0;36m<module>\u001b[0;34m()\u001b[0m\n\u001b[1;32m      2\u001b[0m \u001b[0mA\u001b[0m\u001b[0;34m,\u001b[0m \u001b[0mB\u001b[0m \u001b[0;34m=\u001b[0m \u001b[0mMatrix\u001b[0m\u001b[0;34m(\u001b[0m\u001b[0;34m[\u001b[0m\u001b[0;34m[\u001b[0m\u001b[0;36m2\u001b[0m\u001b[0;34m,\u001b[0m\u001b[0;36m1\u001b[0m\u001b[0;34m]\u001b[0m\u001b[0;34m,\u001b[0m\u001b[0;34m[\u001b[0m\u001b[0;36m3\u001b[0m\u001b[0;34m,\u001b[0m\u001b[0;36m0\u001b[0m\u001b[0;34m]\u001b[0m\u001b[0;34m]\u001b[0m\u001b[0;34m)\u001b[0m\u001b[0;34m,\u001b[0m \u001b[0mMatrix\u001b[0m\u001b[0;34m(\u001b[0m\u001b[0;34m[\u001b[0m\u001b[0;34m[\u001b[0m\u001b[0;36m6\u001b[0m\u001b[0;34m,\u001b[0m\u001b[0;36m2\u001b[0m\u001b[0;34m]\u001b[0m\u001b[0;34m,\u001b[0m\u001b[0;34m[\u001b[0m\u001b[0;36m0\u001b[0m\u001b[0;34m,\u001b[0m\u001b[0;36m1\u001b[0m\u001b[0;34m]\u001b[0m\u001b[0;34m]\u001b[0m\u001b[0;34m)\u001b[0m\u001b[0;34m\u001b[0m\u001b[0;34m\u001b[0m\u001b[0m\n\u001b[1;32m      3\u001b[0m \u001b[0;34m\u001b[0m\u001b[0m\n\u001b[0;32m----> 4\u001b[0;31m \u001b[0msistema\u001b[0m \u001b[0;34m=\u001b[0m \u001b[0;34m[\u001b[0m\u001b[0mx\u001b[0m\u001b[0;34m+\u001b[0m\u001b[0my\u001b[0m\u001b[0;34m-\u001b[0m\u001b[0mA\u001b[0m\u001b[0;34m,\u001b[0m\u001b[0mx\u001b[0m\u001b[0;34m-\u001b[0m\u001b[0my\u001b[0m\u001b[0;34m-\u001b[0m\u001b[0mB\u001b[0m\u001b[0;34m]\u001b[0m\u001b[0;34m\u001b[0m\u001b[0;34m\u001b[0m\u001b[0m\n\u001b[0m",
            "\u001b[0;32m/usr/local/lib/python3.6/dist-packages/sympy/core/decorators.py\u001b[0m in \u001b[0;36m__sympifyit_wrapper\u001b[0;34m(a, b)\u001b[0m\n\u001b[1;32m     89\u001b[0m                 \u001b[0;32mif\u001b[0m \u001b[0;32mnot\u001b[0m \u001b[0mhasattr\u001b[0m\u001b[0;34m(\u001b[0m\u001b[0mb\u001b[0m\u001b[0;34m,\u001b[0m \u001b[0;34m'_op_priority'\u001b[0m\u001b[0;34m)\u001b[0m\u001b[0;34m:\u001b[0m\u001b[0;34m\u001b[0m\u001b[0;34m\u001b[0m\u001b[0m\n\u001b[1;32m     90\u001b[0m                     \u001b[0mb\u001b[0m \u001b[0;34m=\u001b[0m \u001b[0msympify\u001b[0m\u001b[0;34m(\u001b[0m\u001b[0mb\u001b[0m\u001b[0;34m,\u001b[0m \u001b[0mstrict\u001b[0m\u001b[0;34m=\u001b[0m\u001b[0;32mTrue\u001b[0m\u001b[0;34m)\u001b[0m\u001b[0;34m\u001b[0m\u001b[0;34m\u001b[0m\u001b[0m\n\u001b[0;32m---> 91\u001b[0;31m                 \u001b[0;32mreturn\u001b[0m \u001b[0mfunc\u001b[0m\u001b[0;34m(\u001b[0m\u001b[0ma\u001b[0m\u001b[0;34m,\u001b[0m \u001b[0mb\u001b[0m\u001b[0;34m)\u001b[0m\u001b[0;34m\u001b[0m\u001b[0;34m\u001b[0m\u001b[0m\n\u001b[0m\u001b[1;32m     92\u001b[0m             \u001b[0;32mexcept\u001b[0m \u001b[0mSympifyError\u001b[0m\u001b[0;34m:\u001b[0m\u001b[0;34m\u001b[0m\u001b[0;34m\u001b[0m\u001b[0m\n\u001b[1;32m     93\u001b[0m                 \u001b[0;32mreturn\u001b[0m \u001b[0mretval\u001b[0m\u001b[0;34m\u001b[0m\u001b[0;34m\u001b[0m\u001b[0m\n",
            "\u001b[0;32m/usr/local/lib/python3.6/dist-packages/sympy/core/decorators.py\u001b[0m in \u001b[0;36mbinary_op_wrapper\u001b[0;34m(self, other)\u001b[0m\n\u001b[1;32m    129\u001b[0m                         \u001b[0;32mpass\u001b[0m\u001b[0;34m\u001b[0m\u001b[0;34m\u001b[0m\u001b[0m\n\u001b[1;32m    130\u001b[0m                     \u001b[0;32melse\u001b[0m\u001b[0;34m:\u001b[0m\u001b[0;34m\u001b[0m\u001b[0;34m\u001b[0m\u001b[0m\n\u001b[0;32m--> 131\u001b[0;31m                         \u001b[0;32mreturn\u001b[0m \u001b[0mf\u001b[0m\u001b[0;34m(\u001b[0m\u001b[0mself\u001b[0m\u001b[0;34m)\u001b[0m\u001b[0;34m\u001b[0m\u001b[0;34m\u001b[0m\u001b[0m\n\u001b[0m\u001b[1;32m    132\u001b[0m             \u001b[0;32mreturn\u001b[0m \u001b[0mfunc\u001b[0m\u001b[0;34m(\u001b[0m\u001b[0mself\u001b[0m\u001b[0;34m,\u001b[0m \u001b[0mother\u001b[0m\u001b[0;34m)\u001b[0m\u001b[0;34m\u001b[0m\u001b[0;34m\u001b[0m\u001b[0m\n\u001b[1;32m    133\u001b[0m         \u001b[0;32mreturn\u001b[0m \u001b[0mbinary_op_wrapper\u001b[0m\u001b[0;34m\u001b[0m\u001b[0;34m\u001b[0m\u001b[0m\n",
            "\u001b[0;32m/usr/local/lib/python3.6/dist-packages/sympy/core/decorators.py\u001b[0m in \u001b[0;36mbinary_op_wrapper\u001b[0;34m(self, other)\u001b[0m\n\u001b[1;32m    130\u001b[0m                     \u001b[0;32melse\u001b[0m\u001b[0;34m:\u001b[0m\u001b[0;34m\u001b[0m\u001b[0;34m\u001b[0m\u001b[0m\n\u001b[1;32m    131\u001b[0m                         \u001b[0;32mreturn\u001b[0m \u001b[0mf\u001b[0m\u001b[0;34m(\u001b[0m\u001b[0mself\u001b[0m\u001b[0;34m)\u001b[0m\u001b[0;34m\u001b[0m\u001b[0;34m\u001b[0m\u001b[0m\n\u001b[0;32m--> 132\u001b[0;31m             \u001b[0;32mreturn\u001b[0m \u001b[0mfunc\u001b[0m\u001b[0;34m(\u001b[0m\u001b[0mself\u001b[0m\u001b[0;34m,\u001b[0m \u001b[0mother\u001b[0m\u001b[0;34m)\u001b[0m\u001b[0;34m\u001b[0m\u001b[0;34m\u001b[0m\u001b[0m\n\u001b[0m\u001b[1;32m    133\u001b[0m         \u001b[0;32mreturn\u001b[0m \u001b[0mbinary_op_wrapper\u001b[0m\u001b[0;34m\u001b[0m\u001b[0;34m\u001b[0m\u001b[0m\n\u001b[1;32m    134\u001b[0m     \u001b[0;32mreturn\u001b[0m \u001b[0mpriority_decorator\u001b[0m\u001b[0;34m\u001b[0m\u001b[0;34m\u001b[0m\u001b[0m\n",
            "\u001b[0;32m/usr/local/lib/python3.6/dist-packages/sympy/matrices/common.py\u001b[0m in \u001b[0;36m__rsub__\u001b[0;34m(self, a)\u001b[0m\n\u001b[1;32m   2090\u001b[0m     \u001b[0;34m@\u001b[0m\u001b[0mcall_highest_priority\u001b[0m\u001b[0;34m(\u001b[0m\u001b[0;34m'__sub__'\u001b[0m\u001b[0;34m)\u001b[0m\u001b[0;34m\u001b[0m\u001b[0;34m\u001b[0m\u001b[0m\n\u001b[1;32m   2091\u001b[0m     \u001b[0;32mdef\u001b[0m \u001b[0m__rsub__\u001b[0m\u001b[0;34m(\u001b[0m\u001b[0mself\u001b[0m\u001b[0;34m,\u001b[0m \u001b[0ma\u001b[0m\u001b[0;34m)\u001b[0m\u001b[0;34m:\u001b[0m\u001b[0;34m\u001b[0m\u001b[0;34m\u001b[0m\u001b[0m\n\u001b[0;32m-> 2092\u001b[0;31m         \u001b[0;32mreturn\u001b[0m \u001b[0;34m(\u001b[0m\u001b[0;34m-\u001b[0m\u001b[0mself\u001b[0m\u001b[0;34m)\u001b[0m \u001b[0;34m+\u001b[0m \u001b[0ma\u001b[0m\u001b[0;34m\u001b[0m\u001b[0;34m\u001b[0m\u001b[0m\n\u001b[0m\u001b[1;32m   2093\u001b[0m \u001b[0;34m\u001b[0m\u001b[0m\n\u001b[1;32m   2094\u001b[0m     \u001b[0;34m@\u001b[0m\u001b[0mcall_highest_priority\u001b[0m\u001b[0;34m(\u001b[0m\u001b[0;34m'__rsub__'\u001b[0m\u001b[0;34m)\u001b[0m\u001b[0;34m\u001b[0m\u001b[0;34m\u001b[0m\u001b[0m\n",
            "\u001b[0;32m/usr/local/lib/python3.6/dist-packages/sympy/core/decorators.py\u001b[0m in \u001b[0;36mbinary_op_wrapper\u001b[0;34m(self, other)\u001b[0m\n\u001b[1;32m    130\u001b[0m                     \u001b[0;32melse\u001b[0m\u001b[0;34m:\u001b[0m\u001b[0;34m\u001b[0m\u001b[0;34m\u001b[0m\u001b[0m\n\u001b[1;32m    131\u001b[0m                         \u001b[0;32mreturn\u001b[0m \u001b[0mf\u001b[0m\u001b[0;34m(\u001b[0m\u001b[0mself\u001b[0m\u001b[0;34m)\u001b[0m\u001b[0;34m\u001b[0m\u001b[0;34m\u001b[0m\u001b[0m\n\u001b[0;32m--> 132\u001b[0;31m             \u001b[0;32mreturn\u001b[0m \u001b[0mfunc\u001b[0m\u001b[0;34m(\u001b[0m\u001b[0mself\u001b[0m\u001b[0;34m,\u001b[0m \u001b[0mother\u001b[0m\u001b[0;34m)\u001b[0m\u001b[0;34m\u001b[0m\u001b[0;34m\u001b[0m\u001b[0m\n\u001b[0m\u001b[1;32m    133\u001b[0m         \u001b[0;32mreturn\u001b[0m \u001b[0mbinary_op_wrapper\u001b[0m\u001b[0;34m\u001b[0m\u001b[0;34m\u001b[0m\u001b[0m\n\u001b[1;32m    134\u001b[0m     \u001b[0;32mreturn\u001b[0m \u001b[0mpriority_decorator\u001b[0m\u001b[0;34m\u001b[0m\u001b[0;34m\u001b[0m\u001b[0m\n",
            "\u001b[0;32m/usr/local/lib/python3.6/dist-packages/sympy/matrices/common.py\u001b[0m in \u001b[0;36m__add__\u001b[0;34m(self, other)\u001b[0m\n\u001b[1;32m   1962\u001b[0m             \u001b[0;32mreturn\u001b[0m \u001b[0mMatrixArithmetic\u001b[0m\u001b[0;34m.\u001b[0m\u001b[0m_eval_add\u001b[0m\u001b[0;34m(\u001b[0m\u001b[0mself\u001b[0m\u001b[0;34m,\u001b[0m \u001b[0mother\u001b[0m\u001b[0;34m)\u001b[0m\u001b[0;34m\u001b[0m\u001b[0;34m\u001b[0m\u001b[0m\n\u001b[1;32m   1963\u001b[0m \u001b[0;34m\u001b[0m\u001b[0m\n\u001b[0;32m-> 1964\u001b[0;31m         \u001b[0;32mraise\u001b[0m \u001b[0mTypeError\u001b[0m\u001b[0;34m(\u001b[0m\u001b[0;34m'cannot add %s and %s'\u001b[0m \u001b[0;34m%\u001b[0m \u001b[0;34m(\u001b[0m\u001b[0mtype\u001b[0m\u001b[0;34m(\u001b[0m\u001b[0mself\u001b[0m\u001b[0;34m)\u001b[0m\u001b[0;34m,\u001b[0m \u001b[0mtype\u001b[0m\u001b[0;34m(\u001b[0m\u001b[0mother\u001b[0m\u001b[0;34m)\u001b[0m\u001b[0;34m)\u001b[0m\u001b[0;34m)\u001b[0m\u001b[0;34m\u001b[0m\u001b[0;34m\u001b[0m\u001b[0m\n\u001b[0m\u001b[1;32m   1965\u001b[0m \u001b[0;34m\u001b[0m\u001b[0m\n\u001b[1;32m   1966\u001b[0m     \u001b[0;34m@\u001b[0m\u001b[0mcall_highest_priority\u001b[0m\u001b[0;34m(\u001b[0m\u001b[0;34m'__rdiv__'\u001b[0m\u001b[0;34m)\u001b[0m\u001b[0;34m\u001b[0m\u001b[0;34m\u001b[0m\u001b[0m\n",
            "\u001b[0;31mTypeError\u001b[0m: cannot add <class 'sympy.matrices.dense.MutableDenseMatrix'> and <class 'sympy.core.add.Add'>"
          ]
        }
      ]
    },
    {
      "cell_type": "code",
      "metadata": {
        "id": "-2tJVC5LWouv",
        "colab_type": "code",
        "outputId": "da8a66df-683f-4ca8-e4bc-63cf4e41a244",
        "colab": {
          "base_uri": "https://localhost:8080/",
          "height": 295
        }
      },
      "source": [
        "#P3.E8\n",
        "\n",
        "lista_matrices = [Matrix([[3, 2, 1],[-1,2,-3],[3,-4,9]]), Matrix([[0, 2, 1],[1,0,-1],[0,4,2]]), Matrix([[2, 1, 5, -1, 8],[-1,2,3,4,5],[1,3,8,4,13]])]\n",
        "#A = Matrix([[3, 2, 1],[-1,2,-3],[3,-4,9]])\n",
        "\n",
        "[pprint([i, i.LUdecomposition()[1], i.rank()]) for i in lista_matrices]"
      ],
      "execution_count": 0,
      "outputs": [
        {
          "output_type": "stream",
          "text": [
            "⎡⎡3   2   1 ⎤  ⎡3   2    1  ⎤   ⎤\n",
            "⎢⎢          ⎥  ⎢            ⎥   ⎥\n",
            "⎢⎢-1  2   -3⎥, ⎢0  8/3  -8/3⎥, 3⎥\n",
            "⎢⎢          ⎥  ⎢            ⎥   ⎥\n",
            "⎣⎣3   -4  9 ⎦  ⎣0   0    2  ⎦   ⎦\n",
            "⎡⎡0  2  1 ⎤  ⎡1  0  -1⎤   ⎤\n",
            "⎢⎢        ⎥  ⎢        ⎥   ⎥\n",
            "⎢⎢1  0  -1⎥, ⎢0  2  1 ⎥, 2⎥\n",
            "⎢⎢        ⎥  ⎢        ⎥   ⎥\n",
            "⎣⎣0  4  2 ⎦  ⎣0  0  0 ⎦   ⎦\n",
            "⎡⎡2   1  5  -1  8 ⎤  ⎡2   1    5    -1   8⎤   ⎤\n",
            "⎢⎢                ⎥  ⎢                    ⎥   ⎥\n",
            "⎢⎢-1  2  3  4   5 ⎥, ⎢0  5/2  11/2  7/2  9⎥, 3⎥\n",
            "⎢⎢                ⎥  ⎢                    ⎥   ⎥\n",
            "⎣⎣1   3  8  4   13⎦  ⎣0   0    0     1   0⎦   ⎦\n"
          ],
          "name": "stdout"
        },
        {
          "output_type": "execute_result",
          "data": {
            "text/plain": [
              "[None, None, None]"
            ]
          },
          "metadata": {
            "tags": []
          },
          "execution_count": 4
        }
      ]
    },
    {
      "cell_type": "code",
      "metadata": {
        "id": "x0AycbnUbV4x",
        "colab_type": "code",
        "outputId": "69a4b0a0-2d59-406b-8c90-ddb21ea30464",
        "colab": {
          "base_uri": "https://localhost:8080/",
          "height": 119
        }
      },
      "source": [
        "# P3.E8\n",
        "\n",
        "lista_matrices = [Matrix([[1,2,-1],[1,1,3],[5,-1,k]])]\n",
        "#A = Matrix([[3, 2, 1],[-1,2,-3],[3,-4,9]])\n",
        "\n",
        "[pprint([i, i.LUdecomposition()[1], i.rank()]) for i in lista_matrices]"
      ],
      "execution_count": 0,
      "outputs": [
        {
          "output_type": "stream",
          "text": [
            "⎡⎡1  2   -1⎤  ⎡1  2     -1  ⎤   ⎤\n",
            "⎢⎢         ⎥  ⎢             ⎥   ⎥\n",
            "⎢⎢1  1   3 ⎥, ⎢0  -1    4   ⎥, 3⎥\n",
            "⎢⎢         ⎥  ⎢             ⎥   ⎥\n",
            "⎣⎣5  -1  k ⎦  ⎣0  0   k - 39⎦   ⎦\n"
          ],
          "name": "stdout"
        },
        {
          "output_type": "execute_result",
          "data": {
            "text/plain": [
              "[None]"
            ]
          },
          "metadata": {
            "tags": []
          },
          "execution_count": 17
        }
      ]
    },
    {
      "cell_type": "code",
      "metadata": {
        "id": "4o4GMoq-3Lhk",
        "colab_type": "code",
        "outputId": "0d798307-c440-4f7c-8150-9c530f83a7a7",
        "colab": {
          "base_uri": "https://localhost:8080/",
          "height": 182
        }
      },
      "source": [
        "A, B = Matrix([[2,2],[2,a**2+a]]), Matrix([[2,1],[4,0]])\n",
        "SOL = A.inv('LU')*2*B\n",
        "pprint(SOL)"
      ],
      "execution_count": 0,
      "outputs": [
        {
          "output_type": "stream",
          "text": [
            "⎡        4               2     ⎤\n",
            "⎢2 - ──────────  1 + ──────────⎥\n",
            "⎢     2               2        ⎥\n",
            "⎢    a  + a - 2      a  + a - 2⎥\n",
            "⎢                              ⎥\n",
            "⎢      4              -2       ⎥\n",
            "⎢  ──────────      ──────────  ⎥\n",
            "⎢   2               2          ⎥\n",
            "⎣  a  + a - 2      a  + a - 2  ⎦\n"
          ],
          "name": "stdout"
        }
      ]
    }
  ]
}
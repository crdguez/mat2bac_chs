{
 "cells": [
  {
   "cell_type": "code",
   "execution_count": 1,
   "metadata": {
    "id": "-cVvkLt0Yl6m"
   },
   "outputs": [],
   "source": [
    "#!pip install sympy"
   ]
  },
  {
   "cell_type": "code",
   "execution_count": 2,
   "metadata": {
    "colab": {
     "base_uri": "https://localhost:8080/"
    },
    "id": "7ectzu81ZUGJ",
    "outputId": "ba961fbd-ee4a-41e4-9a0f-862f124d7e5a"
   },
   "outputs": [
    {
     "name": "stdout",
     "output_type": "stream",
     "text": [
      "IPython console for SymPy 1.8 (Python 3.6.13-64-bit) (ground types: gmpy)\n",
      "\n",
      "These commands were executed:\n",
      ">>> from __future__ import division\n",
      ">>> from sympy import *\n",
      ">>> x, y, z, t = symbols('x y z t')\n",
      ">>> k, m, n = symbols('k m n', integer=True)\n",
      ">>> f, g, h = symbols('f g h', cls=Function)\n",
      ">>> init_printing()\n",
      "\n",
      "Documentation can be found at https://docs.sympy.org/1.8/\n",
      "\n"
     ]
    }
   ],
   "source": [
    "from sympy import *\n",
    "init_session()"
   ]
  },
  {
   "cell_type": "code",
   "execution_count": 3,
   "metadata": {
    "id": "fkQeaZkrY0PY"
   },
   "outputs": [],
   "source": [
    "# from sympy import *\n",
    "\n",
    "# # init_session()\n",
    "\n",
    "# from __future__ import division\n",
    "# x, y, z, t = symbols('x y z t')\n",
    "# k, m, n = symbols('k m n', integer=True)\n",
    "# f, g, h = symbols('f g h', cls=Function)\n",
    "# init_printing()\n"
   ]
  },
  {
   "cell_type": "code",
   "execution_count": 4,
   "metadata": {
    "colab": {
     "base_uri": "https://localhost:8080/"
    },
    "id": "eSlSnZI5Zh4W",
    "outputId": "e6978dc7-9f5a-410e-e676-8ca930cc4893"
   },
   "outputs": [
    {
     "name": "stdout",
     "output_type": "stream",
     "text": [
      "⎡1   2⎤\n",
      "⎢     ⎥\n",
      "⎣-2  3⎦\n",
      "⎡0  3⎤\n",
      "⎢    ⎥\n",
      "⎣1  2⎦\n",
      "⎡-1  3 ⎤\n",
      "⎢      ⎥\n",
      "⎣0   -2⎦\n",
      "A+B-C:\n",
      "⎡2   2⎤\n",
      "⎢     ⎥\n",
      "⎣-1  7⎦\n",
      "A-B+C:\n",
      "⎡0   2 ⎤\n",
      "⎢      ⎥\n",
      "⎣-3  -1⎦\n",
      "2*A-3*B:\n",
      "⎡2   -5⎤\n",
      "⎢      ⎥\n",
      "⎣-7  0 ⎦\n",
      "A-2*B+3*C:\n",
      "⎡-2  5 ⎤\n",
      "⎢      ⎥\n",
      "⎣-4  -7⎦\n"
     ]
    }
   ],
   "source": [
    "# p3. e1\n",
    "\n",
    "A = Matrix([[1,2],[-2,3]])\n",
    "B = Matrix([[0,3],[1,2]])\n",
    "C = Matrix([[-1,3],[0,-2]])\n",
    "\n",
    "pprint(A), pprint(B),pprint(C)\n",
    "pprint(\"A+B-C:\")\n",
    "pprint(A+B-C)\n",
    "pprint(\"A-B+C:\")\n",
    "pprint(A-B+C)\n",
    "pprint(\"2*A-3*B:\")\n",
    "pprint(2*A-3*B)\n",
    "pprint(\"A-2*B+3*C:\")\n",
    "pprint(A-2*B+3*C)\n"
   ]
  },
  {
   "cell_type": "code",
   "execution_count": 5,
   "metadata": {
    "colab": {
     "base_uri": "https://localhost:8080/"
    },
    "id": "-OdL4aFRcSUy",
    "outputId": "e806e807-80c7-40e2-9d42-7a7005e5f3c1"
   },
   "outputs": [
    {
     "name": "stdout",
     "output_type": "stream",
     "text": [
      "⎡2  15  14⎤\n",
      "⎢         ⎥\n",
      "⎣8  17  9 ⎦\n"
     ]
    }
   ],
   "source": [
    "# p3. e2\n",
    "\n",
    "A = Matrix([[1,5,6],[2,8,4]])\n",
    "B = Matrix([[1,0,4],[-2,7,3]])\n",
    "\n",
    "\n",
    "pprint(3*A-B)"
   ]
  },
  {
   "cell_type": "code",
   "execution_count": 6,
   "metadata": {
    "colab": {
     "base_uri": "https://localhost:8080/",
     "height": 58
    },
    "id": "qo3a3muPZUGO",
    "outputId": "fe280da6-9d90-46a5-c281-ea2a83a440c0"
   },
   "outputs": [
    {
     "data": {
      "text/latex": [
       "$\\displaystyle \\left( \\left[\\begin{matrix}-1 & -1 & 14\\\\-12 & 134 & -21\\end{matrix}\\right], \\  \\left[\\begin{matrix}7 & 14 & -21\\\\28 & -196 & 49\\end{matrix}\\right]\\right)$"
      ],
      "text/plain": [
       "⎛⎡-1   -1   14 ⎤  ⎡7    14   -21⎤⎞\n",
       "⎜⎢             ⎥, ⎢             ⎥⎟\n",
       "⎝⎣-12  134  -21⎦  ⎣28  -196  49 ⎦⎠"
      ]
     },
     "execution_count": 6,
     "metadata": {},
     "output_type": "execute_result"
    }
   ],
   "source": [
    "# p3.e3\n",
    "A = Matrix([[5,12,7],[4,72,7]])\n",
    "B = Matrix([[11,25,0],[20,10,35]])\n",
    "X=2*A-B\n",
    "Y=A-2*X\n",
    "X,Y"
   ]
  },
  {
   "cell_type": "code",
   "execution_count": 7,
   "metadata": {
    "colab": {
     "base_uri": "https://localhost:8080/",
     "height": 78
    },
    "id": "1IiLaLpxZUGP",
    "outputId": "9b05a7f7-a5e0-40ed-cde5-e557318e604a"
   },
   "outputs": [
    {
     "data": {
      "text/latex": [
       "$\\displaystyle \\left[\\begin{matrix}1 & 0 & 0\\\\0 & 1 & 0\\\\0 & 0 & 1\\end{matrix}\\right]$"
      ],
      "text/plain": [
       "⎡1  0  0⎤\n",
       "⎢       ⎥\n",
       "⎢0  1  0⎥\n",
       "⎢       ⎥\n",
       "⎣0  0  1⎦"
      ]
     },
     "execution_count": 7,
     "metadata": {},
     "output_type": "execute_result"
    }
   ],
   "source": [
    "# p3.e4\n",
    "A = Matrix([[1,2,0],[0,0,1],[1,1,1]])\n",
    "B = Matrix([[-1,-2,2],[1,1,-1],[0,1,0]])\n",
    "A*B"
   ]
  },
  {
   "cell_type": "code",
   "execution_count": 8,
   "metadata": {
    "colab": {
     "base_uri": "https://localhost:8080/",
     "height": 58
    },
    "id": "LD--9IBAZUGQ",
    "outputId": "664648e9-a957-4bc0-e555-5979d475e69a"
   },
   "outputs": [
    {
     "data": {
      "text/latex": [
       "$\\displaystyle \\left( \\left[\\begin{matrix}23 & 12\\\\47 & 18\\end{matrix}\\right], \\  \\left[\\begin{matrix}45 & 40\\\\24 & 19\\end{matrix}\\right], \\  \\left[\\begin{matrix}231 & 196\\\\459 & 394\\end{matrix}\\right], \\  \\left[\\begin{matrix}80 & 56\\\\154 & 130\\end{matrix}\\right]\\right)$"
      ],
      "text/plain": [
       "⎛⎡23  12⎤  ⎡45  40⎤  ⎡231  196⎤  ⎡80   56 ⎤⎞\n",
       "⎜⎢      ⎥, ⎢      ⎥, ⎢        ⎥, ⎢        ⎥⎟\n",
       "⎝⎣47  18⎦  ⎣24  19⎦  ⎣459  394⎦  ⎣154  130⎦⎠"
      ]
     },
     "execution_count": 8,
     "metadata": {},
     "output_type": "execute_result"
    }
   ],
   "source": [
    "# p3.e5\n",
    "A = Matrix([[3,4],[7,6]])\n",
    "B = Matrix([[5,0],[2,3]])\n",
    "C = Matrix([[9,8],[2,1]])\n",
    "\n",
    "A*B, B*C, A*B*C, 2*(B+A*C)"
   ]
  },
  {
   "cell_type": "code",
   "execution_count": 9,
   "metadata": {
    "colab": {
     "base_uri": "https://localhost:8080/",
     "height": 78
    },
    "id": "ZqnVGxh8ZUGQ",
    "outputId": "7ecf242d-b968-4fe5-e9a5-9b928b3fca20"
   },
   "outputs": [
    {
     "data": {
      "text/latex": [
       "$\\displaystyle \\left( \\left[\\begin{matrix}5 & 20\\\\3 & 4\\\\-1 & -8\\end{matrix}\\right], \\  \\left[\\begin{matrix}5 & 20\\\\3 & 4\\\\-1 & -8\\end{matrix}\\right]\\right)$"
      ],
      "text/plain": [
       "⎛⎡5   20⎤  ⎡5   20⎤⎞\n",
       "⎜⎢      ⎥  ⎢      ⎥⎟\n",
       "⎜⎢3   4 ⎥, ⎢3   4 ⎥⎟\n",
       "⎜⎢      ⎥  ⎢      ⎥⎟\n",
       "⎝⎣-1  -8⎦  ⎣-1  -8⎦⎠"
      ]
     },
     "execution_count": 9,
     "metadata": {},
     "output_type": "execute_result"
    }
   ],
   "source": [
    "# p3.e6\n",
    "A = Matrix([[-1,3],[2,4]])\n",
    "B = Matrix([[4,0,-2],[3,1,-1]])\n",
    "\n",
    "(A*B).transpose(), B.transpose()*A.transpose()\n"
   ]
  },
  {
   "cell_type": "code",
   "execution_count": 10,
   "metadata": {
    "colab": {
     "base_uri": "https://localhost:8080/",
     "height": 47
    },
    "id": "jkzWyPswZUGR",
    "outputId": "785e117e-7091-4c57-9588-ca552649b7d2"
   },
   "outputs": [
    {
     "data": {
      "image/png": "[encoded data removed]",
      "text/latex": [
       "$\\displaystyle \\left[ \\left\\{ x : - \\sqrt{1 - z^{2}}, \\  y : \\sqrt{1 - z^{2}}\\right\\}, \\  \\left\\{ x : -1, \\  y : -1, \\  z : 0\\right\\}, \\  \\left\\{ x : 0, \\  y : 0, \\  z : -1\\right\\}, \\  \\left\\{ x : 0, \\  y : 0, \\  z : 1\\right\\}\\right]$"
      ],
      "text/plain": [
       "⎡⎧       ________        ________⎫                                            \n",
       "⎢⎨      ╱      2        ╱      2 ⎬                                            \n",
       "⎣⎩x: -╲╱  1 - z  , y: ╲╱  1 - z  ⎭, {x: -1, y: -1, z: 0}, {x: 0, y: 0, z: -1},\n",
       "\n",
       "                   ⎤\n",
       "                   ⎥\n",
       " {x: 0, y: 0, z: 1}⎦"
      ]
     },
     "execution_count": 10,
     "metadata": {},
     "output_type": "execute_result"
    }
   ],
   "source": [
    "# p3.e7\n",
    "A = Matrix([[x,z],[z,y]])\n",
    "\n",
    "A**2, eye(2)\n",
    "solve(A**2-eye(2))"
   ]
  },
  {
   "cell_type": "code",
   "execution_count": 11,
   "metadata": {
    "colab": {
     "base_uri": "https://localhost:8080/",
     "height": 78
    },
    "id": "MksHQR3LZUGS",
    "outputId": "83398dd1-eb19-4933-f7b5-bea34ce75d07"
   },
   "outputs": [
    {
     "data": {
      "text/latex": [
       "$\\displaystyle \\left( \\left[\\begin{matrix}3 & 2 & 1\\\\0 & \\frac{8}{3} & - \\frac{8}{3}\\\\0 & 0 & 2\\end{matrix}\\right], \\  3, \\  \\left[\\begin{matrix}1 & 0 & -1\\\\0 & 2 & 1\\\\0 & 0 & 0\\end{matrix}\\right], \\  2, \\  \\left[\\begin{matrix}2 & 1 & 5 & -1 & 8\\\\0 & \\frac{5}{2} & \\frac{11}{2} & \\frac{7}{2} & 9\\\\0 & 0 & 0 & 1 & 0\\end{matrix}\\right], \\  3\\right)$"
      ],
      "text/plain": [
       "⎛⎡3   2    1  ⎤     ⎡1  0  -1⎤     ⎡2   1    5    -1   8⎤   ⎞\n",
       "⎜⎢            ⎥     ⎢        ⎥     ⎢                    ⎥   ⎟\n",
       "⎜⎢0  8/3  -8/3⎥, 3, ⎢0  2  1 ⎥, 2, ⎢0  5/2  11/2  7/2  9⎥, 3⎟\n",
       "⎜⎢            ⎥     ⎢        ⎥     ⎢                    ⎥   ⎟\n",
       "⎝⎣0   0    2  ⎦     ⎣0  0  0 ⎦     ⎣0   0    0     1   0⎦   ⎠"
      ]
     },
     "execution_count": 11,
     "metadata": {},
     "output_type": "execute_result"
    }
   ],
   "source": [
    "# p3.e8\n",
    "A = Matrix([[3,2,1],[-1,2,-3],[3,-4,9]])\n",
    "B = Matrix([[0,2,1],[1,0,-1],[0,4,2]])\n",
    "C = Matrix([[2,1,5,-1,8],[-1,2,3,4,5],[1,3,8,4,13]])\n",
    "\n",
    "A.LUdecomposition()[1], A.rank(), B.LUdecomposition()[1], B.rank(), C.LUdecomposition()[1], C.rank()"
   ]
  },
  {
   "cell_type": "code",
   "execution_count": 12,
   "metadata": {
    "colab": {
     "base_uri": "https://localhost:8080/",
     "height": 78
    },
    "id": "PaqJ0srhZUGT",
    "outputId": "b9c29007-2140-4f9b-9817-b33c8854da84"
   },
   "outputs": [
    {
     "data": {
      "text/latex": [
       "$\\displaystyle \\left( \\left[\\begin{matrix}1 & -2 & 1\\\\0 & 3 & 2\\\\0 & 0 & k - 11\\end{matrix}\\right], \\  3\\right)$"
      ],
      "text/plain": [
       "⎛⎡1  -2    1   ⎤   ⎞\n",
       "⎜⎢             ⎥   ⎟\n",
       "⎜⎢0  3     2   ⎥, 3⎟\n",
       "⎜⎢             ⎥   ⎟\n",
       "⎝⎣0  0   k - 11⎦   ⎠"
      ]
     },
     "execution_count": 12,
     "metadata": {},
     "output_type": "execute_result"
    }
   ],
   "source": [
    "# p3.e9\n",
    "A = Matrix([[1,-2,1],[1,1,3],[5,-1,k]])\n",
    "\n",
    "A.LUdecomposition()[1], A.rank()"
   ]
  },
  {
   "cell_type": "code",
   "execution_count": 13,
   "metadata": {
    "colab": {
     "base_uri": "https://localhost:8080/",
     "height": 78
    },
    "id": "vjCpbqEjZUGW",
    "outputId": "41c2e4dc-51fd-4627-bae6-36af2b7f5c18"
   },
   "outputs": [
    {
     "data": {
      "text/latex": [
       "$\\displaystyle \\left( \\left[\\begin{matrix}3 & 2 & 1 & 1 & 0 & 0\\\\0 & \\frac{8}{3} & - \\frac{8}{3} & \\frac{1}{3} & 1 & 0\\\\0 & 0 & 2 & - \\frac{1}{4} & \\frac{9}{4} & 1\\end{matrix}\\right], \\  \\left[\\begin{matrix}\\frac{3}{8} & - \\frac{11}{8} & - \\frac{1}{2}\\\\0 & \\frac{3}{2} & \\frac{1}{2}\\\\- \\frac{1}{8} & \\frac{9}{8} & \\frac{1}{2}\\end{matrix}\\right]\\right)$"
      ],
      "text/plain": [
       "⎛⎡3   2    1     1     0   0⎤  ⎡3/8   -11/8  -1/2⎤⎞\n",
       "⎜⎢                          ⎥  ⎢                 ⎥⎟\n",
       "⎜⎢0  8/3  -8/3  1/3    1   0⎥, ⎢ 0     3/2   1/2 ⎥⎟\n",
       "⎜⎢                          ⎥  ⎢                 ⎥⎟\n",
       "⎝⎣0   0    2    -1/4  9/4  1⎦  ⎣-1/8   9/8   1/2 ⎦⎠"
      ]
     },
     "execution_count": 13,
     "metadata": {},
     "output_type": "execute_result"
    }
   ],
   "source": [
    "# p3.e10\n",
    "\n",
    "\n",
    "A = Matrix([[3,2,1],[-1,2,-3],[3,-4,9]])\n",
    "\n",
    "A.LUdecomposition()[1], A.rank()\n",
    "# for i in eye(3).rows:\n",
    "#     print(i)\n",
    "    \n",
    "# A.row_insert(eye(3))\n",
    "\n",
    "# eye(3).col(i)\n",
    "\n",
    "B=BlockMatrix([A,eye(3)]).as_explicit()\n",
    "B.LUdecomposition()[1],A.inv()\n"
   ]
  },
  {
   "cell_type": "code",
   "execution_count": 14,
   "metadata": {
    "colab": {
     "base_uri": "https://localhost:8080/"
    },
    "id": "d_Ox16SUccqB",
    "outputId": "7df42511-08d5-44f2-a1fe-c66eb9ce8374"
   },
   "outputs": [
    {
     "name": "stdout",
     "output_type": "stream",
     "text": [
      "⎡  5 - a     a - b + 7⎤\n",
      "⎢                     ⎥\n",
      "⎣-c + d - 2    d + 4  ⎦\n",
      "{a: 5, b: 12, c: -6, d: -4}\n"
     ]
    }
   ],
   "source": [
    "# p4 e1\n",
    "\n",
    "a, b, c, d = symbols('a b c d')\n",
    "\n",
    "# solución\n",
    "\n",
    "SOL = Matrix([[a,7],[-2,3*d]])+Matrix([[5,a+b],[c+d,4]])-2*Matrix([[a,b],[c,d]])\n",
    "\n",
    "#a, b, c, d = [5,12,-6,-4]\n",
    "# comprobación: \n",
    "pprint(SOL)\n",
    "\n",
    "sistema = [i for i in SOL]\n",
    "#[sistema.append(i) for i in SOL]\n",
    "#[[sistema.append(SOL)]]\n",
    "SOL.shape[0]\n",
    "#pprint(sistema)\n",
    "pprint(solve(sistema,(a,b,c,d)))\n",
    "\n",
    "\n",
    "\n"
   ]
  },
  {
   "cell_type": "code",
   "execution_count": 15,
   "metadata": {
    "colab": {
     "base_uri": "https://localhost:8080/",
     "height": 58
    },
    "id": "ibMHWXW0bG__",
    "outputId": "a94bb106-a62f-4bcc-f555-6f2e95030904"
   },
   "outputs": [
    {
     "data": {
      "text/latex": [
       "$\\displaystyle \\left( \\left[\\begin{matrix}5 & -1\\\\-1 & 1\\end{matrix}\\right], \\  \\left[\\begin{matrix}-2 & -3\\\\3 & 2\\end{matrix}\\right], \\  \\left[\\begin{matrix}29 & -15\\\\7 & -19\\end{matrix}\\right], \\  \\left[\\begin{matrix}9 & -6\\\\-8 & 2\\end{matrix}\\right], \\  \\left[\\begin{matrix}25 & -45\\\\-43 & 73\\end{matrix}\\right]\\right)$"
      ],
      "text/plain": [
       "⎛⎡5   -1⎤  ⎡-2  -3⎤  ⎡29  -15⎤  ⎡9   -6⎤  ⎡25   -45⎤⎞\n",
       "⎜⎢      ⎥, ⎢      ⎥, ⎢       ⎥, ⎢      ⎥, ⎢        ⎥⎟\n",
       "⎝⎣-1  1 ⎦  ⎣3   2 ⎦  ⎣7   -19⎦  ⎣-8  2 ⎦  ⎣-43  73 ⎦⎠"
      ]
     },
     "execution_count": 15,
     "metadata": {},
     "output_type": "execute_result"
    }
   ],
   "source": [
    "# p4.e2\n",
    "\n",
    "A = Matrix([[1,-1],[0,3]])\n",
    "B = Matrix([[4,0],[-1,-2]])\n",
    "C = Matrix([[-1,2],[-2,3]])\n",
    "\n",
    "A+B, A-B-C, 3*A+5*B-6*C, A*B-B*C, 2*A+3*A*C-5*B*C\n"
   ]
  },
  {
   "cell_type": "code",
   "execution_count": 16,
   "metadata": {
    "colab": {
     "base_uri": "https://localhost:8080/",
     "height": 78
    },
    "id": "ZNKBAjBMMD-n",
    "outputId": "79c6b576-0719-46e2-b7b3-8a1127feb4b0"
   },
   "outputs": [
    {
     "data": {
      "text/latex": [
       "$\\displaystyle \\left( \\left[\\begin{matrix}4 & -6 & -1\\\\8 & 13 & 13\\\\0 & 20 & 12\\end{matrix}\\right], \\  \\left[\\begin{matrix}2 & 1\\\\10 & 27\\end{matrix}\\right]\\right)$"
      ],
      "text/plain": [
       "⎛⎡4  -6  -1⎤          ⎞\n",
       "⎜⎢         ⎥  ⎡2   1 ⎤⎟\n",
       "⎜⎢8  13  13⎥, ⎢      ⎥⎟\n",
       "⎜⎢         ⎥  ⎣10  27⎦⎟\n",
       "⎝⎣0  20  12⎦          ⎠"
      ]
     },
     "execution_count": 16,
     "metadata": {},
     "output_type": "execute_result"
    }
   ],
   "source": [
    "# p4.e3\n",
    "\n",
    "A = Matrix([[1,-1],[2,3],[0,4]])\n",
    "B = Matrix([[4,-1,2],[0,5,3]])\n",
    "\n",
    "A*B, B*A"
   ]
  },
  {
   "cell_type": "code",
   "execution_count": 17,
   "metadata": {
    "colab": {
     "base_uri": "https://localhost:8080/",
     "height": 39
    },
    "id": "obEhqwq8MD-n",
    "outputId": "6b84376d-79ea-4669-f311-43bb68bcdc30"
   },
   "outputs": [
    {
     "data": {
      "image/png": "[encoded data removed]",
      "text/latex": [
       "$\\displaystyle \\left[ \\left\\{ a : 0, \\  b : 1\\right\\}, \\  \\left\\{ a : 1, \\  b : 0\\right\\}\\right]$"
      ],
      "text/plain": [
       "[{a: 0, b: 1}, {a: 1, b: 0}]"
      ]
     },
     "execution_count": 17,
     "metadata": {},
     "output_type": "execute_result"
    }
   ],
   "source": [
    "# p4.e4\n",
    "a, b, c, d = symbols('a b c d')\n",
    "A = Matrix([[a,0],[1,b]])\n",
    "\n",
    "\n",
    "solve(A*A-A)"
   ]
  },
  {
   "cell_type": "code",
   "execution_count": 18,
   "metadata": {
    "colab": {
     "base_uri": "https://localhost:8080/",
     "height": 39
    },
    "id": "UyuCAMWAMD-o",
    "outputId": "06b28f13-297e-4cc8-c29e-a0b2de33a39b"
   },
   "outputs": [
    {
     "data": {
      "image/png": "[encoded data removed]",
      "text/latex": [
       "$\\displaystyle \\left\\{ a : d, \\  c : 0\\right\\}$"
      ],
      "text/plain": [
       "{a: d, c: 0}"
      ]
     },
     "execution_count": 18,
     "metadata": {},
     "output_type": "execute_result"
    }
   ],
   "source": [
    "# p4.e5\n",
    "A = Matrix([[1,2],[0,1]])\n",
    "B = Matrix([[a,b],[c,d]])\n",
    "\n",
    "\n",
    "solve(A*B-B*A)"
   ]
  },
  {
   "cell_type": "code",
   "execution_count": 19,
   "metadata": {
    "colab": {
     "base_uri": "https://localhost:8080/",
     "height": 78
    },
    "id": "H1crTs1RMD-o",
    "outputId": "a7a64705-27c1-4762-b579-166c5cd97e23"
   },
   "outputs": [
    {
     "data": {
      "text/latex": [
       "$\\displaystyle \\left( \\left[\\begin{matrix}8\\\\4\\\\1\\end{matrix}\\right], \\  \\left[\\begin{matrix}3 & 5 & 7\\\\7 & 15 & 8\\end{matrix}\\right], \\  \\left[\\begin{matrix}4\\\\16\\end{matrix}\\right]\\right)$"
      ],
      "text/plain": [
       "⎛⎡8⎤                  ⎞\n",
       "⎜⎢ ⎥  ⎡3  5   7⎤  ⎡4 ⎤⎟\n",
       "⎜⎢4⎥, ⎢        ⎥, ⎢  ⎥⎟\n",
       "⎜⎢ ⎥  ⎣7  15  8⎦  ⎣16⎦⎟\n",
       "⎝⎣1⎦                  ⎠"
      ]
     },
     "execution_count": 19,
     "metadata": {},
     "output_type": "execute_result"
    }
   ],
   "source": [
    "# p4.e6\n",
    "\n",
    "A = Matrix([[1,2,3],[1,1,1],[0,1,-1]])\n",
    "B = Matrix([1,2,1])\n",
    "C = Matrix([[2,1,0],[3,4,5]])\n",
    "\n",
    "A*B, C*A, C*B\n"
   ]
  },
  {
   "cell_type": "code",
   "execution_count": 20,
   "metadata": {
    "colab": {
     "base_uri": "https://localhost:8080/",
     "height": 39
    },
    "id": "AKpiIPw3MD-p",
    "outputId": "3dff7833-9840-4ee5-c9ae-755fecc0bdb9"
   },
   "outputs": [
    {
     "data": {
      "image/png": "[encoded data removed]",
      "text/latex": [
       "$\\displaystyle \\left\\{ a : d, \\  c : 0\\right\\}$"
      ],
      "text/plain": [
       "{a: d, c: 0}"
      ]
     },
     "execution_count": 20,
     "metadata": {},
     "output_type": "execute_result"
    }
   ],
   "source": [
    "# p4.e7\n",
    "A = Matrix([[1,1],[0,1]])\n",
    "B = Matrix([[a,b],[c,d]])\n",
    "\n",
    "\n",
    "solve(A*B-B*A)"
   ]
  },
  {
   "cell_type": "code",
   "execution_count": 21,
   "metadata": {
    "colab": {
     "base_uri": "https://localhost:8080/",
     "height": 39
    },
    "id": "BosgFsAEMD-p",
    "outputId": "461a850a-99a3-40d3-8509-d7d27dced6d4"
   },
   "outputs": [
    {
     "data": {
      "image/png": "[encoded data removed]",
      "text/latex": [
       "$\\displaystyle \\left\\{ a : i, \\  b : 0, \\  c : 0, \\  d : h, \\  e : i, \\  f : 0\\right\\}$"
      ],
      "text/plain": [
       "{a: i, b: 0, c: 0, d: h, e: i, f: 0}"
      ]
     },
     "execution_count": 21,
     "metadata": {},
     "output_type": "execute_result"
    }
   ],
   "source": [
    "# p4.e7b\n",
    "a, b, c, d, e, f, g, h, i = symbols('a b c d e f g h i')\n",
    "A = Matrix([[0,0,0],[1,0,0],[1,1,0]])\n",
    "B = Matrix([[a,b,c],[d,e,f],[g,h,i]])\n",
    "\n",
    "solve(A*B-B*A)"
   ]
  },
  {
   "cell_type": "code",
   "execution_count": 22,
   "metadata": {
    "colab": {
     "base_uri": "https://localhost:8080/",
     "height": 78
    },
    "id": "BItdZ0UfMD-p",
    "outputId": "6ae8e391-a1e6-4cb1-f3e8-b18ab4cd09d0"
   },
   "outputs": [
    {
     "data": {
      "text/latex": [
       "$\\displaystyle \\left( \\left[\\begin{matrix}0 & 0 & 0\\\\0 & 0 & 0\\\\0 & 0 & 0\\end{matrix}\\right], \\  \\left[\\begin{matrix}0 & -3 & -4\\\\-1 & 4 & 5\\\\1 & -3 & -4\\end{matrix}\\right]\\right)$"
      ],
      "text/plain": [
       "⎛⎡0  0  0⎤  ⎡0   -3  -4⎤⎞\n",
       "⎜⎢       ⎥  ⎢          ⎥⎟\n",
       "⎜⎢0  0  0⎥, ⎢-1  4   5 ⎥⎟\n",
       "⎜⎢       ⎥  ⎢          ⎥⎟\n",
       "⎝⎣0  0  0⎦  ⎣1   -3  -4⎦⎠"
      ]
     },
     "execution_count": 22,
     "metadata": {},
     "output_type": "execute_result"
    }
   ],
   "source": [
    "# p4.e8\n",
    "A = Matrix([[0,3,4],[1,-4,-5],[-1,3,4]])\n",
    "A**3 + diag(1,1,1), A**10\n",
    "\n"
   ]
  },
  {
   "cell_type": "code",
   "execution_count": 23,
   "metadata": {
    "colab": {
     "base_uri": "https://localhost:8080/",
     "height": 78
    },
    "id": "Hwn4JRpLMD-q",
    "outputId": "01d317ff-b5ee-4bce-ed9f-d34661d0cff8"
   },
   "outputs": [
    {
     "data": {
      "text/latex": [
       "$\\displaystyle \\left( \\left[\\begin{matrix}1 & 2 & 6\\\\3 & -2 & 0\\end{matrix}\\right], \\  \\left[\\begin{matrix}3 & -15 & -10\\\\16 & 8 & -21\\end{matrix}\\right], \\  \\left[\\begin{matrix}7\\\\-1\\end{matrix}\\right], \\  \\left[\\begin{matrix}-11 & 3 & 12 & -18\\\\11 & -5 & -8 & -6\\end{matrix}\\right], \\  \\left[\\begin{matrix}7 & -1\\end{matrix}\\right], \\  \\left[\\begin{matrix}-4 & 0 & 3\\\\-5 & -3 & 12\\\\16 & -4 & -1\\end{matrix}\\right], \\  \\left[\\begin{matrix}14\\end{matrix}\\right], \\  \\left[\\begin{matrix}4 & 2 & 6\\\\2 & 1 & 3\\\\6 & 3 & 9\\end{matrix}\\right]\\right)$"
      ],
      "text/plain": [
       "⎛                                                               ⎡-4  0   3 ⎤  \n",
       "⎜⎡1  2   6⎤  ⎡3   -15  -10⎤  ⎡7 ⎤  ⎡-11  3   12  -18⎤           ⎢          ⎥  \n",
       "⎜⎢        ⎥, ⎢            ⎥, ⎢  ⎥, ⎢                ⎥, [7  -1], ⎢-5  -3  12⎥, \n",
       "⎜⎣3  -2  0⎦  ⎣16   8   -21⎦  ⎣-1⎦  ⎣11   -5  -8  -6 ⎦           ⎢          ⎥  \n",
       "⎝                                                               ⎣16  -4  -1⎦  \n",
       "\n",
       "      ⎡4  2  6⎤⎞\n",
       "      ⎢       ⎥⎟\n",
       "[14], ⎢2  1  3⎥⎟\n",
       "      ⎢       ⎥⎟\n",
       "      ⎣6  3  9⎦⎠"
      ]
     },
     "execution_count": 23,
     "metadata": {},
     "output_type": "execute_result"
    }
   ],
   "source": [
    "# p4.e9\n",
    "\n",
    "A = Matrix([[1,-1,2],[4,0,-3]])\n",
    "B = Matrix([[0,3,4],[-1,-2,3]])\n",
    "C = Matrix([[2,3,0,1],[-5,1,4,-2],[1,0,0,-3]])\n",
    "D = Matrix([2,1,3])\n",
    "\n",
    "A, B, C, D\n",
    "\n",
    "A+B, 3*A-4*B, A*D, B*C, D.transpose()*A.transpose(), B.transpose()*A, D.transpose()*D, D*D.transpose() "
   ]
  },
  {
   "cell_type": "code",
   "execution_count": 24,
   "metadata": {
    "colab": {
     "base_uri": "https://localhost:8080/",
     "height": 58
    },
    "id": "QvcWZ91xMD-q",
    "outputId": "de3e61aa-3d9d-4f04-c233-d8f21ea2f2e0"
   },
   "outputs": [
    {
     "data": {
      "text/latex": [
       "$\\displaystyle \\left( \\left[\\begin{matrix}0 & -1\\\\1 & 0\\end{matrix}\\right], \\  \\left[\\begin{matrix}-1 & 0\\\\0 & -1\\end{matrix}\\right], \\  \\left[\\begin{matrix}0 & 1\\\\-1 & 0\\end{matrix}\\right], \\  \\left[\\begin{matrix}1 & 0\\\\0 & 1\\end{matrix}\\right], \\  \\left[\\begin{matrix}0 & -1\\\\1 & 0\\end{matrix}\\right], \\  \\left[\\begin{matrix}-1 & 0\\\\0 & -1\\end{matrix}\\right], \\  \\left[\\begin{matrix}0 & -1\\\\1 & 0\\end{matrix}\\right], \\  \\left\\{ a : d, \\  b : - c\\right\\}\\right)$"
      ],
      "text/plain": [
       "⎛⎡0  -1⎤  ⎡-1  0 ⎤  ⎡0   1⎤  ⎡1  0⎤  ⎡0  -1⎤  ⎡-1  0 ⎤  ⎡0  -1⎤               \n",
       "⎜⎢     ⎥, ⎢      ⎥, ⎢     ⎥, ⎢    ⎥, ⎢     ⎥, ⎢      ⎥, ⎢     ⎥, {a: d, b: -c}\n",
       "⎝⎣1  0 ⎦  ⎣0   -1⎦  ⎣-1  0⎦  ⎣0  1⎦  ⎣1  0 ⎦  ⎣0   -1⎦  ⎣1  0 ⎦               \n",
       "\n",
       "⎞\n",
       "⎟\n",
       "⎠"
      ]
     },
     "execution_count": 24,
     "metadata": {},
     "output_type": "execute_result"
    }
   ],
   "source": [
    "# p5.e10\n",
    "A = Matrix([[0,-1],[1,0]])\n",
    "B = Matrix([[a,b],[c,d]])\n",
    "\n",
    "\n",
    "A, A**2, A**3, A**4, A**5, A**50, A**97, solve(A*B-B*A)"
   ]
  },
  {
   "cell_type": "code",
   "execution_count": 25,
   "metadata": {
    "colab": {
     "base_uri": "https://localhost:8080/",
     "height": 58
    },
    "id": "LAPhjjupMD-r",
    "outputId": "50c74f98-3a66-4eda-d8fb-b81d4055eca3"
   },
   "outputs": [
    {
     "data": {
      "text/latex": [
       "$\\displaystyle \\left( \\left[\\begin{matrix}- \\frac{1}{7} & \\frac{3}{7} & \\frac{4}{7}\\\\-1 & \\frac{3}{7} & \\frac{1}{7}\\end{matrix}\\right], \\  \\left[\\begin{matrix}\\frac{9}{7} & \\frac{8}{7} & \\frac{6}{7}\\\\0 & \\frac{1}{7} & - \\frac{2}{7}\\end{matrix}\\right]\\right)$"
      ],
      "text/plain": [
       "⎛⎡-1/7  3/7  4/7⎤  ⎡9/7  8/7  6/7 ⎤⎞\n",
       "⎜⎢              ⎥, ⎢              ⎥⎟\n",
       "⎝⎣ -1   3/7  1/7⎦  ⎣ 0   1/7  -2/7⎦⎠"
      ]
     },
     "execution_count": 25,
     "metadata": {},
     "output_type": "execute_result"
    }
   ],
   "source": [
    "# p5.e11i\n",
    "A = Matrix([[1,2,2],[-2,1,0]])\n",
    "B = Matrix([[-4,-3,-2],[-1,0,1]])\n",
    "\n",
    "\n",
    "Y=(A-2*B)/7\n",
    "X=(3*A+B)/7\n",
    "\n",
    "X, Y"
   ]
  },
  {
   "cell_type": "code",
   "execution_count": 26,
   "metadata": {
    "colab": {
     "base_uri": "https://localhost:8080/",
     "height": 58
    },
    "id": "dxpOImBlMD-r",
    "outputId": "46f74766-dbeb-4ee4-8c41-e1c36dd0c285"
   },
   "outputs": [
    {
     "data": {
      "text/latex": [
       "$\\displaystyle \\left( \\left[\\begin{matrix}4 & \\frac{3}{2}\\\\\\frac{3}{2} & \\frac{1}{2}\\end{matrix}\\right], \\  \\left[\\begin{matrix}-2 & - \\frac{1}{2}\\\\\\frac{3}{2} & - \\frac{1}{2}\\end{matrix}\\right]\\right)$"
      ],
      "text/plain": [
       "⎛⎡ 4   3/2⎤  ⎡-2   -1/2⎤⎞\n",
       "⎜⎢        ⎥, ⎢         ⎥⎟\n",
       "⎝⎣3/2  1/2⎦  ⎣3/2  -1/2⎦⎠"
      ]
     },
     "execution_count": 26,
     "metadata": {},
     "output_type": "execute_result"
    }
   ],
   "source": [
    "# p5.e11ii\n",
    "A = Matrix([[2,1],[3,0]])\n",
    "B = Matrix([[6,2],[0,1]])\n",
    "\n",
    "\n",
    "\n",
    "X=(A+B)/2\n",
    "Y=(A-B)/2\n",
    "\n",
    "X, Y"
   ]
  },
  {
   "cell_type": "code",
   "execution_count": 27,
   "metadata": {
    "colab": {
     "base_uri": "https://localhost:8080/",
     "height": 58
    },
    "id": "nwi63shCMD-r",
    "outputId": "16016a66-672b-47e8-9276-e8583501f552"
   },
   "outputs": [
    {
     "data": {
      "text/latex": [
       "$\\displaystyle \\left( \\left[\\begin{matrix}\\frac{5}{3} & \\frac{2}{3}\\\\\\frac{2}{3} & - \\frac{8}{3}\\end{matrix}\\right], \\  \\left[\\begin{matrix}- \\frac{1}{3} & - \\frac{1}{3}\\\\- \\frac{4}{3} & \\frac{10}{3}\\end{matrix}\\right], \\  \\left[\\begin{matrix}3 & 1\\\\0 & -2\\end{matrix}\\right], \\  \\left[\\begin{matrix}1 & 0\\\\-2 & 4\\end{matrix}\\right]\\right)$"
      ],
      "text/plain": [
       "⎛⎡5/3  2/3 ⎤  ⎡-1/3  -1/3⎤  ⎡3  1 ⎤  ⎡1   0⎤⎞\n",
       "⎜⎢         ⎥, ⎢          ⎥, ⎢     ⎥, ⎢     ⎥⎟\n",
       "⎝⎣2/3  -8/3⎦  ⎣-4/3  10/3⎦  ⎣0  -2⎦  ⎣-2  4⎦⎠"
      ]
     },
     "execution_count": 27,
     "metadata": {},
     "output_type": "execute_result"
    }
   ],
   "source": [
    "# p5.e11iii\n",
    "A = Matrix([[3,1],[0,-2]])\n",
    "B = Matrix([[1,0],[-2,4]])\n",
    "\n",
    "\n",
    "\n",
    "X=(-2*A+B)/(-3)\n",
    "Y=(A-2*B)/(-3)\n",
    "\n",
    "X, Y, 2*X+Y, X+2*Y\n",
    "\n"
   ]
  },
  {
   "cell_type": "code",
   "execution_count": 28,
   "metadata": {
    "colab": {
     "base_uri": "https://localhost:8080/",
     "height": 241
    },
    "id": "sWmAlUlUMD-s",
    "outputId": "fce98ad2-634c-40f3-972b-e5521e51be10"
   },
   "outputs": [
    {
     "data": {
      "text/latex": [
       "$\\displaystyle \\left[ \\left[\\begin{matrix}1 & 1\\\\1 & 1\\end{matrix}\\right], \\  \\left[\\begin{matrix}2 & 2\\\\2 & 2\\end{matrix}\\right], \\  \\left[\\begin{matrix}4 & 4\\\\4 & 4\\end{matrix}\\right], \\  \\left[\\begin{matrix}8 & 8\\\\8 & 8\\end{matrix}\\right], \\  \\left[\\begin{matrix}16 & 16\\\\16 & 16\\end{matrix}\\right], \\  \\left[\\begin{matrix}32 & 32\\\\32 & 32\\end{matrix}\\right]\\right]$"
      ],
      "text/plain": [
       "⎡⎡1  1⎤  ⎡2  2⎤  ⎡4  4⎤  ⎡8  8⎤  ⎡16  16⎤  ⎡32  32⎤⎤\n",
       "⎢⎢    ⎥, ⎢    ⎥, ⎢    ⎥, ⎢    ⎥, ⎢      ⎥, ⎢      ⎥⎥\n",
       "⎣⎣1  1⎦  ⎣2  2⎦  ⎣4  4⎦  ⎣8  8⎦  ⎣16  16⎦  ⎣32  32⎦⎦"
      ]
     },
     "metadata": {},
     "output_type": "display_data"
    },
    {
     "data": {
      "text/latex": [
       "$\\displaystyle \\left[ \\left[\\begin{matrix}1 & 0 & 1\\\\0 & 1 & 0\\\\0 & 0 & 1\\end{matrix}\\right], \\  \\left[\\begin{matrix}1 & 0 & 2\\\\0 & 1 & 0\\\\0 & 0 & 1\\end{matrix}\\right], \\  \\left[\\begin{matrix}1 & 0 & 3\\\\0 & 1 & 0\\\\0 & 0 & 1\\end{matrix}\\right], \\  \\left[\\begin{matrix}1 & 0 & 4\\\\0 & 1 & 0\\\\0 & 0 & 1\\end{matrix}\\right], \\  \\left[\\begin{matrix}1 & 0 & 5\\\\0 & 1 & 0\\\\0 & 0 & 1\\end{matrix}\\right], \\  \\left[\\begin{matrix}1 & 0 & 6\\\\0 & 1 & 0\\\\0 & 0 & 1\\end{matrix}\\right]\\right]$"
      ],
      "text/plain": [
       "⎡⎡1  0  1⎤  ⎡1  0  2⎤  ⎡1  0  3⎤  ⎡1  0  4⎤  ⎡1  0  5⎤  ⎡1  0  6⎤⎤\n",
       "⎢⎢       ⎥  ⎢       ⎥  ⎢       ⎥  ⎢       ⎥  ⎢       ⎥  ⎢       ⎥⎥\n",
       "⎢⎢0  1  0⎥, ⎢0  1  0⎥, ⎢0  1  0⎥, ⎢0  1  0⎥, ⎢0  1  0⎥, ⎢0  1  0⎥⎥\n",
       "⎢⎢       ⎥  ⎢       ⎥  ⎢       ⎥  ⎢       ⎥  ⎢       ⎥  ⎢       ⎥⎥\n",
       "⎣⎣0  0  1⎦  ⎣0  0  1⎦  ⎣0  0  1⎦  ⎣0  0  1⎦  ⎣0  0  1⎦  ⎣0  0  1⎦⎦"
      ]
     },
     "metadata": {},
     "output_type": "display_data"
    },
    {
     "data": {
      "text/latex": [
       "$\\displaystyle \\left[ \\left[\\begin{matrix}1 & 1 & 1\\\\1 & 1 & 1\\\\1 & 1 & 1\\end{matrix}\\right], \\  \\left[\\begin{matrix}3 & 3 & 3\\\\3 & 3 & 3\\\\3 & 3 & 3\\end{matrix}\\right], \\  \\left[\\begin{matrix}9 & 9 & 9\\\\9 & 9 & 9\\\\9 & 9 & 9\\end{matrix}\\right], \\  \\left[\\begin{matrix}27 & 27 & 27\\\\27 & 27 & 27\\\\27 & 27 & 27\\end{matrix}\\right], \\  \\left[\\begin{matrix}81 & 81 & 81\\\\81 & 81 & 81\\\\81 & 81 & 81\\end{matrix}\\right], \\  \\left[\\begin{matrix}243 & 243 & 243\\\\243 & 243 & 243\\\\243 & 243 & 243\\end{matrix}\\right]\\right]$"
      ],
      "text/plain": [
       "⎡⎡1  1  1⎤  ⎡3  3  3⎤  ⎡9  9  9⎤  ⎡27  27  27⎤  ⎡81  81  81⎤  ⎡243  243  243⎤⎤\n",
       "⎢⎢       ⎥  ⎢       ⎥  ⎢       ⎥  ⎢          ⎥  ⎢          ⎥  ⎢             ⎥⎥\n",
       "⎢⎢1  1  1⎥, ⎢3  3  3⎥, ⎢9  9  9⎥, ⎢27  27  27⎥, ⎢81  81  81⎥, ⎢243  243  243⎥⎥\n",
       "⎢⎢       ⎥  ⎢       ⎥  ⎢       ⎥  ⎢          ⎥  ⎢          ⎥  ⎢             ⎥⎥\n",
       "⎣⎣1  1  1⎦  ⎣3  3  3⎦  ⎣9  9  9⎦  ⎣27  27  27⎦  ⎣81  81  81⎦  ⎣243  243  243⎦⎦"
      ]
     },
     "metadata": {},
     "output_type": "display_data"
    },
    {
     "data": {
      "text/latex": [
       "$\\displaystyle \\left[ \\left[\\begin{matrix}1 & 1 & 1\\\\0 & 1 & 1\\\\0 & 0 & 1\\end{matrix}\\right], \\  \\left[\\begin{matrix}1 & 2 & 3\\\\0 & 1 & 2\\\\0 & 0 & 1\\end{matrix}\\right], \\  \\left[\\begin{matrix}1 & 3 & 6\\\\0 & 1 & 3\\\\0 & 0 & 1\\end{matrix}\\right], \\  \\left[\\begin{matrix}1 & 4 & 10\\\\0 & 1 & 4\\\\0 & 0 & 1\\end{matrix}\\right], \\  \\left[\\begin{matrix}1 & 5 & 15\\\\0 & 1 & 5\\\\0 & 0 & 1\\end{matrix}\\right], \\  \\left[\\begin{matrix}1 & 6 & 21\\\\0 & 1 & 6\\\\0 & 0 & 1\\end{matrix}\\right]\\right]$"
      ],
      "text/plain": [
       "⎡⎡1  1  1⎤  ⎡1  2  3⎤  ⎡1  3  6⎤  ⎡1  4  10⎤  ⎡1  5  15⎤  ⎡1  6  21⎤⎤\n",
       "⎢⎢       ⎥  ⎢       ⎥  ⎢       ⎥  ⎢        ⎥  ⎢        ⎥  ⎢        ⎥⎥\n",
       "⎢⎢0  1  1⎥, ⎢0  1  2⎥, ⎢0  1  3⎥, ⎢0  1  4 ⎥, ⎢0  1  5 ⎥, ⎢0  1  6 ⎥⎥\n",
       "⎢⎢       ⎥  ⎢       ⎥  ⎢       ⎥  ⎢        ⎥  ⎢        ⎥  ⎢        ⎥⎥\n",
       "⎣⎣0  0  1⎦  ⎣0  0  1⎦  ⎣0  0  1⎦  ⎣0  0  1 ⎦  ⎣0  0  1 ⎦  ⎣0  0  1 ⎦⎦"
      ]
     },
     "metadata": {},
     "output_type": "display_data"
    }
   ],
   "source": [
    "# p5.e12\n",
    "\n",
    "datos = [ones(2), Matrix([[1,0,1],[0,1,0],[0,0,1]]), ones(3), Matrix([[1,1,1],[0,1,1],[0,0,1]])]\n",
    "\n",
    "for A in datos :\n",
    "         display([A, A**2, A**3, A**4, A**5, A**6])"
   ]
  },
  {
   "cell_type": "code",
   "execution_count": 29,
   "metadata": {
    "colab": {
     "base_uri": "https://localhost:8080/",
     "height": 139
    },
    "id": "9c0vICDYMVcT",
    "outputId": "7ff6fe22-7f62-4e18-edbd-567cdbdf1ae3"
   },
   "outputs": [
    {
     "data": {
      "text/latex": [
       "$\\displaystyle \\left[ \\left[\\begin{matrix}1 & 0 & 1\\\\0 & 1 & -2\\end{matrix}\\right], \\  2\\right]$"
      ],
      "text/plain": [
       "⎡⎡1  0  1 ⎤   ⎤\n",
       "⎢⎢        ⎥, 2⎥\n",
       "⎣⎣0  1  -2⎦   ⎦"
      ]
     },
     "metadata": {},
     "output_type": "display_data"
    },
    {
     "data": {
      "text/latex": [
       "$\\displaystyle \\left[ \\left[\\begin{matrix}2 & -1 & 1 & 1\\\\0 & 2 & 0 & 0\\\\0 & 0 & 1 & 0\\\\0 & 0 & 0 & 1\\end{matrix}\\right], \\  4\\right]$"
      ],
      "text/plain": [
       "⎡⎡2  -1  1  1⎤   ⎤\n",
       "⎢⎢           ⎥   ⎥\n",
       "⎢⎢0  2   0  0⎥   ⎥\n",
       "⎢⎢           ⎥, 4⎥\n",
       "⎢⎢0  0   1  0⎥   ⎥\n",
       "⎢⎢           ⎥   ⎥\n",
       "⎣⎣0  0   0  1⎦   ⎦"
      ]
     },
     "metadata": {},
     "output_type": "display_data"
    }
   ],
   "source": [
    "# p5.e13\n",
    "\n",
    "datos = [Matrix([[1,0,1],[2,1,0]]),Matrix([[2,-1,1,1],[0,0,1,0],[2,1,1,1],[0,0,0,1]])]\n",
    "\n",
    "for A in datos :\n",
    "         display([A.LUdecomposition()[1],A.rank()])"
   ]
  },
  {
   "cell_type": "code",
   "execution_count": 30,
   "metadata": {
    "colab": {
     "base_uri": "https://localhost:8080/",
     "height": 185
    },
    "id": "RF29WfJJNy27",
    "outputId": "a2fbef2c-701c-4639-ad49-58e7e2fb0377"
   },
   "outputs": [
    {
     "data": {
      "text/latex": [
       "$\\displaystyle \\left[ \\left[\\begin{matrix}a - 2 & a + 2\\\\1 & 2\\end{matrix}\\right], \\  \\left[\\begin{matrix}1 & 2\\\\0 & 6 - a\\end{matrix}\\right], \\  2\\right]$"
      ],
      "text/plain": [
       "⎡⎡a - 2  a + 2⎤  ⎡1    2  ⎤   ⎤\n",
       "⎢⎢            ⎥, ⎢        ⎥, 2⎥\n",
       "⎣⎣  1      2  ⎦  ⎣0  6 - a⎦   ⎦"
      ]
     },
     "metadata": {},
     "output_type": "display_data"
    },
    {
     "data": {
      "text/latex": [
       "$\\displaystyle \\left[ \\left[\\begin{matrix}2 & 0 & 0 & 1\\\\2 & 1 & 3 & 1\\\\a & 1 & 3 & 2\\end{matrix}\\right], \\  \\left[\\begin{matrix}2 & 0 & 0 & 1\\\\0 & 1 & 3 & 0\\\\0 & 0 & 0 & 2 - \\frac{a}{2}\\end{matrix}\\right], \\  3\\right]$"
      ],
      "text/plain": [
       "⎡              ⎡2  0  0    1  ⎤   ⎤\n",
       "⎢⎡2  0  0  1⎤  ⎢              ⎥   ⎥\n",
       "⎢⎢          ⎥  ⎢0  1  3    0  ⎥   ⎥\n",
       "⎢⎢2  1  3  1⎥, ⎢              ⎥, 3⎥\n",
       "⎢⎢          ⎥  ⎢             a⎥   ⎥\n",
       "⎢⎣a  1  3  2⎦  ⎢0  0  0  2 - ─⎥   ⎥\n",
       "⎣              ⎣             2⎦   ⎦"
      ]
     },
     "metadata": {},
     "output_type": "display_data"
    },
    {
     "data": {
      "text/latex": [
       "$\\displaystyle \\left[ \\left[\\begin{matrix}2 a & 1 & 1\\\\2 & a & 1\\\\2 & 1 & a\\end{matrix}\\right], \\  \\left[\\begin{matrix}2 & a & 1\\\\0 & 1 - a^{2} & 1 - a\\\\0 & 0 & a - \\frac{\\left(1 - a\\right)^{2}}{1 - a^{2}} - 1\\end{matrix}\\right], \\  3\\right]$"
      ],
      "text/plain": [
       "⎡             ⎡2    a            1        ⎤   ⎤\n",
       "⎢             ⎢                           ⎥   ⎥\n",
       "⎢             ⎢        2                  ⎥   ⎥\n",
       "⎢⎡2⋅a  1  1⎤  ⎢0  1 - a        1 - a      ⎥   ⎥\n",
       "⎢⎢         ⎥  ⎢                           ⎥   ⎥\n",
       "⎢⎢ 2   a  1⎥, ⎢                      2    ⎥, 3⎥\n",
       "⎢⎢         ⎥  ⎢               (1 - a)     ⎥   ⎥\n",
       "⎢⎣ 2   1  a⎦  ⎢0    0     a - ──────── - 1⎥   ⎥\n",
       "⎢             ⎢                     2     ⎥   ⎥\n",
       "⎣             ⎣                1 - a      ⎦   ⎦"
      ]
     },
     "metadata": {},
     "output_type": "display_data"
    }
   ],
   "source": [
    "# p5.e14  \n",
    "\n",
    "datos = [Matrix([[a-2,a+2],[1,2]]),Matrix([[2,0,0,1],[2,1,3,1],[a,1,3,2]]),Matrix([[2*a,1,1],[2,a,1],[2,1,a]])]\n",
    "\n",
    "for A in datos :\n",
    "         display([A,A.LUdecomposition()[1],A.rank()])"
   ]
  },
  {
   "cell_type": "code",
   "execution_count": 31,
   "metadata": {
    "colab": {
     "base_uri": "https://localhost:8080/",
     "height": 323
    },
    "id": "6JZxIb-JcoNa",
    "outputId": "bb98d1d7-62f3-4fb9-f543-e62d39d0e967"
   },
   "outputs": [
    {
     "data": {
      "text/latex": [
       "$\\displaystyle \\left[ \\left[\\begin{matrix}0 & 1\\\\2 & 0\\end{matrix}\\right], \\  \\left[\\begin{matrix}0 & \\frac{1}{2}\\\\1 & 0\\end{matrix}\\right]\\right]$"
      ],
      "text/plain": [
       "⎡⎡0  1⎤  ⎡0  1/2⎤⎤\n",
       "⎢⎢    ⎥, ⎢      ⎥⎥\n",
       "⎣⎣2  0⎦  ⎣1   0 ⎦⎦"
      ]
     },
     "metadata": {},
     "output_type": "display_data"
    },
    {
     "data": {
      "text/latex": [
       "$\\displaystyle \\left[ \\left[\\begin{matrix}-1 & 1 & 2\\\\1 & 0 & 3\\\\4 & 1 & 1\\end{matrix}\\right], \\  \\left[\\begin{matrix}- \\frac{3}{16} & \\frac{1}{16} & \\frac{3}{16}\\\\\\frac{11}{16} & - \\frac{9}{16} & \\frac{5}{16}\\\\\\frac{1}{16} & \\frac{5}{16} & - \\frac{1}{16}\\end{matrix}\\right]\\right]$"
      ],
      "text/plain": [
       "⎡            ⎡-3/16  1/16   3/16 ⎤⎤\n",
       "⎢⎡-1  1  2⎤  ⎢                   ⎥⎥\n",
       "⎢⎢        ⎥  ⎢ 11                ⎥⎥\n",
       "⎢⎢1   0  3⎥, ⎢ ──    -9/16  5/16 ⎥⎥\n",
       "⎢⎢        ⎥  ⎢ 16                ⎥⎥\n",
       "⎢⎣4   1  1⎦  ⎢                   ⎥⎥\n",
       "⎣            ⎣1/16   5/16   -1/16⎦⎦"
      ]
     },
     "metadata": {},
     "output_type": "display_data"
    },
    {
     "data": {
      "text/latex": [
       "$\\displaystyle \\left[ \\left[\\begin{matrix}2 & -1 & 0\\\\3 & 1 & 2\\\\4 & 0 & 1\\end{matrix}\\right], \\  \\left[\\begin{matrix}- \\frac{1}{3} & - \\frac{1}{3} & \\frac{2}{3}\\\\- \\frac{5}{3} & - \\frac{2}{3} & \\frac{4}{3}\\\\\\frac{4}{3} & \\frac{4}{3} & - \\frac{5}{3}\\end{matrix}\\right]\\right]$"
      ],
      "text/plain": [
       "⎡⎡2  -1  0⎤  ⎡-1/3  -1/3  2/3 ⎤⎤\n",
       "⎢⎢        ⎥  ⎢                ⎥⎥\n",
       "⎢⎢3  1   2⎥, ⎢-5/3  -2/3  4/3 ⎥⎥\n",
       "⎢⎢        ⎥  ⎢                ⎥⎥\n",
       "⎣⎣4  0   1⎦  ⎣4/3   4/3   -5/3⎦⎦"
      ]
     },
     "metadata": {},
     "output_type": "display_data"
    },
    {
     "data": {
      "text/latex": [
       "$\\displaystyle \\left[ \\left[\\begin{matrix}1 & 1 & -2 & 1\\\\2 & 0 & 1 & 3\\\\-1 & 1 & 2 & 1\\\\3 & 2 & 1 & 2\\end{matrix}\\right], \\  \\left[\\begin{matrix}- \\frac{3}{14} & 0 & - \\frac{5}{14} & \\frac{2}{7}\\\\\\frac{5}{21} & - \\frac{1}{3} & \\frac{2}{7} & \\frac{5}{21}\\\\- \\frac{5}{14} & 0 & \\frac{1}{14} & \\frac{1}{7}\\\\\\frac{11}{42} & \\frac{1}{3} & \\frac{3}{14} & - \\frac{5}{21}\\end{matrix}\\right]\\right]$"
      ],
      "text/plain": [
       "⎡                ⎡-3/14   0    -5/14   2/7 ⎤⎤\n",
       "⎢⎡1   1  -2  1⎤  ⎢                         ⎥⎥\n",
       "⎢⎢            ⎥  ⎢5/21   -1/3   2/7   5/21 ⎥⎥\n",
       "⎢⎢2   0  1   3⎥  ⎢                         ⎥⎥\n",
       "⎢⎢            ⎥, ⎢-5/14   0    1/14    1/7 ⎥⎥\n",
       "⎢⎢-1  1  2   1⎥  ⎢                         ⎥⎥\n",
       "⎢⎢            ⎥  ⎢ 11                      ⎥⎥\n",
       "⎢⎣3   2  1   2⎦  ⎢ ──    1/3   3/14   -5/21⎥⎥\n",
       "⎣                ⎣ 42                      ⎦⎦"
      ]
     },
     "metadata": {},
     "output_type": "display_data"
    },
    {
     "data": {
      "text/latex": [
       "$\\displaystyle \\left[ \\left[\\begin{matrix}0 & 1 & 1\\\\2 & 2 & 3\\\\1 & 1 & 1\\end{matrix}\\right], \\  \\left[\\begin{matrix}-1 & 0 & 1\\\\1 & -1 & 2\\\\0 & 1 & -2\\end{matrix}\\right]\\right]$"
      ],
      "text/plain": [
       "⎡⎡0  1  1⎤  ⎡-1  0   1 ⎤⎤\n",
       "⎢⎢       ⎥  ⎢          ⎥⎥\n",
       "⎢⎢2  2  3⎥, ⎢1   -1  2 ⎥⎥\n",
       "⎢⎢       ⎥  ⎢          ⎥⎥\n",
       "⎣⎣1  1  1⎦  ⎣0   1   -2⎦⎦"
      ]
     },
     "metadata": {},
     "output_type": "display_data"
    }
   ],
   "source": [
    "# p5.e15 \n",
    "\n",
    "datos = [Matrix([[0,1],[2,0]]),Matrix([[-1,1,2],[1,0,3],[4,1,1]]),Matrix([[2,-1,0],[3,1,2],[4,0,1]]),Matrix([[1,1,-2,1],[2,0,1,3],[-1,1,2,1],[3,2,1,2]]),Matrix([[0,1,1],[2,2,3],[1,1,1]])]\n",
    "\n",
    "for A in datos :\n",
    "         display([A,A.inv()])"
   ]
  },
  {
   "cell_type": "code",
   "execution_count": 32,
   "metadata": {
    "colab": {
     "base_uri": "https://localhost:8080/",
     "height": 264
    },
    "id": "UgwkRcFOdtcE",
    "outputId": "a4b7a630-ad0f-4cab-e517-4e135c9087be"
   },
   "outputs": [
    {
     "data": {
      "text/latex": [
       "$\\displaystyle \\left[ \\left[\\begin{matrix}1 & 2 & -3\\\\0 & 1 & 2\\\\a & 0 & 1\\end{matrix}\\right], \\  \\left[\\begin{matrix}1 & 2 & -3\\\\0 & 1 & 2\\\\0 & 0 & 7 a + 1\\end{matrix}\\right], \\  \\left[\\begin{matrix}\\frac{1}{7 a + 1} & - \\frac{2}{7 a + 1} & \\frac{7}{7 a + 1}\\\\\\frac{2 a}{7 a + 1} & \\frac{3 a + 1}{7 a + 1} & - \\frac{2}{7 a + 1}\\\\- \\frac{a}{7 a + 1} & \\frac{2 a}{7 a + 1} & \\frac{1}{7 a + 1}\\end{matrix}\\right]\\right]$"
      ],
      "text/plain": [
       "⎡                             ⎡   1       -2        7   ⎤⎤\n",
       "⎢                             ⎢───────  ───────  ───────⎥⎥\n",
       "⎢                             ⎢7⋅a + 1  7⋅a + 1  7⋅a + 1⎥⎥\n",
       "⎢⎡1  2  -3⎤  ⎡1  2    -3   ⎤  ⎢                         ⎥⎥\n",
       "⎢⎢        ⎥  ⎢             ⎥  ⎢  2⋅a    3⋅a + 1    -2   ⎥⎥\n",
       "⎢⎢0  1  2 ⎥, ⎢0  1     2   ⎥, ⎢───────  ───────  ───────⎥⎥\n",
       "⎢⎢        ⎥  ⎢             ⎥  ⎢7⋅a + 1  7⋅a + 1  7⋅a + 1⎥⎥\n",
       "⎢⎣a  0  1 ⎦  ⎣0  0  7⋅a + 1⎦  ⎢                         ⎥⎥\n",
       "⎢                             ⎢  -a       2⋅a       1   ⎥⎥\n",
       "⎢                             ⎢───────  ───────  ───────⎥⎥\n",
       "⎣                             ⎣7⋅a + 1  7⋅a + 1  7⋅a + 1⎦⎦"
      ]
     },
     "metadata": {},
     "output_type": "display_data"
    },
    {
     "data": {
      "text/latex": [
       "$\\displaystyle \\left[ \\left[\\begin{matrix}1 & 2 & -3\\\\0 & 1 & 2\\\\0 & 0 & 1\\end{matrix}\\right], \\  \\left[\\begin{matrix}1 & 2 & -3\\\\0 & 1 & 2\\\\0 & 0 & 1\\end{matrix}\\right], \\  \\left[\\begin{matrix}1 & -2 & 7\\\\0 & 1 & -2\\\\0 & 0 & 1\\end{matrix}\\right]\\right]$"
      ],
      "text/plain": [
       "⎡⎡1  2  -3⎤  ⎡1  2  -3⎤  ⎡1  -2  7 ⎤⎤\n",
       "⎢⎢        ⎥  ⎢        ⎥  ⎢         ⎥⎥\n",
       "⎢⎢0  1  2 ⎥, ⎢0  1  2 ⎥, ⎢0  1   -2⎥⎥\n",
       "⎢⎢        ⎥  ⎢        ⎥  ⎢         ⎥⎥\n",
       "⎣⎣0  0  1 ⎦  ⎣0  0  1 ⎦  ⎣0  0   1 ⎦⎦"
      ]
     },
     "metadata": {},
     "output_type": "display_data"
    },
    {
     "data": {
      "text/latex": [
       "$\\displaystyle \\left[ \\left[\\begin{matrix}1 & 2 & -3\\\\0 & 1 & 2\\\\2 & 0 & 1\\end{matrix}\\right], \\  \\left[\\begin{matrix}1 & 2 & -3\\\\0 & 1 & 2\\\\0 & 0 & 15\\end{matrix}\\right], \\  \\left[\\begin{matrix}\\frac{1}{15} & - \\frac{2}{15} & \\frac{7}{15}\\\\\\frac{4}{15} & \\frac{7}{15} & - \\frac{2}{15}\\\\- \\frac{2}{15} & \\frac{4}{15} & \\frac{1}{15}\\end{matrix}\\right]\\right]$"
      ],
      "text/plain": [
       "⎡⎡1  2  -3⎤  ⎡1  2  -3⎤  ⎡1/15   -2/15  7/15 ⎤⎤\n",
       "⎢⎢        ⎥  ⎢        ⎥  ⎢                   ⎥⎥\n",
       "⎢⎢0  1  2 ⎥, ⎢0  1  2 ⎥, ⎢4/15   7/15   -2/15⎥⎥\n",
       "⎢⎢        ⎥  ⎢        ⎥  ⎢                   ⎥⎥\n",
       "⎣⎣2  0  1 ⎦  ⎣0  0  15⎦  ⎣-2/15  4/15   1/15 ⎦⎦"
      ]
     },
     "metadata": {},
     "output_type": "display_data"
    },
    {
     "data": {
      "text/latex": [
       "$\\displaystyle \\left[ \\left[\\begin{matrix}1 & 2 & -3\\\\0 & 1 & 2\\\\-1 & 0 & 1\\end{matrix}\\right], \\  \\left[\\begin{matrix}1 & 2 & -3\\\\0 & 1 & 2\\\\0 & 0 & -6\\end{matrix}\\right], \\  \\left[\\begin{matrix}- \\frac{1}{6} & \\frac{1}{3} & - \\frac{7}{6}\\\\\\frac{1}{3} & \\frac{1}{3} & \\frac{1}{3}\\\\- \\frac{1}{6} & \\frac{1}{3} & - \\frac{1}{6}\\end{matrix}\\right]\\right]$"
      ],
      "text/plain": [
       "⎡⎡1   2  -3⎤  ⎡1  2  -3⎤  ⎡-1/6  1/3  -7/6⎤⎤\n",
       "⎢⎢         ⎥  ⎢        ⎥  ⎢               ⎥⎥\n",
       "⎢⎢0   1  2 ⎥, ⎢0  1  2 ⎥, ⎢1/3   1/3  1/3 ⎥⎥\n",
       "⎢⎢         ⎥  ⎢        ⎥  ⎢               ⎥⎥\n",
       "⎣⎣-1  0  1 ⎦  ⎣0  0  -6⎦  ⎣-1/6  1/3  -1/6⎦⎦"
      ]
     },
     "metadata": {},
     "output_type": "display_data"
    }
   ],
   "source": [
    "# p5.e16 \n",
    "\n",
    "datos = [Matrix([[1,2,-3],[0,1,2],[a,0,1]]),Matrix([[1,2,-3],[0,1,2],[0,0,1]]),Matrix([[1,2,-3],[0,1,2],[2,0,1]]),Matrix([[1,2,-3],[0,1,2],[-1,0,1]]),]\n",
    "\n",
    "for A in datos :\n",
    "         display([A,A.LUdecomposition()[1]  ,A.inv()])"
   ]
  },
  {
   "cell_type": "code",
   "execution_count": 33,
   "metadata": {
    "colab": {
     "base_uri": "https://localhost:8080/",
     "height": 78
    },
    "id": "FEabDlq3mBbk",
    "outputId": "fd2df161-bb7e-4393-8204-c304378a35bd"
   },
   "outputs": [
    {
     "data": {
      "text/latex": [
       "$\\displaystyle \\left( \\left[\\begin{matrix}\\frac{1}{39} & \\frac{8}{39} & \\frac{5}{39}\\\\\\frac{14}{39} & - \\frac{5}{39} & - \\frac{8}{39}\\\\\\frac{5}{39} & \\frac{1}{39} & - \\frac{14}{39}\\end{matrix}\\right], \\  \\left[\\begin{matrix}\\frac{58}{39}\\\\- \\frac{163}{39}\\\\\\frac{17}{39}\\end{matrix}\\right]\\right)$"
      ],
      "text/plain": [
       "⎛                      ⎡ 58  ⎤⎞\n",
       "⎜⎡1/39  8/39   5/39 ⎤  ⎢ ──  ⎥⎟\n",
       "⎜⎢                  ⎥  ⎢ 39  ⎥⎟\n",
       "⎜⎢ 14               ⎥  ⎢     ⎥⎟\n",
       "⎜⎢ ──   -5/39  -8/39⎥  ⎢-163 ⎥⎟\n",
       "⎜⎢ 39               ⎥, ⎢─────⎥⎟\n",
       "⎜⎢                  ⎥  ⎢  39 ⎥⎟\n",
       "⎜⎢             -14  ⎥  ⎢     ⎥⎟\n",
       "⎜⎢5/39  1/39   ──── ⎥  ⎢ 17  ⎥⎟\n",
       "⎜⎣              39  ⎦  ⎢ ──  ⎥⎟\n",
       "⎝                      ⎣ 39  ⎦⎠"
      ]
     },
     "execution_count": 33,
     "metadata": {},
     "output_type": "execute_result"
    }
   ],
   "source": [
    "# p6.e18\n",
    "\n",
    "A = Matrix([[2,3,-1],[4,-1,2],[1,1,-3]])\n",
    "B=Matrix([[-10,11,-4]]).T\n",
    "A, B\n",
    "A.inv(), A.inv()*B"
   ]
  },
  {
   "cell_type": "code",
   "execution_count": 34,
   "metadata": {
    "colab": {
     "base_uri": "https://localhost:8080/",
     "height": 145
    },
    "id": "-03owi2GoEDB",
    "outputId": "2ea6ade3-c677-4521-c1e6-1c7d48785354"
   },
   "outputs": [
    {
     "data": {
      "text/latex": [
       "$\\displaystyle \\left[ \\left[\\begin{matrix}1 & 0 & 4\\\\0 & t & 4\\\\-1 & 3 & t\\end{matrix}\\right], \\  \\left[\\begin{matrix}1 & 0 & 4\\\\0 & 3 & t + 4\\\\0 & 0 & - \\frac{t \\left(t + 4\\right)}{3} + 4\\end{matrix}\\right], \\  \\left[\\begin{matrix}\\frac{t^{2} - 12}{t^{2} + 4 t - 12} & - \\frac{12}{- t^{2} - 4 t + 12} & - \\frac{4 t}{t^{2} + 4 t - 12}\\\\\\frac{12}{- 3 t^{2} - 12 t + 36} & \\frac{t + 4}{t^{2} + 4 t - 12} & \\frac{12}{- 3 t^{2} - 12 t + 36}\\\\\\frac{t}{t^{2} + 4 t - 12} & \\frac{3}{- t^{2} - 4 t + 12} & \\frac{t}{t^{2} + 4 t - 12}\\end{matrix}\\right]\\right]$"
      ],
      "text/plain": [
       "⎡                                     ⎡      2                                \n",
       "⎢                                     ⎢     t  - 12              -12          \n",
       "⎢                                     ⎢  ─────────────     ───────────────    \n",
       "⎢                                     ⎢   2                   2               \n",
       "⎢            ⎡1  0         4       ⎤  ⎢  t  + 4⋅t - 12     - t  - 4⋅t + 12    \n",
       "⎢⎡1   0  4⎤  ⎢                     ⎥  ⎢                                       \n",
       "⎢⎢        ⎥  ⎢0  3       t + 4     ⎥  ⎢        12               t + 4         \n",
       "⎢⎢0   t  4⎥, ⎢                     ⎥, ⎢──────────────────   ─────────────   ──\n",
       "⎢⎢        ⎥  ⎢        t⋅(t + 4)    ⎥  ⎢     2                2                \n",
       "⎢⎣-1  3  t⎦  ⎢0  0  - ───────── + 4⎥  ⎢- 3⋅t  - 12⋅t + 36   t  + 4⋅t - 12   - \n",
       "⎢            ⎣            3        ⎦  ⎢                                       \n",
       "⎢                                     ⎢        t                  3           \n",
       "⎢                                     ⎢  ─────────────     ───────────────    \n",
       "⎢                                     ⎢   2                   2               \n",
       "⎣                                     ⎣  t  + 4⋅t - 12     - t  - 4⋅t + 12    \n",
       "\n",
       "                ⎤⎤\n",
       "    -4⋅t        ⎥⎥\n",
       "─────────────   ⎥⎥\n",
       " 2              ⎥⎥\n",
       "t  + 4⋅t - 12   ⎥⎥\n",
       "                ⎥⎥\n",
       "      12        ⎥⎥\n",
       "────────────────⎥⎥\n",
       "   2            ⎥⎥\n",
       "3⋅t  - 12⋅t + 36⎥⎥\n",
       "                ⎥⎥\n",
       "      t         ⎥⎥\n",
       "─────────────   ⎥⎥\n",
       " 2              ⎥⎥\n",
       "t  + 4⋅t - 12   ⎦⎦"
      ]
     },
     "metadata": {},
     "output_type": "display_data"
    },
    {
     "data": {
      "text/latex": [
       "$\\displaystyle \\left[ \\left[\\begin{matrix}1 & 0 & 4\\\\0 & 1 & 4\\\\-1 & 3 & 1\\end{matrix}\\right], \\  \\left[\\begin{matrix}1 & 0 & 4\\\\0 & 1 & 4\\\\0 & 0 & -7\\end{matrix}\\right], \\  \\left[\\begin{matrix}\\frac{11}{7} & - \\frac{12}{7} & \\frac{4}{7}\\\\\\frac{4}{7} & - \\frac{5}{7} & \\frac{4}{7}\\\\- \\frac{1}{7} & \\frac{3}{7} & - \\frac{1}{7}\\end{matrix}\\right]\\right]$"
      ],
      "text/plain": [
       "⎡⎡1   0  4⎤  ⎡1  0  4 ⎤  ⎡11/7  -12/7  4/7 ⎤⎤\n",
       "⎢⎢        ⎥  ⎢        ⎥  ⎢                 ⎥⎥\n",
       "⎢⎢0   1  4⎥, ⎢0  1  4 ⎥, ⎢4/7   -5/7   4/7 ⎥⎥\n",
       "⎢⎢        ⎥  ⎢        ⎥  ⎢                 ⎥⎥\n",
       "⎣⎣-1  3  1⎦  ⎣0  0  -7⎦  ⎣-1/7   3/7   -1/7⎦⎦"
      ]
     },
     "metadata": {},
     "output_type": "display_data"
    }
   ],
   "source": [
    "# p6.e19\n",
    "\n",
    "t = symbols('t')\n",
    "\n",
    "datos = [Matrix([[1,0,4],[0,t,4],[-1,3,t]]),Matrix([[1,0,4],[0,1,4],[-1,3,1]]),]\n",
    "\n",
    "for A in datos :\n",
    "         display([A,A.LUdecomposition()[1]  ,A.inv()])"
   ]
  },
  {
   "cell_type": "code",
   "execution_count": 35,
   "metadata": {
    "colab": {
     "base_uri": "https://localhost:8080/",
     "height": 145
    },
    "id": "FlsZxNccpUFm",
    "outputId": "ff2e3774-2b21-4b4b-8f3a-a5485e0ec2ef"
   },
   "outputs": [
    {
     "data": {
      "text/latex": [
       "$\\displaystyle \\left[ \\left[\\begin{matrix}1 & 0 & -1\\\\0 & a & 3\\\\4 & 1 & - a\\end{matrix}\\right], \\  \\left[\\begin{matrix}1 & 0 & -1\\\\0 & 1 & 4 - a\\\\0 & 0 & - a \\left(4 - a\\right) + 3\\end{matrix}\\right], \\  \\left[\\begin{matrix}\\frac{a^{2} + 3}{a^{2} - 4 a + 3} & \\frac{1}{a^{2} - 4 a + 3} & - \\frac{a}{a^{2} - 4 a + 3}\\\\- \\frac{12}{a^{2} - 4 a + 3} & \\frac{a - 4}{a^{2} - 4 a + 3} & \\frac{3}{a^{2} - 4 a + 3}\\\\\\frac{4 a}{a^{2} - 4 a + 3} & \\frac{1}{a^{2} - 4 a + 3} & - \\frac{a}{a^{2} - 4 a + 3}\\end{matrix}\\right]\\right]$"
      ],
      "text/plain": [
       "⎡                                    ⎡    2                                   \n",
       "⎢                                    ⎢   a  + 3          1            -a      \n",
       "⎢                                    ⎢────────────  ────────────  ────────────\n",
       "⎢                                    ⎢ 2             2             2          \n",
       "⎢                                    ⎢a  - 4⋅a + 3  a  - 4⋅a + 3  a  - 4⋅a + 3\n",
       "⎢⎡1  0  -1⎤  ⎡1  0        -1      ⎤  ⎢                                        \n",
       "⎢⎢        ⎥  ⎢                    ⎥  ⎢    -12          a - 4           3      \n",
       "⎢⎢0  a  3 ⎥, ⎢0  1      4 - a     ⎥, ⎢────────────  ────────────  ────────────\n",
       "⎢⎢        ⎥  ⎢                    ⎥  ⎢ 2             2             2          \n",
       "⎢⎣4  1  -a⎦  ⎣0  0  -a⋅(4 - a) + 3⎦  ⎢a  - 4⋅a + 3  a  - 4⋅a + 3  a  - 4⋅a + 3\n",
       "⎢                                    ⎢                                        \n",
       "⎢                                    ⎢    4⋅a            1            -a      \n",
       "⎢                                    ⎢────────────  ────────────  ────────────\n",
       "⎢                                    ⎢ 2             2             2          \n",
       "⎣                                    ⎣a  - 4⋅a + 3  a  - 4⋅a + 3  a  - 4⋅a + 3\n",
       "\n",
       "⎤⎤\n",
       "⎥⎥\n",
       "⎥⎥\n",
       "⎥⎥\n",
       "⎥⎥\n",
       "⎥⎥\n",
       "⎥⎥\n",
       "⎥⎥\n",
       "⎥⎥\n",
       "⎥⎥\n",
       "⎥⎥\n",
       "⎥⎥\n",
       "⎥⎥\n",
       "⎥⎥\n",
       "⎦⎦"
      ]
     },
     "metadata": {},
     "output_type": "display_data"
    },
    {
     "data": {
      "text/latex": [
       "$\\displaystyle \\left[ \\left[\\begin{matrix}1 & 0 & -1\\\\0 & -2 & 3\\\\4 & 1 & -2\\end{matrix}\\right], \\  \\left[\\begin{matrix}1 & 0 & -1\\\\0 & -2 & 3\\\\0 & 0 & \\frac{7}{2}\\end{matrix}\\right], \\  \\left[\\begin{matrix}- \\frac{1}{7} & \\frac{1}{7} & \\frac{2}{7}\\\\- \\frac{12}{7} & - \\frac{2}{7} & \\frac{3}{7}\\\\- \\frac{8}{7} & \\frac{1}{7} & \\frac{2}{7}\\end{matrix}\\right]\\right]$"
      ],
      "text/plain": [
       "⎡⎡1  0   -1⎤  ⎡1  0   -1 ⎤  ⎡-1/7   1/7   2/7⎤⎤\n",
       "⎢⎢         ⎥  ⎢          ⎥  ⎢                ⎥⎥\n",
       "⎢⎢0  -2  3 ⎥, ⎢0  -2   3 ⎥, ⎢-12/7  -2/7  3/7⎥⎥\n",
       "⎢⎢         ⎥  ⎢          ⎥  ⎢                ⎥⎥\n",
       "⎣⎣4  1   -2⎦  ⎣0  0   7/2⎦  ⎣-8/7   1/7   2/7⎦⎦"
      ]
     },
     "metadata": {},
     "output_type": "display_data"
    }
   ],
   "source": [
    "# p6.e20\n",
    "\n",
    "t = symbols('t')\n",
    "\n",
    "datos = [Matrix([[1,0,-1],[0,a,3],[4,1,-a]]),Matrix([[1,0,-1],[0,-2,3],[4,1,-2]]),]\n",
    "\n",
    "for A in datos :\n",
    "         display([A,A.LUdecomposition()[1]  ,A.inv()])"
   ]
  },
  {
   "cell_type": "code",
   "execution_count": 36,
   "metadata": {
    "colab": {
     "base_uri": "https://localhost:8080/",
     "height": 78
    },
    "id": "Rpnz2jemrf1V",
    "outputId": "4e06769e-339b-42ce-815f-fb685028060d"
   },
   "outputs": [
    {
     "data": {
      "text/latex": [
       "$\\displaystyle \\left( \\left[\\begin{matrix}- k & -1 & -2\\\\-1 & - k & -2\\\\1 & 1 & 3 - k\\end{matrix}\\right], \\  \\left[\\begin{matrix}k^{2} - 1 & 2 k - 2 & 4 k - 4\\\\2 k - 2 & k^{2} - 1 & 4 k - 4\\\\2 - 2 k & 2 - 2 k & k^{2} - 6 k + 5\\end{matrix}\\right]\\right)$"
      ],
      "text/plain": [
       "⎛                 ⎡ 2                            ⎤⎞\n",
       "⎜                 ⎢k  - 1   2⋅k - 2    4⋅k - 4   ⎥⎟\n",
       "⎜⎡-k  -1   -2  ⎤  ⎢                              ⎥⎟\n",
       "⎜⎢             ⎥  ⎢          2                   ⎥⎟\n",
       "⎜⎢-1  -k   -2  ⎥, ⎢2⋅k - 2  k  - 1     4⋅k - 4   ⎥⎟\n",
       "⎜⎢             ⎥  ⎢                              ⎥⎟\n",
       "⎜⎣1   1   3 - k⎦  ⎢                   2          ⎥⎟\n",
       "⎝                 ⎣2 - 2⋅k  2 - 2⋅k  k  - 6⋅k + 5⎦⎠"
      ]
     },
     "execution_count": 36,
     "metadata": {},
     "output_type": "execute_result"
    }
   ],
   "source": [
    "# p6.e22\n",
    "\n",
    "A= Matrix([[0,-1,-2],[-1,0,-2],[1,1,3]])\n",
    "A-k*eye(3),(A-k*eye(3))**2"
   ]
  },
  {
   "cell_type": "code",
   "execution_count": 37,
   "metadata": {
    "colab": {
     "base_uri": "https://localhost:8080/",
     "height": 78
    },
    "id": "t2HZlvLxs5Gd",
    "outputId": "2bc04895-93b4-4c4b-f5b1-91e0e0e470e9"
   },
   "outputs": [
    {
     "data": {
      "text/latex": [
       "$\\displaystyle \\left( \\left[\\begin{matrix}1 & 2 & 3\\\\2 & 5 & 7\\\\-2 & -4 & -5\\end{matrix}\\right], \\  \\left[\\begin{matrix}-2 & -8 & 14\\\\-6 & -18 & 32\\\\4 & 14 & -26\\end{matrix}\\right], \\  \\left[\\begin{matrix}23 & -7 & 6\\\\-3 & 4 & 5\\\\12 & -3 & 5\\end{matrix}\\right], \\  \\left[\\begin{matrix}23 & -7 & 6\\\\-3 & 4 & 5\\\\12 & -3 & 5\\end{matrix}\\right]\\right)$"
      ],
      "text/plain": [
       "⎛⎡1   2   3 ⎤  ⎡-2  -8   14 ⎤  ⎡23  -7  6⎤  ⎡23  -7  6⎤⎞\n",
       "⎜⎢          ⎥  ⎢            ⎥  ⎢         ⎥  ⎢         ⎥⎟\n",
       "⎜⎢2   5   7 ⎥, ⎢-6  -18  32 ⎥, ⎢-3  4   5⎥, ⎢-3  4   5⎥⎟\n",
       "⎜⎢          ⎥  ⎢            ⎥  ⎢         ⎥  ⎢         ⎥⎟\n",
       "⎝⎣-2  -4  -5⎦  ⎣4   14   -26⎦  ⎣12  -3  5⎦  ⎣12  -3  5⎦⎠"
      ]
     },
     "execution_count": 37,
     "metadata": {},
     "output_type": "execute_result"
    }
   ],
   "source": [
    "# p6.e23\n",
    "\n",
    "A = Matrix([[3,-2,-1],[-4,1,-1],[2,0,1]])\n",
    "B = Matrix([[1,-1,2],[-1,0,1],[0,-1,1]])\n",
    "\n",
    "X = A.inv()*B*2 \n",
    "A.inv(), A.inv()*B*2 , B*(2*A+eye(3)), A*X*A+B"
   ]
  },
  {
   "cell_type": "code",
   "execution_count": 38,
   "metadata": {
    "colab": {
     "base_uri": "https://localhost:8080/",
     "height": 58
    },
    "id": "sE_PnwI3vNoq",
    "outputId": "8d7cb107-a5ef-4ab1-8c98-20f76ce801dd"
   },
   "outputs": [
    {
     "data": {
      "text/latex": [
       "$\\displaystyle \\left( \\left[\\begin{matrix}3 & 1\\\\5 & 2\\end{matrix}\\right], \\  \\left[\\begin{matrix}100 & 39\\\\39 & 13\\end{matrix}\\right], \\  \\left[\\begin{matrix}2 & -1\\\\-5 & 3\\end{matrix}\\right], \\  \\left[\\begin{matrix}4 & -1\\\\-10 & 3\\end{matrix}\\right]\\right)$"
      ],
      "text/plain": [
       "⎛⎡3  1⎤  ⎡100  39⎤  ⎡2   -1⎤  ⎡ 4   -1⎤⎞\n",
       "⎜⎢    ⎥, ⎢       ⎥, ⎢      ⎥, ⎢       ⎥⎟\n",
       "⎝⎣5  2⎦  ⎣39   13⎦  ⎣-5  3 ⎦  ⎣-10  3 ⎦⎠"
      ]
     },
     "execution_count": 38,
     "metadata": {},
     "output_type": "execute_result"
    }
   ],
   "source": [
    "# p6.25\n",
    "A=Matrix([[3,1],[5,2]])\n",
    "B=Matrix([[2,0],[0,1]])\n",
    "X= A.inv()*B\n",
    "A, 3*A.T*A-2*eye(2), A.inv(), X "
   ]
  },
  {
   "cell_type": "code",
   "execution_count": 45,
   "metadata": {
    "colab": {
     "base_uri": "https://localhost:8080/",
     "height": 58
    },
    "id": "sE_PnwI3vNoq",
    "outputId": "8d7cb107-a5ef-4ab1-8c98-20f76ce801dd"
   },
   "outputs": [
    {
     "data": {
      "text/latex": [
       "$\\displaystyle \\left( \\left[\\begin{matrix}0 & -1\\\\1 & 4\\end{matrix}\\right], \\  \\left[\\begin{matrix}1 & 3 & -2 & -2\\\\-3 & -1 & 4 & 0\\end{matrix}\\right], \\  \\left[\\begin{matrix}3 & 1 & -4 & 0\\\\-11 & -1 & 14 & -2\\end{matrix}\\right], \\  \\left[\\begin{matrix}0 & 0 & 0 & 0\\\\0 & 0 & 0 & 0\\end{matrix}\\right]\\right)$"
      ],
      "text/plain": [
       "⎛⎡0  -1⎤  ⎡1   3   -2  -2⎤  ⎡ 3   1   -4  0 ⎤  ⎡0  0  0  0⎤⎞\n",
       "⎜⎢     ⎥, ⎢              ⎥, ⎢               ⎥, ⎢          ⎥⎟\n",
       "⎝⎣1  4 ⎦  ⎣-3  -1  4   0 ⎦  ⎣-11  -1  14  -2⎦  ⎣0  0  0  0⎦⎠"
      ]
     },
     "execution_count": 45,
     "metadata": {},
     "output_type": "execute_result"
    }
   ],
   "source": [
    "# p6.26\n",
    "A=Matrix([[4,1],[-1,0]])\n",
    "B=Matrix([[1,2,0,-1],[-2,-1,1,0]])\n",
    "C=Matrix([[0,-1,2,1],[1,0,-3,0]])\n",
    "X= A.inv()*(B-C)\n",
    "A.inv(), B-C, X , A*X-B+C"
   ]
  },
  {
   "cell_type": "code",
   "execution_count": 48,
   "metadata": {
    "colab": {
     "base_uri": "https://localhost:8080/",
     "height": 58
    },
    "id": "sE_PnwI3vNoq",
    "outputId": "8d7cb107-a5ef-4ab1-8c98-20f76ce801dd"
   },
   "outputs": [
    {
     "data": {
      "text/latex": [
       "$\\displaystyle \\left( \\left[\\begin{matrix}\\frac{1}{5} & - \\frac{3}{5}\\\\\\frac{1}{5} & \\frac{2}{5}\\end{matrix}\\right], \\  \\left[\\begin{matrix}9 & -5\\\\-7 & 14\\end{matrix}\\right], \\  \\left[\\begin{matrix}\\frac{4}{5} & - \\frac{37}{5}\\\\\\frac{7}{5} & \\frac{49}{5}\\end{matrix}\\right], \\  \\left[\\begin{matrix}5 & 4\\\\-3 & 6\\end{matrix}\\right]\\right)$"
      ],
      "text/plain": [
       "⎛⎡1/5  -3/5⎤  ⎡9   -5⎤  ⎡4/5  -37/5⎤  ⎡5   4⎤⎞\n",
       "⎜⎢         ⎥, ⎢      ⎥, ⎢          ⎥, ⎢     ⎥⎟\n",
       "⎝⎣1/5  2/5 ⎦  ⎣-7  14⎦  ⎣7/5  49/5 ⎦  ⎣-3  6⎦⎠"
      ]
     },
     "execution_count": 48,
     "metadata": {},
     "output_type": "execute_result"
    }
   ],
   "source": [
    "# p6.27\n",
    "A=Matrix([[2,3],[-1,1]])\n",
    "B=Matrix([[2,0],[1,4]])\n",
    "C=Matrix([[0,3],[2,0]])\n",
    "D=Matrix([[5,4],[-3,6]])\n",
    "X= (D+2*B-3*C)*A.inv()\n",
    "A.inv(), D+2*B-3*C, X, X*A-2*B+3*C"
   ]
  },
  {
   "cell_type": "code",
   "execution_count": 39,
   "metadata": {
    "colab": {
     "base_uri": "https://localhost:8080/",
     "height": 78
    },
    "id": "2FummZYfMD-s",
    "outputId": "6f51d7c8-039b-4843-a874-d16d943ce92c"
   },
   "outputs": [
    {
     "data": {
      "text/latex": [
       "$\\displaystyle \\left( \\left[\\begin{matrix}1 & 1\\\\1 & 1\\end{matrix}\\right], \\  \\left[\\begin{matrix}1 & 0\\\\0 & 1\\end{matrix}\\right], \\  \\left[\\begin{matrix}k & 0 & 0\\\\0 & k & 0\\\\0 & 0 & k\\end{matrix}\\right]\\right)$"
      ],
      "text/plain": [
       "⎛                ⎡k  0  0⎤⎞\n",
       "⎜⎡1  1⎤  ⎡1  0⎤  ⎢       ⎥⎟\n",
       "⎜⎢    ⎥, ⎢    ⎥, ⎢0  k  0⎥⎟\n",
       "⎜⎣1  1⎦  ⎣0  1⎦  ⎢       ⎥⎟\n",
       "⎝                ⎣0  0  k⎦⎠"
      ]
     },
     "execution_count": 39,
     "metadata": {},
     "output_type": "execute_result"
    }
   ],
   "source": [
    "ones(2), diag(1,1), k*eye(3)"
   ]
  },
  {
   "cell_type": "code",
   "execution_count": 40,
   "metadata": {
    "colab": {
     "base_uri": "https://localhost:8080/",
     "height": 39
    },
    "id": "5pzGXRVTQzLY",
    "outputId": "85e1955a-82a7-46bb-99e8-ac2afec6829d"
   },
   "outputs": [
    {
     "data": {
      "image/png": "[encoded data removed]",
      "text/latex": [
       "$\\displaystyle \\left(x - 3\\right) \\left(x - 1\\right)$"
      ],
      "text/plain": [
       "(x - 3)⋅(x - 1)"
      ]
     },
     "execution_count": 40,
     "metadata": {},
     "output_type": "execute_result"
    }
   ],
   "source": [
    "factor(x**2-4*x+3)\n"
   ]
  },
  {
   "cell_type": "code",
   "execution_count": 41,
   "metadata": {
    "colab": {
     "base_uri": "https://localhost:8080/",
     "height": 380
    },
    "id": "1p-MYQC89YeZ",
    "outputId": "f58cc700-a780-4e78-df7a-14fcf6af7225"
   },
   "outputs": [
    {
     "name": "stdout",
     "output_type": "stream",
     "text": [
      "⎡1  11⎤\n",
      "⎢     ⎥\n",
      "⎣2  19⎦\n",
      "⎡0  1⎤\n",
      "⎢    ⎥\n",
      "⎣3  2⎦\n",
      "⎡-2/3  1⎤\n",
      "⎢       ⎥\n",
      "⎣1/3   0⎦\n"
     ]
    }
   ],
   "source": [
    "Matrix([[1,2],[-2,3]])\n",
    "B = Matrix([[0,3],[1,2]])\n",
    "C = Matrix([[-1,3],[0,-2]])\n",
    "\n",
    "pprint(A*B)\n",
    "pprint(B.transpose())\n",
    "B.rank()\n",
    "pprint(B.inv())"
   ]
  },
  {
   "cell_type": "code",
   "execution_count": 42,
   "metadata": {
    "id": "B98Q1_D1qmpt"
   },
   "outputs": [
    {
     "ename": "TypeError",
     "evalue": "cannot add <class 'sympy.matrices.dense.MutableDenseMatrix'> and <class 'sympy.core.add.Add'>",
     "output_type": "error",
     "traceback": [
      "\u001b[0;31m---------------------------------------------------------------------------\u001b[0m",
      "\u001b[0;31mTypeError\u001b[0m                                 Traceback (most recent call last)",
      "\u001b[0;32m<ipython-input-42-dff5eb988f08>\u001b[0m in \u001b[0;36m<module>\u001b[0;34m\u001b[0m\n\u001b[1;32m      3\u001b[0m \u001b[0mA\u001b[0m\u001b[0;34m,\u001b[0m \u001b[0mB\u001b[0m \u001b[0;34m=\u001b[0m \u001b[0mMatrix\u001b[0m\u001b[0;34m(\u001b[0m\u001b[0;34m[\u001b[0m\u001b[0;34m[\u001b[0m\u001b[0;36m2\u001b[0m\u001b[0;34m,\u001b[0m\u001b[0;36m1\u001b[0m\u001b[0;34m]\u001b[0m\u001b[0;34m,\u001b[0m\u001b[0;34m[\u001b[0m\u001b[0;36m3\u001b[0m\u001b[0;34m,\u001b[0m\u001b[0;36m0\u001b[0m\u001b[0;34m]\u001b[0m\u001b[0;34m]\u001b[0m\u001b[0;34m)\u001b[0m\u001b[0;34m,\u001b[0m \u001b[0mMatrix\u001b[0m\u001b[0;34m(\u001b[0m\u001b[0;34m[\u001b[0m\u001b[0;34m[\u001b[0m\u001b[0;36m6\u001b[0m\u001b[0;34m,\u001b[0m\u001b[0;36m2\u001b[0m\u001b[0;34m]\u001b[0m\u001b[0;34m,\u001b[0m\u001b[0;34m[\u001b[0m\u001b[0;36m0\u001b[0m\u001b[0;34m,\u001b[0m\u001b[0;36m1\u001b[0m\u001b[0;34m]\u001b[0m\u001b[0;34m]\u001b[0m\u001b[0;34m)\u001b[0m\u001b[0;34m\u001b[0m\u001b[0;34m\u001b[0m\u001b[0m\n\u001b[1;32m      4\u001b[0m \u001b[0;34m\u001b[0m\u001b[0m\n\u001b[0;32m----> 5\u001b[0;31m \u001b[0msistema\u001b[0m \u001b[0;34m=\u001b[0m \u001b[0;34m[\u001b[0m\u001b[0mx\u001b[0m\u001b[0;34m+\u001b[0m\u001b[0my\u001b[0m\u001b[0;34m-\u001b[0m\u001b[0mA\u001b[0m\u001b[0;34m,\u001b[0m\u001b[0mx\u001b[0m\u001b[0;34m-\u001b[0m\u001b[0my\u001b[0m\u001b[0;34m-\u001b[0m\u001b[0mB\u001b[0m\u001b[0;34m]\u001b[0m\u001b[0;34m\u001b[0m\u001b[0;34m\u001b[0m\u001b[0m\n\u001b[0m",
      "\u001b[0;32m~/Mis_aplicaciones/anaconda3/lib/python3.6/site-packages/sympy/core/decorators.py\u001b[0m in \u001b[0;36mbinary_op_wrapper\u001b[0;34m(self, other)\u001b[0m\n\u001b[1;32m    134\u001b[0m                     \u001b[0;32mif\u001b[0m \u001b[0mf\u001b[0m \u001b[0;32mis\u001b[0m \u001b[0;32mnot\u001b[0m \u001b[0;32mNone\u001b[0m\u001b[0;34m:\u001b[0m\u001b[0;34m\u001b[0m\u001b[0;34m\u001b[0m\u001b[0m\n\u001b[1;32m    135\u001b[0m                         \u001b[0;32mreturn\u001b[0m \u001b[0mf\u001b[0m\u001b[0;34m(\u001b[0m\u001b[0mself\u001b[0m\u001b[0;34m)\u001b[0m\u001b[0;34m\u001b[0m\u001b[0;34m\u001b[0m\u001b[0m\n\u001b[0;32m--> 136\u001b[0;31m             \u001b[0;32mreturn\u001b[0m \u001b[0mfunc\u001b[0m\u001b[0;34m(\u001b[0m\u001b[0mself\u001b[0m\u001b[0;34m,\u001b[0m \u001b[0mother\u001b[0m\u001b[0;34m)\u001b[0m\u001b[0;34m\u001b[0m\u001b[0;34m\u001b[0m\u001b[0m\n\u001b[0m\u001b[1;32m    137\u001b[0m         \u001b[0;32mreturn\u001b[0m \u001b[0mbinary_op_wrapper\u001b[0m\u001b[0;34m\u001b[0m\u001b[0;34m\u001b[0m\u001b[0m\n\u001b[1;32m    138\u001b[0m     \u001b[0;32mreturn\u001b[0m \u001b[0mpriority_decorator\u001b[0m\u001b[0;34m\u001b[0m\u001b[0;34m\u001b[0m\u001b[0m\n",
      "\u001b[0;32m~/Mis_aplicaciones/anaconda3/lib/python3.6/site-packages/sympy/matrices/common.py\u001b[0m in \u001b[0;36m__rsub__\u001b[0;34m(self, a)\u001b[0m\n\u001b[1;32m   2971\u001b[0m     \u001b[0;34m@\u001b[0m\u001b[0mcall_highest_priority\u001b[0m\u001b[0;34m(\u001b[0m\u001b[0;34m'__sub__'\u001b[0m\u001b[0;34m)\u001b[0m\u001b[0;34m\u001b[0m\u001b[0;34m\u001b[0m\u001b[0m\n\u001b[1;32m   2972\u001b[0m     \u001b[0;32mdef\u001b[0m \u001b[0m__rsub__\u001b[0m\u001b[0;34m(\u001b[0m\u001b[0mself\u001b[0m\u001b[0;34m,\u001b[0m \u001b[0ma\u001b[0m\u001b[0;34m)\u001b[0m\u001b[0;34m:\u001b[0m\u001b[0;34m\u001b[0m\u001b[0;34m\u001b[0m\u001b[0m\n\u001b[0;32m-> 2973\u001b[0;31m         \u001b[0;32mreturn\u001b[0m \u001b[0;34m(\u001b[0m\u001b[0;34m-\u001b[0m\u001b[0mself\u001b[0m\u001b[0;34m)\u001b[0m \u001b[0;34m+\u001b[0m \u001b[0ma\u001b[0m\u001b[0;34m\u001b[0m\u001b[0;34m\u001b[0m\u001b[0m\n\u001b[0m\u001b[1;32m   2974\u001b[0m \u001b[0;34m\u001b[0m\u001b[0m\n\u001b[1;32m   2975\u001b[0m     \u001b[0;34m@\u001b[0m\u001b[0mcall_highest_priority\u001b[0m\u001b[0;34m(\u001b[0m\u001b[0;34m'__rsub__'\u001b[0m\u001b[0;34m)\u001b[0m\u001b[0;34m\u001b[0m\u001b[0;34m\u001b[0m\u001b[0m\n",
      "\u001b[0;32m~/Mis_aplicaciones/anaconda3/lib/python3.6/site-packages/sympy/core/decorators.py\u001b[0m in \u001b[0;36mbinary_op_wrapper\u001b[0;34m(self, other)\u001b[0m\n\u001b[1;32m    134\u001b[0m                     \u001b[0;32mif\u001b[0m \u001b[0mf\u001b[0m \u001b[0;32mis\u001b[0m \u001b[0;32mnot\u001b[0m \u001b[0;32mNone\u001b[0m\u001b[0;34m:\u001b[0m\u001b[0;34m\u001b[0m\u001b[0;34m\u001b[0m\u001b[0m\n\u001b[1;32m    135\u001b[0m                         \u001b[0;32mreturn\u001b[0m \u001b[0mf\u001b[0m\u001b[0;34m(\u001b[0m\u001b[0mself\u001b[0m\u001b[0;34m)\u001b[0m\u001b[0;34m\u001b[0m\u001b[0;34m\u001b[0m\u001b[0m\n\u001b[0;32m--> 136\u001b[0;31m             \u001b[0;32mreturn\u001b[0m \u001b[0mfunc\u001b[0m\u001b[0;34m(\u001b[0m\u001b[0mself\u001b[0m\u001b[0;34m,\u001b[0m \u001b[0mother\u001b[0m\u001b[0;34m)\u001b[0m\u001b[0;34m\u001b[0m\u001b[0;34m\u001b[0m\u001b[0m\n\u001b[0m\u001b[1;32m    137\u001b[0m         \u001b[0;32mreturn\u001b[0m \u001b[0mbinary_op_wrapper\u001b[0m\u001b[0;34m\u001b[0m\u001b[0;34m\u001b[0m\u001b[0m\n\u001b[1;32m    138\u001b[0m     \u001b[0;32mreturn\u001b[0m \u001b[0mpriority_decorator\u001b[0m\u001b[0;34m\u001b[0m\u001b[0;34m\u001b[0m\u001b[0m\n",
      "\u001b[0;32m~/Mis_aplicaciones/anaconda3/lib/python3.6/site-packages/sympy/matrices/common.py\u001b[0m in \u001b[0;36m__add__\u001b[0;34m(self, other)\u001b[0m\n\u001b[1;32m   2694\u001b[0m             \u001b[0;32mreturn\u001b[0m \u001b[0mMatrixArithmetic\u001b[0m\u001b[0;34m.\u001b[0m\u001b[0m_eval_add\u001b[0m\u001b[0;34m(\u001b[0m\u001b[0mself\u001b[0m\u001b[0;34m,\u001b[0m \u001b[0mother\u001b[0m\u001b[0;34m)\u001b[0m\u001b[0;34m\u001b[0m\u001b[0;34m\u001b[0m\u001b[0m\n\u001b[1;32m   2695\u001b[0m \u001b[0;34m\u001b[0m\u001b[0m\n\u001b[0;32m-> 2696\u001b[0;31m         \u001b[0;32mraise\u001b[0m \u001b[0mTypeError\u001b[0m\u001b[0;34m(\u001b[0m\u001b[0;34m'cannot add %s and %s'\u001b[0m \u001b[0;34m%\u001b[0m \u001b[0;34m(\u001b[0m\u001b[0mtype\u001b[0m\u001b[0;34m(\u001b[0m\u001b[0mself\u001b[0m\u001b[0;34m)\u001b[0m\u001b[0;34m,\u001b[0m \u001b[0mtype\u001b[0m\u001b[0;34m(\u001b[0m\u001b[0mother\u001b[0m\u001b[0;34m)\u001b[0m\u001b[0;34m)\u001b[0m\u001b[0;34m)\u001b[0m\u001b[0;34m\u001b[0m\u001b[0;34m\u001b[0m\u001b[0m\n\u001b[0m\u001b[1;32m   2697\u001b[0m \u001b[0;34m\u001b[0m\u001b[0m\n\u001b[1;32m   2698\u001b[0m     \u001b[0;34m@\u001b[0m\u001b[0mcall_highest_priority\u001b[0m\u001b[0;34m(\u001b[0m\u001b[0;34m'__rtruediv__'\u001b[0m\u001b[0;34m)\u001b[0m\u001b[0;34m\u001b[0m\u001b[0;34m\u001b[0m\u001b[0m\n",
      "\u001b[0;31mTypeError\u001b[0m: cannot add <class 'sympy.matrices.dense.MutableDenseMatrix'> and <class 'sympy.core.add.Add'>"
     ]
    }
   ],
   "source": [
    "# p5.ej11\n",
    "\n",
    "A, B = Matrix([[2,1],[3,0]]), Matrix([[6,2],[0,1]])\n",
    "\n",
    "sistema = [x+y-A,x-y-B]"
   ]
  },
  {
   "cell_type": "code",
   "execution_count": null,
   "metadata": {
    "id": "-2tJVC5LWouv"
   },
   "outputs": [],
   "source": [
    "#P3.E8\n",
    "\n",
    "lista_matrices = [Matrix([[3, 2, 1],[-1,2,-3],[3,-4,9]]), Matrix([[0, 2, 1],[1,0,-1],[0,4,2]]), Matrix([[2, 1, 5, -1, 8],[-1,2,3,4,5],[1,3,8,4,13]])]\n",
    "#A = Matrix([[3, 2, 1],[-1,2,-3],[3,-4,9]])\n",
    "\n",
    "[pprint([i, i.LUdecomposition()[1], i.rank()]) for i in lista_matrices]"
   ]
  },
  {
   "cell_type": "code",
   "execution_count": null,
   "metadata": {
    "id": "x0AycbnUbV4x"
   },
   "outputs": [],
   "source": [
    "# P3.E8\n",
    "\n",
    "lista_matrices = [Matrix([[1,2,-1],[1,1,3],[5,-1,k]])]\n",
    "#A = Matrix([[3, 2, 1],[-1,2,-3],[3,-4,9]])\n",
    "\n",
    "[pprint([i, i.LUdecomposition()[1], i.rank()]) for i in lista_matrices]"
   ]
  },
  {
   "cell_type": "code",
   "execution_count": null,
   "metadata": {
    "id": "4o4GMoq-3Lhk"
   },
   "outputs": [],
   "source": [
    "A, B = Matrix([[2,2],[2,a**2+a]]), Matrix([[2,1],[4,0]])\n",
    "SOL = A.inv('LU')*2*B\n",
    "pprint(SOL)"
   ]
  }
 ],
 "metadata": {
  "colab": {
   "collapsed_sections": [],
   "name": "matrices.ipynb",
   "provenance": []
  },
  "kernelspec": {
   "display_name": "Python 3",
   "language": "python",
   "name": "python3"
  },
  "language_info": {
   "codemirror_mode": {
    "name": "ipython",
    "version": 3
   },
   "file_extension": ".py",
   "mimetype": "text/x-python",
   "name": "python",
   "nbconvert_exporter": "python",
   "pygments_lexer": "ipython3",
   "version": "3.6.13"
  }
 },
 "nbformat": 4,
 "nbformat_minor": 1
}

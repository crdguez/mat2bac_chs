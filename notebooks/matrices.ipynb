{
  "cells": [
    {
      "cell_type": "code",
      "execution_count": null,
      "metadata": {
        "id": "-cVvkLt0Yl6m"
      },
      "outputs": [],
      "source": [
        "#!pip install sympy"
      ]
    },
    {
      "cell_type": "code",
      "execution_count": 1,
      "metadata": {
        "id": "7ectzu81ZUGJ",
        "outputId": "a0c0f10c-da45-44bb-f4ea-c7c83d203e5d",
        "colab": {
          "base_uri": "https://localhost:8080/"
        }
      },
      "outputs": [
        {
          "output_type": "stream",
          "name": "stdout",
          "text": [
            "IPython console for SymPy 1.7.1 (Python 3.7.13-64-bit) (ground types: python)\n",
            "\n",
            "These commands were executed:\n",
            ">>> from __future__ import division\n",
            ">>> from sympy import *\n",
            ">>> x, y, z, t = symbols('x y z t')\n",
            ">>> k, m, n = symbols('k m n', integer=True)\n",
            ">>> f, g, h = symbols('f g h', cls=Function)\n",
            ">>> init_printing()\n",
            "\n",
            "Documentation can be found at https://docs.sympy.org/1.7.1/\n",
            "\n"
          ]
        }
      ],
      "source": [
        "from sympy import *\n",
        "init_session()"
      ]
    },
    {
      "cell_type": "code",
      "execution_count": null,
      "metadata": {
        "id": "fkQeaZkrY0PY"
      },
      "outputs": [],
      "source": [
        "# from sympy import *\n",
        "\n",
        "# # init_session()\n",
        "\n",
        "# from __future__ import division\n",
        "# x, y, z, t = symbols('x y z t')\n",
        "# k, m, n = symbols('k m n', integer=True)\n",
        "# f, g, h = symbols('f g h', cls=Function)\n",
        "# init_printing()\n"
      ]
    },
    {
      "cell_type": "code",
      "execution_count": 2,
      "metadata": {
        "colab": {
          "base_uri": "https://localhost:8080/"
        },
        "id": "eSlSnZI5Zh4W",
        "outputId": "cb22a7b9-c46d-40fb-e409-5f85e7ad3cc1"
      },
      "outputs": [
        {
          "output_type": "stream",
          "name": "stdout",
          "text": [
            "⎡1   2⎤\n",
            "⎢     ⎥\n",
            "⎣-2  3⎦\n",
            "⎡0  3⎤\n",
            "⎢    ⎥\n",
            "⎣1  2⎦\n",
            "⎡-1  3 ⎤\n",
            "⎢      ⎥\n",
            "⎣0   -2⎦\n",
            "A+B-C:\n",
            "⎡2   2⎤\n",
            "⎢     ⎥\n",
            "⎣-1  7⎦\n",
            "A-B+C:\n",
            "⎡0   2 ⎤\n",
            "⎢      ⎥\n",
            "⎣-3  -1⎦\n",
            "2*A-3*B:\n",
            "⎡2   -5⎤\n",
            "⎢      ⎥\n",
            "⎣-7  0 ⎦\n",
            "A-2*B+3*C:\n",
            "⎡-2  5 ⎤\n",
            "⎢      ⎥\n",
            "⎣-4  -7⎦\n"
          ]
        }
      ],
      "source": [
        "# p3. e1\n",
        "\n",
        "A = Matrix([[1,2],[-2,3]])\n",
        "B = Matrix([[0,3],[1,2]])\n",
        "C = Matrix([[-1,3],[0,-2]])\n",
        "\n",
        "pprint(A), pprint(B),pprint(C)\n",
        "pprint(\"A+B-C:\")\n",
        "pprint(A+B-C)\n",
        "pprint(\"A-B+C:\")\n",
        "pprint(A-B+C)\n",
        "pprint(\"2*A-3*B:\")\n",
        "pprint(2*A-3*B)\n",
        "pprint(\"A-2*B+3*C:\")\n",
        "pprint(A-2*B+3*C)\n"
      ]
    },
    {
      "cell_type": "code",
      "execution_count": null,
      "metadata": {
        "colab": {
          "base_uri": "https://localhost:8080/",
          "height": 72
        },
        "id": "-OdL4aFRcSUy",
        "outputId": "10da3dd1-c7b3-4eff-fa73-ffbc4958d734"
      },
      "outputs": [
        {
          "name": "stdout",
          "output_type": "stream",
          "text": [
            "⎡2  15  14⎤\n",
            "⎢         ⎥\n",
            "⎣8  17  9 ⎦\n"
          ]
        }
      ],
      "source": [
        "# p3. e2\n",
        "\n",
        "A = Matrix([[1,5,6],[2,8,4]])\n",
        "B = Matrix([[1,0,4],[-2,7,3]])\n",
        "\n",
        "\n",
        "pprint(3*A-B)"
      ]
    },
    {
      "cell_type": "code",
      "execution_count": null,
      "metadata": {
        "id": "qo3a3muPZUGO",
        "outputId": "de5c49e9-f944-4b9a-87a6-d4fdef82476f"
      },
      "outputs": [
        {
          "data": {
            "text/latex": [
              "$\\displaystyle \\left( \\left[\\begin{matrix}-1 & -1 & 14\\\\-12 & 134 & -21\\end{matrix}\\right], \\  \\left[\\begin{matrix}7 & 14 & -21\\\\28 & -196 & 49\\end{matrix}\\right]\\right)$"
            ],
            "text/plain": [
              "⎛⎡-1   -1   14 ⎤  ⎡7    14   -21⎤⎞\n",
              "⎜⎢             ⎥, ⎢             ⎥⎟\n",
              "⎝⎣-12  134  -21⎦  ⎣28  -196  49 ⎦⎠"
            ]
          },
          "execution_count": 7,
          "metadata": {},
          "output_type": "execute_result"
        }
      ],
      "source": [
        "# p3.e3\n",
        "A = Matrix([[5,12,7],[4,72,7]])\n",
        "B = Matrix([[11,25,0],[20,10,35]])\n",
        "X=2*A-B\n",
        "Y=A-2*X\n",
        "X,Y"
      ]
    },
    {
      "cell_type": "code",
      "execution_count": null,
      "metadata": {
        "id": "1IiLaLpxZUGP",
        "outputId": "a4f7fb96-1636-40a9-c6d9-4ea178c17b96"
      },
      "outputs": [
        {
          "data": {
            "text/latex": [
              "$\\displaystyle \\left[\\begin{matrix}1 & 0 & 0\\\\0 & 1 & 0\\\\0 & 0 & 1\\end{matrix}\\right]$"
            ],
            "text/plain": [
              "⎡1  0  0⎤\n",
              "⎢       ⎥\n",
              "⎢0  1  0⎥\n",
              "⎢       ⎥\n",
              "⎣0  0  1⎦"
            ]
          },
          "execution_count": 8,
          "metadata": {},
          "output_type": "execute_result"
        }
      ],
      "source": [
        "# p3.e4\n",
        "A = Matrix([[1,2,0],[0,0,1],[1,1,1]])\n",
        "B = Matrix([[-1,-2,2],[1,1,-1],[0,1,0]])\n",
        "A*B"
      ]
    },
    {
      "cell_type": "code",
      "execution_count": null,
      "metadata": {
        "id": "LD--9IBAZUGQ",
        "outputId": "954c8caf-a8de-4a15-80c3-596c342d192c"
      },
      "outputs": [
        {
          "data": {
            "text/latex": [
              "$\\displaystyle \\left( \\left[\\begin{matrix}23 & 12\\\\47 & 18\\end{matrix}\\right], \\  \\left[\\begin{matrix}45 & 40\\\\24 & 19\\end{matrix}\\right], \\  \\left[\\begin{matrix}231 & 196\\\\459 & 394\\end{matrix}\\right], \\  \\left[\\begin{matrix}80 & 56\\\\154 & 130\\end{matrix}\\right]\\right)$"
            ],
            "text/plain": [
              "⎛⎡23  12⎤  ⎡45  40⎤  ⎡231  196⎤  ⎡80   56 ⎤⎞\n",
              "⎜⎢      ⎥, ⎢      ⎥, ⎢        ⎥, ⎢        ⎥⎟\n",
              "⎝⎣47  18⎦  ⎣24  19⎦  ⎣459  394⎦  ⎣154  130⎦⎠"
            ]
          },
          "execution_count": 17,
          "metadata": {},
          "output_type": "execute_result"
        }
      ],
      "source": [
        "# p3.e5\n",
        "A = Matrix([[3,4],[7,6]])\n",
        "B = Matrix([[5,0],[2,3]])\n",
        "C = Matrix([[9,8],[2,1]])\n",
        "\n",
        "A*B, B*C, A*B*C, 2*(B+A*C)"
      ]
    },
    {
      "cell_type": "code",
      "execution_count": null,
      "metadata": {
        "id": "ZqnVGxh8ZUGQ",
        "outputId": "3566172b-58c3-4826-a446-eecd4e618de0"
      },
      "outputs": [
        {
          "data": {
            "text/latex": [
              "$\\displaystyle \\left( \\left[\\begin{matrix}5 & 20\\\\3 & 4\\\\-1 & -8\\end{matrix}\\right], \\  \\left[\\begin{matrix}5 & 20\\\\3 & 4\\\\-1 & -8\\end{matrix}\\right]\\right)$"
            ],
            "text/plain": [
              "⎛⎡5   20⎤  ⎡5   20⎤⎞\n",
              "⎜⎢      ⎥  ⎢      ⎥⎟\n",
              "⎜⎢3   4 ⎥, ⎢3   4 ⎥⎟\n",
              "⎜⎢      ⎥  ⎢      ⎥⎟\n",
              "⎝⎣-1  -8⎦  ⎣-1  -8⎦⎠"
            ]
          },
          "execution_count": 16,
          "metadata": {},
          "output_type": "execute_result"
        }
      ],
      "source": [
        "# p3.e6\n",
        "A = Matrix([[-1,3],[2,4]])\n",
        "B = Matrix([[4,0,-2],[3,1,-1]])\n",
        "\n",
        "(A*B).transpose(), B.transpose()*A.transpose()\n"
      ]
    },
    {
      "cell_type": "code",
      "execution_count": null,
      "metadata": {
        "id": "jkzWyPswZUGR",
        "outputId": "d581a045-847a-4a9d-cfa1-47db2ae7e5bd"
      },
      "outputs": [
        {
          "data": {
            "image/png": "[encoded data removed]",
            "text/latex": [
              "$\\displaystyle \\left[ \\left\\{ x : - \\sqrt{1 - z^{2}}, \\  y : \\sqrt{1 - z^{2}}\\right\\}, \\  \\left\\{ x : -1, \\  y : -1, \\  z : 0\\right\\}, \\  \\left\\{ x : 0, \\  y : 0, \\  z : -1\\right\\}, \\  \\left\\{ x : 0, \\  y : 0, \\  z : 1\\right\\}\\right]$"
            ],
            "text/plain": [
              "⎡⎧       ________        ________⎫                                            \n",
              "⎢⎨      ╱      2        ╱      2 ⎬                                            \n",
              "⎣⎩x: -╲╱  1 - z  , y: ╲╱  1 - z  ⎭, {x: -1, y: -1, z: 0}, {x: 0, y: 0, z: -1},\n",
              "\n",
              "                   ⎤\n",
              "                   ⎥\n",
              " {x: 0, y: 0, z: 1}⎦"
            ]
          },
          "execution_count": 21,
          "metadata": {},
          "output_type": "execute_result"
        }
      ],
      "source": [
        "# p3.e7\n",
        "A = Matrix([[x,z],[z,y]])\n",
        "\n",
        "A**2, eye(2)\n",
        "solve(A**2-eye(2))"
      ]
    },
    {
      "cell_type": "code",
      "execution_count": null,
      "metadata": {
        "id": "MksHQR3LZUGS",
        "outputId": "d259bf47-c85b-43d0-cd8f-13cb62415074"
      },
      "outputs": [
        {
          "data": {
            "text/latex": [
              "$\\displaystyle \\left( \\left[\\begin{matrix}3 & 2 & 1\\\\0 & \\frac{8}{3} & - \\frac{8}{3}\\\\0 & 0 & 2\\end{matrix}\\right], \\  3, \\  \\left[\\begin{matrix}1 & 0 & -1\\\\0 & 2 & 1\\\\0 & 0 & 0\\end{matrix}\\right], \\  2, \\  \\left[\\begin{matrix}2 & 1 & 5 & -1 & 8\\\\0 & \\frac{5}{2} & \\frac{11}{2} & \\frac{7}{2} & 9\\\\0 & 0 & 0 & 1 & 0\\end{matrix}\\right], \\  3\\right)$"
            ],
            "text/plain": [
              "⎛⎡3   2    1  ⎤     ⎡1  0  -1⎤     ⎡2   1    5    -1   8⎤   ⎞\n",
              "⎜⎢            ⎥     ⎢        ⎥     ⎢                    ⎥   ⎟\n",
              "⎜⎢0  8/3  -8/3⎥, 3, ⎢0  2  1 ⎥, 2, ⎢0  5/2  11/2  7/2  9⎥, 3⎟\n",
              "⎜⎢            ⎥     ⎢        ⎥     ⎢                    ⎥   ⎟\n",
              "⎝⎣0   0    2  ⎦     ⎣0  0  0 ⎦     ⎣0   0    0     1   0⎦   ⎠"
            ]
          },
          "execution_count": 11,
          "metadata": {},
          "output_type": "execute_result"
        }
      ],
      "source": [
        "# p3.e8\n",
        "A = Matrix([[3,2,1],[-1,2,-3],[3,-4,9]])\n",
        "B = Matrix([[0,2,1],[1,0,-1],[0,4,2]])\n",
        "C = Matrix([[2,1,5,-1,8],[-1,2,3,4,5],[1,3,8,4,13]])\n",
        "\n",
        "A.LUdecomposition()[1], A.rank(), B.LUdecomposition()[1], B.rank(), C.LUdecomposition()[1], C.rank()"
      ]
    },
    {
      "cell_type": "code",
      "execution_count": null,
      "metadata": {
        "id": "PaqJ0srhZUGT",
        "outputId": "ab643ebc-04d3-471a-9f1d-228a7c22f186"
      },
      "outputs": [
        {
          "data": {
            "text/latex": [
              "$\\displaystyle \\left( \\left[\\begin{matrix}1 & -2 & 1\\\\0 & 3 & 2\\\\0 & 0 & k - 11\\end{matrix}\\right], \\  3\\right)$"
            ],
            "text/plain": [
              "⎛⎡1  -2    1   ⎤   ⎞\n",
              "⎜⎢             ⎥   ⎟\n",
              "⎜⎢0  3     2   ⎥, 3⎟\n",
              "⎜⎢             ⎥   ⎟\n",
              "⎝⎣0  0   k - 11⎦   ⎠"
            ]
          },
          "execution_count": 12,
          "metadata": {},
          "output_type": "execute_result"
        }
      ],
      "source": [
        "# p3.e9\n",
        "A = Matrix([[1,-2,1],[1,1,3],[5,-1,k]])\n",
        "\n",
        "A.LUdecomposition()[1], A.rank()"
      ]
    },
    {
      "cell_type": "code",
      "execution_count": null,
      "metadata": {
        "id": "vjCpbqEjZUGW",
        "outputId": "d1f7d701-20ca-4b99-8dd4-56bbc184144d"
      },
      "outputs": [
        {
          "data": {
            "text/latex": [
              "$\\displaystyle \\left( \\left[\\begin{matrix}3 & 2 & 1 & 1 & 0 & 0\\\\0 & \\frac{8}{3} & - \\frac{8}{3} & \\frac{1}{3} & 1 & 0\\\\0 & 0 & 2 & - \\frac{1}{4} & \\frac{9}{4} & 1\\end{matrix}\\right], \\  \\left[\\begin{matrix}\\frac{3}{8} & - \\frac{11}{8} & - \\frac{1}{2}\\\\0 & \\frac{3}{2} & \\frac{1}{2}\\\\- \\frac{1}{8} & \\frac{9}{8} & \\frac{1}{2}\\end{matrix}\\right]\\right)$"
            ],
            "text/plain": [
              "⎛⎡3   2    1     1     0   0⎤  ⎡3/8   -11/8  -1/2⎤⎞\n",
              "⎜⎢                          ⎥  ⎢                 ⎥⎟\n",
              "⎜⎢0  8/3  -8/3  1/3    1   0⎥, ⎢ 0     3/2   1/2 ⎥⎟\n",
              "⎜⎢                          ⎥  ⎢                 ⎥⎟\n",
              "⎝⎣0   0    2    -1/4  9/4  1⎦  ⎣-1/8   9/8   1/2 ⎦⎠"
            ]
          },
          "execution_count": 62,
          "metadata": {},
          "output_type": "execute_result"
        }
      ],
      "source": [
        "# p3.e10\n",
        "\n",
        "\n",
        "A = Matrix([[3,2,1],[-1,2,-3],[3,-4,9]])\n",
        "\n",
        "A.LUdecomposition()[1], A.rank()\n",
        "# for i in eye(3).rows:\n",
        "#     print(i)\n",
        "    \n",
        "# A.row_insert(eye(3))\n",
        "\n",
        "# eye(3).col(i)\n",
        "\n",
        "B=BlockMatrix([A,eye(3)]).as_explicit()\n",
        "B.LUdecomposition()[1],A.inv()\n"
      ]
    },
    {
      "cell_type": "code",
      "execution_count": 3,
      "metadata": {
        "colab": {
          "base_uri": "https://localhost:8080/"
        },
        "id": "d_Ox16SUccqB",
        "outputId": "f2e8a388-7a6d-4801-c992-a14f93a312f3"
      },
      "outputs": [
        {
          "output_type": "stream",
          "name": "stdout",
          "text": [
            "⎡  5 - a     a - b + 7⎤\n",
            "⎢                     ⎥\n",
            "⎣-c + d - 2    d + 4  ⎦\n",
            "{a: 5, b: 12, c: -6, d: -4}\n"
          ]
        }
      ],
      "source": [
        "# p4 e1\n",
        "\n",
        "a, b, c, d = symbols('a b c d')\n",
        "\n",
        "# solución\n",
        "\n",
        "SOL = Matrix([[a,7],[-2,3*d]])+Matrix([[5,a+b],[c+d,4]])-2*Matrix([[a,b],[c,d]])\n",
        "\n",
        "#a, b, c, d = [5,12,-6,-4]\n",
        "# comprobación: \n",
        "pprint(SOL)\n",
        "\n",
        "sistema = [i for i in SOL]\n",
        "#[sistema.append(i) for i in SOL]\n",
        "#[[sistema.append(SOL)]]\n",
        "SOL.shape[0]\n",
        "#pprint(sistema)\n",
        "pprint(solve(sistema,(a,b,c,d)))\n",
        "\n",
        "\n",
        "\n"
      ]
    },
    {
      "cell_type": "code",
      "source": [
        "# p4.e2\n",
        "\n",
        "A = Matrix([[1,-1],[0,3]])\n",
        "B = Matrix([[4,0],[-1,-2]])\n",
        "C = Matrix([[-1,2],[-2,3]])\n",
        "\n",
        "A+B, A-B-C, 3*A+5*B-6*C, A*B-B*C, 2*A+3*A*C-5*B*C\n"
      ],
      "metadata": {
        "id": "ibMHWXW0bG__",
        "outputId": "4486e741-2e95-4568-a150-9e76eea4f961",
        "colab": {
          "base_uri": "https://localhost:8080/",
          "height": 58
        }
      },
      "execution_count": 6,
      "outputs": [
        {
          "output_type": "execute_result",
          "data": {
            "text/plain": [
              "⎛⎡5   -1⎤  ⎡-2  -3⎤  ⎡29  -15⎤  ⎡9   -6⎤  ⎡25   -45⎤⎞\n",
              "⎜⎢      ⎥, ⎢      ⎥, ⎢       ⎥, ⎢      ⎥, ⎢        ⎥⎟\n",
              "⎝⎣-1  1 ⎦  ⎣3   2 ⎦  ⎣7   -19⎦  ⎣-8  2 ⎦  ⎣-43  73 ⎦⎠"
            ],
            "text/latex": "$\\displaystyle \\left( \\left[\\begin{matrix}5 & -1\\\\-1 & 1\\end{matrix}\\right], \\  \\left[\\begin{matrix}-2 & -3\\\\3 & 2\\end{matrix}\\right], \\  \\left[\\begin{matrix}29 & -15\\\\7 & -19\\end{matrix}\\right], \\  \\left[\\begin{matrix}9 & -6\\\\-8 & 2\\end{matrix}\\right], \\  \\left[\\begin{matrix}25 & -45\\\\-43 & 73\\end{matrix}\\right]\\right)$"
          },
          "metadata": {},
          "execution_count": 6
        }
      ]
    },
    {
      "cell_type": "code",
      "execution_count": null,
      "metadata": {
        "colab": {
          "base_uri": "https://localhost:8080/",
          "height": 182
        },
        "id": "1p-MYQC89YeZ",
        "outputId": "a1e057e4-76bb-4020-c400-96eb6234bc3c"
      },
      "outputs": [
        {
          "name": "stdout",
          "output_type": "stream",
          "text": [
            "⎡2  7⎤\n",
            "⎢    ⎥\n",
            "⎣3  0⎦\n",
            "⎡0  1⎤\n",
            "⎢    ⎥\n",
            "⎣3  2⎦\n",
            "⎡-2/3  1⎤\n",
            "⎢       ⎥\n",
            "⎣1/3   0⎦\n"
          ]
        }
      ],
      "source": [
        "A = Matrix([[1,2],[-2,3]])\n",
        "B = Matrix([[0,3],[1,2]])\n",
        "C = Matrix([[-1,3],[0,-2]])\n",
        "\n",
        "pprint(A*B)\n",
        "pprint(B.transpose())\n",
        "B.rank()\n",
        "pprint(B.inv())"
      ]
    },
    {
      "cell_type": "code",
      "execution_count": null,
      "metadata": {
        "colab": {
          "base_uri": "https://localhost:8080/",
          "height": 364
        },
        "id": "B98Q1_D1qmpt",
        "outputId": "9dcf79d7-8232-444d-b4e1-fe7629b8a594"
      },
      "outputs": [
        {
          "ename": "TypeError",
          "evalue": "ignored",
          "output_type": "error",
          "traceback": [
            "\u001b[0;31m---------------------------------------------------------------------------\u001b[0m",
            "\u001b[0;31mTypeError\u001b[0m                                 Traceback (most recent call last)",
            "\u001b[0;32m<ipython-input-40-5d512d3451c1>\u001b[0m in \u001b[0;36m<module>\u001b[0;34m()\u001b[0m\n\u001b[1;32m      2\u001b[0m \u001b[0mA\u001b[0m\u001b[0;34m,\u001b[0m \u001b[0mB\u001b[0m \u001b[0;34m=\u001b[0m \u001b[0mMatrix\u001b[0m\u001b[0;34m(\u001b[0m\u001b[0;34m[\u001b[0m\u001b[0;34m[\u001b[0m\u001b[0;36m2\u001b[0m\u001b[0;34m,\u001b[0m\u001b[0;36m1\u001b[0m\u001b[0;34m]\u001b[0m\u001b[0;34m,\u001b[0m\u001b[0;34m[\u001b[0m\u001b[0;36m3\u001b[0m\u001b[0;34m,\u001b[0m\u001b[0;36m0\u001b[0m\u001b[0;34m]\u001b[0m\u001b[0;34m]\u001b[0m\u001b[0;34m)\u001b[0m\u001b[0;34m,\u001b[0m \u001b[0mMatrix\u001b[0m\u001b[0;34m(\u001b[0m\u001b[0;34m[\u001b[0m\u001b[0;34m[\u001b[0m\u001b[0;36m6\u001b[0m\u001b[0;34m,\u001b[0m\u001b[0;36m2\u001b[0m\u001b[0;34m]\u001b[0m\u001b[0;34m,\u001b[0m\u001b[0;34m[\u001b[0m\u001b[0;36m0\u001b[0m\u001b[0;34m,\u001b[0m\u001b[0;36m1\u001b[0m\u001b[0;34m]\u001b[0m\u001b[0;34m]\u001b[0m\u001b[0;34m)\u001b[0m\u001b[0;34m\u001b[0m\u001b[0;34m\u001b[0m\u001b[0m\n\u001b[1;32m      3\u001b[0m \u001b[0;34m\u001b[0m\u001b[0m\n\u001b[0;32m----> 4\u001b[0;31m \u001b[0msistema\u001b[0m \u001b[0;34m=\u001b[0m \u001b[0;34m[\u001b[0m\u001b[0mx\u001b[0m\u001b[0;34m+\u001b[0m\u001b[0my\u001b[0m\u001b[0;34m-\u001b[0m\u001b[0mA\u001b[0m\u001b[0;34m,\u001b[0m\u001b[0mx\u001b[0m\u001b[0;34m-\u001b[0m\u001b[0my\u001b[0m\u001b[0;34m-\u001b[0m\u001b[0mB\u001b[0m\u001b[0;34m]\u001b[0m\u001b[0;34m\u001b[0m\u001b[0;34m\u001b[0m\u001b[0m\n\u001b[0m",
            "\u001b[0;32m/usr/local/lib/python3.6/dist-packages/sympy/core/decorators.py\u001b[0m in \u001b[0;36m__sympifyit_wrapper\u001b[0;34m(a, b)\u001b[0m\n\u001b[1;32m     89\u001b[0m                 \u001b[0;32mif\u001b[0m \u001b[0;32mnot\u001b[0m \u001b[0mhasattr\u001b[0m\u001b[0;34m(\u001b[0m\u001b[0mb\u001b[0m\u001b[0;34m,\u001b[0m \u001b[0;34m'_op_priority'\u001b[0m\u001b[0;34m)\u001b[0m\u001b[0;34m:\u001b[0m\u001b[0;34m\u001b[0m\u001b[0;34m\u001b[0m\u001b[0m\n\u001b[1;32m     90\u001b[0m                     \u001b[0mb\u001b[0m \u001b[0;34m=\u001b[0m \u001b[0msympify\u001b[0m\u001b[0;34m(\u001b[0m\u001b[0mb\u001b[0m\u001b[0;34m,\u001b[0m \u001b[0mstrict\u001b[0m\u001b[0;34m=\u001b[0m\u001b[0;32mTrue\u001b[0m\u001b[0;34m)\u001b[0m\u001b[0;34m\u001b[0m\u001b[0;34m\u001b[0m\u001b[0m\n\u001b[0;32m---> 91\u001b[0;31m                 \u001b[0;32mreturn\u001b[0m \u001b[0mfunc\u001b[0m\u001b[0;34m(\u001b[0m\u001b[0ma\u001b[0m\u001b[0;34m,\u001b[0m \u001b[0mb\u001b[0m\u001b[0;34m)\u001b[0m\u001b[0;34m\u001b[0m\u001b[0;34m\u001b[0m\u001b[0m\n\u001b[0m\u001b[1;32m     92\u001b[0m             \u001b[0;32mexcept\u001b[0m \u001b[0mSympifyError\u001b[0m\u001b[0;34m:\u001b[0m\u001b[0;34m\u001b[0m\u001b[0;34m\u001b[0m\u001b[0m\n\u001b[1;32m     93\u001b[0m                 \u001b[0;32mreturn\u001b[0m \u001b[0mretval\u001b[0m\u001b[0;34m\u001b[0m\u001b[0;34m\u001b[0m\u001b[0m\n",
            "\u001b[0;32m/usr/local/lib/python3.6/dist-packages/sympy/core/decorators.py\u001b[0m in \u001b[0;36mbinary_op_wrapper\u001b[0;34m(self, other)\u001b[0m\n\u001b[1;32m    129\u001b[0m                         \u001b[0;32mpass\u001b[0m\u001b[0;34m\u001b[0m\u001b[0;34m\u001b[0m\u001b[0m\n\u001b[1;32m    130\u001b[0m                     \u001b[0;32melse\u001b[0m\u001b[0;34m:\u001b[0m\u001b[0;34m\u001b[0m\u001b[0;34m\u001b[0m\u001b[0m\n\u001b[0;32m--> 131\u001b[0;31m                         \u001b[0;32mreturn\u001b[0m \u001b[0mf\u001b[0m\u001b[0;34m(\u001b[0m\u001b[0mself\u001b[0m\u001b[0;34m)\u001b[0m\u001b[0;34m\u001b[0m\u001b[0;34m\u001b[0m\u001b[0m\n\u001b[0m\u001b[1;32m    132\u001b[0m             \u001b[0;32mreturn\u001b[0m \u001b[0mfunc\u001b[0m\u001b[0;34m(\u001b[0m\u001b[0mself\u001b[0m\u001b[0;34m,\u001b[0m \u001b[0mother\u001b[0m\u001b[0;34m)\u001b[0m\u001b[0;34m\u001b[0m\u001b[0;34m\u001b[0m\u001b[0m\n\u001b[1;32m    133\u001b[0m         \u001b[0;32mreturn\u001b[0m \u001b[0mbinary_op_wrapper\u001b[0m\u001b[0;34m\u001b[0m\u001b[0;34m\u001b[0m\u001b[0m\n",
            "\u001b[0;32m/usr/local/lib/python3.6/dist-packages/sympy/core/decorators.py\u001b[0m in \u001b[0;36mbinary_op_wrapper\u001b[0;34m(self, other)\u001b[0m\n\u001b[1;32m    130\u001b[0m                     \u001b[0;32melse\u001b[0m\u001b[0;34m:\u001b[0m\u001b[0;34m\u001b[0m\u001b[0;34m\u001b[0m\u001b[0m\n\u001b[1;32m    131\u001b[0m                         \u001b[0;32mreturn\u001b[0m \u001b[0mf\u001b[0m\u001b[0;34m(\u001b[0m\u001b[0mself\u001b[0m\u001b[0;34m)\u001b[0m\u001b[0;34m\u001b[0m\u001b[0;34m\u001b[0m\u001b[0m\n\u001b[0;32m--> 132\u001b[0;31m             \u001b[0;32mreturn\u001b[0m \u001b[0mfunc\u001b[0m\u001b[0;34m(\u001b[0m\u001b[0mself\u001b[0m\u001b[0;34m,\u001b[0m \u001b[0mother\u001b[0m\u001b[0;34m)\u001b[0m\u001b[0;34m\u001b[0m\u001b[0;34m\u001b[0m\u001b[0m\n\u001b[0m\u001b[1;32m    133\u001b[0m         \u001b[0;32mreturn\u001b[0m \u001b[0mbinary_op_wrapper\u001b[0m\u001b[0;34m\u001b[0m\u001b[0;34m\u001b[0m\u001b[0m\n\u001b[1;32m    134\u001b[0m     \u001b[0;32mreturn\u001b[0m \u001b[0mpriority_decorator\u001b[0m\u001b[0;34m\u001b[0m\u001b[0;34m\u001b[0m\u001b[0m\n",
            "\u001b[0;32m/usr/local/lib/python3.6/dist-packages/sympy/matrices/common.py\u001b[0m in \u001b[0;36m__rsub__\u001b[0;34m(self, a)\u001b[0m\n\u001b[1;32m   2090\u001b[0m     \u001b[0;34m@\u001b[0m\u001b[0mcall_highest_priority\u001b[0m\u001b[0;34m(\u001b[0m\u001b[0;34m'__sub__'\u001b[0m\u001b[0;34m)\u001b[0m\u001b[0;34m\u001b[0m\u001b[0;34m\u001b[0m\u001b[0m\n\u001b[1;32m   2091\u001b[0m     \u001b[0;32mdef\u001b[0m \u001b[0m__rsub__\u001b[0m\u001b[0;34m(\u001b[0m\u001b[0mself\u001b[0m\u001b[0;34m,\u001b[0m \u001b[0ma\u001b[0m\u001b[0;34m)\u001b[0m\u001b[0;34m:\u001b[0m\u001b[0;34m\u001b[0m\u001b[0;34m\u001b[0m\u001b[0m\n\u001b[0;32m-> 2092\u001b[0;31m         \u001b[0;32mreturn\u001b[0m \u001b[0;34m(\u001b[0m\u001b[0;34m-\u001b[0m\u001b[0mself\u001b[0m\u001b[0;34m)\u001b[0m \u001b[0;34m+\u001b[0m \u001b[0ma\u001b[0m\u001b[0;34m\u001b[0m\u001b[0;34m\u001b[0m\u001b[0m\n\u001b[0m\u001b[1;32m   2093\u001b[0m \u001b[0;34m\u001b[0m\u001b[0m\n\u001b[1;32m   2094\u001b[0m     \u001b[0;34m@\u001b[0m\u001b[0mcall_highest_priority\u001b[0m\u001b[0;34m(\u001b[0m\u001b[0;34m'__rsub__'\u001b[0m\u001b[0;34m)\u001b[0m\u001b[0;34m\u001b[0m\u001b[0;34m\u001b[0m\u001b[0m\n",
            "\u001b[0;32m/usr/local/lib/python3.6/dist-packages/sympy/core/decorators.py\u001b[0m in \u001b[0;36mbinary_op_wrapper\u001b[0;34m(self, other)\u001b[0m\n\u001b[1;32m    130\u001b[0m                     \u001b[0;32melse\u001b[0m\u001b[0;34m:\u001b[0m\u001b[0;34m\u001b[0m\u001b[0;34m\u001b[0m\u001b[0m\n\u001b[1;32m    131\u001b[0m                         \u001b[0;32mreturn\u001b[0m \u001b[0mf\u001b[0m\u001b[0;34m(\u001b[0m\u001b[0mself\u001b[0m\u001b[0;34m)\u001b[0m\u001b[0;34m\u001b[0m\u001b[0;34m\u001b[0m\u001b[0m\n\u001b[0;32m--> 132\u001b[0;31m             \u001b[0;32mreturn\u001b[0m \u001b[0mfunc\u001b[0m\u001b[0;34m(\u001b[0m\u001b[0mself\u001b[0m\u001b[0;34m,\u001b[0m \u001b[0mother\u001b[0m\u001b[0;34m)\u001b[0m\u001b[0;34m\u001b[0m\u001b[0;34m\u001b[0m\u001b[0m\n\u001b[0m\u001b[1;32m    133\u001b[0m         \u001b[0;32mreturn\u001b[0m \u001b[0mbinary_op_wrapper\u001b[0m\u001b[0;34m\u001b[0m\u001b[0;34m\u001b[0m\u001b[0m\n\u001b[1;32m    134\u001b[0m     \u001b[0;32mreturn\u001b[0m \u001b[0mpriority_decorator\u001b[0m\u001b[0;34m\u001b[0m\u001b[0;34m\u001b[0m\u001b[0m\n",
            "\u001b[0;32m/usr/local/lib/python3.6/dist-packages/sympy/matrices/common.py\u001b[0m in \u001b[0;36m__add__\u001b[0;34m(self, other)\u001b[0m\n\u001b[1;32m   1962\u001b[0m             \u001b[0;32mreturn\u001b[0m \u001b[0mMatrixArithmetic\u001b[0m\u001b[0;34m.\u001b[0m\u001b[0m_eval_add\u001b[0m\u001b[0;34m(\u001b[0m\u001b[0mself\u001b[0m\u001b[0;34m,\u001b[0m \u001b[0mother\u001b[0m\u001b[0;34m)\u001b[0m\u001b[0;34m\u001b[0m\u001b[0;34m\u001b[0m\u001b[0m\n\u001b[1;32m   1963\u001b[0m \u001b[0;34m\u001b[0m\u001b[0m\n\u001b[0;32m-> 1964\u001b[0;31m         \u001b[0;32mraise\u001b[0m \u001b[0mTypeError\u001b[0m\u001b[0;34m(\u001b[0m\u001b[0;34m'cannot add %s and %s'\u001b[0m \u001b[0;34m%\u001b[0m \u001b[0;34m(\u001b[0m\u001b[0mtype\u001b[0m\u001b[0;34m(\u001b[0m\u001b[0mself\u001b[0m\u001b[0;34m)\u001b[0m\u001b[0;34m,\u001b[0m \u001b[0mtype\u001b[0m\u001b[0;34m(\u001b[0m\u001b[0mother\u001b[0m\u001b[0;34m)\u001b[0m\u001b[0;34m)\u001b[0m\u001b[0;34m)\u001b[0m\u001b[0;34m\u001b[0m\u001b[0;34m\u001b[0m\u001b[0m\n\u001b[0m\u001b[1;32m   1965\u001b[0m \u001b[0;34m\u001b[0m\u001b[0m\n\u001b[1;32m   1966\u001b[0m     \u001b[0;34m@\u001b[0m\u001b[0mcall_highest_priority\u001b[0m\u001b[0;34m(\u001b[0m\u001b[0;34m'__rdiv__'\u001b[0m\u001b[0;34m)\u001b[0m\u001b[0;34m\u001b[0m\u001b[0;34m\u001b[0m\u001b[0m\n",
            "\u001b[0;31mTypeError\u001b[0m: cannot add <class 'sympy.matrices.dense.MutableDenseMatrix'> and <class 'sympy.core.add.Add'>"
          ]
        }
      ],
      "source": [
        "# p5.ej11\n",
        "\n",
        "A, B = Matrix([[2,1],[3,0]]), Matrix([[6,2],[0,1]])\n",
        "\n",
        "sistema = [x+y-A,x-y-B]"
      ]
    },
    {
      "cell_type": "code",
      "execution_count": null,
      "metadata": {
        "colab": {
          "base_uri": "https://localhost:8080/",
          "height": 295
        },
        "id": "-2tJVC5LWouv",
        "outputId": "da8a66df-683f-4ca8-e4bc-63cf4e41a244"
      },
      "outputs": [
        {
          "name": "stdout",
          "output_type": "stream",
          "text": [
            "⎡⎡3   2   1 ⎤  ⎡3   2    1  ⎤   ⎤\n",
            "⎢⎢          ⎥  ⎢            ⎥   ⎥\n",
            "⎢⎢-1  2   -3⎥, ⎢0  8/3  -8/3⎥, 3⎥\n",
            "⎢⎢          ⎥  ⎢            ⎥   ⎥\n",
            "⎣⎣3   -4  9 ⎦  ⎣0   0    2  ⎦   ⎦\n",
            "⎡⎡0  2  1 ⎤  ⎡1  0  -1⎤   ⎤\n",
            "⎢⎢        ⎥  ⎢        ⎥   ⎥\n",
            "⎢⎢1  0  -1⎥, ⎢0  2  1 ⎥, 2⎥\n",
            "⎢⎢        ⎥  ⎢        ⎥   ⎥\n",
            "⎣⎣0  4  2 ⎦  ⎣0  0  0 ⎦   ⎦\n",
            "⎡⎡2   1  5  -1  8 ⎤  ⎡2   1    5    -1   8⎤   ⎤\n",
            "⎢⎢                ⎥  ⎢                    ⎥   ⎥\n",
            "⎢⎢-1  2  3  4   5 ⎥, ⎢0  5/2  11/2  7/2  9⎥, 3⎥\n",
            "⎢⎢                ⎥  ⎢                    ⎥   ⎥\n",
            "⎣⎣1   3  8  4   13⎦  ⎣0   0    0     1   0⎦   ⎦\n"
          ]
        },
        {
          "data": {
            "text/plain": [
              "[None, None, None]"
            ]
          },
          "execution_count": 4,
          "metadata": {
            "tags": []
          },
          "output_type": "execute_result"
        }
      ],
      "source": [
        "#P3.E8\n",
        "\n",
        "lista_matrices = [Matrix([[3, 2, 1],[-1,2,-3],[3,-4,9]]), Matrix([[0, 2, 1],[1,0,-1],[0,4,2]]), Matrix([[2, 1, 5, -1, 8],[-1,2,3,4,5],[1,3,8,4,13]])]\n",
        "#A = Matrix([[3, 2, 1],[-1,2,-3],[3,-4,9]])\n",
        "\n",
        "[pprint([i, i.LUdecomposition()[1], i.rank()]) for i in lista_matrices]"
      ]
    },
    {
      "cell_type": "code",
      "execution_count": null,
      "metadata": {
        "colab": {
          "base_uri": "https://localhost:8080/",
          "height": 119
        },
        "id": "x0AycbnUbV4x",
        "outputId": "69a4b0a0-2d59-406b-8c90-ddb21ea30464"
      },
      "outputs": [
        {
          "name": "stdout",
          "output_type": "stream",
          "text": [
            "⎡⎡1  2   -1⎤  ⎡1  2     -1  ⎤   ⎤\n",
            "⎢⎢         ⎥  ⎢             ⎥   ⎥\n",
            "⎢⎢1  1   3 ⎥, ⎢0  -1    4   ⎥, 3⎥\n",
            "⎢⎢         ⎥  ⎢             ⎥   ⎥\n",
            "⎣⎣5  -1  k ⎦  ⎣0  0   k - 39⎦   ⎦\n"
          ]
        },
        {
          "data": {
            "text/plain": [
              "[None]"
            ]
          },
          "execution_count": 17,
          "metadata": {
            "tags": []
          },
          "output_type": "execute_result"
        }
      ],
      "source": [
        "# P3.E8\n",
        "\n",
        "lista_matrices = [Matrix([[1,2,-1],[1,1,3],[5,-1,k]])]\n",
        "#A = Matrix([[3, 2, 1],[-1,2,-3],[3,-4,9]])\n",
        "\n",
        "[pprint([i, i.LUdecomposition()[1], i.rank()]) for i in lista_matrices]"
      ]
    },
    {
      "cell_type": "code",
      "execution_count": null,
      "metadata": {
        "colab": {
          "base_uri": "https://localhost:8080/",
          "height": 182
        },
        "id": "4o4GMoq-3Lhk",
        "outputId": "0d798307-c440-4f7c-8150-9c530f83a7a7"
      },
      "outputs": [
        {
          "name": "stdout",
          "output_type": "stream",
          "text": [
            "⎡        4               2     ⎤\n",
            "⎢2 - ──────────  1 + ──────────⎥\n",
            "⎢     2               2        ⎥\n",
            "⎢    a  + a - 2      a  + a - 2⎥\n",
            "⎢                              ⎥\n",
            "⎢      4              -2       ⎥\n",
            "⎢  ──────────      ──────────  ⎥\n",
            "⎢   2               2          ⎥\n",
            "⎣  a  + a - 2      a  + a - 2  ⎦\n"
          ]
        }
      ],
      "source": [
        "A, B = Matrix([[2,2],[2,a**2+a]]), Matrix([[2,1],[4,0]])\n",
        "SOL = A.inv('LU')*2*B\n",
        "pprint(SOL)"
      ]
    }
  ],
  "metadata": {
    "colab": {
      "collapsed_sections": [],
      "name": "matrices.ipynb",
      "provenance": []
    },
    "kernelspec": {
      "display_name": "Python 3",
      "language": "python",
      "name": "python3"
    },
    "language_info": {
      "codemirror_mode": {
        "name": "ipython",
        "version": 3
      },
      "file_extension": ".py",
      "mimetype": "text/x-python",
      "name": "python",
      "nbconvert_exporter": "python",
      "pygments_lexer": "ipython3",
      "version": "3.6.13"
    }
  },
  "nbformat": 4,
  "nbformat_minor": 0
}
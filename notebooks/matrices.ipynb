{
  "cells": [
    {
      "cell_type": "code",
      "execution_count": 1,
      "metadata": {
        "id": "-cVvkLt0Yl6m"
      },
      "outputs": [],
      "source": [
        "#!pip install sympy"
      ]
    },
    {
      "cell_type": "code",
      "execution_count": 2,
      "metadata": {
        "colab": {
          "base_uri": "https://localhost:8080/"
        },
        "id": "7ectzu81ZUGJ",
        "outputId": "8381537e-d9f4-46b8-852b-95378b731d52"
      },
      "outputs": [
        {
          "output_type": "stream",
          "name": "stdout",
          "text": [
            "IPython console for SymPy 1.7.1 (Python 3.7.13-64-bit) (ground types: python)\n",
            "\n",
            "These commands were executed:\n",
            ">>> from __future__ import division\n",
            ">>> from sympy import *\n",
            ">>> x, y, z, t = symbols('x y z t')\n",
            ">>> k, m, n = symbols('k m n', integer=True)\n",
            ">>> f, g, h = symbols('f g h', cls=Function)\n",
            ">>> init_printing()\n",
            "\n",
            "Documentation can be found at https://docs.sympy.org/1.7.1/\n",
            "\n"
          ]
        }
      ],
      "source": [
        "from sympy import *\n",
        "init_session()"
      ]
    },
    {
      "cell_type": "code",
      "execution_count": 3,
      "metadata": {
        "id": "fkQeaZkrY0PY"
      },
      "outputs": [],
      "source": [
        "# from sympy import *\n",
        "\n",
        "# # init_session()\n",
        "\n",
        "# from __future__ import division\n",
        "# x, y, z, t = symbols('x y z t')\n",
        "# k, m, n = symbols('k m n', integer=True)\n",
        "# f, g, h = symbols('f g h', cls=Function)\n",
        "# init_printing()\n"
      ]
    },
    {
      "cell_type": "code",
      "execution_count": 4,
      "metadata": {
        "colab": {
          "base_uri": "https://localhost:8080/"
        },
        "id": "eSlSnZI5Zh4W",
        "outputId": "71f39083-f811-4a2f-80a5-10918d65eb7c"
      },
      "outputs": [
        {
          "output_type": "stream",
          "name": "stdout",
          "text": [
            "⎡1   2⎤\n",
            "⎢     ⎥\n",
            "⎣-2  3⎦\n",
            "⎡0  3⎤\n",
            "⎢    ⎥\n",
            "⎣1  2⎦\n",
            "⎡-1  3 ⎤\n",
            "⎢      ⎥\n",
            "⎣0   -2⎦\n",
            "A+B-C:\n",
            "⎡2   2⎤\n",
            "⎢     ⎥\n",
            "⎣-1  7⎦\n",
            "A-B+C:\n",
            "⎡0   2 ⎤\n",
            "⎢      ⎥\n",
            "⎣-3  -1⎦\n",
            "2*A-3*B:\n",
            "⎡2   -5⎤\n",
            "⎢      ⎥\n",
            "⎣-7  0 ⎦\n",
            "A-2*B+3*C:\n",
            "⎡-2  5 ⎤\n",
            "⎢      ⎥\n",
            "⎣-4  -7⎦\n"
          ]
        }
      ],
      "source": [
        "# p3. e1\n",
        "\n",
        "A = Matrix([[1,2],[-2,3]])\n",
        "B = Matrix([[0,3],[1,2]])\n",
        "C = Matrix([[-1,3],[0,-2]])\n",
        "\n",
        "pprint(A), pprint(B),pprint(C)\n",
        "pprint(\"A+B-C:\")\n",
        "pprint(A+B-C)\n",
        "pprint(\"A-B+C:\")\n",
        "pprint(A-B+C)\n",
        "pprint(\"2*A-3*B:\")\n",
        "pprint(2*A-3*B)\n",
        "pprint(\"A-2*B+3*C:\")\n",
        "pprint(A-2*B+3*C)\n"
      ]
    },
    {
      "cell_type": "code",
      "execution_count": 5,
      "metadata": {
        "colab": {
          "base_uri": "https://localhost:8080/"
        },
        "id": "-OdL4aFRcSUy",
        "outputId": "e806e807-80c7-40e2-9d42-7a7005e5f3c1"
      },
      "outputs": [
        {
          "output_type": "stream",
          "name": "stdout",
          "text": [
            "⎡2  15  14⎤\n",
            "⎢         ⎥\n",
            "⎣8  17  9 ⎦\n"
          ]
        }
      ],
      "source": [
        "# p3. e2\n",
        "\n",
        "A = Matrix([[1,5,6],[2,8,4]])\n",
        "B = Matrix([[1,0,4],[-2,7,3]])\n",
        "\n",
        "\n",
        "pprint(3*A-B)"
      ]
    },
    {
      "cell_type": "code",
      "execution_count": 6,
      "metadata": {
        "id": "qo3a3muPZUGO",
        "outputId": "fe280da6-9d90-46a5-c281-ea2a83a440c0",
        "colab": {
          "base_uri": "https://localhost:8080/",
          "height": 58
        }
      },
      "outputs": [
        {
          "output_type": "execute_result",
          "data": {
            "text/plain": [
              "⎛⎡-1   -1   14 ⎤  ⎡7    14   -21⎤⎞\n",
              "⎜⎢             ⎥, ⎢             ⎥⎟\n",
              "⎝⎣-12  134  -21⎦  ⎣28  -196  49 ⎦⎠"
            ],
            "text/latex": "$\\displaystyle \\left( \\left[\\begin{matrix}-1 & -1 & 14\\\\-12 & 134 & -21\\end{matrix}\\right], \\  \\left[\\begin{matrix}7 & 14 & -21\\\\28 & -196 & 49\\end{matrix}\\right]\\right)$"
          },
          "metadata": {},
          "execution_count": 6
        }
      ],
      "source": [
        "# p3.e3\n",
        "A = Matrix([[5,12,7],[4,72,7]])\n",
        "B = Matrix([[11,25,0],[20,10,35]])\n",
        "X=2*A-B\n",
        "Y=A-2*X\n",
        "X,Y"
      ]
    },
    {
      "cell_type": "code",
      "execution_count": 7,
      "metadata": {
        "id": "1IiLaLpxZUGP",
        "outputId": "9b05a7f7-a5e0-40ed-cde5-e557318e604a",
        "colab": {
          "base_uri": "https://localhost:8080/",
          "height": 78
        }
      },
      "outputs": [
        {
          "output_type": "execute_result",
          "data": {
            "text/plain": [
              "⎡1  0  0⎤\n",
              "⎢       ⎥\n",
              "⎢0  1  0⎥\n",
              "⎢       ⎥\n",
              "⎣0  0  1⎦"
            ],
            "text/latex": "$\\displaystyle \\left[\\begin{matrix}1 & 0 & 0\\\\0 & 1 & 0\\\\0 & 0 & 1\\end{matrix}\\right]$"
          },
          "metadata": {},
          "execution_count": 7
        }
      ],
      "source": [
        "# p3.e4\n",
        "A = Matrix([[1,2,0],[0,0,1],[1,1,1]])\n",
        "B = Matrix([[-1,-2,2],[1,1,-1],[0,1,0]])\n",
        "A*B"
      ]
    },
    {
      "cell_type": "code",
      "execution_count": 8,
      "metadata": {
        "id": "LD--9IBAZUGQ",
        "outputId": "664648e9-a957-4bc0-e555-5979d475e69a",
        "colab": {
          "base_uri": "https://localhost:8080/",
          "height": 58
        }
      },
      "outputs": [
        {
          "output_type": "execute_result",
          "data": {
            "text/plain": [
              "⎛⎡23  12⎤  ⎡45  40⎤  ⎡231  196⎤  ⎡80   56 ⎤⎞\n",
              "⎜⎢      ⎥, ⎢      ⎥, ⎢        ⎥, ⎢        ⎥⎟\n",
              "⎝⎣47  18⎦  ⎣24  19⎦  ⎣459  394⎦  ⎣154  130⎦⎠"
            ],
            "text/latex": "$\\displaystyle \\left( \\left[\\begin{matrix}23 & 12\\\\47 & 18\\end{matrix}\\right], \\  \\left[\\begin{matrix}45 & 40\\\\24 & 19\\end{matrix}\\right], \\  \\left[\\begin{matrix}231 & 196\\\\459 & 394\\end{matrix}\\right], \\  \\left[\\begin{matrix}80 & 56\\\\154 & 130\\end{matrix}\\right]\\right)$"
          },
          "metadata": {},
          "execution_count": 8
        }
      ],
      "source": [
        "# p3.e5\n",
        "A = Matrix([[3,4],[7,6]])\n",
        "B = Matrix([[5,0],[2,3]])\n",
        "C = Matrix([[9,8],[2,1]])\n",
        "\n",
        "A*B, B*C, A*B*C, 2*(B+A*C)"
      ]
    },
    {
      "cell_type": "code",
      "execution_count": 9,
      "metadata": {
        "id": "ZqnVGxh8ZUGQ",
        "outputId": "7ecf242d-b968-4fe5-e9a5-9b928b3fca20",
        "colab": {
          "base_uri": "https://localhost:8080/",
          "height": 78
        }
      },
      "outputs": [
        {
          "output_type": "execute_result",
          "data": {
            "text/plain": [
              "⎛⎡5   20⎤  ⎡5   20⎤⎞\n",
              "⎜⎢      ⎥  ⎢      ⎥⎟\n",
              "⎜⎢3   4 ⎥, ⎢3   4 ⎥⎟\n",
              "⎜⎢      ⎥  ⎢      ⎥⎟\n",
              "⎝⎣-1  -8⎦  ⎣-1  -8⎦⎠"
            ],
            "text/latex": "$\\displaystyle \\left( \\left[\\begin{matrix}5 & 20\\\\3 & 4\\\\-1 & -8\\end{matrix}\\right], \\  \\left[\\begin{matrix}5 & 20\\\\3 & 4\\\\-1 & -8\\end{matrix}\\right]\\right)$"
          },
          "metadata": {},
          "execution_count": 9
        }
      ],
      "source": [
        "# p3.e6\n",
        "A = Matrix([[-1,3],[2,4]])\n",
        "B = Matrix([[4,0,-2],[3,1,-1]])\n",
        "\n",
        "(A*B).transpose(), B.transpose()*A.transpose()\n"
      ]
    },
    {
      "cell_type": "code",
      "execution_count": 10,
      "metadata": {
        "id": "jkzWyPswZUGR",
        "outputId": "785e117e-7091-4c57-9588-ca552649b7d2",
        "colab": {
          "base_uri": "https://localhost:8080/",
          "height": 47
        }
      },
      "outputs": [
        {
          "output_type": "execute_result",
          "data": {
            "text/plain": [
              "⎡⎧       ________        ________⎫                                            \n",
              "⎢⎨      ╱      2        ╱      2 ⎬                                            \n",
              "⎣⎩x: -╲╱  1 - z  , y: ╲╱  1 - z  ⎭, {x: -1, y: -1, z: 0}, {x: 0, y: 0, z: -1},\n",
              "\n",
              "                   ⎤\n",
              "                   ⎥\n",
              " {x: 0, y: 0, z: 1}⎦"
            ],
            "image/png": "[encoded data removed]",
            "text/latex": "$\\displaystyle \\left[ \\left\\{ x : - \\sqrt{1 - z^{2}}, \\  y : \\sqrt{1 - z^{2}}\\right\\}, \\  \\left\\{ x : -1, \\  y : -1, \\  z : 0\\right\\}, \\  \\left\\{ x : 0, \\  y : 0, \\  z : -1\\right\\}, \\  \\left\\{ x : 0, \\  y : 0, \\  z : 1\\right\\}\\right]$"
          },
          "metadata": {},
          "execution_count": 10
        }
      ],
      "source": [
        "# p3.e7\n",
        "A = Matrix([[x,z],[z,y]])\n",
        "\n",
        "A**2, eye(2)\n",
        "solve(A**2-eye(2))"
      ]
    },
    {
      "cell_type": "code",
      "execution_count": 11,
      "metadata": {
        "id": "MksHQR3LZUGS",
        "outputId": "83398dd1-eb19-4933-f7b5-bea34ce75d07",
        "colab": {
          "base_uri": "https://localhost:8080/",
          "height": 78
        }
      },
      "outputs": [
        {
          "output_type": "execute_result",
          "data": {
            "text/plain": [
              "⎛⎡3   2    1  ⎤     ⎡1  0  -1⎤     ⎡2   1    5    -1   8⎤   ⎞\n",
              "⎜⎢            ⎥     ⎢        ⎥     ⎢                    ⎥   ⎟\n",
              "⎜⎢0  8/3  -8/3⎥, 3, ⎢0  2  1 ⎥, 2, ⎢0  5/2  11/2  7/2  9⎥, 3⎟\n",
              "⎜⎢            ⎥     ⎢        ⎥     ⎢                    ⎥   ⎟\n",
              "⎝⎣0   0    2  ⎦     ⎣0  0  0 ⎦     ⎣0   0    0     1   0⎦   ⎠"
            ],
            "text/latex": "$\\displaystyle \\left( \\left[\\begin{matrix}3 & 2 & 1\\\\0 & \\frac{8}{3} & - \\frac{8}{3}\\\\0 & 0 & 2\\end{matrix}\\right], \\  3, \\  \\left[\\begin{matrix}1 & 0 & -1\\\\0 & 2 & 1\\\\0 & 0 & 0\\end{matrix}\\right], \\  2, \\  \\left[\\begin{matrix}2 & 1 & 5 & -1 & 8\\\\0 & \\frac{5}{2} & \\frac{11}{2} & \\frac{7}{2} & 9\\\\0 & 0 & 0 & 1 & 0\\end{matrix}\\right], \\  3\\right)$"
          },
          "metadata": {},
          "execution_count": 11
        }
      ],
      "source": [
        "# p3.e8\n",
        "A = Matrix([[3,2,1],[-1,2,-3],[3,-4,9]])\n",
        "B = Matrix([[0,2,1],[1,0,-1],[0,4,2]])\n",
        "C = Matrix([[2,1,5,-1,8],[-1,2,3,4,5],[1,3,8,4,13]])\n",
        "\n",
        "A.LUdecomposition()[1], A.rank(), B.LUdecomposition()[1], B.rank(), C.LUdecomposition()[1], C.rank()"
      ]
    },
    {
      "cell_type": "code",
      "execution_count": 12,
      "metadata": {
        "id": "PaqJ0srhZUGT",
        "outputId": "b9c29007-2140-4f9b-9817-b33c8854da84",
        "colab": {
          "base_uri": "https://localhost:8080/",
          "height": 78
        }
      },
      "outputs": [
        {
          "output_type": "execute_result",
          "data": {
            "text/plain": [
              "⎛⎡1  -2    1   ⎤   ⎞\n",
              "⎜⎢             ⎥   ⎟\n",
              "⎜⎢0  3     2   ⎥, 3⎟\n",
              "⎜⎢             ⎥   ⎟\n",
              "⎝⎣0  0   k - 11⎦   ⎠"
            ],
            "text/latex": "$\\displaystyle \\left( \\left[\\begin{matrix}1 & -2 & 1\\\\0 & 3 & 2\\\\0 & 0 & k - 11\\end{matrix}\\right], \\  3\\right)$"
          },
          "metadata": {},
          "execution_count": 12
        }
      ],
      "source": [
        "# p3.e9\n",
        "A = Matrix([[1,-2,1],[1,1,3],[5,-1,k]])\n",
        "\n",
        "A.LUdecomposition()[1], A.rank()"
      ]
    },
    {
      "cell_type": "code",
      "execution_count": 13,
      "metadata": {
        "id": "vjCpbqEjZUGW",
        "outputId": "41c2e4dc-51fd-4627-bae6-36af2b7f5c18",
        "colab": {
          "base_uri": "https://localhost:8080/",
          "height": 78
        }
      },
      "outputs": [
        {
          "output_type": "execute_result",
          "data": {
            "text/plain": [
              "⎛⎡3   2    1     1     0   0⎤  ⎡3/8   -11/8  -1/2⎤⎞\n",
              "⎜⎢                          ⎥  ⎢                 ⎥⎟\n",
              "⎜⎢0  8/3  -8/3  1/3    1   0⎥, ⎢ 0     3/2   1/2 ⎥⎟\n",
              "⎜⎢                          ⎥  ⎢                 ⎥⎟\n",
              "⎝⎣0   0    2    -1/4  9/4  1⎦  ⎣-1/8   9/8   1/2 ⎦⎠"
            ],
            "text/latex": "$\\displaystyle \\left( \\left[\\begin{matrix}3 & 2 & 1 & 1 & 0 & 0\\\\0 & \\frac{8}{3} & - \\frac{8}{3} & \\frac{1}{3} & 1 & 0\\\\0 & 0 & 2 & - \\frac{1}{4} & \\frac{9}{4} & 1\\end{matrix}\\right], \\  \\left[\\begin{matrix}\\frac{3}{8} & - \\frac{11}{8} & - \\frac{1}{2}\\\\0 & \\frac{3}{2} & \\frac{1}{2}\\\\- \\frac{1}{8} & \\frac{9}{8} & \\frac{1}{2}\\end{matrix}\\right]\\right)$"
          },
          "metadata": {},
          "execution_count": 13
        }
      ],
      "source": [
        "# p3.e10\n",
        "\n",
        "\n",
        "A = Matrix([[3,2,1],[-1,2,-3],[3,-4,9]])\n",
        "\n",
        "A.LUdecomposition()[1], A.rank()\n",
        "# for i in eye(3).rows:\n",
        "#     print(i)\n",
        "    \n",
        "# A.row_insert(eye(3))\n",
        "\n",
        "# eye(3).col(i)\n",
        "\n",
        "B=BlockMatrix([A,eye(3)]).as_explicit()\n",
        "B.LUdecomposition()[1],A.inv()\n"
      ]
    },
    {
      "cell_type": "code",
      "execution_count": 14,
      "metadata": {
        "colab": {
          "base_uri": "https://localhost:8080/"
        },
        "id": "d_Ox16SUccqB",
        "outputId": "cc04a4eb-5f1e-472a-8e65-26e1531afd40"
      },
      "outputs": [
        {
          "output_type": "stream",
          "name": "stdout",
          "text": [
            "⎡  5 - a     a - b + 7⎤\n",
            "⎢                     ⎥\n",
            "⎣-c + d - 2    d + 4  ⎦\n",
            "{a: 5, b: 12, c: -6, d: -4}\n"
          ]
        }
      ],
      "source": [
        "# p4 e1\n",
        "\n",
        "a, b, c, d = symbols('a b c d')\n",
        "\n",
        "# solución\n",
        "\n",
        "SOL = Matrix([[a,7],[-2,3*d]])+Matrix([[5,a+b],[c+d,4]])-2*Matrix([[a,b],[c,d]])\n",
        "\n",
        "#a, b, c, d = [5,12,-6,-4]\n",
        "# comprobación: \n",
        "pprint(SOL)\n",
        "\n",
        "sistema = [i for i in SOL]\n",
        "#[sistema.append(i) for i in SOL]\n",
        "#[[sistema.append(SOL)]]\n",
        "SOL.shape[0]\n",
        "#pprint(sistema)\n",
        "pprint(solve(sistema,(a,b,c,d)))\n",
        "\n",
        "\n",
        "\n"
      ]
    },
    {
      "cell_type": "code",
      "execution_count": 15,
      "metadata": {
        "colab": {
          "base_uri": "https://localhost:8080/",
          "height": 58
        },
        "id": "ibMHWXW0bG__",
        "outputId": "a94bb106-a62f-4bcc-f555-6f2e95030904"
      },
      "outputs": [
        {
          "output_type": "execute_result",
          "data": {
            "text/plain": [
              "⎛⎡5   -1⎤  ⎡-2  -3⎤  ⎡29  -15⎤  ⎡9   -6⎤  ⎡25   -45⎤⎞\n",
              "⎜⎢      ⎥, ⎢      ⎥, ⎢       ⎥, ⎢      ⎥, ⎢        ⎥⎟\n",
              "⎝⎣-1  1 ⎦  ⎣3   2 ⎦  ⎣7   -19⎦  ⎣-8  2 ⎦  ⎣-43  73 ⎦⎠"
            ],
            "text/latex": "$\\displaystyle \\left( \\left[\\begin{matrix}5 & -1\\\\-1 & 1\\end{matrix}\\right], \\  \\left[\\begin{matrix}-2 & -3\\\\3 & 2\\end{matrix}\\right], \\  \\left[\\begin{matrix}29 & -15\\\\7 & -19\\end{matrix}\\right], \\  \\left[\\begin{matrix}9 & -6\\\\-8 & 2\\end{matrix}\\right], \\  \\left[\\begin{matrix}25 & -45\\\\-43 & 73\\end{matrix}\\right]\\right)$"
          },
          "metadata": {},
          "execution_count": 15
        }
      ],
      "source": [
        "# p4.e2\n",
        "\n",
        "A = Matrix([[1,-1],[0,3]])\n",
        "B = Matrix([[4,0],[-1,-2]])\n",
        "C = Matrix([[-1,2],[-2,3]])\n",
        "\n",
        "A+B, A-B-C, 3*A+5*B-6*C, A*B-B*C, 2*A+3*A*C-5*B*C\n"
      ]
    },
    {
      "cell_type": "code",
      "execution_count": 16,
      "metadata": {
        "id": "ZNKBAjBMMD-n",
        "outputId": "79c6b576-0719-46e2-b7b3-8a1127feb4b0",
        "colab": {
          "base_uri": "https://localhost:8080/",
          "height": 78
        }
      },
      "outputs": [
        {
          "output_type": "execute_result",
          "data": {
            "text/plain": [
              "⎛⎡4  -6  -1⎤          ⎞\n",
              "⎜⎢         ⎥  ⎡2   1 ⎤⎟\n",
              "⎜⎢8  13  13⎥, ⎢      ⎥⎟\n",
              "⎜⎢         ⎥  ⎣10  27⎦⎟\n",
              "⎝⎣0  20  12⎦          ⎠"
            ],
            "text/latex": "$\\displaystyle \\left( \\left[\\begin{matrix}4 & -6 & -1\\\\8 & 13 & 13\\\\0 & 20 & 12\\end{matrix}\\right], \\  \\left[\\begin{matrix}2 & 1\\\\10 & 27\\end{matrix}\\right]\\right)$"
          },
          "metadata": {},
          "execution_count": 16
        }
      ],
      "source": [
        "# p4.e3\n",
        "\n",
        "A = Matrix([[1,-1],[2,3],[0,4]])\n",
        "B = Matrix([[4,-1,2],[0,5,3]])\n",
        "\n",
        "A*B, B*A"
      ]
    },
    {
      "cell_type": "code",
      "execution_count": 17,
      "metadata": {
        "id": "obEhqwq8MD-n",
        "outputId": "6b84376d-79ea-4669-f311-43bb68bcdc30",
        "colab": {
          "base_uri": "https://localhost:8080/",
          "height": 39
        }
      },
      "outputs": [
        {
          "output_type": "execute_result",
          "data": {
            "text/plain": [
              "[{a: 0, b: 1}, {a: 1, b: 0}]"
            ],
            "image/png": "[encoded data removed]",
            "text/latex": "$\\displaystyle \\left[ \\left\\{ a : 0, \\  b : 1\\right\\}, \\  \\left\\{ a : 1, \\  b : 0\\right\\}\\right]$"
          },
          "metadata": {},
          "execution_count": 17
        }
      ],
      "source": [
        "# p4.e4\n",
        "a, b, c, d = symbols('a b c d')\n",
        "A = Matrix([[a,0],[1,b]])\n",
        "\n",
        "\n",
        "solve(A*A-A)"
      ]
    },
    {
      "cell_type": "code",
      "execution_count": 18,
      "metadata": {
        "id": "UyuCAMWAMD-o",
        "outputId": "06b28f13-297e-4cc8-c29e-a0b2de33a39b",
        "colab": {
          "base_uri": "https://localhost:8080/",
          "height": 39
        }
      },
      "outputs": [
        {
          "output_type": "execute_result",
          "data": {
            "text/plain": [
              "{a: d, c: 0}"
            ],
            "image/png": "[encoded data removed]",
            "text/latex": "$\\displaystyle \\left\\{ a : d, \\  c : 0\\right\\}$"
          },
          "metadata": {},
          "execution_count": 18
        }
      ],
      "source": [
        "# p4.e5\n",
        "A = Matrix([[1,2],[0,1]])\n",
        "B = Matrix([[a,b],[c,d]])\n",
        "\n",
        "\n",
        "solve(A*B-B*A)"
      ]
    },
    {
      "cell_type": "code",
      "execution_count": 19,
      "metadata": {
        "id": "H1crTs1RMD-o",
        "outputId": "a7a64705-27c1-4762-b579-166c5cd97e23",
        "colab": {
          "base_uri": "https://localhost:8080/",
          "height": 78
        }
      },
      "outputs": [
        {
          "output_type": "execute_result",
          "data": {
            "text/plain": [
              "⎛⎡8⎤                  ⎞\n",
              "⎜⎢ ⎥  ⎡3  5   7⎤  ⎡4 ⎤⎟\n",
              "⎜⎢4⎥, ⎢        ⎥, ⎢  ⎥⎟\n",
              "⎜⎢ ⎥  ⎣7  15  8⎦  ⎣16⎦⎟\n",
              "⎝⎣1⎦                  ⎠"
            ],
            "text/latex": "$\\displaystyle \\left( \\left[\\begin{matrix}8\\\\4\\\\1\\end{matrix}\\right], \\  \\left[\\begin{matrix}3 & 5 & 7\\\\7 & 15 & 8\\end{matrix}\\right], \\  \\left[\\begin{matrix}4\\\\16\\end{matrix}\\right]\\right)$"
          },
          "metadata": {},
          "execution_count": 19
        }
      ],
      "source": [
        "# p4.e6\n",
        "\n",
        "A = Matrix([[1,2,3],[1,1,1],[0,1,-1]])\n",
        "B = Matrix([1,2,1])\n",
        "C = Matrix([[2,1,0],[3,4,5]])\n",
        "\n",
        "A*B, C*A, C*B\n"
      ]
    },
    {
      "cell_type": "code",
      "execution_count": 20,
      "metadata": {
        "id": "AKpiIPw3MD-p",
        "outputId": "3dff7833-9840-4ee5-c9ae-755fecc0bdb9",
        "colab": {
          "base_uri": "https://localhost:8080/",
          "height": 39
        }
      },
      "outputs": [
        {
          "output_type": "execute_result",
          "data": {
            "text/plain": [
              "{a: d, c: 0}"
            ],
            "image/png": "[encoded data removed]",
            "text/latex": "$\\displaystyle \\left\\{ a : d, \\  c : 0\\right\\}$"
          },
          "metadata": {},
          "execution_count": 20
        }
      ],
      "source": [
        "# p4.e7\n",
        "A = Matrix([[1,1],[0,1]])\n",
        "B = Matrix([[a,b],[c,d]])\n",
        "\n",
        "\n",
        "solve(A*B-B*A)"
      ]
    },
    {
      "cell_type": "code",
      "execution_count": 21,
      "metadata": {
        "id": "BosgFsAEMD-p",
        "outputId": "461a850a-99a3-40d3-8509-d7d27dced6d4",
        "colab": {
          "base_uri": "https://localhost:8080/",
          "height": 39
        }
      },
      "outputs": [
        {
          "output_type": "execute_result",
          "data": {
            "text/plain": [
              "{a: i, b: 0, c: 0, d: h, e: i, f: 0}"
            ],
            "image/png": "[encoded data removed]",
            "text/latex": "$\\displaystyle \\left\\{ a : i, \\  b : 0, \\  c : 0, \\  d : h, \\  e : i, \\  f : 0\\right\\}$"
          },
          "metadata": {},
          "execution_count": 21
        }
      ],
      "source": [
        "# p4.e7b\n",
        "a, b, c, d, e, f, g, h, i = symbols('a b c d e f g h i')\n",
        "A = Matrix([[0,0,0],[1,0,0],[1,1,0]])\n",
        "B = Matrix([[a,b,c],[d,e,f],[g,h,i]])\n",
        "\n",
        "solve(A*B-B*A)"
      ]
    },
    {
      "cell_type": "code",
      "execution_count": 22,
      "metadata": {
        "id": "BItdZ0UfMD-p",
        "outputId": "6ae8e391-a1e6-4cb1-f3e8-b18ab4cd09d0",
        "colab": {
          "base_uri": "https://localhost:8080/",
          "height": 78
        }
      },
      "outputs": [
        {
          "output_type": "execute_result",
          "data": {
            "text/plain": [
              "⎛⎡0  0  0⎤  ⎡0   -3  -4⎤⎞\n",
              "⎜⎢       ⎥  ⎢          ⎥⎟\n",
              "⎜⎢0  0  0⎥, ⎢-1  4   5 ⎥⎟\n",
              "⎜⎢       ⎥  ⎢          ⎥⎟\n",
              "⎝⎣0  0  0⎦  ⎣1   -3  -4⎦⎠"
            ],
            "text/latex": "$\\displaystyle \\left( \\left[\\begin{matrix}0 & 0 & 0\\\\0 & 0 & 0\\\\0 & 0 & 0\\end{matrix}\\right], \\  \\left[\\begin{matrix}0 & -3 & -4\\\\-1 & 4 & 5\\\\1 & -3 & -4\\end{matrix}\\right]\\right)$"
          },
          "metadata": {},
          "execution_count": 22
        }
      ],
      "source": [
        "# p4.e8\n",
        "A = Matrix([[0,3,4],[1,-4,-5],[-1,3,4]])\n",
        "A**3 + diag(1,1,1), A**10\n",
        "\n"
      ]
    },
    {
      "cell_type": "code",
      "execution_count": 23,
      "metadata": {
        "id": "Hwn4JRpLMD-q",
        "outputId": "01d317ff-b5ee-4bce-ed9f-d34661d0cff8",
        "colab": {
          "base_uri": "https://localhost:8080/",
          "height": 78
        }
      },
      "outputs": [
        {
          "output_type": "execute_result",
          "data": {
            "text/plain": [
              "⎛                                                               ⎡-4  0   3 ⎤  \n",
              "⎜⎡1  2   6⎤  ⎡3   -15  -10⎤  ⎡7 ⎤  ⎡-11  3   12  -18⎤           ⎢          ⎥  \n",
              "⎜⎢        ⎥, ⎢            ⎥, ⎢  ⎥, ⎢                ⎥, [7  -1], ⎢-5  -3  12⎥, \n",
              "⎜⎣3  -2  0⎦  ⎣16   8   -21⎦  ⎣-1⎦  ⎣11   -5  -8  -6 ⎦           ⎢          ⎥  \n",
              "⎝                                                               ⎣16  -4  -1⎦  \n",
              "\n",
              "      ⎡4  2  6⎤⎞\n",
              "      ⎢       ⎥⎟\n",
              "[14], ⎢2  1  3⎥⎟\n",
              "      ⎢       ⎥⎟\n",
              "      ⎣6  3  9⎦⎠"
            ],
            "text/latex": "$\\displaystyle \\left( \\left[\\begin{matrix}1 & 2 & 6\\\\3 & -2 & 0\\end{matrix}\\right], \\  \\left[\\begin{matrix}3 & -15 & -10\\\\16 & 8 & -21\\end{matrix}\\right], \\  \\left[\\begin{matrix}7\\\\-1\\end{matrix}\\right], \\  \\left[\\begin{matrix}-11 & 3 & 12 & -18\\\\11 & -5 & -8 & -6\\end{matrix}\\right], \\  \\left[\\begin{matrix}7 & -1\\end{matrix}\\right], \\  \\left[\\begin{matrix}-4 & 0 & 3\\\\-5 & -3 & 12\\\\16 & -4 & -1\\end{matrix}\\right], \\  \\left[\\begin{matrix}14\\end{matrix}\\right], \\  \\left[\\begin{matrix}4 & 2 & 6\\\\2 & 1 & 3\\\\6 & 3 & 9\\end{matrix}\\right]\\right)$"
          },
          "metadata": {},
          "execution_count": 23
        }
      ],
      "source": [
        "# p4.e9\n",
        "\n",
        "A = Matrix([[1,-1,2],[4,0,-3]])\n",
        "B = Matrix([[0,3,4],[-1,-2,3]])\n",
        "C = Matrix([[2,3,0,1],[-5,1,4,-2],[1,0,0,-3]])\n",
        "D = Matrix([2,1,3])\n",
        "\n",
        "A, B, C, D\n",
        "\n",
        "A+B, 3*A-4*B, A*D, B*C, D.transpose()*A.transpose(), B.transpose()*A, D.transpose()*D, D*D.transpose() "
      ]
    },
    {
      "cell_type": "code",
      "execution_count": 24,
      "metadata": {
        "id": "QvcWZ91xMD-q",
        "outputId": "de3e61aa-3d9d-4f04-c233-d8f21ea2f2e0",
        "colab": {
          "base_uri": "https://localhost:8080/",
          "height": 58
        }
      },
      "outputs": [
        {
          "output_type": "execute_result",
          "data": {
            "text/plain": [
              "⎛⎡0  -1⎤  ⎡-1  0 ⎤  ⎡0   1⎤  ⎡1  0⎤  ⎡0  -1⎤  ⎡-1  0 ⎤  ⎡0  -1⎤               \n",
              "⎜⎢     ⎥, ⎢      ⎥, ⎢     ⎥, ⎢    ⎥, ⎢     ⎥, ⎢      ⎥, ⎢     ⎥, {a: d, b: -c}\n",
              "⎝⎣1  0 ⎦  ⎣0   -1⎦  ⎣-1  0⎦  ⎣0  1⎦  ⎣1  0 ⎦  ⎣0   -1⎦  ⎣1  0 ⎦               \n",
              "\n",
              "⎞\n",
              "⎟\n",
              "⎠"
            ],
            "text/latex": "$\\displaystyle \\left( \\left[\\begin{matrix}0 & -1\\\\1 & 0\\end{matrix}\\right], \\  \\left[\\begin{matrix}-1 & 0\\\\0 & -1\\end{matrix}\\right], \\  \\left[\\begin{matrix}0 & 1\\\\-1 & 0\\end{matrix}\\right], \\  \\left[\\begin{matrix}1 & 0\\\\0 & 1\\end{matrix}\\right], \\  \\left[\\begin{matrix}0 & -1\\\\1 & 0\\end{matrix}\\right], \\  \\left[\\begin{matrix}-1 & 0\\\\0 & -1\\end{matrix}\\right], \\  \\left[\\begin{matrix}0 & -1\\\\1 & 0\\end{matrix}\\right], \\  \\left\\{ a : d, \\  b : - c\\right\\}\\right)$"
          },
          "metadata": {},
          "execution_count": 24
        }
      ],
      "source": [
        "# p5.e10\n",
        "A = Matrix([[0,-1],[1,0]])\n",
        "B = Matrix([[a,b],[c,d]])\n",
        "\n",
        "\n",
        "A, A**2, A**3, A**4, A**5, A**50, A**97, solve(A*B-B*A)"
      ]
    },
    {
      "cell_type": "code",
      "execution_count": 25,
      "metadata": {
        "id": "LAPhjjupMD-r",
        "outputId": "50c74f98-3a66-4eda-d8fb-b81d4055eca3",
        "colab": {
          "base_uri": "https://localhost:8080/",
          "height": 58
        }
      },
      "outputs": [
        {
          "output_type": "execute_result",
          "data": {
            "text/plain": [
              "⎛⎡-1/7  3/7  4/7⎤  ⎡9/7  8/7  6/7 ⎤⎞\n",
              "⎜⎢              ⎥, ⎢              ⎥⎟\n",
              "⎝⎣ -1   3/7  1/7⎦  ⎣ 0   1/7  -2/7⎦⎠"
            ],
            "text/latex": "$\\displaystyle \\left( \\left[\\begin{matrix}- \\frac{1}{7} & \\frac{3}{7} & \\frac{4}{7}\\\\-1 & \\frac{3}{7} & \\frac{1}{7}\\end{matrix}\\right], \\  \\left[\\begin{matrix}\\frac{9}{7} & \\frac{8}{7} & \\frac{6}{7}\\\\0 & \\frac{1}{7} & - \\frac{2}{7}\\end{matrix}\\right]\\right)$"
          },
          "metadata": {},
          "execution_count": 25
        }
      ],
      "source": [
        "# p5.e11i\n",
        "A = Matrix([[1,2,2],[-2,1,0]])\n",
        "B = Matrix([[-4,-3,-2],[-1,0,1]])\n",
        "\n",
        "\n",
        "Y=(A-2*B)/7\n",
        "X=(3*A+B)/7\n",
        "\n",
        "X, Y"
      ]
    },
    {
      "cell_type": "code",
      "execution_count": 26,
      "metadata": {
        "id": "dxpOImBlMD-r",
        "outputId": "46f74766-dbeb-4ee4-8c41-e1c36dd0c285",
        "colab": {
          "base_uri": "https://localhost:8080/",
          "height": 58
        }
      },
      "outputs": [
        {
          "output_type": "execute_result",
          "data": {
            "text/plain": [
              "⎛⎡ 4   3/2⎤  ⎡-2   -1/2⎤⎞\n",
              "⎜⎢        ⎥, ⎢         ⎥⎟\n",
              "⎝⎣3/2  1/2⎦  ⎣3/2  -1/2⎦⎠"
            ],
            "text/latex": "$\\displaystyle \\left( \\left[\\begin{matrix}4 & \\frac{3}{2}\\\\\\frac{3}{2} & \\frac{1}{2}\\end{matrix}\\right], \\  \\left[\\begin{matrix}-2 & - \\frac{1}{2}\\\\\\frac{3}{2} & - \\frac{1}{2}\\end{matrix}\\right]\\right)$"
          },
          "metadata": {},
          "execution_count": 26
        }
      ],
      "source": [
        "# p5.e11ii\n",
        "A = Matrix([[2,1],[3,0]])\n",
        "B = Matrix([[6,2],[0,1]])\n",
        "\n",
        "\n",
        "\n",
        "X=(A+B)/2\n",
        "Y=(A-B)/2\n",
        "\n",
        "X, Y"
      ]
    },
    {
      "cell_type": "code",
      "execution_count": 27,
      "metadata": {
        "id": "nwi63shCMD-r",
        "outputId": "16016a66-672b-47e8-9276-e8583501f552",
        "colab": {
          "base_uri": "https://localhost:8080/",
          "height": 58
        }
      },
      "outputs": [
        {
          "output_type": "execute_result",
          "data": {
            "text/plain": [
              "⎛⎡5/3  2/3 ⎤  ⎡-1/3  -1/3⎤  ⎡3  1 ⎤  ⎡1   0⎤⎞\n",
              "⎜⎢         ⎥, ⎢          ⎥, ⎢     ⎥, ⎢     ⎥⎟\n",
              "⎝⎣2/3  -8/3⎦  ⎣-4/3  10/3⎦  ⎣0  -2⎦  ⎣-2  4⎦⎠"
            ],
            "text/latex": "$\\displaystyle \\left( \\left[\\begin{matrix}\\frac{5}{3} & \\frac{2}{3}\\\\\\frac{2}{3} & - \\frac{8}{3}\\end{matrix}\\right], \\  \\left[\\begin{matrix}- \\frac{1}{3} & - \\frac{1}{3}\\\\- \\frac{4}{3} & \\frac{10}{3}\\end{matrix}\\right], \\  \\left[\\begin{matrix}3 & 1\\\\0 & -2\\end{matrix}\\right], \\  \\left[\\begin{matrix}1 & 0\\\\-2 & 4\\end{matrix}\\right]\\right)$"
          },
          "metadata": {},
          "execution_count": 27
        }
      ],
      "source": [
        "# p5.e11iii\n",
        "A = Matrix([[3,1],[0,-2]])\n",
        "B = Matrix([[1,0],[-2,4]])\n",
        "\n",
        "\n",
        "\n",
        "X=(-2*A+B)/(-3)\n",
        "Y=(A-2*B)/(-3)\n",
        "\n",
        "X, Y, 2*X+Y, X+2*Y\n",
        "\n"
      ]
    },
    {
      "cell_type": "code",
      "execution_count": 28,
      "metadata": {
        "colab": {
          "base_uri": "https://localhost:8080/",
          "height": 241
        },
        "id": "sWmAlUlUMD-s",
        "outputId": "fce98ad2-634c-40f3-972b-e5521e51be10"
      },
      "outputs": [
        {
          "output_type": "display_data",
          "data": {
            "text/plain": [
              "⎡⎡1  1⎤  ⎡2  2⎤  ⎡4  4⎤  ⎡8  8⎤  ⎡16  16⎤  ⎡32  32⎤⎤\n",
              "⎢⎢    ⎥, ⎢    ⎥, ⎢    ⎥, ⎢    ⎥, ⎢      ⎥, ⎢      ⎥⎥\n",
              "⎣⎣1  1⎦  ⎣2  2⎦  ⎣4  4⎦  ⎣8  8⎦  ⎣16  16⎦  ⎣32  32⎦⎦"
            ],
            "text/latex": "$\\displaystyle \\left[ \\left[\\begin{matrix}1 & 1\\\\1 & 1\\end{matrix}\\right], \\  \\left[\\begin{matrix}2 & 2\\\\2 & 2\\end{matrix}\\right], \\  \\left[\\begin{matrix}4 & 4\\\\4 & 4\\end{matrix}\\right], \\  \\left[\\begin{matrix}8 & 8\\\\8 & 8\\end{matrix}\\right], \\  \\left[\\begin{matrix}16 & 16\\\\16 & 16\\end{matrix}\\right], \\  \\left[\\begin{matrix}32 & 32\\\\32 & 32\\end{matrix}\\right]\\right]$"
          },
          "metadata": {}
        },
        {
          "output_type": "display_data",
          "data": {
            "text/plain": [
              "⎡⎡1  0  1⎤  ⎡1  0  2⎤  ⎡1  0  3⎤  ⎡1  0  4⎤  ⎡1  0  5⎤  ⎡1  0  6⎤⎤\n",
              "⎢⎢       ⎥  ⎢       ⎥  ⎢       ⎥  ⎢       ⎥  ⎢       ⎥  ⎢       ⎥⎥\n",
              "⎢⎢0  1  0⎥, ⎢0  1  0⎥, ⎢0  1  0⎥, ⎢0  1  0⎥, ⎢0  1  0⎥, ⎢0  1  0⎥⎥\n",
              "⎢⎢       ⎥  ⎢       ⎥  ⎢       ⎥  ⎢       ⎥  ⎢       ⎥  ⎢       ⎥⎥\n",
              "⎣⎣0  0  1⎦  ⎣0  0  1⎦  ⎣0  0  1⎦  ⎣0  0  1⎦  ⎣0  0  1⎦  ⎣0  0  1⎦⎦"
            ],
            "text/latex": "$\\displaystyle \\left[ \\left[\\begin{matrix}1 & 0 & 1\\\\0 & 1 & 0\\\\0 & 0 & 1\\end{matrix}\\right], \\  \\left[\\begin{matrix}1 & 0 & 2\\\\0 & 1 & 0\\\\0 & 0 & 1\\end{matrix}\\right], \\  \\left[\\begin{matrix}1 & 0 & 3\\\\0 & 1 & 0\\\\0 & 0 & 1\\end{matrix}\\right], \\  \\left[\\begin{matrix}1 & 0 & 4\\\\0 & 1 & 0\\\\0 & 0 & 1\\end{matrix}\\right], \\  \\left[\\begin{matrix}1 & 0 & 5\\\\0 & 1 & 0\\\\0 & 0 & 1\\end{matrix}\\right], \\  \\left[\\begin{matrix}1 & 0 & 6\\\\0 & 1 & 0\\\\0 & 0 & 1\\end{matrix}\\right]\\right]$"
          },
          "metadata": {}
        },
        {
          "output_type": "display_data",
          "data": {
            "text/plain": [
              "⎡⎡1  1  1⎤  ⎡3  3  3⎤  ⎡9  9  9⎤  ⎡27  27  27⎤  ⎡81  81  81⎤  ⎡243  243  243⎤⎤\n",
              "⎢⎢       ⎥  ⎢       ⎥  ⎢       ⎥  ⎢          ⎥  ⎢          ⎥  ⎢             ⎥⎥\n",
              "⎢⎢1  1  1⎥, ⎢3  3  3⎥, ⎢9  9  9⎥, ⎢27  27  27⎥, ⎢81  81  81⎥, ⎢243  243  243⎥⎥\n",
              "⎢⎢       ⎥  ⎢       ⎥  ⎢       ⎥  ⎢          ⎥  ⎢          ⎥  ⎢             ⎥⎥\n",
              "⎣⎣1  1  1⎦  ⎣3  3  3⎦  ⎣9  9  9⎦  ⎣27  27  27⎦  ⎣81  81  81⎦  ⎣243  243  243⎦⎦"
            ],
            "text/latex": "$\\displaystyle \\left[ \\left[\\begin{matrix}1 & 1 & 1\\\\1 & 1 & 1\\\\1 & 1 & 1\\end{matrix}\\right], \\  \\left[\\begin{matrix}3 & 3 & 3\\\\3 & 3 & 3\\\\3 & 3 & 3\\end{matrix}\\right], \\  \\left[\\begin{matrix}9 & 9 & 9\\\\9 & 9 & 9\\\\9 & 9 & 9\\end{matrix}\\right], \\  \\left[\\begin{matrix}27 & 27 & 27\\\\27 & 27 & 27\\\\27 & 27 & 27\\end{matrix}\\right], \\  \\left[\\begin{matrix}81 & 81 & 81\\\\81 & 81 & 81\\\\81 & 81 & 81\\end{matrix}\\right], \\  \\left[\\begin{matrix}243 & 243 & 243\\\\243 & 243 & 243\\\\243 & 243 & 243\\end{matrix}\\right]\\right]$"
          },
          "metadata": {}
        },
        {
          "output_type": "display_data",
          "data": {
            "text/plain": [
              "⎡⎡1  1  1⎤  ⎡1  2  3⎤  ⎡1  3  6⎤  ⎡1  4  10⎤  ⎡1  5  15⎤  ⎡1  6  21⎤⎤\n",
              "⎢⎢       ⎥  ⎢       ⎥  ⎢       ⎥  ⎢        ⎥  ⎢        ⎥  ⎢        ⎥⎥\n",
              "⎢⎢0  1  1⎥, ⎢0  1  2⎥, ⎢0  1  3⎥, ⎢0  1  4 ⎥, ⎢0  1  5 ⎥, ⎢0  1  6 ⎥⎥\n",
              "⎢⎢       ⎥  ⎢       ⎥  ⎢       ⎥  ⎢        ⎥  ⎢        ⎥  ⎢        ⎥⎥\n",
              "⎣⎣0  0  1⎦  ⎣0  0  1⎦  ⎣0  0  1⎦  ⎣0  0  1 ⎦  ⎣0  0  1 ⎦  ⎣0  0  1 ⎦⎦"
            ],
            "text/latex": "$\\displaystyle \\left[ \\left[\\begin{matrix}1 & 1 & 1\\\\0 & 1 & 1\\\\0 & 0 & 1\\end{matrix}\\right], \\  \\left[\\begin{matrix}1 & 2 & 3\\\\0 & 1 & 2\\\\0 & 0 & 1\\end{matrix}\\right], \\  \\left[\\begin{matrix}1 & 3 & 6\\\\0 & 1 & 3\\\\0 & 0 & 1\\end{matrix}\\right], \\  \\left[\\begin{matrix}1 & 4 & 10\\\\0 & 1 & 4\\\\0 & 0 & 1\\end{matrix}\\right], \\  \\left[\\begin{matrix}1 & 5 & 15\\\\0 & 1 & 5\\\\0 & 0 & 1\\end{matrix}\\right], \\  \\left[\\begin{matrix}1 & 6 & 21\\\\0 & 1 & 6\\\\0 & 0 & 1\\end{matrix}\\right]\\right]$"
          },
          "metadata": {}
        }
      ],
      "source": [
        "# p5.e12\n",
        "\n",
        "datos = [ones(2), Matrix([[1,0,1],[0,1,0],[0,0,1]]), ones(3), Matrix([[1,1,1],[0,1,1],[0,0,1]])]\n",
        "\n",
        "for A in datos :\n",
        "         display([A, A**2, A**3, A**4, A**5, A**6])"
      ]
    },
    {
      "cell_type": "code",
      "execution_count": 36,
      "metadata": {
        "outputId": "7ff6fe22-7f62-4e18-edbd-567cdbdf1ae3",
        "colab": {
          "base_uri": "https://localhost:8080/",
          "height": 139
        },
        "id": "9c0vICDYMVcT"
      },
      "outputs": [
        {
          "output_type": "display_data",
          "data": {
            "text/plain": [
              "⎡⎡1  0  1 ⎤   ⎤\n",
              "⎢⎢        ⎥, 2⎥\n",
              "⎣⎣0  1  -2⎦   ⎦"
            ],
            "text/latex": "$\\displaystyle \\left[ \\left[\\begin{matrix}1 & 0 & 1\\\\0 & 1 & -2\\end{matrix}\\right], \\  2\\right]$"
          },
          "metadata": {}
        },
        {
          "output_type": "display_data",
          "data": {
            "text/plain": [
              "⎡⎡2  -1  1  1⎤   ⎤\n",
              "⎢⎢           ⎥   ⎥\n",
              "⎢⎢0  2   0  0⎥   ⎥\n",
              "⎢⎢           ⎥, 4⎥\n",
              "⎢⎢0  0   1  0⎥   ⎥\n",
              "⎢⎢           ⎥   ⎥\n",
              "⎣⎣0  0   0  1⎦   ⎦"
            ],
            "text/latex": "$\\displaystyle \\left[ \\left[\\begin{matrix}2 & -1 & 1 & 1\\\\0 & 2 & 0 & 0\\\\0 & 0 & 1 & 0\\\\0 & 0 & 0 & 1\\end{matrix}\\right], \\  4\\right]$"
          },
          "metadata": {}
        }
      ],
      "source": [
        "# p5.e13\n",
        "\n",
        "datos = [Matrix([[1,0,1],[2,1,0]]),Matrix([[2,-1,1,1],[0,0,1,0],[2,1,1,1],[0,0,0,1]])]\n",
        "\n",
        "for A in datos :\n",
        "         display([A.LUdecomposition()[1],A.rank()])"
      ]
    },
    {
      "cell_type": "code",
      "source": [
        "# p5.e14  \n",
        "\n",
        "datos = [Matrix([[a-2,a+2],[1,2]]),Matrix([[2,0,0,1],[2,1,3,1],[a,1,3,2]]),Matrix([[2*a,1,1],[2,a,1],[2,1,a]])]\n",
        "\n",
        "for A in datos :\n",
        "         display([A,A.LUdecomposition()[1],A.rank()])"
      ],
      "metadata": {
        "id": "RF29WfJJNy27",
        "outputId": "a2fbef2c-701c-4639-ad49-58e7e2fb0377",
        "colab": {
          "base_uri": "https://localhost:8080/",
          "height": 185
        }
      },
      "execution_count": 39,
      "outputs": [
        {
          "output_type": "display_data",
          "data": {
            "text/plain": [
              "⎡⎡a - 2  a + 2⎤  ⎡1    2  ⎤   ⎤\n",
              "⎢⎢            ⎥, ⎢        ⎥, 2⎥\n",
              "⎣⎣  1      2  ⎦  ⎣0  6 - a⎦   ⎦"
            ],
            "text/latex": "$\\displaystyle \\left[ \\left[\\begin{matrix}a - 2 & a + 2\\\\1 & 2\\end{matrix}\\right], \\  \\left[\\begin{matrix}1 & 2\\\\0 & 6 - a\\end{matrix}\\right], \\  2\\right]$"
          },
          "metadata": {}
        },
        {
          "output_type": "display_data",
          "data": {
            "text/plain": [
              "⎡              ⎡2  0  0    1  ⎤   ⎤\n",
              "⎢⎡2  0  0  1⎤  ⎢              ⎥   ⎥\n",
              "⎢⎢          ⎥  ⎢0  1  3    0  ⎥   ⎥\n",
              "⎢⎢2  1  3  1⎥, ⎢              ⎥, 3⎥\n",
              "⎢⎢          ⎥  ⎢             a⎥   ⎥\n",
              "⎢⎣a  1  3  2⎦  ⎢0  0  0  2 - ─⎥   ⎥\n",
              "⎣              ⎣             2⎦   ⎦"
            ],
            "text/latex": "$\\displaystyle \\left[ \\left[\\begin{matrix}2 & 0 & 0 & 1\\\\2 & 1 & 3 & 1\\\\a & 1 & 3 & 2\\end{matrix}\\right], \\  \\left[\\begin{matrix}2 & 0 & 0 & 1\\\\0 & 1 & 3 & 0\\\\0 & 0 & 0 & 2 - \\frac{a}{2}\\end{matrix}\\right], \\  3\\right]$"
          },
          "metadata": {}
        },
        {
          "output_type": "display_data",
          "data": {
            "text/plain": [
              "⎡             ⎡2    a            1        ⎤   ⎤\n",
              "⎢             ⎢                           ⎥   ⎥\n",
              "⎢             ⎢        2                  ⎥   ⎥\n",
              "⎢⎡2⋅a  1  1⎤  ⎢0  1 - a        1 - a      ⎥   ⎥\n",
              "⎢⎢         ⎥  ⎢                           ⎥   ⎥\n",
              "⎢⎢ 2   a  1⎥, ⎢                      2    ⎥, 3⎥\n",
              "⎢⎢         ⎥  ⎢               (1 - a)     ⎥   ⎥\n",
              "⎢⎣ 2   1  a⎦  ⎢0    0     a - ──────── - 1⎥   ⎥\n",
              "⎢             ⎢                     2     ⎥   ⎥\n",
              "⎣             ⎣                1 - a      ⎦   ⎦"
            ],
            "text/latex": "$\\displaystyle \\left[ \\left[\\begin{matrix}2 a & 1 & 1\\\\2 & a & 1\\\\2 & 1 & a\\end{matrix}\\right], \\  \\left[\\begin{matrix}2 & a & 1\\\\0 & 1 - a^{2} & 1 - a\\\\0 & 0 & a - \\frac{\\left(1 - a\\right)^{2}}{1 - a^{2}} - 1\\end{matrix}\\right], \\  3\\right]$"
          },
          "metadata": {}
        }
      ]
    },
    {
      "cell_type": "code",
      "execution_count": 33,
      "metadata": {
        "id": "2FummZYfMD-s",
        "outputId": "46da7824-9698-4f97-cbe9-fa0f3e68ffa9",
        "colab": {
          "base_uri": "https://localhost:8080/",
          "height": 78
        }
      },
      "outputs": [
        {
          "output_type": "execute_result",
          "data": {
            "text/plain": [
              "⎛                ⎡1  0  0⎤⎞\n",
              "⎜⎡1  1⎤  ⎡1  0⎤  ⎢       ⎥⎟\n",
              "⎜⎢    ⎥, ⎢    ⎥, ⎢0  1  0⎥⎟\n",
              "⎜⎣1  1⎦  ⎣0  1⎦  ⎢       ⎥⎟\n",
              "⎝                ⎣0  0  1⎦⎠"
            ],
            "text/latex": "$\\displaystyle \\left( \\left[\\begin{matrix}1 & 1\\\\1 & 1\\end{matrix}\\right], \\  \\left[\\begin{matrix}1 & 0\\\\0 & 1\\end{matrix}\\right], \\  \\left[\\begin{matrix}1 & 0 & 0\\\\0 & 1 & 0\\\\0 & 0 & 1\\end{matrix}\\right]\\right)$"
          },
          "metadata": {},
          "execution_count": 33
        }
      ],
      "source": [
        "ones(2), diag(1,1), eye(3)"
      ]
    },
    {
      "cell_type": "code",
      "source": [
        "factor(x**2+x-2)\n"
      ],
      "metadata": {
        "id": "5pzGXRVTQzLY",
        "outputId": "6a7c300b-d1f3-4bda-9da9-6541fc8a2a65",
        "colab": {
          "base_uri": "https://localhost:8080/",
          "height": 39
        }
      },
      "execution_count": 40,
      "outputs": [
        {
          "output_type": "execute_result",
          "data": {
            "text/plain": [
              "(x - 1)⋅(x + 2)"
            ],
            "image/png": "[encoded data removed]",
            "text/latex": "$\\displaystyle \\left(x - 1\\right) \\left(x + 2\\right)$"
          },
          "metadata": {},
          "execution_count": 40
        }
      ]
    },
    {
      "cell_type": "code",
      "execution_count": 30,
      "metadata": {
        "colab": {
          "base_uri": "https://localhost:8080/",
          "height": 380
        },
        "id": "1p-MYQC89YeZ",
        "outputId": "f58cc700-a780-4e78-df7a-14fcf6af7225"
      },
      "outputs": [
        {
          "output_type": "error",
          "ename": "ShapeError",
          "evalue": "ignored",
          "traceback": [
            "\u001b[0;31m---------------------------------------------------------------------------\u001b[0m",
            "\u001b[0;31mShapeError\u001b[0m                                Traceback (most recent call last)",
            "\u001b[0;32m<ipython-input-30-a19a91b7eac1>\u001b[0m in \u001b[0;36m<module>\u001b[0;34m\u001b[0m\n\u001b[1;32m      3\u001b[0m \u001b[0mC\u001b[0m \u001b[0;34m=\u001b[0m \u001b[0mMatrix\u001b[0m\u001b[0;34m(\u001b[0m\u001b[0;34m[\u001b[0m\u001b[0;34m[\u001b[0m\u001b[0;34m-\u001b[0m\u001b[0;36m1\u001b[0m\u001b[0;34m,\u001b[0m\u001b[0;36m3\u001b[0m\u001b[0;34m]\u001b[0m\u001b[0;34m,\u001b[0m\u001b[0;34m[\u001b[0m\u001b[0;36m0\u001b[0m\u001b[0;34m,\u001b[0m\u001b[0;34m-\u001b[0m\u001b[0;36m2\u001b[0m\u001b[0;34m]\u001b[0m\u001b[0;34m]\u001b[0m\u001b[0;34m)\u001b[0m\u001b[0;34m\u001b[0m\u001b[0;34m\u001b[0m\u001b[0m\n\u001b[1;32m      4\u001b[0m \u001b[0;34m\u001b[0m\u001b[0m\n\u001b[0;32m----> 5\u001b[0;31m \u001b[0mpprint\u001b[0m\u001b[0;34m(\u001b[0m\u001b[0mA\u001b[0m\u001b[0;34m*\u001b[0m\u001b[0mB\u001b[0m\u001b[0;34m)\u001b[0m\u001b[0;34m\u001b[0m\u001b[0;34m\u001b[0m\u001b[0m\n\u001b[0m\u001b[1;32m      6\u001b[0m \u001b[0mpprint\u001b[0m\u001b[0;34m(\u001b[0m\u001b[0mB\u001b[0m\u001b[0;34m.\u001b[0m\u001b[0mtranspose\u001b[0m\u001b[0;34m(\u001b[0m\u001b[0;34m)\u001b[0m\u001b[0;34m)\u001b[0m\u001b[0;34m\u001b[0m\u001b[0;34m\u001b[0m\u001b[0m\n\u001b[1;32m      7\u001b[0m \u001b[0mB\u001b[0m\u001b[0;34m.\u001b[0m\u001b[0mrank\u001b[0m\u001b[0;34m(\u001b[0m\u001b[0;34m)\u001b[0m\u001b[0;34m\u001b[0m\u001b[0;34m\u001b[0m\u001b[0m\n",
            "\u001b[0;32m/usr/local/lib/python3.7/dist-packages/sympy/core/decorators.py\u001b[0m in \u001b[0;36mbinary_op_wrapper\u001b[0;34m(self, other)\u001b[0m\n\u001b[1;32m    135\u001b[0m                     \u001b[0;32mif\u001b[0m \u001b[0mf\u001b[0m \u001b[0;32mis\u001b[0m \u001b[0;32mnot\u001b[0m \u001b[0;32mNone\u001b[0m\u001b[0;34m:\u001b[0m\u001b[0;34m\u001b[0m\u001b[0;34m\u001b[0m\u001b[0m\n\u001b[1;32m    136\u001b[0m                         \u001b[0;32mreturn\u001b[0m \u001b[0mf\u001b[0m\u001b[0;34m(\u001b[0m\u001b[0mself\u001b[0m\u001b[0;34m)\u001b[0m\u001b[0;34m\u001b[0m\u001b[0;34m\u001b[0m\u001b[0m\n\u001b[0;32m--> 137\u001b[0;31m             \u001b[0;32mreturn\u001b[0m \u001b[0mfunc\u001b[0m\u001b[0;34m(\u001b[0m\u001b[0mself\u001b[0m\u001b[0;34m,\u001b[0m \u001b[0mother\u001b[0m\u001b[0;34m)\u001b[0m\u001b[0;34m\u001b[0m\u001b[0;34m\u001b[0m\u001b[0m\n\u001b[0m\u001b[1;32m    138\u001b[0m         \u001b[0;32mreturn\u001b[0m \u001b[0mbinary_op_wrapper\u001b[0m\u001b[0;34m\u001b[0m\u001b[0;34m\u001b[0m\u001b[0m\n\u001b[1;32m    139\u001b[0m     \u001b[0;32mreturn\u001b[0m \u001b[0mpriority_decorator\u001b[0m\u001b[0;34m\u001b[0m\u001b[0;34m\u001b[0m\u001b[0m\n",
            "\u001b[0;32m/usr/local/lib/python3.7/dist-packages/sympy/matrices/common.py\u001b[0m in \u001b[0;36m__mul__\u001b[0;34m(self, other)\u001b[0m\n\u001b[1;32m   2605\u001b[0m         \"\"\"\n\u001b[1;32m   2606\u001b[0m \u001b[0;34m\u001b[0m\u001b[0m\n\u001b[0;32m-> 2607\u001b[0;31m         \u001b[0;32mreturn\u001b[0m \u001b[0mself\u001b[0m\u001b[0;34m.\u001b[0m\u001b[0mmultiply\u001b[0m\u001b[0;34m(\u001b[0m\u001b[0mother\u001b[0m\u001b[0;34m)\u001b[0m\u001b[0;34m\u001b[0m\u001b[0;34m\u001b[0m\u001b[0m\n\u001b[0m\u001b[1;32m   2608\u001b[0m \u001b[0;34m\u001b[0m\u001b[0m\n\u001b[1;32m   2609\u001b[0m     \u001b[0;32mdef\u001b[0m \u001b[0mmultiply\u001b[0m\u001b[0;34m(\u001b[0m\u001b[0mself\u001b[0m\u001b[0;34m,\u001b[0m \u001b[0mother\u001b[0m\u001b[0;34m,\u001b[0m \u001b[0mdotprodsimp\u001b[0m\u001b[0;34m=\u001b[0m\u001b[0;32mNone\u001b[0m\u001b[0;34m)\u001b[0m\u001b[0;34m:\u001b[0m\u001b[0;34m\u001b[0m\u001b[0;34m\u001b[0m\u001b[0m\n",
            "\u001b[0;32m/usr/local/lib/python3.7/dist-packages/sympy/matrices/common.py\u001b[0m in \u001b[0;36mmultiply\u001b[0;34m(self, other, dotprodsimp)\u001b[0m\n\u001b[1;32m   2628\u001b[0m             \u001b[0;32mif\u001b[0m \u001b[0mself\u001b[0m\u001b[0;34m.\u001b[0m\u001b[0mshape\u001b[0m\u001b[0;34m[\u001b[0m\u001b[0;36m1\u001b[0m\u001b[0;34m]\u001b[0m \u001b[0;34m!=\u001b[0m \u001b[0mother\u001b[0m\u001b[0;34m.\u001b[0m\u001b[0mshape\u001b[0m\u001b[0;34m[\u001b[0m\u001b[0;36m0\u001b[0m\u001b[0;34m]\u001b[0m\u001b[0;34m:\u001b[0m\u001b[0;34m\u001b[0m\u001b[0;34m\u001b[0m\u001b[0m\n\u001b[1;32m   2629\u001b[0m                 raise ShapeError(\"Matrix size mismatch: %s * %s.\" % (\n\u001b[0;32m-> 2630\u001b[0;31m                     self.shape, other.shape))\n\u001b[0m\u001b[1;32m   2631\u001b[0m \u001b[0;34m\u001b[0m\u001b[0m\n\u001b[1;32m   2632\u001b[0m         \u001b[0;31m# honest sympy matrices defer to their class's routine\u001b[0m\u001b[0;34m\u001b[0m\u001b[0;34m\u001b[0m\u001b[0;34m\u001b[0m\u001b[0m\n",
            "\u001b[0;31mShapeError\u001b[0m: Matrix size mismatch: (3, 3) * (2, 2)."
          ]
        }
      ],
      "source": [
        "Matrix([[1,2],[-2,3]])\n",
        "B = Matrix([[0,3],[1,2]])\n",
        "C = Matrix([[-1,3],[0,-2]])\n",
        "\n",
        "pprint(A*B)\n",
        "pprint(B.transpose())\n",
        "B.rank()\n",
        "pprint(B.inv())"
      ]
    },
    {
      "cell_type": "code",
      "execution_count": null,
      "metadata": {
        "id": "B98Q1_D1qmpt"
      },
      "outputs": [],
      "source": [
        "# p5.ej11\n",
        "\n",
        "A, B = Matrix([[2,1],[3,0]]), Matrix([[6,2],[0,1]])\n",
        "\n",
        "sistema = [x+y-A,x-y-B]"
      ]
    },
    {
      "cell_type": "code",
      "execution_count": null,
      "metadata": {
        "id": "-2tJVC5LWouv"
      },
      "outputs": [],
      "source": [
        "#P3.E8\n",
        "\n",
        "lista_matrices = [Matrix([[3, 2, 1],[-1,2,-3],[3,-4,9]]), Matrix([[0, 2, 1],[1,0,-1],[0,4,2]]), Matrix([[2, 1, 5, -1, 8],[-1,2,3,4,5],[1,3,8,4,13]])]\n",
        "#A = Matrix([[3, 2, 1],[-1,2,-3],[3,-4,9]])\n",
        "\n",
        "[pprint([i, i.LUdecomposition()[1], i.rank()]) for i in lista_matrices]"
      ]
    },
    {
      "cell_type": "code",
      "execution_count": null,
      "metadata": {
        "id": "x0AycbnUbV4x"
      },
      "outputs": [],
      "source": [
        "# P3.E8\n",
        "\n",
        "lista_matrices = [Matrix([[1,2,-1],[1,1,3],[5,-1,k]])]\n",
        "#A = Matrix([[3, 2, 1],[-1,2,-3],[3,-4,9]])\n",
        "\n",
        "[pprint([i, i.LUdecomposition()[1], i.rank()]) for i in lista_matrices]"
      ]
    },
    {
      "cell_type": "code",
      "execution_count": null,
      "metadata": {
        "id": "4o4GMoq-3Lhk"
      },
      "outputs": [],
      "source": [
        "A, B = Matrix([[2,2],[2,a**2+a]]), Matrix([[2,1],[4,0]])\n",
        "SOL = A.inv('LU')*2*B\n",
        "pprint(SOL)"
      ]
    }
  ],
  "metadata": {
    "colab": {
      "collapsed_sections": [],
      "name": "matrices.ipynb",
      "provenance": []
    },
    "kernelspec": {
      "display_name": "Python 3",
      "language": "python",
      "name": "python3"
    },
    "language_info": {
      "codemirror_mode": {
        "name": "ipython",
        "version": 3
      },
      "file_extension": ".py",
      "mimetype": "text/x-python",
      "name": "python",
      "nbconvert_exporter": "python",
      "pygments_lexer": "ipython3",
      "version": "3.6.13"
    }
  },
  "nbformat": 4,
  "nbformat_minor": 0
}
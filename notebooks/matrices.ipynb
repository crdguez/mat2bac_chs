{
 "cells": [
  {
   "cell_type": "markdown",
   "metadata": {
    "colab_type": "text",
    "id": "view-in-github"
   },
   "source": [
    "<a href=\"https://colab.research.google.com/github/crdguez/mat2bac_cit/blob/master/matrices.ipynb\" target=\"_parent\"><img src=\"https://colab.research.google.com/assets/colab-badge.svg\" alt=\"Open In Colab\"/></a>"
   ]
  },
  {
   "cell_type": "code",
   "execution_count": 47,
   "metadata": {
    "colab": {
     "base_uri": "https://localhost:8080/",
     "height": 54
    },
    "colab_type": "code",
    "id": "-cVvkLt0Yl6m",
    "outputId": "4c1bc82e-a722-4cdb-bd9b-8ac2c73585f8"
   },
   "outputs": [
    {
     "name": "stdout",
     "output_type": "stream",
     "text": [
      "Requirement already satisfied: sympy in /usr/local/lib/python3.6/dist-packages (1.1.1)\n",
      "Requirement already satisfied: mpmath>=0.19 in /usr/local/lib/python3.6/dist-packages (from sympy) (1.1.0)\n"
     ]
    }
   ],
   "source": [
    "#!pip install sympy"
   ]
  },
  {
   "cell_type": "code",
   "execution_count": 0,
   "metadata": {
    "colab": {},
    "colab_type": "code",
    "id": "fkQeaZkrY0PY"
   },
   "outputs": [],
   "source": [
    "from sympy import *\n",
    "# init_session()\n",
    "from __future__ import division\n",
    "x, y, z, t = symbols('x y z t')\n",
    "k, m, n = symbols('k m n', integer=True)\n",
    "f, g, h = symbols('f g h', cls=Function)\n",
    "init_printing()\n"
   ]
  },
  {
   "cell_type": "code",
   "execution_count": 49,
   "metadata": {
    "colab": {
     "base_uri": "https://localhost:8080/",
     "height": 476
    },
    "colab_type": "code",
    "id": "eSlSnZI5Zh4W",
    "outputId": "3e835ee7-6a32-4ef7-e249-5397bdaf89d0"
   },
   "outputs": [
    {
     "name": "stdout",
     "output_type": "stream",
     "text": [
      "⎡1   2⎤\n",
      "⎢     ⎥\n",
      "⎣-2  3⎦\n",
      "⎡0  3⎤\n",
      "⎢    ⎥\n",
      "⎣1  2⎦\n",
      "⎡-1  3 ⎤\n",
      "⎢      ⎥\n",
      "⎣0   -2⎦\n",
      "A+B-C:\n",
      "⎡2   2⎤\n",
      "⎢     ⎥\n",
      "⎣-1  7⎦\n",
      "A-B+C:\n",
      "⎡0   2 ⎤\n",
      "⎢      ⎥\n",
      "⎣-3  -1⎦\n",
      "2*A-3*B:\n",
      "⎡2   -5⎤\n",
      "⎢      ⎥\n",
      "⎣-7  0 ⎦\n",
      "A-2*B+3*C:\n",
      "⎡-2  5 ⎤\n",
      "⎢      ⎥\n",
      "⎣-4  -7⎦\n"
     ]
    }
   ],
   "source": [
    "# p3. e1\n",
    "\n",
    "A = Matrix([[1,2],[-2,3]])\n",
    "B = Matrix([[0,3],[1,2]])\n",
    "C = Matrix([[-1,3],[0,-2]])\n",
    "\n",
    "pprint(A), pprint(B),pprint(C)\n",
    "pprint(\"A+B-C:\")\n",
    "pprint(A+B-C)\n",
    "pprint(\"A-B+C:\")\n",
    "pprint(A-B+C)\n",
    "pprint(\"2*A-3*B:\")\n",
    "pprint(2*A-3*B)\n",
    "pprint(\"A-2*B+3*C:\")\n",
    "pprint(A-2*B+3*C)\n"
   ]
  },
  {
   "cell_type": "code",
   "execution_count": 50,
   "metadata": {
    "colab": {
     "base_uri": "https://localhost:8080/",
     "height": 72
    },
    "colab_type": "code",
    "id": "-OdL4aFRcSUy",
    "outputId": "3c3925cf-eb11-4e97-8c33-354edf99ef32"
   },
   "outputs": [
    {
     "name": "stdout",
     "output_type": "stream",
     "text": [
      "⎡2  15  14⎤\n",
      "⎢         ⎥\n",
      "⎣8  17  9 ⎦\n"
     ]
    }
   ],
   "source": [
    "# p3. e2\n",
    "\n",
    "A = Matrix([[1,5,6],[2,8,4]])\n",
    "B = Matrix([[1,0,4],[-2,7,3]])\n",
    "\n",
    "\n",
    "pprint(3*A-B)"
   ]
  },
  {
   "cell_type": "code",
   "execution_count": 51,
   "metadata": {
    "colab": {
     "base_uri": "https://localhost:8080/",
     "height": 145
    },
    "colab_type": "code",
    "id": "PUanAVrqeomI",
    "outputId": "5069bd4b-f253-46b6-ba5b-b64caa0cd436"
   },
   "outputs": [
    {
     "name": "stdout",
     "output_type": "stream",
     "text": [
      "⎡2  7⎤\n",
      "⎢    ⎥\n",
      "⎣3  0⎦\n",
      "⎡0  1⎤\n",
      "⎢    ⎥\n",
      "⎣3  2⎦\n"
     ]
    },
    {
     "data": {
      "image/png": "[encoded data removed]",
      "text/latex": [
       "$$2$$"
      ],
      "text/plain": [
       "2"
      ]
     },
     "execution_count": 51,
     "metadata": {
      "tags": []
     },
     "output_type": "execute_result"
    }
   ],
   "source": [
    "A = Matrix([[1,2],[-2,3]])\n",
    "B = Matrix([[0,3],[1,2]])\n",
    "C = Matrix([[-1,3],[0,-2]])\n",
    "\n",
    "pprint(A*B)\n",
    "pprint(B.transpose())\n",
    "B.rank()"
   ]
  }
 ],
 "metadata": {
  "colab": {
   "collapsed_sections": [],
   "include_colab_link": true,
   "name": "matrices.ipynb",
   "provenance": [],
   "version": "0.3.2"
  },
  "kernelspec": {
   "display_name": "Python 3",
   "language": "python",
   "name": "python3"
  },
  "language_info": {
   "codemirror_mode": {
    "name": "ipython",
    "version": 3
   },
   "file_extension": ".py",
   "mimetype": "text/x-python",
   "name": "python",
   "nbconvert_exporter": "python",
   "pygments_lexer": "ipython3",
   "version": "3.6.8"
  }
 },
 "nbformat": 4,
 "nbformat_minor": 1
}

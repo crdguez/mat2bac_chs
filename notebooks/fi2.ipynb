{
  "nbformat": 4,
  "nbformat_minor": 0,
  "metadata": {
    "colab": {
      "name": "fi2.ipynb",
      "provenance": [],
      "authorship_tag": "ABX9TyOaIKAsxqLkTaTt1Lql04zT"
    },
    "kernelspec": {
      "name": "python3",
      "display_name": "Python 3"
    }
  },
  "cells": [
    {
      "cell_type": "code",
      "metadata": {
        "colab_type": "code",
        "id": "-cVvkLt0Yl6m",
        "colab": {}
      },
      "source": [
        "#!pip install sympy\n"
      ],
      "execution_count": 0,
      "outputs": []
    },
    {
      "cell_type": "code",
      "metadata": {
        "colab_type": "code",
        "id": "fkQeaZkrY0PY",
        "colab": {}
      },
      "source": [
        "from sympy import *\n",
        "# init_session()\n",
        "from IPython.display import Markdown as md\n",
        "from IPython.display import display\n",
        "from __future__ import division\n",
        "a, x, y, z, t = symbols('a x y z t')\n",
        "k, m, n = symbols('k m n', integer=True)\n",
        "f, g, h = symbols('f g h', cls=Function)\n",
        "init_printing(use_latex=False)\n",
        "\n",
        "import pandas as pd\n",
        "import matplotlib as plt"
      ],
      "execution_count": 0,
      "outputs": []
    },
    {
      "cell_type": "code",
      "metadata": {
        "id": "RTvwuAFhOCzS",
        "colab_type": "code",
        "outputId": "02e7e611-ffe1-42f4-c3e3-2777f11f7ae8",
        "colab": {
          "base_uri": "https://localhost:8080/",
          "height": 146
        }
      },
      "source": [
        "from sympy.calculus.util import continuous_domain  \n",
        "from sympy.solvers.inequalities import solve_univariate_inequality, reduce_rational_inequalities\n",
        "\n",
        "def trozos(f):\n",
        "    # Función que devuelve el extremo superior de los tramos, los límites laterales, el valor de la función y la función parcial\n",
        "    sol = []\n",
        "    for i,s  in enumerate(f.args):\n",
        "        if(i<len(f.args)-1):\n",
        "            extremo = f.args[i][1].as_set().sup\n",
        "            #display(extremo)\n",
        "            #display(s)\n",
        "            #display(limit(f.args[i][0],x,extremo, dir='-'))\n",
        "            #display(limit(f.args[i][0],x,extremo, dir='+'))\n",
        "            #display(f.subs(x,extremo))\n",
        "            sol.append((extremo, limit(f.args[i][0],x,extremo, dir='-'), limit(f.args[i+1][0],x,extremo, dir='+'),f.subs(x,extremo), f.args[i][0]))        \n",
        "    return sol\n",
        "\n",
        "def estudio(f) :\n",
        "    # Estudio en una función a trozos\n",
        "    \n",
        "    set = S.Reals\n",
        "    conj_singular = S.EmptySet\n",
        "    for j, t in enumerate(f.args) :\n",
        "        #display(singularities(t[0],x))\n",
        "        #conj_singular = Union(conj_singular,singularities(t[0],x))\n",
        "        #display(Union(conj_singular,singularities(t[0],x)))\n",
        "        #conj_singular = Union(conj_singular,Complement(S.Reals,continuous_domain(t[0],x,S.Reals)))\n",
        "        #conj_singular = Union(conj_singular,Intersection(t[1].as_set(),Complement(S.Reals,continuous_domain(t[0],x,S.Reals))))\n",
        "        set2 = Intersection(set,t[1].as_set())\n",
        "        conj_singular = Union(conj_singular,Intersection(set2,Complement(S.Reals,continuous_domain(t[0],x,S.Reals))))\n",
        "        set = Complement(S.Reals,t[1].as_set())\n",
        "        \n",
        "    sol = r\"Singularidades de las expresiones analíticas: $\"+ latex(conj_singular)+\"$\"  \n",
        "    sol += r\".\\\\ Posibles discontinuidades en los extremos de los trozos:\"\n",
        "\n",
        "    xs = []\n",
        "    estudio = []\n",
        "\n",
        "    for j, t in enumerate(trozos(f)) :\n",
        "        xs.append(str(t[0]))\n",
        "        if (t[1]==t[2]) :\n",
        "            estudio.append(r\"\\\\En {} es continua ya que hay límite y $\\lim = f({})={}$\".format(t[0],t[0],t[3]))\n",
        "            display(r\"En $x_0={}$ hay límite y f({})={}\".format(t[0],t[0],t[3]))\n",
        "        else :\n",
        "            estudio.append(r\"\\\\En {} no es continua porque no existe límite. Límites laterales: ${}$ y ${}$\".format(t[0], latex(t[1]), latex(t[2])))\n",
        "            display(r\"En {} no existe límite. Límites laterales: {} y  {}\".format(t[0], t[1], t[2]))\n",
        "\n",
        "    sol+=', '.join(xs)+r\".\"+'. '.join(estudio)\n",
        "    return(sol)\n",
        "    \n",
        "    \n",
        "def asintotas(f) :\n",
        "    # Igual usar singularities mejor: asintotas, verticales, horizontales y oblícuas (a,b) en oo y -oo\n",
        "    asint = []\n",
        "    asintex = r'Asíntotas:\\\\'\n",
        "    sing=EmptySet()\n",
        "    for k in [(Intersection(j.boundary,j.complement(S.Reals))) for j in [i for i in list(continuous_domain(f,x,domain=S.Reals).args)]] :\n",
        "            sing = sing + k\n",
        "    list(sing)\n",
        "    asint.append([(i,limit(f,x,i)) for i in list(sing)])\n",
        "    asintex += ', '.join(r'A.V. $x='+str(i)+r'$\\\\' for i in list(sing))\n",
        "#     asint.append([(i,limit(f,x,i)) for i in list(S.Reals - continuous_domain(f,x,domain=S.Reals))])\n",
        "#     asintex += ', '.join(r'A.V. $x='+str(i)+r'$\\\\' for i in list(S.Reals - continuous_domain(f,x,domain=S.Reals)))\n",
        "    if abs(limit(f,x,oo)) != oo:\n",
        "        asintex += r'A.H. $y='+latex(limit(f,x,oo))+r'$\\\\'\n",
        "    if abs(limit(f,x,-oo)) != oo:\n",
        "        asintex += r'A.H. $y='+latex(limit(f,x,-oo))+r'$\\\\'\n",
        "  \n",
        "    asint.append([(oo,limit(f,x,oo)), (-oo,limit(f,x,-oo))])\n",
        "    oblicuas=[]\n",
        "    if abs(limit(f/x,x,oo)) != oo :\n",
        "        oblicuas.append((oo,limit(f/x,x,oo)*x+limit(f-limit(f/x,x,oo)*x,x,oo)))\n",
        "        #display(latex(limit(f/x,x,oo)*x+limit(f-limit(f/x,x,oo)*x,x,oo)))\n",
        "        asintex += r'A.O. $y='+latex(limit(f/x,x,oo)*x+limit(f-limit(f/x,x,oo)*x,x,oo))+r'$ \\\\'\n",
        "    if abs(limit(f/x,x,-oo)) != oo :\n",
        "        oblicuas.append((-oo,limit(f/x,x,-oo)*x+limit(f-limit(f/x,x,-oo)*x,x,-oo)))\n",
        "        asintex += r'A.O. $y='+latex(limit(f/x,x,-oo)*x+limit(f-limit(f/x,x,-oo)*x,x,-oo))+r'$ \\\\'\n",
        "    asint.append(oblicuas)\n",
        "    return asint,asintex\n",
        "\n",
        "def crecimiento(f) :\n",
        "    #crecimiento, decrecimiento y puntos singulares\n",
        "    crec = reduce_rational_inequalities([[f.diff()>0]],x,relational=False)\n",
        "    decrec = reduce_rational_inequalities([[f.diff()<0]],x,relational=False)\n",
        "    sing = []\n",
        "    for t in solve(f.diff()) :\n",
        "        if f.diff().diff().subs(x,t) < 0 :\n",
        "            tipo = 'max'\n",
        "        elif f.diff().diff().subs(x,t) > 0 :\n",
        "            tipo = 'min'\n",
        "        else :\n",
        "            tipo = 'posible_inflex'      \n",
        "        sing.append([t,tipo])\n",
        "\n",
        "    sol=[crec,decrec,sing]\n",
        "\n",
        "    return sol\n",
        "\n",
        "def curvatura(f) :\n",
        "    #crecimiento, decrecimiento y puntos singulares\n",
        "    conc = reduce_rational_inequalities([[f.diff().diff()>0]],x,relational=False)\n",
        "    conv = reduce_rational_inequalities([[f.diff().diff()<0]],x,relational=False)\n",
        "    sing = []\n",
        "    for t in solve(f.diff().diff()) :\n",
        "        if f.diff().diff().diff().subs(x,t) == 0 :\n",
        "            tipo = 'no_inflex'\n",
        "        else :\n",
        "            tipo = 'inflex'      \n",
        "        sing.append([t,tipo])\n",
        "\n",
        "    sol=[conc,conv,sing]\n",
        "\n",
        "    return sol\n",
        "\n",
        "\n",
        "def mi_plot(f, nombre='sin_nombre', xmax=10) :\n",
        "        plt.rcParams['figure.figsize'] = 10,10\n",
        "        #p1 = plot(f,show=True, xlim=(-xmax,xmax), ylim=(-xmax,xmax))\n",
        "        \n",
        "        #p1 = plot(f, xlim=(-xmax,xmax), ylim=(-xmax,xmax))\n",
        "        p1 = plot_implicit(Eq(y,f),x_var=(x, -xmax, xmax), y_var=(y, -xmax, xmax))\n",
        "        p1.save(nombre+\".png\")\n",
        "#        p1.save(\"prueba.png\")\n",
        "        return r\"\\\\ \\resizebox{0.4\\textwidth}{!}{\\includegraphics[width=1\\columnwidth]{%s}}\" % (nombre)\n",
        "\n",
        "\n",
        "\n",
        "f = Piecewise((E**(2*x),x<0),(x**2+a,x<=3),((x+5)/(x-3),x>3))\n",
        "trozos(f), f.args\n"
      ],
      "execution_count": 0,
      "outputs": [
        {
          "output_type": "execute_result",
          "data": {
            "text/plain": [
              "⎛⎡⎛             2⋅x⎞  ⎛                         2⎞⎤  ⎛⎛ 2⋅x       ⎞  ⎛     2  \n",
              "⎜⎣⎝0, 1, a, a, ℯ   ⎠, ⎝3, a + 9, ∞, a + 9, a + x ⎠⎦, ⎜⎝ℯ   , x < 0⎠, ⎝a + x , \n",
              "⎝                                                    ⎝                        \n",
              "\n",
              "     ⎞  ⎛x + 5       ⎞⎞⎞\n",
              "x ≤ 3⎠, ⎜─────, x > 3⎟⎟⎟\n",
              "        ⎝x - 3       ⎠⎠⎠"
            ]
          },
          "metadata": {
            "tags": []
          },
          "execution_count": 12
        }
      ]
    },
    {
      "cell_type": "code",
      "metadata": {
        "id": "kDr9U41Sniw9",
        "colab_type": "code",
        "outputId": "f48e7e4a-61f1-4eea-fc48-8899e1dd4ba5",
        "colab": {
          "base_uri": "https://localhost:8080/",
          "height": 110
        }
      },
      "source": [
        "#from sympy.parsing.latex import  parse_latex\n",
        "datos = ['1/x+2*log(x)-log(x)/x', 'E**x/(x-1)**2']\n",
        "\n",
        "for f in datos :\n",
        "  print(S(f, evaluate= False).diff())\n",
        "  print(r\"$\"+latex(S(f, evaluate= False).diff())+\"=\"+latex(simplify(S(f, evaluate= False).diff()))+r\"$\")"
      ],
      "execution_count": 0,
      "outputs": [
        {
          "output_type": "stream",
          "text": [
            "2/x + log(x)/x**2 - 2/x**2\n",
            "$\\frac{2}{x} + \\frac{1}{x^{2}} \\log{\\left (x \\right )} - \\frac{2}{x^{2}}=\\frac{1}{x^{2}} \\left(2 x + \\log{\\left (x \\right )} - 2\\right)$\n",
            "(-2*x + 2)*exp(x)/(x - 1)**4 + exp(x)/(x - 1)**2\n",
            "$\\frac{\\left(- 2 x + 2\\right) e^{x}}{\\left(x - 1\\right)^{4}} + \\frac{e^{x}}{\\left(x - 1\\right)^{2}}=\\frac{e^{x}}{\\left(x - 1\\right)^{4}} \\left(- 2 x + \\left(x - 1\\right)^{2} + 2\\right)$\n"
          ],
          "name": "stdout"
        }
      ]
    },
    {
      "cell_type": "code",
      "metadata": {
        "id": "cjVyFUqe2N4T",
        "colab_type": "code",
        "outputId": "2502f9dd-d374-4c4f-eebe-611519c7d622",
        "colab": {
          "base_uri": "https://localhost:8080/",
          "height": 54
        }
      },
      "source": [
        "datos = [['4*x**3+E**(3*x)',0,2]]\n",
        "\n",
        "for f in datos :\n",
        "  funcion = (S(f[0], evaluate= False))\n",
        "  print(funcion) \n",
        "  print(r\"$\"+latex(Integral(funcion,(x,f[1],f[2])))+r\"=\\left[\"+latex(Integral(funcion,x).doit())+r\"\\right]_{\"+latex(f[1])+\"}^\"+latex(f[2])+\"=\"+latex(Integral(funcion,(x,f[1],f[2])).doit())+r\"$\") "
      ],
      "execution_count": 0,
      "outputs": [
        {
          "output_type": "stream",
          "text": [
            "4*x**3 + E**(3*x)\n",
            "$\\int_{0}^{2} \\left(4 x^{3} + e^{3 x}\\right)\\, dx=\\left[x^{4} + \\frac{e^{3 x}}{3}\\right]_{0}^2=\\frac{47}{3} + \\frac{e^{6}}{3}$\n"
          ],
          "name": "stdout"
        }
      ]
    },
    {
      "cell_type": "code",
      "metadata": {
        "id": "QCwRHkXs6Ul2",
        "colab_type": "code",
        "outputId": "4e204067-41d1-427f-cab6-250bd10c5b88",
        "colab": {
          "base_uri": "https://localhost:8080/",
          "height": 129
        }
      },
      "source": [
        "datos = ['sqrt(10+3*x- 5/4*x**2)']\n",
        "\n",
        "for f in datos :\n",
        "  funcion = (S(f, evaluate= False))\n",
        "  print(funcion)  \n",
        "  print(r\"$f'(x)=\"+latex(funcion.diff())+\"=\"+latex(simplify(funcion.diff()))+r\"$\")\n",
        "  extremos = solve(simplify(funcion.diff()))\n",
        "  segunda_derivada = simplify(funcion.diff().diff())\n",
        "  print(r\"$f''(x)=\"+latex(funcion.diff().diff())+\"=\"+latex(simplify(funcion.diff().diff()))+r\"$\")\n",
        "  for j in extremos :\n",
        "    print(latex(j))\n",
        "    print(latex(segunda_derivada.subs(x,j)))"
      ],
      "execution_count": 0,
      "outputs": [
        {
          "output_type": "stream",
          "text": [
            "sqrt(-5*x**2/4 + 3*x + 10)\n",
            "$f'(x)=\\frac{- \\frac{5 x}{4} + \\frac{3}{2}}{\\sqrt{- \\frac{5 x^{2}}{4} + 3 x + 10}}=\\frac{- 5 x + 6}{2 \\sqrt{- 5 x^{2} + 12 x + 40}}$\n",
            "$f''(x)=\\frac{\\left(- \\frac{5 x}{4} + \\frac{3}{2}\\right) \\left(\\frac{5 x}{4} - \\frac{3}{2}\\right)}{\\left(- \\frac{5 x^{2}}{4} + 3 x + 10\\right)^{\\frac{3}{2}}} - \\frac{5}{4 \\sqrt{- \\frac{5 x^{2}}{4} + 3 x + 10}}=- \\frac{118}{\\left(- 5 x^{2} + 12 x + 40\\right)^{\\frac{3}{2}}}$\n",
            "\\frac{6}{5}\n",
            "- \\frac{5 \\sqrt{295}}{236}\n"
          ],
          "name": "stdout"
        }
      ]
    },
    {
      "cell_type": "code",
      "metadata": {
        "id": "INQatXoOztIi",
        "colab_type": "code",
        "outputId": "750dee4b-477f-4704-833b-e4ef97b9256a",
        "colab": {
          "base_uri": "https://localhost:8080/",
          "height": 276
        }
      },
      "source": [
        "from sympy.calculus.util import continuous_domain\n",
        "import numpy as np \n",
        "\n",
        "datos = [[Piecewise(((x-3)/((x-4)*(x-5)),x<=3),((x**2-2)/((x+1)*(x+3)),x>3)), 3]]\n",
        "\n",
        "for f in datos :\n",
        "  funcion = f[0]\n",
        "  dominio = S.Reals\n",
        "  dominio = continuous_domain(funcion, x, S.Reals)\n",
        "  print(latex(dominio))\n",
        "  print(latex(funcion))\n",
        "\n",
        "#tramo_funcion = np.asarray(funcion.args)\n",
        "tramos = list(list(zip(*funcion.args))[0])\n",
        "\n",
        "for j in tramos :\n",
        "  print(j)\n",
        "  print(limit(j,x,3))\n",
        "\n",
        "estudio(funcion), print(latex(crecimiento(tramos[0])))\n",
        "print(latex(factor(simplify(tramos[0].diff()))))\n",
        "print(latex(solve(factor(simplify(tramos[0].diff())))))\n",
        "print(latex(tramos[0].subs(x,3-sqrt(2).evalf(2))))\n",
        "print(limit(tramos[0],x,-oo))\n",
        "print(latex(tramos[0].subs(x,3)))\n",
        "#funcion, #mi_plot(funcion)\n",
        "\n"
      ],
      "execution_count": 0,
      "outputs": [
        {
          "output_type": "stream",
          "text": [
            "\\mathbb{R}\n",
            "\\begin{cases} \\frac{x - 3}{\\left(x - 5\\right) \\left(x - 4\\right)} & \\text{for}\\: x \\leq 3 \\\\\\frac{x^{2} - 2}{\\left(x + 1\\right) \\left(x + 3\\right)} & \\text{for}\\: x > 3 \\end{cases}\n",
            "(x - 3)/((x - 5)*(x - 4))\n",
            "0\n",
            "(x**2 - 2)/((x + 1)*(x + 3))\n",
            "7/24\n"
          ],
          "name": "stdout"
        },
        {
          "output_type": "display_data",
          "data": {
            "text/plain": [
              "'En 3 no existe límite. Límites laterales: 0 y  7/24'"
            ]
          },
          "metadata": {
            "tags": []
          }
        },
        {
          "output_type": "stream",
          "text": [
            "\\left [ \\left(- \\sqrt{2} + 3, 4\\right) \\cup \\left(4, \\sqrt{2} + 3\\right), \\quad \\left(-\\infty, - \\sqrt{2} + 3\\right) \\cup \\left(\\sqrt{2} + 3, 5\\right) \\cup \\left(5, \\infty\\right), \\quad \\left [ \\left [ - \\sqrt{2} + 3, \\quad min\\right ], \\quad \\left [ \\sqrt{2} + 3, \\quad max\\right ]\\right ]\\right ]\n",
            "- \\frac{x^{2} - 6 x + 7}{\\left(x - 5\\right)^{2} \\left(x - 4\\right)^{2}}\n",
            "\\left [ - \\sqrt{2} + 3, \\quad \\sqrt{2} + 3\\right ]\n",
            "-0.17\n",
            "0\n",
            "0\n"
          ],
          "name": "stdout"
        }
      ]
    },
    {
      "cell_type": "code",
      "metadata": {
        "id": "1RcO_gEeypz_",
        "colab_type": "code",
        "outputId": "594dc256-fec1-45ed-bcab-5d290fc7b541",
        "colab": {
          "base_uri": "https://localhost:8080/",
          "height": 1000
        }
      },
      "source": [
        "datos = [log(x)/x]\n",
        "\n",
        "for f in datos :\n",
        "    print(latex(continuous_domain(f,x,domain=S.Reals)))\n",
        "    der_1 = simplify(f.diff())\n",
        "    print(latex(der_1))\n",
        "    der_2 = simplify(f.diff().diff())\n",
        "    print(latex(der_2))\n",
        "    print(latex(solve(der_2)[0].evalf()))\n",
        "    mi_plot(f)"
      ],
      "execution_count": 0,
      "outputs": [
        {
          "output_type": "stream",
          "text": [
            "\\left(0, \\infty\\right)\n",
            "\\frac{1}{x^{2}} \\left(- \\log{\\left (x \\right )} + 1\\right)\n",
            "\\frac{1}{x^{3}} \\left(2 \\log{\\left (x \\right )} - 3\\right)\n",
            "4.48168907033806\n"
          ],
          "name": "stdout"
        },
        {
          "output_type": "display_data",
          "data": {
            "image/png": "[encoded data removed]",
            "text/plain": [
              "<Figure size 720x720 with 1 Axes>"
            ]
          },
          "metadata": {
            "tags": []
          }
        },
        {
          "output_type": "display_data",
          "data": {
            "image/png": "[encoded data removed]",
            "text/plain": [
              "<Figure size 720x720 with 1 Axes>"
            ]
          },
          "metadata": {
            "tags": []
          }
        }
      ]
    },
    {
      "cell_type": "code",
      "metadata": {
        "id": "NyFaIVIy5jYX",
        "colab_type": "code",
        "outputId": "f8dbf1ce-f52c-4095-d82b-b21db0305e09",
        "colab": {
          "base_uri": "https://localhost:8080/",
          "height": 72
        }
      },
      "source": [
        "datos = [x**3 - 6*x**2+8*x]\n",
        "for f in datos :\n",
        "    der_1 = simplify(f.diff())\n",
        "    print(latex(der_1))\n",
        "\n",
        "for s in solve(der_1+1):\n",
        "  print(latex(datos[0].subs(x,s)))"
      ],
      "execution_count": 0,
      "outputs": [
        {
          "output_type": "stream",
          "text": [
            "3 x^{2} - 12 x + 8\n",
            "3\n",
            "-3\n"
          ],
          "name": "stdout"
        }
      ]
    },
    {
      "cell_type": "code",
      "metadata": {
        "id": "FuTN-iPlKw11",
        "colab_type": "code",
        "outputId": "ae0311ad-2fa4-47ed-ebe3-98af4e8e6a06",
        "colab": {
          "base_uri": "https://localhost:8080/",
          "height": 90
        }
      },
      "source": [
        "datos=[x**2+5*x+1/x, 1/(x+2)**3, (x+7)/x**2, 7*x/sqrt(x**2+1) ]\n",
        "for f in datos :\n",
        "  print(r\"$\"+latex(Integral(f))+\"=\"+latex(Integral(f).doit())+r\"+ C $\")"
      ],
      "execution_count": 0,
      "outputs": [
        {
          "output_type": "stream",
          "text": [
            "$\\int \\left(x^{2} + 5 x + \\frac{1}{x}\\right)\\, dx=\\frac{x^{3}}{3} + \\frac{5 x^{2}}{2} + \\log{\\left (x \\right )}+ C $\n",
            "$\\int \\frac{1}{\\left(x + 2\\right)^{3}}\\, dx=- \\frac{1}{2 x^{2} + 8 x + 8}+ C $\n",
            "$\\int \\frac{1}{x^{2}} \\left(x + 7\\right)\\, dx=\\log{\\left (x \\right )} - \\frac{7}{x}+ C $\n",
            "$\\int \\frac{7 x}{\\sqrt{x^{2} + 1}}\\, dx=7 \\sqrt{x^{2} + 1}+ C $\n"
          ],
          "name": "stdout"
        }
      ]
    }
  ]
}
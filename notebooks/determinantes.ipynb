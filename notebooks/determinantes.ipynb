{
  "cells": [
    {
      "cell_type": "code",
      "execution_count": 1,
      "id": "2b05842f",
      "metadata": {
        "colab": {
          "base_uri": "https://localhost:8080/"
        },
        "id": "2b05842f",
        "outputId": "0b1dae7f-18dc-4ef1-acc3-c9ff1bda4e9b"
      },
      "outputs": [
        {
          "output_type": "stream",
          "name": "stdout",
          "text": [
            "IPython console for SymPy 1.7.1 (Python 3.7.14-64-bit) (ground types: python)\n",
            "\n",
            "These commands were executed:\n",
            ">>> from __future__ import division\n",
            ">>> from sympy import *\n",
            ">>> x, y, z, t = symbols('x y z t')\n",
            ">>> k, m, n = symbols('k m n', integer=True)\n",
            ">>> f, g, h = symbols('f g h', cls=Function)\n",
            ">>> init_printing()\n",
            "\n",
            "Documentation can be found at https://docs.sympy.org/1.7.1/\n",
            "\n"
          ]
        }
      ],
      "source": [
        "from sympy import *\n",
        "init_session()"
      ]
    },
    {
      "cell_type": "code",
      "execution_count": 2,
      "id": "cdfde50e",
      "metadata": {
        "colab": {
          "base_uri": "https://localhost:8080/",
          "height": 200
        },
        "id": "cdfde50e",
        "outputId": "1c080ba1-a8cd-4b45-b401-bbf61a3a1f43"
      },
      "outputs": [
        {
          "output_type": "display_data",
          "data": {
            "text/plain": [
              "⎡⎡-5  -2  -1⎤   ⎤\n",
              "⎢⎢          ⎥   ⎥\n",
              "⎢⎢7   9   -4⎥, 0⎥\n",
              "⎢⎢          ⎥   ⎥\n",
              "⎣⎣2   7   -5⎦   ⎦"
            ],
            "text/latex": "$\\displaystyle \\left[ \\left[\\begin{matrix}-5 & -2 & -1\\\\7 & 9 & -4\\\\2 & 7 & -5\\end{matrix}\\right], \\  0\\right]$"
          },
          "metadata": {}
        },
        {
          "output_type": "display_data",
          "data": {
            "text/plain": [
              "⎡⎡1   0  -2⎤     ⎤\n",
              "⎢⎢         ⎥     ⎥\n",
              "⎢⎢2   5  4 ⎥, -49⎥\n",
              "⎢⎢         ⎥     ⎥\n",
              "⎣⎣-1  3  -3⎦     ⎦"
            ],
            "text/latex": "$\\displaystyle \\left[ \\left[\\begin{matrix}1 & 0 & -2\\\\2 & 5 & 4\\\\-1 & 3 & -3\\end{matrix}\\right], \\  -49\\right]$"
          },
          "metadata": {}
        },
        {
          "output_type": "display_data",
          "data": {
            "text/plain": [
              "⎡⎡0   -4  2 ⎤    ⎤\n",
              "⎢⎢          ⎥    ⎥\n",
              "⎢⎢1   2   -1⎥, 30⎥\n",
              "⎢⎢          ⎥    ⎥\n",
              "⎣⎣-2  3   6 ⎦    ⎦"
            ],
            "text/latex": "$\\displaystyle \\left[ \\left[\\begin{matrix}0 & -4 & 2\\\\1 & 2 & -1\\\\-2 & 3 & 6\\end{matrix}\\right], \\  30\\right]$"
          },
          "metadata": {}
        }
      ],
      "source": [
        "# p9.e1\n",
        "\n",
        "datos=[Matrix([[-5,-2,-1],[7,9,-4],[2,7,-5]]),Matrix([[1,0,-2],[2,5,4],[-1,3,-3]]), Matrix([[0,-4,2],[1,2,-1],[-2,3,6]])]\n",
        "\n",
        "for A in datos:\n",
        "        display([A,A.det()])\n",
        "\n"
      ]
    },
    {
      "cell_type": "code",
      "execution_count": 3,
      "id": "681e6c11",
      "metadata": {
        "colab": {
          "base_uri": "https://localhost:8080/",
          "height": 98
        },
        "id": "681e6c11",
        "outputId": "2fece8f7-cec3-4d4d-bc51-c6f52d64e30a"
      },
      "outputs": [
        {
          "output_type": "execute_result",
          "data": {
            "text/plain": [
              "⎛⎡2   -1  3   -1⎤                                                             \n",
              "⎜⎢              ⎥  ⎡0  5   0⎤          ⎡2   -1  -1⎤         ⎡-1  3  -1⎤       \n",
              "⎜⎢3   0   5   0 ⎥  ⎢        ⎥          ⎢          ⎥         ⎢         ⎥       \n",
              "⎜⎢              ⎥, ⎢2  -2  3⎥, -5, -5, ⎢-1  2   3 ⎥, -3, 3, ⎢0   5  0 ⎥, -5, -\n",
              "⎜⎢-1  2   -2  3 ⎥  ⎢        ⎥          ⎢          ⎥         ⎢         ⎥       \n",
              "⎜⎢              ⎥  ⎣1  4   2⎦          ⎣4   1   2 ⎦         ⎣1   4  2 ⎦       \n",
              "⎝⎣4   1   4   2 ⎦                                                             \n",
              "\n",
              "                       ⎡-5  -22  3   15⎤⎞\n",
              "   ⎡-1  3  -1⎤         ⎢               ⎥⎟\n",
              "   ⎢         ⎥         ⎢-3   6   3   -3⎥⎟\n",
              "5, ⎢0   5  0 ⎥, 3, -3, ⎢               ⎥⎟\n",
              "   ⎢         ⎥         ⎢-5  -10  3   9 ⎥⎟\n",
              "   ⎣1   4  2 ⎦         ⎢               ⎥⎟\n",
              "                       ⎣5    4   -3  -3⎦⎠"
            ],
            "text/latex": "$\\displaystyle \\left( \\left[\\begin{matrix}2 & -1 & 3 & -1\\\\3 & 0 & 5 & 0\\\\-1 & 2 & -2 & 3\\\\4 & 1 & 4 & 2\\end{matrix}\\right], \\  \\left[\\begin{matrix}0 & 5 & 0\\\\2 & -2 & 3\\\\1 & 4 & 2\\end{matrix}\\right], \\  -5, \\  -5, \\  \\left[\\begin{matrix}2 & -1 & -1\\\\-1 & 2 & 3\\\\4 & 1 & 2\\end{matrix}\\right], \\  -3, \\  3, \\  \\left[\\begin{matrix}-1 & 3 & -1\\\\0 & 5 & 0\\\\1 & 4 & 2\\end{matrix}\\right], \\  -5, \\  -5, \\  \\left[\\begin{matrix}-1 & 3 & -1\\\\0 & 5 & 0\\\\1 & 4 & 2\\end{matrix}\\right], \\  3, \\  -3, \\  \\left[\\begin{matrix}-5 & -22 & 3 & 15\\\\-3 & 6 & 3 & -3\\\\-5 & -10 & 3 & 9\\\\5 & 4 & -3 & -3\\end{matrix}\\right]\\right)$"
          },
          "metadata": {},
          "execution_count": 3
        }
      ],
      "source": [
        "# P9.e2\n",
        "\n",
        "A = Matrix([[2,-1,3,-1],[3,0,5,0],[-1,2,-2,3],[4,1,4,2]])\n",
        "A, A.minor_submatrix(0,0),A.minor(0,0), A.cofactor(0,0), A.minor_submatrix(1,2), A.minor(1,2), A.cofactor(1,2), A.minor_submatrix(2,0),A.minor(2,0), A.cofactor(2,0), A.minor_submatrix(2,0),A.minor(3,2), A.cofactor(3,2), A.cofactor_matrix()"
      ]
    },
    {
      "cell_type": "code",
      "execution_count": 4,
      "id": "0183d370",
      "metadata": {
        "colab": {
          "base_uri": "https://localhost:8080/",
          "height": 261
        },
        "id": "0183d370",
        "outputId": "955691c8-c264-4bb8-a018-4d3983b93743"
      },
      "outputs": [
        {
          "output_type": "display_data",
          "data": {
            "text/plain": [
              "⎡⎡-2  0   1  2⎤  ⎡17  -15  -18  31 ⎤  ⎡10  0   0   0 ⎤    ⎤\n",
              "⎢⎢            ⎥  ⎢                 ⎥  ⎢              ⎥    ⎥\n",
              "⎢⎢1   2   1  1⎥  ⎢-6  10    4   -8 ⎥  ⎢0   10  0   0 ⎥    ⎥\n",
              "⎢⎢            ⎥, ⎢                 ⎥, ⎢              ⎥, 10⎥\n",
              "⎢⎢3   1   2  0⎥  ⎢5   -5    0    5 ⎥  ⎢0   0   10  0 ⎥    ⎥\n",
              "⎢⎢            ⎥  ⎢                 ⎥  ⎢              ⎥    ⎥\n",
              "⎣⎣-5  -1  3  4⎦  ⎣-7   5    8   -11⎦  ⎣0   0   0   10⎦    ⎦"
            ],
            "text/latex": "$\\displaystyle \\left[ \\left[\\begin{matrix}-2 & 0 & 1 & 2\\\\1 & 2 & 1 & 1\\\\3 & 1 & 2 & 0\\\\-5 & -1 & 3 & 4\\end{matrix}\\right], \\  \\left[\\begin{matrix}17 & -15 & -18 & 31\\\\-6 & 10 & 4 & -8\\\\5 & -5 & 0 & 5\\\\-7 & 5 & 8 & -11\\end{matrix}\\right], \\  \\left[\\begin{matrix}10 & 0 & 0 & 0\\\\0 & 10 & 0 & 0\\\\0 & 0 & 10 & 0\\\\0 & 0 & 0 & 10\\end{matrix}\\right], \\  10\\right]$"
          },
          "metadata": {}
        },
        {
          "output_type": "display_data",
          "data": {
            "text/plain": [
              "⎡⎡1   2   1   0⎤  ⎡47   89    2   -72⎤  ⎡227   0    0    0 ⎤     ⎤\n",
              "⎢⎢             ⎥  ⎢                  ⎥  ⎢                  ⎥     ⎥\n",
              "⎢⎢-1  3   -2  3⎥  ⎢-16  18   -20  39 ⎥  ⎢ 0   227   0    0 ⎥     ⎥\n",
              "⎢⎢             ⎥, ⎢                  ⎥, ⎢                  ⎥, 227⎥\n",
              "⎢⎢1   1   4   2⎥  ⎢-11  -16  43   41 ⎥  ⎢ 0    0   227   0 ⎥     ⎥\n",
              "⎢⎢             ⎥  ⎢                  ⎥  ⎢                  ⎥     ⎥\n",
              "⎣⎣5   -1  -1  2⎦  ⎣35   -11  -13  14 ⎦  ⎣ 0    0    0   227⎦     ⎦"
            ],
            "text/latex": "$\\displaystyle \\left[ \\left[\\begin{matrix}1 & 2 & 1 & 0\\\\-1 & 3 & -2 & 3\\\\1 & 1 & 4 & 2\\\\5 & -1 & -1 & 2\\end{matrix}\\right], \\  \\left[\\begin{matrix}47 & 89 & 2 & -72\\\\-16 & 18 & -20 & 39\\\\-11 & -16 & 43 & 41\\\\35 & -11 & -13 & 14\\end{matrix}\\right], \\  \\left[\\begin{matrix}227 & 0 & 0 & 0\\\\0 & 227 & 0 & 0\\\\0 & 0 & 227 & 0\\\\0 & 0 & 0 & 227\\end{matrix}\\right], \\  227\\right]$"
          },
          "metadata": {}
        },
        {
          "output_type": "display_data",
          "data": {
            "text/plain": [
              "⎡⎡5   2   -2  3 ⎤  ⎡-16   42   84   -56⎤  ⎡-332   0     0     0  ⎤      ⎤\n",
              "⎢⎢              ⎥  ⎢                   ⎥  ⎢                      ⎥      ⎥\n",
              "⎢⎢0   0   4   6 ⎥  ⎢-30   58   -50  -22⎥  ⎢ 0    -332   0     0  ⎥      ⎥\n",
              "⎢⎢              ⎥, ⎢                   ⎥, ⎢                      ⎥, -332⎥\n",
              "⎢⎢0   2   1   3 ⎥  ⎢88   -148  36   -24⎥  ⎢ 0     0    -332   0  ⎥      ⎥\n",
              "⎢⎢              ⎥  ⎢                   ⎥  ⎢                      ⎥      ⎥\n",
              "⎣⎣-7  -4  0   -1⎦  ⎣36    30   60   -40⎦  ⎣ 0     0     0    -332⎦      ⎦"
            ],
            "text/latex": "$\\displaystyle \\left[ \\left[\\begin{matrix}5 & 2 & -2 & 3\\\\0 & 0 & 4 & 6\\\\0 & 2 & 1 & 3\\\\-7 & -4 & 0 & -1\\end{matrix}\\right], \\  \\left[\\begin{matrix}-16 & 42 & 84 & -56\\\\-30 & 58 & -50 & -22\\\\88 & -148 & 36 & -24\\\\36 & 30 & 60 & -40\\end{matrix}\\right], \\  \\left[\\begin{matrix}-332 & 0 & 0 & 0\\\\0 & -332 & 0 & 0\\\\0 & 0 & -332 & 0\\\\0 & 0 & 0 & -332\\end{matrix}\\right], \\  -332\\right]$"
          },
          "metadata": {}
        }
      ],
      "source": [
        "# p9.e3\n",
        "\n",
        "datos = [Matrix(4,4,[-2,0,1,2,1,2,1,1,3,1,2,0,-5,-1,3,4]),\n",
        "         Matrix(4,4,[1,2,1,0,-1,3,-2,3,1,1,4,2,5,-1,-1,2]),\n",
        "         Matrix(4,4,[5,2,-2,3,0,0,4,6,0,2,1,3,-7,-4,0,-1])\n",
        "        ]\n",
        "\n",
        "for A in datos:\n",
        "    display([A, A.cofactor_matrix(),A*A.cofactor_matrix().T,A.det()])"
      ]
    },
    {
      "cell_type": "code",
      "execution_count": 5,
      "id": "125d39ce",
      "metadata": {
        "colab": {
          "base_uri": "https://localhost:8080/",
          "height": 261
        },
        "id": "125d39ce",
        "outputId": "549d5240-cf4b-4a6c-9251-738b0d3bf8b4"
      },
      "outputs": [
        {
          "output_type": "display_data",
          "data": {
            "text/plain": [
              "⎡⎡2  -2  0   1 ⎤  ⎡-46  78   -38  30 ⎤  ⎡-218   0     0     0  ⎤      ⎤\n",
              "⎢⎢             ⎥  ⎢                  ⎥  ⎢                      ⎥      ⎥\n",
              "⎢⎢4  1   -2  1 ⎥  ⎢-30  -6   70   48 ⎥  ⎢ 0    -218   0     0  ⎥      ⎥\n",
              "⎢⎢             ⎥, ⎢                  ⎥, ⎢                      ⎥, -218⎥\n",
              "⎢⎢6  2   0   4 ⎥  ⎢ 9   -20  -21  -58⎥  ⎢ 0     0    -218   0  ⎥      ⎥\n",
              "⎢⎢             ⎥  ⎢                  ⎥  ⎢                      ⎥      ⎥\n",
              "⎣⎣3  4   3   -2⎦  ⎣-20  -4   -26  32 ⎦  ⎣ 0     0     0    -218⎦      ⎦"
            ],
            "text/latex": "$\\displaystyle \\left[ \\left[\\begin{matrix}2 & -2 & 0 & 1\\\\4 & 1 & -2 & 1\\\\6 & 2 & 0 & 4\\\\3 & 4 & 3 & -2\\end{matrix}\\right], \\  \\left[\\begin{matrix}-46 & 78 & -38 & 30\\\\-30 & -6 & 70 & 48\\\\9 & -20 & -21 & -58\\\\-20 & -4 & -26 & 32\\end{matrix}\\right], \\  \\left[\\begin{matrix}-218 & 0 & 0 & 0\\\\0 & -218 & 0 & 0\\\\0 & 0 & -218 & 0\\\\0 & 0 & 0 & -218\\end{matrix}\\right], \\  -218\\right]$"
          },
          "metadata": {}
        },
        {
          "output_type": "display_data",
          "data": {
            "text/plain": [
              "⎡⎡1  2   -1  3 ⎤  ⎡-29  -27  12    1 ⎤  ⎡-92   0    0    0 ⎤     ⎤\n",
              "⎢⎢             ⎥  ⎢                  ⎥  ⎢                  ⎥     ⎥\n",
              "⎢⎢0  1   2   3 ⎥  ⎢33   -1   -20  -17⎥  ⎢ 0   -92   0    0 ⎥     ⎥\n",
              "⎢⎢             ⎥, ⎢                  ⎥, ⎢                  ⎥, -92⎥\n",
              "⎢⎢1  -1  0   2 ⎥  ⎢-25  37    4   -15⎥  ⎢ 0    0   -92   0 ⎥     ⎥\n",
              "⎢⎢             ⎥  ⎢                  ⎥  ⎢                  ⎥     ⎥\n",
              "⎣⎣2  0   5   -2⎦  ⎣-19  -5   -8    7 ⎦  ⎣ 0    0    0   -92⎦     ⎦"
            ],
            "text/latex": "$\\displaystyle \\left[ \\left[\\begin{matrix}1 & 2 & -1 & 3\\\\0 & 1 & 2 & 3\\\\1 & -1 & 0 & 2\\\\2 & 0 & 5 & -2\\end{matrix}\\right], \\  \\left[\\begin{matrix}-29 & -27 & 12 & 1\\\\33 & -1 & -20 & -17\\\\-25 & 37 & 4 & -15\\\\-19 & -5 & -8 & 7\\end{matrix}\\right], \\  \\left[\\begin{matrix}-92 & 0 & 0 & 0\\\\0 & -92 & 0 & 0\\\\0 & 0 & -92 & 0\\\\0 & 0 & 0 & -92\\end{matrix}\\right], \\  -92\\right]$"
          },
          "metadata": {}
        },
        {
          "output_type": "display_data",
          "data": {
            "text/plain": [
              "⎡⎡2   3  -1  4⎤  ⎡46   -121  26   148⎤  ⎡295   0    0    0 ⎤     ⎤\n",
              "⎢⎢            ⎥  ⎢                   ⎥  ⎢                  ⎥     ⎥\n",
              "⎢⎢5   6  2   3⎥  ⎢41    14   36   -22⎥  ⎢ 0   295   0    0 ⎥     ⎥\n",
              "⎢⎢            ⎥, ⎢                   ⎥, ⎢                  ⎥, 295⎥\n",
              "⎢⎢-4  2  5   2⎥  ⎢-38   23   17    6 ⎥  ⎢ 0    0   295   0 ⎥     ⎥\n",
              "⎢⎢            ⎥  ⎢                   ⎥  ⎢                  ⎥     ⎥\n",
              "⎣⎣2   4  -2  3⎦  ⎣-77  132   -82  -81⎦  ⎣ 0    0    0   295⎦     ⎦"
            ],
            "text/latex": "$\\displaystyle \\left[ \\left[\\begin{matrix}2 & 3 & -1 & 4\\\\5 & 6 & 2 & 3\\\\-4 & 2 & 5 & 2\\\\2 & 4 & -2 & 3\\end{matrix}\\right], \\  \\left[\\begin{matrix}46 & -121 & 26 & 148\\\\41 & 14 & 36 & -22\\\\-38 & 23 & 17 & 6\\\\-77 & 132 & -82 & -81\\end{matrix}\\right], \\  \\left[\\begin{matrix}295 & 0 & 0 & 0\\\\0 & 295 & 0 & 0\\\\0 & 0 & 295 & 0\\\\0 & 0 & 0 & 295\\end{matrix}\\right], \\  295\\right]$"
          },
          "metadata": {}
        }
      ],
      "source": [
        "# p9.e6\n",
        "\n",
        "datos=[Matrix([[2,-2,0,1],[4,1,-2,1],[6,2,0,4],[3,4,3,-2]]),\n",
        " Matrix([[1,2,-1,3],[0,1,2,3],[1,-1,0,2],[2,0,5,-2]]),\n",
        " Matrix([[2,3,-1,4],[5,6,2,3],[-4,2,5,2],[2,4,-2,3]])]\n",
        "\n",
        "for A in datos:\n",
        "    display([A, A.cofactor_matrix(),A*A.cofactor_matrix().T,A.det()])"
      ]
    },
    {
      "cell_type": "code",
      "execution_count": 6,
      "id": "Cs3c8xsqhf4o",
      "metadata": {
        "colab": {
          "base_uri": "https://localhost:8080/",
          "height": 139
        },
        "id": "Cs3c8xsqhf4o",
        "outputId": "839fafd5-7eed-4b41-b8e8-de697aa45a3e"
      },
      "outputs": [
        {
          "output_type": "display_data",
          "data": {
            "text/plain": [
              "⎡⎡1   0  1⎤     ⎡0   2/5   -1/5⎤  ⎡0   2/5   -1/5⎤⎤\n",
              "⎢⎢        ⎥     ⎢              ⎥  ⎢              ⎥⎥\n",
              "⎢⎢2   1  1⎥, 5, ⎢-1  3/5   1/5 ⎥, ⎢-1  3/5   1/5 ⎥⎥\n",
              "⎢⎢        ⎥     ⎢              ⎥  ⎢              ⎥⎥\n",
              "⎣⎣-1  2  2⎦     ⎣1   -2/5  1/5 ⎦  ⎣1   -2/5  1/5 ⎦⎦"
            ],
            "text/latex": "$\\displaystyle \\left[ \\left[\\begin{matrix}1 & 0 & 1\\\\2 & 1 & 1\\\\-1 & 2 & 2\\end{matrix}\\right], \\  5, \\  \\left[\\begin{matrix}0 & \\frac{2}{5} & - \\frac{1}{5}\\\\-1 & \\frac{3}{5} & \\frac{1}{5}\\\\1 & - \\frac{2}{5} & \\frac{1}{5}\\end{matrix}\\right], \\  \\left[\\begin{matrix}0 & \\frac{2}{5} & - \\frac{1}{5}\\\\-1 & \\frac{3}{5} & \\frac{1}{5}\\\\1 & - \\frac{2}{5} & \\frac{1}{5}\\end{matrix}\\right]\\right]$"
          },
          "metadata": {}
        },
        {
          "output_type": "display_data",
          "data": {
            "text/plain": [
              "⎡                   ⎡               13  ⎤  ⎡               13  ⎤⎤\n",
              "⎢                   ⎢-8/35  6/35    ──  ⎥  ⎢-8/35  6/35    ──  ⎥⎥\n",
              "⎢                   ⎢               35  ⎥  ⎢               35  ⎥⎥\n",
              "⎢⎡3   -1  5 ⎤       ⎢                   ⎥  ⎢                   ⎥⎥\n",
              "⎢⎢          ⎥       ⎢        13         ⎥  ⎢        13         ⎥⎥\n",
              "⎢⎢-1  3   -2⎥, -35, ⎢6/35    ──    -1/35⎥, ⎢6/35    ──    -1/35⎥⎥\n",
              "⎢⎢          ⎥       ⎢        35         ⎥  ⎢        35         ⎥⎥\n",
              "⎢⎣5   -2  4 ⎦       ⎢                   ⎥  ⎢                   ⎥⎥\n",
              "⎢                   ⎢ 13                ⎥  ⎢ 13                ⎥⎥\n",
              "⎢                   ⎢ ──    -1/35  -8/35⎥  ⎢ ──    -1/35  -8/35⎥⎥\n",
              "⎣                   ⎣ 35                ⎦  ⎣ 35                ⎦⎦"
            ],
            "text/latex": "$\\displaystyle \\left[ \\left[\\begin{matrix}3 & -1 & 5\\\\-1 & 3 & -2\\\\5 & -2 & 4\\end{matrix}\\right], \\  -35, \\  \\left[\\begin{matrix}- \\frac{8}{35} & \\frac{6}{35} & \\frac{13}{35}\\\\\\frac{6}{35} & \\frac{13}{35} & - \\frac{1}{35}\\\\\\frac{13}{35} & - \\frac{1}{35} & - \\frac{8}{35}\\end{matrix}\\right], \\  \\left[\\begin{matrix}- \\frac{8}{35} & \\frac{6}{35} & \\frac{13}{35}\\\\\\frac{6}{35} & \\frac{13}{35} & - \\frac{1}{35}\\\\\\frac{13}{35} & - \\frac{1}{35} & - \\frac{8}{35}\\end{matrix}\\right]\\right]$"
          },
          "metadata": {}
        }
      ],
      "source": [
        "# p9.e7\n",
        "\n",
        "datos=[Matrix([[1,0,1],[2,1,1],[-1,2,2]]),\n",
        " Matrix([[3,-1,5],[-1,3,-2],[5,-2,4]]),\n",
        " ]\n",
        "\n",
        "for A in datos:\n",
        "    display([A, A.det(),A.T.cofactor_matrix()/A.det(), A.inv()])"
      ]
    },
    {
      "cell_type": "code",
      "execution_count": 7,
      "id": "37be17c7",
      "metadata": {
        "id": "37be17c7",
        "outputId": "ce2870ef-2ae0-4407-ee84-6369ef58f4a3",
        "colab": {
          "base_uri": "https://localhost:8080/",
          "height": 830
        }
      },
      "outputs": [
        {
          "output_type": "display_data",
          "data": {
            "text/plain": [
              "⎡⎡1   0⎤   ⎤\n",
              "⎢⎢     ⎥, 2⎥\n",
              "⎣⎣-3  2⎦   ⎦"
            ],
            "text/latex": "$\\displaystyle \\left[ \\left[\\begin{matrix}1 & 0\\\\-3 & 2\\end{matrix}\\right], \\  2\\right]$"
          },
          "metadata": {}
        },
        {
          "output_type": "display_data",
          "data": {
            "text/plain": [
              "⎡⎡-4  2 ⎤   ⎤\n",
              "⎢⎢      ⎥, 6⎥\n",
              "⎣⎣1   -2⎦   ⎦"
            ],
            "text/latex": "$\\displaystyle \\left[ \\left[\\begin{matrix}-4 & 2\\\\1 & -2\\end{matrix}\\right], \\  6\\right]$"
          },
          "metadata": {}
        },
        {
          "output_type": "display_data",
          "data": {
            "text/plain": [
              "⎡⎡-4  3⎤     ⎤\n",
              "⎢⎢     ⎥, -10⎥\n",
              "⎣⎣2   1⎦     ⎦"
            ],
            "text/latex": "$\\displaystyle \\left[ \\left[\\begin{matrix}-4 & 3\\\\2 & 1\\end{matrix}\\right], \\  -10\\right]$"
          },
          "metadata": {}
        },
        {
          "output_type": "display_data",
          "data": {
            "text/plain": [
              "⎡⎡3   2   1 ⎤   ⎤\n",
              "⎢⎢          ⎥   ⎥\n",
              "⎢⎢5   -2  -3⎥, 0⎥\n",
              "⎢⎢          ⎥   ⎥\n",
              "⎣⎣-2  4   4 ⎦   ⎦"
            ],
            "text/latex": "$\\displaystyle \\left[ \\left[\\begin{matrix}3 & 2 & 1\\\\5 & -2 & -3\\\\-2 & 4 & 4\\end{matrix}\\right], \\  0\\right]$"
          },
          "metadata": {}
        },
        {
          "output_type": "display_data",
          "data": {
            "text/plain": [
              "⎡⎡-1  2  0 ⎤     ⎤\n",
              "⎢⎢         ⎥     ⎥\n",
              "⎢⎢0   1  -2⎥, -25⎥\n",
              "⎢⎢         ⎥     ⎥\n",
              "⎣⎣3   5  3 ⎦     ⎦"
            ],
            "text/latex": "$\\displaystyle \\left[ \\left[\\begin{matrix}-1 & 2 & 0\\\\0 & 1 & -2\\\\3 & 5 & 3\\end{matrix}\\right], \\  -25\\right]$"
          },
          "metadata": {}
        },
        {
          "output_type": "display_data",
          "data": {
            "text/plain": [
              "⎡⎡4  1   2⎤     ⎤\n",
              "⎢⎢        ⎥     ⎥\n",
              "⎢⎢3  0   1⎥, -12⎥\n",
              "⎢⎢        ⎥     ⎥\n",
              "⎣⎣2  -1  4⎦     ⎦"
            ],
            "text/latex": "$\\displaystyle \\left[ \\left[\\begin{matrix}4 & 1 & 2\\\\3 & 0 & 1\\\\2 & -1 & 4\\end{matrix}\\right], \\  -12\\right]$"
          },
          "metadata": {}
        },
        {
          "output_type": "display_data",
          "data": {
            "text/plain": [
              "⎡⎡1   2   0 ⎤   ⎤\n",
              "⎢⎢          ⎥   ⎥\n",
              "⎢⎢-1  -3  -2⎥, 7⎥\n",
              "⎢⎢          ⎥   ⎥\n",
              "⎣⎣0   4   1 ⎦   ⎦"
            ],
            "text/latex": "$\\displaystyle \\left[ \\left[\\begin{matrix}1 & 2 & 0\\\\-1 & -3 & -2\\\\0 & 4 & 1\\end{matrix}\\right], \\  7\\right]$"
          },
          "metadata": {}
        },
        {
          "output_type": "display_data",
          "data": {
            "text/plain": [
              "⎡⎡4  1  3 ⎤    ⎤\n",
              "⎢⎢        ⎥    ⎥\n",
              "⎢⎢2  1  0 ⎥, 10⎥\n",
              "⎢⎢        ⎥    ⎥\n",
              "⎣⎣0  2  -1⎦    ⎦"
            ],
            "text/latex": "$\\displaystyle \\left[ \\left[\\begin{matrix}4 & 1 & 3\\\\2 & 1 & 0\\\\0 & 2 & -1\\end{matrix}\\right], \\  10\\right]$"
          },
          "metadata": {}
        },
        {
          "output_type": "display_data",
          "data": {
            "text/plain": [
              "⎡⎡3   0  5⎤     ⎤\n",
              "⎢⎢        ⎥     ⎥\n",
              "⎢⎢-2  2  4⎥, -26⎥\n",
              "⎢⎢        ⎥     ⎥\n",
              "⎣⎣1   1  1⎦     ⎦"
            ],
            "text/latex": "$\\displaystyle \\left[ \\left[\\begin{matrix}3 & 0 & 5\\\\-2 & 2 & 4\\\\1 & 1 & 1\\end{matrix}\\right], \\  -26\\right]$"
          },
          "metadata": {}
        },
        {
          "output_type": "display_data",
          "data": {
            "text/plain": [
              "⎡⎡1  1   1   1 ⎤   ⎤\n",
              "⎢⎢             ⎥   ⎥\n",
              "⎢⎢2  2   -1  1 ⎥   ⎥\n",
              "⎢⎢             ⎥, 7⎥\n",
              "⎢⎢3  2   -2  1 ⎥   ⎥\n",
              "⎢⎢             ⎥   ⎥\n",
              "⎣⎣1  -1  4   -1⎦   ⎦"
            ],
            "text/latex": "$\\displaystyle \\left[ \\left[\\begin{matrix}1 & 1 & 1 & 1\\\\2 & 2 & -1 & 1\\\\3 & 2 & -2 & 1\\\\1 & -1 & 4 & -1\\end{matrix}\\right], \\  7\\right]$"
          },
          "metadata": {}
        },
        {
          "output_type": "display_data",
          "data": {
            "text/plain": [
              "⎡⎡1  1  0  0⎤    ⎤\n",
              "⎢⎢          ⎥    ⎥\n",
              "⎢⎢1  0  0  1⎥    ⎥\n",
              "⎢⎢          ⎥, -2⎥\n",
              "⎢⎢0  1  1  0⎥    ⎥\n",
              "⎢⎢          ⎥    ⎥\n",
              "⎣⎣0  1  0  1⎦    ⎦"
            ],
            "text/latex": "$\\displaystyle \\left[ \\left[\\begin{matrix}1 & 1 & 0 & 0\\\\1 & 0 & 0 & 1\\\\0 & 1 & 1 & 0\\\\0 & 1 & 0 & 1\\end{matrix}\\right], \\  -2\\right]$"
          },
          "metadata": {}
        },
        {
          "output_type": "display_data",
          "data": {
            "text/plain": [
              "⎡⎡5   3   2   0 ⎤      ⎤\n",
              "⎢⎢              ⎥      ⎥\n",
              "⎢⎢-3  2   -1  -3⎥      ⎥\n",
              "⎢⎢              ⎥, -178⎥\n",
              "⎢⎢1   -1  -1  3 ⎥      ⎥\n",
              "⎢⎢              ⎥      ⎥\n",
              "⎣⎣1   2   2   4 ⎦      ⎦"
            ],
            "text/latex": "$\\displaystyle \\left[ \\left[\\begin{matrix}5 & 3 & 2 & 0\\\\-3 & 2 & -1 & -3\\\\1 & -1 & -1 & 3\\\\1 & 2 & 2 & 4\\end{matrix}\\right], \\  -178\\right]$"
          },
          "metadata": {}
        },
        {
          "output_type": "display_data",
          "data": {
            "text/plain": [
              "⎡⎡1   2   4   2 ⎤   ⎤\n",
              "⎢⎢              ⎥   ⎥\n",
              "⎢⎢3   3   12  3 ⎥   ⎥\n",
              "⎢⎢              ⎥, 0⎥\n",
              "⎢⎢1   -4  4   -4⎥   ⎥\n",
              "⎢⎢              ⎥   ⎥\n",
              "⎣⎣-2  -7  -8  -7⎦   ⎦"
            ],
            "text/latex": "$\\displaystyle \\left[ \\left[\\begin{matrix}1 & 2 & 4 & 2\\\\3 & 3 & 12 & 3\\\\1 & -4 & 4 & -4\\\\-2 & -7 & -8 & -7\\end{matrix}\\right], \\  0\\right]$"
          },
          "metadata": {}
        }
      ],
      "source": [
        "# p10.e1\n",
        "\n",
        "datos=[Matrix(2,2,[1,0,-3,2]),Matrix(2,2,[-4,2,1,-2]),Matrix(2,2,[-4,3,2,1]),\n",
        "    Matrix(3,3,[3,2,1,5,-2,-3,-2,4,4]),\n",
        "    Matrix(3,3,[-1,2,0,0,1,-2,3,5,3]),\n",
        "    Matrix(3,3,[4,1,2,3,0,1,2,-1,4]),\n",
        "    Matrix(3,3,[1,2,0,-1,-3,-2,0,4,1]),\n",
        "    Matrix(3,3,[4,1,3,2,1,0,0,2,-1]),\n",
        "    Matrix(3,3,[3,0,5,-2,2,4,1,1,1]),\n",
        "    Matrix(4,4,[1,1,1,1,2,2,-1,1,3,2,-2,1,1,-1,4,-1]),\n",
        "    Matrix(4,4,[1,1,0,0,1,0,0,1,0,1,1,0,0,1,0,1]),\n",
        "    Matrix(4,4,[5,3,2,0,-3,2,-1,-3,1,-1,-1,3,1,2,2,4]),\n",
        "    Matrix(4,4,[1,2,4,2,3,3,12,3,1,-4,4,-4,-2,-7,-8,-7])\n",
        " ]\n",
        "\n",
        "for A in datos:\n",
        "    display([A, A.det()])"
      ]
    },
    {
      "cell_type": "code",
      "execution_count": 8,
      "id": "9d1bcc82",
      "metadata": {
        "id": "9d1bcc82",
        "outputId": "d8816e06-1c5b-4283-c11f-eacd8cc1a141",
        "colab": {
          "base_uri": "https://localhost:8080/",
          "height": 200
        }
      },
      "outputs": [
        {
          "output_type": "display_data",
          "data": {
            "text/plain": [
              "⎡⎡1  1  1 ⎤                                            ⎤\n",
              "⎢⎢        ⎥                                            ⎥\n",
              "⎢⎢1  x  1 ⎥   3    2                 2                 ⎥\n",
              "⎢⎢        ⎥, x  - x  - x + 1, (x - 1) ⋅(x + 1), [-1, 1]⎥\n",
              "⎢⎢       2⎥                                            ⎥\n",
              "⎣⎣1  1  x ⎦                                            ⎦"
            ],
            "text/latex": "$\\displaystyle \\left[ \\left[\\begin{matrix}1 & 1 & 1\\\\1 & x & 1\\\\1 & 1 & x^{2}\\end{matrix}\\right], \\  x^{3} - x^{2} - x + 1, \\  \\left(x - 1\\right)^{2} \\left(x + 1\\right), \\  \\left[ -1, \\  1\\right]\\right]$"
          },
          "metadata": {}
        },
        {
          "output_type": "display_data",
          "data": {
            "text/plain": [
              "⎡⎡5  4   2⎤                                             ⎤\n",
              "⎢⎢        ⎥                                             ⎥\n",
              "⎢⎢6  x   1⎥     2                                       ⎥\n",
              "⎢⎢        ⎥, 7⋅x  + 7⋅x - 56, 7⋅(x - 3)⋅(x + 4), [-4, 3]⎥\n",
              "⎢⎢    2   ⎥                                             ⎥\n",
              "⎣⎣4  x   3⎦                                             ⎦"
            ],
            "text/latex": "$\\displaystyle \\left[ \\left[\\begin{matrix}5 & 4 & 2\\\\6 & x & 1\\\\4 & x^{2} & 3\\end{matrix}\\right], \\  7 x^{2} + 7 x - 56, \\  7 \\left(x - 3\\right) \\left(x + 4\\right), \\  \\left[ -4, \\  3\\right]\\right]$"
          },
          "metadata": {}
        },
        {
          "output_type": "display_data",
          "data": {
            "text/plain": [
              "⎡⎡x    -1    2⋅x⎤                                                 ⎤\n",
              "⎢⎢              ⎥     2                                           ⎥\n",
              "⎢⎢8   x - 1   5 ⎥, 4⋅x  + 7⋅x + 10, (x - 3)⋅(4⋅x + 19), [-19/4, 3]⎥\n",
              "⎢⎢              ⎥                                                 ⎥\n",
              "⎣⎣-2    1     0 ⎦                                                 ⎦"
            ],
            "text/latex": "$\\displaystyle \\left[ \\left[\\begin{matrix}x & -1 & 2 x\\\\8 & x - 1 & 5\\\\-2 & 1 & 0\\end{matrix}\\right], \\  4 x^{2} + 7 x + 10, \\  \\left(x - 3\\right) \\left(4 x + 19\\right), \\  \\left[ - \\frac{19}{4}, \\  3\\right]\\right]$"
          },
          "metadata": {}
        }
      ],
      "source": [
        "# p10.e4\n",
        "\n",
        "datos=[[Matrix([[1,1,1],[1,x,1],[1,1,x**2]]),0],\n",
        "       [Matrix(3,3,[5,4,2,6,x,1,4,x**2,3]),28],\n",
        "       [Matrix(3,3,[x,-1,2*x,8,x-1,5,-2,1,0]),67]\n",
        " ]\n",
        "\n",
        "for P in datos:\n",
        "    A, valor = P\n",
        "    \n",
        "    display([A, A.det(), factor(A.det()-valor), solve(A.det()-valor)])"
      ]
    },
    {
      "cell_type": "code",
      "source": [
        "# p10.e5\n",
        "\n",
        "datos=[Matrix(2,2,[3,-1,-2,2/3]),\n",
        "    Matrix(3,2,[0,3,-2,1,6,3]),\n",
        "    Matrix(3,3,[-3,-2,-4,-1,1,2,3,2,4]),\n",
        "    Matrix(4,3,[5,-2,9,1,4,1,3,-10,7,-2,-8,-2]),\n",
        "    Matrix(4,4,[3,1,2,6,6,1,3,10,1,1,4,6,-2,1,5,3]),\n",
        "\n",
        " ]\n",
        "\n",
        "for A in datos:\n",
        "    display([A, A.rank()])"
      ],
      "metadata": {
        "id": "b3zrDIGjTUSD",
        "outputId": "a3810261-049f-45bb-e871-0dd251d30058",
        "colab": {
          "base_uri": "https://localhost:8080/",
          "height": 342
        }
      },
      "id": "b3zrDIGjTUSD",
      "execution_count": 12,
      "outputs": [
        {
          "output_type": "display_data",
          "data": {
            "text/plain": [
              "⎡⎡3          -1        ⎤   ⎤\n",
              "⎢⎢                     ⎥, 1⎥\n",
              "⎣⎣-2  0.666666666666667⎦   ⎦"
            ],
            "text/latex": "$\\displaystyle \\left[ \\left[\\begin{matrix}3 & -1\\\\-2 & 0.666666666666667\\end{matrix}\\right], \\  1\\right]$"
          },
          "metadata": {}
        },
        {
          "output_type": "display_data",
          "data": {
            "text/plain": [
              "⎡⎡0   3⎤   ⎤\n",
              "⎢⎢     ⎥   ⎥\n",
              "⎢⎢-2  1⎥, 2⎥\n",
              "⎢⎢     ⎥   ⎥\n",
              "⎣⎣6   3⎦   ⎦"
            ],
            "text/latex": "$\\displaystyle \\left[ \\left[\\begin{matrix}0 & 3\\\\-2 & 1\\\\6 & 3\\end{matrix}\\right], \\  2\\right]$"
          },
          "metadata": {}
        },
        {
          "output_type": "display_data",
          "data": {
            "text/plain": [
              "⎡⎡-3  -2  -4⎤   ⎤\n",
              "⎢⎢          ⎥   ⎥\n",
              "⎢⎢-1  1   2 ⎥, 2⎥\n",
              "⎢⎢          ⎥   ⎥\n",
              "⎣⎣3   2   4 ⎦   ⎦"
            ],
            "text/latex": "$\\displaystyle \\left[ \\left[\\begin{matrix}-3 & -2 & -4\\\\-1 & 1 & 2\\\\3 & 2 & 4\\end{matrix}\\right], \\  2\\right]$"
          },
          "metadata": {}
        },
        {
          "output_type": "display_data",
          "data": {
            "text/plain": [
              "⎡⎡5   -2   9 ⎤   ⎤\n",
              "⎢⎢           ⎥   ⎥\n",
              "⎢⎢1    4   1 ⎥   ⎥\n",
              "⎢⎢           ⎥, 2⎥\n",
              "⎢⎢3   -10  7 ⎥   ⎥\n",
              "⎢⎢           ⎥   ⎥\n",
              "⎣⎣-2  -8   -2⎦   ⎦"
            ],
            "text/latex": "$\\displaystyle \\left[ \\left[\\begin{matrix}5 & -2 & 9\\\\1 & 4 & 1\\\\3 & -10 & 7\\\\-2 & -8 & -2\\end{matrix}\\right], \\  2\\right]$"
          },
          "metadata": {}
        },
        {
          "output_type": "display_data",
          "data": {
            "text/plain": [
              "⎡⎡3   1  2  6 ⎤   ⎤\n",
              "⎢⎢            ⎥   ⎥\n",
              "⎢⎢6   1  3  10⎥   ⎥\n",
              "⎢⎢            ⎥, 4⎥\n",
              "⎢⎢1   1  4  6 ⎥   ⎥\n",
              "⎢⎢            ⎥   ⎥\n",
              "⎣⎣-2  1  5  3 ⎦   ⎦"
            ],
            "text/latex": "$\\displaystyle \\left[ \\left[\\begin{matrix}3 & 1 & 2 & 6\\\\6 & 1 & 3 & 10\\\\1 & 1 & 4 & 6\\\\-2 & 1 & 5 & 3\\end{matrix}\\right], \\  4\\right]$"
          },
          "metadata": {}
        }
      ]
    },
    {
      "cell_type": "code",
      "source": [
        "# p11.e6\n",
        "\n",
        "datos=[Matrix(3,3,[1,2,m,0,3,5,2,4,4]),\n",
        "       Matrix(3,3,[1,-1,-1,1,-1,2,2,1,k]),\n",
        "       Matrix(4,4,[m,1,1,1,1,m,1,1,1,1,m,1,1,1,1,m]),\n",
        "       \n",
        " ]\n",
        "\n",
        "for A in datos:\n",
        "    display([A, factor(A.det())])"
      ],
      "metadata": {
        "id": "Y4hzmy6qUgd-",
        "outputId": "fbd6491d-ed4c-497e-fa44-0f585cc20d48",
        "colab": {
          "base_uri": "https://localhost:8080/",
          "height": 220
        }
      },
      "id": "Y4hzmy6qUgd-",
      "execution_count": 16,
      "outputs": [
        {
          "output_type": "display_data",
          "data": {
            "text/plain": [
              "⎡⎡1  2  m⎤            ⎤\n",
              "⎢⎢       ⎥            ⎥\n",
              "⎢⎢0  3  5⎥, -6⋅(m - 2)⎥\n",
              "⎢⎢       ⎥            ⎥\n",
              "⎣⎣2  4  4⎦            ⎦"
            ],
            "text/latex": "$\\displaystyle \\left[ \\left[\\begin{matrix}1 & 2 & m\\\\0 & 3 & 5\\\\2 & 4 & 4\\end{matrix}\\right], \\  - 6 \\left(m - 2\\right)\\right]$"
          },
          "metadata": {}
        },
        {
          "output_type": "display_data",
          "data": {
            "text/plain": [
              "⎡⎡1  -1  -1⎤    ⎤\n",
              "⎢⎢         ⎥    ⎥\n",
              "⎢⎢1  -1  2 ⎥, -9⎥\n",
              "⎢⎢         ⎥    ⎥\n",
              "⎣⎣2  1   k ⎦    ⎦"
            ],
            "text/latex": "$\\displaystyle \\left[ \\left[\\begin{matrix}1 & -1 & -1\\\\1 & -1 & 2\\\\2 & 1 & k\\end{matrix}\\right], \\  -9\\right]$"
          },
          "metadata": {}
        },
        {
          "output_type": "display_data",
          "data": {
            "text/plain": [
              "⎡⎡m  1  1  1⎤                  ⎤\n",
              "⎢⎢          ⎥                  ⎥\n",
              "⎢⎢1  m  1  1⎥         3        ⎥\n",
              "⎢⎢          ⎥, (m - 1) ⋅(m + 3)⎥\n",
              "⎢⎢1  1  m  1⎥                  ⎥\n",
              "⎢⎢          ⎥                  ⎥\n",
              "⎣⎣1  1  1  m⎦                  ⎦"
            ],
            "text/latex": "$\\displaystyle \\left[ \\left[\\begin{matrix}m & 1 & 1 & 1\\\\1 & m & 1 & 1\\\\1 & 1 & m & 1\\\\1 & 1 & 1 & m\\end{matrix}\\right], \\  \\left(m - 1\\right)^{3} \\left(m + 3\\right)\\right]$"
          },
          "metadata": {}
        }
      ]
    }
  ],
  "metadata": {
    "colab": {
      "provenance": []
    },
    "kernelspec": {
      "display_name": "Python 3",
      "language": "python",
      "name": "python3"
    },
    "language_info": {
      "codemirror_mode": {
        "name": "ipython",
        "version": 3
      },
      "file_extension": ".py",
      "mimetype": "text/x-python",
      "name": "python",
      "nbconvert_exporter": "python",
      "pygments_lexer": "ipython3",
      "version": "3.6.13"
    }
  },
  "nbformat": 4,
  "nbformat_minor": 5
}
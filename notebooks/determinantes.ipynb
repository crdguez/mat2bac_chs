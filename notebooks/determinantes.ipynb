{
 "cells": [
  {
   "cell_type": "code",
   "execution_count": 2,
   "id": "2b05842f",
   "metadata": {},
   "outputs": [
    {
     "name": "stdout",
     "output_type": "stream",
     "text": [
      "IPython console for SymPy 1.8 (Python 3.6.13-64-bit) (ground types: gmpy)\n",
      "\n",
      "These commands were executed:\n",
      ">>> from __future__ import division\n",
      ">>> from sympy import *\n",
      ">>> x, y, z, t = symbols('x y z t')\n",
      ">>> k, m, n = symbols('k m n', integer=True)\n",
      ">>> f, g, h = symbols('f g h', cls=Function)\n",
      ">>> init_printing()\n",
      "\n",
      "Documentation can be found at https://docs.sympy.org/1.8/\n",
      "\n"
     ]
    }
   ],
   "source": [
    "from sympy import *\n",
    "init_session()"
   ]
  },
  {
   "cell_type": "code",
   "execution_count": 14,
   "id": "cdfde50e",
   "metadata": {},
   "outputs": [
    {
     "data": {
      "text/latex": [
       "$\\displaystyle \\left[ \\left[\\begin{matrix}-5 & -2 & -1\\\\7 & 9 & -4\\\\2 & 7 & -5\\end{matrix}\\right], \\  0\\right]$"
      ],
      "text/plain": [
       "⎡⎡-5  -2  -1⎤   ⎤\n",
       "⎢⎢          ⎥   ⎥\n",
       "⎢⎢7   9   -4⎥, 0⎥\n",
       "⎢⎢          ⎥   ⎥\n",
       "⎣⎣2   7   -5⎦   ⎦"
      ]
     },
     "metadata": {},
     "output_type": "display_data"
    },
    {
     "data": {
      "text/latex": [
       "$\\displaystyle \\left[ \\left[\\begin{matrix}1 & 0 & -2\\\\2 & 5 & 4\\\\-1 & 3 & -3\\end{matrix}\\right], \\  -49\\right]$"
      ],
      "text/plain": [
       "⎡⎡1   0  -2⎤     ⎤\n",
       "⎢⎢         ⎥     ⎥\n",
       "⎢⎢2   5  4 ⎥, -49⎥\n",
       "⎢⎢         ⎥     ⎥\n",
       "⎣⎣-1  3  -3⎦     ⎦"
      ]
     },
     "metadata": {},
     "output_type": "display_data"
    },
    {
     "data": {
      "text/latex": [
       "$\\displaystyle \\left[ \\left[\\begin{matrix}0 & -4 & 2\\\\1 & 2 & -1\\\\-2 & 3 & 6\\end{matrix}\\right], \\  30\\right]$"
      ],
      "text/plain": [
       "⎡⎡0   -4  2 ⎤    ⎤\n",
       "⎢⎢          ⎥    ⎥\n",
       "⎢⎢1   2   -1⎥, 30⎥\n",
       "⎢⎢          ⎥    ⎥\n",
       "⎣⎣-2  3   6 ⎦    ⎦"
      ]
     },
     "metadata": {},
     "output_type": "display_data"
    }
   ],
   "source": [
    "# p9.e1\n",
    "\n",
    "datos=[Matrix([[-5,-2,-1],[7,9,-4],[2,7,-5]]),Matrix([[1,0,-2],[2,5,4],[-1,3,-3]]), Matrix([[0,-4,2],[1,2,-1],[-2,3,6]])]\n",
    "\n",
    "for A in datos:\n",
    "        display([A,A.det()])\n",
    "\n"
   ]
  },
  {
   "cell_type": "code",
   "execution_count": 32,
   "id": "681e6c11",
   "metadata": {},
   "outputs": [
    {
     "data": {
      "text/latex": [
       "$\\displaystyle \\left( \\left[\\begin{matrix}2 & -1 & 3 & -1\\\\3 & 0 & 5 & 0\\\\-1 & 2 & -2 & 3\\\\4 & 1 & 4 & 2\\end{matrix}\\right], \\  \\left[\\begin{matrix}0 & 5 & 0\\\\2 & -2 & 3\\\\1 & 4 & 2\\end{matrix}\\right], \\  -5, \\  -5, \\  \\left[\\begin{matrix}2 & -1 & -1\\\\-1 & 2 & 3\\\\4 & 1 & 2\\end{matrix}\\right], \\  -3, \\  3, \\  \\left[\\begin{matrix}-1 & 3 & -1\\\\0 & 5 & 0\\\\1 & 4 & 2\\end{matrix}\\right], \\  -5, \\  -5, \\  \\left[\\begin{matrix}-1 & 3 & -1\\\\0 & 5 & 0\\\\1 & 4 & 2\\end{matrix}\\right], \\  3, \\  -3, \\  \\left[\\begin{matrix}-5 & -22 & 3 & 15\\\\-3 & 6 & 3 & -3\\\\-5 & -10 & 3 & 9\\\\5 & 4 & -3 & -3\\end{matrix}\\right]\\right)$"
      ],
      "text/plain": [
       "⎛⎡2   -1  3   -1⎤                                                             \n",
       "⎜⎢              ⎥  ⎡0  5   0⎤          ⎡2   -1  -1⎤         ⎡-1  3  -1⎤       \n",
       "⎜⎢3   0   5   0 ⎥  ⎢        ⎥          ⎢          ⎥         ⎢         ⎥       \n",
       "⎜⎢              ⎥, ⎢2  -2  3⎥, -5, -5, ⎢-1  2   3 ⎥, -3, 3, ⎢0   5  0 ⎥, -5, -\n",
       "⎜⎢-1  2   -2  3 ⎥  ⎢        ⎥          ⎢          ⎥         ⎢         ⎥       \n",
       "⎜⎢              ⎥  ⎣1  4   2⎦          ⎣4   1   2 ⎦         ⎣1   4  2 ⎦       \n",
       "⎝⎣4   1   4   2 ⎦                                                             \n",
       "\n",
       "                       ⎡-5  -22  3   15⎤⎞\n",
       "   ⎡-1  3  -1⎤         ⎢               ⎥⎟\n",
       "   ⎢         ⎥         ⎢-3   6   3   -3⎥⎟\n",
       "5, ⎢0   5  0 ⎥, 3, -3, ⎢               ⎥⎟\n",
       "   ⎢         ⎥         ⎢-5  -10  3   9 ⎥⎟\n",
       "   ⎣1   4  2 ⎦         ⎢               ⎥⎟\n",
       "                       ⎣5    4   -3  -3⎦⎠"
      ]
     },
     "execution_count": 32,
     "metadata": {},
     "output_type": "execute_result"
    }
   ],
   "source": [
    "# P9.e2\n",
    "\n",
    "A = Matrix([[2,-1,3,-1],[3,0,5,0],[-1,2,-2,3],[4,1,4,2]])\n",
    "A, A.minor_submatrix(0,0),A.minor(0,0), A.cofactor(0,0), A.minor_submatrix(1,2), A.minor(1,2), A.cofactor(1,2), A.minor_submatrix(2,0),A.minor(2,0), A.cofactor(2,0), A.minor_submatrix(2,0),A.minor(3,2), A.cofactor(3,2), A.cofactor_matrix()"
   ]
  }
 ],
 "metadata": {
  "kernelspec": {
   "display_name": "Python 3",
   "language": "python",
   "name": "python3"
  },
  "language_info": {
   "codemirror_mode": {
    "name": "ipython",
    "version": 3
   },
   "file_extension": ".py",
   "mimetype": "text/x-python",
   "name": "python",
   "nbconvert_exporter": "python",
   "pygments_lexer": "ipython3",
   "version": "3.6.13"
  }
 },
 "nbformat": 4,
 "nbformat_minor": 5
}

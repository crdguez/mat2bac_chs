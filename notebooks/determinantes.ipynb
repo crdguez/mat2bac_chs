{
  "cells": [
    {
      "cell_type": "code",
      "execution_count": 1,
      "id": "2b05842f",
      "metadata": {
        "id": "2b05842f",
        "outputId": "b68e9858-6ec7-4c10-de35-4e50d1217996",
        "colab": {
          "base_uri": "https://localhost:8080/"
        }
      },
      "outputs": [
        {
          "output_type": "stream",
          "name": "stdout",
          "text": [
            "IPython console for SymPy 1.7.1 (Python 3.7.14-64-bit) (ground types: python)\n",
            "\n",
            "These commands were executed:\n",
            ">>> from __future__ import division\n",
            ">>> from sympy import *\n",
            ">>> x, y, z, t = symbols('x y z t')\n",
            ">>> k, m, n = symbols('k m n', integer=True)\n",
            ">>> f, g, h = symbols('f g h', cls=Function)\n",
            ">>> init_printing()\n",
            "\n",
            "Documentation can be found at https://docs.sympy.org/1.7.1/\n",
            "\n"
          ]
        }
      ],
      "source": [
        "from sympy import *\n",
        "init_session()"
      ]
    },
    {
      "cell_type": "code",
      "execution_count": 2,
      "id": "cdfde50e",
      "metadata": {
        "id": "cdfde50e",
        "outputId": "b3a31076-45c5-46a8-fc87-1e7605a22c6c",
        "colab": {
          "base_uri": "https://localhost:8080/",
          "height": 200
        }
      },
      "outputs": [
        {
          "output_type": "display_data",
          "data": {
            "text/plain": [
              "⎡⎡-5  -2  -1⎤   ⎤\n",
              "⎢⎢          ⎥   ⎥\n",
              "⎢⎢7   9   -4⎥, 0⎥\n",
              "⎢⎢          ⎥   ⎥\n",
              "⎣⎣2   7   -5⎦   ⎦"
            ],
            "text/latex": "$\\displaystyle \\left[ \\left[\\begin{matrix}-5 & -2 & -1\\\\7 & 9 & -4\\\\2 & 7 & -5\\end{matrix}\\right], \\  0\\right]$"
          },
          "metadata": {}
        },
        {
          "output_type": "display_data",
          "data": {
            "text/plain": [
              "⎡⎡1   0  -2⎤     ⎤\n",
              "⎢⎢         ⎥     ⎥\n",
              "⎢⎢2   5  4 ⎥, -49⎥\n",
              "⎢⎢         ⎥     ⎥\n",
              "⎣⎣-1  3  -3⎦     ⎦"
            ],
            "text/latex": "$\\displaystyle \\left[ \\left[\\begin{matrix}1 & 0 & -2\\\\2 & 5 & 4\\\\-1 & 3 & -3\\end{matrix}\\right], \\  -49\\right]$"
          },
          "metadata": {}
        },
        {
          "output_type": "display_data",
          "data": {
            "text/plain": [
              "⎡⎡0   -4  2 ⎤    ⎤\n",
              "⎢⎢          ⎥    ⎥\n",
              "⎢⎢1   2   -1⎥, 30⎥\n",
              "⎢⎢          ⎥    ⎥\n",
              "⎣⎣-2  3   6 ⎦    ⎦"
            ],
            "text/latex": "$\\displaystyle \\left[ \\left[\\begin{matrix}0 & -4 & 2\\\\1 & 2 & -1\\\\-2 & 3 & 6\\end{matrix}\\right], \\  30\\right]$"
          },
          "metadata": {}
        }
      ],
      "source": [
        "# p9.e1\n",
        "\n",
        "datos=[Matrix([[-5,-2,-1],[7,9,-4],[2,7,-5]]),Matrix([[1,0,-2],[2,5,4],[-1,3,-3]]), Matrix([[0,-4,2],[1,2,-1],[-2,3,6]])]\n",
        "\n",
        "for A in datos:\n",
        "        display([A,A.det()])\n",
        "\n"
      ]
    },
    {
      "cell_type": "code",
      "execution_count": 3,
      "id": "681e6c11",
      "metadata": {
        "id": "681e6c11",
        "outputId": "44b03e57-57dc-46b5-a112-205bbc4eb4b3",
        "colab": {
          "base_uri": "https://localhost:8080/",
          "height": 98
        }
      },
      "outputs": [
        {
          "output_type": "execute_result",
          "data": {
            "text/plain": [
              "⎛⎡2   -1  3   -1⎤                                                             \n",
              "⎜⎢              ⎥  ⎡0  5   0⎤          ⎡2   -1  -1⎤         ⎡-1  3  -1⎤       \n",
              "⎜⎢3   0   5   0 ⎥  ⎢        ⎥          ⎢          ⎥         ⎢         ⎥       \n",
              "⎜⎢              ⎥, ⎢2  -2  3⎥, -5, -5, ⎢-1  2   3 ⎥, -3, 3, ⎢0   5  0 ⎥, -5, -\n",
              "⎜⎢-1  2   -2  3 ⎥  ⎢        ⎥          ⎢          ⎥         ⎢         ⎥       \n",
              "⎜⎢              ⎥  ⎣1  4   2⎦          ⎣4   1   2 ⎦         ⎣1   4  2 ⎦       \n",
              "⎝⎣4   1   4   2 ⎦                                                             \n",
              "\n",
              "                       ⎡-5  -22  3   15⎤⎞\n",
              "   ⎡-1  3  -1⎤         ⎢               ⎥⎟\n",
              "   ⎢         ⎥         ⎢-3   6   3   -3⎥⎟\n",
              "5, ⎢0   5  0 ⎥, 3, -3, ⎢               ⎥⎟\n",
              "   ⎢         ⎥         ⎢-5  -10  3   9 ⎥⎟\n",
              "   ⎣1   4  2 ⎦         ⎢               ⎥⎟\n",
              "                       ⎣5    4   -3  -3⎦⎠"
            ],
            "text/latex": "$\\displaystyle \\left( \\left[\\begin{matrix}2 & -1 & 3 & -1\\\\3 & 0 & 5 & 0\\\\-1 & 2 & -2 & 3\\\\4 & 1 & 4 & 2\\end{matrix}\\right], \\  \\left[\\begin{matrix}0 & 5 & 0\\\\2 & -2 & 3\\\\1 & 4 & 2\\end{matrix}\\right], \\  -5, \\  -5, \\  \\left[\\begin{matrix}2 & -1 & -1\\\\-1 & 2 & 3\\\\4 & 1 & 2\\end{matrix}\\right], \\  -3, \\  3, \\  \\left[\\begin{matrix}-1 & 3 & -1\\\\0 & 5 & 0\\\\1 & 4 & 2\\end{matrix}\\right], \\  -5, \\  -5, \\  \\left[\\begin{matrix}-1 & 3 & -1\\\\0 & 5 & 0\\\\1 & 4 & 2\\end{matrix}\\right], \\  3, \\  -3, \\  \\left[\\begin{matrix}-5 & -22 & 3 & 15\\\\-3 & 6 & 3 & -3\\\\-5 & -10 & 3 & 9\\\\5 & 4 & -3 & -3\\end{matrix}\\right]\\right)$"
          },
          "metadata": {},
          "execution_count": 3
        }
      ],
      "source": [
        "# P9.e2\n",
        "\n",
        "A = Matrix([[2,-1,3,-1],[3,0,5,0],[-1,2,-2,3],[4,1,4,2]])\n",
        "A, A.minor_submatrix(0,0),A.minor(0,0), A.cofactor(0,0), A.minor_submatrix(1,2), A.minor(1,2), A.cofactor(1,2), A.minor_submatrix(2,0),A.minor(2,0), A.cofactor(2,0), A.minor_submatrix(2,0),A.minor(3,2), A.cofactor(3,2), A.cofactor_matrix()"
      ]
    },
    {
      "cell_type": "code",
      "execution_count": 4,
      "id": "0183d370",
      "metadata": {
        "id": "0183d370",
        "outputId": "90f29483-d6d2-44da-af1e-6f0f844e2adb",
        "colab": {
          "base_uri": "https://localhost:8080/",
          "height": 261
        }
      },
      "outputs": [
        {
          "output_type": "display_data",
          "data": {
            "text/plain": [
              "⎡⎡-2  0   1  2⎤  ⎡17  -15  -18  31 ⎤  ⎡10  0   0   0 ⎤    ⎤\n",
              "⎢⎢            ⎥  ⎢                 ⎥  ⎢              ⎥    ⎥\n",
              "⎢⎢1   2   1  1⎥  ⎢-6  10    4   -8 ⎥  ⎢0   10  0   0 ⎥    ⎥\n",
              "⎢⎢            ⎥, ⎢                 ⎥, ⎢              ⎥, 10⎥\n",
              "⎢⎢3   1   2  0⎥  ⎢5   -5    0    5 ⎥  ⎢0   0   10  0 ⎥    ⎥\n",
              "⎢⎢            ⎥  ⎢                 ⎥  ⎢              ⎥    ⎥\n",
              "⎣⎣-5  -1  3  4⎦  ⎣-7   5    8   -11⎦  ⎣0   0   0   10⎦    ⎦"
            ],
            "text/latex": "$\\displaystyle \\left[ \\left[\\begin{matrix}-2 & 0 & 1 & 2\\\\1 & 2 & 1 & 1\\\\3 & 1 & 2 & 0\\\\-5 & -1 & 3 & 4\\end{matrix}\\right], \\  \\left[\\begin{matrix}17 & -15 & -18 & 31\\\\-6 & 10 & 4 & -8\\\\5 & -5 & 0 & 5\\\\-7 & 5 & 8 & -11\\end{matrix}\\right], \\  \\left[\\begin{matrix}10 & 0 & 0 & 0\\\\0 & 10 & 0 & 0\\\\0 & 0 & 10 & 0\\\\0 & 0 & 0 & 10\\end{matrix}\\right], \\  10\\right]$"
          },
          "metadata": {}
        },
        {
          "output_type": "display_data",
          "data": {
            "text/plain": [
              "⎡⎡1   2   1   0⎤  ⎡47   89    2   -72⎤  ⎡227   0    0    0 ⎤     ⎤\n",
              "⎢⎢             ⎥  ⎢                  ⎥  ⎢                  ⎥     ⎥\n",
              "⎢⎢-1  3   -2  3⎥  ⎢-16  18   -20  39 ⎥  ⎢ 0   227   0    0 ⎥     ⎥\n",
              "⎢⎢             ⎥, ⎢                  ⎥, ⎢                  ⎥, 227⎥\n",
              "⎢⎢1   1   4   2⎥  ⎢-11  -16  43   41 ⎥  ⎢ 0    0   227   0 ⎥     ⎥\n",
              "⎢⎢             ⎥  ⎢                  ⎥  ⎢                  ⎥     ⎥\n",
              "⎣⎣5   -1  -1  2⎦  ⎣35   -11  -13  14 ⎦  ⎣ 0    0    0   227⎦     ⎦"
            ],
            "text/latex": "$\\displaystyle \\left[ \\left[\\begin{matrix}1 & 2 & 1 & 0\\\\-1 & 3 & -2 & 3\\\\1 & 1 & 4 & 2\\\\5 & -1 & -1 & 2\\end{matrix}\\right], \\  \\left[\\begin{matrix}47 & 89 & 2 & -72\\\\-16 & 18 & -20 & 39\\\\-11 & -16 & 43 & 41\\\\35 & -11 & -13 & 14\\end{matrix}\\right], \\  \\left[\\begin{matrix}227 & 0 & 0 & 0\\\\0 & 227 & 0 & 0\\\\0 & 0 & 227 & 0\\\\0 & 0 & 0 & 227\\end{matrix}\\right], \\  227\\right]$"
          },
          "metadata": {}
        },
        {
          "output_type": "display_data",
          "data": {
            "text/plain": [
              "⎡⎡5   2   -2  3 ⎤  ⎡-16   42   84   -56⎤  ⎡-332   0     0     0  ⎤      ⎤\n",
              "⎢⎢              ⎥  ⎢                   ⎥  ⎢                      ⎥      ⎥\n",
              "⎢⎢0   0   4   6 ⎥  ⎢-30   58   -50  -22⎥  ⎢ 0    -332   0     0  ⎥      ⎥\n",
              "⎢⎢              ⎥, ⎢                   ⎥, ⎢                      ⎥, -332⎥\n",
              "⎢⎢0   2   1   3 ⎥  ⎢88   -148  36   -24⎥  ⎢ 0     0    -332   0  ⎥      ⎥\n",
              "⎢⎢              ⎥  ⎢                   ⎥  ⎢                      ⎥      ⎥\n",
              "⎣⎣-7  -4  0   -1⎦  ⎣36    30   60   -40⎦  ⎣ 0     0     0    -332⎦      ⎦"
            ],
            "text/latex": "$\\displaystyle \\left[ \\left[\\begin{matrix}5 & 2 & -2 & 3\\\\0 & 0 & 4 & 6\\\\0 & 2 & 1 & 3\\\\-7 & -4 & 0 & -1\\end{matrix}\\right], \\  \\left[\\begin{matrix}-16 & 42 & 84 & -56\\\\-30 & 58 & -50 & -22\\\\88 & -148 & 36 & -24\\\\36 & 30 & 60 & -40\\end{matrix}\\right], \\  \\left[\\begin{matrix}-332 & 0 & 0 & 0\\\\0 & -332 & 0 & 0\\\\0 & 0 & -332 & 0\\\\0 & 0 & 0 & -332\\end{matrix}\\right], \\  -332\\right]$"
          },
          "metadata": {}
        }
      ],
      "source": [
        "# p9.e3\n",
        "\n",
        "datos = [Matrix(4,4,[-2,0,1,2,1,2,1,1,3,1,2,0,-5,-1,3,4]),\n",
        "         Matrix(4,4,[1,2,1,0,-1,3,-2,3,1,1,4,2,5,-1,-1,2]),\n",
        "         Matrix(4,4,[5,2,-2,3,0,0,4,6,0,2,1,3,-7,-4,0,-1])\n",
        "        ]\n",
        "\n",
        "for A in datos:\n",
        "    display([A, A.cofactor_matrix(),A*A.cofactor_matrix().T,A.det()])"
      ]
    },
    {
      "cell_type": "code",
      "execution_count": 5,
      "id": "125d39ce",
      "metadata": {
        "id": "125d39ce",
        "outputId": "46561d15-20c1-4643-8841-3c4f764a57ea",
        "colab": {
          "base_uri": "https://localhost:8080/",
          "height": 261
        }
      },
      "outputs": [
        {
          "output_type": "display_data",
          "data": {
            "text/plain": [
              "⎡⎡2  -2  0   1 ⎤  ⎡-46  78   -38  30 ⎤  ⎡-218   0     0     0  ⎤      ⎤\n",
              "⎢⎢             ⎥  ⎢                  ⎥  ⎢                      ⎥      ⎥\n",
              "⎢⎢4  1   -2  1 ⎥  ⎢-30  -6   70   48 ⎥  ⎢ 0    -218   0     0  ⎥      ⎥\n",
              "⎢⎢             ⎥, ⎢                  ⎥, ⎢                      ⎥, -218⎥\n",
              "⎢⎢6  2   0   4 ⎥  ⎢ 9   -20  -21  -58⎥  ⎢ 0     0    -218   0  ⎥      ⎥\n",
              "⎢⎢             ⎥  ⎢                  ⎥  ⎢                      ⎥      ⎥\n",
              "⎣⎣3  4   3   -2⎦  ⎣-20  -4   -26  32 ⎦  ⎣ 0     0     0    -218⎦      ⎦"
            ],
            "text/latex": "$\\displaystyle \\left[ \\left[\\begin{matrix}2 & -2 & 0 & 1\\\\4 & 1 & -2 & 1\\\\6 & 2 & 0 & 4\\\\3 & 4 & 3 & -2\\end{matrix}\\right], \\  \\left[\\begin{matrix}-46 & 78 & -38 & 30\\\\-30 & -6 & 70 & 48\\\\9 & -20 & -21 & -58\\\\-20 & -4 & -26 & 32\\end{matrix}\\right], \\  \\left[\\begin{matrix}-218 & 0 & 0 & 0\\\\0 & -218 & 0 & 0\\\\0 & 0 & -218 & 0\\\\0 & 0 & 0 & -218\\end{matrix}\\right], \\  -218\\right]$"
          },
          "metadata": {}
        },
        {
          "output_type": "display_data",
          "data": {
            "text/plain": [
              "⎡⎡1  2   -1  3 ⎤  ⎡-29  -27  12    1 ⎤  ⎡-92   0    0    0 ⎤     ⎤\n",
              "⎢⎢             ⎥  ⎢                  ⎥  ⎢                  ⎥     ⎥\n",
              "⎢⎢0  1   2   3 ⎥  ⎢33   -1   -20  -17⎥  ⎢ 0   -92   0    0 ⎥     ⎥\n",
              "⎢⎢             ⎥, ⎢                  ⎥, ⎢                  ⎥, -92⎥\n",
              "⎢⎢1  -1  0   2 ⎥  ⎢-25  37    4   -15⎥  ⎢ 0    0   -92   0 ⎥     ⎥\n",
              "⎢⎢             ⎥  ⎢                  ⎥  ⎢                  ⎥     ⎥\n",
              "⎣⎣2  0   5   -2⎦  ⎣-19  -5   -8    7 ⎦  ⎣ 0    0    0   -92⎦     ⎦"
            ],
            "text/latex": "$\\displaystyle \\left[ \\left[\\begin{matrix}1 & 2 & -1 & 3\\\\0 & 1 & 2 & 3\\\\1 & -1 & 0 & 2\\\\2 & 0 & 5 & -2\\end{matrix}\\right], \\  \\left[\\begin{matrix}-29 & -27 & 12 & 1\\\\33 & -1 & -20 & -17\\\\-25 & 37 & 4 & -15\\\\-19 & -5 & -8 & 7\\end{matrix}\\right], \\  \\left[\\begin{matrix}-92 & 0 & 0 & 0\\\\0 & -92 & 0 & 0\\\\0 & 0 & -92 & 0\\\\0 & 0 & 0 & -92\\end{matrix}\\right], \\  -92\\right]$"
          },
          "metadata": {}
        },
        {
          "output_type": "display_data",
          "data": {
            "text/plain": [
              "⎡⎡2   3  -1  4⎤  ⎡46   -121  26   148⎤  ⎡295   0    0    0 ⎤     ⎤\n",
              "⎢⎢            ⎥  ⎢                   ⎥  ⎢                  ⎥     ⎥\n",
              "⎢⎢5   6  2   3⎥  ⎢41    14   36   -22⎥  ⎢ 0   295   0    0 ⎥     ⎥\n",
              "⎢⎢            ⎥, ⎢                   ⎥, ⎢                  ⎥, 295⎥\n",
              "⎢⎢-4  2  5   2⎥  ⎢-38   23   17    6 ⎥  ⎢ 0    0   295   0 ⎥     ⎥\n",
              "⎢⎢            ⎥  ⎢                   ⎥  ⎢                  ⎥     ⎥\n",
              "⎣⎣2   4  -2  3⎦  ⎣-77  132   -82  -81⎦  ⎣ 0    0    0   295⎦     ⎦"
            ],
            "text/latex": "$\\displaystyle \\left[ \\left[\\begin{matrix}2 & 3 & -1 & 4\\\\5 & 6 & 2 & 3\\\\-4 & 2 & 5 & 2\\\\2 & 4 & -2 & 3\\end{matrix}\\right], \\  \\left[\\begin{matrix}46 & -121 & 26 & 148\\\\41 & 14 & 36 & -22\\\\-38 & 23 & 17 & 6\\\\-77 & 132 & -82 & -81\\end{matrix}\\right], \\  \\left[\\begin{matrix}295 & 0 & 0 & 0\\\\0 & 295 & 0 & 0\\\\0 & 0 & 295 & 0\\\\0 & 0 & 0 & 295\\end{matrix}\\right], \\  295\\right]$"
          },
          "metadata": {}
        }
      ],
      "source": [
        "# p9.e6\n",
        "\n",
        "datos=[Matrix([[2,-2,0,1],[4,1,-2,1],[6,2,0,4],[3,4,3,-2]]),\n",
        " Matrix([[1,2,-1,3],[0,1,2,3],[1,-1,0,2],[2,0,5,-2]]),\n",
        " Matrix([[2,3,-1,4],[5,6,2,3],[-4,2,5,2],[2,4,-2,3]])]\n",
        "\n",
        "for A in datos:\n",
        "    display([A, A.cofactor_matrix(),A*A.cofactor_matrix().T,A.det()])"
      ]
    },
    {
      "cell_type": "code",
      "source": [
        "# p9.e7\n",
        "\n",
        "datos=[Matrix([[1,0,1],[2,1,1],[-1,2,2]]),\n",
        " Matrix([[3,-1,5],[-1,3,-2],[5,-2,4]]),\n",
        " ]\n",
        "\n",
        "for A in datos:\n",
        "    display([A, A.T.cofactor_matrix(),A.det(),A.T.cofactor_matrix()/A.det(), A.inv()])"
      ],
      "metadata": {
        "id": "Cs3c8xsqhf4o",
        "outputId": "cf80a262-184a-43a7-a527-6b2e4150a759",
        "colab": {
          "base_uri": "https://localhost:8080/",
          "height": 139
        }
      },
      "id": "Cs3c8xsqhf4o",
      "execution_count": 11,
      "outputs": [
        {
          "output_type": "display_data",
          "data": {
            "text/plain": [
              "⎡⎡1   0  1⎤  ⎡0   2   -1⎤     ⎡0   2/5   -1/5⎤  ⎡0   2/5   -1/5⎤⎤\n",
              "⎢⎢        ⎥  ⎢          ⎥     ⎢              ⎥  ⎢              ⎥⎥\n",
              "⎢⎢2   1  1⎥, ⎢-5  3   1 ⎥, 5, ⎢-1  3/5   1/5 ⎥, ⎢-1  3/5   1/5 ⎥⎥\n",
              "⎢⎢        ⎥  ⎢          ⎥     ⎢              ⎥  ⎢              ⎥⎥\n",
              "⎣⎣-1  2  2⎦  ⎣5   -2  1 ⎦     ⎣1   -2/5  1/5 ⎦  ⎣1   -2/5  1/5 ⎦⎦"
            ],
            "text/latex": "$\\displaystyle \\left[ \\left[\\begin{matrix}1 & 0 & 1\\\\2 & 1 & 1\\\\-1 & 2 & 2\\end{matrix}\\right], \\  \\left[\\begin{matrix}0 & 2 & -1\\\\-5 & 3 & 1\\\\5 & -2 & 1\\end{matrix}\\right], \\  5, \\  \\left[\\begin{matrix}0 & \\frac{2}{5} & - \\frac{1}{5}\\\\-1 & \\frac{3}{5} & \\frac{1}{5}\\\\1 & - \\frac{2}{5} & \\frac{1}{5}\\end{matrix}\\right], \\  \\left[\\begin{matrix}0 & \\frac{2}{5} & - \\frac{1}{5}\\\\-1 & \\frac{3}{5} & \\frac{1}{5}\\\\1 & - \\frac{2}{5} & \\frac{1}{5}\\end{matrix}\\right]\\right]$"
          },
          "metadata": {}
        },
        {
          "output_type": "display_data",
          "data": {
            "text/plain": [
              "⎡                                    ⎡               13  ⎤  ⎡               13\n",
              "⎢                                    ⎢-8/35  6/35    ──  ⎥  ⎢-8/35  6/35    ──\n",
              "⎢                                    ⎢               35  ⎥  ⎢               35\n",
              "⎢⎡3   -1  5 ⎤  ⎡ 8   -6   -13⎤       ⎢                   ⎥  ⎢                 \n",
              "⎢⎢          ⎥  ⎢             ⎥       ⎢        13         ⎥  ⎢        13       \n",
              "⎢⎢-1  3   -2⎥, ⎢-6   -13   1 ⎥, -35, ⎢6/35    ──    -1/35⎥, ⎢6/35    ──    -1/\n",
              "⎢⎢          ⎥  ⎢             ⎥       ⎢        35         ⎥  ⎢        35       \n",
              "⎢⎣5   -2  4 ⎦  ⎣-13   1    8 ⎦       ⎢                   ⎥  ⎢                 \n",
              "⎢                                    ⎢ 13                ⎥  ⎢ 13              \n",
              "⎢                                    ⎢ ──    -1/35  -8/35⎥  ⎢ ──    -1/35  -8/\n",
              "⎣                                    ⎣ 35                ⎦  ⎣ 35              \n",
              "\n",
              "  ⎤⎤\n",
              "  ⎥⎥\n",
              "  ⎥⎥\n",
              "  ⎥⎥\n",
              "  ⎥⎥\n",
              "35⎥⎥\n",
              "  ⎥⎥\n",
              "  ⎥⎥\n",
              "  ⎥⎥\n",
              "35⎥⎥\n",
              "  ⎦⎦"
            ],
            "text/latex": "$\\displaystyle \\left[ \\left[\\begin{matrix}3 & -1 & 5\\\\-1 & 3 & -2\\\\5 & -2 & 4\\end{matrix}\\right], \\  \\left[\\begin{matrix}8 & -6 & -13\\\\-6 & -13 & 1\\\\-13 & 1 & 8\\end{matrix}\\right], \\  -35, \\  \\left[\\begin{matrix}- \\frac{8}{35} & \\frac{6}{35} & \\frac{13}{35}\\\\\\frac{6}{35} & \\frac{13}{35} & - \\frac{1}{35}\\\\\\frac{13}{35} & - \\frac{1}{35} & - \\frac{8}{35}\\end{matrix}\\right], \\  \\left[\\begin{matrix}- \\frac{8}{35} & \\frac{6}{35} & \\frac{13}{35}\\\\\\frac{6}{35} & \\frac{13}{35} & - \\frac{1}{35}\\\\\\frac{13}{35} & - \\frac{1}{35} & - \\frac{8}{35}\\end{matrix}\\right]\\right]$"
          },
          "metadata": {}
        }
      ]
    }
  ],
  "metadata": {
    "kernelspec": {
      "display_name": "Python 3",
      "language": "python",
      "name": "python3"
    },
    "language_info": {
      "codemirror_mode": {
        "name": "ipython",
        "version": 3
      },
      "file_extension": ".py",
      "mimetype": "text/x-python",
      "name": "python",
      "nbconvert_exporter": "python",
      "pygments_lexer": "ipython3",
      "version": "3.6.13"
    },
    "colab": {
      "provenance": []
    }
  },
  "nbformat": 4,
  "nbformat_minor": 5
}
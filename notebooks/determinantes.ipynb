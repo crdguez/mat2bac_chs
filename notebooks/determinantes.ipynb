{
 "cells": [
  {
   "cell_type": "code",
   "execution_count": 1,
   "id": "2b05842f",
   "metadata": {
    "colab": {
     "base_uri": "https://localhost:8080/"
    },
    "id": "2b05842f",
    "outputId": "9e81e124-a32d-4165-e7ad-5ac55296e99a"
   },
   "outputs": [
    {
     "name": "stdout",
     "output_type": "stream",
     "text": [
      "IPython console for SymPy 1.10.1 (Python 3.9.13-64-bit) (ground types: gmpy)\n",
      "\n",
      "These commands were executed:\n",
      ">>> from sympy import *\n",
      ">>> x, y, z, t = symbols('x y z t')\n",
      ">>> k, m, n = symbols('k m n', integer=True)\n",
      ">>> f, g, h = symbols('f g h', cls=Function)\n",
      ">>> init_printing()\n",
      "\n",
      "Documentation can be found at https://docs.sympy.org/1.10.1/\n",
      "\n"
     ]
    }
   ],
   "source": [
    "from sympy import *\n",
    "init_session()"
   ]
  },
  {
   "cell_type": "code",
   "execution_count": 2,
   "id": "cdfde50e",
   "metadata": {
    "colab": {
     "base_uri": "https://localhost:8080/",
     "height": 200
    },
    "id": "cdfde50e",
    "outputId": "50f01280-d092-4d5e-db52-9cd75e0d8423"
   },
   "outputs": [
    {
     "data": {
      "text/latex": [
       "$\\displaystyle \\left[ \\left[\\begin{matrix}-5 & -2 & -1\\\\7 & 9 & -4\\\\2 & 7 & -5\\end{matrix}\\right], \\  0\\right]$"
      ],
      "text/plain": [
       "⎡⎡-5  -2  -1⎤   ⎤\n",
       "⎢⎢          ⎥   ⎥\n",
       "⎢⎢7   9   -4⎥, 0⎥\n",
       "⎢⎢          ⎥   ⎥\n",
       "⎣⎣2   7   -5⎦   ⎦"
      ]
     },
     "metadata": {},
     "output_type": "display_data"
    },
    {
     "data": {
      "text/latex": [
       "$\\displaystyle \\left[ \\left[\\begin{matrix}1 & 0 & -2\\\\2 & 5 & 4\\\\-1 & 3 & -3\\end{matrix}\\right], \\  -49\\right]$"
      ],
      "text/plain": [
       "⎡⎡1   0  -2⎤     ⎤\n",
       "⎢⎢         ⎥     ⎥\n",
       "⎢⎢2   5  4 ⎥, -49⎥\n",
       "⎢⎢         ⎥     ⎥\n",
       "⎣⎣-1  3  -3⎦     ⎦"
      ]
     },
     "metadata": {},
     "output_type": "display_data"
    },
    {
     "data": {
      "text/latex": [
       "$\\displaystyle \\left[ \\left[\\begin{matrix}0 & -4 & 2\\\\1 & 2 & -1\\\\-2 & 3 & 6\\end{matrix}\\right], \\  30\\right]$"
      ],
      "text/plain": [
       "⎡⎡0   -4  2 ⎤    ⎤\n",
       "⎢⎢          ⎥    ⎥\n",
       "⎢⎢1   2   -1⎥, 30⎥\n",
       "⎢⎢          ⎥    ⎥\n",
       "⎣⎣-2  3   6 ⎦    ⎦"
      ]
     },
     "metadata": {},
     "output_type": "display_data"
    }
   ],
   "source": [
    "# p9.e1\n",
    "\n",
    "datos=[Matrix([[-5,-2,-1],[7,9,-4],[2,7,-5]]),Matrix([[1,0,-2],[2,5,4],[-1,3,-3]]), Matrix([[0,-4,2],[1,2,-1],[-2,3,6]])]\n",
    "\n",
    "for A in datos:\n",
    "        display([A,A.det()])\n",
    "\n"
   ]
  },
  {
   "cell_type": "code",
   "execution_count": 3,
   "id": "681e6c11",
   "metadata": {
    "colab": {
     "base_uri": "https://localhost:8080/",
     "height": 98
    },
    "id": "681e6c11",
    "outputId": "929ccd68-e8e7-4f19-c3e6-19698b2792b4"
   },
   "outputs": [
    {
     "data": {
      "text/latex": [
       "$\\displaystyle \\left( \\left[\\begin{matrix}2 & -1 & 3 & -1\\\\3 & 0 & 5 & 0\\\\-1 & 2 & -2 & 3\\\\4 & 1 & 4 & 2\\end{matrix}\\right], \\  \\left[\\begin{matrix}0 & 5 & 0\\\\2 & -2 & 3\\\\1 & 4 & 2\\end{matrix}\\right], \\  -5, \\  -5, \\  \\left[\\begin{matrix}2 & -1 & -1\\\\-1 & 2 & 3\\\\4 & 1 & 2\\end{matrix}\\right], \\  -3, \\  3, \\  \\left[\\begin{matrix}-1 & 3 & -1\\\\0 & 5 & 0\\\\1 & 4 & 2\\end{matrix}\\right], \\  -5, \\  -5, \\  \\left[\\begin{matrix}-1 & 3 & -1\\\\0 & 5 & 0\\\\1 & 4 & 2\\end{matrix}\\right], \\  3, \\  -3, \\  \\left[\\begin{matrix}-5 & -22 & 3 & 15\\\\-3 & 6 & 3 & -3\\\\-5 & -10 & 3 & 9\\\\5 & 4 & -3 & -3\\end{matrix}\\right]\\right)$"
      ],
      "text/plain": [
       "⎛⎡2   -1  3   -1⎤                                                             \n",
       "⎜⎢              ⎥  ⎡0  5   0⎤          ⎡2   -1  -1⎤         ⎡-1  3  -1⎤       \n",
       "⎜⎢3   0   5   0 ⎥  ⎢        ⎥          ⎢          ⎥         ⎢         ⎥       \n",
       "⎜⎢              ⎥, ⎢2  -2  3⎥, -5, -5, ⎢-1  2   3 ⎥, -3, 3, ⎢0   5  0 ⎥, -5, -\n",
       "⎜⎢-1  2   -2  3 ⎥  ⎢        ⎥          ⎢          ⎥         ⎢         ⎥       \n",
       "⎜⎢              ⎥  ⎣1  4   2⎦          ⎣4   1   2 ⎦         ⎣1   4  2 ⎦       \n",
       "⎝⎣4   1   4   2 ⎦                                                             \n",
       "\n",
       "                       ⎡-5  -22  3   15⎤⎞\n",
       "   ⎡-1  3  -1⎤         ⎢               ⎥⎟\n",
       "   ⎢         ⎥         ⎢-3   6   3   -3⎥⎟\n",
       "5, ⎢0   5  0 ⎥, 3, -3, ⎢               ⎥⎟\n",
       "   ⎢         ⎥         ⎢-5  -10  3   9 ⎥⎟\n",
       "   ⎣1   4  2 ⎦         ⎢               ⎥⎟\n",
       "                       ⎣5    4   -3  -3⎦⎠"
      ]
     },
     "execution_count": 3,
     "metadata": {},
     "output_type": "execute_result"
    }
   ],
   "source": [
    "# P9.e2\n",
    "\n",
    "A = Matrix([[2,-1,3,-1],[3,0,5,0],[-1,2,-2,3],[4,1,4,2]])\n",
    "A, A.minor_submatrix(0,0),A.minor(0,0), A.cofactor(0,0), A.minor_submatrix(1,2), A.minor(1,2), A.cofactor(1,2), A.minor_submatrix(2,0),A.minor(2,0), A.cofactor(2,0), A.minor_submatrix(2,0),A.minor(3,2), A.cofactor(3,2), A.cofactor_matrix()"
   ]
  },
  {
   "cell_type": "code",
   "execution_count": 4,
   "id": "0183d370",
   "metadata": {
    "colab": {
     "base_uri": "https://localhost:8080/",
     "height": 261
    },
    "id": "0183d370",
    "outputId": "aaa578df-fffb-45f5-8bf9-fcfc0c974776"
   },
   "outputs": [
    {
     "data": {
      "text/latex": [
       "$\\displaystyle \\left[ \\left[\\begin{matrix}-2 & 0 & 1 & 2\\\\1 & 2 & 1 & 1\\\\3 & 1 & 2 & 0\\\\-5 & -1 & 3 & 4\\end{matrix}\\right], \\  \\left[\\begin{matrix}17 & -15 & -18 & 31\\\\-6 & 10 & 4 & -8\\\\5 & -5 & 0 & 5\\\\-7 & 5 & 8 & -11\\end{matrix}\\right], \\  \\left[\\begin{matrix}10 & 0 & 0 & 0\\\\0 & 10 & 0 & 0\\\\0 & 0 & 10 & 0\\\\0 & 0 & 0 & 10\\end{matrix}\\right], \\  10\\right]$"
      ],
      "text/plain": [
       "⎡⎡-2  0   1  2⎤  ⎡17  -15  -18  31 ⎤  ⎡10  0   0   0 ⎤    ⎤\n",
       "⎢⎢            ⎥  ⎢                 ⎥  ⎢              ⎥    ⎥\n",
       "⎢⎢1   2   1  1⎥  ⎢-6  10    4   -8 ⎥  ⎢0   10  0   0 ⎥    ⎥\n",
       "⎢⎢            ⎥, ⎢                 ⎥, ⎢              ⎥, 10⎥\n",
       "⎢⎢3   1   2  0⎥  ⎢5   -5    0    5 ⎥  ⎢0   0   10  0 ⎥    ⎥\n",
       "⎢⎢            ⎥  ⎢                 ⎥  ⎢              ⎥    ⎥\n",
       "⎣⎣-5  -1  3  4⎦  ⎣-7   5    8   -11⎦  ⎣0   0   0   10⎦    ⎦"
      ]
     },
     "metadata": {},
     "output_type": "display_data"
    },
    {
     "data": {
      "text/latex": [
       "$\\displaystyle \\left[ \\left[\\begin{matrix}1 & 2 & 1 & 0\\\\-1 & 3 & -2 & 3\\\\1 & 1 & 4 & 2\\\\5 & -1 & -1 & 2\\end{matrix}\\right], \\  \\left[\\begin{matrix}47 & 89 & 2 & -72\\\\-16 & 18 & -20 & 39\\\\-11 & -16 & 43 & 41\\\\35 & -11 & -13 & 14\\end{matrix}\\right], \\  \\left[\\begin{matrix}227 & 0 & 0 & 0\\\\0 & 227 & 0 & 0\\\\0 & 0 & 227 & 0\\\\0 & 0 & 0 & 227\\end{matrix}\\right], \\  227\\right]$"
      ],
      "text/plain": [
       "⎡⎡1   2   1   0⎤  ⎡47   89    2   -72⎤  ⎡227   0    0    0 ⎤     ⎤\n",
       "⎢⎢             ⎥  ⎢                  ⎥  ⎢                  ⎥     ⎥\n",
       "⎢⎢-1  3   -2  3⎥  ⎢-16  18   -20  39 ⎥  ⎢ 0   227   0    0 ⎥     ⎥\n",
       "⎢⎢             ⎥, ⎢                  ⎥, ⎢                  ⎥, 227⎥\n",
       "⎢⎢1   1   4   2⎥  ⎢-11  -16  43   41 ⎥  ⎢ 0    0   227   0 ⎥     ⎥\n",
       "⎢⎢             ⎥  ⎢                  ⎥  ⎢                  ⎥     ⎥\n",
       "⎣⎣5   -1  -1  2⎦  ⎣35   -11  -13  14 ⎦  ⎣ 0    0    0   227⎦     ⎦"
      ]
     },
     "metadata": {},
     "output_type": "display_data"
    },
    {
     "data": {
      "text/latex": [
       "$\\displaystyle \\left[ \\left[\\begin{matrix}5 & 2 & -2 & 3\\\\0 & 0 & 4 & 6\\\\0 & 2 & 1 & 3\\\\-7 & -4 & 0 & -1\\end{matrix}\\right], \\  \\left[\\begin{matrix}-16 & 42 & 84 & -56\\\\-30 & 58 & -50 & -22\\\\88 & -148 & 36 & -24\\\\36 & 30 & 60 & -40\\end{matrix}\\right], \\  \\left[\\begin{matrix}-332 & 0 & 0 & 0\\\\0 & -332 & 0 & 0\\\\0 & 0 & -332 & 0\\\\0 & 0 & 0 & -332\\end{matrix}\\right], \\  -332\\right]$"
      ],
      "text/plain": [
       "⎡⎡5   2   -2  3 ⎤  ⎡-16   42   84   -56⎤  ⎡-332   0     0     0  ⎤      ⎤\n",
       "⎢⎢              ⎥  ⎢                   ⎥  ⎢                      ⎥      ⎥\n",
       "⎢⎢0   0   4   6 ⎥  ⎢-30   58   -50  -22⎥  ⎢ 0    -332   0     0  ⎥      ⎥\n",
       "⎢⎢              ⎥, ⎢                   ⎥, ⎢                      ⎥, -332⎥\n",
       "⎢⎢0   2   1   3 ⎥  ⎢88   -148  36   -24⎥  ⎢ 0     0    -332   0  ⎥      ⎥\n",
       "⎢⎢              ⎥  ⎢                   ⎥  ⎢                      ⎥      ⎥\n",
       "⎣⎣-7  -4  0   -1⎦  ⎣36    30   60   -40⎦  ⎣ 0     0     0    -332⎦      ⎦"
      ]
     },
     "metadata": {},
     "output_type": "display_data"
    }
   ],
   "source": [
    "# p9.e3\n",
    "\n",
    "datos = [Matrix(4,4,[-2,0,1,2,1,2,1,1,3,1,2,0,-5,-1,3,4]),\n",
    "         Matrix(4,4,[1,2,1,0,-1,3,-2,3,1,1,4,2,5,-1,-1,2]),\n",
    "         Matrix(4,4,[5,2,-2,3,0,0,4,6,0,2,1,3,-7,-4,0,-1])\n",
    "        ]\n",
    "\n",
    "for A in datos:\n",
    "    display([A, A.cofactor_matrix(),A*A.cofactor_matrix().T,A.det()])"
   ]
  },
  {
   "cell_type": "code",
   "execution_count": 5,
   "id": "125d39ce",
   "metadata": {
    "colab": {
     "base_uri": "https://localhost:8080/",
     "height": 261
    },
    "id": "125d39ce",
    "outputId": "72c9fbe1-500a-407d-98a3-c194c0526cbc"
   },
   "outputs": [
    {
     "data": {
      "text/latex": [
       "$\\displaystyle \\left[ \\left[\\begin{matrix}2 & -2 & 0 & 1\\\\4 & 1 & -2 & 1\\\\6 & 2 & 0 & 4\\\\3 & 4 & 3 & -2\\end{matrix}\\right], \\  \\left[\\begin{matrix}-46 & 78 & -38 & 30\\\\-30 & -6 & 70 & 48\\\\9 & -20 & -21 & -58\\\\-20 & -4 & -26 & 32\\end{matrix}\\right], \\  \\left[\\begin{matrix}-218 & 0 & 0 & 0\\\\0 & -218 & 0 & 0\\\\0 & 0 & -218 & 0\\\\0 & 0 & 0 & -218\\end{matrix}\\right], \\  -218\\right]$"
      ],
      "text/plain": [
       "⎡⎡2  -2  0   1 ⎤  ⎡-46  78   -38  30 ⎤  ⎡-218   0     0     0  ⎤      ⎤\n",
       "⎢⎢             ⎥  ⎢                  ⎥  ⎢                      ⎥      ⎥\n",
       "⎢⎢4  1   -2  1 ⎥  ⎢-30  -6   70   48 ⎥  ⎢ 0    -218   0     0  ⎥      ⎥\n",
       "⎢⎢             ⎥, ⎢                  ⎥, ⎢                      ⎥, -218⎥\n",
       "⎢⎢6  2   0   4 ⎥  ⎢ 9   -20  -21  -58⎥  ⎢ 0     0    -218   0  ⎥      ⎥\n",
       "⎢⎢             ⎥  ⎢                  ⎥  ⎢                      ⎥      ⎥\n",
       "⎣⎣3  4   3   -2⎦  ⎣-20  -4   -26  32 ⎦  ⎣ 0     0     0    -218⎦      ⎦"
      ]
     },
     "metadata": {},
     "output_type": "display_data"
    },
    {
     "data": {
      "text/latex": [
       "$\\displaystyle \\left[ \\left[\\begin{matrix}1 & 2 & -1 & 3\\\\0 & 1 & 2 & 3\\\\1 & -1 & 0 & 2\\\\2 & 0 & 5 & -2\\end{matrix}\\right], \\  \\left[\\begin{matrix}-29 & -27 & 12 & 1\\\\33 & -1 & -20 & -17\\\\-25 & 37 & 4 & -15\\\\-19 & -5 & -8 & 7\\end{matrix}\\right], \\  \\left[\\begin{matrix}-92 & 0 & 0 & 0\\\\0 & -92 & 0 & 0\\\\0 & 0 & -92 & 0\\\\0 & 0 & 0 & -92\\end{matrix}\\right], \\  -92\\right]$"
      ],
      "text/plain": [
       "⎡⎡1  2   -1  3 ⎤  ⎡-29  -27  12    1 ⎤  ⎡-92   0    0    0 ⎤     ⎤\n",
       "⎢⎢             ⎥  ⎢                  ⎥  ⎢                  ⎥     ⎥\n",
       "⎢⎢0  1   2   3 ⎥  ⎢33   -1   -20  -17⎥  ⎢ 0   -92   0    0 ⎥     ⎥\n",
       "⎢⎢             ⎥, ⎢                  ⎥, ⎢                  ⎥, -92⎥\n",
       "⎢⎢1  -1  0   2 ⎥  ⎢-25  37    4   -15⎥  ⎢ 0    0   -92   0 ⎥     ⎥\n",
       "⎢⎢             ⎥  ⎢                  ⎥  ⎢                  ⎥     ⎥\n",
       "⎣⎣2  0   5   -2⎦  ⎣-19  -5   -8    7 ⎦  ⎣ 0    0    0   -92⎦     ⎦"
      ]
     },
     "metadata": {},
     "output_type": "display_data"
    },
    {
     "data": {
      "text/latex": [
       "$\\displaystyle \\left[ \\left[\\begin{matrix}2 & 3 & -1 & 4\\\\5 & 6 & 2 & 3\\\\-4 & 2 & 5 & 2\\\\2 & 4 & -2 & 3\\end{matrix}\\right], \\  \\left[\\begin{matrix}46 & -121 & 26 & 148\\\\41 & 14 & 36 & -22\\\\-38 & 23 & 17 & 6\\\\-77 & 132 & -82 & -81\\end{matrix}\\right], \\  \\left[\\begin{matrix}295 & 0 & 0 & 0\\\\0 & 295 & 0 & 0\\\\0 & 0 & 295 & 0\\\\0 & 0 & 0 & 295\\end{matrix}\\right], \\  295\\right]$"
      ],
      "text/plain": [
       "⎡⎡2   3  -1  4⎤  ⎡46   -121  26   148⎤  ⎡295   0    0    0 ⎤     ⎤\n",
       "⎢⎢            ⎥  ⎢                   ⎥  ⎢                  ⎥     ⎥\n",
       "⎢⎢5   6  2   3⎥  ⎢41    14   36   -22⎥  ⎢ 0   295   0    0 ⎥     ⎥\n",
       "⎢⎢            ⎥, ⎢                   ⎥, ⎢                  ⎥, 295⎥\n",
       "⎢⎢-4  2  5   2⎥  ⎢-38   23   17    6 ⎥  ⎢ 0    0   295   0 ⎥     ⎥\n",
       "⎢⎢            ⎥  ⎢                   ⎥  ⎢                  ⎥     ⎥\n",
       "⎣⎣2   4  -2  3⎦  ⎣-77  132   -82  -81⎦  ⎣ 0    0    0   295⎦     ⎦"
      ]
     },
     "metadata": {},
     "output_type": "display_data"
    }
   ],
   "source": [
    "# p9.e6\n",
    "\n",
    "datos=[Matrix([[2,-2,0,1],[4,1,-2,1],[6,2,0,4],[3,4,3,-2]]),\n",
    " Matrix([[1,2,-1,3],[0,1,2,3],[1,-1,0,2],[2,0,5,-2]]),\n",
    " Matrix([[2,3,-1,4],[5,6,2,3],[-4,2,5,2],[2,4,-2,3]])]\n",
    "\n",
    "for A in datos:\n",
    "    display([A, A.cofactor_matrix(),A*A.cofactor_matrix().T,A.det()])"
   ]
  },
  {
   "cell_type": "code",
   "execution_count": 6,
   "id": "Cs3c8xsqhf4o",
   "metadata": {
    "colab": {
     "base_uri": "https://localhost:8080/",
     "height": 139
    },
    "id": "Cs3c8xsqhf4o",
    "outputId": "fd55017a-b467-4258-ef03-54f285599d15"
   },
   "outputs": [
    {
     "data": {
      "text/latex": [
       "$\\displaystyle \\left[ \\left[\\begin{matrix}1 & 0 & 1\\\\2 & 1 & 1\\\\-1 & 2 & 2\\end{matrix}\\right], \\  5, \\  \\left[\\begin{matrix}0 & \\frac{2}{5} & - \\frac{1}{5}\\\\-1 & \\frac{3}{5} & \\frac{1}{5}\\\\1 & - \\frac{2}{5} & \\frac{1}{5}\\end{matrix}\\right], \\  \\left[\\begin{matrix}0 & \\frac{2}{5} & - \\frac{1}{5}\\\\-1 & \\frac{3}{5} & \\frac{1}{5}\\\\1 & - \\frac{2}{5} & \\frac{1}{5}\\end{matrix}\\right]\\right]$"
      ],
      "text/plain": [
       "⎡⎡1   0  1⎤     ⎡0   2/5   -1/5⎤  ⎡0   2/5   -1/5⎤⎤\n",
       "⎢⎢        ⎥     ⎢              ⎥  ⎢              ⎥⎥\n",
       "⎢⎢2   1  1⎥, 5, ⎢-1  3/5   1/5 ⎥, ⎢-1  3/5   1/5 ⎥⎥\n",
       "⎢⎢        ⎥     ⎢              ⎥  ⎢              ⎥⎥\n",
       "⎣⎣-1  2  2⎦     ⎣1   -2/5  1/5 ⎦  ⎣1   -2/5  1/5 ⎦⎦"
      ]
     },
     "metadata": {},
     "output_type": "display_data"
    },
    {
     "data": {
      "text/latex": [
       "$\\displaystyle \\left[ \\left[\\begin{matrix}3 & -1 & 5\\\\-1 & 3 & -2\\\\5 & -2 & 4\\end{matrix}\\right], \\  -35, \\  \\left[\\begin{matrix}- \\frac{8}{35} & \\frac{6}{35} & \\frac{13}{35}\\\\\\frac{6}{35} & \\frac{13}{35} & - \\frac{1}{35}\\\\\\frac{13}{35} & - \\frac{1}{35} & - \\frac{8}{35}\\end{matrix}\\right], \\  \\left[\\begin{matrix}- \\frac{8}{35} & \\frac{6}{35} & \\frac{13}{35}\\\\\\frac{6}{35} & \\frac{13}{35} & - \\frac{1}{35}\\\\\\frac{13}{35} & - \\frac{1}{35} & - \\frac{8}{35}\\end{matrix}\\right]\\right]$"
      ],
      "text/plain": [
       "⎡                   ⎡               13  ⎤  ⎡               13  ⎤⎤\n",
       "⎢                   ⎢-8/35  6/35    ──  ⎥  ⎢-8/35  6/35    ──  ⎥⎥\n",
       "⎢                   ⎢               35  ⎥  ⎢               35  ⎥⎥\n",
       "⎢⎡3   -1  5 ⎤       ⎢                   ⎥  ⎢                   ⎥⎥\n",
       "⎢⎢          ⎥       ⎢        13         ⎥  ⎢        13         ⎥⎥\n",
       "⎢⎢-1  3   -2⎥, -35, ⎢6/35    ──    -1/35⎥, ⎢6/35    ──    -1/35⎥⎥\n",
       "⎢⎢          ⎥       ⎢        35         ⎥  ⎢        35         ⎥⎥\n",
       "⎢⎣5   -2  4 ⎦       ⎢                   ⎥  ⎢                   ⎥⎥\n",
       "⎢                   ⎢ 13                ⎥  ⎢ 13                ⎥⎥\n",
       "⎢                   ⎢ ──    -1/35  -8/35⎥  ⎢ ──    -1/35  -8/35⎥⎥\n",
       "⎣                   ⎣ 35                ⎦  ⎣ 35                ⎦⎦"
      ]
     },
     "metadata": {},
     "output_type": "display_data"
    }
   ],
   "source": [
    "# p9.e7\n",
    "\n",
    "datos=[Matrix([[1,0,1],[2,1,1],[-1,2,2]]),\n",
    " Matrix([[3,-1,5],[-1,3,-2],[5,-2,4]]),\n",
    " ]\n",
    "\n",
    "for A in datos:\n",
    "    display([A, A.det(),A.T.cofactor_matrix()/A.det(), A.inv()])"
   ]
  },
  {
   "cell_type": "code",
   "execution_count": 7,
   "id": "37be17c7",
   "metadata": {
    "colab": {
     "base_uri": "https://localhost:8080/",
     "height": 830
    },
    "id": "37be17c7",
    "outputId": "6f592126-f979-448e-c9ea-7e7817eac4ef"
   },
   "outputs": [
    {
     "data": {
      "text/latex": [
       "$\\displaystyle \\left[ \\left[\\begin{matrix}1 & 0\\\\-3 & 2\\end{matrix}\\right], \\  2\\right]$"
      ],
      "text/plain": [
       "⎡⎡1   0⎤   ⎤\n",
       "⎢⎢     ⎥, 2⎥\n",
       "⎣⎣-3  2⎦   ⎦"
      ]
     },
     "metadata": {},
     "output_type": "display_data"
    },
    {
     "data": {
      "text/latex": [
       "$\\displaystyle \\left[ \\left[\\begin{matrix}-4 & 2\\\\1 & -2\\end{matrix}\\right], \\  6\\right]$"
      ],
      "text/plain": [
       "⎡⎡-4  2 ⎤   ⎤\n",
       "⎢⎢      ⎥, 6⎥\n",
       "⎣⎣1   -2⎦   ⎦"
      ]
     },
     "metadata": {},
     "output_type": "display_data"
    },
    {
     "data": {
      "text/latex": [
       "$\\displaystyle \\left[ \\left[\\begin{matrix}-4 & 3\\\\2 & 1\\end{matrix}\\right], \\  -10\\right]$"
      ],
      "text/plain": [
       "⎡⎡-4  3⎤     ⎤\n",
       "⎢⎢     ⎥, -10⎥\n",
       "⎣⎣2   1⎦     ⎦"
      ]
     },
     "metadata": {},
     "output_type": "display_data"
    },
    {
     "data": {
      "text/latex": [
       "$\\displaystyle \\left[ \\left[\\begin{matrix}3 & 2 & 1\\\\5 & -2 & -3\\\\-2 & 4 & 4\\end{matrix}\\right], \\  0\\right]$"
      ],
      "text/plain": [
       "⎡⎡3   2   1 ⎤   ⎤\n",
       "⎢⎢          ⎥   ⎥\n",
       "⎢⎢5   -2  -3⎥, 0⎥\n",
       "⎢⎢          ⎥   ⎥\n",
       "⎣⎣-2  4   4 ⎦   ⎦"
      ]
     },
     "metadata": {},
     "output_type": "display_data"
    },
    {
     "data": {
      "text/latex": [
       "$\\displaystyle \\left[ \\left[\\begin{matrix}-1 & 2 & 0\\\\0 & 1 & -2\\\\3 & 5 & 3\\end{matrix}\\right], \\  -25\\right]$"
      ],
      "text/plain": [
       "⎡⎡-1  2  0 ⎤     ⎤\n",
       "⎢⎢         ⎥     ⎥\n",
       "⎢⎢0   1  -2⎥, -25⎥\n",
       "⎢⎢         ⎥     ⎥\n",
       "⎣⎣3   5  3 ⎦     ⎦"
      ]
     },
     "metadata": {},
     "output_type": "display_data"
    },
    {
     "data": {
      "text/latex": [
       "$\\displaystyle \\left[ \\left[\\begin{matrix}4 & 1 & 2\\\\3 & 0 & 1\\\\2 & -1 & 4\\end{matrix}\\right], \\  -12\\right]$"
      ],
      "text/plain": [
       "⎡⎡4  1   2⎤     ⎤\n",
       "⎢⎢        ⎥     ⎥\n",
       "⎢⎢3  0   1⎥, -12⎥\n",
       "⎢⎢        ⎥     ⎥\n",
       "⎣⎣2  -1  4⎦     ⎦"
      ]
     },
     "metadata": {},
     "output_type": "display_data"
    },
    {
     "data": {
      "text/latex": [
       "$\\displaystyle \\left[ \\left[\\begin{matrix}1 & 2 & 0\\\\-1 & -3 & -2\\\\0 & 4 & 1\\end{matrix}\\right], \\  7\\right]$"
      ],
      "text/plain": [
       "⎡⎡1   2   0 ⎤   ⎤\n",
       "⎢⎢          ⎥   ⎥\n",
       "⎢⎢-1  -3  -2⎥, 7⎥\n",
       "⎢⎢          ⎥   ⎥\n",
       "⎣⎣0   4   1 ⎦   ⎦"
      ]
     },
     "metadata": {},
     "output_type": "display_data"
    },
    {
     "data": {
      "text/latex": [
       "$\\displaystyle \\left[ \\left[\\begin{matrix}4 & 1 & 3\\\\2 & 1 & 0\\\\0 & 2 & -1\\end{matrix}\\right], \\  10\\right]$"
      ],
      "text/plain": [
       "⎡⎡4  1  3 ⎤    ⎤\n",
       "⎢⎢        ⎥    ⎥\n",
       "⎢⎢2  1  0 ⎥, 10⎥\n",
       "⎢⎢        ⎥    ⎥\n",
       "⎣⎣0  2  -1⎦    ⎦"
      ]
     },
     "metadata": {},
     "output_type": "display_data"
    },
    {
     "data": {
      "text/latex": [
       "$\\displaystyle \\left[ \\left[\\begin{matrix}3 & 0 & 5\\\\-2 & 2 & 4\\\\1 & 1 & 1\\end{matrix}\\right], \\  -26\\right]$"
      ],
      "text/plain": [
       "⎡⎡3   0  5⎤     ⎤\n",
       "⎢⎢        ⎥     ⎥\n",
       "⎢⎢-2  2  4⎥, -26⎥\n",
       "⎢⎢        ⎥     ⎥\n",
       "⎣⎣1   1  1⎦     ⎦"
      ]
     },
     "metadata": {},
     "output_type": "display_data"
    },
    {
     "data": {
      "text/latex": [
       "$\\displaystyle \\left[ \\left[\\begin{matrix}1 & 1 & 1 & 1\\\\2 & 2 & -1 & 1\\\\3 & 2 & -2 & 1\\\\1 & -1 & 4 & -1\\end{matrix}\\right], \\  7\\right]$"
      ],
      "text/plain": [
       "⎡⎡1  1   1   1 ⎤   ⎤\n",
       "⎢⎢             ⎥   ⎥\n",
       "⎢⎢2  2   -1  1 ⎥   ⎥\n",
       "⎢⎢             ⎥, 7⎥\n",
       "⎢⎢3  2   -2  1 ⎥   ⎥\n",
       "⎢⎢             ⎥   ⎥\n",
       "⎣⎣1  -1  4   -1⎦   ⎦"
      ]
     },
     "metadata": {},
     "output_type": "display_data"
    },
    {
     "data": {
      "text/latex": [
       "$\\displaystyle \\left[ \\left[\\begin{matrix}1 & 1 & 0 & 0\\\\1 & 0 & 0 & 1\\\\0 & 1 & 1 & 0\\\\0 & 1 & 0 & 1\\end{matrix}\\right], \\  -2\\right]$"
      ],
      "text/plain": [
       "⎡⎡1  1  0  0⎤    ⎤\n",
       "⎢⎢          ⎥    ⎥\n",
       "⎢⎢1  0  0  1⎥    ⎥\n",
       "⎢⎢          ⎥, -2⎥\n",
       "⎢⎢0  1  1  0⎥    ⎥\n",
       "⎢⎢          ⎥    ⎥\n",
       "⎣⎣0  1  0  1⎦    ⎦"
      ]
     },
     "metadata": {},
     "output_type": "display_data"
    },
    {
     "data": {
      "text/latex": [
       "$\\displaystyle \\left[ \\left[\\begin{matrix}5 & 3 & 2 & 0\\\\-3 & 2 & -1 & -3\\\\1 & -1 & -1 & 3\\\\1 & 2 & 2 & 4\\end{matrix}\\right], \\  -178\\right]$"
      ],
      "text/plain": [
       "⎡⎡5   3   2   0 ⎤      ⎤\n",
       "⎢⎢              ⎥      ⎥\n",
       "⎢⎢-3  2   -1  -3⎥      ⎥\n",
       "⎢⎢              ⎥, -178⎥\n",
       "⎢⎢1   -1  -1  3 ⎥      ⎥\n",
       "⎢⎢              ⎥      ⎥\n",
       "⎣⎣1   2   2   4 ⎦      ⎦"
      ]
     },
     "metadata": {},
     "output_type": "display_data"
    },
    {
     "data": {
      "text/latex": [
       "$\\displaystyle \\left[ \\left[\\begin{matrix}1 & 2 & 4 & 2\\\\3 & 3 & 12 & 3\\\\1 & -4 & 4 & -4\\\\-2 & -7 & -8 & -7\\end{matrix}\\right], \\  0\\right]$"
      ],
      "text/plain": [
       "⎡⎡1   2   4   2 ⎤   ⎤\n",
       "⎢⎢              ⎥   ⎥\n",
       "⎢⎢3   3   12  3 ⎥   ⎥\n",
       "⎢⎢              ⎥, 0⎥\n",
       "⎢⎢1   -4  4   -4⎥   ⎥\n",
       "⎢⎢              ⎥   ⎥\n",
       "⎣⎣-2  -7  -8  -7⎦   ⎦"
      ]
     },
     "metadata": {},
     "output_type": "display_data"
    }
   ],
   "source": [
    "# p10.e1\n",
    "\n",
    "datos=[Matrix(2,2,[1,0,-3,2]),Matrix(2,2,[-4,2,1,-2]),Matrix(2,2,[-4,3,2,1]),\n",
    "    Matrix(3,3,[3,2,1,5,-2,-3,-2,4,4]),\n",
    "    Matrix(3,3,[-1,2,0,0,1,-2,3,5,3]),\n",
    "    Matrix(3,3,[4,1,2,3,0,1,2,-1,4]),\n",
    "    Matrix(3,3,[1,2,0,-1,-3,-2,0,4,1]),\n",
    "    Matrix(3,3,[4,1,3,2,1,0,0,2,-1]),\n",
    "    Matrix(3,3,[3,0,5,-2,2,4,1,1,1]),\n",
    "    Matrix(4,4,[1,1,1,1,2,2,-1,1,3,2,-2,1,1,-1,4,-1]),\n",
    "    Matrix(4,4,[1,1,0,0,1,0,0,1,0,1,1,0,0,1,0,1]),\n",
    "    Matrix(4,4,[5,3,2,0,-3,2,-1,-3,1,-1,-1,3,1,2,2,4]),\n",
    "    Matrix(4,4,[1,2,4,2,3,3,12,3,1,-4,4,-4,-2,-7,-8,-7])\n",
    " ]\n",
    "\n",
    "for A in datos:\n",
    "    display([A, A.det()])"
   ]
  },
  {
   "cell_type": "code",
   "execution_count": 8,
   "id": "9d1bcc82",
   "metadata": {
    "colab": {
     "base_uri": "https://localhost:8080/",
     "height": 200
    },
    "id": "9d1bcc82",
    "outputId": "d172df6f-3153-480b-8a20-e2506c66b85e"
   },
   "outputs": [
    {
     "data": {
      "text/latex": [
       "$\\displaystyle \\left[ \\left[\\begin{matrix}1 & 1 & 1\\\\1 & x & 1\\\\1 & 1 & x^{2}\\end{matrix}\\right], \\  x^{3} - x^{2} - x + 1, \\  \\left(x - 1\\right)^{2} \\left(x + 1\\right), \\  \\left[ -1, \\  1\\right]\\right]$"
      ],
      "text/plain": [
       "⎡⎡1  1  1 ⎤                                            ⎤\n",
       "⎢⎢        ⎥                                            ⎥\n",
       "⎢⎢1  x  1 ⎥   3    2                 2                 ⎥\n",
       "⎢⎢        ⎥, x  - x  - x + 1, (x - 1) ⋅(x + 1), [-1, 1]⎥\n",
       "⎢⎢       2⎥                                            ⎥\n",
       "⎣⎣1  1  x ⎦                                            ⎦"
      ]
     },
     "metadata": {},
     "output_type": "display_data"
    },
    {
     "data": {
      "text/latex": [
       "$\\displaystyle \\left[ \\left[\\begin{matrix}5 & 4 & 2\\\\6 & x & 1\\\\4 & x^{2} & 3\\end{matrix}\\right], \\  7 x^{2} + 7 x - 56, \\  7 \\left(x - 3\\right) \\left(x + 4\\right), \\  \\left[ -4, \\  3\\right]\\right]$"
      ],
      "text/plain": [
       "⎡⎡5  4   2⎤                                             ⎤\n",
       "⎢⎢        ⎥                                             ⎥\n",
       "⎢⎢6  x   1⎥     2                                       ⎥\n",
       "⎢⎢        ⎥, 7⋅x  + 7⋅x - 56, 7⋅(x - 3)⋅(x + 4), [-4, 3]⎥\n",
       "⎢⎢    2   ⎥                                             ⎥\n",
       "⎣⎣4  x   3⎦                                             ⎦"
      ]
     },
     "metadata": {},
     "output_type": "display_data"
    },
    {
     "data": {
      "text/latex": [
       "$\\displaystyle \\left[ \\left[\\begin{matrix}x & -1 & 2 x\\\\8 & x - 1 & 5\\\\-2 & 1 & 0\\end{matrix}\\right], \\  4 x^{2} + 7 x + 10, \\  \\left(x - 3\\right) \\left(4 x + 19\\right), \\  \\left[ - \\frac{19}{4}, \\  3\\right]\\right]$"
      ],
      "text/plain": [
       "⎡⎡x    -1    2⋅x⎤                                                 ⎤\n",
       "⎢⎢              ⎥     2                                           ⎥\n",
       "⎢⎢8   x - 1   5 ⎥, 4⋅x  + 7⋅x + 10, (x - 3)⋅(4⋅x + 19), [-19/4, 3]⎥\n",
       "⎢⎢              ⎥                                                 ⎥\n",
       "⎣⎣-2    1     0 ⎦                                                 ⎦"
      ]
     },
     "metadata": {},
     "output_type": "display_data"
    }
   ],
   "source": [
    "# p10.e4\n",
    "\n",
    "datos=[[Matrix([[1,1,1],[1,x,1],[1,1,x**2]]),0],\n",
    "       [Matrix(3,3,[5,4,2,6,x,1,4,x**2,3]),28],\n",
    "       [Matrix(3,3,[x,-1,2*x,8,x-1,5,-2,1,0]),67]\n",
    " ]\n",
    "\n",
    "for P in datos:\n",
    "    A, valor = P\n",
    "    \n",
    "    display([A, A.det(), factor(A.det()-valor), solve(A.det()-valor)])"
   ]
  },
  {
   "cell_type": "code",
   "execution_count": 9,
   "id": "b3zrDIGjTUSD",
   "metadata": {
    "colab": {
     "base_uri": "https://localhost:8080/",
     "height": 342
    },
    "id": "b3zrDIGjTUSD",
    "outputId": "efbd9384-47f1-4f71-fe05-a59d7215915a"
   },
   "outputs": [
    {
     "data": {
      "text/latex": [
       "$\\displaystyle \\left[ \\left[\\begin{matrix}3 & -1\\\\-2 & 0.666666666666667\\end{matrix}\\right], \\  1\\right]$"
      ],
      "text/plain": [
       "⎡⎡3          -1        ⎤   ⎤\n",
       "⎢⎢                     ⎥, 1⎥\n",
       "⎣⎣-2  0.666666666666667⎦   ⎦"
      ]
     },
     "metadata": {},
     "output_type": "display_data"
    },
    {
     "data": {
      "text/latex": [
       "$\\displaystyle \\left[ \\left[\\begin{matrix}0 & 3\\\\-2 & 1\\\\6 & 3\\end{matrix}\\right], \\  2\\right]$"
      ],
      "text/plain": [
       "⎡⎡0   3⎤   ⎤\n",
       "⎢⎢     ⎥   ⎥\n",
       "⎢⎢-2  1⎥, 2⎥\n",
       "⎢⎢     ⎥   ⎥\n",
       "⎣⎣6   3⎦   ⎦"
      ]
     },
     "metadata": {},
     "output_type": "display_data"
    },
    {
     "data": {
      "text/latex": [
       "$\\displaystyle \\left[ \\left[\\begin{matrix}-3 & -2 & -4\\\\-1 & 1 & 2\\\\3 & 2 & 4\\end{matrix}\\right], \\  2\\right]$"
      ],
      "text/plain": [
       "⎡⎡-3  -2  -4⎤   ⎤\n",
       "⎢⎢          ⎥   ⎥\n",
       "⎢⎢-1  1   2 ⎥, 2⎥\n",
       "⎢⎢          ⎥   ⎥\n",
       "⎣⎣3   2   4 ⎦   ⎦"
      ]
     },
     "metadata": {},
     "output_type": "display_data"
    },
    {
     "data": {
      "text/latex": [
       "$\\displaystyle \\left[ \\left[\\begin{matrix}5 & -2 & 9\\\\1 & 4 & 1\\\\3 & -10 & 7\\\\-2 & -8 & -2\\end{matrix}\\right], \\  2\\right]$"
      ],
      "text/plain": [
       "⎡⎡5   -2   9 ⎤   ⎤\n",
       "⎢⎢           ⎥   ⎥\n",
       "⎢⎢1    4   1 ⎥   ⎥\n",
       "⎢⎢           ⎥, 2⎥\n",
       "⎢⎢3   -10  7 ⎥   ⎥\n",
       "⎢⎢           ⎥   ⎥\n",
       "⎣⎣-2  -8   -2⎦   ⎦"
      ]
     },
     "metadata": {},
     "output_type": "display_data"
    },
    {
     "data": {
      "text/latex": [
       "$\\displaystyle \\left[ \\left[\\begin{matrix}3 & 1 & 2 & 6\\\\6 & 1 & 3 & 10\\\\1 & 1 & 4 & 6\\\\-2 & 1 & 5 & 3\\end{matrix}\\right], \\  4\\right]$"
      ],
      "text/plain": [
       "⎡⎡3   1  2  6 ⎤   ⎤\n",
       "⎢⎢            ⎥   ⎥\n",
       "⎢⎢6   1  3  10⎥   ⎥\n",
       "⎢⎢            ⎥, 4⎥\n",
       "⎢⎢1   1  4  6 ⎥   ⎥\n",
       "⎢⎢            ⎥   ⎥\n",
       "⎣⎣-2  1  5  3 ⎦   ⎦"
      ]
     },
     "metadata": {},
     "output_type": "display_data"
    }
   ],
   "source": [
    "# p10.e5\n",
    "\n",
    "datos=[Matrix(2,2,[3,-1,-2,2/3]),\n",
    "    Matrix(3,2,[0,3,-2,1,6,3]),\n",
    "    Matrix(3,3,[-3,-2,-4,-1,1,2,3,2,4]),\n",
    "    Matrix(4,3,[5,-2,9,1,4,1,3,-10,7,-2,-8,-2]),\n",
    "    Matrix(4,4,[3,1,2,6,6,1,3,10,1,1,4,6,-2,1,5,3]),\n",
    "\n",
    " ]\n",
    "\n",
    "for A in datos:\n",
    "    display([A, A.rank()])"
   ]
  },
  {
   "cell_type": "code",
   "execution_count": 11,
   "id": "Y4hzmy6qUgd-",
   "metadata": {
    "colab": {
     "base_uri": "https://localhost:8080/",
     "height": 281
    },
    "id": "Y4hzmy6qUgd-",
    "outputId": "624b7d06-45d9-4bc5-a363-c08abbb1500b"
   },
   "outputs": [
    {
     "data": {
      "text/latex": [
       "$\\displaystyle \\left[ \\left[\\begin{matrix}1 & 2 & m\\\\0 & 3 & 5\\\\2 & 4 & 4\\end{matrix}\\right], \\  - 6 \\left(m - 2\\right)\\right]$"
      ],
      "text/plain": [
       "⎡⎡1  2  m⎤            ⎤\n",
       "⎢⎢       ⎥            ⎥\n",
       "⎢⎢0  3  5⎥, -6⋅(m - 2)⎥\n",
       "⎢⎢       ⎥            ⎥\n",
       "⎣⎣2  4  4⎦            ⎦"
      ]
     },
     "metadata": {},
     "output_type": "display_data"
    },
    {
     "data": {
      "text/latex": [
       "$\\displaystyle \\left[ \\left[\\begin{matrix}1 & -1 & -1\\\\1 & -1 & 2\\\\2 & 1 & k\\end{matrix}\\right], \\  -9\\right]$"
      ],
      "text/plain": [
       "⎡⎡1  -1  -1⎤    ⎤\n",
       "⎢⎢         ⎥    ⎥\n",
       "⎢⎢1  -1  2 ⎥, -9⎥\n",
       "⎢⎢         ⎥    ⎥\n",
       "⎣⎣2  1   k ⎦    ⎦"
      ]
     },
     "metadata": {},
     "output_type": "display_data"
    },
    {
     "data": {
      "text/latex": [
       "$\\displaystyle \\left[ \\left[\\begin{matrix}m & 1 & 1 & 1\\\\1 & m & 1 & 1\\\\1 & 1 & m & 1\\\\1 & 1 & 1 & m\\end{matrix}\\right], \\  \\left(m - 1\\right)^{3} \\left(m + 3\\right)\\right]$"
      ],
      "text/plain": [
       "⎡⎡m  1  1  1⎤                  ⎤\n",
       "⎢⎢          ⎥                  ⎥\n",
       "⎢⎢1  m  1  1⎥         3        ⎥\n",
       "⎢⎢          ⎥, (m - 1) ⋅(m + 3)⎥\n",
       "⎢⎢1  1  m  1⎥                  ⎥\n",
       "⎢⎢          ⎥                  ⎥\n",
       "⎣⎣1  1  1  m⎦                  ⎦"
      ]
     },
     "metadata": {},
     "output_type": "display_data"
    },
    {
     "data": {
      "text/latex": [
       "$\\displaystyle \\left[ \\left[\\begin{matrix}1 & 6 & 10\\\\5 & - m & -1\\\\2 & 1 & m\\end{matrix}\\right], \\  - \\left(m - 3\\right) \\left(m + 13\\right)\\right]$"
      ],
      "text/plain": [
       "⎡⎡1  6   10⎤                   ⎤\n",
       "⎢⎢         ⎥                   ⎥\n",
       "⎢⎢5  -m  -1⎥, -(m - 3)⋅(m + 13)⎥\n",
       "⎢⎢         ⎥                   ⎥\n",
       "⎣⎣2  1   m ⎦                   ⎦"
      ]
     },
     "metadata": {},
     "output_type": "display_data"
    }
   ],
   "source": [
    "# p11.e6\n",
    "\n",
    "datos=[Matrix(3,3,[1,2,m,0,3,5,2,4,4]),\n",
    "       Matrix(3,3,[1,-1,-1,1,-1,2,2,1,k]),\n",
    "       Matrix(4,4,[m,1,1,1,1,m,1,1,1,1,m,1,1,1,1,m]),\n",
    "       Matrix(3,3,[1,6,10,5,-m,-1,2,1,m])\n",
    "       \n",
    " ]\n",
    "\n",
    "for A in datos:\n",
    "    display([A, factor(A.det())])"
   ]
  },
  {
   "cell_type": "code",
   "execution_count": 24,
   "id": "4TrW1HKWs2Vf",
   "metadata": {
    "colab": {
     "base_uri": "https://localhost:8080/",
     "height": 119
    },
    "id": "4TrW1HKWs2Vf",
    "outputId": "393feccf-3977-4f7a-93cb-65bd1296996d"
   },
   "outputs": [
    {
     "data": {
      "text/latex": [
       "$\\displaystyle \\left[ \\left[\\begin{matrix}-2 & 3\\\\2 & -1\\end{matrix}\\right], \\  -4, \\  \\left[\\begin{matrix}-1 & -3\\\\-2 & -2\\end{matrix}\\right], \\  \\left[\\begin{matrix}\\frac{1}{4} & \\frac{3}{4}\\\\\\frac{1}{2} & \\frac{1}{2}\\end{matrix}\\right], \\  \\left[\\begin{matrix}\\frac{1}{4} & \\frac{3}{4}\\\\\\frac{1}{2} & \\frac{1}{2}\\end{matrix}\\right]\\right]$"
      ],
      "text/plain": [
       "⎡⎡-2  3 ⎤      ⎡-1  -3⎤  ⎡1/4  3/4⎤  ⎡1/4  3/4⎤⎤\n",
       "⎢⎢      ⎥, -4, ⎢      ⎥, ⎢        ⎥, ⎢        ⎥⎥\n",
       "⎣⎣2   -1⎦      ⎣-2  -2⎦  ⎣1/2  1/2⎦  ⎣1/2  1/2⎦⎦"
      ]
     },
     "metadata": {},
     "output_type": "display_data"
    },
    {
     "data": {
      "text/latex": [
       "$\\displaystyle \\left[ \\left[\\begin{matrix}0 & -1 & 3\\\\-2 & 3 & 0\\\\-5 & -3 & 2\\end{matrix}\\right], \\  59, \\  \\left[\\begin{matrix}6 & -7 & -9\\\\4 & 15 & -6\\\\21 & 5 & -2\\end{matrix}\\right], \\  \\left[\\begin{matrix}\\frac{6}{59} & - \\frac{7}{59} & - \\frac{9}{59}\\\\\\frac{4}{59} & \\frac{15}{59} & - \\frac{6}{59}\\\\\\frac{21}{59} & \\frac{5}{59} & - \\frac{2}{59}\\end{matrix}\\right], \\  \\left[\\begin{matrix}\\frac{6}{59} & - \\frac{7}{59} & - \\frac{9}{59}\\\\\\frac{4}{59} & \\frac{15}{59} & - \\frac{6}{59}\\\\\\frac{21}{59} & \\frac{5}{59} & - \\frac{2}{59}\\end{matrix}\\right]\\right]$"
      ],
      "text/plain": [
       "⎡                               ⎡6/59  -7/59  -9/59⎤  ⎡6/59  -7/59  -9/59⎤⎤\n",
       "⎢                               ⎢                  ⎥  ⎢                  ⎥⎥\n",
       "⎢⎡0   -1  3⎤      ⎡6   -7  -9⎤  ⎢       15         ⎥  ⎢       15         ⎥⎥\n",
       "⎢⎢         ⎥      ⎢          ⎥  ⎢4/59   ──    -6/59⎥  ⎢4/59   ──    -6/59⎥⎥\n",
       "⎢⎢-2  3   0⎥, 59, ⎢4   15  -6⎥, ⎢       59         ⎥, ⎢       59         ⎥⎥\n",
       "⎢⎢         ⎥      ⎢          ⎥  ⎢                  ⎥  ⎢                  ⎥⎥\n",
       "⎢⎣-5  -3  2⎦      ⎣21  5   -2⎦  ⎢ 21               ⎥  ⎢ 21               ⎥⎥\n",
       "⎢                               ⎢ ──   5/59   -2/59⎥  ⎢ ──   5/59   -2/59⎥⎥\n",
       "⎣                               ⎣ 59               ⎦  ⎣ 59               ⎦⎦"
      ]
     },
     "metadata": {},
     "output_type": "display_data"
    }
   ],
   "source": [
    "# p11.e7\n",
    "\n",
    "datos=[Matrix(2,2,[-2,3,2,-1]),\n",
    "       Matrix(3,3,[0,-1,3,-2,3,0,-5,-3,2])\n",
    " ]\n",
    "\n",
    "for A in datos:\n",
    "    display([A, A.det(),A.T.cofactor_matrix(),A.T.cofactor_matrix()/A.det(), A.inv()])"
   ]
  },
  {
   "cell_type": "code",
   "execution_count": 29,
   "id": "zs9prPLVuExZ",
   "metadata": {
    "colab": {
     "base_uri": "https://localhost:8080/",
     "height": 139
    },
    "id": "zs9prPLVuExZ",
    "outputId": "649558b5-c37d-4f8a-ad08-5936f802a5b8"
   },
   "outputs": [
    {
     "data": {
      "text/latex": [
       "$\\displaystyle \\left[ \\left[\\begin{matrix}-1 & -1 & 3\\\\0 & 2 & m\\\\m & 0 & 4\\end{matrix}\\right], \\  - \\left(m + 2\\right) \\left(m + 4\\right)\\right]$"
      ],
      "text/plain": [
       "⎡⎡-1  -1  3⎤                  ⎤\n",
       "⎢⎢         ⎥                  ⎥\n",
       "⎢⎢0   2   m⎥, -(m + 2)⋅(m + 4)⎥\n",
       "⎢⎢         ⎥                  ⎥\n",
       "⎣⎣m   0   4⎦                  ⎦"
      ]
     },
     "metadata": {},
     "output_type": "display_data"
    },
    {
     "data": {
      "text/latex": [
       "$\\displaystyle \\left[ \\left[\\begin{matrix}-1 & -1 & 3\\\\0 & 2 & 2\\\\2 & 0 & 4\\end{matrix}\\right], \\  -24, \\  \\left[\\begin{matrix}8 & 4 & -8\\\\4 & -10 & 2\\\\-4 & -2 & -2\\end{matrix}\\right], \\  \\left[\\begin{matrix}- \\frac{1}{3} & - \\frac{1}{6} & \\frac{1}{3}\\\\- \\frac{1}{6} & \\frac{5}{12} & - \\frac{1}{12}\\\\\\frac{1}{6} & \\frac{1}{12} & \\frac{1}{12}\\end{matrix}\\right], \\  \\left[\\begin{matrix}- \\frac{1}{3} & - \\frac{1}{6} & \\frac{1}{3}\\\\- \\frac{1}{6} & \\frac{5}{12} & - \\frac{1}{12}\\\\\\frac{1}{6} & \\frac{1}{12} & \\frac{1}{12}\\end{matrix}\\right]\\right]$"
      ],
      "text/plain": [
       "⎡⎡-1  -1  3⎤       ⎡8    4   -8⎤  ⎡-1/3  -1/6   1/3 ⎤  ⎡-1/3  -1/6   1/3 ⎤⎤\n",
       "⎢⎢         ⎥       ⎢           ⎥  ⎢                 ⎥  ⎢                 ⎥⎥\n",
       "⎢⎢0   2   2⎥, -24, ⎢4   -10  2 ⎥, ⎢-1/6  5/12  -1/12⎥, ⎢-1/6  5/12  -1/12⎥⎥\n",
       "⎢⎢         ⎥       ⎢           ⎥  ⎢                 ⎥  ⎢                 ⎥⎥\n",
       "⎣⎣2   0   4⎦       ⎣-4  -2   -2⎦  ⎣1/6   1/12  1/12 ⎦  ⎣1/6   1/12  1/12 ⎦⎦"
      ]
     },
     "metadata": {},
     "output_type": "display_data"
    }
   ],
   "source": [
    "# p11.e8\n",
    "\n",
    "datos=[Matrix(3,3,[-1,-1,3,0,2,m,m,0,4]),\n",
    "       \n",
    " ]\n",
    "\n",
    "for A in datos:\n",
    "    display([A, factor(A.det())])\n",
    "    val=2\n",
    "    display([A.subs(m,val), A.subs(m,val).det(),A.subs(m,val).T.cofactor_matrix(),A.subs(m,val).T.cofactor_matrix()/A.subs(m,val).det(), A.subs(m,val).inv()])"
   ]
  },
  {
   "cell_type": "code",
   "execution_count": 30,
   "id": "_KP-mU-9vU2G",
   "metadata": {
    "colab": {
     "base_uri": "https://localhost:8080/",
     "height": 139
    },
    "id": "_KP-mU-9vU2G",
    "outputId": "4eef5577-274a-420d-b485-ae36da63a1dc"
   },
   "outputs": [
    {
     "data": {
      "text/latex": [
       "$\\displaystyle \\left[ \\left[\\begin{matrix}1 & 2 & 0\\\\0 & 1 & 2\\\\9 & 2 & m\\end{matrix}\\right], \\  m + 32\\right]$"
      ],
      "text/plain": [
       "⎡⎡1  2  0⎤        ⎤\n",
       "⎢⎢       ⎥        ⎥\n",
       "⎢⎢0  1  2⎥, m + 32⎥\n",
       "⎢⎢       ⎥        ⎥\n",
       "⎣⎣9  2  m⎦        ⎦"
      ]
     },
     "metadata": {},
     "output_type": "display_data"
    },
    {
     "data": {
      "text/latex": [
       "$\\displaystyle \\left[ \\left[\\begin{matrix}1 & 2 & 0\\\\0 & 1 & 2\\\\9 & 2 & 3\\end{matrix}\\right], \\  35, \\  \\left[\\begin{matrix}-1 & -6 & 4\\\\18 & 3 & -2\\\\-9 & 16 & 1\\end{matrix}\\right], \\  \\left[\\begin{matrix}- \\frac{1}{35} & - \\frac{6}{35} & \\frac{4}{35}\\\\\\frac{18}{35} & \\frac{3}{35} & - \\frac{2}{35}\\\\- \\frac{9}{35} & \\frac{16}{35} & \\frac{1}{35}\\end{matrix}\\right], \\  \\left[\\begin{matrix}- \\frac{1}{35} & - \\frac{6}{35} & \\frac{4}{35}\\\\\\frac{18}{35} & \\frac{3}{35} & - \\frac{2}{35}\\\\- \\frac{9}{35} & \\frac{16}{35} & \\frac{1}{35}\\end{matrix}\\right]\\right]$"
      ],
      "text/plain": [
       "⎡                             ⎡-1/35  -6/35  4/35 ⎤  ⎡-1/35  -6/35  4/35 ⎤⎤\n",
       "⎢                             ⎢                   ⎥  ⎢                   ⎥⎥\n",
       "⎢⎡1  2  0⎤      ⎡-1  -6  4 ⎤  ⎢ 18                ⎥  ⎢ 18                ⎥⎥\n",
       "⎢⎢       ⎥      ⎢          ⎥  ⎢ ──    3/35   -2/35⎥  ⎢ ──    3/35   -2/35⎥⎥\n",
       "⎢⎢0  1  2⎥, 35, ⎢18  3   -2⎥, ⎢ 35                ⎥, ⎢ 35                ⎥⎥\n",
       "⎢⎢       ⎥      ⎢          ⎥  ⎢                   ⎥  ⎢                   ⎥⎥\n",
       "⎢⎣9  2  3⎦      ⎣-9  16  1 ⎦  ⎢        16         ⎥  ⎢        16         ⎥⎥\n",
       "⎢                             ⎢-9/35   ──    1/35 ⎥  ⎢-9/35   ──    1/35 ⎥⎥\n",
       "⎣                             ⎣        35         ⎦  ⎣        35         ⎦⎦"
      ]
     },
     "metadata": {},
     "output_type": "display_data"
    }
   ],
   "source": [
    "# p11.e9\n",
    "\n",
    "datos=[Matrix(3,3,[1,2,0,0,1,2,9,2,m]),\n",
    "       \n",
    " ]\n",
    "\n",
    "for A in datos:\n",
    "    display([A, factor(A.det())])\n",
    "    val=3\n",
    "    display([A.subs(m,val), A.subs(m,val).det(),A.subs(m,val).T.cofactor_matrix(),A.subs(m,val).T.cofactor_matrix()/A.subs(m,val).det(), A.subs(m,val).inv()])"
   ]
  },
  {
   "cell_type": "code",
   "execution_count": 35,
   "id": "BwOR1720wOJe",
   "metadata": {
    "colab": {
     "base_uri": "https://localhost:8080/",
     "height": 78
    },
    "id": "BwOR1720wOJe",
    "outputId": "3129967e-f15e-48c7-9a1f-372c48e3a3ee"
   },
   "outputs": [
    {
     "data": {
      "text/latex": [
       "$\\displaystyle \\left( \\left[\\begin{matrix}1 & 0 & 2\\\\2 & 1 & 3\\\\1 & -1 & 1\\end{matrix}\\right], \\  \\left[\\begin{matrix}1 & -1 & 0\\\\0 & 1 & 2\\\\3 & 1 & 1\\end{matrix}\\right], \\  \\left[\\begin{matrix}1 & -7 & -2\\\\-4 & -6 & -1\\\\7 & 1 & 3\\end{matrix}\\right], \\  \\left[\\begin{matrix}1 & 5 & 2\\\\4 & 8 & 5\\\\-1 & 1 & -1\\end{matrix}\\right], \\  \\left[\\begin{matrix}-2 & 1 & 1\\\\- \\frac{1}{2} & \\frac{1}{2} & - \\frac{1}{2}\\\\\\frac{3}{2} & - \\frac{1}{2} & - \\frac{1}{2}\\end{matrix}\\right], \\  \\left[\\begin{matrix}1 & -1 & 0\\\\2 & 1 & 2\\\\0 & 3 & 1\\end{matrix}\\right]\\right)$"
      ],
      "text/plain": [
       "⎛⎡1  0   2⎤  ⎡1  -1  0⎤  ⎡1   -7  -2⎤  ⎡1   5  2 ⎤  ⎡ -2    1     1  ⎤  ⎡1  -1\n",
       "⎜⎢        ⎥  ⎢        ⎥  ⎢          ⎥  ⎢         ⎥  ⎢                ⎥  ⎢     \n",
       "⎜⎢2  1   3⎥, ⎢0  1   2⎥, ⎢-4  -6  -1⎥, ⎢4   8  5 ⎥, ⎢-1/2  1/2   -1/2⎥, ⎢2  1 \n",
       "⎜⎢        ⎥  ⎢        ⎥  ⎢          ⎥  ⎢         ⎥  ⎢                ⎥  ⎢     \n",
       "⎝⎣1  -1  1⎦  ⎣3  1   1⎦  ⎣7   1   3 ⎦  ⎣-1  1  -1⎦  ⎣3/2   -1/2  -1/2⎦  ⎣0  3 \n",
       "\n",
       "  0⎤⎞\n",
       "   ⎥⎟\n",
       "  2⎥⎟\n",
       "   ⎥⎟\n",
       "  1⎦⎠"
      ]
     },
     "execution_count": 35,
     "metadata": {},
     "output_type": "execute_result"
    }
   ],
   "source": [
    "# p11.e10\n",
    "\n",
    "A= Matrix(3,3,[1,0,2,2,1,3,1,-1,1])\n",
    "B= Matrix(3,3,[1,-1,0,0,1,2,3,1,1])\n",
    "C= Matrix(3,3,[1,-7,-2,-4,-6,-1,7,1,3])\n",
    "\n",
    "A, B, C, 2*B-C , A.inv(), A.inv()*(2*B-C)"
   ]
  },
  {
   "cell_type": "code",
   "execution_count": 38,
   "id": "nclhilumyLDw",
   "metadata": {
    "colab": {
     "base_uri": "https://localhost:8080/",
     "height": 98
    },
    "id": "nclhilumyLDw",
    "outputId": "40dc786a-2402-406f-f884-40dc6a49bed7"
   },
   "outputs": [
    {
     "data": {
      "text/latex": [
       "$\\displaystyle \\left[ \\left[\\begin{matrix}1 & 1 & 1 & 2\\\\1 & 2 & -3 & 8\\\\a & -1 & -1 & 1\\\\1 & -1 & 1 & -2\\end{matrix}\\right], \\  - 8 \\left(a - 2\\right)\\right]$"
      ],
      "text/plain": [
       "⎡⎡1  1   1   2 ⎤            ⎤\n",
       "⎢⎢             ⎥            ⎥\n",
       "⎢⎢1  2   -3  8 ⎥            ⎥\n",
       "⎢⎢             ⎥, -8⋅(a - 2)⎥\n",
       "⎢⎢a  -1  -1  1 ⎥            ⎥\n",
       "⎢⎢             ⎥            ⎥\n",
       "⎣⎣1  -1  1   -2⎦            ⎦"
      ]
     },
     "metadata": {},
     "output_type": "display_data"
    }
   ],
   "source": [
    "# p11.11\n",
    "a = symbols('a')\n",
    "\n",
    "datos=[       Matrix(4,4,[1,1,1,2,1,2,-3,8,a,-1,-1,1,1,-1,1,-2]),\n",
    " ]\n",
    "\n",
    "for A in datos:\n",
    "    display([A, factor(A.det())])"
   ]
  },
  {
   "cell_type": "code",
   "execution_count": 40,
   "id": "rXXeNXjjzBlX",
   "metadata": {
    "colab": {
     "base_uri": "https://localhost:8080/",
     "height": 139
    },
    "id": "rXXeNXjjzBlX",
    "outputId": "6f49ed47-b05b-49f6-d9e4-43ecc11bb6cb"
   },
   "outputs": [
    {
     "data": {
      "text/latex": [
       "$\\displaystyle \\left[ \\left[\\begin{matrix}2 & 1 & 0\\\\1 & 1 & -2\\\\3 & 1 & a\\end{matrix}\\right], \\  a - 2\\right]$"
      ],
      "text/plain": [
       "⎡⎡2  1  0 ⎤       ⎤\n",
       "⎢⎢        ⎥       ⎥\n",
       "⎢⎢1  1  -2⎥, a - 2⎥\n",
       "⎢⎢        ⎥       ⎥\n",
       "⎣⎣3  1  a ⎦       ⎦"
      ]
     },
     "metadata": {},
     "output_type": "display_data"
    },
    {
     "data": {
      "text/latex": [
       "$\\displaystyle \\left[ \\left[\\begin{matrix}2 & -1 & a\\\\a & 3 & 4\\\\3 & -1 & 2\\end{matrix}\\right], \\  - \\left(a - 1\\right) \\left(a + 8\\right)\\right]$"
      ],
      "text/plain": [
       "⎡⎡2  -1  a⎤                  ⎤\n",
       "⎢⎢        ⎥                  ⎥\n",
       "⎢⎢a  3   4⎥, -(a - 1)⋅(a + 8)⎥\n",
       "⎢⎢        ⎥                  ⎥\n",
       "⎣⎣3  -1  2⎦                  ⎦"
      ]
     },
     "metadata": {},
     "output_type": "display_data"
    }
   ],
   "source": [
    "# p11.12\n",
    "\n",
    "a = symbols('a')\n",
    "datos=[       Matrix(3,3,[2,1,0,1,1,-2,3,1,a]),\n",
    "       Matrix(3,3,[2,-1,a,a,3,4,3,-1,2])\n",
    " ]\n",
    "\n",
    "for A in datos:\n",
    "    display([A, factor(A.det())])"
   ]
  }
 ],
 "metadata": {
  "colab": {
   "provenance": []
  },
  "kernelspec": {
   "display_name": "Python 3 (ipykernel)",
   "language": "python",
   "name": "python3"
  },
  "language_info": {
   "codemirror_mode": {
    "name": "ipython",
    "version": 3
   },
   "file_extension": ".py",
   "mimetype": "text/x-python",
   "name": "python",
   "nbconvert_exporter": "python",
   "pygments_lexer": "ipython3",
   "version": "3.9.13"
  }
 },
 "nbformat": 4,
 "nbformat_minor": 5
}

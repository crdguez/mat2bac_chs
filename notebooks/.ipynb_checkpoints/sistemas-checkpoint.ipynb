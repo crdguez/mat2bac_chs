{
 "cells": [
  {
   "cell_type": "code",
   "execution_count": 1,
   "metadata": {
    "id": "-cVvkLt0Yl6m"
   },
   "outputs": [],
   "source": [
    "#!pip install sympy"
   ]
  },
  {
   "cell_type": "code",
   "execution_count": 2,
   "metadata": {
    "colab": {
     "base_uri": "https://localhost:8080/",
     "height": 130
    },
    "id": "fkQeaZkrY0PY",
    "outputId": "371489c7-ab73-4ba5-876f-8d9a8a6631c3"
   },
   "outputs": [
    {
     "ename": "SyntaxError",
     "evalue": "import * only allowed at module level (<ipython-input-2-df5b7800400a>, line 2)",
     "output_type": "error",
     "traceback": [
      "\u001b[0;36m  File \u001b[0;32m\"<ipython-input-2-df5b7800400a>\"\u001b[0;36m, line \u001b[0;32m2\u001b[0m\n\u001b[0;31m    # init_session()\u001b[0m\n\u001b[0m         ^\u001b[0m\n\u001b[0;31mSyntaxError\u001b[0m\u001b[0;31m:\u001b[0m import * only allowed at module level\n"
     ]
    }
   ],
   "source": [
    "from sympy import *\n",
    "# init_session()\n",
    "from __future__ import division\n",
    "x, y, z, t = symbols('x y z t')\n",
    "k, m, n = symbols('k m n', integer=True)\n",
    "f, g, h = symbols('f g h', cls=Function)\n",
    "init_printing(use_latex=False)\n",
    "\n",
    "from IPython.display import Markdown as md\n",
    "from IPython.display import display\n"
   ]
  },
  {
   "cell_type": "code",
   "execution_count": 1,
   "metadata": {
    "colab": {
     "base_uri": "https://localhost:8080/"
    },
    "id": "S_IyPG6chmb8",
    "outputId": "7f54cc69-031e-4c92-d8ba-c69ef3e26def"
   },
   "outputs": [
    {
     "name": "stdout",
     "output_type": "stream",
     "text": [
      "IPython console for SymPy 1.8 (Python 3.6.13-64-bit) (ground types: gmpy)\n",
      "\n",
      "These commands were executed:\n",
      ">>> from __future__ import division\n",
      ">>> from sympy import *\n",
      ">>> x, y, z, t = symbols('x y z t')\n",
      ">>> k, m, n = symbols('k m n', integer=True)\n",
      ">>> f, g, h = symbols('f g h', cls=Function)\n",
      ">>> init_printing()\n",
      "\n",
      "Documentation can be found at https://docs.sympy.org/1.8/\n",
      "\n"
     ]
    }
   ],
   "source": [
    "from sympy import *\n",
    "from IPython.display import display_latex, display\n",
    "init_session()\n",
    "\n",
    "\n",
    "def sistema_a_latex(sist) :\n",
    "    \"\"\"\n",
    "    Convierte un sistema Sympy a código LaTeX\n",
    "    \"\"\"\n",
    "    sist_latex = r\"$\\left\\{ \\begin{matrix}\"\n",
    "    for e in sist:\n",
    "        sist_latex += latex(e)+r\" \\\\ \"  \n",
    "    sist_latex += r\"\\end{matrix}\\right.$\"\n",
    "    return(sist_latex)\n",
    "\n",
    "\n",
    "def enunciado_dicusion(sist, k=k,lista=[]) :\n",
    "    \"\"\"\n",
    "    Típico enunciado de discusión y resolución de un sistema con un parámetro\n",
    "    \"\"\"\n",
    "    sistema_problema = sist\n",
    "    texto_problema = r\"\"\"Considere el siguiente sistema de ecuaciones, dónde {}  es un parámetro real: $\"\"\".format(k)\n",
    "    texto_problema += sistema_a_latex(sistema_problema)\n",
    "    texto_problema += \"\"\"$ Determine los valores del parámetro real {}, para los que este sistema es compatible determinado,  compatible indeterminado o incompatible.\"\"\".format(k)\n",
    "    \n",
    "    if lista :\n",
    "        texto_problema +=r\" \\\\ Resuelva el sistema cuando\"\n",
    "        texto_problema +=r\"\\begin{itemize}\"\n",
    "        for i in lista :\n",
    "            texto_problema += r\"\\item {}={}\".format(k,i)        \n",
    "        texto_problema +=r\"\\end{itemize}\"\n",
    "    return(texto_problema)\n",
    "\n",
    "\n",
    "def discusion_solucion(sist, k=k, resol=True) :\n",
    "    \"\"\"\n",
    "    Discute y resuelve un sistema con un parámetro o sin él\n",
    "    \"\"\"\n",
    "    d=dict()\n",
    "    solucion_md=[]\n",
    "    A, b = linear_eq_to_matrix(sist,[x,y,z])\n",
    "    AA = A.row_join(b)\n",
    "    AAs = AA.LUdecomposition()[1].applyfunc(nsimplify)\n",
    "    \n",
    "    if A.rank() < AA.rank():\n",
    "        solucion_latex = r\"Como $rg(A)={} < rg(A^*)={} \\to$ S.I. \\\\ \".format(A.rank(),AA.rank())\n",
    "        solucion_latex += r\"Ya que escalonando la matriz ampliada: \\\\ $A^*= {} \\thicksim {}$ \\\\\".format(latex(AA),latex(AAs)).replace('[','(').replace(']',')')\n",
    "        solucion_latex += r\"${}={} \\quad y \\quad {}={}$\".format(latex(AAs[:,:-1]),latex(A.det()),latex(AAs[:,1:]),latex(AAs[:,1:].det())).replace('[','|').replace(']','|')\n",
    "        solucion_md.append(r\"Como $rg(A)={} < rg(A^*)={} \\to$ S.I. \\\\ \".format(A.rank(),AA.rank()))\n",
    "        solucion_md.append(r\"Ya que escalonando la matriz ampliada: \\\\ $A^*= {} \\thicksim {}$ \\\\\".format(latex(AA),latex(AAs)).replace('[','(').replace(']',')'))\n",
    "        solucion_md.append(r\"${}={} \\quad y \\quad {}={}$\".format(latex(AAs[:,:-1]),latex(A.det()),latex(AAs[:,1:]),latex(AAs[:,1:].det())).replace('[','|').replace(']','|'))\n",
    "\n",
    "        \n",
    "    else :  \n",
    "        pprint(\"Discusión y resolución por Gauss:\")\n",
    "        solucion_md.append(\"**Discusión y resolución por Gauss** \")\n",
    "        solucion_md.append(\"Escalonando la matriz ampliada tenemos:\")\n",
    "        solucion_md.append(r\"$A = {} \\thicksim {}= A^*$.\".format(latex(AA),latex(AAs)).replace('[','(').replace(']',')'))\n",
    "        solucion_md.append(\"De los valores de la última fila podemos concluir:\")\n",
    " \n",
    "        solucion_latex = r\"\\textbf{Discusión y resolución por Gauss:} Escalonando la matriz ampliada tenemos\\\\\"\n",
    "        solucion_latex += r\"$A^*= {} \\thicksim {}$. \\\\  De los valores de la última fila podemos concluir:\".format(latex(AA),latex(AAs)).replace('[','(').replace(']',')')\n",
    "        solucion_latex += r\"\\begin{itemize}\"\n",
    "        pprint(AAs)\n",
    "                \n",
    "        pprint(\"det(A)={}\".format(A.det()))\n",
    "        pprint(AAs.row(-1)[-2:])\n",
    "\n",
    "        for i in (solve(AAs.row(-1)[-2])) :\n",
    "            pprint(i)\n",
    "            if AAs.row(-1)[-1].subs(k,i) == 0 :\n",
    "                pprint(\"Si {} = {} -->  0z=0 --> S.C.I\".format(k,i))\n",
    "                solucion_md.append(r\"* Si ${} = {} \\to$ $${}$$ La última fila es $0z=0 \\to $ S.C.I\".format(k,i,latex(AAs.subs(k,i))).replace('[','(').replace(']',')'))\n",
    "                solucion_latex += r\"\\item Si ${} = {} \\to$ $${}$$ La última fila es $0z=0 \\to $ S.C.I\".format(k,i,latex(AAs.subs(k,i))).replace('[','(').replace(']',')')\n",
    "                pprint([eq.subs(k,i) for eq in sist])\n",
    "                sol = list(zip([x,y,z],linsolve([eq.subs(k,i) for eq in sist],[x,y,z]).args[0],[r.subs(k,i) for r in [AAs.row(j) for j in range(AA.shape[0])]]))\n",
    "                pprint(sol)\n",
    "                for s in reversed(sol) :\n",
    "                        pprint(\"{} --> {} = {}\".format(s[2],s[0],s[1].subs(z,\"\\lambda\")))\n",
    "                        if resol :\n",
    "                            solucion_latex += r\"\\begin{itemize}\"\n",
    "                            solucion_md.append(r\"    - ${} \\to {} = {}$\".format(latex(s[2]),latex(s[0]),latex(s[1]).replace('z',\"\\lambda\")).replace('[','(').replace(']',')'))\n",
    "                            solucion_latex += r\"\\item ${} \\to {} = {}$\".format(latex(s[2]),latex(s[0]),latex(s[1]).replace('z',\"\\lambda\")).replace('[','(').replace(']',')')\n",
    "                            solucion_latex += r\"\\end{itemize}\"\n",
    "            else :\n",
    "                pprint(\"Si {} = {} --> 0z={} -->S.I\".format(k,i, AAs.row(-1)[-1].subs(k,i)))\n",
    "                solucion_latex += r\"\\item Si ${} = {} \\to$ $${}$$ La última fila es $0z={} \\to $ S.I.\".format(k,i,latex(AAs.subs(k,i)),AA.LUdecomposition()[1].applyfunc(simplify).row(-1)[-1].subs(k,i)).replace('[','(').replace(']',')')\n",
    "                solucion_md.append(r\"* Si ${} = {} \\to$ $${}$$ La última fila es $0z={} \\to $ S.I.\".format(k,i,latex(AAs.subs(k,i)),AA.LUdecomposition()[1].applyfunc(simplify).row(-1)[-1].subs(k,i)).replace('[','(').replace(']',')'))\n",
    "\n",
    "        if solve(AAs.row(-1)[-2]) :\n",
    "            pprint(\"si {} <> {}  --> S.C.D.\".format(k, solve(AAs.row(-1)[-2])))\n",
    "            solucion_latex += r\"\\item si ${}\\neq {}  \\to $ S.C.D.\".format(k,solve(AAs.row(-1)[-2]))\n",
    "            solucion_md.append(r\"* Si ${}\\neq {} $ S.C.D.\".format(k,solve(AAs.row(-1)[-2])))\n",
    "\n",
    "        else :\n",
    "            pprint(\"S.C.D.\".format(k, solve(AAs.row(-1)[-2])))\n",
    "            solucion_latex += r\"\\item S.C.D.\".format(k,solve(AAs.row(-1)[-2]))\n",
    "            solucion_md.append(r\"S.C.D.\")\n",
    "            \n",
    "\n",
    "\n",
    "        pprint(list(linsolve(sist,[x,y,z]).args[0].args))\n",
    "        sol = list(zip([x,y,z],linsolve(sist,[x,y,z]).args[0],[AAs.row(j) for j in range(AA.shape[0])]))\n",
    "        pprint(sol)\n",
    "        if resol :\n",
    "            for s in reversed(sol) :\n",
    "                pprint(\"{} --> {} = {}\".format(s[2],s[0],s[1]))\n",
    "                solucion_latex += r\"\\begin{itemize}\"\n",
    "                solucion_latex += r\"\\item ${} \\to {} = {}$\".format(latex(s[2]),s[0],latex(s[1])).replace('[','(').replace(']',')')\n",
    "                solucion_md.append(\" * ${} \\\\to {} = {}$\".format(latex(s[2]),s[0],latex(s[1])).replace('[','(').replace(']',')'))\n",
    "                solucion_latex += r\"\\end{itemize}\"\n",
    "\n",
    "        solucion_latex += r\"\\end{itemize}  \"\n",
    "        \n",
    "        # Por rangos y determinantes\n",
    "\n",
    "        pprint(\"Por rangos y determinantes:\")\n",
    "        solucion_latex += r\"\\textbf{Por rangos y determinantes:} \\\\\"\n",
    "        solucion_md.append(r\"**Por rangos y determinantes**\")\n",
    "\n",
    "\n",
    "        #Rango de A:\n",
    "\n",
    "\n",
    "        solucion_latex += r\"$\\left|A\\right|={}={} \".format(latex(A).replace(\"[\",\"|\").replace(\"]\",\"|\"),latex(A.det()))\n",
    "        txt_md= r\"$\\left|A\\right|={}={} \".format(latex(A).replace(\"[\",\"|\").replace(\"]\",\"|\"),latex(A.det()))\n",
    "        \n",
    "        if solve(A.det()) :\n",
    "            solucion_latex += r\"\\to \\left|A\\right|=0 \\quad si \\quad {} = {}$\".format(k,latex(solve(A.det())))\n",
    "            txt_md += r\"\\to \\left|A\\right|=0 \\quad si \\quad {} = {}$\".format(k,latex(solve(A.det())))\n",
    "            solucion_latex += r\"\\begin{itemize}\"\n",
    "            for i in solve(A.det()):\n",
    "                A2 = A.subs(k,i)\n",
    "                AA2 = AA.subs(k,i)\n",
    "                pprint(A2)\n",
    "                pprint(A2.rank())\n",
    "                pprint(AA2.rank())\n",
    "                if A2.rank() < AA2.rank() :\n",
    "                    pprint(\"Si {} = {} --> S.I.\".format(k,i))\n",
    "                    solucion_latex += r\"\\item Si ${}={} \\to rg(A)={} \\land rg(A^*)={} \\to $ S.I.\".format(k,i,A2.rank(),AA2.rank())\n",
    "                    txt_md += r\"* Si ${}={} \\to rg(A)={} \\land rg(A^*)={} \\to $ S.I.\".format(k,i,A2.rank(),AA2.rank())\n",
    "                else :\n",
    "                    pprint(\"Si {} = {} --> S.C.I --> solo se puede resolver por Gauss, ver más arriba\".format(k,i))\n",
    "                    solucion_latex += r\"\\item Si ${}={} \\to rg(A)={} \\land rg(A^*)={} \\to $ S.C.I. $\\to$ solo se puede resolver por Gauss, (ver más arriba)\".format(k,i,A2.rank(),AA2.rank())\n",
    "                    txt_md += r\" * Si ${}={} \\to rg(A)={} \\land rg(A^*)={} \\to $ S.C.I. $\\to$ solo se puede resolver por Gauss, (ver más arriba)\".format(k,i,A2.rank(),AA2.rank())\n",
    "            pprint(\"Si {} <> {} --> Rango(A)=Rango(A)={} --> S.C.D.\".format(k,solve(A.det()),A.rank()))\n",
    "            solucion_latex += r\"\\item Si ${} \\neq{} \\to rg(A)={} \\land rg(A^*)={} \\to $ S.C.D.  \\\\ \".format(k, solve(A.det()),A.rank(),AA.rank())\n",
    "            txt_md += r\"  \\n * Si ${} \\neq{} \\to rg(A)={} \\land rg(A^*)={} \\to $ S.C.D.  \\\\ \".format(k, solve(A.det()),A.rank(),AA.rank())\n",
    "            solucion_md.append(txt_md)\n",
    "\n",
    "            if resol :\n",
    "                pprint(\"Por Cramer:\")\n",
    "                sol=[]\n",
    "                solucion_latex += r\" \\\\ Por Cramer: \\begin{itemize}\"\n",
    "                for i, var in enumerate([x,y,z]):\n",
    "                    #print(\"columna\"+latex(i))\n",
    "                    AA.col_swap(i,3)\n",
    "                    pprint(\"Delta_i, A.det, solucion_latex_i : \")\n",
    "                    sol.append([var,AA[:,:-1],simplify(AA[:,:-1].det()),simplify(A.det()),simplify(AA[:,:-1].det()/A.det())])\n",
    "                    pprint(sol[i])\n",
    "                    #print(r\"$x_\"+latex(i)+r\"=\\frac{\"+latex(AA[:,:-1])+r\"}{\"+latex(A.det())+r\"}=\\frac{\"+latex(AA[:,:-1].det())+r\"}{\"+latex(A.det())+r\"}=\"+latex(AA[:,:-1].det()/A.det())+\"$\")\n",
    "                    solucion_latex += r\"\\item $\"+latex(sol[i][0])+r\"=\\frac{\"+latex(sol[i][1]).replace('[','|').replace(']','|')+r\"}{\"+latex(sol[i][3])+r\"}=\\frac{\"+latex(sol[i][2])+r\"}{\"+latex(sol[i][3])+r\"}=\"+latex(sol[i][4])+r\"$\"\n",
    "                    AA.col_swap(i,3)\n",
    "                solucion_latex += r\"\\end{itemize}\"\n",
    "\n",
    "        else:\n",
    "            solucion_latex += r\" \\neq 0 $\"\n",
    "            txt_md += r\" \\neq 0 $\"\n",
    "            solucion_latex += r\"\\begin{itemize}\"\n",
    "            solucion_latex += r\" \\item $rg(A)={} \\land rg(A^*)={} \\to $ S.C.D.   \\\\\".format(A.rank(),AA.rank())\n",
    "            txt_md += \"  \\n * $rg(A)={} \\land rg(A^*)={} \\\\to $ S.C.D.\".format(A.rank(),AA.rank())\n",
    "            if resol :\n",
    "                pprint(\"Por Cramer:\")\n",
    "                sol=[]\n",
    "                solucion_latex += r\" \\\\ Por Cramer: \\begin{itemize}\"\n",
    "                txt_md += \"\\n\"+r\"**Por Cramer**\"\n",
    "                for i, var in enumerate([x,y,z]):\n",
    "                    #print(\"columna\"+latex(i))\n",
    "                    AA.col_swap(i,3)\n",
    "                    pprint(\"Delta_i, A.det, solucion_latex_i : \")\n",
    "                    sol.append([var,AA[:,:-1],simplify(AA[:,:-1].det()),simplify(A.det()),simplify(AA[:,:-1].det()/A.det())])\n",
    "                    pprint(sol[i])\n",
    "                    #print(r\"$x_\"+latex(i)+r\"=\\frac{\"+latex(AA[:,:-1])+r\"}{\"+latex(A.det())+r\"}=\\frac{\"+latex(AA[:,:-1].det())+r\"}{\"+latex(A.det())+r\"}=\"+latex(AA[:,:-1].det()/A.det())+\"$\")\n",
    "                    solucion_latex += r\"\\item $\"+latex(sol[i][0])+r\"=\\frac{\"+latex(sol[i][1]).replace('[','|').replace(']','|')+r\"}{\"+latex(sol[i][3])+r\"}=\\frac{\"+latex(sol[i][2])+r\"}{\"+latex(sol[i][3])+r\"}=\"+latex(sol[i][4])+r\"$\"\n",
    "                    txt_md += \"   \\n * \"+\"$\"+latex(sol[i][0])+r\"=\\frac{\"+latex(sol[i][1]).replace('[','|').replace(']','|')+r\"}{\"+latex(sol[i][3])+r\"}=\\frac{\"+latex(sol[i][2])+r\"}{\"+latex(sol[i][3])+r\"}=\"+latex(sol[i][4])+r\"$\"\n",
    "\n",
    "                    AA.col_swap(i,3)\n",
    "                solucion_latex += r\"\\end{itemize}\"\n",
    "        solucion_latex += r\"\\end{itemize}\"\n",
    "        solucion_md.append(txt_md)\n",
    "    d['solucion_latex']=solucion_latex\n",
    "    d['solucion_markdown']=solucion_md\n",
    "    return(d) \n",
    "\n",
    "\n",
    "\n",
    " "
   ]
  },
  {
   "cell_type": "code",
   "execution_count": 22,
   "metadata": {},
   "outputs": [
    {
     "name": "stdout",
     "output_type": "stream",
     "text": [
      "===============================================================\n",
      "Discusión y resolución del sistema:\n"
     ]
    },
    {
     "data": {
      "text/latex": [
       "$\\left\\{ \\begin{matrix}- 3 x + 2 y + 3 z = -2 \\\\ k y + 2 x - 5 z = -4 \\\\ x + y + 2 z = 2 \\\\ \\end{matrix}\\right.$"
      ]
     },
     "metadata": {},
     "output_type": "display_data"
    },
    {
     "name": "stdout",
     "output_type": "stream",
     "text": [
      "-----------------------------------------------------------\n"
     ]
    },
    {
     "data": {
      "text/latex": [
       "$\\left|\\begin{matrix}-3 & 2 & 3\\\\2 & k & -5\\\\1 & 1 & 2\\end{matrix}\\right|=- 9 \\left(k + 3\\right)$"
      ]
     },
     "metadata": {},
     "output_type": "display_data"
    },
    {
     "data": {
      "text/latex": [
       "* Si $k \\neq -3\\to |A| \\neq 0 \\to \\exists A^{-1}$."
      ]
     },
     "metadata": {},
     "output_type": "display_data"
    },
    {
     "data": {
      "text/latex": [
       "Como $rg(A)=rg(A^*)=3$ --> S.C."
      ]
     },
     "metadata": {},
     "output_type": "display_data"
    },
    {
     "data": {
      "text/latex": [
       "Como además $rg(A)=3$ coincide con el número de incógnitas --> S.C.D -- > Se puede resolver por Gauss, Matrix inversa o Cramer"
      ]
     },
     "metadata": {},
     "output_type": "display_data"
    },
    {
     "name": "stdout",
     "output_type": "stream",
     "text": [
      "**Resolución por Gauss**\n",
      "- - - - - - - - - - - -\n"
     ]
    },
    {
     "data": {
      "text/latex": [
       "Escalonando la matriz ampliada obtenemos $A^*=\\left(\\begin{matrix}-3 & 2 & 3 & -2\\\\2 & k & -5 & -4\\\\1 & 1 & 2 & 2\\end{matrix}\\right)\\sim\\left(\\begin{matrix}-3 & 2 & 3 & -2\\\\0 & k + \\frac{4}{3} & -3 & - \\frac{16}{3}\\\\0 & 0 & \\frac{9 \\left(k + 3\\right)}{3 k + 4} & \\frac{4 \\left(k + 8\\right)}{3 k + 4}\\end{matrix}\\right)\\to x=\\frac{10 k + 26}{9 k + 27}, y=- \\frac{4}{k + 3}, z=\\frac{4 k + 32}{9 k + 27}$"
      ]
     },
     "metadata": {},
     "output_type": "display_data"
    },
    {
     "name": "stdout",
     "output_type": "stream",
     "text": [
      "**Método de la matríz inversa**\n",
      "- - - - - - - - - - - - - - - \n"
     ]
    },
    {
     "data": {
      "text/latex": [
       "$A^{-1}=\\left(\\begin{matrix}\\frac{- 2 k - 5}{9 k + 27} & - \\frac{45}{- 405 k - 1215} & \\frac{3 k + 10}{9 k + 27}\\\\\\frac{135}{135 k + 405} & \\frac{135}{135 k + 405} & \\frac{135}{135 k + 405}\\\\\\frac{k - 2}{9 k + 27} & \\frac{15}{- 27 k - 81} & \\frac{3 k + 4}{9 k + 27}\\end{matrix}\\right) \\to  X=A^{-1}\\cdot b =\\left(\\begin{matrix}\\frac{- 2 k - 5}{9 k + 27} & - \\frac{45}{- 405 k - 1215} & \\frac{3 k + 10}{9 k + 27}\\\\\\frac{135}{135 k + 405} & \\frac{135}{135 k + 405} & \\frac{135}{135 k + 405}\\\\\\frac{k - 2}{9 k + 27} & \\frac{15}{- 27 k - 81} & \\frac{3 k + 4}{9 k + 27}\\end{matrix}\\right)\\cdot \\left(\\begin{matrix}-2\\\\-4\\\\2\\end{matrix}\\right) =\\left(\\begin{matrix}\\frac{2 \\left(5 k + 13\\right)}{9 \\left(k + 3\\right)}\\\\- \\frac{4}{k + 3}\\\\\\frac{4 \\left(k + 8\\right)}{9 \\left(k + 3\\right)}\\end{matrix}\\right)$"
      ]
     },
     "metadata": {},
     "output_type": "display_data"
    },
    {
     "name": "stdout",
     "output_type": "stream",
     "text": [
      "**Por Cramer**\n",
      "- - - - - - - -\n"
     ]
    },
    {
     "data": {
      "text/latex": [
       "$x=\\frac{\\left|\\begin{matrix}-2 & 2 & 3\\\\-4 & k & -5\\\\2 & 1 & 2\\end{matrix}\\right|}{- 9 k - 27}=\\frac{- 10 k - 26}{- 9 k - 27}=\\frac{- 10 k - 26}{- 9 k - 27}$"
      ]
     },
     "metadata": {},
     "output_type": "display_data"
    },
    {
     "data": {
      "text/latex": [
       "$y=\\frac{\\left|\\begin{matrix}-3 & -2 & 3\\\\2 & -4 & -5\\\\1 & 2 & 2\\end{matrix}\\right|}{- 9 k - 27}=\\frac{36}{- 9 k - 27}=\\frac{36}{- 9 k - 27}$"
      ]
     },
     "metadata": {},
     "output_type": "display_data"
    },
    {
     "data": {
      "text/latex": [
       "$z=\\frac{\\left|\\begin{matrix}-3 & 2 & -2\\\\2 & k & -4\\\\1 & 1 & 2\\end{matrix}\\right|}{- 9 k - 27}=\\frac{- 4 k - 32}{- 9 k - 27}=\\frac{- 4 k - 32}{- 9 k - 27}$"
      ]
     },
     "metadata": {},
     "output_type": "display_data"
    },
    {
     "data": {
      "text/latex": [
       "* No tiene inversa en $k=-3$"
      ]
     },
     "metadata": {},
     "output_type": "display_data"
    },
    {
     "data": {
      "text/latex": [
       "Como además $ rg(A)=2 \\land rg(A^*)=3$ --> S.I. (Observa que escalonando la matriz ampliada obtenemos $A^*=\\left(\\begin{matrix}-3 & 2 & 3 & -2\\\\2 & -3 & -5 & -4\\\\1 & 1 & 2 & 2\\end{matrix}\\right)\\sim\\left(\\begin{matrix}-3 & 2 & 3 & -2\\\\0 & - \\frac{5}{3} & -3 & - \\frac{16}{3}\\\\0 & 0 & 0 & -4\\end{matrix}\\right)$)"
      ]
     },
     "metadata": {},
     "output_type": "display_data"
    }
   ],
   "source": [
    "\"\"\"\n",
    "nueva versión para resolver sistemas v2223\n",
    "\"\"\"\n",
    "\n",
    "def lista_incognitas(sist, param=k) :\n",
    "    '''\n",
    "    extrae del sistema el listado de variables (letras) y no tiene en cuenta el parámetro si se le pasa\n",
    "    '''\n",
    "    l=[]\n",
    "    for expr in sist:\n",
    "        for s in expr.free_symbols:\n",
    "            l.append(s)\n",
    "    l=list(set(l))\n",
    "    if param in l :\n",
    "        l.remove(param)\n",
    "    \n",
    "    # ordenamos la lista\n",
    "    l=list(map(str,l))\n",
    "    l.sort(reverse=False)\n",
    "    l=list(map(S,l))\n",
    "    return(l)\n",
    "\n",
    "def sistema_solucion(sist, l_incognitas) :\n",
    "    \"\"\"\n",
    "    pasamos el sistema y el listado de incógnitas y se discute y resuelve\n",
    "    \"\"\"\n",
    "\n",
    "    gauss, minversa, cramer = [False, False, False]\n",
    "    l_tex=[]\n",
    "\n",
    "    A, b = linear_eq_to_matrix(sist,l_incognitas)\n",
    "    AA = A.row_join(b)\n",
    "    AAs = AA.LUdecomposition()[1].applyfunc(nsimplify).applyfunc(simplify)\n",
    "\n",
    "    \n",
    "    # Discusión\n",
    "    if A.rank() == AA.rank() :\n",
    "        display_latex(r\"Como $rg(A)=rg(A^*)={}$ --> S.C.\".format(A.rank()),raw=True)\n",
    "#     display_latex(r\"rg(A)=incognitas={} --> S.C.D. Solución:\".format(A.rank()),raw=True)\n",
    "#     pprint(linsolve(sist,l_incognitas))\n",
    "        if A.rank() == len(l_incognitas) :\n",
    "            display_latex(r\"Como además $rg(A)={}$ coincide con el número de incógnitas --> S.C.D -- > Se puede resolver por Gauss, Matrix inversa o Cramer\".format(A.rank()),raw=True)\n",
    "            gauss = True\n",
    "            minversa = True\n",
    "            cramer = True\n",
    "        else:\n",
    "            display_latex(r\"Como además $rg(A)={}$ no coincide con el número de incógnitas--> S.C.I --> Solo se puede resolver por Gauss\".format(A.rank()),raw=True)\n",
    "            gauss = True\n",
    "    else :\n",
    "        tex = r\"Como además $ rg(A)={} \\land rg(A^*)={}$ --> S.I. \".format(A.rank(),AA.rank())\n",
    "        tex += \". Observa que escalonando la matriz ampliada obtenemos \"\n",
    "        tex += \"$A^*=\"+latex(AA).replace(\"[\",\"(\").replace(\"]\",\")\")+r\"\\sim\"+latex(AAs).replace(\"[\",\"(\").replace(\"]\",\")\")+r\"$\"\n",
    "        display_latex(tex,raw=True)\n",
    "\n",
    "    if gauss == True :\n",
    "        print(\"**Resolución por Gauss**\")\n",
    "        print(\"- - - - - - - - - - - -\")\n",
    "        sol=linsolve(sist,l_incognitas).args[0].subs(z,t)\n",
    "        tex = \"Escalonando la matriz ampliada obtenemos \"\n",
    "        tex += \"$A^*=\"+latex(AA).replace(\"[\",\"(\").replace(\"]\",\")\")+r\"\\sim\"+latex(AAs).replace(\"[\",\"(\").replace(\"]\",\")\")\n",
    "        tex += r\"\\to \"+\", \".join([latex(s[0])+\"=\"+latex(s[1]) for s in list(zip(l_incognitas,sol))])\n",
    "        tex +=\"$\"\n",
    "        display_latex(tex,raw=True)\n",
    "     \n",
    "    if minversa == True :\n",
    "        print(\"**Método de la matríz inversa**\")\n",
    "        print(\"- - - - - - - - - - - - - - - \")\n",
    "        tex =r\"$A^{-1}=\"+latex(A.inv()).replace(\"[\",\"(\").replace(\"]\",\")\")+r\" \\to \"\n",
    "        tex += r\" X=A^{-1}\\cdot b\"\n",
    "        tex += r\" =\"+latex(A.inv()).replace(\"[\",\"(\").replace(\"]\",\")\")+r\"\\cdot \"+latex(b).replace(\"[\",\"(\").replace(\"]\",\")\")\n",
    "        tex += r\" =\"+latex((A.inv()*b).applyfunc(simplify)).replace(\"[\",\"(\").replace(\"]\",\")\")+r\"$\"      \n",
    "        display_latex(tex,raw=True)\n",
    "    if cramer == True :\n",
    "        sol=[]\n",
    "        print(\"**Por Cramer**\")\n",
    "        print(\"- - - - - - - -\")\n",
    "        for i, var in enumerate(l_incognitas):\n",
    "            AA.col_swap(i,3)\n",
    "            sol.append([var,AA[:,:-1],nsimplify(AA[:,:-1].det()),simplify(A.det()),simplify(AA[:,:-1].det())/A.det()])\n",
    "            tex = r\"$\"+latex(sol[i][0])+r\"=\\frac{\"+latex(sol[i][1]).replace('[','|').replace(']','|')+r\"}{\"+latex(sol[i][3])+r\"}=\\frac{\"+latex(sol[i][2])+r\"}{\"+latex(sol[i][3])+r\"}=\"+latex(sol[i][4])+r\"$\"\n",
    "            display_latex(tex,raw=True)\n",
    "            AA.col_swap(i,3)\n",
    "       \n",
    "\n",
    "        \n",
    "        \n",
    "        \n",
    "        \n",
    "        \n",
    "    \n",
    "def sistema_parametro(sist, param=k) :\n",
    "    \"\"\"\n",
    "    Discute los diferentes sistemas que aparecen según el parámetro \n",
    "    \"\"\"\n",
    "    d=dict()\n",
    "    solucion_md, solucion_latex = [], []\n",
    "    \n",
    "  \n",
    "    \n",
    "    l_incognitas = lista_incognitas(sist, param)   \n",
    "#     print(l_incognitas)\n",
    "#     print(param)\n",
    "    n_incognitas = len(l_incognitas)\n",
    "    \n",
    "    \n",
    "    \n",
    "    A, b = linear_eq_to_matrix(sist,l_incognitas)\n",
    "    AA = A.row_join(b)\n",
    "    AAs = AA.LUdecomposition()[1].applyfunc(nsimplify).applyfunc(simplify)\n",
    "    \n",
    "    \n",
    "    print(\"Discusión y resolución del sistema:\")\n",
    "    display_latex(sistema_a_latex(sist),raw=True)\n",
    "    print(\"-----------------------------------------------------------\")\n",
    "#     display_latex(\"$\"+latex(A).replace(\"[\",\"(\").replace(\"]\",\")\")+\"$\",raw=True)\n",
    "#     display_latex(\"$\"+latex(AA).replace(\"[\",\"(\").replace(\"]\",\")\")+r\"\\sim\"+latex(AAs).replace(\"[\",\"(\").replace(\"]\",\")\")+\"$\",raw=True)\n",
    "\n",
    "#     display_latex(\"$\"+latex(A).replace(\"[\",\"|\").replace(\"]\",\"|\")+\"=\"+latex(A.det())+\"$\",raw=True)\n",
    "\n",
    "\n",
    "\n",
    "    # Valores donde existe la inversa:   \n",
    "    display_latex(\"$\"+latex(A).replace(\"[\",\"|\").replace(\"]\",\"|\")+\"=\"+latex(factor(A.det()))+\"$\",raw=True)\n",
    "    display_latex(r\"* Si $\"+latex(param)+r\" \\neq \"+\", \".join(list(map(str,solve(A.det()))))+r\"\\to |A| \\neq 0 \\to \\exists A^{-1}$.\", raw=True)\n",
    "    \n",
    "#     pprint(linsolve(sist,l_incognitas)) \n",
    "    sistema_solucion(sist,l_incognitas)\n",
    "        \n",
    "    # Donde no hay inversa    \n",
    "    for i in solve(A.det()):\n",
    "        display_latex(r\"* No tiene inversa en $\"+str(param)+r\"=\"+str(i)+\"$\",raw=True)\n",
    "#         display_latex(r\"Si $\"+str(param)+r\"=\"+str(i)+\"$: \",raw=True)\n",
    "#         display_latex(\"$\"+latex(A.subs(param,i)).replace(\"[\",\"(\").replace(\"]\",\")\")+\"$\",raw=True)\n",
    "#         display_latex(\"$\"+latex(AA.subs(param,i)).replace(\"[\",\"(\").replace(\"]\",\")\")+\"$\",raw=True)\n",
    "#         display_latex(\"$\"+latex(AAs.subs(param,i)).replace(\"[\",\"(\").replace(\"]\",\")\")+\"$\",raw=True)\n",
    "#         display_latex(\"$\"+latex(A.subs(param,i)).replace(\"[\",\"|\").replace(\"]\",\"|\")+\"=\"+latex(A.subs(param,i).det())+\"$\",raw=True)\n",
    "#         pprint(linsolve(S(str(sist).replace(str(k),str(i))),l_incognitas))\n",
    "        sistema_solucion(S(str(sist).replace(str(param),str(i))),l_incognitas)\n",
    "        \n",
    "  \n",
    "    \n",
    "    d['solucion_latex']=solucion_latex\n",
    "    d['solucion_markdown']=solucion_md\n",
    "    \n",
    "    return(d)\n",
    "\n",
    "\n",
    "sistemas = [\n",
    "#         [[Eq(k*x+(k**2+1)*y+k*z,k),Eq(x+k*y+z,0),Eq(x+(k+1)*y+k**2*z,2*k-1)],k],\n",
    "#     [[Eq(m*x + m*z + y*(m**2 + 1), m), Eq(m*y + x + z, 0), Eq(m**2*z + x + y*(m + 1), 2*m - 1)],m],\n",
    "                [[Eq(-3*x+2*y+3*z,-2),Eq(2*x+k*y-5*z,-4),Eq(x+y+2*z,2)],k],\n",
    "#            [[Eq(k*x + y + z , k),Eq(x + k*y + z , k), Eq(x + y + k*z , k)],k],\n",
    "#     [[Eq(x + y + z , k + 2),Eq(x - k*y + z , 1),Eq(k*x + y + z , 4)],k],\n",
    "#     [[Eq(x-2*y+3*z,-3),Eq(2*x+y,2), Eq(-x-8*y+9*z,3)],h],\n",
    "]\n",
    "\n",
    "for s in sistemas :\n",
    "    sist, par = s\n",
    "    print(\"===============================================================\")\n",
    "    sistema_parametro(sist,param=par)\n",
    "\n"
   ]
  },
  {
   "cell_type": "code",
   "execution_count": 5,
   "metadata": {},
   "outputs": [
    {
     "data": {
      "image/png": "[encoded data removed]",
      "text/latex": [
       "$\\displaystyle \\left[ x, \\  y, \\  z\\right]$"
      ],
      "text/plain": [
       "[x, y, z]"
      ]
     },
     "execution_count": 5,
     "metadata": {},
     "output_type": "execute_result"
    }
   ],
   "source": [
    "l=[x,z,y]\n",
    "# l=list(map(str,l)).sort()\n",
    "l=list(map(str,l))\n",
    "l.sort(reverse=False)\n",
    "list(map(S,l))"
   ]
  },
  {
   "cell_type": "code",
   "execution_count": 6,
   "metadata": {
    "colab": {
     "base_uri": "https://localhost:8080/"
    },
    "id": "tTZ57LHhAmxY",
    "outputId": "0485871d-6488-43be-dad7-f61cb89b722f"
   },
   "outputs": [
    {
     "name": "stdout",
     "output_type": "stream",
     "text": [
      "[x - 2⋅y + 3⋅z = -3, 2⋅x + y = 2, -x - 8⋅y + 9⋅z = 3]\n"
     ]
    },
    {
     "data": {
      "text/latex": [
       "$$\\left\\{ \\begin{matrix}x - 2 y + 3 z = -3 \\\\ 2 x + y = 2 \\\\ - x - 8 y + 9 z = 3 \\\\ \\end{matrix}\\right.$$"
      ]
     },
     "metadata": {},
     "output_type": "display_data"
    },
    {
     "data": {
      "text/plain": [
       "'$$\\\\left\\\\{ \\\\begin{matrix}x - 2 y + 3 z = -3 \\\\\\\\ 2 x + y = 2 \\\\\\\\ - x - 8 y + 9 z = 3 \\\\\\\\ \\\\end{matrix}\\\\right.$$'"
      ]
     },
     "metadata": {},
     "output_type": "display_data"
    },
    {
     "name": "stdout",
     "output_type": "stream",
     "text": [
      "⎡⎡1   -2  3⎤     ⎡1   -2  3  -3⎤     ⎡1  -2  3   -3⎤        ⎤\n",
      "⎢⎢         ⎥     ⎢             ⎥     ⎢             ⎥        ⎥\n",
      "⎢⎢2   1   0⎥, 2, ⎢2   1   0  2 ⎥, 3, ⎢0  5   -6  8 ⎥, (3, 3)⎥\n",
      "⎢⎢         ⎥     ⎢             ⎥     ⎢             ⎥        ⎥\n",
      "⎣⎣-1  -8  9⎦     ⎣-1  -8  9  3 ⎦     ⎣0  0   0   16⎦        ⎦\n",
      "∅\n",
      "[]\n",
      "[x - 2⋅y + z = 0, x + y - 2⋅z = -3, -2⋅x + 5⋅y - z = 5, 3⋅x - 2⋅y + z = 2]\n"
     ]
    },
    {
     "data": {
      "text/latex": [
       "$$\\left\\{ \\begin{matrix}x - 2 y + z = 0 \\\\ x + y - 2 z = -3 \\\\ - 2 x + 5 y - z = 5 \\\\ 3 x - 2 y + z = 2 \\\\ \\end{matrix}\\right.$$"
      ]
     },
     "metadata": {},
     "output_type": "display_data"
    },
    {
     "data": {
      "text/plain": [
       "'$$\\\\left\\\\{ \\\\begin{matrix}x - 2 y + z = 0 \\\\\\\\ x + y - 2 z = -3 \\\\\\\\ - 2 x + 5 y - z = 5 \\\\\\\\ 3 x - 2 y + z = 2 \\\\\\\\ \\\\end{matrix}\\\\right.$$'"
      ]
     },
     "metadata": {},
     "output_type": "display_data"
    },
    {
     "name": "stdout",
     "output_type": "stream",
     "text": [
      "⎡⎡1   -2  1 ⎤     ⎡1   -2  1   0 ⎤     ⎡1  -2  1   0 ⎤        ⎤\n",
      "⎢⎢          ⎥     ⎢              ⎥     ⎢             ⎥        ⎥\n",
      "⎢⎢1   1   -2⎥     ⎢1   1   -2  -3⎥     ⎢0  3   -3  -3⎥        ⎥\n",
      "⎢⎢          ⎥, 3, ⎢              ⎥, 3, ⎢             ⎥, (4, 3)⎥\n",
      "⎢⎢-2  5   -1⎥     ⎢-2  5   -1  5 ⎥     ⎢0  0   2   6 ⎥        ⎥\n",
      "⎢⎢          ⎥     ⎢              ⎥     ⎢             ⎥        ⎥\n",
      "⎣⎣3   -2  1 ⎦     ⎣3   -2  1   2 ⎦     ⎣0  0   0   0 ⎦        ⎦\n",
      "{(1, 2, 3)}\n",
      "{x: 1, y: 2, z: 3}\n",
      "[3⋅t + x - y + 2⋅z = 1, t + 2⋅x + 3⋅y - z = -3, t + x + y + z = 0]\n"
     ]
    },
    {
     "data": {
      "text/latex": [
       "$$\\left\\{ \\begin{matrix}3 t + x - y + 2 z = 1 \\\\ t + 2 x + 3 y - z = -3 \\\\ t + x + y + z = 0 \\\\ \\end{matrix}\\right.$$"
      ]
     },
     "metadata": {},
     "output_type": "display_data"
    },
    {
     "data": {
      "text/plain": [
       "'$$\\\\left\\\\{ \\\\begin{matrix}3 t + x - y + 2 z = 1 \\\\\\\\ t + 2 x + 3 y - z = -3 \\\\\\\\ t + x + y + z = 0 \\\\\\\\ \\\\end{matrix}\\\\right.$$'"
      ]
     },
     "metadata": {},
     "output_type": "display_data"
    },
    {
     "name": "stdout",
     "output_type": "stream",
     "text": [
      "⎡⎡1  -1  2 ⎤     ⎡1  -1  2   1 - 3⋅t⎤     ⎡1  -1  2   1 - 3⋅t⎤        ⎤\n",
      "⎢⎢         ⎥     ⎢                  ⎥     ⎢                  ⎥        ⎥\n",
      "⎢⎢2  3   -1⎥, 3, ⎢2  3   -1  -t - 3 ⎥, 3, ⎢0  5   -5  5⋅t - 5⎥, (3, 3)⎥\n",
      "⎢⎢         ⎥     ⎢                  ⎥     ⎢                  ⎥        ⎥\n",
      "⎣⎣1  1   1 ⎦     ⎣1  1   1     -t   ⎦     ⎣0  0   1      1   ⎦        ⎦\n",
      "{(-2⋅t - 1, t, 1)}\n",
      "{t: y, x: -2⋅y - 1, z: 1}\n",
      "[x - y + 2⋅z = 1 - 3⋅t, 2⋅x + 3⋅y - z = -t - 3, x + y + z = -t]\n"
     ]
    },
    {
     "data": {
      "text/latex": [
       "$$\\left\\{ \\begin{matrix}x - y + 2 z = 1 - 3 t \\\\ 2 x + 3 y - z = - t - 3 \\\\ x + y + z = - t \\\\ \\end{matrix}\\right.$$"
      ]
     },
     "metadata": {},
     "output_type": "display_data"
    },
    {
     "data": {
      "text/plain": [
       "'$$\\\\left\\\\{ \\\\begin{matrix}x - y + 2 z = 1 - 3 t \\\\\\\\ 2 x + 3 y - z = - t - 3 \\\\\\\\ x + y + z = - t \\\\\\\\ \\\\end{matrix}\\\\right.$$'"
      ]
     },
     "metadata": {},
     "output_type": "display_data"
    },
    {
     "name": "stdout",
     "output_type": "stream",
     "text": [
      "⎡⎡1  -1  2 ⎤     ⎡1  -1  2   1 - 3⋅t⎤     ⎡1  -1  2   1 - 3⋅t⎤        ⎤\n",
      "⎢⎢         ⎥     ⎢                  ⎥     ⎢                  ⎥        ⎥\n",
      "⎢⎢2  3   -1⎥, 3, ⎢2  3   -1  -t - 3 ⎥, 3, ⎢0  5   -5  5⋅t - 5⎥, (3, 3)⎥\n",
      "⎢⎢         ⎥     ⎢                  ⎥     ⎢                  ⎥        ⎥\n",
      "⎣⎣1  1   1 ⎦     ⎣1  1   1     -t   ⎦     ⎣0  0   1      1   ⎦        ⎦\n",
      "{(-2⋅t - 1, t, 1)}\n",
      "{t: y, x: -2⋅y - 1, z: 1}\n"
     ]
    }
   ],
   "source": [
    "# p14.e1\n",
    "\n",
    "sistemas = [\n",
    "            [Eq(x-2*y+3*z,-3),Eq(2*x+y,2), Eq(-x-8*y+9*z,3)],\n",
    "            [Eq(x-2*y+z,0), Eq(x+y-2*z,-3),Eq(-2*x+5*y-z,5), Eq(3*x-2*y+z,2)],\n",
    "            [Eq(x-y+2*z+3*t,1), Eq(2*x+3*y-z+t,-3),Eq(x+y+z+t,0)],\n",
    "            [Eq(x-y+2*z,1-3*t), Eq(2*x+3*y-z,-3-t),Eq(x+y+z,-t)]\n",
    "           ]\n",
    "\n",
    "for sist in sistemas:\n",
    "  pprint(sist)\n",
    "  display_latex(\"$\"+sistema_a_latex(sist)+\"$\",raw=True)\n",
    "  display(\"$\"+sistema_a_latex(sist)+\"$\")  \n",
    "  A, b = linear_eq_to_matrix(sist,[x,y,z])\n",
    "  AA = A.row_join(b)\n",
    "  #pprint(linear_eq_to_matrix(sist,[x,y,z]))\n",
    "  pprint([A,A.rank(),AA,AA.rank(),  AA.LUdecomposition()[1],A.shape])\n",
    "  #pprint([A.LUdecomposition(),A.LUsolve(b)])\n",
    "  pprint(linsolve(sist,[x,y,z]))\n",
    "  pprint(solve(sist))"
   ]
  },
  {
   "cell_type": "code",
   "execution_count": 7,
   "metadata": {
    "colab": {
     "base_uri": "https://localhost:8080/"
    },
    "id": "tTZ57LHhAmxY",
    "outputId": "0485871d-6488-43be-dad7-f61cb89b722f"
   },
   "outputs": [
    {
     "name": "stdout",
     "output_type": "stream",
     "text": [
      "[x - 2⋅y + 3⋅z = -3, x + y + z = 0, 2⋅x + 5⋅y + 9⋅z = 3]\n"
     ]
    },
    {
     "data": {
      "text/latex": [
       "$$\\left\\{ \\begin{matrix}x - 2 y + 3 z = -3 \\\\ x + y + z = 0 \\\\ 2 x + 5 y + 9 z = 3 \\\\ \\end{matrix}\\right.$$"
      ]
     },
     "metadata": {},
     "output_type": "display_data"
    },
    {
     "data": {
      "text/plain": [
       "'$$\\\\left\\\\{ \\\\begin{matrix}x - 2 y + 3 z = -3 \\\\\\\\ x + y + z = 0 \\\\\\\\ 2 x + 5 y + 9 z = 3 \\\\\\\\ \\\\end{matrix}\\\\right.$$'"
      ]
     },
     "metadata": {},
     "output_type": "display_data"
    },
    {
     "name": "stdout",
     "output_type": "stream",
     "text": [
      "⎡⎡1  -2  3⎤     ⎡1  -2  3  -3⎤     ⎡1  -2  3   -3⎤        ⎤\n",
      "⎢⎢        ⎥     ⎢            ⎥     ⎢             ⎥        ⎥\n",
      "⎢⎢1  1   1⎥, 3, ⎢1  1   1  0 ⎥, 3, ⎢0  3   -2  3 ⎥, (3, 3)⎥\n",
      "⎢⎢        ⎥     ⎢            ⎥     ⎢             ⎥        ⎥\n",
      "⎣⎣2  5   9⎦     ⎣2  5   9  3 ⎦     ⎣0  0   9   0 ⎦        ⎦\n",
      "{(-1, 1, 0)}\n",
      "{x: -1, y: 1, z: 0}\n",
      "[-x - y - z = -1, 5⋅x + y + 2⋅z = -3, 4⋅x + 2⋅y + z = 0]\n"
     ]
    },
    {
     "data": {
      "text/latex": [
       "$$\\left\\{ \\begin{matrix}- x - y - z = -1 \\\\ 5 x + y + 2 z = -3 \\\\ 4 x + 2 y + z = 0 \\\\ \\end{matrix}\\right.$$"
      ]
     },
     "metadata": {},
     "output_type": "display_data"
    },
    {
     "data": {
      "text/plain": [
       "'$$\\\\left\\\\{ \\\\begin{matrix}- x - y - z = -1 \\\\\\\\ 5 x + y + 2 z = -3 \\\\\\\\ 4 x + 2 y + z = 0 \\\\\\\\ \\\\end{matrix}\\\\right.$$'"
      ]
     },
     "metadata": {},
     "output_type": "display_data"
    },
    {
     "name": "stdout",
     "output_type": "stream",
     "text": [
      "⎡⎡-1  -1  -1⎤     ⎡-1  -1  -1  -1⎤     ⎡-1  -1   -1   -1⎤        ⎤\n",
      "⎢⎢          ⎥     ⎢              ⎥     ⎢                ⎥        ⎥\n",
      "⎢⎢5   1   2 ⎥, 3, ⎢5   1   2   -3⎥, 3, ⎢0   -4   -3   -8⎥, (3, 3)⎥\n",
      "⎢⎢          ⎥     ⎢              ⎥     ⎢                ⎥        ⎥\n",
      "⎣⎣4   2   1 ⎦     ⎣4   2   1   0 ⎦     ⎣0   0   -3/2  0 ⎦        ⎦\n",
      "{(-1, 2, 0)}\n",
      "{x: -1, y: 2, z: 0}\n"
     ]
    }
   ],
   "source": [
    "# p14.e2\n",
    "\n",
    "sistemas = [\n",
    "            [Eq(x-2*y+3*z,-3),Eq(x+y+z,0), Eq(2*x+5*y+9*z,3)],\n",
    "    [Eq(-x-y-z,-1),Eq(5*x+y+2*z,-3), Eq(4*x+2*y+z,0)],\n",
    "           ]\n",
    "\n",
    "for sist in sistemas:\n",
    "  pprint(sist)\n",
    "  display_latex(\"$\"+sistema_a_latex(sist)+\"$\",raw=True)\n",
    "  display(\"$\"+sistema_a_latex(sist)+\"$\")  \n",
    "  A, b = linear_eq_to_matrix(sist,[x,y,z])\n",
    "  AA = A.row_join(b)\n",
    "  #pprint(linear_eq_to_matrix(sist,[x,y,z]))\n",
    "  pprint([A,A.rank(),AA,AA.rank(),  AA.LUdecomposition()[1],A.shape])\n",
    "  #pprint([A.LUdecomposition(),A.LUsolve(b)])\n",
    "  pprint(linsolve(sist,[x,y,z]))\n",
    "  pprint(solve(sist))"
   ]
  },
  {
   "cell_type": "code",
   "execution_count": 8,
   "metadata": {},
   "outputs": [
    {
     "data": {
      "text/latex": [
       "$x^2+3$"
      ]
     },
     "metadata": {},
     "output_type": "display_data"
    }
   ],
   "source": [
    "\n",
    "display_latex(\"$x^2+3$\",raw=True)"
   ]
  },
  {
   "cell_type": "code",
   "execution_count": 9,
   "metadata": {
    "colab": {
     "base_uri": "https://localhost:8080/",
     "height": 329
    },
    "id": "Es3ghpxpSch7",
    "outputId": "2c44717d-5de6-435e-a384-2cab23aa106b"
   },
   "outputs": [
    {
     "name": "stdout",
     "output_type": "stream",
     "text": [
      "[2⋅x - y + 3⋅z = -3, x + y + z = 0, 2⋅x + 5⋅y + z = 3]\n"
     ]
    },
    {
     "data": {
      "text/latex": [
       "$$\\left\\{ \\begin{matrix}2 x - y + 3 z = -3 \\\\ x + y + z = 0 \\\\ 2 x + 5 y + z = 3 \\\\ \\end{matrix}\\right.$$"
      ]
     },
     "metadata": {},
     "output_type": "display_data"
    },
    {
     "name": "stdout",
     "output_type": "stream",
     "text": [
      "⎡⎡2  -1  3⎤     ⎡2  -1  3  -3⎤     ⎡2  -1    3    -3 ⎤        ⎤\n",
      "⎢⎢        ⎥     ⎢            ⎥     ⎢                 ⎥        ⎥\n",
      "⎢⎢1  1   1⎥, 2, ⎢1  1   1  0 ⎥, 2, ⎢0  3/2  -1/2  3/2⎥, (3, 3)⎥\n",
      "⎢⎢        ⎥     ⎢            ⎥     ⎢                 ⎥        ⎥\n",
      "⎣⎣2  5   1⎦     ⎣2  5   1  3 ⎦     ⎣0   0    0     0 ⎦        ⎦\n",
      "⎧⎛  4⋅z      z       ⎞⎫\n",
      "⎨⎜- ─── - 1, ─ + 1, z⎟⎬\n",
      "⎩⎝   3       3       ⎠⎭\n",
      "⎧     4⋅z         z    ⎫\n",
      "⎨x: - ─── - 1, y: ─ + 1⎬\n",
      "⎩      3          3    ⎭\n",
      "[-x - y - z = -1, 5⋅x + y + 2⋅z = -3, 4⋅x + 2⋅y + z = 0]\n"
     ]
    },
    {
     "data": {
      "text/latex": [
       "$$\\left\\{ \\begin{matrix}- x - y - z = -1 \\\\ 5 x + y + 2 z = -3 \\\\ 4 x + 2 y + z = 0 \\\\ \\end{matrix}\\right.$$"
      ]
     },
     "metadata": {},
     "output_type": "display_data"
    },
    {
     "name": "stdout",
     "output_type": "stream",
     "text": [
      "⎡⎡-1  -1  -1⎤     ⎡-1  -1  -1  -1⎤     ⎡-1  -1   -1   -1⎤        ⎤\n",
      "⎢⎢          ⎥     ⎢              ⎥     ⎢                ⎥        ⎥\n",
      "⎢⎢5   1   2 ⎥, 3, ⎢5   1   2   -3⎥, 3, ⎢0   -4   -3   -8⎥, (3, 3)⎥\n",
      "⎢⎢          ⎥     ⎢              ⎥     ⎢                ⎥        ⎥\n",
      "⎣⎣4   2   1 ⎦     ⎣4   2   1   0 ⎦     ⎣0   0   -3/2  0 ⎦        ⎦\n",
      "{(-1, 2, 0)}\n",
      "{x: -1, y: 2, z: 0}\n",
      "[3⋅x + 5⋅y - 8⋅z = 2, 5⋅x + 3⋅y - 8⋅z = 2, -8⋅x + 5⋅y + 3⋅z = 2]\n"
     ]
    },
    {
     "data": {
      "text/latex": [
       "$$\\left\\{ \\begin{matrix}3 x + 5 y - 8 z = 2 \\\\ 5 x + 3 y - 8 z = 2 \\\\ - 8 x + 5 y + 3 z = 2 \\\\ \\end{matrix}\\right.$$"
      ]
     },
     "metadata": {},
     "output_type": "display_data"
    },
    {
     "name": "stdout",
     "output_type": "stream",
     "text": [
      "⎡⎡3   5  -8⎤     ⎡3   5  -8  2⎤     ⎡3    5     -8    2  ⎤        ⎤\n",
      "⎢⎢         ⎥     ⎢            ⎥     ⎢                    ⎥        ⎥\n",
      "⎢⎢5   3  -8⎥, 2, ⎢5   3  -8  2⎥, 3, ⎢0  -16/3  16/3  -4/3⎥, (3, 3)⎥\n",
      "⎢⎢         ⎥     ⎢            ⎥     ⎢                    ⎥        ⎥\n",
      "⎣⎣-8  5  3 ⎦     ⎣-8  5  3   2⎦     ⎣0    0     0    11/4⎦        ⎦\n",
      "∅\n",
      "[]\n"
     ]
    }
   ],
   "source": [
    "# p14.e2\n",
    "\n",
    "sistemas = [[Eq(2*x-y+3*z,-3),Eq(x+y+z,0), Eq(2*x+5*y+z,3)],\n",
    "            [Eq(-x-y-z,-1),Eq(5*x+y+2*z,-3), Eq(4*x+2*y+z,0)],\n",
    "            [Eq(3*x+5*y-8*z,2),Eq(5*x+3*y-8*z,2), Eq(-8*x+5*y+3*z,2)],\n",
    "           ]\n",
    "\n",
    "for sist in sistemas:\n",
    "  pprint(sist)\n",
    "  display_latex(\"$\"+sistema_a_latex(sist)+\"$\",raw=True)  \n",
    "  A, b = linear_eq_to_matrix(sist,[x,y,z])\n",
    "  AA = A.row_join(b)\n",
    "  #pprint(linear_eq_to_matrix(sistema,[x,y,z]))\n",
    "  pprint([A,A.rank(),AA,AA.rank(),  AA.LUdecomposition()[1] ,A.shape])\n",
    "#   pprint([A.LUdecomposition(),A.LUsolve(b)])\n",
    "  pprint(linsolve(sist,[x,y,z]))\n",
    "  pprint(solve(sist))\n",
    "  "
   ]
  },
  {
   "cell_type": "code",
   "execution_count": 10,
   "metadata": {
    "colab": {
     "base_uri": "https://localhost:8080/",
     "height": 899
    },
    "id": "OkeFOR-6Ta-Y",
    "outputId": "bf9a87e4-5e23-4cee-9597-1fe279eae7b2"
   },
   "outputs": [
    {
     "name": "stdout",
     "output_type": "stream",
     "text": [
      "[2⋅x + 4⋅y + 5⋅z = 1, x + 3⋅y + 3⋅z = -1, 3⋅x + 3⋅y + 2⋅z = 2]\n"
     ]
    },
    {
     "data": {
      "text/latex": [
       "$$\\left\\{ \\begin{matrix}2 x + 4 y + 5 z = 1 \\\\ x + 3 y + 3 z = -1 \\\\ 3 x + 3 y + 2 z = 2 \\\\ \\end{matrix}\\right.$$"
      ]
     },
     "metadata": {},
     "output_type": "display_data"
    },
    {
     "name": "stdout",
     "output_type": "stream",
     "text": [
      "⎡⎡2  4  5⎤     ⎡3/8   -7/8  3/8 ⎤  ⎡2  4  5  1 ⎤           ⎤\n",
      "⎢⎢       ⎥     ⎢                ⎥  ⎢           ⎥           ⎥\n",
      "⎢⎢1  3  3⎥, 3, ⎢-7/8  11/8  1/8 ⎥, ⎢1  3  3  -1⎥, 3, (3, 3)⎥\n",
      "⎢⎢       ⎥     ⎢                ⎥  ⎢           ⎥           ⎥\n",
      "⎣⎣3  3  2⎦     ⎣3/4   -3/4  -1/4⎦  ⎣3  3  2  2 ⎦           ⎦\n",
      "⎡⎛⎡ 1   0   0⎤  ⎡2  4   5 ⎤    ⎞  ⎡2 ⎤⎤\n",
      "⎢⎜⎢          ⎥  ⎢         ⎥    ⎟  ⎢  ⎥⎥\n",
      "⎢⎜⎢1/2  1   0⎥, ⎢0  1  1/2⎥, []⎟, ⎢-2⎥⎥\n",
      "⎢⎜⎢          ⎥  ⎢         ⎥    ⎟  ⎢  ⎥⎥\n",
      "⎣⎝⎣3/2  -3  1⎦  ⎣0  0  -4 ⎦    ⎠  ⎣1 ⎦⎦\n",
      "{(2, -2, 1)}\n",
      "{x: 2, y: -2, z: 1}\n",
      "⎡2 ⎤\n",
      "⎢  ⎥\n",
      "⎢-2⎥\n",
      "⎢  ⎥\n",
      "⎣1 ⎦\n",
      "{x: 2, y: -2, z: 1}\n",
      "Delta_i, A.det, s_i\n",
      "[-16, -8, 2]\n",
      "Delta_i, A.det, s_i\n",
      "[16, -8, -2]\n",
      "Delta_i, A.det, s_i\n",
      "[-8, -8, 1]\n",
      "[x + y + z = 2, x + 2⋅y - 3⋅z = 8, 2⋅x - 2⋅y + 2⋅z = -4]\n"
     ]
    },
    {
     "data": {
      "text/latex": [
       "$$\\left\\{ \\begin{matrix}x + y + z = 2 \\\\ x + 2 y - 3 z = 8 \\\\ 2 x - 2 y + 2 z = -4 \\\\ \\end{matrix}\\right.$$"
      ]
     },
     "metadata": {},
     "output_type": "display_data"
    },
    {
     "name": "stdout",
     "output_type": "stream",
     "text": [
      "⎡⎡1  1   1 ⎤     ⎡1/8  1/4   5/16 ⎤  ⎡1  1   1   2 ⎤           ⎤\n",
      "⎢⎢         ⎥     ⎢                ⎥  ⎢             ⎥           ⎥\n",
      "⎢⎢1  2   -3⎥, 3, ⎢1/2   0    -1/4 ⎥, ⎢1  2   -3  8 ⎥, 3, (3, 3)⎥\n",
      "⎢⎢         ⎥     ⎢                ⎥  ⎢             ⎥           ⎥\n",
      "⎣⎣2  -2  2 ⎦     ⎣3/8  -1/4  -1/16⎦  ⎣2  -2  2   -4⎦           ⎦\n",
      "⎡⎛⎡1  0   0⎤  ⎡1  1   1 ⎤    ⎞  ⎡1 ⎤⎤\n",
      "⎢⎜⎢        ⎥  ⎢         ⎥    ⎟  ⎢  ⎥⎥\n",
      "⎢⎜⎢1  1   0⎥, ⎢0  1  -4 ⎥, []⎟, ⎢2 ⎥⎥\n",
      "⎢⎜⎢        ⎥  ⎢         ⎥    ⎟  ⎢  ⎥⎥\n",
      "⎣⎝⎣2  -4  1⎦  ⎣0  0  -16⎦    ⎠  ⎣-1⎦⎦\n",
      "{(1, 2, -1)}\n",
      "{x: 1, y: 2, z: -1}\n",
      "⎡1 ⎤\n",
      "⎢  ⎥\n",
      "⎢2 ⎥\n",
      "⎢  ⎥\n",
      "⎣-1⎦\n",
      "{x: 1, y: 2, z: -1}\n",
      "Delta_i, A.det, s_i\n",
      "[-16, -16, 1]\n",
      "Delta_i, A.det, s_i\n",
      "[-32, -16, 2]\n",
      "Delta_i, A.det, s_i\n",
      "[16, -16, -1]\n"
     ]
    }
   ],
   "source": [
    "# p14.e3y4\n",
    "\n",
    "sistemas = [[Eq(2*x+4*y+5*z,1),Eq(x+3*y+3*z,-1), Eq(3*x+3*y+2*z,2)],\n",
    "            [Eq(x+y+z,2),Eq(x+2*y-3*z,8), Eq(2*x-2*y+2*z,-4)]\n",
    "           ]\n",
    "\n",
    "for sist in sistemas:\n",
    "  pprint(sist)\n",
    "  display_latex(\"$\"+sistema_a_latex(sist)+\"$\",raw=True)   \n",
    "  A, b = linear_eq_to_matrix(sist,[x,y,z])\n",
    "  AA = A.row_join(b)\n",
    "  #pprint(linear_eq_to_matrix(sistema,[x,y,z]))\n",
    "  pprint([A,A.rank(), A.inv(),AA,AA.rank(),A.shape])\n",
    "  pprint([A.LUdecomposition(),A.LUsolve(b)])\n",
    "  pprint(linsolve(sist,[x,y,z]))\n",
    "  pprint(solve(sist))\n",
    "  pprint(A.inv()*b)\n",
    "  pprint(solve_linear_system(AA,x,y,z))\n",
    "  #cramer\n",
    "  for i in range(A.shape[1]):\n",
    "    AA.col_swap(i,3)\n",
    "    pprint(\"Delta_i, A.det, s_i\")\n",
    "    pprint([AA[:,:-1].det(),A.det(),AA[:,:-1].det()/A.det()])\n",
    "    AA.col_swap(i,3)\n",
    "    #pprint(AA)\n"
   ]
  },
  {
   "cell_type": "code",
   "execution_count": 11,
   "metadata": {
    "colab": {
     "base_uri": "https://localhost:8080/",
     "height": 899
    },
    "id": "OkeFOR-6Ta-Y",
    "outputId": "bf9a87e4-5e23-4cee-9597-1fe279eae7b2"
   },
   "outputs": [
    {
     "name": "stdout",
     "output_type": "stream",
     "text": [
      "[2⋅x - y + z = 1, x - 2⋅y + 3⋅z = 4, x + y + 3⋅z = 0]\n"
     ]
    },
    {
     "data": {
      "text/latex": [
       "$$\\left\\{ \\begin{matrix}2 x - y + z = 1 \\\\ x - 2 y + 3 z = 4 \\\\ x + y + 3 z = 0 \\\\ \\end{matrix}\\right.$$"
      ]
     },
     "metadata": {},
     "output_type": "display_data"
    },
    {
     "name": "stdout",
     "output_type": "stream",
     "text": [
      "⎡⎡2  -1  1⎤     ⎡2  -1  1  1⎤           ⎤\n",
      "⎢⎢        ⎥     ⎢           ⎥           ⎥\n",
      "⎢⎢1  -2  3⎥, 3, ⎢1  -2  3  4⎥, 3, (3, 3)⎥\n",
      "⎢⎢        ⎥     ⎢           ⎥           ⎥\n",
      "⎣⎣1  1   3⎦     ⎣1  1   3  0⎦           ⎦\n",
      "[5⋅x - 2⋅y + z = -1, -2⋅x + y - 3⋅z = 4, 3⋅x - y - 2⋅z = 0]\n"
     ]
    },
    {
     "data": {
      "text/latex": [
       "$$\\left\\{ \\begin{matrix}5 x - 2 y + z = -1 \\\\ - 2 x + y - 3 z = 4 \\\\ 3 x - y - 2 z = 0 \\\\ \\end{matrix}\\right.$$"
      ]
     },
     "metadata": {},
     "output_type": "display_data"
    },
    {
     "name": "stdout",
     "output_type": "stream",
     "text": [
      "⎡⎡5   -2  1 ⎤     ⎡5   -2  1   -1⎤           ⎤\n",
      "⎢⎢          ⎥     ⎢              ⎥           ⎥\n",
      "⎢⎢-2  1   -3⎥, 2, ⎢-2  1   -3  4 ⎥, 3, (3, 3)⎥\n",
      "⎢⎢          ⎥     ⎢              ⎥           ⎥\n",
      "⎣⎣3   -1  -2⎦     ⎣3   -1  -2  0 ⎦           ⎦\n",
      "[3⋅x + 2⋅y - z = 1, -2⋅x + 3⋅y - 2⋅z = -1, -2⋅x + 5⋅y = 0]\n"
     ]
    },
    {
     "data": {
      "text/latex": [
       "$$\\left\\{ \\begin{matrix}3 x + 2 y - z = 1 \\\\ - 2 x + 3 y - 2 z = -1 \\\\ - 2 x + 5 y = 0 \\\\ \\end{matrix}\\right.$$"
      ]
     },
     "metadata": {},
     "output_type": "display_data"
    },
    {
     "name": "stdout",
     "output_type": "stream",
     "text": [
      "⎡⎡3   2  -1⎤     ⎡3   2  -1  1 ⎤           ⎤\n",
      "⎢⎢         ⎥     ⎢             ⎥           ⎥\n",
      "⎢⎢-2  3  -2⎥, 3, ⎢-2  3  -2  -1⎥, 3, (3, 3)⎥\n",
      "⎢⎢         ⎥     ⎢             ⎥           ⎥\n",
      "⎣⎣-2  5  0 ⎦     ⎣-2  5  0   0 ⎦           ⎦\n",
      "[2⋅x - 3⋅y + z = 0, x + 2⋅y - z = 0, 4⋅x + y - z = 0]\n"
     ]
    },
    {
     "data": {
      "text/latex": [
       "$$\\left\\{ \\begin{matrix}2 x - 3 y + z = 0 \\\\ x + 2 y - z = 0 \\\\ 4 x + y - z = 0 \\\\ \\end{matrix}\\right.$$"
      ]
     },
     "metadata": {},
     "output_type": "display_data"
    },
    {
     "name": "stdout",
     "output_type": "stream",
     "text": [
      "⎡⎡2  -3  1 ⎤     ⎡2  -3  1   0⎤           ⎤\n",
      "⎢⎢         ⎥     ⎢            ⎥           ⎥\n",
      "⎢⎢1  2   -1⎥, 2, ⎢1  2   -1  0⎥, 2, (3, 3)⎥\n",
      "⎢⎢         ⎥     ⎢            ⎥           ⎥\n",
      "⎣⎣4  1   -1⎦     ⎣4  1   -1  0⎦           ⎦\n"
     ]
    }
   ],
   "source": [
    "# p14.e1bis\n",
    "\n",
    "sistemas = [[Eq(2*x-y+z,1),Eq(x-2*y+3*z,4), Eq(x+y+3*z,0)],\n",
    "            [Eq(5*x-2*y+z,-1),Eq(-2*x+y-3*z,4), Eq(3*x-y-2*z,0)],\n",
    "            [Eq(3*x+2*y-z,1),Eq(-2*x+3*y-2*z,-1),Eq(x+5*y-3*x,0)],\n",
    "            [Eq(2*x-3*y+z,0),Eq(x+2*y-z,0),Eq(4*x+y-z,0)]\n",
    "           ]\n",
    "\n",
    "for sist in sistemas:\n",
    "  pprint(sist)\n",
    "  display_latex(\"$\"+sistema_a_latex(sist)+\"$\",raw=True)   \n",
    "  A, b = linear_eq_to_matrix(sist,[x,y,z])\n",
    "  AA = A.row_join(b)\n",
    "  pprint([A,A.rank(),AA,AA.rank(),A.shape])"
   ]
  },
  {
   "cell_type": "code",
   "execution_count": 12,
   "metadata": {
    "colab": {
     "base_uri": "https://localhost:8080/",
     "height": 899
    },
    "id": "OkeFOR-6Ta-Y",
    "outputId": "bf9a87e4-5e23-4cee-9597-1fe279eae7b2",
    "scrolled": true
   },
   "outputs": [
    {
     "name": "stdout",
     "output_type": "stream",
     "text": [
      "[x + 2⋅y + z = 0, 2⋅x + y + 2⋅z = 1, 5⋅x + 7⋅y + 5⋅z = 1]\n"
     ]
    },
    {
     "data": {
      "text/latex": [
       "$$\\left\\{ \\begin{matrix}x + 2 y + z = 0 \\\\ 2 x + y + 2 z = 1 \\\\ 5 x + 7 y + 5 z = 1 \\\\ \\end{matrix}\\right.$$"
      ]
     },
     "metadata": {},
     "output_type": "display_data"
    },
    {
     "name": "stdout",
     "output_type": "stream",
     "text": [
      "⎡⎡1  2  1⎤     ⎡1  2  1  0⎤             ⎡1  2   1  0⎤⎤\n",
      "⎢⎢       ⎥     ⎢          ⎥             ⎢           ⎥⎥\n",
      "⎢⎢2  1  2⎥, 2, ⎢2  1  2  1⎥, 2, (3, 3), ⎢0  -3  0  1⎥⎥\n",
      "⎢⎢       ⎥     ⎢          ⎥             ⎢           ⎥⎥\n",
      "⎣⎣5  7  5⎦     ⎣5  7  5  1⎦             ⎣0  0   0  0⎦⎦\n",
      "{(2/3 - z, -1/3, z)}\n",
      "[3⋅x + 2⋅y + z = 4, -2⋅x + 3⋅y + 2⋅z = 4, x + 5⋅y + 3⋅z = 1, -4⋅x + 6⋅y + 4⋅z \n",
      "= -3]\n"
     ]
    },
    {
     "data": {
      "text/latex": [
       "$$\\left\\{ \\begin{matrix}3 x + 2 y + z = 4 \\\\ - 2 x + 3 y + 2 z = 4 \\\\ x + 5 y + 3 z = 1 \\\\ - 4 x + 6 y + 4 z = -3 \\\\ \\end{matrix}\\right.$$"
      ]
     },
     "metadata": {},
     "output_type": "display_data"
    },
    {
     "name": "stdout",
     "output_type": "stream",
     "text": [
      "⎡⎡3   2  1⎤     ⎡3   2  1  4 ⎤             ⎡3   2     1    4  ⎤⎤\n",
      "⎢⎢        ⎥     ⎢            ⎥             ⎢                  ⎥⎥\n",
      "⎢⎢-2  3  2⎥     ⎢-2  3  2  4 ⎥             ⎢0  13/3  8/3  20/3⎥⎥\n",
      "⎢⎢        ⎥, 2, ⎢            ⎥, 3, (4, 3), ⎢                  ⎥⎥\n",
      "⎢⎢1   5  3⎥     ⎢1   5  3  1 ⎥             ⎢0   0     0    -7 ⎥⎥\n",
      "⎢⎢        ⎥     ⎢            ⎥             ⎢                  ⎥⎥\n",
      "⎣⎣-4  6  4⎦     ⎣-4  6  4  -3⎦             ⎣0   0     0    0  ⎦⎦\n",
      "∅\n",
      "[x + 2⋅y + 3⋅z = 2, 3⋅x + 2⋅y + 2⋅z = 2, x - y + 4⋅z = 1, 2⋅x + y - z = 3]\n"
     ]
    },
    {
     "data": {
      "text/latex": [
       "$$\\left\\{ \\begin{matrix}x + 2 y + 3 z = 2 \\\\ 3 x + 2 y + 2 z = 2 \\\\ x - y + 4 z = 1 \\\\ 2 x + y - z = 3 \\\\ \\end{matrix}\\right.$$"
      ]
     },
     "metadata": {},
     "output_type": "display_data"
    },
    {
     "name": "stdout",
     "output_type": "stream",
     "text": [
      "⎡                                           ⎡1  2    3    2 ⎤⎤\n",
      "⎢⎡1  2   3 ⎤     ⎡1  2   3   2⎤             ⎢               ⎥⎥\n",
      "⎢⎢         ⎥     ⎢            ⎥             ⎢0  -4   -7   -4⎥⎥\n",
      "⎢⎢3  2   2 ⎥     ⎢3  2   2   2⎥             ⎢               ⎥⎥\n",
      "⎢⎢         ⎥, 3, ⎢            ⎥, 4, (4, 3), ⎢0  0   25/4  2 ⎥⎥\n",
      "⎢⎢1  -1  4 ⎥     ⎢1  -1  4   1⎥             ⎢               ⎥⎥\n",
      "⎢⎢         ⎥     ⎢            ⎥             ⎢             64⎥⎥\n",
      "⎢⎣2  1   -1⎦     ⎣2  1   -1  3⎦             ⎢0  0    0    ──⎥⎥\n",
      "⎣                                           ⎣             25⎦⎦\n",
      "∅\n"
     ]
    }
   ],
   "source": [
    "# p14.e2bis\n",
    "\n",
    "sistemas = [[Eq(x+2*y+z,0),Eq(2*x+y+2*z,1), Eq(5*x+7*y+5*z,1)],\n",
    "            [Eq(3*x+2*y+z,4),Eq(-2*x+3*y+2*z,4), Eq(x+5*y+3*z,1),Eq(-4*x+6*y+4*z,-3)],\n",
    "            [Eq(x+2*y+3*z,2),Eq(3*x+2*y+2*z,2),Eq(x-y+4*z,1),Eq(2*x+y-z,3)],\n",
    "           ]\n",
    "\n",
    "for sist in sistemas:\n",
    "  pprint(sist)\n",
    "  display_latex(\"$\"+sistema_a_latex(sist)+\"$\",raw=True)   \n",
    "  A, b = linear_eq_to_matrix(sist,[x,y,z])\n",
    "  AA = A.row_join(b)\n",
    "  pprint([A,A.rank(),AA,AA.rank(),A.shape, AA.LUdecomposition()[1]])\n",
    "  pprint(linsolve(sist,[x,y,z]))  \n",
    "#   if A.rank() == AA.rank() :\n",
    "#         pprint(linsolve(sist,[x,y,z]))"
   ]
  },
  {
   "cell_type": "code",
   "execution_count": 13,
   "metadata": {
    "colab": {
     "base_uri": "https://localhost:8080/",
     "height": 899
    },
    "id": "OkeFOR-6Ta-Y",
    "outputId": "bf9a87e4-5e23-4cee-9597-1fe279eae7b2"
   },
   "outputs": [
    {
     "name": "stdout",
     "output_type": "stream",
     "text": [
      "[y + z = 1, x + y - 3⋅z = 8, x - 2⋅y = -1]\n"
     ]
    },
    {
     "data": {
      "text/latex": [
       "$$\\left\\{ \\begin{matrix}y + z = 1 \\\\ x + y - 3 z = 8 \\\\ x - 2 y = -1 \\\\ \\end{matrix}\\right.$$"
      ]
     },
     "metadata": {},
     "output_type": "display_data"
    },
    {
     "name": "stdout",
     "output_type": "stream",
     "text": [
      "⎡⎡0  1   1 ⎤     ⎡0  1   1   1 ⎤             ⎡1  1  -3  8 ⎤    ⎤\n",
      "⎢⎢         ⎥     ⎢             ⎥             ⎢            ⎥    ⎥\n",
      "⎢⎢1  1   -3⎥, 3, ⎢1  1   -3  8 ⎥, 3, (3, 3), ⎢0  1  1   1 ⎥, -6⎥\n",
      "⎢⎢         ⎥     ⎢             ⎥             ⎢            ⎥    ⎥\n",
      "⎣⎣1  -2  0 ⎦     ⎣1  -2  0   -1⎦             ⎣0  0  6   -6⎦    ⎦\n",
      "{(3, 2, -1)}\n",
      "[2⋅x + 3⋅y + z = 1, 2⋅x + 2⋅y + z = 1, 4⋅x + 5⋅y + 2⋅z = 2]\n"
     ]
    },
    {
     "data": {
      "text/latex": [
       "$$\\left\\{ \\begin{matrix}2 x + 3 y + z = 1 \\\\ 2 x + 2 y + z = 1 \\\\ 4 x + 5 y + 2 z = 2 \\\\ \\end{matrix}\\right.$$"
      ]
     },
     "metadata": {},
     "output_type": "display_data"
    },
    {
     "name": "stdout",
     "output_type": "stream",
     "text": [
      "⎡⎡2  3  1⎤     ⎡2  3  1  1⎤             ⎡2  3   1  1⎤   ⎤\n",
      "⎢⎢       ⎥     ⎢          ⎥             ⎢           ⎥   ⎥\n",
      "⎢⎢2  2  1⎥, 2, ⎢2  2  1  1⎥, 2, (3, 3), ⎢0  -1  0  0⎥, 0⎥\n",
      "⎢⎢       ⎥     ⎢          ⎥             ⎢           ⎥   ⎥\n",
      "⎣⎣4  5  2⎦     ⎣4  5  2  2⎦             ⎣0  0   0  0⎦   ⎦\n",
      "⎧⎛1   z      ⎞⎫\n",
      "⎨⎜─ - ─, 0, z⎟⎬\n",
      "⎩⎝2   2      ⎠⎭\n"
     ]
    }
   ],
   "source": [
    "# p14.e3bis\n",
    "\n",
    "sistemas = [[Eq(y+z,1),Eq(x+y-3*z,8), Eq(x-2*y,-1)],\n",
    "            [Eq(2*x+3*y+z,1),Eq(2*x+2*y+z,1), Eq(4*x+5*y+2*z,2)]\n",
    "           ]\n",
    "\n",
    "for sist in sistemas:\n",
    "  pprint(sist)\n",
    "  display_latex(\"$\"+sistema_a_latex(sist)+\"$\",raw=True)   \n",
    "  A, b = linear_eq_to_matrix(sist,[x,y,z])\n",
    "  AA = A.row_join(b)\n",
    "  #pprint(linear_eq_to_matrix(sistema,[x,y,z]))\n",
    "  pprint([A,A.rank(),AA,AA.rank(),A.shape,AA.LUdecomposition()[1],A.det()])\n",
    "  pprint(linsolve(sist,[x,y,z]))\n",
    "#   pprint(solve(sist))\n",
    "#   pprint(A.inv()*b)\n",
    "#   pprint(solve_linear_system(AA,x,y,z))\n",
    "#   #cramer\n",
    "#   for i in range(A.shape[1]):\n",
    "#     AA.col_swap(i,3)\n",
    "#     pprint(\"Delta_i, A.det, s_i\")\n",
    "#     pprint([AA[:,:-1].det(),A.det(),AA[:,:-1].det()/A.det()])\n",
    "#     AA.col_swap(i,3)\n",
    "#     #pprint(AA)\n"
   ]
  },
  {
   "cell_type": "code",
   "execution_count": 14,
   "metadata": {},
   "outputs": [
    {
     "data": {
      "text/latex": [
       "$$\\left\\{ \\begin{matrix}- 3 x + 2 y + 3 z = -2 \\\\ k y + 2 x - 5 z = -4 \\\\ x + y + 2 z = 2 \\\\ \\end{matrix}\\right.$$"
      ]
     },
     "metadata": {},
     "output_type": "display_data"
    },
    {
     "name": "stdout",
     "output_type": "stream",
     "text": [
      "Discusión y resolución por Gauss:\n",
      "⎡-3     2          3             -2       ⎤\n",
      "⎢                                         ⎥\n",
      "⎢0   k + 4/3      -3            -16/3     ⎥\n",
      "⎢                                         ⎥\n",
      "⎢                    5     4        80    ⎥\n",
      "⎢0      0     3 + ───────  ─ + ───────────⎥\n",
      "⎣                 k + 4/3  3   9⋅(k + 4/3)⎦\n",
      "det(A)=-9*k - 27\n",
      "⎡       5     4        80    ⎤\n",
      "⎢3 + ───────, ─ + ───────────⎥\n",
      "⎣    k + 4/3  3   9⋅(k + 4/3)⎦\n",
      "-3\n",
      "Si k = -3 --> 0z=-4 -->S.I\n",
      "si k <> [-3]  --> S.C.D.\n",
      "⎡10⋅k + 26   -4    4⋅k + 32⎤\n",
      "⎢─────────, ─────, ────────⎥\n",
      "⎣ 9⋅k + 27  k + 3  9⋅k + 27⎦\n",
      "⎡⎛   10⋅k + 26                ⎞  ⎛    -4                           ⎞  ⎛   4⋅k \n",
      "⎢⎜x, ─────────, [-3  2  3  -2]⎟, ⎜y, ─────, [0  k + 4/3  -3  -16/3]⎟, ⎜z, ────\n",
      "⎣⎝    9⋅k + 27                ⎠  ⎝   k + 3                         ⎠  ⎝   9⋅k \n",
      "\n",
      "+ 32  ⎡             5     4        80    ⎤⎞⎤\n",
      "────, ⎢0  0  3 + ───────  ─ + ───────────⎥⎟⎥\n",
      "+ 27  ⎣          k + 4/3  3   9⋅(k + 4/3)⎦⎠⎦\n",
      "Matrix([[0, 0, 3 + 5/(k + 4/3), 4/3 + 80/(9*(k + 4/3))]]) --> z = (4*k + 32)/(\n",
      "9*k + 27)\n",
      "Matrix([[0, k + 4/3, -3, -16/3]]) --> y = -4/(k + 3)\n",
      "Matrix([[-3, 2, 3, -2]]) --> x = (10*k + 26)/(9*k + 27)\n",
      "Por rangos y determinantes:\n",
      "⎡-3  2   3 ⎤\n",
      "⎢          ⎥\n",
      "⎢2   -3  -5⎥\n",
      "⎢          ⎥\n",
      "⎣1   1   2 ⎦\n",
      "2\n",
      "3\n",
      "Si k = -3 --> S.I.\n",
      "Si k <> [-3] --> Rango(A)=Rango(A)=3 --> S.C.D.\n",
      "Por Cramer:\n",
      "Delta_i, A.det, solucion_latex_i : \n",
      "⎡   ⎡-2  2  3 ⎤                                     ⎤\n",
      "⎢   ⎢         ⎥                         2⋅(5⋅k + 13)⎥\n",
      "⎢x, ⎢-4  k  -5⎥, -10⋅k - 26, -9⋅k - 27, ────────────⎥\n",
      "⎢   ⎢         ⎥                          9⋅(k + 3)  ⎥\n",
      "⎣   ⎣2   1  2 ⎦                                     ⎦\n",
      "Delta_i, A.det, solucion_latex_i : \n",
      "⎡   ⎡-3  -2  3 ⎤                      ⎤\n",
      "⎢   ⎢          ⎥                  -4  ⎥\n",
      "⎢y, ⎢2   -4  -5⎥, 36, -9⋅k - 27, ─────⎥\n",
      "⎢   ⎢          ⎥                 k + 3⎥\n",
      "⎣   ⎣1   2   2 ⎦                      ⎦\n",
      "Delta_i, A.det, solucion_latex_i : \n",
      "⎡   ⎡-3  2  -2⎤                                 ⎤\n",
      "⎢   ⎢         ⎥                        4⋅(k + 8)⎥\n",
      "⎢z, ⎢2   k  -4⎥, -4⋅k - 32, -9⋅k - 27, ─────────⎥\n",
      "⎢   ⎢         ⎥                        9⋅(k + 3)⎥\n",
      "⎣   ⎣1   1  2 ⎦                                 ⎦\n",
      "\\textbf{Discusión y resolución por Gauss:} Escalonando la matriz ampliada tenemos\\\\$A^*= \\left(\\begin{matrix}-3 & 2 & 3 & -2\\\\2 & k & -5 & -4\\\\1 & 1 & 2 & 2\\end{matrix}\\right) \\thicksim \\left(\\begin{matrix}-3 & 2 & 3 & -2\\\\0 & k + \\frac{4}{3} & -3 & - \\frac{16}{3}\\\\0 & 0 & 3 + \\frac{5}{k + \\frac{4}{3}} & \\frac{4}{3} + \\frac{80}{9 \\left(k + \\frac{4}{3}\\right)}\\end{matrix}\\right)$. \\\\  De los valores de la última fila podemos concluir:\\begin{itemize}\\item Si $k = -3 \\to$ $$\\left(\\begin{matrix}-3 & 2 & 3 & -2\\\\0 & - \\frac{5}{3} & -3 & - \\frac{16}{3}\\\\0 & 0 & 0 & -4\\end{matrix}\\right)$$ La última fila es $0z=-4 \\to $ S.I.\\item si $k\\neq [-3]  \\to $ S.C.D.\\begin{itemize}\\item $\\left(\\begin{matrix}0 & 0 & 3 + \\frac{5}{k + \\frac{4}{3}} & \\frac{4}{3} + \\frac{80}{9 \\left(k + \\frac{4}{3}\\right)}\\end{matrix}\\right) \\to z = \\frac{4 k + 32}{9 k + 27}$\\end{itemize}\\begin{itemize}\\item $\\left(\\begin{matrix}0 & k + \\frac{4}{3} & -3 & - \\frac{16}{3}\\end{matrix}\\right) \\to y = - \\frac{4}{k + 3}$\\end{itemize}\\begin{itemize}\\item $\\left(\\begin{matrix}-3 & 2 & 3 & -2\\end{matrix}\\right) \\to x = \\frac{10 k + 26}{9 k + 27}$\\end{itemize}\\end{itemize}  \\textbf{Por rangos y determinantes:} \\\\$\\left|A\\right|=\\left|\\begin{matrix}-3 & 2 & 3\\\\2 & k & -5\\\\1 & 1 & 2\\end{matrix}\\right|=- 9 k - 27 \\to \\left|A\\right|=0 \\quad si \\quad k = \\left[ -3\\right]$\\begin{itemize}\\item Si $k=-3 \\to rg(A)=2 \\land rg(A^*)=3 \\to $ S.I.\\item Si $k \\neq[-3] \\to rg(A)=3 \\land rg(A^*)=3 \\to $ S.C.D.  \\\\  \\\\ Por Cramer: \\begin{itemize}\\item $x=\\frac{\\left|\\begin{matrix}-2 & 2 & 3\\\\-4 & k & -5\\\\2 & 1 & 2\\end{matrix}\\right|}{- 9 k - 27}=\\frac{- 10 k - 26}{- 9 k - 27}=\\frac{2 \\left(5 k + 13\\right)}{9 \\left(k + 3\\right)}$\\item $y=\\frac{\\left|\\begin{matrix}-3 & -2 & 3\\\\2 & -4 & -5\\\\1 & 2 & 2\\end{matrix}\\right|}{- 9 k - 27}=\\frac{36}{- 9 k - 27}=- \\frac{4}{k + 3}$\\item $z=\\frac{\\left|\\begin{matrix}-3 & 2 & -2\\\\2 & k & -4\\\\1 & 1 & 2\\end{matrix}\\right|}{- 9 k - 27}=\\frac{- 4 k - 32}{- 9 k - 27}=\\frac{4 \\left(k + 8\\right)}{9 \\left(k + 3\\right)}$\\end{itemize}\\end{itemize}\n"
     ]
    },
    {
     "data": {
      "text/latex": [
       "$$\\left\\{ \\begin{matrix}k x + y + z = k \\\\ k y + x + z = k \\\\ k z + x + y = k \\\\ \\end{matrix}\\right.$$"
      ]
     },
     "metadata": {},
     "output_type": "display_data"
    },
    {
     "name": "stdout",
     "output_type": "stream",
     "text": [
      "Discusión y resolución por Gauss:\n",
      "⎡1    k            1                   k          ⎤\n",
      "⎢                                                 ⎥\n",
      "⎢        2                             2          ⎥\n",
      "⎢0  1 - k        1 - k              - k  + k      ⎥\n",
      "⎢                                                 ⎥\n",
      "⎢                      2               ⎛   2    ⎞ ⎥\n",
      "⎢               (1 - k)       -(1 - k)⋅⎝- k  + k⎠ ⎥\n",
      "⎢0    0     k - ──────── - 1  ────────────────────⎥\n",
      "⎢                     2                   2       ⎥\n",
      "⎣                1 - k               1 - k        ⎦\n",
      "det(A)=k**3 - 3*k + 2\n",
      "⎡           2               ⎛   2    ⎞ ⎤\n",
      "⎢    (1 - k)       -(1 - k)⋅⎝- k  + k⎠ ⎥\n",
      "⎢k - ──────── - 1, ────────────────────⎥\n",
      "⎢          2                   2       ⎥\n",
      "⎣     1 - k               1 - k        ⎦\n",
      "-2\n",
      "Si k = -2 --> 0z=-6 -->S.I\n",
      "si k <> [-2]  --> S.C.D.\n",
      "⎡  k      k      k  ⎤\n",
      "⎢─────, ─────, ─────⎥\n",
      "⎣k + 2  k + 2  k + 2⎦\n",
      "⎡                                                                    ⎛        \n",
      "⎢⎛     k                ⎞  ⎛     k    ⎡        2            2    ⎤⎞  ⎜     k  \n",
      "⎢⎜x, ─────, [1  k  1  k]⎟, ⎜y, ─────, ⎣0  1 - k   1 - k  - k  + k⎦⎟, ⎜z, ─────\n",
      "⎢⎝   k + 2              ⎠  ⎝   k + 2                              ⎠  ⎜   k + 2\n",
      "⎣                                                                    ⎝        \n",
      "\n",
      "  ⎡                 2               ⎛   2    ⎞ ⎤⎞⎤\n",
      "  ⎢          (1 - k)       -(1 - k)⋅⎝- k  + k⎠ ⎥⎟⎥\n",
      ", ⎢0  0  k - ──────── - 1  ────────────────────⎥⎟⎥\n",
      "  ⎢                2                   2       ⎥⎟⎥\n",
      "  ⎣           1 - k               1 - k        ⎦⎠⎦\n",
      "Matrix([[0, 0, k - (1 - k)**2/(1 - k**2) - 1, -(1 - k)*(-k**2 + k)/(1 - k**2)]\n",
      "]) --> z = k/(k + 2)\n",
      "Matrix([[0, 1 - k**2, 1 - k, -k**2 + k]]) --> y = k/(k + 2)\n",
      "Matrix([[1, k, 1, k]]) --> x = k/(k + 2)\n",
      "Por rangos y determinantes:\n",
      "⎡-2  1   1 ⎤\n",
      "⎢          ⎥\n",
      "⎢1   -2  1 ⎥\n",
      "⎢          ⎥\n",
      "⎣1   1   -2⎦\n",
      "2\n",
      "3\n",
      "Si k = -2 --> S.I.\n",
      "⎡1  1  1⎤\n",
      "⎢       ⎥\n",
      "⎢1  1  1⎥\n",
      "⎢       ⎥\n",
      "⎣1  1  1⎦\n",
      "1\n",
      "1\n",
      "Si k = 1 --> S.C.I --> solo se puede resolver por Gauss, ver más arriba\n",
      "Si k <> [-2, 1] --> Rango(A)=Rango(A)=3 --> S.C.D.\n",
      "Por Cramer:\n",
      "Delta_i, A.det, solucion_latex_i : \n",
      "⎡   ⎡k  1  1⎤                                       ⎤\n",
      "⎢   ⎢       ⎥    ⎛ 2          ⎞   3              k  ⎥\n",
      "⎢x, ⎢k  k  1⎥, k⋅⎝k  - 2⋅k + 1⎠, k  - 3⋅k + 2, ─────⎥\n",
      "⎢   ⎢       ⎥                                  k + 2⎥\n",
      "⎣   ⎣k  1  k⎦                                       ⎦\n",
      "Delta_i, A.det, solucion_latex_i : \n",
      "⎡   ⎡k  k  1⎤                                       ⎤\n",
      "⎢   ⎢       ⎥    ⎛ 2          ⎞   3              k  ⎥\n",
      "⎢y, ⎢1  k  1⎥, k⋅⎝k  - 2⋅k + 1⎠, k  - 3⋅k + 2, ─────⎥\n",
      "⎢   ⎢       ⎥                                  k + 2⎥\n",
      "⎣   ⎣1  k  k⎦                                       ⎦\n",
      "Delta_i, A.det, solucion_latex_i : \n",
      "⎡   ⎡k  1  k⎤                                       ⎤\n",
      "⎢   ⎢       ⎥    ⎛ 2          ⎞   3              k  ⎥\n",
      "⎢z, ⎢1  k  k⎥, k⋅⎝k  - 2⋅k + 1⎠, k  - 3⋅k + 2, ─────⎥\n",
      "⎢   ⎢       ⎥                                  k + 2⎥\n",
      "⎣   ⎣1  1  k⎦                                       ⎦\n",
      "\\textbf{Discusión y resolución por Gauss:} Escalonando la matriz ampliada tenemos\\\\$A^*= \\left(\\begin{matrix}k & 1 & 1 & k\\\\1 & k & 1 & k\\\\1 & 1 & k & k\\end{matrix}\\right) \\thicksim \\left(\\begin{matrix}1 & k & 1 & k\\\\0 & 1 - k^{2} & 1 - k & - k^{2} + k\\\\0 & 0 & k - \\frac{\\left(1 - k\\right)^{2}}{1 - k^{2}} - 1 & - \\frac{\\left(1 - k\\right) \\left(- k^{2} + k\\right)}{1 - k^{2}}\\end{matrix}\\right)$. \\\\  De los valores de la última fila podemos concluir:\\begin{itemize}\\item Si $k = -2 \\to$ $$\\left(\\begin{matrix}1 & -2 & 1 & -2\\\\0 & -3 & 3 & -6\\\\0 & 0 & 0 & -6\\end{matrix}\\right)$$ La última fila es $0z=-6 \\to $ S.I.\\item si $k\\neq [-2]  \\to $ S.C.D.\\begin{itemize}\\item $\\left(\\begin{matrix}0 & 0 & k - \\frac{\\left(1 - k\\right)^{2}}{1 - k^{2}} - 1 & - \\frac{\\left(1 - k\\right) \\left(- k^{2} + k\\right)}{1 - k^{2}}\\end{matrix}\\right) \\to z = \\frac{k}{k + 2}$\\end{itemize}\\begin{itemize}\\item $\\left(\\begin{matrix}0 & 1 - k^{2} & 1 - k & - k^{2} + k\\end{matrix}\\right) \\to y = \\frac{k}{k + 2}$\\end{itemize}\\begin{itemize}\\item $\\left(\\begin{matrix}1 & k & 1 & k\\end{matrix}\\right) \\to x = \\frac{k}{k + 2}$\\end{itemize}\\end{itemize}  \\textbf{Por rangos y determinantes:} \\\\$\\left|A\\right|=\\left|\\begin{matrix}k & 1 & 1\\\\1 & k & 1\\\\1 & 1 & k\\end{matrix}\\right|=k^{3} - 3 k + 2 \\to \\left|A\\right|=0 \\quad si \\quad k = \\left[ -2, \\  1\\right]$\\begin{itemize}\\item Si $k=-2 \\to rg(A)=2 \\land rg(A^*)=3 \\to $ S.I.\\item Si $k=1 \\to rg(A)=1 \\land rg(A^*)=1 \\to $ S.C.I. $\\to$ solo se puede resolver por Gauss, (ver más arriba)\\item Si $k \\neq[-2, 1] \\to rg(A)=3 \\land rg(A^*)=3 \\to $ S.C.D.  \\\\  \\\\ Por Cramer: \\begin{itemize}\\item $x=\\frac{\\left|\\begin{matrix}k & 1 & 1\\\\k & k & 1\\\\k & 1 & k\\end{matrix}\\right|}{k^{3} - 3 k + 2}=\\frac{k \\left(k^{2} - 2 k + 1\\right)}{k^{3} - 3 k + 2}=\\frac{k}{k + 2}$\\item $y=\\frac{\\left|\\begin{matrix}k & k & 1\\\\1 & k & 1\\\\1 & k & k\\end{matrix}\\right|}{k^{3} - 3 k + 2}=\\frac{k \\left(k^{2} - 2 k + 1\\right)}{k^{3} - 3 k + 2}=\\frac{k}{k + 2}$\\item $z=\\frac{\\left|\\begin{matrix}k & 1 & k\\\\1 & k & k\\\\1 & 1 & k\\end{matrix}\\right|}{k^{3} - 3 k + 2}=\\frac{k \\left(k^{2} - 2 k + 1\\right)}{k^{3} - 3 k + 2}=\\frac{k}{k + 2}$\\end{itemize}\\end{itemize}\n"
     ]
    },
    {
     "data": {
      "text/latex": [
       "$$\\left\\{ \\begin{matrix}x + y + z = k + 2 \\\\ - k y + x + z = 1 \\\\ k x + y + z = 4 \\\\ \\end{matrix}\\right.$$"
      ]
     },
     "metadata": {},
     "output_type": "display_data"
    },
    {
     "name": "stdout",
     "output_type": "stream",
     "text": [
      "Discusión y resolución por Gauss:\n",
      "⎡1    1       1          k + 2       ⎤\n",
      "⎢                                    ⎥\n",
      "⎢0  -k - 1    0          -k - 1      ⎥\n",
      "⎢                                    ⎥\n",
      "⎣0    0     1 - k  -k⋅(k + 2) + k + 3⎦\n",
      "det(A)=k**2 - 1\n",
      "[1 - k, -k⋅(k + 2) + k + 3]\n",
      "1\n",
      "Si k = 1 --> 0z=1 -->S.I\n",
      "si k <> [1]  --> S.C.D.\n",
      "⎡           2        ⎤\n",
      "⎢2 - k     k  + k - 3⎥\n",
      "⎢─────, 1, ──────────⎥\n",
      "⎣k - 1       k - 1   ⎦\n",
      "⎡                                                              ⎛    2         \n",
      "⎢⎛   2 - k                  ⎞                                  ⎜   k  + k - 3 \n",
      "⎢⎜x, ─────, [1  1  1  k + 2]⎟, (y, 1, [0  -k - 1  0  -k - 1]), ⎜z, ──────────,\n",
      "⎣⎝   k - 1                  ⎠                                  ⎝     k - 1    \n",
      "\n",
      "                                  ⎞⎤\n",
      "                                  ⎟⎥\n",
      " [0  0  1 - k  -k⋅(k + 2) + k + 3]⎟⎥\n",
      "                                  ⎠⎦\n",
      "Matrix([[0, 0, 1 - k, -k*(k + 2) + k + 3]]) --> z = (k**2 + k - 3)/(k - 1)\n",
      "Matrix([[0, -k - 1, 0, -k - 1]]) --> y = 1\n",
      "Matrix([[1, 1, 1, k + 2]]) --> x = (2 - k)/(k - 1)\n",
      "Por rangos y determinantes:\n",
      "⎡1   1  1⎤\n",
      "⎢        ⎥\n",
      "⎢1   1  1⎥\n",
      "⎢        ⎥\n",
      "⎣-1  1  1⎦\n",
      "2\n",
      "2\n",
      "Si k = -1 --> S.C.I --> solo se puede resolver por Gauss, ver más arriba\n",
      "⎡1  1   1⎤\n",
      "⎢        ⎥\n",
      "⎢1  -1  1⎥\n",
      "⎢        ⎥\n",
      "⎣1  1   1⎦\n",
      "2\n",
      "3\n",
      "Si k = 1 --> S.I.\n",
      "Si k <> [-1, 1] --> Rango(A)=Rango(A)=3 --> S.C.D.\n",
      "Por Cramer:\n",
      "Delta_i, A.det, solucion_latex_i : \n",
      "⎡   ⎡k + 2  1   1⎤                             ⎤\n",
      "⎢   ⎢            ⎥     2           2      2 - k⎥\n",
      "⎢x, ⎢  1    -k  1⎥, - k  + k + 2, k  - 1, ─────⎥\n",
      "⎢   ⎢            ⎥                        k - 1⎥\n",
      "⎣   ⎣  4    1   1⎦                             ⎦\n",
      "Delta_i, A.det, solucion_latex_i : \n",
      "⎡   ⎡1  k + 2  1⎤                   ⎤\n",
      "⎢   ⎢           ⎥   2       2       ⎥\n",
      "⎢y, ⎢1    1    1⎥, k  - 1, k  - 1, 1⎥\n",
      "⎢   ⎢           ⎥                   ⎥\n",
      "⎣   ⎣k    4    1⎦                   ⎦\n",
      "Delta_i, A.det, solucion_latex_i : \n",
      "⎡   ⎡1  1   k + 2⎤                                2        ⎤\n",
      "⎢   ⎢            ⎥   3      2             2      k  + k - 3⎥\n",
      "⎢z, ⎢1  -k    1  ⎥, k  + 2⋅k  - 2⋅k - 3, k  - 1, ──────────⎥\n",
      "⎢   ⎢            ⎥                                 k - 1   ⎥\n",
      "⎣   ⎣k  1     4  ⎦                                         ⎦\n",
      "\\textbf{Discusión y resolución por Gauss:} Escalonando la matriz ampliada tenemos\\\\$A^*= \\left(\\begin{matrix}1 & 1 & 1 & k + 2\\\\1 & - k & 1 & 1\\\\k & 1 & 1 & 4\\end{matrix}\\right) \\thicksim \\left(\\begin{matrix}1 & 1 & 1 & k + 2\\\\0 & - k - 1 & 0 & - k - 1\\\\0 & 0 & 1 - k & - k \\left(k + 2\\right) + k + 3\\end{matrix}\\right)$. \\\\  De los valores de la última fila podemos concluir:\\begin{itemize}\\item Si $k = 1 \\to$ $$\\left(\\begin{matrix}1 & 1 & 1 & 3\\\\0 & -2 & 0 & -2\\\\0 & 0 & 0 & 1\\end{matrix}\\right)$$ La última fila es $0z=1 \\to $ S.I.\\item si $k\\neq [1]  \\to $ S.C.D.\\begin{itemize}\\item $\\left(\\begin{matrix}0 & 0 & 1 - k & - k \\left(k + 2\\right) + k + 3\\end{matrix}\\right) \\to z = \\frac{k^{2} + k - 3}{k - 1}$\\end{itemize}\\begin{itemize}\\item $\\left(\\begin{matrix}0 & - k - 1 & 0 & - k - 1\\end{matrix}\\right) \\to y = 1$\\end{itemize}\\begin{itemize}\\item $\\left(\\begin{matrix}1 & 1 & 1 & k + 2\\end{matrix}\\right) \\to x = \\frac{2 - k}{k - 1}$\\end{itemize}\\end{itemize}  \\textbf{Por rangos y determinantes:} \\\\$\\left|A\\right|=\\left|\\begin{matrix}1 & 1 & 1\\\\1 & - k & 1\\\\k & 1 & 1\\end{matrix}\\right|=k^{2} - 1 \\to \\left|A\\right|=0 \\quad si \\quad k = \\left[ -1, \\  1\\right]$\\begin{itemize}\\item Si $k=-1 \\to rg(A)=2 \\land rg(A^*)=2 \\to $ S.C.I. $\\to$ solo se puede resolver por Gauss, (ver más arriba)\\item Si $k=1 \\to rg(A)=2 \\land rg(A^*)=3 \\to $ S.I.\\item Si $k \\neq[-1, 1] \\to rg(A)=3 \\land rg(A^*)=3 \\to $ S.C.D.  \\\\  \\\\ Por Cramer: \\begin{itemize}\\item $x=\\frac{\\left|\\begin{matrix}k + 2 & 1 & 1\\\\1 & - k & 1\\\\4 & 1 & 1\\end{matrix}\\right|}{k^{2} - 1}=\\frac{- k^{2} + k + 2}{k^{2} - 1}=\\frac{2 - k}{k - 1}$\\item $y=\\frac{\\left|\\begin{matrix}1 & k + 2 & 1\\\\1 & 1 & 1\\\\k & 4 & 1\\end{matrix}\\right|}{k^{2} - 1}=\\frac{k^{2} - 1}{k^{2} - 1}=1$\\item $z=\\frac{\\left|\\begin{matrix}1 & 1 & k + 2\\\\1 & - k & 1\\\\k & 1 & 4\\end{matrix}\\right|}{k^{2} - 1}=\\frac{k^{3} + 2 k^{2} - 2 k - 3}{k^{2} - 1}=\\frac{k^{2} + k - 3}{k - 1}$\\end{itemize}\\end{itemize}\n"
     ]
    },
    {
     "data": {
      "text/latex": [
       "$$\\left\\{ \\begin{matrix}k x + k z + y \\left(k^{2} + 1\\right) = k \\\\ k y + x + z = 0 \\\\ k^{2} z + x + y \\left(k + 1\\right) = 2 k - 1 \\\\ \\end{matrix}\\right.$$"
      ]
     },
     "metadata": {},
     "output_type": "display_data"
    },
    {
     "name": "stdout",
     "output_type": "stream",
     "text": [
      "Discusión y resolución por Gauss:\n",
      "⎡1  k    1       0  ⎤\n",
      "⎢                   ⎥\n",
      "⎢0  1    0       k  ⎥\n",
      "⎢                   ⎥\n",
      "⎢       2           ⎥\n",
      "⎣0  0  k  - 1  k - 1⎦\n",
      "det(A)=1 - k**2\n",
      "⎡ 2           ⎤\n",
      "⎣k  - 1, k - 1⎦\n",
      "-1\n",
      "Si k = -1 --> 0z=-2 -->S.I\n",
      "1\n",
      "Si k = 1 -->  0z=0 --> S.C.I\n",
      "[x + 2⋅y + z = 1, x + y + z = 0, x + 2⋅y + z = 1]\n",
      "[(x, -z - 1, [1  1  1  0]), (y, 1, [0  1  0  1]), (z, z, [0  0  0  0])]\n",
      "Matrix([[0, 0, 0, 0]]) --> z = z\n",
      "Matrix([[0, 1, 0, 1]]) --> y = 1\n",
      "Matrix([[1, 1, 1, 0]]) --> x = -z - 1\n",
      "si k <> [-1, 1]  --> S.C.D.\n",
      "⎡   3    2              ⎤\n",
      "⎢- k  - k  - 1       1  ⎥\n",
      "⎢─────────────, k, ─────⎥\n",
      "⎣    k + 1         k + 1⎦\n",
      "⎡⎛      3    2                  ⎞                                             \n",
      "⎢⎜   - k  - k  - 1              ⎟                        ⎛     1    ⎡       2 \n",
      "⎢⎜x, ─────────────, [1  k  1  0]⎟, (y, k, [0  1  0  k]), ⎜z, ─────, ⎣0  0  k  \n",
      "⎣⎝       k + 1                  ⎠                        ⎝   k + 1            \n",
      "\n",
      "            ⎤\n",
      "          ⎤⎞⎥\n",
      "- 1  k - 1⎦⎟⎥\n",
      "           ⎠⎦\n",
      "Matrix([[0, 0, k**2 - 1, k - 1]]) --> z = 1/(k + 1)\n",
      "Matrix([[0, 1, 0, k]]) --> y = k\n",
      "Matrix([[1, k, 1, 0]]) --> x = (-k**3 - k**2 - 1)/(k + 1)\n",
      "Por rangos y determinantes:\n",
      "⎡-1  2   -1⎤\n",
      "⎢          ⎥\n",
      "⎢1   -1  1 ⎥\n",
      "⎢          ⎥\n",
      "⎣1   0   1 ⎦\n",
      "2\n",
      "3\n",
      "Si k = -1 --> S.I.\n",
      "⎡1  2  1⎤\n",
      "⎢       ⎥\n",
      "⎢1  1  1⎥\n",
      "⎢       ⎥\n",
      "⎣1  2  1⎦\n",
      "2\n",
      "2\n",
      "Si k = 1 --> S.C.I --> solo se puede resolver por Gauss, ver más arriba\n",
      "Si k <> [-1, 1] --> Rango(A)=Rango(A)=3 --> S.C.D.\n",
      "Por Cramer:\n",
      "Delta_i, A.det, solucion_latex_i : \n",
      "⎡   ⎡          2        ⎤                                          ⎤\n",
      "⎢   ⎢   k     k  + 1  k ⎥                            ⎛ 3    2    ⎞ ⎥\n",
      "⎢   ⎢                   ⎥   4    2               2  -⎝k  + k  + 1⎠ ⎥\n",
      "⎢x, ⎢   0       k     1 ⎥, k  - k  + k - 1, 1 - k , ───────────────⎥\n",
      "⎢   ⎢                   ⎥                                k + 1     ⎥\n",
      "⎢   ⎢                  2⎥                                          ⎥\n",
      "⎣   ⎣2⋅k - 1  k + 1   k ⎦                                          ⎦\n",
      "Delta_i, A.det, solucion_latex_i : \n",
      "⎡   ⎡k     k     k ⎤                     ⎤\n",
      "⎢   ⎢              ⎥                     ⎥\n",
      "⎢   ⎢1     0     1 ⎥     3           2   ⎥\n",
      "⎢y, ⎢              ⎥, - k  + k, 1 - k , k⎥\n",
      "⎢   ⎢             2⎥                     ⎥\n",
      "⎣   ⎣1  2⋅k - 1  k ⎦                     ⎦\n",
      "Delta_i, A.det, solucion_latex_i : \n",
      "⎡   ⎡    2             ⎤                      ⎤\n",
      "⎢   ⎢k  k  + 1     k   ⎥                      ⎥\n",
      "⎢   ⎢                  ⎥              2    1  ⎥\n",
      "⎢z, ⎢1    k        0   ⎥, 1 - k, 1 - k , ─────⎥\n",
      "⎢   ⎢                  ⎥                 k + 1⎥\n",
      "⎣   ⎣1  k + 1   2⋅k - 1⎦                      ⎦\n",
      "\\textbf{Discusión y resolución por Gauss:} Escalonando la matriz ampliada tenemos\\\\$A^*= \\left(\\begin{matrix}k & k^{2} + 1 & k & k\\\\1 & k & 1 & 0\\\\1 & k + 1 & k^{2} & 2 k - 1\\end{matrix}\\right) \\thicksim \\left(\\begin{matrix}1 & k & 1 & 0\\\\0 & 1 & 0 & k\\\\0 & 0 & k^{2} - 1 & k - 1\\end{matrix}\\right)$. \\\\  De los valores de la última fila podemos concluir:\\begin{itemize}\\item Si $k = -1 \\to$ $$\\left(\\begin{matrix}1 & -1 & 1 & 0\\\\0 & 1 & 0 & -1\\\\0 & 0 & 0 & -2\\end{matrix}\\right)$$ La última fila es $0z=-2 \\to $ S.I.\\item Si $k = 1 \\to$ $$\\left(\\begin{matrix}1 & 1 & 1 & 0\\\\0 & 1 & 0 & 1\\\\0 & 0 & 0 & 0\\end{matrix}\\right)$$ La última fila es $0z=0 \\to $ S.C.I\\begin{itemize}\\item $\\left(\\begin{matrix}0 & 0 & 0 & 0\\end{matrix}\\right) \\to z = \\lambda$\\end{itemize}\\begin{itemize}\\item $\\left(\\begin{matrix}0 & 1 & 0 & 1\\end{matrix}\\right) \\to y = 1$\\end{itemize}\\begin{itemize}\\item $\\left(\\begin{matrix}1 & 1 & 1 & 0\\end{matrix}\\right) \\to x = - \\lambda - 1$\\end{itemize}\\item si $k\\neq [-1, 1]  \\to $ S.C.D.\\begin{itemize}\\item $\\left(\\begin{matrix}0 & 0 & k^{2} - 1 & k - 1\\end{matrix}\\right) \\to z = \\frac{1}{k + 1}$\\end{itemize}\\begin{itemize}\\item $\\left(\\begin{matrix}0 & 1 & 0 & k\\end{matrix}\\right) \\to y = k$\\end{itemize}\\begin{itemize}\\item $\\left(\\begin{matrix}1 & k & 1 & 0\\end{matrix}\\right) \\to x = \\frac{- k^{3} - k^{2} - 1}{k + 1}$\\end{itemize}\\end{itemize}  \\textbf{Por rangos y determinantes:} \\\\$\\left|A\\right|=\\left|\\begin{matrix}k & k^{2} + 1 & k\\\\1 & k & 1\\\\1 & k + 1 & k^{2}\\end{matrix}\\right|=1 - k^{2} \\to \\left|A\\right|=0 \\quad si \\quad k = \\left[ -1, \\  1\\right]$\\begin{itemize}\\item Si $k=-1 \\to rg(A)=2 \\land rg(A^*)=3 \\to $ S.I.\\item Si $k=1 \\to rg(A)=2 \\land rg(A^*)=2 \\to $ S.C.I. $\\to$ solo se puede resolver por Gauss, (ver más arriba)\\item Si $k \\neq[-1, 1] \\to rg(A)=3 \\land rg(A^*)=3 \\to $ S.C.D.  \\\\  \\\\ Por Cramer: \\begin{itemize}\\item $x=\\frac{\\left|\\begin{matrix}k & k^{2} + 1 & k\\\\0 & k & 1\\\\2 k - 1 & k + 1 & k^{2}\\end{matrix}\\right|}{1 - k^{2}}=\\frac{k^{4} - k^{2} + k - 1}{1 - k^{2}}=- \\frac{k^{3} + k^{2} + 1}{k + 1}$\\item $y=\\frac{\\left|\\begin{matrix}k & k & k\\\\1 & 0 & 1\\\\1 & 2 k - 1 & k^{2}\\end{matrix}\\right|}{1 - k^{2}}=\\frac{- k^{3} + k}{1 - k^{2}}=k$\\item $z=\\frac{\\left|\\begin{matrix}k & k^{2} + 1 & k\\\\1 & k & 0\\\\1 & k + 1 & 2 k - 1\\end{matrix}\\right|}{1 - k^{2}}=\\frac{1 - k}{1 - k^{2}}=\\frac{1}{k + 1}$\\end{itemize}\\end{itemize}\n"
     ]
    },
    {
     "data": {
      "text/latex": [
       "$$\\left\\{ \\begin{matrix}2 x - 5 y + 3 z = 0 \\\\ x - y + z = 0 \\\\ k y + 3 x + z = 0 \\\\ \\end{matrix}\\right.$$"
      ]
     },
     "metadata": {},
     "output_type": "display_data"
    },
    {
     "name": "stdout",
     "output_type": "stream",
     "text": [
      "Discusión y resolución por Gauss:\n",
      "⎡2  -5     3    0⎤\n",
      "⎢                ⎥\n",
      "⎢0  3/2  -1/2   0⎥\n",
      "⎢                ⎥\n",
      "⎢        k       ⎥\n",
      "⎢0   0   ─ - 1  0⎥\n",
      "⎣        3       ⎦\n",
      "det(A)=k - 3\n",
      "⎡k       ⎤\n",
      "⎢─ - 1, 0⎥\n",
      "⎣3       ⎦\n",
      "3\n",
      "Si k = 3 -->  0z=0 --> S.C.I\n",
      "[2⋅x - 5⋅y + 3⋅z = 0, x - y + z = 0, 3⋅x + 3⋅y + z = 0]\n",
      "⎡⎛   -2⋅z                ⎞  ⎛   z                   ⎞                      ⎤\n",
      "⎢⎜x, ─────, [2  -5  3  0]⎟, ⎜y, ─, [0  3/2  -1/2  0]⎟, (z, z, [0  0  0  0])⎥\n",
      "⎣⎝     3                 ⎠  ⎝   3                   ⎠                      ⎦\n",
      "Matrix([[0, 0, 0, 0]]) --> z = z\n",
      "Matrix([[0, 3/2, -1/2, 0]]) --> y = z/3\n",
      "Matrix([[2, -5, 3, 0]]) --> x = -2*z/3\n",
      "si k <> [3]  --> S.C.D.\n",
      "[0, 0, 0]\n",
      "⎡                                                  ⎛      ⎡      k       ⎤⎞⎤\n",
      "⎢(x, 0, [2  -5  3  0]), (y, 0, [0  3/2  -1/2  0]), ⎜z, 0, ⎢0  0  ─ - 1  0⎥⎟⎥\n",
      "⎣                                                  ⎝      ⎣      3       ⎦⎠⎦\n",
      "Matrix([[0, 0, k/3 - 1, 0]]) --> z = 0\n",
      "Matrix([[0, 3/2, -1/2, 0]]) --> y = 0\n",
      "Matrix([[2, -5, 3, 0]]) --> x = 0\n",
      "Por rangos y determinantes:\n",
      "⎡2  -5  3⎤\n",
      "⎢        ⎥\n",
      "⎢1  -1  1⎥\n",
      "⎢        ⎥\n",
      "⎣3  3   1⎦\n",
      "2\n",
      "2\n",
      "Si k = 3 --> S.C.I --> solo se puede resolver por Gauss, ver más arriba\n",
      "Si k <> [3] --> Rango(A)=Rango(A)=3 --> S.C.D.\n",
      "Por Cramer:\n",
      "Delta_i, A.det, solucion_latex_i : \n",
      "⎡   ⎡0  -5  3⎤             ⎤\n",
      "⎢   ⎢        ⎥             ⎥\n",
      "⎢x, ⎢0  -1  1⎥, 0, k - 3, 0⎥\n",
      "⎢   ⎢        ⎥             ⎥\n",
      "⎣   ⎣0  k   1⎦             ⎦\n",
      "Delta_i, A.det, solucion_latex_i : \n",
      "⎡   ⎡2  0  3⎤             ⎤\n",
      "⎢   ⎢       ⎥             ⎥\n",
      "⎢y, ⎢1  0  1⎥, 0, k - 3, 0⎥\n",
      "⎢   ⎢       ⎥             ⎥\n",
      "⎣   ⎣3  0  1⎦             ⎦\n",
      "Delta_i, A.det, solucion_latex_i : \n",
      "⎡   ⎡2  -5  0⎤             ⎤\n",
      "⎢   ⎢        ⎥             ⎥\n",
      "⎢z, ⎢1  -1  0⎥, 0, k - 3, 0⎥\n",
      "⎢   ⎢        ⎥             ⎥\n",
      "⎣   ⎣3  k   0⎦             ⎦\n",
      "\\textbf{Discusión y resolución por Gauss:} Escalonando la matriz ampliada tenemos\\\\$A^*= \\left(\\begin{matrix}2 & -5 & 3 & 0\\\\1 & -1 & 1 & 0\\\\3 & k & 1 & 0\\end{matrix}\\right) \\thicksim \\left(\\begin{matrix}2 & -5 & 3 & 0\\\\0 & \\frac{3}{2} & - \\frac{1}{2} & 0\\\\0 & 0 & \\frac{k}{3} - 1 & 0\\end{matrix}\\right)$. \\\\  De los valores de la última fila podemos concluir:\\begin{itemize}\\item Si $k = 3 \\to$ $$\\left(\\begin{matrix}2 & -5 & 3 & 0\\\\0 & \\frac{3}{2} & - \\frac{1}{2} & 0\\\\0 & 0 & 0 & 0\\end{matrix}\\right)$$ La última fila es $0z=0 \\to $ S.C.I\\begin{itemize}\\item $\\left(\\begin{matrix}0 & 0 & 0 & 0\\end{matrix}\\right) \\to z = \\lambda$\\end{itemize}\\begin{itemize}\\item $\\left(\\begin{matrix}0 & \\frac{3}{2} & - \\frac{1}{2} & 0\\end{matrix}\\right) \\to y = \\frac{\\lambda}{3}$\\end{itemize}\\begin{itemize}\\item $\\left(\\begin{matrix}2 & -5 & 3 & 0\\end{matrix}\\right) \\to x = - \\frac{2 \\lambda}{3}$\\end{itemize}\\item si $k\\neq [3]  \\to $ S.C.D.\\begin{itemize}\\item $\\left(\\begin{matrix}0 & 0 & \\frac{k}{3} - 1 & 0\\end{matrix}\\right) \\to z = 0$\\end{itemize}\\begin{itemize}\\item $\\left(\\begin{matrix}0 & \\frac{3}{2} & - \\frac{1}{2} & 0\\end{matrix}\\right) \\to y = 0$\\end{itemize}\\begin{itemize}\\item $\\left(\\begin{matrix}2 & -5 & 3 & 0\\end{matrix}\\right) \\to x = 0$\\end{itemize}\\end{itemize}  \\textbf{Por rangos y determinantes:} \\\\$\\left|A\\right|=\\left|\\begin{matrix}2 & -5 & 3\\\\1 & -1 & 1\\\\3 & k & 1\\end{matrix}\\right|=k - 3 \\to \\left|A\\right|=0 \\quad si \\quad k = \\left[ 3\\right]$\\begin{itemize}\\item Si $k=3 \\to rg(A)=2 \\land rg(A^*)=2 \\to $ S.C.I. $\\to$ solo se puede resolver por Gauss, (ver más arriba)\\item Si $k \\neq[3] \\to rg(A)=3 \\land rg(A^*)=3 \\to $ S.C.D.  \\\\  \\\\ Por Cramer: \\begin{itemize}\\item $x=\\frac{\\left|\\begin{matrix}0 & -5 & 3\\\\0 & -1 & 1\\\\0 & k & 1\\end{matrix}\\right|}{k - 3}=\\frac{0}{k - 3}=0$\\item $y=\\frac{\\left|\\begin{matrix}2 & 0 & 3\\\\1 & 0 & 1\\\\3 & 0 & 1\\end{matrix}\\right|}{k - 3}=\\frac{0}{k - 3}=0$\\item $z=\\frac{\\left|\\begin{matrix}2 & -5 & 0\\\\1 & -1 & 0\\\\3 & k & 0\\end{matrix}\\right|}{k - 3}=\\frac{0}{k - 3}=0$\\end{itemize}\\end{itemize}\n"
     ]
    },
    {
     "data": {
      "text/latex": [
       "$$\\left\\{ \\begin{matrix}k y + x - z = 0 \\\\ 12 x - 3 y - 2 z = 0 \\\\ x - 2 y + z = 0 \\\\ \\end{matrix}\\right.$$"
      ]
     },
     "metadata": {},
     "output_type": "display_data"
    },
    {
     "name": "stdout",
     "output_type": "stream",
     "text": [
      "Discusión y resolución por Gauss:\n",
      "⎡1      k            -1         0⎤\n",
      "⎢                                ⎥\n",
      "⎢0  -12⋅k - 3        10         0⎥\n",
      "⎢                                ⎥\n",
      "⎢                  10⋅(-k - 2)   ⎥\n",
      "⎢0      0      2 - ───────────  0⎥\n",
      "⎣                   -12⋅k - 3    ⎦\n",
      "det(A)=14 - 14*k\n",
      "⎡    10⋅(-k - 2)   ⎤\n",
      "⎢2 - ───────────, 0⎥\n",
      "⎣     -12⋅k - 3    ⎦\n",
      "1\n",
      "Si k = 1 -->  0z=0 --> S.C.I\n",
      "[x + y - z = 0, 12⋅x - 3⋅y - 2⋅z = 0, x - 2⋅y + z = 0]\n",
      "⎡⎛   z               ⎞  ⎛   2⋅z                 ⎞                      ⎤\n",
      "⎢⎜x, ─, [1  1  -1  0]⎟, ⎜y, ───, [0  -15  10  0]⎟, (z, z, [0  0  0  0])⎥\n",
      "⎣⎝   3               ⎠  ⎝    3                  ⎠                      ⎦\n",
      "Matrix([[0, 0, 0, 0]]) --> z = z\n",
      "Matrix([[0, -15, 10, 0]]) --> y = 2*z/3\n",
      "Matrix([[1, 1, -1, 0]]) --> x = z/3\n",
      "si k <> [1]  --> S.C.D.\n",
      "[0, 0, 0]\n",
      "⎡                                                      ⎛      ⎡          10⋅(-\n",
      "⎢(x, 0, [1  k  -1  0]), (y, 0, [0  -12⋅k - 3  10  0]), ⎜z, 0, ⎢0  0  2 - ─────\n",
      "⎣                                                      ⎝      ⎣           -12⋅\n",
      "\n",
      "k - 2)   ⎤⎞⎤\n",
      "──────  0⎥⎟⎥\n",
      "k - 3    ⎦⎠⎦\n",
      "Matrix([[0, 0, 2 - 10*(-k - 2)/(-12*k - 3), 0]]) --> z = 0\n",
      "Matrix([[0, -12*k - 3, 10, 0]]) --> y = 0\n",
      "Matrix([[1, k, -1, 0]]) --> x = 0\n",
      "Por rangos y determinantes:\n",
      "⎡1   1   -1⎤\n",
      "⎢          ⎥\n",
      "⎢12  -3  -2⎥\n",
      "⎢          ⎥\n",
      "⎣1   -2  1 ⎦\n",
      "2\n",
      "2\n",
      "Si k = 1 --> S.C.I --> solo se puede resolver por Gauss, ver más arriba\n",
      "Si k <> [1] --> Rango(A)=Rango(A)=3 --> S.C.D.\n",
      "Por Cramer:\n",
      "Delta_i, A.det, solucion_latex_i : \n",
      "⎡   ⎡0  k   -1⎤                 ⎤\n",
      "⎢   ⎢         ⎥                 ⎥\n",
      "⎢x, ⎢0  -3  -2⎥, 0, 14 - 14⋅k, 0⎥\n",
      "⎢   ⎢         ⎥                 ⎥\n",
      "⎣   ⎣0  -2  1 ⎦                 ⎦\n",
      "Delta_i, A.det, solucion_latex_i : \n",
      "⎡   ⎡1   0  -1⎤                 ⎤\n",
      "⎢   ⎢         ⎥                 ⎥\n",
      "⎢y, ⎢12  0  -2⎥, 0, 14 - 14⋅k, 0⎥\n",
      "⎢   ⎢         ⎥                 ⎥\n",
      "⎣   ⎣1   0  1 ⎦                 ⎦\n",
      "Delta_i, A.det, solucion_latex_i : \n",
      "⎡   ⎡1   k   0⎤                 ⎤\n",
      "⎢   ⎢         ⎥                 ⎥\n",
      "⎢z, ⎢12  -3  0⎥, 0, 14 - 14⋅k, 0⎥\n",
      "⎢   ⎢         ⎥                 ⎥\n",
      "⎣   ⎣1   -2  0⎦                 ⎦\n",
      "\\textbf{Discusión y resolución por Gauss:} Escalonando la matriz ampliada tenemos\\\\$A^*= \\left(\\begin{matrix}1 & k & -1 & 0\\\\12 & -3 & -2 & 0\\\\1 & -2 & 1 & 0\\end{matrix}\\right) \\thicksim \\left(\\begin{matrix}1 & k & -1 & 0\\\\0 & - 12 k - 3 & 10 & 0\\\\0 & 0 & 2 - \\frac{10 \\left(- k - 2\\right)}{- 12 k - 3} & 0\\end{matrix}\\right)$. \\\\  De los valores de la última fila podemos concluir:\\begin{itemize}\\item Si $k = 1 \\to$ $$\\left(\\begin{matrix}1 & 1 & -1 & 0\\\\0 & -15 & 10 & 0\\\\0 & 0 & 0 & 0\\end{matrix}\\right)$$ La última fila es $0z=0 \\to $ S.C.I\\begin{itemize}\\item $\\left(\\begin{matrix}0 & 0 & 0 & 0\\end{matrix}\\right) \\to z = \\lambda$\\end{itemize}\\begin{itemize}\\item $\\left(\\begin{matrix}0 & -15 & 10 & 0\\end{matrix}\\right) \\to y = \\frac{2 \\lambda}{3}$\\end{itemize}\\begin{itemize}\\item $\\left(\\begin{matrix}1 & 1 & -1 & 0\\end{matrix}\\right) \\to x = \\frac{\\lambda}{3}$\\end{itemize}\\item si $k\\neq [1]  \\to $ S.C.D.\\begin{itemize}\\item $\\left(\\begin{matrix}0 & 0 & 2 - \\frac{10 \\left(- k - 2\\right)}{- 12 k - 3} & 0\\end{matrix}\\right) \\to z = 0$\\end{itemize}\\begin{itemize}\\item $\\left(\\begin{matrix}0 & - 12 k - 3 & 10 & 0\\end{matrix}\\right) \\to y = 0$\\end{itemize}\\begin{itemize}\\item $\\left(\\begin{matrix}1 & k & -1 & 0\\end{matrix}\\right) \\to x = 0$\\end{itemize}\\end{itemize}  \\textbf{Por rangos y determinantes:} \\\\$\\left|A\\right|=\\left|\\begin{matrix}1 & k & -1\\\\12 & -3 & -2\\\\1 & -2 & 1\\end{matrix}\\right|=14 - 14 k \\to \\left|A\\right|=0 \\quad si \\quad k = \\left[ 1\\right]$\\begin{itemize}\\item Si $k=1 \\to rg(A)=2 \\land rg(A^*)=2 \\to $ S.C.I. $\\to$ solo se puede resolver por Gauss, (ver más arriba)\\item Si $k \\neq[1] \\to rg(A)=3 \\land rg(A^*)=3 \\to $ S.C.D.  \\\\  \\\\ Por Cramer: \\begin{itemize}\\item $x=\\frac{\\left|\\begin{matrix}0 & k & -1\\\\0 & -3 & -2\\\\0 & -2 & 1\\end{matrix}\\right|}{14 - 14 k}=\\frac{0}{14 - 14 k}=0$\\item $y=\\frac{\\left|\\begin{matrix}1 & 0 & -1\\\\12 & 0 & -2\\\\1 & 0 & 1\\end{matrix}\\right|}{14 - 14 k}=\\frac{0}{14 - 14 k}=0$\\item $z=\\frac{\\left|\\begin{matrix}1 & k & 0\\\\12 & -3 & 0\\\\1 & -2 & 0\\end{matrix}\\right|}{14 - 14 k}=\\frac{0}{14 - 14 k}=0$\\end{itemize}\\end{itemize}\n"
     ]
    },
    {
     "data": {
      "text/latex": [
       "$$\\left\\{ \\begin{matrix}x + y + 2 z = 0 \\\\ k x + y - z = k - 2 \\\\ k y + 3 x + z = k - 2 \\\\ \\end{matrix}\\right.$$"
      ]
     },
     "metadata": {},
     "output_type": "display_data"
    },
    {
     "name": "stdout",
     "output_type": "stream",
     "text": [
      "Discusión y resolución por Gauss:\n",
      "⎡1    1               2                        0           ⎤\n",
      "⎢                                                          ⎥\n",
      "⎢0  1 - k         -2⋅k - 1                   k - 2         ⎥\n",
      "⎢                                                          ⎥\n",
      "⎢               (-2⋅k - 1)⋅(k - 3)          (k - 3)⋅(k - 2)⎥\n",
      "⎢0    0    -5 - ──────────────────  k - 2 - ───────────────⎥\n",
      "⎣                     1 - k                      1 - k     ⎦\n",
      "det(A)=2*k**2 - 8\n",
      "⎡     (-2⋅k - 1)⋅(k - 3)          (k - 3)⋅(k - 2)⎤\n",
      "⎢-5 - ──────────────────, k - 2 - ───────────────⎥\n",
      "⎣           1 - k                      1 - k     ⎦\n",
      "-2\n",
      "Si k = -2 --> 0z=-32/3 -->S.I\n",
      "2\n",
      "Si k = 2 -->  0z=0 --> S.C.I\n",
      "[x + y + 2⋅z = 0, 2⋅x + y - z = 0, 3⋅x + 2⋅y + z = 0]\n",
      "[(x, 3⋅z, [1  1  2  0]), (y, -5⋅z, [0  -1  -5  0]), (z, z, [0  0  0  0])]\n",
      "Matrix([[0, 0, 0, 0]]) --> z = z\n",
      "Matrix([[0, -1, -5, 0]]) --> y = -5*z\n",
      "Matrix([[1, 1, 2, 0]]) --> x = 3*z\n",
      "si k <> [-2, 2]  --> S.C.D.\n",
      "⎡k - 2  k - 2  2 - k⎤\n",
      "⎢─────, ─────, ─────⎥\n",
      "⎣k + 2  k + 2  k + 2⎦\n",
      "⎡⎛   k - 2              ⎞  ⎛   k - 2                             ⎞  ⎛   2 - k \n",
      "⎢⎜x, ─────, [1  1  2  0]⎟, ⎜y, ─────, [0  1 - k  -2⋅k - 1  k - 2]⎟, ⎜z, ─────,\n",
      "⎣⎝   k + 2              ⎠  ⎝   k + 2                             ⎠  ⎝   k + 2 \n",
      "\n",
      " ⎡           (-2⋅k - 1)⋅(k - 3)          (k - 3)⋅(k - 2)⎤⎞⎤\n",
      " ⎢0  0  -5 - ──────────────────  k - 2 - ───────────────⎥⎟⎥\n",
      " ⎣                 1 - k                      1 - k     ⎦⎠⎦\n",
      "Matrix([[0, 0, -5 - (-2*k - 1)*(k - 3)/(1 - k), k - 2 - (k - 3)*(k - 2)/(1 - k\n",
      ")]]) --> z = (2 - k)/(k + 2)\n",
      "Matrix([[0, 1 - k, -2*k - 1, k - 2]]) --> y = (k - 2)/(k + 2)\n",
      "Matrix([[1, 1, 2, 0]]) --> x = (k - 2)/(k + 2)\n",
      "Por rangos y determinantes:\n",
      "⎡1   1   2 ⎤\n",
      "⎢          ⎥\n",
      "⎢-2  1   -1⎥\n",
      "⎢          ⎥\n",
      "⎣3   -2  1 ⎦\n",
      "2\n",
      "3\n",
      "Si k = -2 --> S.I.\n",
      "⎡1  1  2 ⎤\n",
      "⎢        ⎥\n",
      "⎢2  1  -1⎥\n",
      "⎢        ⎥\n",
      "⎣3  2  1 ⎦\n",
      "2\n",
      "2\n",
      "Si k = 2 --> S.C.I --> solo se puede resolver por Gauss, ver más arriba\n",
      "Si k <> [-2, 2] --> Rango(A)=Rango(A)=3 --> S.C.D.\n",
      "Por Cramer:\n",
      "Delta_i, A.det, solucion_latex_i : \n",
      "⎡   ⎡  0    1  2 ⎤                                 ⎤\n",
      "⎢   ⎢            ⎥     2               2      k - 2⎥\n",
      "⎢x, ⎢k - 2  1  -1⎥, 2⋅k  - 8⋅k + 8, 2⋅k  - 8, ─────⎥\n",
      "⎢   ⎢            ⎥                            k + 2⎥\n",
      "⎣   ⎣k - 2  k  1 ⎦                                 ⎦\n",
      "Delta_i, A.det, solucion_latex_i : \n",
      "⎡   ⎡1    0    2 ⎤                                 ⎤\n",
      "⎢   ⎢            ⎥     2               2      k - 2⎥\n",
      "⎢y, ⎢k  k - 2  -1⎥, 2⋅k  - 8⋅k + 8, 2⋅k  - 8, ─────⎥\n",
      "⎢   ⎢            ⎥                            k + 2⎥\n",
      "⎣   ⎣3  k - 2  1 ⎦                                 ⎦\n",
      "Delta_i, A.det, solucion_latex_i : \n",
      "⎡   ⎡1  1    0  ⎤                                   ⎤\n",
      "⎢   ⎢           ⎥       2               2      2 - k⎥\n",
      "⎢z, ⎢k  1  k - 2⎥, - 2⋅k  + 8⋅k - 8, 2⋅k  - 8, ─────⎥\n",
      "⎢   ⎢           ⎥                              k + 2⎥\n",
      "⎣   ⎣3  k  k - 2⎦                                   ⎦\n",
      "\\textbf{Discusión y resolución por Gauss:} Escalonando la matriz ampliada tenemos\\\\$A^*= \\left(\\begin{matrix}1 & 1 & 2 & 0\\\\k & 1 & -1 & k - 2\\\\3 & k & 1 & k - 2\\end{matrix}\\right) \\thicksim \\left(\\begin{matrix}1 & 1 & 2 & 0\\\\0 & 1 - k & - 2 k - 1 & k - 2\\\\0 & 0 & -5 - \\frac{\\left(- 2 k - 1\\right) \\left(k - 3\\right)}{1 - k} & k - 2 - \\frac{\\left(k - 3\\right) \\left(k - 2\\right)}{1 - k}\\end{matrix}\\right)$. \\\\  De los valores de la última fila podemos concluir:\\begin{itemize}\\item Si $k = -2 \\to$ $$\\left(\\begin{matrix}1 & 1 & 2 & 0\\\\0 & 3 & 3 & -4\\\\0 & 0 & 0 & - \\frac{32}{3}\\end{matrix}\\right)$$ La última fila es $0z=-32/3 \\to $ S.I.\\item Si $k = 2 \\to$ $$\\left(\\begin{matrix}1 & 1 & 2 & 0\\\\0 & -1 & -5 & 0\\\\0 & 0 & 0 & 0\\end{matrix}\\right)$$ La última fila es $0z=0 \\to $ S.C.I\\begin{itemize}\\item $\\left(\\begin{matrix}0 & 0 & 0 & 0\\end{matrix}\\right) \\to z = \\lambda$\\end{itemize}\\begin{itemize}\\item $\\left(\\begin{matrix}0 & -1 & -5 & 0\\end{matrix}\\right) \\to y = - 5 \\lambda$\\end{itemize}\\begin{itemize}\\item $\\left(\\begin{matrix}1 & 1 & 2 & 0\\end{matrix}\\right) \\to x = 3 \\lambda$\\end{itemize}\\item si $k\\neq [-2, 2]  \\to $ S.C.D.\\begin{itemize}\\item $\\left(\\begin{matrix}0 & 0 & -5 - \\frac{\\left(- 2 k - 1\\right) \\left(k - 3\\right)}{1 - k} & k - 2 - \\frac{\\left(k - 3\\right) \\left(k - 2\\right)}{1 - k}\\end{matrix}\\right) \\to z = \\frac{2 - k}{k + 2}$\\end{itemize}\\begin{itemize}\\item $\\left(\\begin{matrix}0 & 1 - k & - 2 k - 1 & k - 2\\end{matrix}\\right) \\to y = \\frac{k - 2}{k + 2}$\\end{itemize}\\begin{itemize}\\item $\\left(\\begin{matrix}1 & 1 & 2 & 0\\end{matrix}\\right) \\to x = \\frac{k - 2}{k + 2}$\\end{itemize}\\end{itemize}  \\textbf{Por rangos y determinantes:} \\\\$\\left|A\\right|=\\left|\\begin{matrix}1 & 1 & 2\\\\k & 1 & -1\\\\3 & k & 1\\end{matrix}\\right|=2 k^{2} - 8 \\to \\left|A\\right|=0 \\quad si \\quad k = \\left[ -2, \\  2\\right]$\\begin{itemize}\\item Si $k=-2 \\to rg(A)=2 \\land rg(A^*)=3 \\to $ S.I.\\item Si $k=2 \\to rg(A)=2 \\land rg(A^*)=2 \\to $ S.C.I. $\\to$ solo se puede resolver por Gauss, (ver más arriba)\\item Si $k \\neq[-2, 2] \\to rg(A)=3 \\land rg(A^*)=3 \\to $ S.C.D.  \\\\  \\\\ Por Cramer: \\begin{itemize}\\item $x=\\frac{\\left|\\begin{matrix}0 & 1 & 2\\\\k - 2 & 1 & -1\\\\k - 2 & k & 1\\end{matrix}\\right|}{2 k^{2} - 8}=\\frac{2 k^{2} - 8 k + 8}{2 k^{2} - 8}=\\frac{k - 2}{k + 2}$\\item $y=\\frac{\\left|\\begin{matrix}1 & 0 & 2\\\\k & k - 2 & -1\\\\3 & k - 2 & 1\\end{matrix}\\right|}{2 k^{2} - 8}=\\frac{2 k^{2} - 8 k + 8}{2 k^{2} - 8}=\\frac{k - 2}{k + 2}$\\item $z=\\frac{\\left|\\begin{matrix}1 & 1 & 0\\\\k & 1 & k - 2\\\\3 & k & k - 2\\end{matrix}\\right|}{2 k^{2} - 8}=\\frac{- 2 k^{2} + 8 k - 8}{2 k^{2} - 8}=\\frac{2 - k}{k + 2}$\\end{itemize}\\end{itemize}\n"
     ]
    },
    {
     "data": {
      "text/latex": [
       "$$\\left\\{ \\begin{matrix}k x + y = 1 \\\\ 2 x + y \\left(k + 1\\right) = 2 \\\\ k y + x = 1 \\\\ \\end{matrix}\\right.$$"
      ]
     },
     "metadata": {},
     "output_type": "display_data"
    },
    {
     "name": "stdout",
     "output_type": "stream",
     "text": [
      "Como $rg(A)=2 < rg(A^*)=3 \\to$ S.I. \\\\ Ya que escalonando la matriz ampliada: \\\\ $A^*= \\left(\\begin{matrix}k & 1 & 0 & 1\\\\2 & k + 1 & 0 & 2\\\\1 & k & 0 & 1\\end{matrix}\\right) \\thicksim \\left(\\begin{matrix}2 & k + 1 & 0 & 2\\\\0 & - \\frac{k \\left(k + 1\\right)}{2} + 1 & 0 & 1 - k\\\\0 & 0 & 0 & - \\frac{\\left(1 - k\\right) \\left(\\frac{k}{2} - \\frac{1}{2}\\right)}{- \\frac{k \\left(k + 1\\right)}{2} + 1}\\end{matrix}\\right)$ \\\\$\\left|\\begin{matrix}2 & k + 1 & 0\\\\0 & - \\frac{k \\left(k + 1\\right)}{2} + 1 & 0\\\\0 & 0 & 0\\end{matrix}\\right|=0 \\quad y \\quad \\left|\\begin{matrix}k + 1 & 0 & 2\\\\- \\frac{k \\left(k + 1\\right)}{2} + 1 & 0 & 1 - k\\\\0 & 0 & - \\frac{\\left(1 - k\\right) \\left(\\frac{k}{2} - \\frac{1}{2}\\right)}{- \\frac{k \\left(k + 1\\right)}{2} + 1}\\end{matrix}\\right|=0$\n"
     ]
    },
    {
     "data": {
      "text/latex": [
       "$$\\left\\{ \\begin{matrix}k z + y = 1 \\\\ k x - y + z = 1 \\\\ y - z = - k \\\\ \\end{matrix}\\right.$$"
      ]
     },
     "metadata": {},
     "output_type": "display_data"
    },
    {
     "name": "stdout",
     "output_type": "stream",
     "text": [
      "Discusión y resolución por Gauss:\n",
      "⎡k  -1    1       1   ⎤\n",
      "⎢                     ⎥\n",
      "⎢0  1     k       1   ⎥\n",
      "⎢                     ⎥\n",
      "⎣0  0   -k - 1  -k - 1⎦\n",
      "det(A)=k**2 + k\n",
      "[-k - 1, -k - 1]\n",
      "-1\n",
      "Si k = -1 -->  0z=0 --> S.C.I\n",
      "[y - z = 1, -x - y + z = 1, y - z = 1]\n",
      "[(x, -2, [-1  -1  1  1]), (y, z + 1, [0  1  -1  1]), (z, z, [0  0  0  0])]\n",
      "Matrix([[0, 0, 0, 0]]) --> z = z\n",
      "Matrix([[0, 1, -1, 1]]) --> y = z + 1\n",
      "Matrix([[-1, -1, 1, 1]]) --> x = -2\n",
      "si k <> [-1]  --> S.C.D.\n",
      "⎡1 - k          ⎤\n",
      "⎢─────, 1 - k, 1⎥\n",
      "⎣  k            ⎦\n",
      "⎡⎛   1 - k               ⎞                                                    \n",
      "⎢⎜x, ─────, [k  -1  1  1]⎟, (y, 1 - k, [0  1  k  1]), (z, 1, [0  0  -k - 1  -k\n",
      "⎣⎝     k                 ⎠                                                    \n",
      "\n",
      "      ⎤\n",
      " - 1])⎥\n",
      "      ⎦\n",
      "Matrix([[0, 0, -k - 1, -k - 1]]) --> z = 1\n",
      "Matrix([[0, 1, k, 1]]) --> y = 1 - k\n",
      "Matrix([[k, -1, 1, 1]]) --> x = (1 - k)/k\n",
      "Por rangos y determinantes:\n",
      "⎡0   1   -1⎤\n",
      "⎢          ⎥\n",
      "⎢-1  -1  1 ⎥\n",
      "⎢          ⎥\n",
      "⎣0   1   -1⎦\n",
      "2\n",
      "2\n",
      "Si k = -1 --> S.C.I --> solo se puede resolver por Gauss, ver más arriba\n",
      "⎡0  1   0 ⎤\n",
      "⎢         ⎥\n",
      "⎢0  -1  1 ⎥\n",
      "⎢         ⎥\n",
      "⎣0  1   -1⎦\n",
      "2\n",
      "3\n",
      "Si k = 0 --> S.I.\n",
      "Si k <> [-1, 0] --> Rango(A)=Rango(A)=3 --> S.C.D.\n",
      "Por Cramer:\n",
      "Delta_i, A.det, solucion_latex_i : \n",
      "⎡   ⎡1   1   k ⎤                          ⎤\n",
      "⎢   ⎢          ⎥       2             1 - k⎥\n",
      "⎢x, ⎢1   -1  1 ⎥, 1 - k , k⋅(k + 1), ─────⎥\n",
      "⎢   ⎢          ⎥                       k  ⎥\n",
      "⎣   ⎣-k  1   -1⎦                          ⎦\n",
      "Delta_i, A.det, solucion_latex_i : \n",
      "⎡   ⎡0  1   k ⎤                            ⎤\n",
      "⎢   ⎢         ⎥     3                      ⎥\n",
      "⎢y, ⎢k  1   1 ⎥, - k  + k, k⋅(k + 1), 1 - k⎥\n",
      "⎢   ⎢         ⎥                            ⎥\n",
      "⎣   ⎣0  -k  -1⎦                            ⎦\n",
      "Delta_i, A.det, solucion_latex_i : \n",
      "⎡   ⎡0  1   1 ⎤                         ⎤\n",
      "⎢   ⎢         ⎥                         ⎥\n",
      "⎢z, ⎢k  -1  1 ⎥, k⋅(k + 1), k⋅(k + 1), 1⎥\n",
      "⎢   ⎢         ⎥                         ⎥\n",
      "⎣   ⎣0  1   -k⎦                         ⎦\n",
      "\\textbf{Discusión y resolución por Gauss:} Escalonando la matriz ampliada tenemos\\\\$A^*= \\left(\\begin{matrix}0 & 1 & k & 1\\\\k & -1 & 1 & 1\\\\0 & 1 & -1 & - k\\end{matrix}\\right) \\thicksim \\left(\\begin{matrix}k & -1 & 1 & 1\\\\0 & 1 & k & 1\\\\0 & 0 & - k - 1 & - k - 1\\end{matrix}\\right)$. \\\\  De los valores de la última fila podemos concluir:\\begin{itemize}\\item Si $k = -1 \\to$ $$\\left(\\begin{matrix}-1 & -1 & 1 & 1\\\\0 & 1 & -1 & 1\\\\0 & 0 & 0 & 0\\end{matrix}\\right)$$ La última fila es $0z=0 \\to $ S.C.I\\begin{itemize}\\item $\\left(\\begin{matrix}0 & 0 & 0 & 0\\end{matrix}\\right) \\to z = \\lambda$\\end{itemize}\\begin{itemize}\\item $\\left(\\begin{matrix}0 & 1 & -1 & 1\\end{matrix}\\right) \\to y = \\lambda + 1$\\end{itemize}\\begin{itemize}\\item $\\left(\\begin{matrix}-1 & -1 & 1 & 1\\end{matrix}\\right) \\to x = -2$\\end{itemize}\\item si $k\\neq [-1]  \\to $ S.C.D.\\begin{itemize}\\item $\\left(\\begin{matrix}0 & 0 & - k - 1 & - k - 1\\end{matrix}\\right) \\to z = 1$\\end{itemize}\\begin{itemize}\\item $\\left(\\begin{matrix}0 & 1 & k & 1\\end{matrix}\\right) \\to y = 1 - k$\\end{itemize}\\begin{itemize}\\item $\\left(\\begin{matrix}k & -1 & 1 & 1\\end{matrix}\\right) \\to x = \\frac{1 - k}{k}$\\end{itemize}\\end{itemize}  \\textbf{Por rangos y determinantes:} \\\\$\\left|A\\right|=\\left|\\begin{matrix}0 & 1 & k\\\\k & -1 & 1\\\\0 & 1 & -1\\end{matrix}\\right|=k^{2} + k \\to \\left|A\\right|=0 \\quad si \\quad k = \\left[ -1, \\  0\\right]$\\begin{itemize}\\item Si $k=-1 \\to rg(A)=2 \\land rg(A^*)=2 \\to $ S.C.I. $\\to$ solo se puede resolver por Gauss, (ver más arriba)\\item Si $k=0 \\to rg(A)=2 \\land rg(A^*)=3 \\to $ S.I.\\item Si $k \\neq[-1, 0] \\to rg(A)=3 \\land rg(A^*)=3 \\to $ S.C.D.  \\\\  \\\\ Por Cramer: \\begin{itemize}\\item $x=\\frac{\\left|\\begin{matrix}1 & 1 & k\\\\1 & -1 & 1\\\\- k & 1 & -1\\end{matrix}\\right|}{k \\left(k + 1\\right)}=\\frac{1 - k^{2}}{k \\left(k + 1\\right)}=\\frac{1 - k}{k}$\\item $y=\\frac{\\left|\\begin{matrix}0 & 1 & k\\\\k & 1 & 1\\\\0 & - k & -1\\end{matrix}\\right|}{k \\left(k + 1\\right)}=\\frac{- k^{3} + k}{k \\left(k + 1\\right)}=1 - k$\\item $z=\\frac{\\left|\\begin{matrix}0 & 1 & 1\\\\k & -1 & 1\\\\0 & 1 & - k\\end{matrix}\\right|}{k \\left(k + 1\\right)}=\\frac{k \\left(k + 1\\right)}{k \\left(k + 1\\right)}=1$\\end{itemize}\\end{itemize}\n"
     ]
    }
   ],
   "source": [
    "# p14.e5\n",
    "\n",
    "sistemas = [\n",
    "            [Eq(-3*x+2*y+3*z,-2),Eq(2*x+k*y-5*z,-4),Eq(x+y+2*z,2)],\n",
    "           [Eq(k*x + y + z , k),Eq(x + k*y + z , k), Eq(x + y + k*z , k)],\n",
    "            [Eq(x + y + z , k + 2),Eq(x - k*y + z , 1),Eq(k*x + y + z , 4)],\n",
    "            [Eq(k*x+(k**2+1)*y+k*z,k),Eq(x+k*y+z,0),Eq(x+(k+1)*y+k**2*z,2*k-1)],\n",
    "            [Eq(2*x - 5*y + 3*z , 0),Eq(x - y + z , 0),Eq(3*x + k*y + z , 0)],\n",
    "            [Eq(x + k*y - z , 0),Eq(12*x - 3*y - 2*z , 0),Eq(x - 2*y + z , 0)],\n",
    "            [Eq(x + y + 2*z , 0),Eq(k*x + y - z , k - 2), Eq(3*x + k*y + z , k - 2)],\n",
    "            [Eq(k*x+y,1),Eq(2*x+(k+1)*y,2),Eq(x+k*y,1)], \n",
    "            [Eq(y+k*z,1),Eq(k*x-y+z,1),Eq(y-z,-k)]\n",
    "            ]\n",
    "\n",
    "for sist in sistemas :\n",
    "    display_latex(\"$\"+sistema_a_latex(sist)+\"$\",raw=True)\n",
    "    print(discusion_solucion(sist)['solucion_latex'])\n",
    "\n"
   ]
  },
  {
   "cell_type": "code",
   "execution_count": 15,
   "metadata": {
    "colab": {
     "base_uri": "https://localhost:8080/",
     "height": 1000
    },
    "id": "UxCcmpuj2M5D",
    "outputId": "5efed7c1-619d-43e7-9b69-2956cc4ac0e6"
   },
   "outputs": [
    {
     "name": "stdout",
     "output_type": "stream",
     "text": [
      "\\mathtt{\\text{6. Una compañía aérea realiza vuelos a tres ciudades, A, B y C. Calcula el precio de los billetes a cada ciudad con\n",
      "la siguiente información. Si vende 10 billetes para ir a la ciudad A, 5 para B y ninguno para C, ingresa 925 euros;\n",
      "si vende 12 billetes para A, 8 para B y ninguno para C, ingresa 1200 euros; y si vende 6 billetes para A, 5 para B y\n",
      "8 para C, ingresa 861 euros.}}\n",
      "Sistema:\n",
      "[10⋅x + 5⋅y = 925, 12⋅x + 8⋅y = 1200, 6⋅x + 5⋅y + 8⋅z = 861]\n",
      "Solución:\n",
      "{x: 70, y: 45, z: 27}\n",
      "Datos que salen en Cramer:\n",
      "Delta_i, A.det, solucion_i : \n",
      "[11200, 160, 70]\n",
      "Delta_i, A.det, solucion_i : \n",
      "[7200, 160, 45]\n",
      "Delta_i, A.det, solucion_i : \n",
      "[4320, 160, 27]\n",
      "\\mathtt{\\text{7. En una competición deportiva participan 50 atletas distribuidos, según la edad, en tres categorías: Infantiles,\n",
      "Cadetes y Juveniles. El doble del número de atletas infantiles excede en una unidad al número de atletas cadetes\n",
      "y, además, coincide con el quíntuplo del número de atletas juveniles. Determina el número de atletas de cada\n",
      "categoría.}}\n",
      "Sistema:\n",
      "[2⋅x = y + 1, 2⋅x = 5⋅z, x + y + z = 50]\n",
      "Solución:\n",
      "{x: 15, y: 29, z: 6}\n",
      "Datos que salen en Cramer:\n",
      "Delta_i, A.det, solucion_i : \n",
      "[255, 17, 15]\n",
      "Delta_i, A.det, solucion_i : \n",
      "[493, 17, 29]\n",
      "Delta_i, A.det, solucion_i : \n",
      "[102, 17, 6]\n",
      "\\mathtt{\\text{8. La suma de las tres cifras de un número es ocho. Sabiendo que la cifra de las centenas \n",
      "es igual que la de las decenas, y que ambas suman la cifra de las unidades, \n",
      "averigua dicho número.}}\n",
      "Sistema:\n",
      "[x + y + z = 8, x = y, x + y = z]\n",
      "Solución:\n",
      "{x: 2, y: 2, z: 4}\n",
      "Datos que salen en Cramer:\n",
      "Delta_i, A.det, solucion_i : \n",
      "[8, 4, 2]\n",
      "Delta_i, A.det, solucion_i : \n",
      "[8, 4, 2]\n",
      "Delta_i, A.det, solucion_i : \n",
      "[16, 4, 4]\n",
      "\\mathtt{\\text{9. Un alumno de 1.° de Bachillerato emplea en la compra de tres lápices, un sacapuntas y dos gomas de borrar,\n",
      "tres euros. El doble del precio de un lápiz excede en cinco céntimos de euro a la suma de los precios de un\n",
      "sacapuntas y una goma de borrar. Si cada lápiz costara cinco céntimos de euro más, entonces su precio duplicaría\n",
      "al de una goma de borrar. Determina el precio de un lápiz, de un sacapuntas y de una goma de borrar.}}\n",
      "Sistema:\n",
      "[3⋅x + y + 2⋅z = 300, 2⋅x = y + z + 5, x + 5 = 2⋅z]\n",
      "Solución:\n",
      "{x: 55, y: 75, z: 30}\n",
      "Datos que salen en Cramer:\n",
      "Delta_i, A.det, solucion_i : \n",
      "[605, 11, 55]\n",
      "Delta_i, A.det, solucion_i : \n",
      "[825, 11, 75]\n",
      "Delta_i, A.det, solucion_i : \n",
      "[330, 11, 30]\n",
      "\\mathtt{\\text{10. Para la compra de un artículo de precio 10,70 euros se utilizan monedas de 1 euro, de 50 céntimos de euro y\n",
      "de 20 céntimos de euro. El número total de monedas excede en una unidad al triple de monedas de 1 euro. El 30\n",
      "\\% de la suma del número de monedas de 1 euro con el doble del número de monedas de 50 céntimos coincide\n",
      "con el número de monedas de 20 céntimos. Determina el número de monedas que se utilizan de cada clase.}}\n",
      "Sistema:\n",
      "[100⋅x + 50⋅y + 20⋅z = 1070, x + y + z = 3⋅x + 1, 0.3⋅x + 0.6⋅y = z]\n",
      "Solución:\n",
      "{x: 6.0, y: 7.0, z: 6.0}\n",
      "Datos que salen en Cramer:\n",
      "Delta_i, A.det, solucion_i : \n",
      "[-1650.0, -275.0, 6.0]\n",
      "Delta_i, A.det, solucion_i : \n",
      "[-1925.0, -275.0, 7.0]\n",
      "Delta_i, A.det, solucion_i : \n",
      "[-1650.0, -275.0, 6.0]\n",
      "\\mathtt{\\text{11. En un grupo de 2.° de Bachillerato los alumnos tienen como materia optativa una de estas tres asignaturas:\n",
      "Literatura, Psicología o Francés. El número de alumnos matriculados en Literatura representa el 60\\% del total de\n",
      "alumnos del grupo. Si tres alumnos de Psicología se hubiesen matriculado en Francés, entonces estas dos\n",
      "asignaturas tendrían el mismo número de alumnos. Finalmente, el doble de la diferencia del número de alumnos\n",
      "matriculados en Literatura y en Psicología es el triple de la diferencia de los matriculados en Psicología y en\n",
      "Francés. Calcula el número de alumnos matriculados en cada una de las materias optativas y el número de\n",
      "alumnos del grupo.}}\n",
      "Sistema:\n",
      "[x = 0.6⋅x + 0.6⋅y + 0.6⋅z, y - 3 = z + 3, 2⋅x - 2⋅y = 3⋅y - 3⋅z]\n",
      "Solución:\n",
      "{x: 18.0, y: 9.0, z: 3.0}\n",
      "Datos que salen en Cramer:\n",
      "Delta_i, A.det, solucion_i : \n",
      "[28.8, 1.6, 18.0]\n",
      "Delta_i, A.det, solucion_i : \n",
      "[14.4, 1.6, 9.0]\n",
      "Delta_i, A.det, solucion_i : \n",
      "[4.8, 1.6, 3.0]\n",
      "\\mathtt{\\text{12. Si la altura de Sergio aumentase el triple de la diferencia entre las alturas de Martín y Jesús, Sergio sería igual\n",
      "de alto que Jesús. Las alturas de los tres suman 515 cm. Ocho veces la altura de Martín es lo mismo que nueve\n",
      "veces la de Sergio. Halla la estatura de cada uno.}}\n",
      "Sistema:\n",
      "[x + 3⋅y - 3⋅z = z, x + y + z = 515, 8⋅y = 9⋅x]\n",
      "Solución:\n",
      "{x: 160, y: 180, z: 175}\n",
      "Datos que salen en Cramer:\n",
      "Delta_i, A.det, solucion_i : \n",
      "[-16480, -103, 160]\n",
      "Delta_i, A.det, solucion_i : \n",
      "[-18540, -103, 180]\n",
      "Delta_i, A.det, solucion_i : \n",
      "[-18025, -103, 175]\n",
      "\\mathtt{\\text{13. En un instituto se imparten enseñanzas de ESO, Bachillerato y Ciclos Formativos. La suma del número de\n",
      "los alumnos de Bachillerato y del doble de los alumnos de Ciclos Formativos excede en 100 al número de los\n",
      "alumnos de ESO. Si sumamos el 40\\% de los alumnos matriculados en ESO con el 30\\% de los matriculados en\n",
      "Bachillerato y con el 20\\% de los matriculados en Ciclos Formativos, se obtiene un número que excede en 45\n",
      "unidades al 30\\% del número total de alumnos. Sabiendo que cursan estos tres tipos de enseñanza un total de 1\n",
      "200 alumnos, halla el número de alumnos matriculados en cada tipo de enseñanza.}}\n",
      "Sistema:\n",
      "[y + 2⋅z = x + 100, 40⋅x + 30⋅y + 20⋅z = 30⋅x + 30⋅y + 30⋅z + 4500, x + y + z \n",
      "= 1200]\n",
      "Solución:\n",
      "{x: 650, y: 350, z: 200}\n",
      "Datos que salen en Cramer:\n",
      "Delta_i, A.det, solucion_i : \n",
      "[-6500, -10, 650]\n",
      "Delta_i, A.det, solucion_i : \n",
      "[-3500, -10, 350]\n",
      "Delta_i, A.det, solucion_i : \n",
      "[-2000, -10, 200]\n",
      "\\mathtt{\\text{14. Una persona deja en herencia a sus hijos todo su dinero con las siguientes condiciones: al mayor le deja la\n",
      "media de lo que le deja a los otros más 30 000 euros; al mediano, exactamente la media del dinero de los otros; y\n",
      "al pequeño, la media del dinero de los otros menos 30 000 euros. De esta forma, ¿pueden los hijos saber cuánto\n",
      "dinero ha heredado cada uno?}}\n",
      "Sistema:\n",
      "⎡    y   z              x   z      x   y        ⎤\n",
      "⎢x = ─ + ─ + 30000, y = ─ + ─, z = ─ + ─ - 30000⎥\n",
      "⎣    2   2              2   2      2   2        ⎦\n",
      "Solución:\n",
      "{x: z + 40000, y: z + 20000}\n",
      "Datos que salen en Cramer:\n",
      "Delta_i, A.det, solucion_i : \n",
      "[0, 0, nan]\n",
      "Delta_i, A.det, solucion_i : \n",
      "[0, 0, nan]\n",
      "Delta_i, A.det, solucion_i : \n",
      "[0, 0, nan]\n",
      "\\mathtt{\\text{15. A Victoria le van a confeccionar su vestido de novia, por el que tendrá que pagar 1 742 euros. En la confección\n",
      "se utilizarán 15 metros de tela entre raso, seda y pasamanería bordada. Los metros de raso serán el doble que los\n",
      "de seda. Los precios del raso, de la seda y la pasamanería son 55,62 y 68 euros el metro, respectivamente. Si del\n",
      "precio total se destinan 500 euros a la mano de obra y 350 euros para beneficio del comerciante, ¿cuántos metros\n",
      "de cada material serán necesarios?}}\n",
      "Sistema:\n",
      "[x + y + z = 15, x = 2⋅y, 55⋅x + 62⋅y + 68⋅z = 892]\n",
      "Solución:\n",
      "{x: 8, y: 4, z: 3}\n",
      "Datos que salen en Cramer:\n",
      "Delta_i, A.det, solucion_i : \n",
      "[-256, -32, 8]\n",
      "Delta_i, A.det, solucion_i : \n",
      "[-128, -32, 4]\n",
      "Delta_i, A.det, solucion_i : \n",
      "[-96, -32, 3]\n",
      "\\mathtt{\\text{16. Lucía ha realizado tres pruebas escritas de una asignatura y la nota media de las tres ha sido 8,5 puntos. Si la\n",
      "nota media de las dos primeras es 8 y la nota media de las dos últimas es 9, halla la calificación de cada una de las\n",
      "pruebas.}}\n",
      "Sistema:\n",
      "⎡x   y   z        x   y      y   z    ⎤\n",
      "⎢─ + ─ + ─ = 8.5, ─ + ─ = 8, ─ + ─ = 9⎥\n",
      "⎣3   3   3        2   2      2   2    ⎦\n",
      "Solución:\n",
      "{x: 7.5, y: 8.5, z: 9.5}\n",
      "Datos que salen en Cramer:\n",
      "Delta_i, A.det, solucion_i : \n",
      "[0.625, 1/12, 7.5]\n",
      "Delta_i, A.det, solucion_i : \n",
      "[0.708333333333333, 1/12, 8.5]\n",
      "Delta_i, A.det, solucion_i : \n",
      "[0.791666666666667, 1/12, 9.5]\n"
     ]
    }
   ],
   "source": [
    "# p14.e6a\n",
    "\n",
    "sistemas = [[r\"\"\"6. Una compañía aérea realiza vuelos a tres ciudades, A, B y C. Calcula el precio de los billetes a cada ciudad con\n",
    "la siguiente información. Si vende 10 billetes para ir a la ciudad A, 5 para B y ninguno para C, ingresa 925 euros;\n",
    "si vende 12 billetes para A, 8 para B y ninguno para C, ingresa 1200 euros; y si vende 6 billetes para A, 5 para B y\n",
    "8 para C, ingresa 861 euros.\"\"\",[Eq(10*x+5*y,925),Eq(12*x+8*y,1200), Eq(6*x+5*y+8*z,861)]],\n",
    "            [r\"\"\"7. En una competición deportiva participan 50 atletas distribuidos, según la edad, en tres categorías: Infantiles,\n",
    "Cadetes y Juveniles. El doble del número de atletas infantiles excede en una unidad al número de atletas cadetes\n",
    "y, además, coincide con el quíntuplo del número de atletas juveniles. Determina el número de atletas de cada\n",
    "categoría.\"\"\",[Eq(2*x,y+1),Eq(2*x,5*z), Eq(x+y+z,50)]], \n",
    "            #[r\"\"\"8. La suma de las tres cifras de un número es ocho. Sabiendo que la cifra de las centenas es igual que la de lasdecenas, y que ambas suman la cifra de las unidades, averigua dicho número.\"\"\",[Eq(x+y+z,8),Eq(x,y), Eq(x+y=z)]],\n",
    "[r\"\"\"8. La suma de las tres cifras de un número es ocho. Sabiendo que la cifra de las centenas \n",
    "es igual que la de las decenas, y que ambas suman la cifra de las unidades, \n",
    "averigua dicho número.\"\"\",[Eq(x+y+z,8),Eq(x,y), Eq(x+y,z)]],  \n",
    "            [r\"\"\"9. Un alumno de 1.° de Bachillerato emplea en la compra de tres lápices, un sacapuntas y dos gomas de borrar,\n",
    "tres euros. El doble del precio de un lápiz excede en cinco céntimos de euro a la suma de los precios de un\n",
    "sacapuntas y una goma de borrar. Si cada lápiz costara cinco céntimos de euro más, entonces su precio duplicaría\n",
    "al de una goma de borrar. Determina el precio de un lápiz, de un sacapuntas y de una goma de borrar.\"\"\",\n",
    "            [Eq(3*x+y+2*z,300),Eq(2*x,y+z+5),Eq(x+5,2*z)]],\n",
    "            [r\"\"\"10. Para la compra de un artículo de precio 10,70 euros se utilizan monedas de 1 euro, de 50 céntimos de euro y\n",
    "de 20 céntimos de euro. El número total de monedas excede en una unidad al triple de monedas de 1 euro. El 30\n",
    "% de la suma del número de monedas de 1 euro con el doble del número de monedas de 50 céntimos coincide\n",
    "con el número de monedas de 20 céntimos. Determina el número de monedas que se utilizan de cada clase.\"\"\",\n",
    "            [Eq(100*x+50*y+20*z,1070),Eq(x+y+z,3*x+1),Eq(30/100*(x+2*y),z)]],\n",
    "            [r\"\"\"11. En un grupo de 2.° de Bachillerato los alumnos tienen como materia optativa una de estas tres asignaturas:\n",
    "Literatura, Psicología o Francés. El número de alumnos matriculados en Literatura representa el 60% del total de\n",
    "alumnos del grupo. Si tres alumnos de Psicología se hubiesen matriculado en Francés, entonces estas dos\n",
    "asignaturas tendrían el mismo número de alumnos. Finalmente, el doble de la diferencia del número de alumnos\n",
    "matriculados en Literatura y en Psicología es el triple de la diferencia de los matriculados en Psicología y en\n",
    "Francés. Calcula el número de alumnos matriculados en cada una de las materias optativas y el número de\n",
    "alumnos del grupo.\"\"\",\n",
    "            [Eq(x,60/100*(x+y+z)),Eq(y-3,z+3),Eq(2*(x-y),3*(y-z))]],\n",
    "            [r\"\"\"12. Si la altura de Sergio aumentase el triple de la diferencia entre las alturas de Martín y Jesús, Sergio sería igual\n",
    "de alto que Jesús. Las alturas de los tres suman 515 cm. Ocho veces la altura de Martín es lo mismo que nueve\n",
    "veces la de Sergio. Halla la estatura de cada uno.\"\"\",\n",
    "            [Eq(x+3*(y-z),z),Eq(x+y+z,515),Eq(8*y,9*x)]],\n",
    "            [r\"\"\"13. En un instituto se imparten enseñanzas de ESO, Bachillerato y Ciclos Formativos. La suma del número de\n",
    "los alumnos de Bachillerato y del doble de los alumnos de Ciclos Formativos excede en 100 al número de los\n",
    "alumnos de ESO. Si sumamos el 40% de los alumnos matriculados en ESO con el 30% de los matriculados en\n",
    "Bachillerato y con el 20% de los matriculados en Ciclos Formativos, se obtiene un número que excede en 45\n",
    "unidades al 30% del número total de alumnos. Sabiendo que cursan estos tres tipos de enseñanza un total de 1\n",
    "200 alumnos, halla el número de alumnos matriculados en cada tipo de enseñanza.\"\"\",\n",
    "            [Eq(y+2*z,x+100),Eq(40*x+30*y+20*z,30*(x+y+z)+4500),Eq(x+y+z,1200)]],\n",
    "            [r\"\"\"14. Una persona deja en herencia a sus hijos todo su dinero con las siguientes condiciones: al mayor le deja la\n",
    "media de lo que le deja a los otros más 30 000 euros; al mediano, exactamente la media del dinero de los otros; y\n",
    "al pequeño, la media del dinero de los otros menos 30 000 euros. De esta forma, ¿pueden los hijos saber cuánto\n",
    "dinero ha heredado cada uno?\"\"\",\n",
    "            [Eq(x,y/2+z/2+30000),Eq(y,x/2+z/2),Eq(z,y/2+x/2-30000)]],            \n",
    "            [r\"\"\"15. A Victoria le van a confeccionar su vestido de novia, por el que tendrá que pagar 1 742 euros. En la confección\n",
    "se utilizarán 15 metros de tela entre raso, seda y pasamanería bordada. Los metros de raso serán el doble que los\n",
    "de seda. Los precios del raso, de la seda y la pasamanería son 55,62 y 68 euros el metro, respectivamente. Si del\n",
    "precio total se destinan 500 euros a la mano de obra y 350 euros para beneficio del comerciante, ¿cuántos metros\n",
    "de cada material serán necesarios?\"\"\",\n",
    "            [Eq(x+y+z,15),Eq(x,2*y),Eq(55*x+62*y+68*z,1742-500-350)]],\n",
    "            [r\"\"\"16. Lucía ha realizado tres pruebas escritas de una asignatura y la nota media de las tres ha sido 8,5 puntos. Si la\n",
    "nota media de las dos primeras es 8 y la nota media de las dos últimas es 9, halla la calificación de cada una de las\n",
    "pruebas.\"\"\",\n",
    "            [Eq((x+y+z)/3,8.5),Eq((x+y)/2,8),Eq((y+z)/2,9)]],\n",
    "           ]\n",
    "\n",
    "for sist in sistemas:\n",
    "  \n",
    "  print(latex(sist[0]))\n",
    "  pprint(\"Sistema:\")\n",
    "  pprint(sist[1])\n",
    "  \n",
    "  A, b = linear_eq_to_matrix(sist[1],[x,y,z])\n",
    "  AA = A.row_join(b)\n",
    "\n",
    "\n",
    "  #pprint(linear_eq_to_matrix(sistema,[x,y,z]))\n",
    "  #print(latex(sist[1]))\n",
    "  \n",
    "  #pprint([A,A.rank(),AA,AA.rank(),A.shape])\n",
    "  #pprint([A.LUdecomposition(),A.LUsolve(b)])\n",
    "  #pprint(linsolve(sist[1],[x,y,z]))\n",
    "  #pprint(solve(sist[1]))\n",
    "  #pprint(A.inv()*b)\n",
    "  pprint(\"Solución:\")\n",
    "  pprint(solve_linear_system(AA,x,y,z))\n",
    "  \n",
    "  #cramer\n",
    "  pprint(\"Datos que salen en Cramer:\")\n",
    "  for i in range(A.shape[1]):\n",
    "    AA.col_swap(i,3)\n",
    "    pprint(\"Delta_i, A.det, solucion_i : \")\n",
    "    pprint([AA[:,:-1].det(),A.det(),AA[:,:-1].det()/A.det()])\n",
    "    AA.col_swap(i,3)\n",
    "    #pprint(AA)\n"
   ]
  }
 ],
 "metadata": {
  "colab": {
   "collapsed_sections": [],
   "name": "sistemas.ipynb",
   "provenance": []
  },
  "kernelspec": {
   "display_name": "Python 3",
   "language": "python",
   "name": "python3"
  },
  "language_info": {
   "codemirror_mode": {
    "name": "ipython",
    "version": 3
   },
   "file_extension": ".py",
   "mimetype": "text/x-python",
   "name": "python",
   "nbconvert_exporter": "python",
   "pygments_lexer": "ipython3",
   "version": "3.6.13"
  }
 },
 "nbformat": 4,
 "nbformat_minor": 1
}

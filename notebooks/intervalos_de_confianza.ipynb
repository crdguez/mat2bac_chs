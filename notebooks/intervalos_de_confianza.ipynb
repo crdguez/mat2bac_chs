{
 "cells": [
  {
   "cell_type": "code",
   "execution_count": 10,
   "metadata": {
    "colab": {},
    "colab_type": "code",
    "id": "vN_kzESqyAw8"
   },
   "outputs": [],
   "source": [
    "import numpy as np\n",
    "import scipy.stats\n",
    "from sympy.stats import Normal, P\n",
    "from sympy import *\n",
    "import pandas as pd\n",
    "import math \n",
    "\n",
    "x, y, z, k = symbols('x y z k')\n",
    "\n",
    "\n",
    "# Manejo de un fichero con enunciados y soluciones, se usa un dataframe\n",
    "#df = pd.DataFrame()\n",
    "#encabezado_df = [r\"enunciado_latex\",r\"solucion\"]\n",
    "# Los datos tienen que ser una lista con esta estructura:\n",
    "#datos = [[r\"Texto_en_latex1\",r\"Texto_en_latex2\"],[r\"Solucion_en_latex_1\",r\"Solucion_en_latex_2\"]]\n",
    "# df = df.append(pd.DataFrame(dict(zip(encabezado_df, datos))))\n",
    "# list(df.enunciado_latex)\n",
    "# list(df.solucion)\n",
    "lista_ejercicios = []\n",
    "\n",
    "def mean_confidence_interval2(data, confidence=0.95):\n",
    "    a = 1.0 * np.array(data)\n",
    "    n = len(a)\n",
    "    m, se = np.mean(a), scipy.stats.sem(a)\n",
    "    h = se * scipy.stats.t.ppf((1 + confidence) / 2., n-1)\n",
    "    return m, m-h, m+h\n",
    "\n",
    "def media_desviacion_muestra(data=[]):\n",
    "    #devuelve de una muestra su media y su desviación típica\n",
    "    m = round(np.mean((1.0*np.array(data))),4)\n",
    "    d = round(np.std((1.0*np.array(data))),4)\n",
    "    return m, d\n",
    "\n",
    "def tikz_confianza(confianza,critico) :\n",
    "    # devuelve la gráfica de la normal con el punto crítico y sus probabilidades\n",
    "    conf = confianza\n",
    "    crit = critico\n",
    "    a = round((1-conf)/2,3)\n",
    "    tikz = r\"\"\"\n",
    "    \\begin{tikzpicture}[scale=0.8]\n",
    "    \\pgfmathdeclarefunction{gauss}{2}{\\pgfmathparse{1/(#2*sqrt(2*pi))*exp(-((x-#1)^2)/(2*#2^2))}}\n",
    "    \\tikzmath{\\conf = \"\"\"+latex(conf)+r\"\"\"; \\crit= \"\"\"+latex(crit)+r\"\"\"; \\a=\"\"\"+latex(a)+r\"\"\");}\n",
    "    \\begin{axis}[no markers, domain=-5:5, samples=100, axis lines=left, height=5cm, width=12cm, xtick={0,\\crit}, ytick=\\empty, xticklabels = {$0$, $z_{\\frac{\\alpha}{2}}=\\crit$},enlargelimits=false, clip=false, axis on top]\n",
    "      \\addplot [fill=cyan!20, draw=none, domain=-\\crit:\\crit] {gauss(0,1)} \\closedcycle;\n",
    "      \\addplot [very thick,cyan!50!black] {gauss(0,1)};\n",
    "    \\end{axis}\n",
    "    \\node[] at (5.2,1.5) {$\\conf$};\t\n",
    "    \\draw[-]   (\\crit+6.5,1)node[right]{$\\a$}  --  (\\crit+5.6,0.1) ;\n",
    "    \\end{tikzpicture} \\\\\n",
    "    \"\"\"\n",
    "    return tikz\n",
    "\n",
    "def tikz_intervalo(centro, radio) :\n",
    "    # Devuelve el código de la representación de un intervalo\n",
    "    tikz = r\"\"\" \\\\ \n",
    "    \\begin{tikzpicture}[scale=0.4]\n",
    "      \\tikzmath{\\a = -10; \\b = 10; \\aa = \\a -1; \\bb = \\b + 1 ; \\dist = \\b - \\a; \\med = (\\a + \\b)/2;}\n",
    "      \\draw[very thick] (\\a,0) -- (\\b,0);\n",
    "      \\path [draw=black, fill=white] (\\b,0) circle (2pt);\n",
    "      \\path [draw=black, fill=white] (\\a,0.0) circle (2pt);\n",
    "      \\draw[latex-latex] (\\a - 1.5,0) -- (\\b + 1.5,0) ;\n",
    "      \\draw[shift={(\\a,0)},color=black] (0pt,3pt) -- (0pt,-3pt);\n",
    "      \\draw[shift={(\\a,0)},color=black] (0pt,0pt) -- (0pt,-3pt) node[below] {$\"\"\"+latex(centro -radio)+r\"\"\"$};\n",
    "      \\draw[shift={(\\med,0)},color=black] (0pt,3pt) -- (0pt,-3pt);\n",
    "      \\draw[shift={(\\med,0)},color=black] (0pt,0pt) -- (0pt,-3pt) node[below] {$\"\"\"+latex(centro)+r\"\"\"$};\n",
    "      \\draw[shift={(\\b,0)},color=black] (0pt,3pt) -- (0pt,-3pt);\n",
    "      \\draw[shift={(\\b,0)},color=black] (0pt,0pt) -- (0pt,-3pt) node[below] {$\"\"\"+latex(centro + radio)+r\"\"\"$};\n",
    "      \\draw[decorate,decoration={brace}, thick](\\med,0.2)--(\\b,0.2) node[above, midway] {$E=\"\"\"+latex(radio)+r\"\"\"$}; \n",
    "    \\end{tikzpicture} \\\\\n",
    "    \"\"\"\n",
    "    return tikz\n",
    "\n",
    "def media_intervalo(confianza, mu , sigma, N) : \n",
    "    #Intervalo de confianza de la media, la confianza en probabilidad no porcentaje\n",
    "    enunciado_latex = r\"\"\"Intervalo de confianza para la media, si la media muestral es: {}, la desviación típica: {}, tamaño de la muestra: {} y el grado de confianza: {}\\%. \\\\ \\\\ \"\"\".format(mu,sigma,N,confianza*100)\n",
    "    alpha = 1-confianza \n",
    "    solucion_latex = r\"\"\"Calculamos el intervalo de confianza para la media, sabiendo que la media muestral es: {}, la desviación típica: {}, tamaño de la muestra: {} y el grado de confianza: {}\\%. \\\\ \\\\ \"\"\".format(mu,sigma,N,confianza*100)\n",
    "    solucion_latex += r\"Valor crítico: \\\\ $\\alpha=1-\"+latex(confianza)+r\"=\"+latex(round(1-confianza,2))+r\"\\to \\frac{\\alpha}{2}=\"+latex(round(alpha/2,4))+r\"$ \\\\ \\\\ \"\n",
    "    #pmax = (1-(1-confianza)/2)\n",
    "    pmax = confianza+(alpha)/2\n",
    "    zcritico=round(scipy.stats.norm.ppf(pmax),4)\n",
    "    solucion_latex += r\"$P(Z>z_{\\alpha/2})=\"+latex(round(alpha/2,4))+r\"\\to P(Z<z_{\\alpha/2})=\"+latex(pmax)+r\" \\to z_{\\alpha/2} =\"+latex(zcritico)+r\"$ \\\\ \"\n",
    "    solucion_latex += tikz_confianza(confianza,zcritico)\n",
    "    E=round(zcritico*sigma/np.sqrt(N),4)\n",
    "    solucion_latex += r\"Error cometido: \\\\ $E=z_{\\alpha/2}\\cdot \\frac{\\sigma}{\\sqrt{n}} \\to E=\"+latex(zcritico)+r\"\\cdot \\frac{\"+latex(sigma)+r\"}{\"+latex(np.sqrt(N))+r\"}=\"+latex(E)+r\"$ \\\\ \"\n",
    "    solucion_latex += r\"Por tanto el intervalo de confianza será: \\\\\"\n",
    "    solucion_latex += r\"$\\left(\\overline{x} - E , \\overline{x} + E \\right)=\\left(\"+latex(mu)+r\" - \"+latex(E)+r\" , \"+latex(mu)+r\" + \"+latex(E)+r\" \\right)=\\left(\"+latex(round(mu-E,4))+r\", \"+latex(round(mu+E,4))+r\" \\right)$ \\\\ \"\n",
    "    solucion_latex += tikz_intervalo(mu,E)\n",
    "    return alpha,pmax,zcritico,E,mu-E,mu+E,scipy.stats.norm.interval(confianza, loc=mu, scale=sigma/np.sqrt(N)),enunciado_latex,solucion_latex\n",
    "\n",
    "def proporcion_intervalo(confianza, aciertos, N) : \n",
    "    #Intervalo de confianza de la proporción, la confianza en probabilidad no porcentaje\n",
    "    enunciado_latex = r\"\"\"Intervalo de confianza para la proporción, si los aciertos son: {}, tamaño de la muestra: {} y el grado de confianza: {}\\%. \\\\ \\\\ \"\"\".format(aciertos,N,confianza*100)\n",
    "    proporcion_muestral = aciertos/N\n",
    "    alpha = 1-confianza\n",
    "    solucion_latex = r\"\"\"Calculamos el intervalo de confianza para la proporción, si los aciertos son: {}, tamaño de la muestra: {} y el grado de confianza: {}\\%. \\\\ \\\\ \"\"\".format(aciertos,N,confianza*100)\n",
    "    solucion_latex += r\"Valor crítico: \\\\ $\\alpha=1-\"+latex(confianza)+r\"=\"+latex(round(1-confianza,2))+r\"\\to \\frac{\\alpha}{2}=\"+latex(round(alpha/2,4))+r\"$ \\\\ \\\\ \"\n",
    "    #pmax = (1-(1-confianza)/2)\n",
    "    pmax = confianza+(alpha)/2\n",
    "    zcritico=round(scipy.stats.norm.ppf(pmax),4)\n",
    "    solucion_latex += r\"$P(Z>z_{\\alpha/2})=\"+latex(round(alpha/2,4))+r\"\\to P(Z<z_{\\alpha/2})=\"+latex(pmax)+r\" \\to z_{\\alpha/2} =\"+latex(zcritico)+r\"$ \\\\ \"\n",
    "    solucion_latex += tikz_confianza(confianza,zcritico)\n",
    "\n",
    "    E=round(zcritico*np.sqrt(proporcion_muestral*(1-proporcion_muestral)/N),4)\n",
    "    solucion_latex += r\"Error cometido: \\\\ $E=z_{\\alpha / 2}\\cdot \\sqrt{\\frac{\\widehat{p}\\cdot\\left(1-\\widehat{p} \\right)}{n}} \\to E=\"+latex(zcritico)+r\"\\cdot \\sqrt{\\frac{\"+latex(proporcion_muestral)+r\"\\cdot\"+latex(round(1-proporcion_muestral,4))+r\"}{\"+latex(N)+r\"}}=\"+latex(E)+r\"$ \\\\ \"\n",
    "    solucion_latex += r\"Por tanto el intervalo de confianza será: \\\\\"\n",
    "    solucion_latex += r\"$\\left(\\widehat{p} - E , \\widehat{p} + E \\right)=\\left(\"+latex(proporcion_muestral)+r\" - \"+latex(E)+r\" , \"+latex(proporcion_muestral)+r\" + \"+latex(E)+r\" \\right)=\\left(\"+latex(round(proporcion_muestral-E,4))+r\", \"+latex(round(proporcion_muestral+E,4))+r\" \\right)$ \\\\ \"\n",
    "    solucion_latex += tikz_intervalo(proporcion_muestral,E)\n",
    "\n",
    "    return proporcion_muestral, alpha,pmax,zcritico,E,proporcion_muestral-E,proporcion_muestral+E,scipy.stats.norm.interval(confianza, loc=aciertos/N, scale=np.sqrt(((aciertos/N)*(1-aciertos/N))/N)),enunciado_latex,solucion_latex\n",
    "\n",
    "\n",
    "def error_max_media(confianza, sigma, E) :\n",
    "    enunciado_latex = r\"\"\"Tamaño de la muestra para estimar la media con un error máximo: {}, si la desviación típica es: {} y el grado de confianza: {}\\%. \\\\ \\\\ \"\"\".format(E,sigma,confianza*100)\n",
    "    alpha = 1-confianza\n",
    "    #pmax = (1-(1-confianza)/2)\n",
    "    pmax = confianza+(alpha)/2\n",
    "    zcritico=round(scipy.stats.norm.ppf(pmax),4)\n",
    "    solucion_latex = r\"\"\"Calculamos el tamaño de la muestra para estimar la media con un error máximo: {}, si la desviación típica es: {} y el grado de confianza: {}\\%. \\\\ \\\\ \"\"\".format(E,sigma,confianza*100)\n",
    "    solucion_latex += r\"Valor crítico: \\\\ $\\alpha=1-\"+latex(confianza)+r\"=\"+latex(round(1-confianza,2))+r\"\\to \\frac{\\alpha}{2}=\"+latex(round(alpha/2,4))+r\"$ \\\\ \\\\ \"\n",
    "    solucion_latex += r\"$P(Z>z_{\\alpha/2})=\"+latex(round(alpha/2,4))+r\"\\to P(Z<z_{\\alpha/2})=\"+latex(pmax)+r\" \\to z_{\\alpha/2} =\"+latex(zcritico)+r\"$ \\\\ \"\n",
    "    solucion_latex += tikz_confianza(confianza,zcritico)\n",
    "    n=(zcritico*sigma/E)**2\n",
    "    solucion_latex += r\"Error cometido: \\\\ $E=z_{\\alpha/2}\\cdot \\frac{\\sigma}{\\sqrt{n}} \\to n \\approx \\frac{\\sigma^2 \\cdot z_{\\alpha / 2}^2}{E^2}=\"+latex(n)+r\" \\to n \\geq\"+latex(math.ceil(n))+r\"$ \\\\ \"\n",
    "\n",
    "    \n",
    "    return alpha, pmax, round(zcritico,4), round(n,4), math.ceil(n), enunciado_latex, solucion_latex\n",
    "\n",
    "\n",
    "def error_max_proporcion(confianza, proporcion, E) :\n",
    "    enunciado_latex = r\"\"\"Tamaño de la muestra para estimar la proporcion con un error máximo: {}, si la proporción muestral es: {} y el grado de confianza: {}\\%. \\\\ \\\\ \"\"\".format(E,proporcion,confianza*100)\n",
    "    alpha = 1-confianza\n",
    "    #pmax = (1-(1-confianza)/2)\n",
    "    pmax = confianza+(alpha)/2\n",
    "    zcritico=round(scipy.stats.norm.ppf(pmax),4)\n",
    "    solucion_latex = r\"\"\"Calculamos el tamaño de la muestra para estimar la proporcion con un error máximo: {}, si la proporción muestral es: {} y el grado de confianza: {}\\%. \\\\ \\\\ \"\"\".format(E,proporcion,confianza*100)\n",
    "    solucion_latex += r\"Valor crítico: \\\\ $\\alpha=1-\"+latex(confianza)+r\"=\"+latex(round(1-confianza,2))+r\"\\to \\frac{\\alpha}{2}=\"+latex(round(alpha/2,4))+r\"$ \\\\ \\\\ \"\n",
    "    solucion_latex += r\"$P(Z>z_{\\alpha/2})=\"+latex(round(alpha/2,4))+r\"\\to P(Z<z_{\\alpha/2})=\"+latex(pmax)+r\" \\to z_{\\alpha/2} =\"+latex(zcritico)+r\"$ \\\\ \"\n",
    "    solucion_latex += tikz_confianza(confianza,zcritico)\n",
    "    n=(proporcion*(1-proporcion))/(E/zcritico)**2\n",
    "    solucion_latex += r\"Error cometido: \\\\ $E=z_{\\alpha / 2}\\cdot \\sqrt{\\frac{\\widehat{p}\\cdot\\left(1-\\widehat{p} \\right)}{n}} \\to n =\\frac{\\widehat{p}\\cdot\\left(1-\\widehat{p} \\right)\\cdot z_{\\alpha / 2}^2}{E^2} \\to n \\geq\"+latex(math.ceil(n))+r\"$ \\\\ \"\n",
    "\n",
    "    \n",
    "    return alpha, pmax, round(zcritico,4), round(n,4), math.ceil(n), enunciado_latex, solucion_latex\n",
    "\n",
    "def confianza_media(sigma, N, E) :\n",
    "    # Devuelve el grado de confianza correspondiente a un tamaño de muestra y un intervalo para la media\n",
    "    valor_critico = round(solve(z*sigma/sqrt(N)-E,z)[0],2)\n",
    "    Z = Normal('Z',0,1)\n",
    "    alpha = 2*(P(Z>valor_critico).evalf(4))\n",
    "    confianza = 1-alpha\n",
    "    solucion = r\"Calculamos el grado de confianza para un error máximo: {}, siendo el tamaño muestral: {} y la desviación típica: {}. \\\\ \\\\ \".format(E,N,sigma)\n",
    "    solucion += r\" \\\\ Como $E=z_{\\alpha / 2}\\cdot \\frac{\\sigma}{\\sqrt{n}} \\Rightarrow z_{\\alpha / 2} =\"\n",
    "    solucion += r\"\\frac{E \\cdot \\sqrt{n}}{\\sigma}\\to z_{\\alpha / 2}=\"+latex(valor_critico)+r\"$ \\\\ \"\n",
    "    solucion += r\"$P(Z>z_{\\alpha / 2})=P(Z>\"+latex(valor_critico)+r\")=\\frac{\\alpha}{2}=\"+latex(P(Z>valor_critico).evalf(4))+r\"$ \\\\ \"\n",
    "    solucion += r\"$\\alpha=\"+latex(alpha)+r\" \\to \\quad confianza=1 - \\alpha=\"+latex(confianza)+r\" \\to \"+latex(confianza*100)+r\" \\%$ \"\n",
    "    return confianza, solucion"
   ]
  },
  {
   "cell_type": "code",
   "execution_count": 11,
   "metadata": {},
   "outputs": [
    {
     "data": {
      "text/plain": [
       "(0.05, 5.10000000000000)"
      ]
     },
     "execution_count": 11,
     "metadata": {},
     "output_type": "execute_result"
    }
   ],
   "source": [
    "Z = Normal('Z',0,1)\n",
    "X = Normal ('X',5,2)\n",
    "\n",
    "\n",
    "P(-2.17>Z).evalf(4)\n",
    "P(And(-2.03<Z, Z<1.52)).evalf(4), (P(Z<1.52)-1+P(Z<2.03)).evalf(4)\n",
    "\n",
    "round(scipy.stats.norm.ppf(0.8365),2)\n",
    "mu = 5\n",
    "des = 2\n",
    "#P(X>80).evalf(4)\n",
    "P(And(3<X, X<6)).evalf(4)\n",
    "#P(X<7.2).evalf(4)\n",
    "p = 1 - 0.4801\n",
    "round(scipy.stats.norm.ppf(p),2)\n",
    "val=round(scipy.stats.norm.ppf(p),2)\n",
    "val, solve((k-5)/2-val)[0]\n"
   ]
  },
  {
   "cell_type": "code",
   "execution_count": 63,
   "metadata": {},
   "outputs": [
    {
     "data": {
      "text/plain": [
       "1.66"
      ]
     },
     "execution_count": 63,
     "metadata": {},
     "output_type": "execute_result"
    }
   ],
   "source": [
    "round(scipy.stats.norm.ppf(1-round((round(1-0.5934,4))/2,4)),2)*2\n",
    "\n",
    "round(scipy.stats.norm.ppf(1 - round(1-0.5934,4)/2),2)*2"
   ]
  },
  {
   "cell_type": "code",
   "execution_count": 17,
   "metadata": {
    "colab": {
     "base_uri": "https://localhost:8080/",
     "height": 523
    },
    "colab_type": "code",
    "id": "lboD0-7ggHow",
    "outputId": "1d8d175f-09bb-42a3-8bd0-1cce0f8479cd"
   },
   "outputs": [
    {
     "name": "stdout",
     "output_type": "stream",
     "text": [
      "Intervalo de confianza para la media, si la media muestral es: 6.32, la desviación típica: 2.3, tamaño de la muestra: 100 y el grado de confianza: 95.0\\%. \\\\ \\\\ \n",
      "Calculamos el intervalo de confianza para la media, sabiendo que la media muestral es: 6.32, la desviación típica: 2.3, tamaño de la muestra: 100 y el grado de confianza: 95.0\\%. \\\\ \\\\ Valor crítico: \\\\ $\\alpha=1-0.95=0.05\\to \\frac{\\alpha}{2}=0.025$ \\\\ \\\\ $P(Z>z_{\\alpha/2})=0.025\\to P(Z<z_{\\alpha/2})=0.975 \\to z_{\\alpha/2} =1.96$ \\\\ \n",
      "    \\begin{tikzpicture}[scale=0.8]\n",
      "    \\pgfmathdeclarefunction{gauss}{2}{\\pgfmathparse{1/(#2*sqrt(2*pi))*exp(-((x-#1)^2)/(2*#2^2))}}\n",
      "    \\tikzmath{\\conf = 0.95; \\crit= 1.96; \\a=0.025);}\n",
      "    \\begin{axis}[no markers, domain=-5:5, samples=100, axis lines=left, height=5cm, width=12cm, xtick={0,\\crit}, ytick=\\empty, xticklabels = {$0$, $z_{\\frac{\\alpha}{2}}=\\crit$},enlargelimits=false, clip=false, axis on top]\n",
      "      \\addplot [fill=cyan!20, draw=none, domain=-\\crit:\\crit] {gauss(0,1)} \\closedcycle;\n",
      "      \\addplot [very thick,cyan!50!black] {gauss(0,1)};\n",
      "    \\end{axis}\n",
      "    \\node[] at (5.2,1.5) {$\\conf$};\t\n",
      "    \\draw[-]   (\\crit+6.5,1)node[right]{$\\a$}  --  (\\crit+5.6,0.1) ;\n",
      "    \\end{tikzpicture} \\\\\n",
      "    Error cometido: \\\\ $E=z_{\\alpha/2}\\cdot \\frac{\\sigma}{\\sqrt{n}} \\to E=1.96\\cdot \\frac{2.3}{10.0}=0.4508$ \\\\ Por tanto el intervalo de confianza será: \\\\$\\left(\\overline{x} - E , \\overline{x} + E \\right)=\\left(6.32 - 0.4508 , 6.32 + 0.4508 \\right)=\\left(5.8692, 6.7708 \\right)$ \\\\  \\\\ \n",
      "    \\begin{tikzpicture}[scale=0.4]\n",
      "      \\tikzmath{\\a = -10; \\b = 10; \\aa = \\a -1; \\bb = \\b + 1 ; \\dist = \\b - \\a; \\med = (\\a + \\b)/2;}\n",
      "      \\draw[very thick] (\\a,0) -- (\\b,0);\n",
      "      \\path [draw=black, fill=white] (\\b,0) circle (2pt);\n",
      "      \\path [draw=black, fill=white] (\\a,0.0) circle (2pt);\n",
      "      \\draw[latex-latex] (\\a - 1.5,0) -- (\\b + 1.5,0) ;\n",
      "      \\draw[shift={(\\a,0)},color=black] (0pt,3pt) -- (0pt,-3pt);\n",
      "      \\draw[shift={(\\a,0)},color=black] (0pt,0pt) -- (0pt,-3pt) node[below] {$5.8692$};\n",
      "      \\draw[shift={(\\med,0)},color=black] (0pt,3pt) -- (0pt,-3pt);\n",
      "      \\draw[shift={(\\med,0)},color=black] (0pt,0pt) -- (0pt,-3pt) node[below] {$6.32$};\n",
      "      \\draw[shift={(\\b,0)},color=black] (0pt,3pt) -- (0pt,-3pt);\n",
      "      \\draw[shift={(\\b,0)},color=black] (0pt,0pt) -- (0pt,-3pt) node[below] {$6.7708$};\n",
      "      \\draw[decorate,decoration={brace}, thick](\\med,0.2)--(\\b,0.2) node[above, midway] {$E=0.4508$}; \n",
      "    \\end{tikzpicture} \\\\\n",
      "    \n"
     ]
    }
   ],
   "source": [
    "#ejemplo \n",
    "\n",
    "mu = 6.32\n",
    "sigma = 2.3\n",
    "confianza = 0.95\n",
    "N = 100\n",
    "\n",
    "print(media_intervalo(confianza, mu , sigma, N)[7])\n",
    "print(media_intervalo(confianza, mu , sigma, N)[8])\n",
    "\n"
   ]
  },
  {
   "cell_type": "markdown",
   "metadata": {},
   "source": [
    "### Ejercicios del cuadernillo"
   ]
  },
  {
   "cell_type": "code",
   "execution_count": 3,
   "metadata": {},
   "outputs": [],
   "source": [
    "enunciado = r\"\"\"p71e01-Una muestra aleatoria de 36 personas, empleadas en una gran industria, da el número medio de días al año\n",
    "que faltan al trabajo es $\\overline{x} = 12$ con $s = 4$.\n",
    "a) Dar una estimación puntual de $\\mu$.\n",
    "b) Tomando un nivel del 99\\% dar el intervalo de confianza de $\\mu$.\n",
    "c) Tomando un nivel del 95\\% dar el intervalo de confianza de $\\mu$.\"\"\"\n",
    "N=36\n",
    "mu=12\n",
    "s=4\n",
    "#sigma=round(sqrt(N/(N-1)*s**2),4)\n",
    "sigma = s\n",
    "\n",
    "solucion = r\"\"\"a) $\\mu\\approx \"\"\"+latex(mu)+r\"\"\"$ \\\\ b) \"\"\"\n",
    "solucion += media_intervalo(0.99,mu,sigma,N)[8] + r\"\\\\ c) \"\n",
    "solucion += media_intervalo(0.95,mu,sigma,N)[8]\n",
    "\n",
    "lista_ejercicios.append([enunciado,solucion])\n"
   ]
  },
  {
   "cell_type": "code",
   "execution_count": 4,
   "metadata": {},
   "outputs": [],
   "source": [
    "enunciado = r\"\"\"p71e02- Cuál debe ser el tamaño de una muestra si se quiere estimar el gasto medio de una familia en electricidad,\n",
    "mensualmente, con un error menor de 1.500 pesetas y el 95/% como nivel de confianza, sabiendo que el gasto\n",
    "medio en 1999 era de 13.300 ptas. con una desviación de 1.200 ptas.\"\"\"\n",
    "\n",
    "E=1500\n",
    "mu=13300\n",
    "sigma=1200\n",
    "\n",
    "solucion = error_max_media(0.95,sigma,E)[6]\n",
    "#solucion = r\"\"\"Deberá ser: \"\"\"+latex(mu)+r\"\"\"$ \\\\ b) \"\"\"\n",
    "\n",
    "lista_ejercicios.append([enunciado,solucion])\n"
   ]
  },
  {
   "cell_type": "code",
   "execution_count": 5,
   "metadata": {},
   "outputs": [],
   "source": [
    "enunciado = r\"\"\"p71e03- Una muestra aleatoria de 100 bombillas producidas por una determinada fábrica, tiene una vida media de\n",
    "1.280 horas con una desviación típica de 140 horas:\n",
    "i) Estimar la duración media de las bombillas fabricas por esa fábrica.\n",
    "ii) Dar el intervalo de confianza, a un nivel del 0,95 de la estimación anterior.\"\"\"\n",
    "N=100\n",
    "mu=1280\n",
    "sigma=140\n",
    "\n",
    "solucion = r\"\"\"i) $\\mu\\approx \"\"\"+latex(mu)+r\"\"\"$ \\\\ ii) \"\"\"\n",
    "solucion += media_intervalo(0.95,mu,sigma,N)[8] \n",
    "\n",
    "lista_ejercicios.append([enunciado,solucion])\n"
   ]
  },
  {
   "cell_type": "code",
   "execution_count": 6,
   "metadata": {},
   "outputs": [],
   "source": [
    "enunciado = r\"\"\"p71e04- La dirección de un hotel quiere saber el número de días que, de promedio, sus clientes se hospedan en él .\n",
    "Toma una muestra de 400 clientes y obtiene una media de 5,4 días con una desviación típica de 2 días.\n",
    "i) Estimar el número medio de días que los clientes permanecen en el hotel.\n",
    "ii) Hallar el intervalo de confianza de la estimación anterior a un nivel del 90\\%\"\"\"\n",
    "N=400\n",
    "mu=5.4\n",
    "sigma=2\n",
    "\n",
    "solucion = r\"\"\"i) $\\mu\\approx \"\"\"+latex(mu)+r\"\"\"$ \\\\ ii) \"\"\"\n",
    "solucion += media_intervalo(0.9,mu,sigma,N)[8] \n",
    "\n",
    "lista_ejercicios.append([enunciado,solucion])\n"
   ]
  },
  {
   "cell_type": "code",
   "execution_count": 7,
   "metadata": {},
   "outputs": [],
   "source": [
    "enunciado = r\"\"\"p71e05- Una muestra aleatoria de 225 votantes tiene 135 partidarios para el pago de impuestos destinados a la mejora\n",
    "de la ciudad.\n",
    "i) Efectuar una estimación puntual del porcentaje de votantes que están a favor de pagar el nuevo\n",
    "impuesto.\n",
    "ii) Dar el intervalo de confianza, a un nivel del 0,95 de la estimación anterior.\"\"\"\n",
    "N=225\n",
    "aciertos=135\n",
    "\n",
    "\n",
    "solucion = r\"\"\"i) $p \\approx \\widehat{p} =\"\"\"+latex(round((aciertos/N)*100),4)+r\"\"\"$\\% \\\\ ii) \"\"\"\n",
    "solucion += proporcion_intervalo(0.95,aciertos,N)[9] \n",
    "\n",
    "\n",
    "lista_ejercicios.append([enunciado,solucion])\n"
   ]
  },
  {
   "cell_type": "code",
   "execution_count": 8,
   "metadata": {},
   "outputs": [],
   "source": [
    "enunciado = r\"\"\"p71e06- El valor de diez cheques al descubierto ha sido de 670, 1400, 350, 1700, 2000, 1700, 530, 710, 1200 y 1000\n",
    "euros. Si estas diez denuncias se consideran como una muestra del total de todas las que por ese motivo se\n",
    "realizan a lo largo de un año, ¿cuál será el valor medio de los cheques al descubierto que se expedirán.\"\"\"\n",
    "\n",
    "datos = [670, 1400, 350, 1700, 2000, 1700, 530, 710, 1200, 1000]\n",
    "N=10\n",
    "\n",
    "solucion = r\"\"\"Calculamos la media estadística para estimar la media: $\\overline{x}=\\frac{{\\sum_{i=1}^n x_i }}{n} =\"\"\"+latex(media_desviacion_muestra(datos)[0])+r\"\"\"$ \\\\\"\"\"\n",
    "\n",
    "lista_ejercicios.append([enunciado,solucion])"
   ]
  },
  {
   "cell_type": "code",
   "execution_count": 9,
   "metadata": {},
   "outputs": [],
   "source": [
    "enunciado = r\"\"\"p71e07- De 120 alumnos, la proporción de que tengan dos o más hermanos es de 48/120. Indica los parámetros de la\n",
    "distribución a las que se ajustarían las muestras de tamaño 30.\"\"\"\n",
    "str_p='48/120'\n",
    "p = S(str_p)\n",
    "n = 30\n",
    "str_s= \"sqrt((\"+str_p+\"*(1-\"+str_p+\"))/\"+str(n)+\")\"\n",
    "\n",
    "\n",
    "solucion = r\"\"\"La distribución muestral $\\widehat{p} \\rightarrow N \\left ( p , \\sqrt{ \\frac{p \\cdot (1-p)} {n}}\\right )$. Luego: \\\\ \"\"\"\n",
    "solucion += r\"\"\"$p \\approx \\widehat{p}=\"\"\"+latex(S(str_p, evaluate=False))+r\"\"\"=\"\"\"+latex(S(str_p))+r\"\"\"$ \\\\ \"\"\"\n",
    "solucion += r\"\"\"$\\sigma \\approx \\sqrt{\\frac{\"\"\"+latex(S(str_p, evaluate=False))\n",
    "solucion += r\"\"\"\\cdot \\left(1-\"\"\"+latex(S(str_p, evaluate=False))+r\"\"\"\\right)}{\"\"\"+latex(n)+r\"\"\"}}=\"\"\"+latex(S(str_s))+r\"\"\"$ \\\\ \"\"\"\n",
    "\n",
    "lista_ejercicios.append([enunciado,solucion])\n"
   ]
  },
  {
   "cell_type": "code",
   "execution_count": 10,
   "metadata": {},
   "outputs": [],
   "source": [
    "enunciado = r\"\"\"p71e08- En cierto instituto de Enseñanza Secundaria hay matriculados 800 alumnos. A una muestra seleccionada\n",
    "aleatoriamente de un 15\\% de ellos, se les preguntó si utilizaban la cafetería del centro. Contestaron\n",
    "negativamente un total de 24 alumnos. Estima el porcentaje de alumnado que utiliza la cafetería del instituto.\n",
    "Determina, con un confianza del 99\\%, el error máximo cometido con dicha estimación\"\"\"\n",
    "N=15*800/100\n",
    "aciertos=15*800/100-24\n",
    "\n",
    "\n",
    "solucion = r\"\"\"i) Tamaño de la muestra:$\"\"\"+latex(N)+r\"\"\"$. Alumnos de la muestra que utiliza la cafetería: $\"\"\"+latex(aciertos)+r\"\"\"\\to $ \\\\ \"\"\"\n",
    "solucion += r\"\"\"$p \\approx \\widehat{p} =\"\"\"+latex(round((aciertos/N)*100),4)+r\"\"\"$\\% \\\\ ii) \"\"\"\n",
    "solucion += proporcion_intervalo(0.95,aciertos,N)[9]+ r\"\\\\ Por tanto, el error máximo es: \"  \n",
    "solucion += latex(proporcion_intervalo(0.95,aciertos,N)[4]) \n",
    "\n",
    "lista_ejercicios.append([enunciado,solucion])\n"
   ]
  },
  {
   "cell_type": "code",
   "execution_count": 11,
   "metadata": {},
   "outputs": [],
   "source": [
    "enunciado = r\"\"\"p71e09- Para estimar la proporción de las familias de una determinada ciudad que poseen microondas, \n",
    "se quiere\n",
    "utilizar una muestra aleatoria de medida n. Calcula el valor mínimo de n para garantizar que, a un nivel de\n",
    "confianza del 95\\%, el error en la estimación sea menor que 0,005. (Como se desconoce la proporción, se ha de\n",
    "tomar el caso más desfavorable que será 0,5)\"\"\"\n",
    "\n",
    "E=0.005\n",
    "proporcion=0.5\n",
    "\n",
    "\n",
    "solucion = error_max_proporcion(0.95,proporcion,E)[6]\n",
    "solucion\n",
    "\n",
    "lista_ejercicios.append([enunciado,solucion])\n"
   ]
  },
  {
   "cell_type": "code",
   "execution_count": 12,
   "metadata": {},
   "outputs": [],
   "source": [
    "enunciado = r\"\"\"p71e10- El peso medio de una muestra aleatoria de 81 personas de una determinada población es de 63,5 kg. Se\n",
    "sabe que la desviación típica poblacional es de 6 kg. Con un nivel de significación del 0,05, ¿hay suficientes\n",
    "evidencias para rechazar la afirmación de que el peso medio poblacional es de 60 kg.?\"\"\"\n",
    "N=81\n",
    "mu=63.5\n",
    "sigma=6\n",
    "\n",
    "solucion = r\"\"\"Calulamos el intervalo de confianza centrado en: \"\"\"+latex(mu)+r\"\"\"$ \\\\\"\"\"\n",
    "solucion += media_intervalo(0.95,mu,sigma,N)[8] \n",
    "solucion += r\" \\\\ Como 60 queda fuera del intervalo, se rechaza la afirmación\"\n",
    "\n",
    "# lista_ejercicios.append([enunciado,solucion])\n"
   ]
  },
  {
   "cell_type": "code",
   "execution_count": 13,
   "metadata": {},
   "outputs": [
    {
     "data": {
      "text/plain": [
       "(0.050000000000000044,\n",
       " 0.975,\n",
       " 1.96,\n",
       " 0.98,\n",
       " 5.52,\n",
       " 7.48,\n",
       " (5.520018007729973, 7.479981992270027),\n",
       " 'Intervalo de confianza para la media, si la media muestral es: 6.5, la desviación típica: 4, tamaño de la muestra: 64 y el grado de confianza: 95.0\\\\%. \\\\\\\\ \\\\\\\\ ',\n",
       " 'Calculamos el intervalo de confianza para la media, sabiendo que la media muestral es: 6.5, la desviación típica: 4, tamaño de la muestra: 64 y el grado de confianza: 95.0\\\\%. \\\\\\\\ \\\\\\\\ Valor crítico: \\\\\\\\ $\\\\alpha=1-0.95=0.05\\\\to \\\\frac{\\\\alpha}{2}=0.025$ \\\\\\\\ \\\\\\\\ $P(Z>z_{\\\\alpha/2})=0.025\\\\to P(Z<z_{\\\\alpha/2})=0.975 \\\\to z_{\\\\alpha/2} =1.96$ \\\\\\\\ \\n    \\\\begin{tikzpicture}[scale=0.8]\\n    \\\\pgfmathdeclarefunction{gauss}{2}{\\\\pgfmathparse{1/(#2*sqrt(2*pi))*exp(-((x-#1)^2)/(2*#2^2))}}\\n    \\\\tikzmath{\\\\conf = 0.95; \\\\crit= 1.96; \\\\a=0.025);}\\n    \\\\begin{axis}[no markers, domain=-5:5, samples=100, axis lines=left, height=5cm, width=12cm, xtick={0,\\\\crit}, ytick=\\\\empty, xticklabels = {$0$, $z_{\\\\frac{\\\\alpha}{2}}=\\\\crit$},enlargelimits=false, clip=false, axis on top]\\n      \\\\addplot [fill=cyan!20, draw=none, domain=-\\\\crit:\\\\crit] {gauss(0,1)} \\\\closedcycle;\\n      \\\\addplot [very thick,cyan!50!black] {gauss(0,1)};\\n    \\\\end{axis}\\n    \\\\node[] at (5.2,1.5) {$\\\\conf$};\\t\\n    \\\\draw[-]   (\\\\crit+6.5,1)node[right]{$\\\\a$}  --  (\\\\crit+5.6,0.1) ;\\n    \\\\end{tikzpicture} \\\\\\\\\\n    Error cometido: \\\\\\\\ $E=z_{\\\\alpha/2}\\\\cdot \\\\frac{\\\\sigma}{\\\\sqrt{n}} \\\\to E=1.96\\\\cdot \\\\frac{4}{8.0}=0.98$ \\\\\\\\ Por tanto el intervalo de confianza será: \\\\\\\\$\\\\left(\\\\overline{x} - E , \\\\overline{x} + E \\\\right)=\\\\left(6.5 - 0.98 , 6.5 + 0.98 \\\\right)=\\\\left(5.52, 7.48 \\\\right)$ \\\\\\\\  \\\\\\\\ \\n    \\\\begin{tikzpicture}[scale=0.4]\\n      \\\\tikzmath{\\\\a = -10; \\\\b = 10; \\\\aa = \\\\a -1; \\\\bb = \\\\b + 1 ; \\\\dist = \\\\b - \\\\a; \\\\med = (\\\\a + \\\\b)/2;}\\n      \\\\draw[very thick] (\\\\a,0) -- (\\\\b,0);\\n      \\\\path [draw=black, fill=white] (\\\\b,0) circle (2pt);\\n      \\\\path [draw=black, fill=white] (\\\\a,0.0) circle (2pt);\\n      \\\\draw[latex-latex] (\\\\a - 1.5,0) -- (\\\\b + 1.5,0) ;\\n      \\\\draw[shift={(\\\\a,0)},color=black] (0pt,3pt) -- (0pt,-3pt);\\n      \\\\draw[shift={(\\\\a,0)},color=black] (0pt,0pt) -- (0pt,-3pt) node[below] {$5.52$};\\n      \\\\draw[shift={(\\\\med,0)},color=black] (0pt,3pt) -- (0pt,-3pt);\\n      \\\\draw[shift={(\\\\med,0)},color=black] (0pt,0pt) -- (0pt,-3pt) node[below] {$6.5$};\\n      \\\\draw[shift={(\\\\b,0)},color=black] (0pt,3pt) -- (0pt,-3pt);\\n      \\\\draw[shift={(\\\\b,0)},color=black] (0pt,0pt) -- (0pt,-3pt) node[below] {$7.48$};\\n      \\\\draw[decorate,decoration={brace}, thick](\\\\med,0.2)--(\\\\b,0.2) node[above, midway] {$E=0.98$}; \\n    \\\\end{tikzpicture} \\\\\\\\\\n    ')"
      ]
     },
     "execution_count": 13,
     "metadata": {},
     "output_type": "execute_result"
    }
   ],
   "source": [
    "enunciado = r\"\"\"p71e11- Una encuesta realizada a 64 empleados de una fábrica, concluyó que el tiempo medio de duración de un\n",
    "empleo en la mismca era de 6,5 años, con una desviación típica de 4. ¿Sirve esta información para aceptar, con\n",
    "un nivel de significación del 5\\%, que el tiempo medio de empleo en esa fábrica es menor o igual a 6 años?\"\"\"\n",
    "N=64\n",
    "mu=6.5\n",
    "sigma=4\n",
    "\n",
    "solucion = r\"\"\"i) $\\mu\\approx \"\"\"+latex(mu)+r\"\"\"$ \\\\ ii) \"\"\"\n",
    "solucion += media_intervalo(0.95,mu,sigma,N)[8] \n",
    "solucion += r\" \\\\ Como 6 queda fuera del intervalo, se rechaza la afirmación\"\n",
    "\n",
    "media_intervalo(0.95,mu,sigma,N)\n",
    "# lista_ejercicios.append([enunciado,solucion])\n"
   ]
  },
  {
   "cell_type": "code",
   "execution_count": 14,
   "metadata": {},
   "outputs": [],
   "source": [
    "enunciado = r\"\"\"p71e12- En un determinado barrio se seleccionó al azar una muestra de 100 personas cuya media de ingresos\n",
    "mensuales resultaba igual a 106.000 ptas. con una desviación típica de 20.000 ptas.\n",
    "a) Si se toma un nivel de confianza del 95\\% , ¿Cuál es el intervalo de confianza para la media de los\n",
    "ingresos mensuales de toda la población?\n",
    "b) Si se toma un nivel de significación igual a 0,01, ¿cuál es el tamaño muestral necesario para estimar\n",
    "la media de ingresos mensuales con un error menor de 3.000 pesetas?\"\"\"\n",
    "N=100\n",
    "mu=106000\n",
    "sigma=20000\n",
    "\n",
    "solucion = r\"\"\"a) \\\\  \\\\\"\"\"\n",
    "solucion += media_intervalo(0.95,mu,sigma,N)[8] \n",
    "\n",
    "E=3000\n",
    "solucion += r\" \\\\ b) \\\\\" + latex(error_max_media(0.99, sigma, E)[6])\n",
    "\n",
    "lista_ejercicios.append([enunciado,solucion])\n"
   ]
  },
  {
   "cell_type": "code",
   "execution_count": 15,
   "metadata": {},
   "outputs": [],
   "source": [
    "enunciado = r\"\"\"p71e13- Sea X la variable aleatoria Tiempo empleado por cada 1000 pesetas de mercancía distribuida en una\n",
    "determinada ruta. Una muestra de tamaño 12 proporcionó una media muestral de 3 minutos y una desviación\n",
    "típica de 0,5 minutos. Calcular un intervalo de confianza al 95\\% para el tiempo medio de reparto cada 1000\n",
    "pesetas, suponiendo que la variable aleatoria es aproximadamente normal.\n",
    "a) Si el coste por hora de reparto es de 5000 pesetas calcular los límites entre los cuales estará\n",
    "comprendido el coste de reparto de cada 1000 pesetas con probabilidad de 0,95.\n",
    "b) Calcule el tamaño muestral necesario para que el coste de reparto por cada 1000 pesetas se conozca\n",
    "con una precisión de 5 pesetas asociada a un nivel de confianza de 0,95 (probabilidad de que el error\n",
    "no sobrepase las 5 ptas.)\"\"\"\n",
    "N=12\n",
    "mu=3\n",
    "sigma=0.5\n",
    "\n",
    "intervalo = media_intervalo(0.95,mu,sigma,N)\n",
    "solucion = r\"\"\"a) \\\\\"\"\"\n",
    "solucion += intervalo[8] \n",
    "solucion += r\" \\\\  Por tanto, a 5000 pesetas por hora, el coste estará entre: \"+latex(5000*intervalo[4])+r\" y \"+latex(5000*intervalo[5])+r\".\"\n",
    "\n",
    "E=5\n",
    "solucion += r\" \\\\ b) \\\\\" + latex(error_max_media(0.95, sigma, E)[6])\n",
    "\n",
    "\n",
    "lista_ejercicios.append([enunciado,solucion])\n"
   ]
  },
  {
   "cell_type": "code",
   "execution_count": 16,
   "metadata": {},
   "outputs": [],
   "source": [
    "enunciado = r\"\"\"p71e14- Suponga que la demanda semanal de un cierto artículo, en temporada alta es una variable aleatoria cuya\n",
    "distribución puede considerarse aproximadamente normal.\n",
    "Una muestra de 5 semanas proporcionó una media muestral de 875 unidades y una desviación típica\n",
    "muestral de 23. Obtener con el 99\\% de confianza un intervalo para la demanda media semanal de dicho\n",
    "artículo.\"\"\"\n",
    "N=5\n",
    "mu=875\n",
    "sigma=23\n",
    "\n",
    "solucion = media_intervalo(0.99,mu,sigma,N)[8] \n",
    "\n",
    "lista_ejercicios.append([enunciado,solucion])\n"
   ]
  },
  {
   "cell_type": "code",
   "execution_count": 17,
   "metadata": {},
   "outputs": [],
   "source": [
    "enunciado = r\"\"\"p71e15- i) En un almacén se realizan pedidos de un artículo cualquiera, para que en el momento de la reposición, el\n",
    "nivel de género sea siempre una cantidad fija. Una muestra de tamaño 15 dio un tiempo medio necesario para\n",
    "alcanzar el nivel establecido de seguridad (y por tanto de reposición) de 25 días y una desviación típica\n",
    "muestral de 3 días. Obtenga un intervalo de confianza para estimar el tiempo medio de reposición, con un\n",
    "nivel de confianza del 96\\%\n",
    "ii) Calcula el tamaño muestral necesario para estimar el tiempo medio de reposición con una precisión de 1\n",
    "día con un nivel de confianza de 0,95.\"\"\"\n",
    "N=15\n",
    "mu=25\n",
    "sigma=3\n",
    "\n",
    "solucion = r\"\"\"i) Al enunciado le faltaría indicar que la distribución de pedidos sigue un normal ya que el tamaño de la muestra es menor de 30  \\\\\"\"\"\n",
    "solucion += media_intervalo(0.96,mu,sigma,N)[8] \n",
    "\n",
    "E=3000\n",
    "solucion += r\" \\\\ ii) \\\\\" + latex(error_max_media(0.95, sigma, E)[6])\n",
    "\n",
    "lista_ejercicios.append([enunciado,solucion])\n"
   ]
  },
  {
   "cell_type": "code",
   "execution_count": 18,
   "metadata": {},
   "outputs": [],
   "source": [
    "enunciado = r\"\"\"p71e16- En un municipio de 8940 personas, mayores de 18 años, nos interesa conocer el porcentaje de sujetos que\n",
    "tienen carnet de conducir. Al nivel de confianza del 98\\% y con un error no superior a 0,03 , ¿Qué tamaño\n",
    "tiene que tener la muestra?.\"\"\"\n",
    "\n",
    "E=0.03\n",
    "proporcion=0.5\n",
    "\n",
    "solucion = r\"Como no sabemos la proporción muestral, tomamos el valor 0.5 que es el que maximiza $p \\cdot (1 -p)$ \\\\ \"\n",
    "solucion += error_max_proporcion(0.98,proporcion,E)[6]\n",
    "\n",
    "\n",
    "lista_ejercicios.append([enunciado,solucion])\n"
   ]
  },
  {
   "cell_type": "code",
   "execution_count": 19,
   "metadata": {},
   "outputs": [],
   "source": [
    "enunciado = r\"\"\"p71e17- Al objeto de optimizar los pedidos de tallas de una prenda de vestir para la próxima temporada, se\n",
    "registraron los porcentajes del número de veces que fueron solicitadas las distintas tallas sobre una muestra de\n",
    "500 clientes. Si el porcentaje del número de veces para la talla media fueron del 23\\%, calcule un intervalo de\n",
    "confianza para tal porcentaje con un nivel de significación del 3\\%\"\"\"\n",
    "N=500\n",
    "aciertos=23*N/100\n",
    "\n",
    "solucion = proporcion_intervalo(0.97,aciertos,N)[9]\n",
    "\n",
    "lista_ejercicios.append([enunciado,solucion])\n"
   ]
  },
  {
   "cell_type": "code",
   "execution_count": 20,
   "metadata": {},
   "outputs": [
    {
     "data": {
      "text/plain": [
       "<Figure size 640x480 with 1 Axes>"
      ]
     },
     "metadata": {},
     "output_type": "display_data"
    }
   ],
   "source": [
    "enunciado = r\"\"\"p71e18- La producción de un máquina se distribuye según la ley normal y fabrica piezas con un peso \n",
    "medio de 245\n",
    "gr y una desviación típica de 36,3 gr. Para determinar si las piezas que produce en la actualidad están de\n",
    "acuerdo a estas normas, se toma cada cuatro horas una muestra de 16 piezas y se determina su peso medio.\n",
    "Calcula los límites de confianza al 95 y 99\\%, construyendo el correspondiente gráfico de control.\"\"\"\n",
    "N=16\n",
    "mu=245\n",
    "sigma=36.3\n",
    "\n",
    "solucion = r\"\"\"i) Al 95\\%: \\\\  \"\"\"+media_intervalo(0.95,mu,sigma,N)[8]+r\"\"\" \\\\ ii) Al 99\\%: \\\\  \"\"\"+media_intervalo(0.99,mu,sigma,N)[8]\n",
    "\n",
    "\n",
    "p1=plot(media_intervalo(0.95,mu,sigma,N)[4],media_intervalo(0.95,mu,sigma,N)[5],media_intervalo(0.99,mu,sigma,N)[4],media_intervalo(0.99,mu,sigma,N)[5])\n",
    "p1.save(\"p71e18.png\")\n",
    "\n",
    "solucion += r\"Por tanto el gráfico de control quedará: \\\\ \\includegraphics[scale=0.6]{p71e18.png}\"\n",
    "\n",
    "lista_ejercicios.append([enunciado,solucion])\n"
   ]
  },
  {
   "cell_type": "code",
   "execution_count": 21,
   "metadata": {},
   "outputs": [
    {
     "data": {
      "image/png": "[encoded data removed]",
      "text/plain": [
       "<Figure size 432x288 with 1 Axes>"
      ]
     },
     "metadata": {},
     "output_type": "display_data"
    },
    {
     "data": {
      "image/png": "[encoded data removed]",
      "text/plain": [
       "<Figure size 432x288 with 1 Axes>"
      ]
     },
     "metadata": {},
     "output_type": "display_data"
    }
   ],
   "source": [
    "enunciado = r\"\"\"p71e19- Los pesos de los paquetes de café que envasan en una factoría siguen una distribución normal con un peso\n",
    "medio de 250 gr y desviación típica de 16 gr. En el proceso de control de calidad del envasado se toma una\n",
    "muestra de 16 envases cada cuatro horas y se calcula el peso medio de la muestra. Diseña un gráfico sobre el\n",
    "que podamos representar semanalmente los análisis efectuados y controlar la calidad del proceso con los\n",
    "niveles de confianza del 95 y 99\\%.\"\"\"\n",
    "N=16\n",
    "mu=250\n",
    "sigma=16\n",
    "\n",
    "solucion = r\"\"\"i) Al 95\\%: \\\\  \"\"\"+media_intervalo(0.95,mu,sigma,N)[8]+r\"\"\" \\\\ ii) Al 99\\%: \\\\  \"\"\"+media_intervalo(0.99,mu,sigma,N)[8]\n",
    "\n",
    "\n",
    "p1=plot(media_intervalo(0.95,mu,sigma,N)[4],media_intervalo(0.95,mu,sigma,N)[5],media_intervalo(0.99,mu,sigma,N)[4],media_intervalo(0.99,mu,sigma,N)[5])\n",
    "p1.save(\"p71e19.png\")\n",
    "\n",
    "solucion += r\"Por tanto el gráfico de control quedará: \\\\ \\includegraphics[scale=0.6]{p71e19.png}\"\n",
    "\n",
    "lista_ejercicios.append([enunciado,solucion])\n"
   ]
  },
  {
   "cell_type": "code",
   "execution_count": 22,
   "metadata": {
    "colab": {
     "base_uri": "https://localhost:8080/",
     "height": 112
    },
    "colab_type": "code",
    "id": "qwftFKqXJA68",
    "outputId": "e7a518a1-6a42-4bef-bc7b-efc88d0500c4"
   },
   "outputs": [
    {
     "data": {
      "text/html": [
       "<div>\n",
       "<style scoped>\n",
       "    .dataframe tbody tr th:only-of-type {\n",
       "        vertical-align: middle;\n",
       "    }\n",
       "\n",
       "    .dataframe tbody tr th {\n",
       "        vertical-align: top;\n",
       "    }\n",
       "\n",
       "    .dataframe thead th {\n",
       "        text-align: right;\n",
       "    }\n",
       "</style>\n",
       "<table border=\"1\" class=\"dataframe\">\n",
       "  <thead>\n",
       "    <tr style=\"text-align: right;\">\n",
       "      <th></th>\n",
       "      <th>enunciado</th>\n",
       "      <th>solucion</th>\n",
       "    </tr>\n",
       "  </thead>\n",
       "  <tbody>\n",
       "    <tr>\n",
       "      <th>0</th>\n",
       "      <td>p71e01-Una muestra aleatoria de 36 personas, e...</td>\n",
       "      <td>a) $\\mu\\approx 12$ \\\\ b) Calculamos el interva...</td>\n",
       "    </tr>\n",
       "    <tr>\n",
       "      <th>1</th>\n",
       "      <td>p71e02- Cuál debe ser el tamaño de una muestra...</td>\n",
       "      <td>Calculamos el tamaño de la muestra para estima...</td>\n",
       "    </tr>\n",
       "    <tr>\n",
       "      <th>2</th>\n",
       "      <td>p71e03- Una muestra aleatoria de 100 bombillas...</td>\n",
       "      <td>i) $\\mu\\approx 1280$ \\\\ ii) Calculamos el inte...</td>\n",
       "    </tr>\n",
       "    <tr>\n",
       "      <th>3</th>\n",
       "      <td>p71e04- La dirección de un hotel quiere saber ...</td>\n",
       "      <td>i) $\\mu\\approx 5.4$ \\\\ ii) Calculamos el inter...</td>\n",
       "    </tr>\n",
       "    <tr>\n",
       "      <th>4</th>\n",
       "      <td>p71e05- Una muestra aleatoria de 225 votantes ...</td>\n",
       "      <td>i) $p \\approx \\widehat{p} =60$\\% \\\\ ii) Calcul...</td>\n",
       "    </tr>\n",
       "    <tr>\n",
       "      <th>5</th>\n",
       "      <td>p71e06- El valor de diez cheques al descubiert...</td>\n",
       "      <td>Calculamos la media estadística para estimar l...</td>\n",
       "    </tr>\n",
       "    <tr>\n",
       "      <th>6</th>\n",
       "      <td>p71e07- De 120 alumnos, la proporción de que t...</td>\n",
       "      <td>La distribución muestral $\\widehat{p} \\rightar...</td>\n",
       "    </tr>\n",
       "    <tr>\n",
       "      <th>7</th>\n",
       "      <td>p71e08- En cierto instituto de Enseñanza Secun...</td>\n",
       "      <td>i) Tamaño de la muestra:$120.0$. Alumnos de la...</td>\n",
       "    </tr>\n",
       "    <tr>\n",
       "      <th>8</th>\n",
       "      <td>p71e09- Para estimar la proporción de las fami...</td>\n",
       "      <td>Calculamos el tamaño de la muestra para estima...</td>\n",
       "    </tr>\n",
       "    <tr>\n",
       "      <th>9</th>\n",
       "      <td>p71e12- En un determinado barrio se seleccionó...</td>\n",
       "      <td>a) \\\\  \\\\Calculamos el intervalo de confianza ...</td>\n",
       "    </tr>\n",
       "    <tr>\n",
       "      <th>10</th>\n",
       "      <td>p71e13- Sea X la variable aleatoria Tiempo emp...</td>\n",
       "      <td>a) \\\\Calculamos el intervalo de confianza para...</td>\n",
       "    </tr>\n",
       "    <tr>\n",
       "      <th>11</th>\n",
       "      <td>p71e14- Suponga que la demanda semanal de un c...</td>\n",
       "      <td>Calculamos el intervalo de confianza para la m...</td>\n",
       "    </tr>\n",
       "    <tr>\n",
       "      <th>12</th>\n",
       "      <td>p71e15- i) En un almacén se realizan pedidos d...</td>\n",
       "      <td>i) Al enunciado le faltaría indicar que la dis...</td>\n",
       "    </tr>\n",
       "    <tr>\n",
       "      <th>13</th>\n",
       "      <td>p71e16- En un municipio de 8940 personas, mayo...</td>\n",
       "      <td>Como no sabemos la proporción muestral, tomamo...</td>\n",
       "    </tr>\n",
       "    <tr>\n",
       "      <th>14</th>\n",
       "      <td>p71e17- Al objeto de optimizar los pedidos de ...</td>\n",
       "      <td>Calculamos el intervalo de confianza para la p...</td>\n",
       "    </tr>\n",
       "    <tr>\n",
       "      <th>15</th>\n",
       "      <td>p71e18- La producción de un máquina se distrib...</td>\n",
       "      <td>i) Al 95\\%: \\\\  Calculamos el intervalo de con...</td>\n",
       "    </tr>\n",
       "    <tr>\n",
       "      <th>16</th>\n",
       "      <td>p71e19- Los pesos de los paquetes de café que ...</td>\n",
       "      <td>i) Al 95\\%: \\\\  Calculamos el intervalo de con...</td>\n",
       "    </tr>\n",
       "  </tbody>\n",
       "</table>\n",
       "</div>"
      ],
      "text/plain": [
       "                                            enunciado  \\\n",
       "0   p71e01-Una muestra aleatoria de 36 personas, e...   \n",
       "1   p71e02- Cuál debe ser el tamaño de una muestra...   \n",
       "2   p71e03- Una muestra aleatoria de 100 bombillas...   \n",
       "3   p71e04- La dirección de un hotel quiere saber ...   \n",
       "4   p71e05- Una muestra aleatoria de 225 votantes ...   \n",
       "5   p71e06- El valor de diez cheques al descubiert...   \n",
       "6   p71e07- De 120 alumnos, la proporción de que t...   \n",
       "7   p71e08- En cierto instituto de Enseñanza Secun...   \n",
       "8   p71e09- Para estimar la proporción de las fami...   \n",
       "9   p71e12- En un determinado barrio se seleccionó...   \n",
       "10  p71e13- Sea X la variable aleatoria Tiempo emp...   \n",
       "11  p71e14- Suponga que la demanda semanal de un c...   \n",
       "12  p71e15- i) En un almacén se realizan pedidos d...   \n",
       "13  p71e16- En un municipio de 8940 personas, mayo...   \n",
       "14  p71e17- Al objeto de optimizar los pedidos de ...   \n",
       "15  p71e18- La producción de un máquina se distrib...   \n",
       "16  p71e19- Los pesos de los paquetes de café que ...   \n",
       "\n",
       "                                             solucion  \n",
       "0   a) $\\mu\\approx 12$ \\\\ b) Calculamos el interva...  \n",
       "1   Calculamos el tamaño de la muestra para estima...  \n",
       "2   i) $\\mu\\approx 1280$ \\\\ ii) Calculamos el inte...  \n",
       "3   i) $\\mu\\approx 5.4$ \\\\ ii) Calculamos el inter...  \n",
       "4   i) $p \\approx \\widehat{p} =60$\\% \\\\ ii) Calcul...  \n",
       "5   Calculamos la media estadística para estimar l...  \n",
       "6   La distribución muestral $\\widehat{p} \\rightar...  \n",
       "7   i) Tamaño de la muestra:$120.0$. Alumnos de la...  \n",
       "8   Calculamos el tamaño de la muestra para estima...  \n",
       "9   a) \\\\  \\\\Calculamos el intervalo de confianza ...  \n",
       "10  a) \\\\Calculamos el intervalo de confianza para...  \n",
       "11  Calculamos el intervalo de confianza para la m...  \n",
       "12  i) Al enunciado le faltaría indicar que la dis...  \n",
       "13  Como no sabemos la proporción muestral, tomamo...  \n",
       "14  Calculamos el intervalo de confianza para la p...  \n",
       "15  i) Al 95\\%: \\\\  Calculamos el intervalo de con...  \n",
       "16  i) Al 95\\%: \\\\  Calculamos el intervalo de con...  "
      ]
     },
     "execution_count": 22,
     "metadata": {},
     "output_type": "execute_result"
    }
   ],
   "source": [
    "df=pd.DataFrame(lista_ejercicios,columns=['enunciado','solucion'])\n",
    "df.to_csv(\"ejercicios_intervalos.csv\")\n",
    "df"
   ]
  },
  {
   "cell_type": "code",
   "execution_count": 23,
   "metadata": {},
   "outputs": [],
   "source": [
    "lista_ejercicios2=[]"
   ]
  },
  {
   "cell_type": "code",
   "execution_count": 24,
   "metadata": {},
   "outputs": [
    {
     "name": "stdout",
     "output_type": "stream",
     "text": [
      "Calculamos el grado de confianza para un error máximo: 1.5, siendo el tamaño muestral: 100 y la desviación típica: 5.3. \\\\ \\\\  \\\\ Como $E=z_{\\alpha / 2}\\cdot \\frac{\\sigma}{\\sqrt{n}} \\Rightarrow z_{\\alpha / 2} =\\frac{E \\cdot \\sqrt{n}}{\\sigma}\\to z_{\\alpha / 2}=2.83$ \\\\ $P(Z>z_{\\alpha / 2})=P(Z>2.83)=\\frac{\\alpha}{2}=0.002327$ \\\\ $\\alpha=0.004655 \\to \\quad confianza=1 - \\alpha=0.9953 \\to 99.53 \\%$ \n"
     ]
    }
   ],
   "source": [
    "enunciado = r\"\"\"Para estimar el peso medio de las chicas de\n",
    "16 años de una ciudad, se toma una mues-\n",
    "tra aleatoria de 100 de ellas. Se obtienen\n",
    "los siguientes parámetros: $\\overline{x}$ = 52,5 kg,\n",
    "s = 5,3 kg.\n",
    "Se realiza la afirmación siguiente:\n",
    "“El peso medio de las chicas de 16 años de\n",
    "esta ciudad está entre 51 kg y 54 kg”.\n",
    "¿Con qué nivel de confianza se hace la\n",
    "afirmación?\"\"\"\n",
    "N=100\n",
    "mu=52.5\n",
    "sigma=5.3\n",
    "\n",
    "limite_inferior = 51\n",
    "limite_superior = 54\n",
    "\n",
    "E=(limite_superior-limite_inferior)/2\n",
    "\n",
    "print(confianza_media(sigma, N, E)[1])\n",
    "confianza_media(sigma, N, E)\n",
    "\n",
    "\n",
    "#solucion = 0.9954 \n",
    "solucion = confianza_media(sigma, N, E)[1]\n",
    "lista_ejercicios2.append([enunciado,solucion])"
   ]
  },
  {
   "cell_type": "code",
   "execution_count": 25,
   "metadata": {},
   "outputs": [
    {
     "name": "stdout",
     "output_type": "stream",
     "text": [
      "(0.030000000000000027, 0.985, 2.1701, 196.0181, 197, 'Tamaño de la muestra para estimar la media con un error máximo: 27.9, si la desviación típica es: 180 y el grado de confianza: 97.0\\\\%. \\\\\\\\ \\\\\\\\ ', 'Calculamos el tamaño de la muestra para estimar la media con un error máximo: 27.9, si la desviación típica es: 180 y el grado de confianza: 97.0\\\\%. \\\\\\\\ \\\\\\\\ Valor crítico: \\\\\\\\ $\\\\alpha=1-0.97=0.03\\\\to \\\\frac{\\\\alpha}{2}=0.015$ \\\\\\\\ \\\\\\\\ $P(Z>z_{\\\\alpha/2})=0.015\\\\to P(Z<z_{\\\\alpha/2})=0.985 \\\\to z_{\\\\alpha/2} =2.1701$ \\\\\\\\ \\n    \\\\begin{tikzpicture}[scale=0.8]\\n    \\\\pgfmathdeclarefunction{gauss}{2}{\\\\pgfmathparse{1/(#2*sqrt(2*pi))*exp(-((x-#1)^2)/(2*#2^2))}}\\n    \\\\tikzmath{\\\\conf = 0.97; \\\\crit= 2.1701; \\\\a=0.015);}\\n    \\\\begin{axis}[no markers, domain=-5:5, samples=100, axis lines=left, height=5cm, width=12cm, xtick={0,\\\\crit}, ytick=\\\\empty, xticklabels = {$0$, $z_{\\\\frac{\\\\alpha}{2}}=\\\\crit$},enlargelimits=false, clip=false, axis on top]\\n      \\\\addplot [fill=cyan!20, draw=none, domain=-\\\\crit:\\\\crit] {gauss(0,1)} \\\\closedcycle;\\n      \\\\addplot [very thick,cyan!50!black] {gauss(0,1)};\\n    \\\\end{axis}\\n    \\\\node[] at (5.2,1.5) {$\\\\conf$};\\t\\n    \\\\draw[-]   (\\\\crit+6.5,1)node[right]{$\\\\a$}  --  (\\\\crit+5.6,0.1) ;\\n    \\\\end{tikzpicture} \\\\\\\\\\n    Error cometido: \\\\\\\\ $E=z_{\\\\alpha/2}\\\\cdot \\\\frac{\\\\sigma}{\\\\sqrt{n}} \\\\to n \\\\approx \\\\frac{\\\\sigma^2 \\\\cdot z_{\\\\alpha / 2}^2}{E^2}=196.0180649323622 \\\\to n \\\\geq197$ \\\\\\\\ ')\n"
     ]
    }
   ],
   "source": [
    "enunciado = r\"\"\"Un fabricante de lámparas de bajo consumo sabe que el tiempo de duración, en horas, de las\n",
    "lámparas que fabrica sigue una distribución normal de media desconocida y desviación típica 180\n",
    "horas. Con una muestra de dichas lámparas elegida al azar y con un nivel de confianza del 97\\%,\n",
    "obtuvo para la media el intervalo de confianza (10 072,1; 10 127,9).\n",
    "a) Calcula el valor que obtuvo para la media de la muestra y el tamaño de muestra utilizado.\n",
    "b) Si se quiere que el error de su estimación sea como máximo de 24 horas y se utiliza una muestra de\n",
    "tamaño 225, ¿cuál será entonces el nivel de confianza?\"\"\"\n",
    "\n",
    "sigma = 180\n",
    "#a\n",
    "confianza = 0.97\n",
    "mu =(10072.1+10127.9)/2\n",
    "E = round(mu - 10072.1,2)\n",
    "mu-E, mu,  mu+E\n",
    "\n",
    "print(error_max_media(confianza,sigma,E))\n",
    "solucion = r\"a) \\\\ Del intervalo obtenemos la media muestral: {} y el error máximo: ${}-{}={}$ \\\\ \".format(mu,mu,10072.1,E )\n",
    "solucion += error_max_media(confianza,sigma,E)[6]\n",
    "#b\n",
    "sigma = sigma\n",
    "E = 24\n",
    "N = 225\n",
    "\n",
    "\n",
    "confianza_media(sigma, N, E)\n",
    "\n",
    "solucion += r\"b) \\\\ \"\n",
    "solucion += confianza_media(sigma, N, E)[1]\n",
    "lista_ejercicios2.append([enunciado,solucion])"
   ]
  },
  {
   "cell_type": "code",
   "execution_count": 26,
   "metadata": {},
   "outputs": [],
   "source": [
    "enunciado = r\"\"\"EVAU - Junio 2011. La edad a la que obtienen el permiso de conducir los habitantes de una determinada población\n",
    "es una variable aleatoria que se puede aproximar por una distribución normal de media 24 años y\n",
    "desviación típica 4 años. Se elige aleatoriamente una muestra de 100 habitantes de dicha población. Sea $\\overline{X}$\n",
    "la media muestral de la edad de obtención del permiso de conducir.\n",
    "a) ¿Cuáles son la media y la varianza de $\\overline{X}$ ?\n",
    "\n",
    "b) Halle el intervalo de confianza al 90\\% para $\\overline{X}$ .\n",
    "\"\"\"\n",
    "mu_x = 24\n",
    "sigma_x = 4\n",
    "N=100\n",
    "\n",
    "mu = mu_x\n",
    "sigma = round(sigma_x/sqrt(N),2)\n",
    "var = round(sigma**2,2)\n",
    "\n",
    "\n",
    "# print(round(sigma**2,2))\n",
    "\n",
    "solucion = r\"a) \\\\ La distribución $\\overline{X} \\approx N\\left(\\mu,\\frac{\\sigma}{\\sqrt{n}}\\right)$. Por tanto: \\\\ \"\n",
    "solucion += r\"$\\mu_{\\overline{X}}=mu=\"+latex(mu_x)+r\"$ y $\\sigma_{\\overline{X}}=\\frac{\\sigma}{\\sqrt{n}}=\"+latex(sigma)\n",
    "solucion += r\" \\to var({\\overline{X}})=\\sigma_{\\overline{X}}^2=\"+latex(var)+r\"$\"\n",
    "solucion += r\" \\\\ b) \\\\ \"\n",
    "solucion += media_intervalo(0.9,mu,sigma_x,N)[8]\n",
    "\n",
    "lista_ejercicios2.append([enunciado,solucion])"
   ]
  },
  {
   "cell_type": "code",
   "execution_count": 27,
   "metadata": {},
   "outputs": [
    {
     "name": "stdout",
     "output_type": "stream",
     "text": [
      "\n"
     ]
    }
   ],
   "source": [
    "enunciado = r\"\"\"EVAU - Septiembre 2015. La producción en kilos de los naranjos de una variedad es una variable\n",
    "aleatoria con distribución normal de desviación típica igual a 5 kilos.\n",
    "a) Queremos construir un intervalo de confianza al 96\\% para la media de la producción de los\n",
    "naranjos de esta variedad de forma que su amplitud no sea mayor que 3 kilos. ¿Qué tamaño de la muestra\n",
    "debemos\n",
    "tomar? b).Decidimos tomar un tamaño de la muestra igual a 10. Elegimos 10 naranjos de esta\n",
    "variedad y medimos su producción en kilos, con los siguientes resultados:\n",
    "82 , 90 , 87 , 75 , 78 , 83 , 92 , 77 , 85 , 86\n",
    "Calcular el intervalo de confianza al 96\\% para la media de la producción de los naranjos de esta variedad.\"\"\"\n",
    "\n",
    "# a\n",
    "sigma = 5\n",
    "E= 3/2\n",
    "print()\n",
    "solucion = r\"a) \\\\\"\n",
    "solucion += error_max_media(0.96,sigma,E)[6]\n",
    "\n",
    "#b\n",
    "N=10\n",
    "muestra = [82 , 90 , 87 , 75 , 78 , 83 , 92 , 77 , 85 , 86]\n",
    "\n",
    "mu = media_desviacion_muestra(muestra)[0]\n",
    "\n",
    "solucion += r\"b) \\\\ La media muestral es: {} \\\\\".format(mu)\n",
    "solucion += media_intervalo(0.96, mu, sigma, N)[8]\n",
    "\n",
    "lista_ejercicios2.append([enunciado,solucion])"
   ]
  },
  {
   "cell_type": "code",
   "execution_count": 28,
   "metadata": {},
   "outputs": [],
   "source": [
    "enunciado = r\"\"\"EVAU - Junio 2012. La cantidad de horas que duermen los vecinos de un pueblo de Zaragoza se puede aproximar\n",
    "por una distribución normal con una desviación típica de 0,64. Se toma una muestra aleatoria simple y se\n",
    "obtienen los siguientes datos (en horas que duermen cada noche):\n",
    "6,9 7,3 7,6 6,6 6,5 7,1 6,2 6,9 7,8 6,7 7,0 6,5 5,5 7,2 7,6 5,8\n",
    "a) Calcular la media muestral del número de horas que se duerme cada noche.\n",
    "b) Determinar el nivel de confianza para el cual el intervalo de confianza para la media de\n",
    "horas que se duerme cada noche es (6,65 , 7). Detallar los pasos realizados para obtener los resultados.\"\"\"\n",
    "\n",
    "muestra = [6.9, 7.3, 7.6, 6.6, 6.5, 7.1, 6.2, 6.9, 7.8, 6.7, 7.0, 6.5, 5.5, 7.2, 7.6, 5.8]\n",
    "\n",
    "mu = media_desviacion_muestra(muestra)[0]\n",
    "sigma = 0.64\n",
    "N = len(muestra)\n",
    "\n",
    "solucion = r\"a) \\\\ La media muestral es: {} \\\\\".format(mu)\n",
    "                                                       \n",
    "E= round(mu-6.65,4)\n",
    "solucion += r\"b) \\\\ Del intervalo obtenemos la media muestral: {} y el error máximo: ${}-{}={}$ \\\\ \".format(mu,mu,6.65,E)\n",
    "solucion += confianza_media(sigma, N, E)[1]\n",
    "\n",
    "lista_ejercicios2.append([enunciado,solucion])"
   ]
  },
  {
   "cell_type": "code",
   "execution_count": 44,
   "metadata": {},
   "outputs": [
    {
     "data": {
      "text/plain": [
       "(3.1667, 1.13891584)"
      ]
     },
     "execution_count": 44,
     "metadata": {},
     "output_type": "execute_result"
    }
   ],
   "source": [
    "muestra=[2,3,4,3,2,5]\n",
    "media_desviacion_muestra(muestra)[0],media_desviacion_muestra(muestra)[1]**2"
   ]
  },
  {
   "cell_type": "code",
   "execution_count": 29,
   "metadata": {
    "colab": {
     "base_uri": "https://localhost:8080/",
     "height": 112
    },
    "colab_type": "code",
    "id": "qwftFKqXJA68",
    "outputId": "e7a518a1-6a42-4bef-bc7b-efc88d0500c4"
   },
   "outputs": [
    {
     "data": {
      "text/html": [
       "<div>\n",
       "<style scoped>\n",
       "    .dataframe tbody tr th:only-of-type {\n",
       "        vertical-align: middle;\n",
       "    }\n",
       "\n",
       "    .dataframe tbody tr th {\n",
       "        vertical-align: top;\n",
       "    }\n",
       "\n",
       "    .dataframe thead th {\n",
       "        text-align: right;\n",
       "    }\n",
       "</style>\n",
       "<table border=\"1\" class=\"dataframe\">\n",
       "  <thead>\n",
       "    <tr style=\"text-align: right;\">\n",
       "      <th></th>\n",
       "      <th>enunciado</th>\n",
       "      <th>solucion</th>\n",
       "    </tr>\n",
       "  </thead>\n",
       "  <tbody>\n",
       "    <tr>\n",
       "      <th>0</th>\n",
       "      <td>Para estimar el peso medio de las chicas de\\n1...</td>\n",
       "      <td>Calculamos el grado de confianza para un error...</td>\n",
       "    </tr>\n",
       "    <tr>\n",
       "      <th>1</th>\n",
       "      <td>Un fabricante de lámparas de bajo consumo sabe...</td>\n",
       "      <td>a) \\\\ Del intervalo obtenemos la media muestra...</td>\n",
       "    </tr>\n",
       "    <tr>\n",
       "      <th>2</th>\n",
       "      <td>EVAU - Junio 2011. La edad a la que obtienen e...</td>\n",
       "      <td>a) \\\\ La distribución $\\overline{X} \\approx N\\...</td>\n",
       "    </tr>\n",
       "    <tr>\n",
       "      <th>3</th>\n",
       "      <td>EVAU - Septiembre 2015. La producción en kilos...</td>\n",
       "      <td>a) \\\\Calculamos el tamaño de la muestra para e...</td>\n",
       "    </tr>\n",
       "    <tr>\n",
       "      <th>4</th>\n",
       "      <td>EVAU - Junio 2012. La cantidad de horas que du...</td>\n",
       "      <td>a) \\\\ La media muestral es: 6.825 \\\\b) \\\\ Del ...</td>\n",
       "    </tr>\n",
       "  </tbody>\n",
       "</table>\n",
       "</div>"
      ],
      "text/plain": [
       "                                           enunciado  \\\n",
       "0  Para estimar el peso medio de las chicas de\\n1...   \n",
       "1  Un fabricante de lámparas de bajo consumo sabe...   \n",
       "2  EVAU - Junio 2011. La edad a la que obtienen e...   \n",
       "3  EVAU - Septiembre 2015. La producción en kilos...   \n",
       "4  EVAU - Junio 2012. La cantidad de horas que du...   \n",
       "\n",
       "                                            solucion  \n",
       "0  Calculamos el grado de confianza para un error...  \n",
       "1  a) \\\\ Del intervalo obtenemos la media muestra...  \n",
       "2  a) \\\\ La distribución $\\overline{X} \\approx N\\...  \n",
       "3  a) \\\\Calculamos el tamaño de la muestra para e...  \n",
       "4  a) \\\\ La media muestral es: 6.825 \\\\b) \\\\ Del ...  "
      ]
     },
     "execution_count": 29,
     "metadata": {},
     "output_type": "execute_result"
    }
   ],
   "source": [
    "df=pd.DataFrame(lista_ejercicios2,columns=['enunciado','solucion'])\n",
    "df.to_csv(\"ejercicios_intervalos2.csv\")\n",
    "df"
   ]
  },
  {
   "cell_type": "code",
   "execution_count": 4,
   "metadata": {},
   "outputs": [],
   "source": [
    "lista_ejercicios3 = []\n",
    "\n",
    "enunciado = r\"\"\"Se quiere estimar la demanda diaria media de un artículo.\n",
    "Una muestra de 31 días proporcionó una media muestral de 87 unidades y una desviación típica\n",
    " de 5. Obtener con el 97\\% de confianza un intervalo para la demanda media diaria de dicho\n",
    "artículo.\"\"\"\n",
    "N=31\n",
    "mu=87\n",
    "sigma=5\n",
    "\n",
    "solucion = media_intervalo(0.97,mu,sigma,N)[8] \n",
    "\n",
    "lista_ejercicios3.append([enunciado,solucion])"
   ]
  },
  {
   "cell_type": "code",
   "execution_count": 5,
   "metadata": {},
   "outputs": [
    {
     "data": {
      "text/html": [
       "<div>\n",
       "<style scoped>\n",
       "    .dataframe tbody tr th:only-of-type {\n",
       "        vertical-align: middle;\n",
       "    }\n",
       "\n",
       "    .dataframe tbody tr th {\n",
       "        vertical-align: top;\n",
       "    }\n",
       "\n",
       "    .dataframe thead th {\n",
       "        text-align: right;\n",
       "    }\n",
       "</style>\n",
       "<table border=\"1\" class=\"dataframe\">\n",
       "  <thead>\n",
       "    <tr style=\"text-align: right;\">\n",
       "      <th></th>\n",
       "      <th>enunciado</th>\n",
       "      <th>solucion</th>\n",
       "    </tr>\n",
       "  </thead>\n",
       "  <tbody>\n",
       "    <tr>\n",
       "      <th>0</th>\n",
       "      <td>Se quiere estimar la demanda diaria media de u...</td>\n",
       "      <td>Calculamos el intervalo de confianza para la m...</td>\n",
       "    </tr>\n",
       "  </tbody>\n",
       "</table>\n",
       "</div>"
      ],
      "text/plain": [
       "                                           enunciado  \\\n",
       "0  Se quiere estimar la demanda diaria media de u...   \n",
       "\n",
       "                                            solucion  \n",
       "0  Calculamos el intervalo de confianza para la m...  "
      ]
     },
     "execution_count": 5,
     "metadata": {},
     "output_type": "execute_result"
    }
   ],
   "source": [
    "df=pd.DataFrame(lista_ejercicios3,columns=['enunciado','solucion'])\n",
    "df.to_csv(\"ejercicios_intervalos3.csv\")\n",
    "df"
   ]
  },
  {
   "cell_type": "code",
   "execution_count": 45,
   "metadata": {},
   "outputs": [],
   "source": [
    "lista_ejercicios4 = []\n",
    "\n",
    "enunciado = r\"\"\"Se sabe que el gasto mensual en teléfono de los habitantes de una ciudad sigue una distribución normal\n",
    "de desviación típica 6 euros. Se toma una muestra de 10 jóvenes y se obtienen los siguientes resultados (expresados \n",
    "en euros): \\\\ 24.5, 11, 16.5, 18.5, 21.5, 25, 6.5, 12,\n",
    "10.5, 9.5  \\\\ Construya un intervalo de confianza de nivel 92 \\% para la media del gasto mensual en \n",
    "teléfono de los habitantes \n",
    "de la ciudad.\"\"\"\n",
    "\n",
    "datos = [24.5, 11, 16.5, 18.5, 21.5, 25, 6.5, 12, 10.5, 9.5]\n",
    "N = 10\n",
    "mu = media_desviacion_muestra(datos)[0]\n",
    "sigma = 6\n",
    "\n",
    "mu\n",
    "\n",
    "solucion = media_intervalo(0.92,mu,sigma,N)[8] \n",
    "\n",
    "lista_ejercicios4.append([enunciado,solucion])"
   ]
  },
  {
   "cell_type": "code",
   "execution_count": 46,
   "metadata": {},
   "outputs": [],
   "source": [
    "enunciado = r\"\"\"La duración de las bombillas de un fabricante es una variable aleatoria con distribución\n",
    "normal de desviación típica 80 horas. \\\\ Queremos construir un intervalo de confianza al 97\\% para la media de la duración de\n",
    "las bombillas del fabricante, de forma que el error no sea mayor de 10 horas. ¿Qué tamaño de la muestra\n",
    "debemos tomar?\"\"\"\n",
    "\n",
    "E=10\n",
    "\n",
    "sigma=80\n",
    "\n",
    "solucion = error_max_media(0.97,sigma,E)[6]\n",
    "#solucion = r\"\"\"Deberá ser: \"\"\"+latex(mu)+r\"\"\"$ \\\\ b) \"\"\"\n",
    "\n",
    "lista_ejercicios4.append([enunciado,solucion])\n",
    "\n",
    "\n"
   ]
  },
  {
   "cell_type": "code",
   "execution_count": 47,
   "metadata": {},
   "outputs": [],
   "source": [
    "enunciado = r\"\"\"La duración de las bombillas de un fabricante es una variable aleatoria con distribución\n",
    "normal de desviación típica 80 horas. \\\\ Decidimos tomar un tamaño de la muestra igual a 150, comprobamos la duración de cada\n",
    "bombilla y calculamos su promedio, que resulta ser 1053 horas. Calcular el intervalo de confianza al 97\\%\n",
    "para la media de la duración de las bombillas del fabricante.\"\"\"\n",
    "\n",
    "\n",
    "N=150\n",
    "mu = 1053\n",
    "sigma=80\n",
    "\n",
    "mu\n",
    "\n",
    "solucion = media_intervalo(0.97,mu,sigma,N)[8] \n",
    "\n",
    "lista_ejercicios4.append([enunciado,solucion])\n",
    "\n"
   ]
  },
  {
   "cell_type": "code",
   "execution_count": 48,
   "metadata": {},
   "outputs": [],
   "source": [
    "enunciado = r\"\"\"Para optimizar los pedidos de las tallas de zapatos para un centro comercial, se\n",
    "registraron los porcentajes del número de veces que fueron solicitadas las distintas tallas sobre una muestra de\n",
    "1000 clientes. Si el porcentaje del número de veces para la talla media fueron del 25\\%, calcule un intervalo de\n",
    "confianza para tal porcentaje con un nivel de significación del 4\\%\"\"\"\n",
    "N=1000\n",
    "aciertos=25*N/100\n",
    "\n",
    "solucion = proporcion_intervalo(0.96,aciertos,N)[9]\n",
    "\n",
    "lista_ejercicios4.append([enunciado,solucion])"
   ]
  },
  {
   "cell_type": "code",
   "execution_count": 49,
   "metadata": {},
   "outputs": [],
   "source": [
    "enunciado = r\"\"\"Para estimar la proporción de las familias de una determinada ciudad que tienen smart tv, \n",
    "se quiere\n",
    "utilizar una muestra aleatoria de medida n. Calcula el valor mínimo de n para garantizar que, a un nivel de\n",
    "confianza del 92\\%, el error en la estimación sea menor que 0,05. (PISTA: Como se desconoce la proporción, \n",
    "se ha de tomar el caso más desfavorable que será 0.5)\"\"\"\n",
    "\n",
    "E=0.05\n",
    "proporcion=0.5\n",
    "\n",
    "\n",
    "solucion = error_max_proporcion(0.92,proporcion,E)[6]\n",
    "solucion\n",
    "\n",
    "lista_ejercicios4.append([enunciado,solucion])"
   ]
  },
  {
   "cell_type": "code",
   "execution_count": 50,
   "metadata": {},
   "outputs": [],
   "source": [
    "enunciado = r\"\"\"La cantidad de horas semanales que los habitantes de Utebo emplean en ver series de TV\n",
    "se puede aproximar\n",
    "por una distribución normal con una desviación típica de 0,64. Se toma una muestra aleatoria simple y se\n",
    "obtienen los siguientes datos: \\\\\n",
    "6.9, 7.3, 7.6, 6.6, 6.5, 7.1, 6.2, 6.9, 7.8, 6.7, 7.0, 6.5, 5.5, 7.2, 7.6, 5.8 \\\\\n",
    "\n",
    "Determinar el nivel de confianza para el cual el intervalo de confianza para la media de\n",
    "horas semanales que se ven series de TV es (6.65 , 7). Detallar los pasos realizados para obtener los resultados.\"\"\"\n",
    "\n",
    "muestra = [6.9, 7.3, 7.6, 6.6, 6.5, 7.1, 6.2, 6.9, 7.8, 6.7, 7.0, 6.5, 5.5, 7.2, 7.6, 5.8]\n",
    "\n",
    "mu = media_desviacion_muestra(muestra)[0]\n",
    "sigma = 0.64\n",
    "N = len(muestra)\n",
    "\n",
    "solucion = r\"La media muestral es: {} \\\\ \".format(mu)\n",
    "                                                       \n",
    "E= round(mu-6.65,4)\n",
    "solucion += r\"Del intervalo obtenemos la media muestral: {} y el error máximo: ${}-{}={}$ \\\\ \".format(mu,mu,6.65,E)\n",
    "solucion += confianza_media(sigma, N, E)[1]\n",
    "\n",
    "lista_ejercicios4.append([enunciado,solucion])"
   ]
  },
  {
   "cell_type": "code",
   "execution_count": 51,
   "metadata": {},
   "outputs": [
    {
     "data": {
      "text/html": [
       "<div>\n",
       "<style scoped>\n",
       "    .dataframe tbody tr th:only-of-type {\n",
       "        vertical-align: middle;\n",
       "    }\n",
       "\n",
       "    .dataframe tbody tr th {\n",
       "        vertical-align: top;\n",
       "    }\n",
       "\n",
       "    .dataframe thead th {\n",
       "        text-align: right;\n",
       "    }\n",
       "</style>\n",
       "<table border=\"1\" class=\"dataframe\">\n",
       "  <thead>\n",
       "    <tr style=\"text-align: right;\">\n",
       "      <th></th>\n",
       "      <th>enunciado</th>\n",
       "      <th>solucion</th>\n",
       "    </tr>\n",
       "  </thead>\n",
       "  <tbody>\n",
       "    <tr>\n",
       "      <th>0</th>\n",
       "      <td>Se sabe que el gasto mensual en teléfono de lo...</td>\n",
       "      <td>Calculamos el intervalo de confianza para la m...</td>\n",
       "    </tr>\n",
       "    <tr>\n",
       "      <th>1</th>\n",
       "      <td>La duración de las bombillas de un fabricante ...</td>\n",
       "      <td>Calculamos el tamaño de la muestra para estima...</td>\n",
       "    </tr>\n",
       "    <tr>\n",
       "      <th>2</th>\n",
       "      <td>La duración de las bombillas de un fabricante ...</td>\n",
       "      <td>Calculamos el intervalo de confianza para la m...</td>\n",
       "    </tr>\n",
       "    <tr>\n",
       "      <th>3</th>\n",
       "      <td>Para optimizar los pedidos de las tallas de za...</td>\n",
       "      <td>Calculamos el intervalo de confianza para la p...</td>\n",
       "    </tr>\n",
       "    <tr>\n",
       "      <th>4</th>\n",
       "      <td>Para estimar la proporción de las familias de ...</td>\n",
       "      <td>Calculamos el tamaño de la muestra para estima...</td>\n",
       "    </tr>\n",
       "    <tr>\n",
       "      <th>5</th>\n",
       "      <td>La cantidad de horas semanales que los habitan...</td>\n",
       "      <td>La media muestral es: 6.825 \\\\ Del intervalo o...</td>\n",
       "    </tr>\n",
       "  </tbody>\n",
       "</table>\n",
       "</div>"
      ],
      "text/plain": [
       "                                           enunciado  \\\n",
       "0  Se sabe que el gasto mensual en teléfono de lo...   \n",
       "1  La duración de las bombillas de un fabricante ...   \n",
       "2  La duración de las bombillas de un fabricante ...   \n",
       "3  Para optimizar los pedidos de las tallas de za...   \n",
       "4  Para estimar la proporción de las familias de ...   \n",
       "5  La cantidad de horas semanales que los habitan...   \n",
       "\n",
       "                                            solucion  \n",
       "0  Calculamos el intervalo de confianza para la m...  \n",
       "1  Calculamos el tamaño de la muestra para estima...  \n",
       "2  Calculamos el intervalo de confianza para la m...  \n",
       "3  Calculamos el intervalo de confianza para la p...  \n",
       "4  Calculamos el tamaño de la muestra para estima...  \n",
       "5  La media muestral es: 6.825 \\\\ Del intervalo o...  "
      ]
     },
     "execution_count": 51,
     "metadata": {},
     "output_type": "execute_result"
    }
   ],
   "source": [
    "df=pd.DataFrame(lista_ejercicios4,columns=['enunciado','solucion'])\n",
    "df.to_csv(\"ejercicios_intervalos4.csv\")\n",
    "df"
   ]
  },
  {
   "cell_type": "code",
   "execution_count": 30,
   "metadata": {},
   "outputs": [],
   "source": [
    "Z = Normal"
   ]
  },
  {
   "cell_type": "code",
   "execution_count": 31,
   "metadata": {},
   "outputs": [
    {
     "data": {
      "text/plain": [
       "(0.09999999999999998,\n",
       " 0.95,\n",
       " 1.6449,\n",
       " 10.4033,\n",
       " 309.5967,\n",
       " 330.4033,\n",
       " (309.59703224248886, 330.40296775751114),\n",
       " 'Intervalo de confianza para la media, si la media muestral es: 320, la desviación típica: 60, tamaño de la muestra: 90 y el grado de confianza: 90.0\\\\%. \\\\\\\\ \\\\\\\\ ',\n",
       " 'Calculamos el intervalo de confianza para la media, sabiendo que la media muestral es: 320, la desviación típica: 60, tamaño de la muestra: 90 y el grado de confianza: 90.0\\\\%. \\\\\\\\ \\\\\\\\ Valor crítico: \\\\\\\\ $\\\\alpha=1-0.9=0.1\\\\to \\\\frac{\\\\alpha}{2}=0.05$ \\\\\\\\ \\\\\\\\ $P(Z>z_{\\\\alpha/2})=0.05\\\\to P(Z<z_{\\\\alpha/2})=0.95 \\\\to z_{\\\\alpha/2} =1.6449$ \\\\\\\\ \\n    \\\\begin{tikzpicture}[scale=0.8]\\n    \\\\pgfmathdeclarefunction{gauss}{2}{\\\\pgfmathparse{1/(#2*sqrt(2*pi))*exp(-((x-#1)^2)/(2*#2^2))}}\\n    \\\\tikzmath{\\\\conf = 0.9; \\\\crit= 1.6449; \\\\a=0.05);}\\n    \\\\begin{axis}[no markers, domain=-5:5, samples=100, axis lines=left, height=5cm, width=12cm, xtick={0,\\\\crit}, ytick=\\\\empty, xticklabels = {$0$, $z_{\\\\frac{\\\\alpha}{2}}=\\\\crit$},enlargelimits=false, clip=false, axis on top]\\n      \\\\addplot [fill=cyan!20, draw=none, domain=-\\\\crit:\\\\crit] {gauss(0,1)} \\\\closedcycle;\\n      \\\\addplot [very thick,cyan!50!black] {gauss(0,1)};\\n    \\\\end{axis}\\n    \\\\node[] at (5.2,1.5) {$\\\\conf$};\\t\\n    \\\\draw[-]   (\\\\crit+6.5,1)node[right]{$\\\\a$}  --  (\\\\crit+5.6,0.1) ;\\n    \\\\end{tikzpicture} \\\\\\\\\\n    Error cometido: \\\\\\\\ $E=z_{\\\\alpha/2}\\\\cdot \\\\frac{\\\\sigma}{\\\\sqrt{n}} \\\\to E=1.6449\\\\cdot \\\\frac{60}{9.486832980505138}=10.4033$ \\\\\\\\ Por tanto el intervalo de confianza será: \\\\\\\\$\\\\left(\\\\overline{x} - E , \\\\overline{x} + E \\\\right)=\\\\left(320 - 10.4033 , 320 + 10.4033 \\\\right)=\\\\left(309.5967, 330.4033 \\\\right)$ \\\\\\\\  \\\\\\\\ \\n    \\\\begin{tikzpicture}[scale=0.4]\\n      \\\\tikzmath{\\\\a = -10; \\\\b = 10; \\\\aa = \\\\a -1; \\\\bb = \\\\b + 1 ; \\\\dist = \\\\b - \\\\a; \\\\med = (\\\\a + \\\\b)/2;}\\n      \\\\draw[very thick] (\\\\a,0) -- (\\\\b,0);\\n      \\\\path [draw=black, fill=white] (\\\\b,0) circle (2pt);\\n      \\\\path [draw=black, fill=white] (\\\\a,0.0) circle (2pt);\\n      \\\\draw[latex-latex] (\\\\a - 1.5,0) -- (\\\\b + 1.5,0) ;\\n      \\\\draw[shift={(\\\\a,0)},color=black] (0pt,3pt) -- (0pt,-3pt);\\n      \\\\draw[shift={(\\\\a,0)},color=black] (0pt,0pt) -- (0pt,-3pt) node[below] {$309.5967$};\\n      \\\\draw[shift={(\\\\med,0)},color=black] (0pt,3pt) -- (0pt,-3pt);\\n      \\\\draw[shift={(\\\\med,0)},color=black] (0pt,0pt) -- (0pt,-3pt) node[below] {$320$};\\n      \\\\draw[shift={(\\\\b,0)},color=black] (0pt,3pt) -- (0pt,-3pt);\\n      \\\\draw[shift={(\\\\b,0)},color=black] (0pt,0pt) -- (0pt,-3pt) node[below] {$330.4033$};\\n      \\\\draw[decorate,decoration={brace}, thick](\\\\med,0.2)--(\\\\b,0.2) node[above, midway] {$E=10.4033$}; \\n    \\\\end{tikzpicture} \\\\\\\\\\n    ')"
      ]
     },
     "execution_count": 31,
     "metadata": {},
     "output_type": "execute_result"
    }
   ],
   "source": [
    "enunciado = r\"\"\"Se cree que el tiempo medio de ocio que dedican al día los estudiantes de Bachillerato sigue una\n",
    "distribución normal de media 350 minutos y desviación típica poblacional de 60 minutos. Para\n",
    "contrastar esta hipótesis se toma una muestra aleatoria formada por 100 alumnos y se observa que el\n",
    "tiempo medio es 320 minutos. ¿Qué se puede decir de esta afirmación al nivel del 10\\%?\"\"\"\n",
    "\n",
    "mu=320\n",
    "sigma=60\n",
    "confianza=0.9\n",
    "N=90\n",
    "\n",
    "media_intervalo(confianza, mu, sigma, N)"
   ]
  },
  {
   "cell_type": "code",
   "execution_count": 32,
   "metadata": {},
   "outputs": [
    {
     "data": {
      "text/plain": [
       "(0.09999999999999998,\n",
       " 0.95,\n",
       " 1.6449,\n",
       " 0.3381,\n",
       " 4.8619,\n",
       " 5.5381,\n",
       " (4.861903547880888, 5.538096452119112),\n",
       " 'Intervalo de confianza para la media, si la media muestral es: 5.2, la desviación típica: 1.3, tamaño de la muestra: 40 y el grado de confianza: 90.0\\\\%. \\\\\\\\ \\\\\\\\ ',\n",
       " 'Calculamos el intervalo de confianza para la media, sabiendo que la media muestral es: 5.2, la desviación típica: 1.3, tamaño de la muestra: 40 y el grado de confianza: 90.0\\\\%. \\\\\\\\ \\\\\\\\ Valor crítico: \\\\\\\\ $\\\\alpha=1-0.9=0.1\\\\to \\\\frac{\\\\alpha}{2}=0.05$ \\\\\\\\ \\\\\\\\ $P(Z>z_{\\\\alpha/2})=0.05\\\\to P(Z<z_{\\\\alpha/2})=0.95 \\\\to z_{\\\\alpha/2} =1.6449$ \\\\\\\\ \\n    \\\\begin{tikzpicture}[scale=0.8]\\n    \\\\pgfmathdeclarefunction{gauss}{2}{\\\\pgfmathparse{1/(#2*sqrt(2*pi))*exp(-((x-#1)^2)/(2*#2^2))}}\\n    \\\\tikzmath{\\\\conf = 0.9; \\\\crit= 1.6449; \\\\a=0.05);}\\n    \\\\begin{axis}[no markers, domain=-5:5, samples=100, axis lines=left, height=5cm, width=12cm, xtick={0,\\\\crit}, ytick=\\\\empty, xticklabels = {$0$, $z_{\\\\frac{\\\\alpha}{2}}=\\\\crit$},enlargelimits=false, clip=false, axis on top]\\n      \\\\addplot [fill=cyan!20, draw=none, domain=-\\\\crit:\\\\crit] {gauss(0,1)} \\\\closedcycle;\\n      \\\\addplot [very thick,cyan!50!black] {gauss(0,1)};\\n    \\\\end{axis}\\n    \\\\node[] at (5.2,1.5) {$\\\\conf$};\\t\\n    \\\\draw[-]   (\\\\crit+6.5,1)node[right]{$\\\\a$}  --  (\\\\crit+5.6,0.1) ;\\n    \\\\end{tikzpicture} \\\\\\\\\\n    Error cometido: \\\\\\\\ $E=z_{\\\\alpha/2}\\\\cdot \\\\frac{\\\\sigma}{\\\\sqrt{n}} \\\\to E=1.6449\\\\cdot \\\\frac{1.3}{6.324555320336759}=0.3381$ \\\\\\\\ Por tanto el intervalo de confianza será: \\\\\\\\$\\\\left(\\\\overline{x} - E , \\\\overline{x} + E \\\\right)=\\\\left(5.2 - 0.3381 , 5.2 + 0.3381 \\\\right)=\\\\left(4.8619, 5.5381 \\\\right)$ \\\\\\\\  \\\\\\\\ \\n    \\\\begin{tikzpicture}[scale=0.4]\\n      \\\\tikzmath{\\\\a = -10; \\\\b = 10; \\\\aa = \\\\a -1; \\\\bb = \\\\b + 1 ; \\\\dist = \\\\b - \\\\a; \\\\med = (\\\\a + \\\\b)/2;}\\n      \\\\draw[very thick] (\\\\a,0) -- (\\\\b,0);\\n      \\\\path [draw=black, fill=white] (\\\\b,0) circle (2pt);\\n      \\\\path [draw=black, fill=white] (\\\\a,0.0) circle (2pt);\\n      \\\\draw[latex-latex] (\\\\a - 1.5,0) -- (\\\\b + 1.5,0) ;\\n      \\\\draw[shift={(\\\\a,0)},color=black] (0pt,3pt) -- (0pt,-3pt);\\n      \\\\draw[shift={(\\\\a,0)},color=black] (0pt,0pt) -- (0pt,-3pt) node[below] {$4.8619$};\\n      \\\\draw[shift={(\\\\med,0)},color=black] (0pt,3pt) -- (0pt,-3pt);\\n      \\\\draw[shift={(\\\\med,0)},color=black] (0pt,0pt) -- (0pt,-3pt) node[below] {$5.2$};\\n      \\\\draw[shift={(\\\\b,0)},color=black] (0pt,3pt) -- (0pt,-3pt);\\n      \\\\draw[shift={(\\\\b,0)},color=black] (0pt,0pt) -- (0pt,-3pt) node[below] {$5.5381$};\\n      \\\\draw[decorate,decoration={brace}, thick](\\\\med,0.2)--(\\\\b,0.2) node[above, midway] {$E=0.3381$}; \\n    \\\\end{tikzpicture} \\\\\\\\\\n    ')"
      ]
     },
     "execution_count": 32,
     "metadata": {},
     "output_type": "execute_result"
    }
   ],
   "source": [
    "enunciado = r\"\"\"Se ha pasado una prueba a un grupo numeroso de alumnos de mañana y tarde y se ha visto que las\n",
    "calificaciones se distribuyen según una normal de media 5,5. Se sospecha que la calificación media\n",
    "de los alumnos de la tarde es algo inferior. Para contrastar esta hipótesis se ha elegido al azar a 40\n",
    "alumnos del turno de tarde, obteniéndose que sus calificaciones tienen de media 5,2 y desviación\n",
    "típica 1,3. ¿Será cierta la sospecha al nivel del 10\\%?\"\"\"\n",
    "\n",
    "mu=5.2\n",
    "sigma=1.3\n",
    "confianza=0.9\n",
    "N=40\n",
    "\n",
    "media_intervalo(confianza, mu, sigma, N)"
   ]
  },
  {
   "cell_type": "markdown",
   "metadata": {
    "colab_type": "text",
    "id": "UwRAK3GxnO7d"
   },
   "source": [
    "### Septiembre 2012\n",
    "La cantidad de refresco que se sirve en cada vaso a la entrada de unos cines está\n",
    "normalmente distribuida con una desviación típica de 15 ml. Hemos medido las cantidades en los vasos de\n",
    "los 25 asistentes de una determinada sesión que compraron un refresco y hemos obtenido un promedio de\n",
    "200,8 ml. Fijado un nivel de confianza del 90%, calcular el intervalo de confianza para la media de la\n",
    "cantidad de refresco que se sirve en cada vaso."
   ]
  },
  {
   "cell_type": "code",
   "execution_count": 33,
   "metadata": {
    "colab": {
     "base_uri": "https://localhost:8080/",
     "height": 211
    },
    "colab_type": "code",
    "id": "S0FGu_8WnRu2",
    "outputId": "782479ad-a4d3-478e-8d58-2670660ec8cc"
   },
   "outputs": [
    {
     "data": {
      "text/plain": [
       "((195.8654391191456, 205.73456088085442),\n",
       " (0.09999999999999998,\n",
       "  0.95,\n",
       "  1.6449,\n",
       "  4.9347,\n",
       "  195.86530000000002,\n",
       "  205.7347,\n",
       "  (195.8654391191456, 205.73456088085442),\n",
       "  'Intervalo de confianza para la media, si la media muestral es: 200.8, la desviación típica: 15, tamaño de la muestra: 25 y el grado de confianza: 90.0\\\\%. \\\\\\\\ \\\\\\\\ ',\n",
       "  'Calculamos el intervalo de confianza para la media, sabiendo que la media muestral es: 200.8, la desviación típica: 15, tamaño de la muestra: 25 y el grado de confianza: 90.0\\\\%. \\\\\\\\ \\\\\\\\ Valor crítico: \\\\\\\\ $\\\\alpha=1-0.9=0.1\\\\to \\\\frac{\\\\alpha}{2}=0.05$ \\\\\\\\ \\\\\\\\ $P(Z>z_{\\\\alpha/2})=0.05\\\\to P(Z<z_{\\\\alpha/2})=0.95 \\\\to z_{\\\\alpha/2} =1.6449$ \\\\\\\\ \\n    \\\\begin{tikzpicture}[scale=0.8]\\n    \\\\pgfmathdeclarefunction{gauss}{2}{\\\\pgfmathparse{1/(#2*sqrt(2*pi))*exp(-((x-#1)^2)/(2*#2^2))}}\\n    \\\\tikzmath{\\\\conf = 0.9; \\\\crit= 1.6449; \\\\a=0.05);}\\n    \\\\begin{axis}[no markers, domain=-5:5, samples=100, axis lines=left, height=5cm, width=12cm, xtick={0,\\\\crit}, ytick=\\\\empty, xticklabels = {$0$, $z_{\\\\frac{\\\\alpha}{2}}=\\\\crit$},enlargelimits=false, clip=false, axis on top]\\n      \\\\addplot [fill=cyan!20, draw=none, domain=-\\\\crit:\\\\crit] {gauss(0,1)} \\\\closedcycle;\\n      \\\\addplot [very thick,cyan!50!black] {gauss(0,1)};\\n    \\\\end{axis}\\n    \\\\node[] at (5.2,1.5) {$\\\\conf$};\\t\\n    \\\\draw[-]   (\\\\crit+6.5,1)node[right]{$\\\\a$}  --  (\\\\crit+5.6,0.1) ;\\n    \\\\end{tikzpicture} \\\\\\\\\\n    Error cometido: \\\\\\\\ $E=z_{\\\\alpha/2}\\\\cdot \\\\frac{\\\\sigma}{\\\\sqrt{n}} \\\\to E=1.6449\\\\cdot \\\\frac{15}{5.0}=4.9347$ \\\\\\\\ Por tanto el intervalo de confianza será: \\\\\\\\$\\\\left(\\\\overline{x} - E , \\\\overline{x} + E \\\\right)=\\\\left(200.8 - 4.9347 , 200.8 + 4.9347 \\\\right)=\\\\left(195.8653, 205.7347 \\\\right)$ \\\\\\\\  \\\\\\\\ \\n    \\\\begin{tikzpicture}[scale=0.4]\\n      \\\\tikzmath{\\\\a = -10; \\\\b = 10; \\\\aa = \\\\a -1; \\\\bb = \\\\b + 1 ; \\\\dist = \\\\b - \\\\a; \\\\med = (\\\\a + \\\\b)/2;}\\n      \\\\draw[very thick] (\\\\a,0) -- (\\\\b,0);\\n      \\\\path [draw=black, fill=white] (\\\\b,0) circle (2pt);\\n      \\\\path [draw=black, fill=white] (\\\\a,0.0) circle (2pt);\\n      \\\\draw[latex-latex] (\\\\a - 1.5,0) -- (\\\\b + 1.5,0) ;\\n      \\\\draw[shift={(\\\\a,0)},color=black] (0pt,3pt) -- (0pt,-3pt);\\n      \\\\draw[shift={(\\\\a,0)},color=black] (0pt,0pt) -- (0pt,-3pt) node[below] {$195.86530000000002$};\\n      \\\\draw[shift={(\\\\med,0)},color=black] (0pt,3pt) -- (0pt,-3pt);\\n      \\\\draw[shift={(\\\\med,0)},color=black] (0pt,0pt) -- (0pt,-3pt) node[below] {$200.8$};\\n      \\\\draw[shift={(\\\\b,0)},color=black] (0pt,3pt) -- (0pt,-3pt);\\n      \\\\draw[shift={(\\\\b,0)},color=black] (0pt,0pt) -- (0pt,-3pt) node[below] {$205.7347$};\\n      \\\\draw[decorate,decoration={brace}, thick](\\\\med,0.2)--(\\\\b,0.2) node[above, midway] {$E=4.9347$}; \\n    \\\\end{tikzpicture} \\\\\\\\\\n    '))"
      ]
     },
     "execution_count": 33,
     "metadata": {},
     "output_type": "execute_result"
    }
   ],
   "source": [
    "mu = 200.8\n",
    "sigma = 15\n",
    "N = 25\n",
    "confianza = 0.90\n",
    "\n",
    "lista_ejercicios.append(media_intervalo(confianza, mu , sigma, N)[7:])\n",
    "scipy.stats.norm.interval(confianza, loc=mu, scale=sigma/np.sqrt(N)), media_intervalo(confianza, mu , sigma, N)\n",
    "\n"
   ]
  },
  {
   "cell_type": "markdown",
   "metadata": {
    "colab_type": "text",
    "id": "Ta5Vqs5FFH3k"
   },
   "source": [
    "### Septiembre 2017\n",
    "\n",
    "La duración de las bombillas de un fabricante es una variable aleatoria con distribución\n",
    "normal de desviación típica 75 horas. Decidimos tomar un tamaño de la muestra igual a 150, comprobamos la duración de cada\n",
    "bombilla y calculamos su promedio, que resulta ser 1053 horas. Calcular el intervalo de confianza al 98\\%\n",
    "para la media de la duración de las bombillas del fabricante."
   ]
  },
  {
   "cell_type": "code",
   "execution_count": 34,
   "metadata": {
    "colab": {
     "base_uri": "https://localhost:8080/",
     "height": 211
    },
    "colab_type": "code",
    "id": "ac8gaIxuFYjN",
    "outputId": "72af0eaf-1e26-4b2a-db3d-e3dd440d913f"
   },
   "outputs": [
    {
     "data": {
      "text/plain": [
       "((1038.7540868609788, 1067.2459131390212),\n",
       " (0.020000000000000018,\n",
       "  0.99,\n",
       "  2.3263,\n",
       "  14.2456,\n",
       "  1038.7544,\n",
       "  1067.2456,\n",
       "  (1038.7540868609788, 1067.2459131390212),\n",
       "  'Intervalo de confianza para la media, si la media muestral es: 1053, la desviación típica: 75, tamaño de la muestra: 150 y el grado de confianza: 98.0\\\\%. \\\\\\\\ \\\\\\\\ ',\n",
       "  'Calculamos el intervalo de confianza para la media, sabiendo que la media muestral es: 1053, la desviación típica: 75, tamaño de la muestra: 150 y el grado de confianza: 98.0\\\\%. \\\\\\\\ \\\\\\\\ Valor crítico: \\\\\\\\ $\\\\alpha=1-0.98=0.02\\\\to \\\\frac{\\\\alpha}{2}=0.01$ \\\\\\\\ \\\\\\\\ $P(Z>z_{\\\\alpha/2})=0.01\\\\to P(Z<z_{\\\\alpha/2})=0.99 \\\\to z_{\\\\alpha/2} =2.3263$ \\\\\\\\ \\n    \\\\begin{tikzpicture}[scale=0.8]\\n    \\\\pgfmathdeclarefunction{gauss}{2}{\\\\pgfmathparse{1/(#2*sqrt(2*pi))*exp(-((x-#1)^2)/(2*#2^2))}}\\n    \\\\tikzmath{\\\\conf = 0.98; \\\\crit= 2.3263; \\\\a=0.01);}\\n    \\\\begin{axis}[no markers, domain=-5:5, samples=100, axis lines=left, height=5cm, width=12cm, xtick={0,\\\\crit}, ytick=\\\\empty, xticklabels = {$0$, $z_{\\\\frac{\\\\alpha}{2}}=\\\\crit$},enlargelimits=false, clip=false, axis on top]\\n      \\\\addplot [fill=cyan!20, draw=none, domain=-\\\\crit:\\\\crit] {gauss(0,1)} \\\\closedcycle;\\n      \\\\addplot [very thick,cyan!50!black] {gauss(0,1)};\\n    \\\\end{axis}\\n    \\\\node[] at (5.2,1.5) {$\\\\conf$};\\t\\n    \\\\draw[-]   (\\\\crit+6.5,1)node[right]{$\\\\a$}  --  (\\\\crit+5.6,0.1) ;\\n    \\\\end{tikzpicture} \\\\\\\\\\n    Error cometido: \\\\\\\\ $E=z_{\\\\alpha/2}\\\\cdot \\\\frac{\\\\sigma}{\\\\sqrt{n}} \\\\to E=2.3263\\\\cdot \\\\frac{75}{12.24744871391589}=14.2456$ \\\\\\\\ Por tanto el intervalo de confianza será: \\\\\\\\$\\\\left(\\\\overline{x} - E , \\\\overline{x} + E \\\\right)=\\\\left(1053 - 14.2456 , 1053 + 14.2456 \\\\right)=\\\\left(1038.7544, 1067.2456 \\\\right)$ \\\\\\\\  \\\\\\\\ \\n    \\\\begin{tikzpicture}[scale=0.4]\\n      \\\\tikzmath{\\\\a = -10; \\\\b = 10; \\\\aa = \\\\a -1; \\\\bb = \\\\b + 1 ; \\\\dist = \\\\b - \\\\a; \\\\med = (\\\\a + \\\\b)/2;}\\n      \\\\draw[very thick] (\\\\a,0) -- (\\\\b,0);\\n      \\\\path [draw=black, fill=white] (\\\\b,0) circle (2pt);\\n      \\\\path [draw=black, fill=white] (\\\\a,0.0) circle (2pt);\\n      \\\\draw[latex-latex] (\\\\a - 1.5,0) -- (\\\\b + 1.5,0) ;\\n      \\\\draw[shift={(\\\\a,0)},color=black] (0pt,3pt) -- (0pt,-3pt);\\n      \\\\draw[shift={(\\\\a,0)},color=black] (0pt,0pt) -- (0pt,-3pt) node[below] {$1038.7544$};\\n      \\\\draw[shift={(\\\\med,0)},color=black] (0pt,3pt) -- (0pt,-3pt);\\n      \\\\draw[shift={(\\\\med,0)},color=black] (0pt,0pt) -- (0pt,-3pt) node[below] {$1053$};\\n      \\\\draw[shift={(\\\\b,0)},color=black] (0pt,3pt) -- (0pt,-3pt);\\n      \\\\draw[shift={(\\\\b,0)},color=black] (0pt,0pt) -- (0pt,-3pt) node[below] {$1067.2456$};\\n      \\\\draw[decorate,decoration={brace}, thick](\\\\med,0.2)--(\\\\b,0.2) node[above, midway] {$E=14.2456$}; \\n    \\\\end{tikzpicture} \\\\\\\\\\n    '))"
      ]
     },
     "execution_count": 34,
     "metadata": {},
     "output_type": "execute_result"
    }
   ],
   "source": [
    "mu = 1053\n",
    "sigma = 75\n",
    "N = 150\n",
    "confianza = 0.98\n",
    "\n",
    "lista_ejercicios.append(media_intervalo(confianza, mu , sigma, N)[7:])\n",
    "scipy.stats.norm.interval(confianza, loc=mu, scale=sigma/np.sqrt(N)), media_intervalo(confianza, mu , sigma, N)\n"
   ]
  },
  {
   "cell_type": "code",
   "execution_count": 35,
   "metadata": {
    "colab": {
     "base_uri": "https://localhost:8080/",
     "height": 106
    },
    "colab_type": "code",
    "id": "aHUY0HniIY9x",
    "outputId": "88c217d4-4e33-4656-8a76-f9842ed6403c"
   },
   "outputs": [
    {
     "data": {
      "text/plain": [
       "[['p71e01-Una muestra aleatoria de 36 personas, empleadas en una gran industria, da el número medio de días al año\\nque faltan al trabajo es $\\\\overline{x} = 12$ con $s = 4$.\\na) Dar una estimación puntual de $\\\\mu$.\\nb) Tomando un nivel del 99\\\\% dar el intervalo de confianza de $\\\\mu$.\\nc) Tomando un nivel del 95\\\\% dar el intervalo de confianza de $\\\\mu$.',\n",
       "  'a) $\\\\mu\\\\approx 12$ \\\\\\\\ b) Calculamos el intervalo de confianza para la media, sabiendo que la media muestral es: 12, la desviación típica: 4, tamaño de la muestra: 36 y el grado de confianza: 99.0\\\\%. \\\\\\\\ \\\\\\\\ Valor crítico: \\\\\\\\ $\\\\alpha=1-0.99=0.01\\\\to \\\\frac{\\\\alpha}{2}=0.005$ \\\\\\\\ \\\\\\\\ $P(Z>z_{\\\\alpha/2})=0.005\\\\to P(Z<z_{\\\\alpha/2})=0.995 \\\\to z_{\\\\alpha/2} =2.5758$ \\\\\\\\ \\n    \\\\begin{tikzpicture}[scale=0.8]\\n    \\\\pgfmathdeclarefunction{gauss}{2}{\\\\pgfmathparse{1/(#2*sqrt(2*pi))*exp(-((x-#1)^2)/(2*#2^2))}}\\n    \\\\tikzmath{\\\\conf = 0.99; \\\\crit= 2.5758; \\\\a=0.005);}\\n    \\\\begin{axis}[no markers, domain=-5:5, samples=100, axis lines=left, height=5cm, width=12cm, xtick={0,\\\\crit}, ytick=\\\\empty, xticklabels = {$0$, $z_{\\\\frac{\\\\alpha}{2}}=\\\\crit$},enlargelimits=false, clip=false, axis on top]\\n      \\\\addplot [fill=cyan!20, draw=none, domain=-\\\\crit:\\\\crit] {gauss(0,1)} \\\\closedcycle;\\n      \\\\addplot [very thick,cyan!50!black] {gauss(0,1)};\\n    \\\\end{axis}\\n    \\\\node[] at (5.2,1.5) {$\\\\conf$};\\t\\n    \\\\draw[-]   (\\\\crit+6.5,1)node[right]{$\\\\a$}  --  (\\\\crit+5.6,0.1) ;\\n    \\\\end{tikzpicture} \\\\\\\\\\n    Error cometido: \\\\\\\\ $E=z_{\\\\alpha/2}\\\\cdot \\\\frac{\\\\sigma}{\\\\sqrt{n}} \\\\to E=2.5758\\\\cdot \\\\frac{4}{6.0}=1.7172$ \\\\\\\\ Por tanto el intervalo de confianza será: \\\\\\\\$\\\\left(\\\\overline{x} - E , \\\\overline{x} + E \\\\right)=\\\\left(12 - 1.7172 , 12 + 1.7172 \\\\right)=\\\\left(10.2828, 13.7172 \\\\right)$ \\\\\\\\  \\\\\\\\ \\n    \\\\begin{tikzpicture}[scale=0.4]\\n      \\\\tikzmath{\\\\a = -10; \\\\b = 10; \\\\aa = \\\\a -1; \\\\bb = \\\\b + 1 ; \\\\dist = \\\\b - \\\\a; \\\\med = (\\\\a + \\\\b)/2;}\\n      \\\\draw[very thick] (\\\\a,0) -- (\\\\b,0);\\n      \\\\path [draw=black, fill=white] (\\\\b,0) circle (2pt);\\n      \\\\path [draw=black, fill=white] (\\\\a,0.0) circle (2pt);\\n      \\\\draw[latex-latex] (\\\\a - 1.5,0) -- (\\\\b + 1.5,0) ;\\n      \\\\draw[shift={(\\\\a,0)},color=black] (0pt,3pt) -- (0pt,-3pt);\\n      \\\\draw[shift={(\\\\a,0)},color=black] (0pt,0pt) -- (0pt,-3pt) node[below] {$10.2828$};\\n      \\\\draw[shift={(\\\\med,0)},color=black] (0pt,3pt) -- (0pt,-3pt);\\n      \\\\draw[shift={(\\\\med,0)},color=black] (0pt,0pt) -- (0pt,-3pt) node[below] {$12$};\\n      \\\\draw[shift={(\\\\b,0)},color=black] (0pt,3pt) -- (0pt,-3pt);\\n      \\\\draw[shift={(\\\\b,0)},color=black] (0pt,0pt) -- (0pt,-3pt) node[below] {$13.7172$};\\n      \\\\draw[decorate,decoration={brace}, thick](\\\\med,0.2)--(\\\\b,0.2) node[above, midway] {$E=1.7172$}; \\n    \\\\end{tikzpicture} \\\\\\\\\\n    \\\\\\\\ c) Calculamos el intervalo de confianza para la media, sabiendo que la media muestral es: 12, la desviación típica: 4, tamaño de la muestra: 36 y el grado de confianza: 95.0\\\\%. \\\\\\\\ \\\\\\\\ Valor crítico: \\\\\\\\ $\\\\alpha=1-0.95=0.05\\\\to \\\\frac{\\\\alpha}{2}=0.025$ \\\\\\\\ \\\\\\\\ $P(Z>z_{\\\\alpha/2})=0.025\\\\to P(Z<z_{\\\\alpha/2})=0.975 \\\\to z_{\\\\alpha/2} =1.96$ \\\\\\\\ \\n    \\\\begin{tikzpicture}[scale=0.8]\\n    \\\\pgfmathdeclarefunction{gauss}{2}{\\\\pgfmathparse{1/(#2*sqrt(2*pi))*exp(-((x-#1)^2)/(2*#2^2))}}\\n    \\\\tikzmath{\\\\conf = 0.95; \\\\crit= 1.96; \\\\a=0.025);}\\n    \\\\begin{axis}[no markers, domain=-5:5, samples=100, axis lines=left, height=5cm, width=12cm, xtick={0,\\\\crit}, ytick=\\\\empty, xticklabels = {$0$, $z_{\\\\frac{\\\\alpha}{2}}=\\\\crit$},enlargelimits=false, clip=false, axis on top]\\n      \\\\addplot [fill=cyan!20, draw=none, domain=-\\\\crit:\\\\crit] {gauss(0,1)} \\\\closedcycle;\\n      \\\\addplot [very thick,cyan!50!black] {gauss(0,1)};\\n    \\\\end{axis}\\n    \\\\node[] at (5.2,1.5) {$\\\\conf$};\\t\\n    \\\\draw[-]   (\\\\crit+6.5,1)node[right]{$\\\\a$}  --  (\\\\crit+5.6,0.1) ;\\n    \\\\end{tikzpicture} \\\\\\\\\\n    Error cometido: \\\\\\\\ $E=z_{\\\\alpha/2}\\\\cdot \\\\frac{\\\\sigma}{\\\\sqrt{n}} \\\\to E=1.96\\\\cdot \\\\frac{4}{6.0}=1.3067$ \\\\\\\\ Por tanto el intervalo de confianza será: \\\\\\\\$\\\\left(\\\\overline{x} - E , \\\\overline{x} + E \\\\right)=\\\\left(12 - 1.3067 , 12 + 1.3067 \\\\right)=\\\\left(10.6933, 13.3067 \\\\right)$ \\\\\\\\  \\\\\\\\ \\n    \\\\begin{tikzpicture}[scale=0.4]\\n      \\\\tikzmath{\\\\a = -10; \\\\b = 10; \\\\aa = \\\\a -1; \\\\bb = \\\\b + 1 ; \\\\dist = \\\\b - \\\\a; \\\\med = (\\\\a + \\\\b)/2;}\\n      \\\\draw[very thick] (\\\\a,0) -- (\\\\b,0);\\n      \\\\path [draw=black, fill=white] (\\\\b,0) circle (2pt);\\n      \\\\path [draw=black, fill=white] (\\\\a,0.0) circle (2pt);\\n      \\\\draw[latex-latex] (\\\\a - 1.5,0) -- (\\\\b + 1.5,0) ;\\n      \\\\draw[shift={(\\\\a,0)},color=black] (0pt,3pt) -- (0pt,-3pt);\\n      \\\\draw[shift={(\\\\a,0)},color=black] (0pt,0pt) -- (0pt,-3pt) node[below] {$10.6933$};\\n      \\\\draw[shift={(\\\\med,0)},color=black] (0pt,3pt) -- (0pt,-3pt);\\n      \\\\draw[shift={(\\\\med,0)},color=black] (0pt,0pt) -- (0pt,-3pt) node[below] {$12$};\\n      \\\\draw[shift={(\\\\b,0)},color=black] (0pt,3pt) -- (0pt,-3pt);\\n      \\\\draw[shift={(\\\\b,0)},color=black] (0pt,0pt) -- (0pt,-3pt) node[below] {$13.3067$};\\n      \\\\draw[decorate,decoration={brace}, thick](\\\\med,0.2)--(\\\\b,0.2) node[above, midway] {$E=1.3067$}; \\n    \\\\end{tikzpicture} \\\\\\\\\\n    '],\n",
       " ['p71e02- Cuál debe ser el tamaño de una muestra si se quiere estimar el gasto medio de una familia en electricidad,\\nmensualmente, con un error menor de 1.500 pesetas y el 95/% como nivel de confianza, sabiendo que el gasto\\nmedio en 1999 era de 13.300 ptas. con una desviación de 1.200 ptas.',\n",
       "  'Calculamos el tamaño de la muestra para estimar la media con un error máximo: 1500, si la desviación típica es: 1200 y el grado de confianza: 95.0\\\\%. \\\\\\\\ \\\\\\\\ Valor crítico: \\\\\\\\ $\\\\alpha=1-0.95=0.05\\\\to \\\\frac{\\\\alpha}{2}=0.025$ \\\\\\\\ \\\\\\\\ $P(Z>z_{\\\\alpha/2})=0.025\\\\to P(Z<z_{\\\\alpha/2})=0.975 \\\\to z_{\\\\alpha/2} =1.96$ \\\\\\\\ \\n    \\\\begin{tikzpicture}[scale=0.8]\\n    \\\\pgfmathdeclarefunction{gauss}{2}{\\\\pgfmathparse{1/(#2*sqrt(2*pi))*exp(-((x-#1)^2)/(2*#2^2))}}\\n    \\\\tikzmath{\\\\conf = 0.95; \\\\crit= 1.96; \\\\a=0.025);}\\n    \\\\begin{axis}[no markers, domain=-5:5, samples=100, axis lines=left, height=5cm, width=12cm, xtick={0,\\\\crit}, ytick=\\\\empty, xticklabels = {$0$, $z_{\\\\frac{\\\\alpha}{2}}=\\\\crit$},enlargelimits=false, clip=false, axis on top]\\n      \\\\addplot [fill=cyan!20, draw=none, domain=-\\\\crit:\\\\crit] {gauss(0,1)} \\\\closedcycle;\\n      \\\\addplot [very thick,cyan!50!black] {gauss(0,1)};\\n    \\\\end{axis}\\n    \\\\node[] at (5.2,1.5) {$\\\\conf$};\\t\\n    \\\\draw[-]   (\\\\crit+6.5,1)node[right]{$\\\\a$}  --  (\\\\crit+5.6,0.1) ;\\n    \\\\end{tikzpicture} \\\\\\\\\\n    Error cometido: \\\\\\\\ $E=z_{\\\\alpha/2}\\\\cdot \\\\frac{\\\\sigma}{\\\\sqrt{n}} \\\\to n \\\\approx \\\\frac{\\\\sigma^2 \\\\cdot z_{\\\\alpha / 2}^2}{E^2}=2.4586240000000004 \\\\to n \\\\geq3$ \\\\\\\\ '],\n",
       " ['p71e03- Una muestra aleatoria de 100 bombillas producidas por una determinada fábrica, tiene una vida media de\\n1.280 horas con una desviación típica de 140 horas:\\ni) Estimar la duración media de las bombillas fabricas por esa fábrica.\\nii) Dar el intervalo de confianza, a un nivel del 0,95 de la estimación anterior.',\n",
       "  'i) $\\\\mu\\\\approx 1280$ \\\\\\\\ ii) Calculamos el intervalo de confianza para la media, sabiendo que la media muestral es: 1280, la desviación típica: 140, tamaño de la muestra: 100 y el grado de confianza: 95.0\\\\%. \\\\\\\\ \\\\\\\\ Valor crítico: \\\\\\\\ $\\\\alpha=1-0.95=0.05\\\\to \\\\frac{\\\\alpha}{2}=0.025$ \\\\\\\\ \\\\\\\\ $P(Z>z_{\\\\alpha/2})=0.025\\\\to P(Z<z_{\\\\alpha/2})=0.975 \\\\to z_{\\\\alpha/2} =1.96$ \\\\\\\\ \\n    \\\\begin{tikzpicture}[scale=0.8]\\n    \\\\pgfmathdeclarefunction{gauss}{2}{\\\\pgfmathparse{1/(#2*sqrt(2*pi))*exp(-((x-#1)^2)/(2*#2^2))}}\\n    \\\\tikzmath{\\\\conf = 0.95; \\\\crit= 1.96; \\\\a=0.025);}\\n    \\\\begin{axis}[no markers, domain=-5:5, samples=100, axis lines=left, height=5cm, width=12cm, xtick={0,\\\\crit}, ytick=\\\\empty, xticklabels = {$0$, $z_{\\\\frac{\\\\alpha}{2}}=\\\\crit$},enlargelimits=false, clip=false, axis on top]\\n      \\\\addplot [fill=cyan!20, draw=none, domain=-\\\\crit:\\\\crit] {gauss(0,1)} \\\\closedcycle;\\n      \\\\addplot [very thick,cyan!50!black] {gauss(0,1)};\\n    \\\\end{axis}\\n    \\\\node[] at (5.2,1.5) {$\\\\conf$};\\t\\n    \\\\draw[-]   (\\\\crit+6.5,1)node[right]{$\\\\a$}  --  (\\\\crit+5.6,0.1) ;\\n    \\\\end{tikzpicture} \\\\\\\\\\n    Error cometido: \\\\\\\\ $E=z_{\\\\alpha/2}\\\\cdot \\\\frac{\\\\sigma}{\\\\sqrt{n}} \\\\to E=1.96\\\\cdot \\\\frac{140}{10.0}=27.44$ \\\\\\\\ Por tanto el intervalo de confianza será: \\\\\\\\$\\\\left(\\\\overline{x} - E , \\\\overline{x} + E \\\\right)=\\\\left(1280 - 27.44 , 1280 + 27.44 \\\\right)=\\\\left(1252.56, 1307.44 \\\\right)$ \\\\\\\\  \\\\\\\\ \\n    \\\\begin{tikzpicture}[scale=0.4]\\n      \\\\tikzmath{\\\\a = -10; \\\\b = 10; \\\\aa = \\\\a -1; \\\\bb = \\\\b + 1 ; \\\\dist = \\\\b - \\\\a; \\\\med = (\\\\a + \\\\b)/2;}\\n      \\\\draw[very thick] (\\\\a,0) -- (\\\\b,0);\\n      \\\\path [draw=black, fill=white] (\\\\b,0) circle (2pt);\\n      \\\\path [draw=black, fill=white] (\\\\a,0.0) circle (2pt);\\n      \\\\draw[latex-latex] (\\\\a - 1.5,0) -- (\\\\b + 1.5,0) ;\\n      \\\\draw[shift={(\\\\a,0)},color=black] (0pt,3pt) -- (0pt,-3pt);\\n      \\\\draw[shift={(\\\\a,0)},color=black] (0pt,0pt) -- (0pt,-3pt) node[below] {$1252.56$};\\n      \\\\draw[shift={(\\\\med,0)},color=black] (0pt,3pt) -- (0pt,-3pt);\\n      \\\\draw[shift={(\\\\med,0)},color=black] (0pt,0pt) -- (0pt,-3pt) node[below] {$1280$};\\n      \\\\draw[shift={(\\\\b,0)},color=black] (0pt,3pt) -- (0pt,-3pt);\\n      \\\\draw[shift={(\\\\b,0)},color=black] (0pt,0pt) -- (0pt,-3pt) node[below] {$1307.44$};\\n      \\\\draw[decorate,decoration={brace}, thick](\\\\med,0.2)--(\\\\b,0.2) node[above, midway] {$E=27.44$}; \\n    \\\\end{tikzpicture} \\\\\\\\\\n    '],\n",
       " ['p71e04- La dirección de un hotel quiere saber el número de días que, de promedio, sus clientes se hospedan en él .\\nToma una muestra de 400 clientes y obtiene una media de 5,4 días con una desviación típica de 2 días.\\ni) Estimar el número medio de días que los clientes permanecen en el hotel.\\nii) Hallar el intervalo de confianza de la estimación anterior a un nivel del 90\\\\%',\n",
       "  'i) $\\\\mu\\\\approx 5.4$ \\\\\\\\ ii) Calculamos el intervalo de confianza para la media, sabiendo que la media muestral es: 5.4, la desviación típica: 2, tamaño de la muestra: 400 y el grado de confianza: 90.0\\\\%. \\\\\\\\ \\\\\\\\ Valor crítico: \\\\\\\\ $\\\\alpha=1-0.9=0.1\\\\to \\\\frac{\\\\alpha}{2}=0.05$ \\\\\\\\ \\\\\\\\ $P(Z>z_{\\\\alpha/2})=0.05\\\\to P(Z<z_{\\\\alpha/2})=0.95 \\\\to z_{\\\\alpha/2} =1.6449$ \\\\\\\\ \\n    \\\\begin{tikzpicture}[scale=0.8]\\n    \\\\pgfmathdeclarefunction{gauss}{2}{\\\\pgfmathparse{1/(#2*sqrt(2*pi))*exp(-((x-#1)^2)/(2*#2^2))}}\\n    \\\\tikzmath{\\\\conf = 0.9; \\\\crit= 1.6449; \\\\a=0.05);}\\n    \\\\begin{axis}[no markers, domain=-5:5, samples=100, axis lines=left, height=5cm, width=12cm, xtick={0,\\\\crit}, ytick=\\\\empty, xticklabels = {$0$, $z_{\\\\frac{\\\\alpha}{2}}=\\\\crit$},enlargelimits=false, clip=false, axis on top]\\n      \\\\addplot [fill=cyan!20, draw=none, domain=-\\\\crit:\\\\crit] {gauss(0,1)} \\\\closedcycle;\\n      \\\\addplot [very thick,cyan!50!black] {gauss(0,1)};\\n    \\\\end{axis}\\n    \\\\node[] at (5.2,1.5) {$\\\\conf$};\\t\\n    \\\\draw[-]   (\\\\crit+6.5,1)node[right]{$\\\\a$}  --  (\\\\crit+5.6,0.1) ;\\n    \\\\end{tikzpicture} \\\\\\\\\\n    Error cometido: \\\\\\\\ $E=z_{\\\\alpha/2}\\\\cdot \\\\frac{\\\\sigma}{\\\\sqrt{n}} \\\\to E=1.6449\\\\cdot \\\\frac{2}{20.0}=0.1645$ \\\\\\\\ Por tanto el intervalo de confianza será: \\\\\\\\$\\\\left(\\\\overline{x} - E , \\\\overline{x} + E \\\\right)=\\\\left(5.4 - 0.1645 , 5.4 + 0.1645 \\\\right)=\\\\left(5.2355, 5.5645 \\\\right)$ \\\\\\\\  \\\\\\\\ \\n    \\\\begin{tikzpicture}[scale=0.4]\\n      \\\\tikzmath{\\\\a = -10; \\\\b = 10; \\\\aa = \\\\a -1; \\\\bb = \\\\b + 1 ; \\\\dist = \\\\b - \\\\a; \\\\med = (\\\\a + \\\\b)/2;}\\n      \\\\draw[very thick] (\\\\a,0) -- (\\\\b,0);\\n      \\\\path [draw=black, fill=white] (\\\\b,0) circle (2pt);\\n      \\\\path [draw=black, fill=white] (\\\\a,0.0) circle (2pt);\\n      \\\\draw[latex-latex] (\\\\a - 1.5,0) -- (\\\\b + 1.5,0) ;\\n      \\\\draw[shift={(\\\\a,0)},color=black] (0pt,3pt) -- (0pt,-3pt);\\n      \\\\draw[shift={(\\\\a,0)},color=black] (0pt,0pt) -- (0pt,-3pt) node[below] {$5.2355$};\\n      \\\\draw[shift={(\\\\med,0)},color=black] (0pt,3pt) -- (0pt,-3pt);\\n      \\\\draw[shift={(\\\\med,0)},color=black] (0pt,0pt) -- (0pt,-3pt) node[below] {$5.4$};\\n      \\\\draw[shift={(\\\\b,0)},color=black] (0pt,3pt) -- (0pt,-3pt);\\n      \\\\draw[shift={(\\\\b,0)},color=black] (0pt,0pt) -- (0pt,-3pt) node[below] {$5.564500000000001$};\\n      \\\\draw[decorate,decoration={brace}, thick](\\\\med,0.2)--(\\\\b,0.2) node[above, midway] {$E=0.1645$}; \\n    \\\\end{tikzpicture} \\\\\\\\\\n    '],\n",
       " ['p71e05- Una muestra aleatoria de 225 votantes tiene 135 partidarios para el pago de impuestos destinados a la mejora\\nde la ciudad.\\ni) Efectuar una estimación puntual del porcentaje de votantes que están a favor de pagar el nuevo\\nimpuesto.\\nii) Dar el intervalo de confianza, a un nivel del 0,95 de la estimación anterior.',\n",
       "  'i) $p \\\\approx \\\\widehat{p} =60$\\\\% \\\\\\\\ ii) Calculamos el intervalo de confianza para la proporción, si los aciertos son: 135, tamaño de la muestra: 225 y el grado de confianza: 95.0\\\\%. \\\\\\\\ \\\\\\\\ Valor crítico: \\\\\\\\ $\\\\alpha=1-0.95=0.05\\\\to \\\\frac{\\\\alpha}{2}=0.025$ \\\\\\\\ \\\\\\\\ $P(Z>z_{\\\\alpha/2})=0.025\\\\to P(Z<z_{\\\\alpha/2})=0.975 \\\\to z_{\\\\alpha/2} =1.96$ \\\\\\\\ \\n    \\\\begin{tikzpicture}[scale=0.8]\\n    \\\\pgfmathdeclarefunction{gauss}{2}{\\\\pgfmathparse{1/(#2*sqrt(2*pi))*exp(-((x-#1)^2)/(2*#2^2))}}\\n    \\\\tikzmath{\\\\conf = 0.95; \\\\crit= 1.96; \\\\a=0.025);}\\n    \\\\begin{axis}[no markers, domain=-5:5, samples=100, axis lines=left, height=5cm, width=12cm, xtick={0,\\\\crit}, ytick=\\\\empty, xticklabels = {$0$, $z_{\\\\frac{\\\\alpha}{2}}=\\\\crit$},enlargelimits=false, clip=false, axis on top]\\n      \\\\addplot [fill=cyan!20, draw=none, domain=-\\\\crit:\\\\crit] {gauss(0,1)} \\\\closedcycle;\\n      \\\\addplot [very thick,cyan!50!black] {gauss(0,1)};\\n    \\\\end{axis}\\n    \\\\node[] at (5.2,1.5) {$\\\\conf$};\\t\\n    \\\\draw[-]   (\\\\crit+6.5,1)node[right]{$\\\\a$}  --  (\\\\crit+5.6,0.1) ;\\n    \\\\end{tikzpicture} \\\\\\\\\\n    Error cometido: \\\\\\\\ $E=z_{\\\\alpha / 2}\\\\cdot \\\\sqrt{\\\\frac{\\\\widehat{p}\\\\cdot\\\\left(1-\\\\widehat{p} \\\\right)}{n}} \\\\to E=1.96\\\\cdot \\\\sqrt{\\\\frac{0.6\\\\cdot0.4}{225}}=0.064$ \\\\\\\\ Por tanto el intervalo de confianza será: \\\\\\\\$\\\\left(\\\\widehat{p} - E , \\\\widehat{p} + E \\\\right)=\\\\left(0.6 - 0.064 , 0.6 + 0.064 \\\\right)=\\\\left(0.536, 0.664 \\\\right)$ \\\\\\\\  \\\\\\\\ \\n    \\\\begin{tikzpicture}[scale=0.4]\\n      \\\\tikzmath{\\\\a = -10; \\\\b = 10; \\\\aa = \\\\a -1; \\\\bb = \\\\b + 1 ; \\\\dist = \\\\b - \\\\a; \\\\med = (\\\\a + \\\\b)/2;}\\n      \\\\draw[very thick] (\\\\a,0) -- (\\\\b,0);\\n      \\\\path [draw=black, fill=white] (\\\\b,0) circle (2pt);\\n      \\\\path [draw=black, fill=white] (\\\\a,0.0) circle (2pt);\\n      \\\\draw[latex-latex] (\\\\a - 1.5,0) -- (\\\\b + 1.5,0) ;\\n      \\\\draw[shift={(\\\\a,0)},color=black] (0pt,3pt) -- (0pt,-3pt);\\n      \\\\draw[shift={(\\\\a,0)},color=black] (0pt,0pt) -- (0pt,-3pt) node[below] {$0.536$};\\n      \\\\draw[shift={(\\\\med,0)},color=black] (0pt,3pt) -- (0pt,-3pt);\\n      \\\\draw[shift={(\\\\med,0)},color=black] (0pt,0pt) -- (0pt,-3pt) node[below] {$0.6$};\\n      \\\\draw[shift={(\\\\b,0)},color=black] (0pt,3pt) -- (0pt,-3pt);\\n      \\\\draw[shift={(\\\\b,0)},color=black] (0pt,0pt) -- (0pt,-3pt) node[below] {$0.6639999999999999$};\\n      \\\\draw[decorate,decoration={brace}, thick](\\\\med,0.2)--(\\\\b,0.2) node[above, midway] {$E=0.064$}; \\n    \\\\end{tikzpicture} \\\\\\\\\\n    '],\n",
       " ['p71e06- El valor de diez cheques al descubierto ha sido de 670, 1400, 350, 1700, 2000, 1700, 530, 710, 1200 y 1000\\neuros. Si estas diez denuncias se consideran como una muestra del total de todas las que por ese motivo se\\nrealizan a lo largo de un año, ¿cuál será el valor medio de los cheques al descubierto que se expedirán.',\n",
       "  'Calculamos la media estadística para estimar la media: $\\\\overline{x}=\\\\frac{{\\\\sum_{i=1}^n x_i }}{n} =1126.0$ \\\\\\\\'],\n",
       " ['p71e07- De 120 alumnos, la proporción de que tengan dos o más hermanos es de 48/120. Indica los parámetros de la\\ndistribución a las que se ajustarían las muestras de tamaño 30.',\n",
       "  'La distribución muestral $\\\\widehat{p} \\\\rightarrow N \\\\left ( p , \\\\sqrt{ \\\\frac{p \\\\cdot (1-p)} {n}}\\\\right )$. Luego: \\\\\\\\ $p \\\\approx \\\\widehat{p}=\\\\frac{48}{120}=\\\\frac{2}{5}$ \\\\\\\\ $\\\\sigma \\\\approx \\\\sqrt{\\\\frac{\\\\frac{48}{120}\\\\cdot \\\\left(1-\\\\frac{48}{120}\\\\right)}{30}}=\\\\frac{\\\\sqrt{5}}{25}$ \\\\\\\\ '],\n",
       " ['p71e08- En cierto instituto de Enseñanza Secundaria hay matriculados 800 alumnos. A una muestra seleccionada\\naleatoriamente de un 15\\\\% de ellos, se les preguntó si utilizaban la cafetería del centro. Contestaron\\nnegativamente un total de 24 alumnos. Estima el porcentaje de alumnado que utiliza la cafetería del instituto.\\nDetermina, con un confianza del 99\\\\%, el error máximo cometido con dicha estimación',\n",
       "  'i) Tamaño de la muestra:$120.0$. Alumnos de la muestra que utiliza la cafetería: $96.0\\\\to $ \\\\\\\\ $p \\\\approx \\\\widehat{p} =80$\\\\% \\\\\\\\ ii) Calculamos el intervalo de confianza para la proporción, si los aciertos son: 96.0, tamaño de la muestra: 120.0 y el grado de confianza: 95.0\\\\%. \\\\\\\\ \\\\\\\\ Valor crítico: \\\\\\\\ $\\\\alpha=1-0.95=0.05\\\\to \\\\frac{\\\\alpha}{2}=0.025$ \\\\\\\\ \\\\\\\\ $P(Z>z_{\\\\alpha/2})=0.025\\\\to P(Z<z_{\\\\alpha/2})=0.975 \\\\to z_{\\\\alpha/2} =1.96$ \\\\\\\\ \\n    \\\\begin{tikzpicture}[scale=0.8]\\n    \\\\pgfmathdeclarefunction{gauss}{2}{\\\\pgfmathparse{1/(#2*sqrt(2*pi))*exp(-((x-#1)^2)/(2*#2^2))}}\\n    \\\\tikzmath{\\\\conf = 0.95; \\\\crit= 1.96; \\\\a=0.025);}\\n    \\\\begin{axis}[no markers, domain=-5:5, samples=100, axis lines=left, height=5cm, width=12cm, xtick={0,\\\\crit}, ytick=\\\\empty, xticklabels = {$0$, $z_{\\\\frac{\\\\alpha}{2}}=\\\\crit$},enlargelimits=false, clip=false, axis on top]\\n      \\\\addplot [fill=cyan!20, draw=none, domain=-\\\\crit:\\\\crit] {gauss(0,1)} \\\\closedcycle;\\n      \\\\addplot [very thick,cyan!50!black] {gauss(0,1)};\\n    \\\\end{axis}\\n    \\\\node[] at (5.2,1.5) {$\\\\conf$};\\t\\n    \\\\draw[-]   (\\\\crit+6.5,1)node[right]{$\\\\a$}  --  (\\\\crit+5.6,0.1) ;\\n    \\\\end{tikzpicture} \\\\\\\\\\n    Error cometido: \\\\\\\\ $E=z_{\\\\alpha / 2}\\\\cdot \\\\sqrt{\\\\frac{\\\\widehat{p}\\\\cdot\\\\left(1-\\\\widehat{p} \\\\right)}{n}} \\\\to E=1.96\\\\cdot \\\\sqrt{\\\\frac{0.8\\\\cdot0.2}{120.0}}=0.0716$ \\\\\\\\ Por tanto el intervalo de confianza será: \\\\\\\\$\\\\left(\\\\widehat{p} - E , \\\\widehat{p} + E \\\\right)=\\\\left(0.8 - 0.0716 , 0.8 + 0.0716 \\\\right)=\\\\left(0.7284, 0.8716 \\\\right)$ \\\\\\\\  \\\\\\\\ \\n    \\\\begin{tikzpicture}[scale=0.4]\\n      \\\\tikzmath{\\\\a = -10; \\\\b = 10; \\\\aa = \\\\a -1; \\\\bb = \\\\b + 1 ; \\\\dist = \\\\b - \\\\a; \\\\med = (\\\\a + \\\\b)/2;}\\n      \\\\draw[very thick] (\\\\a,0) -- (\\\\b,0);\\n      \\\\path [draw=black, fill=white] (\\\\b,0) circle (2pt);\\n      \\\\path [draw=black, fill=white] (\\\\a,0.0) circle (2pt);\\n      \\\\draw[latex-latex] (\\\\a - 1.5,0) -- (\\\\b + 1.5,0) ;\\n      \\\\draw[shift={(\\\\a,0)},color=black] (0pt,3pt) -- (0pt,-3pt);\\n      \\\\draw[shift={(\\\\a,0)},color=black] (0pt,0pt) -- (0pt,-3pt) node[below] {$0.7284$};\\n      \\\\draw[shift={(\\\\med,0)},color=black] (0pt,3pt) -- (0pt,-3pt);\\n      \\\\draw[shift={(\\\\med,0)},color=black] (0pt,0pt) -- (0pt,-3pt) node[below] {$0.8$};\\n      \\\\draw[shift={(\\\\b,0)},color=black] (0pt,3pt) -- (0pt,-3pt);\\n      \\\\draw[shift={(\\\\b,0)},color=black] (0pt,0pt) -- (0pt,-3pt) node[below] {$0.8716$};\\n      \\\\draw[decorate,decoration={brace}, thick](\\\\med,0.2)--(\\\\b,0.2) node[above, midway] {$E=0.0716$}; \\n    \\\\end{tikzpicture} \\\\\\\\\\n    \\\\\\\\ Por tanto, el error máximo es: 0.0716'],\n",
       " ['p71e09- Para estimar la proporción de las familias de una determinada ciudad que poseen microondas, \\nse quiere\\nutilizar una muestra aleatoria de medida n. Calcula el valor mínimo de n para garantizar que, a un nivel de\\nconfianza del 95\\\\%, el error en la estimación sea menor que 0,005. (Como se desconoce la proporción, se ha de\\ntomar el caso más desfavorable que será 0,5)',\n",
       "  'Calculamos el tamaño de la muestra para estimar la proporcion con un error máximo: 0.005, si la proporción muestral es: 0.5 y el grado de confianza: 95.0\\\\%. \\\\\\\\ \\\\\\\\ Valor crítico: \\\\\\\\ $\\\\alpha=1-0.95=0.05\\\\to \\\\frac{\\\\alpha}{2}=0.025$ \\\\\\\\ \\\\\\\\ $P(Z>z_{\\\\alpha/2})=0.025\\\\to P(Z<z_{\\\\alpha/2})=0.975 \\\\to z_{\\\\alpha/2} =1.96$ \\\\\\\\ \\n    \\\\begin{tikzpicture}[scale=0.8]\\n    \\\\pgfmathdeclarefunction{gauss}{2}{\\\\pgfmathparse{1/(#2*sqrt(2*pi))*exp(-((x-#1)^2)/(2*#2^2))}}\\n    \\\\tikzmath{\\\\conf = 0.95; \\\\crit= 1.96; \\\\a=0.025);}\\n    \\\\begin{axis}[no markers, domain=-5:5, samples=100, axis lines=left, height=5cm, width=12cm, xtick={0,\\\\crit}, ytick=\\\\empty, xticklabels = {$0$, $z_{\\\\frac{\\\\alpha}{2}}=\\\\crit$},enlargelimits=false, clip=false, axis on top]\\n      \\\\addplot [fill=cyan!20, draw=none, domain=-\\\\crit:\\\\crit] {gauss(0,1)} \\\\closedcycle;\\n      \\\\addplot [very thick,cyan!50!black] {gauss(0,1)};\\n    \\\\end{axis}\\n    \\\\node[] at (5.2,1.5) {$\\\\conf$};\\t\\n    \\\\draw[-]   (\\\\crit+6.5,1)node[right]{$\\\\a$}  --  (\\\\crit+5.6,0.1) ;\\n    \\\\end{tikzpicture} \\\\\\\\\\n    Error cometido: \\\\\\\\ $E=z_{\\\\alpha / 2}\\\\cdot \\\\sqrt{\\\\frac{\\\\widehat{p}\\\\cdot\\\\left(1-\\\\widehat{p} \\\\right)}{n}} \\\\to n =\\\\frac{\\\\widehat{p}\\\\cdot\\\\left(1-\\\\widehat{p} \\\\right)\\\\cdot z_{\\\\alpha / 2}^2}{E^2} \\\\to n \\\\geq38416$ \\\\\\\\ '],\n",
       " ['p71e12- En un determinado barrio se seleccionó al azar una muestra de 100 personas cuya media de ingresos\\nmensuales resultaba igual a 106.000 ptas. con una desviación típica de 20.000 ptas.\\na) Si se toma un nivel de confianza del 95\\\\% , ¿Cuál es el intervalo de confianza para la media de los\\ningresos mensuales de toda la población?\\nb) Si se toma un nivel de significación igual a 0,01, ¿cuál es el tamaño muestral necesario para estimar\\nla media de ingresos mensuales con un error menor de 3.000 pesetas?',\n",
       "  'a) \\\\\\\\  \\\\\\\\Calculamos el intervalo de confianza para la media, sabiendo que la media muestral es: 106000, la desviación típica: 20000, tamaño de la muestra: 100 y el grado de confianza: 95.0\\\\%. \\\\\\\\ \\\\\\\\ Valor crítico: \\\\\\\\ $\\\\alpha=1-0.95=0.05\\\\to \\\\frac{\\\\alpha}{2}=0.025$ \\\\\\\\ \\\\\\\\ $P(Z>z_{\\\\alpha/2})=0.025\\\\to P(Z<z_{\\\\alpha/2})=0.975 \\\\to z_{\\\\alpha/2} =1.96$ \\\\\\\\ \\n    \\\\begin{tikzpicture}[scale=0.8]\\n    \\\\pgfmathdeclarefunction{gauss}{2}{\\\\pgfmathparse{1/(#2*sqrt(2*pi))*exp(-((x-#1)^2)/(2*#2^2))}}\\n    \\\\tikzmath{\\\\conf = 0.95; \\\\crit= 1.96; \\\\a=0.025);}\\n    \\\\begin{axis}[no markers, domain=-5:5, samples=100, axis lines=left, height=5cm, width=12cm, xtick={0,\\\\crit}, ytick=\\\\empty, xticklabels = {$0$, $z_{\\\\frac{\\\\alpha}{2}}=\\\\crit$},enlargelimits=false, clip=false, axis on top]\\n      \\\\addplot [fill=cyan!20, draw=none, domain=-\\\\crit:\\\\crit] {gauss(0,1)} \\\\closedcycle;\\n      \\\\addplot [very thick,cyan!50!black] {gauss(0,1)};\\n    \\\\end{axis}\\n    \\\\node[] at (5.2,1.5) {$\\\\conf$};\\t\\n    \\\\draw[-]   (\\\\crit+6.5,1)node[right]{$\\\\a$}  --  (\\\\crit+5.6,0.1) ;\\n    \\\\end{tikzpicture} \\\\\\\\\\n    Error cometido: \\\\\\\\ $E=z_{\\\\alpha/2}\\\\cdot \\\\frac{\\\\sigma}{\\\\sqrt{n}} \\\\to E=1.96\\\\cdot \\\\frac{20000}{10.0}=3920.0$ \\\\\\\\ Por tanto el intervalo de confianza será: \\\\\\\\$\\\\left(\\\\overline{x} - E , \\\\overline{x} + E \\\\right)=\\\\left(106000 - 3920.0 , 106000 + 3920.0 \\\\right)=\\\\left(102080.0, 109920.0 \\\\right)$ \\\\\\\\  \\\\\\\\ \\n    \\\\begin{tikzpicture}[scale=0.4]\\n      \\\\tikzmath{\\\\a = -10; \\\\b = 10; \\\\aa = \\\\a -1; \\\\bb = \\\\b + 1 ; \\\\dist = \\\\b - \\\\a; \\\\med = (\\\\a + \\\\b)/2;}\\n      \\\\draw[very thick] (\\\\a,0) -- (\\\\b,0);\\n      \\\\path [draw=black, fill=white] (\\\\b,0) circle (2pt);\\n      \\\\path [draw=black, fill=white] (\\\\a,0.0) circle (2pt);\\n      \\\\draw[latex-latex] (\\\\a - 1.5,0) -- (\\\\b + 1.5,0) ;\\n      \\\\draw[shift={(\\\\a,0)},color=black] (0pt,3pt) -- (0pt,-3pt);\\n      \\\\draw[shift={(\\\\a,0)},color=black] (0pt,0pt) -- (0pt,-3pt) node[below] {$102080.0$};\\n      \\\\draw[shift={(\\\\med,0)},color=black] (0pt,3pt) -- (0pt,-3pt);\\n      \\\\draw[shift={(\\\\med,0)},color=black] (0pt,0pt) -- (0pt,-3pt) node[below] {$106000$};\\n      \\\\draw[shift={(\\\\b,0)},color=black] (0pt,3pt) -- (0pt,-3pt);\\n      \\\\draw[shift={(\\\\b,0)},color=black] (0pt,0pt) -- (0pt,-3pt) node[below] {$109920.0$};\\n      \\\\draw[decorate,decoration={brace}, thick](\\\\med,0.2)--(\\\\b,0.2) node[above, midway] {$E=3920.0$}; \\n    \\\\end{tikzpicture} \\\\\\\\\\n     \\\\\\\\ b) \\\\\\\\Calculamos el tamaño de la muestra para estimar la media con un error máximo: 3000, si la desviación típica es: 20000 y el grado de confianza: 99.0\\\\%. \\\\\\\\ \\\\\\\\ Valor crítico: \\\\\\\\ $\\\\alpha=1-0.99=0.01\\\\to \\\\frac{\\\\alpha}{2}=0.005$ \\\\\\\\ \\\\\\\\ $P(Z>z_{\\\\alpha/2})=0.005\\\\to P(Z<z_{\\\\alpha/2})=0.995 \\\\to z_{\\\\alpha/2} =2.5758$ \\\\\\\\ \\n    \\\\begin{tikzpicture}[scale=0.8]\\n    \\\\pgfmathdeclarefunction{gauss}{2}{\\\\pgfmathparse{1/(#2*sqrt(2*pi))*exp(-((x-#1)^2)/(2*#2^2))}}\\n    \\\\tikzmath{\\\\conf = 0.99; \\\\crit= 2.5758; \\\\a=0.005);}\\n    \\\\begin{axis}[no markers, domain=-5:5, samples=100, axis lines=left, height=5cm, width=12cm, xtick={0,\\\\crit}, ytick=\\\\empty, xticklabels = {$0$, $z_{\\\\frac{\\\\alpha}{2}}=\\\\crit$},enlargelimits=false, clip=false, axis on top]\\n      \\\\addplot [fill=cyan!20, draw=none, domain=-\\\\crit:\\\\crit] {gauss(0,1)} \\\\closedcycle;\\n      \\\\addplot [very thick,cyan!50!black] {gauss(0,1)};\\n    \\\\end{axis}\\n    \\\\node[] at (5.2,1.5) {$\\\\conf$};\\t\\n    \\\\draw[-]   (\\\\crit+6.5,1)node[right]{$\\\\a$}  --  (\\\\crit+5.6,0.1) ;\\n    \\\\end{tikzpicture} \\\\\\\\\\n    Error cometido: \\\\\\\\ $E=z_{\\\\alpha/2}\\\\cdot \\\\frac{\\\\sigma}{\\\\sqrt{n}} \\\\to n \\\\approx \\\\frac{\\\\sigma^2 \\\\cdot z_{\\\\alpha / 2}^2}{E^2}=294.877584 \\\\to n \\\\geq295$ \\\\\\\\ '],\n",
       " ['p71e13- Sea X la variable aleatoria Tiempo empleado por cada 1000 pesetas de mercancía distribuida en una\\ndeterminada ruta. Una muestra de tamaño 12 proporcionó una media muestral de 3 minutos y una desviación\\ntípica de 0,5 minutos. Calcular un intervalo de confianza al 95\\\\% para el tiempo medio de reparto cada 1000\\npesetas, suponiendo que la variable aleatoria es aproximadamente normal.\\na) Si el coste por hora de reparto es de 5000 pesetas calcular los límites entre los cuales estará\\ncomprendido el coste de reparto de cada 1000 pesetas con probabilidad de 0,95.\\nb) Calcule el tamaño muestral necesario para que el coste de reparto por cada 1000 pesetas se conozca\\ncon una precisión de 5 pesetas asociada a un nivel de confianza de 0,95 (probabilidad de que el error\\nno sobrepase las 5 ptas.)',\n",
       "  'a) \\\\\\\\Calculamos el intervalo de confianza para la media, sabiendo que la media muestral es: 3, la desviación típica: 0.5, tamaño de la muestra: 12 y el grado de confianza: 95.0\\\\%. \\\\\\\\ \\\\\\\\ Valor crítico: \\\\\\\\ $\\\\alpha=1-0.95=0.05\\\\to \\\\frac{\\\\alpha}{2}=0.025$ \\\\\\\\ \\\\\\\\ $P(Z>z_{\\\\alpha/2})=0.025\\\\to P(Z<z_{\\\\alpha/2})=0.975 \\\\to z_{\\\\alpha/2} =1.96$ \\\\\\\\ \\n    \\\\begin{tikzpicture}[scale=0.8]\\n    \\\\pgfmathdeclarefunction{gauss}{2}{\\\\pgfmathparse{1/(#2*sqrt(2*pi))*exp(-((x-#1)^2)/(2*#2^2))}}\\n    \\\\tikzmath{\\\\conf = 0.95; \\\\crit= 1.96; \\\\a=0.025);}\\n    \\\\begin{axis}[no markers, domain=-5:5, samples=100, axis lines=left, height=5cm, width=12cm, xtick={0,\\\\crit}, ytick=\\\\empty, xticklabels = {$0$, $z_{\\\\frac{\\\\alpha}{2}}=\\\\crit$},enlargelimits=false, clip=false, axis on top]\\n      \\\\addplot [fill=cyan!20, draw=none, domain=-\\\\crit:\\\\crit] {gauss(0,1)} \\\\closedcycle;\\n      \\\\addplot [very thick,cyan!50!black] {gauss(0,1)};\\n    \\\\end{axis}\\n    \\\\node[] at (5.2,1.5) {$\\\\conf$};\\t\\n    \\\\draw[-]   (\\\\crit+6.5,1)node[right]{$\\\\a$}  --  (\\\\crit+5.6,0.1) ;\\n    \\\\end{tikzpicture} \\\\\\\\\\n    Error cometido: \\\\\\\\ $E=z_{\\\\alpha/2}\\\\cdot \\\\frac{\\\\sigma}{\\\\sqrt{n}} \\\\to E=1.96\\\\cdot \\\\frac{0.5}{3.4641016151377544}=0.2829$ \\\\\\\\ Por tanto el intervalo de confianza será: \\\\\\\\$\\\\left(\\\\overline{x} - E , \\\\overline{x} + E \\\\right)=\\\\left(3 - 0.2829 , 3 + 0.2829 \\\\right)=\\\\left(2.7171, 3.2829 \\\\right)$ \\\\\\\\  \\\\\\\\ \\n    \\\\begin{tikzpicture}[scale=0.4]\\n      \\\\tikzmath{\\\\a = -10; \\\\b = 10; \\\\aa = \\\\a -1; \\\\bb = \\\\b + 1 ; \\\\dist = \\\\b - \\\\a; \\\\med = (\\\\a + \\\\b)/2;}\\n      \\\\draw[very thick] (\\\\a,0) -- (\\\\b,0);\\n      \\\\path [draw=black, fill=white] (\\\\b,0) circle (2pt);\\n      \\\\path [draw=black, fill=white] (\\\\a,0.0) circle (2pt);\\n      \\\\draw[latex-latex] (\\\\a - 1.5,0) -- (\\\\b + 1.5,0) ;\\n      \\\\draw[shift={(\\\\a,0)},color=black] (0pt,3pt) -- (0pt,-3pt);\\n      \\\\draw[shift={(\\\\a,0)},color=black] (0pt,0pt) -- (0pt,-3pt) node[below] {$2.7171$};\\n      \\\\draw[shift={(\\\\med,0)},color=black] (0pt,3pt) -- (0pt,-3pt);\\n      \\\\draw[shift={(\\\\med,0)},color=black] (0pt,0pt) -- (0pt,-3pt) node[below] {$3$};\\n      \\\\draw[shift={(\\\\b,0)},color=black] (0pt,3pt) -- (0pt,-3pt);\\n      \\\\draw[shift={(\\\\b,0)},color=black] (0pt,0pt) -- (0pt,-3pt) node[below] {$3.2829$};\\n      \\\\draw[decorate,decoration={brace}, thick](\\\\med,0.2)--(\\\\b,0.2) node[above, midway] {$E=0.2829$}; \\n    \\\\end{tikzpicture} \\\\\\\\\\n     \\\\\\\\  Por tanto, a 5000 pesetas por hora, el coste estará entre: 13585.5 y 16414.5. \\\\\\\\ b) \\\\\\\\Calculamos el tamaño de la muestra para estimar la media con un error máximo: 5, si la desviación típica es: 0.5 y el grado de confianza: 95.0\\\\%. \\\\\\\\ \\\\\\\\ Valor crítico: \\\\\\\\ $\\\\alpha=1-0.95=0.05\\\\to \\\\frac{\\\\alpha}{2}=0.025$ \\\\\\\\ \\\\\\\\ $P(Z>z_{\\\\alpha/2})=0.025\\\\to P(Z<z_{\\\\alpha/2})=0.975 \\\\to z_{\\\\alpha/2} =1.96$ \\\\\\\\ \\n    \\\\begin{tikzpicture}[scale=0.8]\\n    \\\\pgfmathdeclarefunction{gauss}{2}{\\\\pgfmathparse{1/(#2*sqrt(2*pi))*exp(-((x-#1)^2)/(2*#2^2))}}\\n    \\\\tikzmath{\\\\conf = 0.95; \\\\crit= 1.96; \\\\a=0.025);}\\n    \\\\begin{axis}[no markers, domain=-5:5, samples=100, axis lines=left, height=5cm, width=12cm, xtick={0,\\\\crit}, ytick=\\\\empty, xticklabels = {$0$, $z_{\\\\frac{\\\\alpha}{2}}=\\\\crit$},enlargelimits=false, clip=false, axis on top]\\n      \\\\addplot [fill=cyan!20, draw=none, domain=-\\\\crit:\\\\crit] {gauss(0,1)} \\\\closedcycle;\\n      \\\\addplot [very thick,cyan!50!black] {gauss(0,1)};\\n    \\\\end{axis}\\n    \\\\node[] at (5.2,1.5) {$\\\\conf$};\\t\\n    \\\\draw[-]   (\\\\crit+6.5,1)node[right]{$\\\\a$}  --  (\\\\crit+5.6,0.1) ;\\n    \\\\end{tikzpicture} \\\\\\\\\\n    Error cometido: \\\\\\\\ $E=z_{\\\\alpha/2}\\\\cdot \\\\frac{\\\\sigma}{\\\\sqrt{n}} \\\\to n \\\\approx \\\\frac{\\\\sigma^2 \\\\cdot z_{\\\\alpha / 2}^2}{E^2}=0.038416000000000006 \\\\to n \\\\geq1$ \\\\\\\\ '],\n",
       " ['p71e14- Suponga que la demanda semanal de un cierto artículo, en temporada alta es una variable aleatoria cuya\\ndistribución puede considerarse aproximadamente normal.\\nUna muestra de 5 semanas proporcionó una media muestral de 875 unidades y una desviación típica\\nmuestral de 23. Obtener con el 99\\\\% de confianza un intervalo para la demanda media semanal de dicho\\nartículo.',\n",
       "  'Calculamos el intervalo de confianza para la media, sabiendo que la media muestral es: 875, la desviación típica: 23, tamaño de la muestra: 5 y el grado de confianza: 99.0\\\\%. \\\\\\\\ \\\\\\\\ Valor crítico: \\\\\\\\ $\\\\alpha=1-0.99=0.01\\\\to \\\\frac{\\\\alpha}{2}=0.005$ \\\\\\\\ \\\\\\\\ $P(Z>z_{\\\\alpha/2})=0.005\\\\to P(Z<z_{\\\\alpha/2})=0.995 \\\\to z_{\\\\alpha/2} =2.5758$ \\\\\\\\ \\n    \\\\begin{tikzpicture}[scale=0.8]\\n    \\\\pgfmathdeclarefunction{gauss}{2}{\\\\pgfmathparse{1/(#2*sqrt(2*pi))*exp(-((x-#1)^2)/(2*#2^2))}}\\n    \\\\tikzmath{\\\\conf = 0.99; \\\\crit= 2.5758; \\\\a=0.005);}\\n    \\\\begin{axis}[no markers, domain=-5:5, samples=100, axis lines=left, height=5cm, width=12cm, xtick={0,\\\\crit}, ytick=\\\\empty, xticklabels = {$0$, $z_{\\\\frac{\\\\alpha}{2}}=\\\\crit$},enlargelimits=false, clip=false, axis on top]\\n      \\\\addplot [fill=cyan!20, draw=none, domain=-\\\\crit:\\\\crit] {gauss(0,1)} \\\\closedcycle;\\n      \\\\addplot [very thick,cyan!50!black] {gauss(0,1)};\\n    \\\\end{axis}\\n    \\\\node[] at (5.2,1.5) {$\\\\conf$};\\t\\n    \\\\draw[-]   (\\\\crit+6.5,1)node[right]{$\\\\a$}  --  (\\\\crit+5.6,0.1) ;\\n    \\\\end{tikzpicture} \\\\\\\\\\n    Error cometido: \\\\\\\\ $E=z_{\\\\alpha/2}\\\\cdot \\\\frac{\\\\sigma}{\\\\sqrt{n}} \\\\to E=2.5758\\\\cdot \\\\frac{23}{2.23606797749979}=26.4945$ \\\\\\\\ Por tanto el intervalo de confianza será: \\\\\\\\$\\\\left(\\\\overline{x} - E , \\\\overline{x} + E \\\\right)=\\\\left(875 - 26.4945 , 875 + 26.4945 \\\\right)=\\\\left(848.5055, 901.4945 \\\\right)$ \\\\\\\\  \\\\\\\\ \\n    \\\\begin{tikzpicture}[scale=0.4]\\n      \\\\tikzmath{\\\\a = -10; \\\\b = 10; \\\\aa = \\\\a -1; \\\\bb = \\\\b + 1 ; \\\\dist = \\\\b - \\\\a; \\\\med = (\\\\a + \\\\b)/2;}\\n      \\\\draw[very thick] (\\\\a,0) -- (\\\\b,0);\\n      \\\\path [draw=black, fill=white] (\\\\b,0) circle (2pt);\\n      \\\\path [draw=black, fill=white] (\\\\a,0.0) circle (2pt);\\n      \\\\draw[latex-latex] (\\\\a - 1.5,0) -- (\\\\b + 1.5,0) ;\\n      \\\\draw[shift={(\\\\a,0)},color=black] (0pt,3pt) -- (0pt,-3pt);\\n      \\\\draw[shift={(\\\\a,0)},color=black] (0pt,0pt) -- (0pt,-3pt) node[below] {$848.5055$};\\n      \\\\draw[shift={(\\\\med,0)},color=black] (0pt,3pt) -- (0pt,-3pt);\\n      \\\\draw[shift={(\\\\med,0)},color=black] (0pt,0pt) -- (0pt,-3pt) node[below] {$875$};\\n      \\\\draw[shift={(\\\\b,0)},color=black] (0pt,3pt) -- (0pt,-3pt);\\n      \\\\draw[shift={(\\\\b,0)},color=black] (0pt,0pt) -- (0pt,-3pt) node[below] {$901.4945$};\\n      \\\\draw[decorate,decoration={brace}, thick](\\\\med,0.2)--(\\\\b,0.2) node[above, midway] {$E=26.4945$}; \\n    \\\\end{tikzpicture} \\\\\\\\\\n    '],\n",
       " ['p71e15- i) En un almacén se realizan pedidos de un artículo cualquiera, para que en el momento de la reposición, el\\nnivel de género sea siempre una cantidad fija. Una muestra de tamaño 15 dio un tiempo medio necesario para\\nalcanzar el nivel establecido de seguridad (y por tanto de reposición) de 25 días y una desviación típica\\nmuestral de 3 días. Obtenga un intervalo de confianza para estimar el tiempo medio de reposición, con un\\nnivel de confianza del 96\\\\%\\nii) Calcula el tamaño muestral necesario para estimar el tiempo medio de reposición con una precisión de 1\\ndía con un nivel de confianza de 0,95.',\n",
       "  'i) Al enunciado le faltaría indicar que la distribución de pedidos sigue un normal ya que el tamaño de la muestra es menor de 30  \\\\\\\\Calculamos el intervalo de confianza para la media, sabiendo que la media muestral es: 25, la desviación típica: 3, tamaño de la muestra: 15 y el grado de confianza: 96.0\\\\%. \\\\\\\\ \\\\\\\\ Valor crítico: \\\\\\\\ $\\\\alpha=1-0.96=0.04\\\\to \\\\frac{\\\\alpha}{2}=0.02$ \\\\\\\\ \\\\\\\\ $P(Z>z_{\\\\alpha/2})=0.02\\\\to P(Z<z_{\\\\alpha/2})=0.98 \\\\to z_{\\\\alpha/2} =2.0537$ \\\\\\\\ \\n    \\\\begin{tikzpicture}[scale=0.8]\\n    \\\\pgfmathdeclarefunction{gauss}{2}{\\\\pgfmathparse{1/(#2*sqrt(2*pi))*exp(-((x-#1)^2)/(2*#2^2))}}\\n    \\\\tikzmath{\\\\conf = 0.96; \\\\crit= 2.0537; \\\\a=0.02);}\\n    \\\\begin{axis}[no markers, domain=-5:5, samples=100, axis lines=left, height=5cm, width=12cm, xtick={0,\\\\crit}, ytick=\\\\empty, xticklabels = {$0$, $z_{\\\\frac{\\\\alpha}{2}}=\\\\crit$},enlargelimits=false, clip=false, axis on top]\\n      \\\\addplot [fill=cyan!20, draw=none, domain=-\\\\crit:\\\\crit] {gauss(0,1)} \\\\closedcycle;\\n      \\\\addplot [very thick,cyan!50!black] {gauss(0,1)};\\n    \\\\end{axis}\\n    \\\\node[] at (5.2,1.5) {$\\\\conf$};\\t\\n    \\\\draw[-]   (\\\\crit+6.5,1)node[right]{$\\\\a$}  --  (\\\\crit+5.6,0.1) ;\\n    \\\\end{tikzpicture} \\\\\\\\\\n    Error cometido: \\\\\\\\ $E=z_{\\\\alpha/2}\\\\cdot \\\\frac{\\\\sigma}{\\\\sqrt{n}} \\\\to E=2.0537\\\\cdot \\\\frac{3}{3.872983346207417}=1.5908$ \\\\\\\\ Por tanto el intervalo de confianza será: \\\\\\\\$\\\\left(\\\\overline{x} - E , \\\\overline{x} + E \\\\right)=\\\\left(25 - 1.5908 , 25 + 1.5908 \\\\right)=\\\\left(23.4092, 26.5908 \\\\right)$ \\\\\\\\  \\\\\\\\ \\n    \\\\begin{tikzpicture}[scale=0.4]\\n      \\\\tikzmath{\\\\a = -10; \\\\b = 10; \\\\aa = \\\\a -1; \\\\bb = \\\\b + 1 ; \\\\dist = \\\\b - \\\\a; \\\\med = (\\\\a + \\\\b)/2;}\\n      \\\\draw[very thick] (\\\\a,0) -- (\\\\b,0);\\n      \\\\path [draw=black, fill=white] (\\\\b,0) circle (2pt);\\n      \\\\path [draw=black, fill=white] (\\\\a,0.0) circle (2pt);\\n      \\\\draw[latex-latex] (\\\\a - 1.5,0) -- (\\\\b + 1.5,0) ;\\n      \\\\draw[shift={(\\\\a,0)},color=black] (0pt,3pt) -- (0pt,-3pt);\\n      \\\\draw[shift={(\\\\a,0)},color=black] (0pt,0pt) -- (0pt,-3pt) node[below] {$23.4092$};\\n      \\\\draw[shift={(\\\\med,0)},color=black] (0pt,3pt) -- (0pt,-3pt);\\n      \\\\draw[shift={(\\\\med,0)},color=black] (0pt,0pt) -- (0pt,-3pt) node[below] {$25$};\\n      \\\\draw[shift={(\\\\b,0)},color=black] (0pt,3pt) -- (0pt,-3pt);\\n      \\\\draw[shift={(\\\\b,0)},color=black] (0pt,0pt) -- (0pt,-3pt) node[below] {$26.5908$};\\n      \\\\draw[decorate,decoration={brace}, thick](\\\\med,0.2)--(\\\\b,0.2) node[above, midway] {$E=1.5908$}; \\n    \\\\end{tikzpicture} \\\\\\\\\\n     \\\\\\\\ ii) \\\\\\\\Calculamos el tamaño de la muestra para estimar la media con un error máximo: 3000, si la desviación típica es: 3 y el grado de confianza: 95.0\\\\%. \\\\\\\\ \\\\\\\\ Valor crítico: \\\\\\\\ $\\\\alpha=1-0.95=0.05\\\\to \\\\frac{\\\\alpha}{2}=0.025$ \\\\\\\\ \\\\\\\\ $P(Z>z_{\\\\alpha/2})=0.025\\\\to P(Z<z_{\\\\alpha/2})=0.975 \\\\to z_{\\\\alpha/2} =1.96$ \\\\\\\\ \\n    \\\\begin{tikzpicture}[scale=0.8]\\n    \\\\pgfmathdeclarefunction{gauss}{2}{\\\\pgfmathparse{1/(#2*sqrt(2*pi))*exp(-((x-#1)^2)/(2*#2^2))}}\\n    \\\\tikzmath{\\\\conf = 0.95; \\\\crit= 1.96; \\\\a=0.025);}\\n    \\\\begin{axis}[no markers, domain=-5:5, samples=100, axis lines=left, height=5cm, width=12cm, xtick={0,\\\\crit}, ytick=\\\\empty, xticklabels = {$0$, $z_{\\\\frac{\\\\alpha}{2}}=\\\\crit$},enlargelimits=false, clip=false, axis on top]\\n      \\\\addplot [fill=cyan!20, draw=none, domain=-\\\\crit:\\\\crit] {gauss(0,1)} \\\\closedcycle;\\n      \\\\addplot [very thick,cyan!50!black] {gauss(0,1)};\\n    \\\\end{axis}\\n    \\\\node[] at (5.2,1.5) {$\\\\conf$};\\t\\n    \\\\draw[-]   (\\\\crit+6.5,1)node[right]{$\\\\a$}  --  (\\\\crit+5.6,0.1) ;\\n    \\\\end{tikzpicture} \\\\\\\\\\n    Error cometido: \\\\\\\\ $E=z_{\\\\alpha/2}\\\\cdot \\\\frac{\\\\sigma}{\\\\sqrt{n}} \\\\to n \\\\approx \\\\frac{\\\\sigma^2 \\\\cdot z_{\\\\alpha / 2}^2}{E^2}=3.8416e-06 \\\\to n \\\\geq1$ \\\\\\\\ '],\n",
       " ['p71e16- En un municipio de 8940 personas, mayores de 18 años, nos interesa conocer el porcentaje de sujetos que\\ntienen carnet de conducir. Al nivel de confianza del 98\\\\% y con un error no superior a 0,03 , ¿Qué tamaño\\ntiene que tener la muestra?.',\n",
       "  'Como no sabemos la proporción muestral, tomamos el valor 0.5 que es el que maximiza $p \\\\cdot (1 -p)$ \\\\\\\\ Calculamos el tamaño de la muestra para estimar la proporcion con un error máximo: 0.03, si la proporción muestral es: 0.5 y el grado de confianza: 98.0\\\\%. \\\\\\\\ \\\\\\\\ Valor crítico: \\\\\\\\ $\\\\alpha=1-0.98=0.02\\\\to \\\\frac{\\\\alpha}{2}=0.01$ \\\\\\\\ \\\\\\\\ $P(Z>z_{\\\\alpha/2})=0.01\\\\to P(Z<z_{\\\\alpha/2})=0.99 \\\\to z_{\\\\alpha/2} =2.3263$ \\\\\\\\ \\n    \\\\begin{tikzpicture}[scale=0.8]\\n    \\\\pgfmathdeclarefunction{gauss}{2}{\\\\pgfmathparse{1/(#2*sqrt(2*pi))*exp(-((x-#1)^2)/(2*#2^2))}}\\n    \\\\tikzmath{\\\\conf = 0.98; \\\\crit= 2.3263; \\\\a=0.01);}\\n    \\\\begin{axis}[no markers, domain=-5:5, samples=100, axis lines=left, height=5cm, width=12cm, xtick={0,\\\\crit}, ytick=\\\\empty, xticklabels = {$0$, $z_{\\\\frac{\\\\alpha}{2}}=\\\\crit$},enlargelimits=false, clip=false, axis on top]\\n      \\\\addplot [fill=cyan!20, draw=none, domain=-\\\\crit:\\\\crit] {gauss(0,1)} \\\\closedcycle;\\n      \\\\addplot [very thick,cyan!50!black] {gauss(0,1)};\\n    \\\\end{axis}\\n    \\\\node[] at (5.2,1.5) {$\\\\conf$};\\t\\n    \\\\draw[-]   (\\\\crit+6.5,1)node[right]{$\\\\a$}  --  (\\\\crit+5.6,0.1) ;\\n    \\\\end{tikzpicture} \\\\\\\\\\n    Error cometido: \\\\\\\\ $E=z_{\\\\alpha / 2}\\\\cdot \\\\sqrt{\\\\frac{\\\\widehat{p}\\\\cdot\\\\left(1-\\\\widehat{p} \\\\right)}{n}} \\\\to n =\\\\frac{\\\\widehat{p}\\\\cdot\\\\left(1-\\\\widehat{p} \\\\right)\\\\cdot z_{\\\\alpha / 2}^2}{E^2} \\\\to n \\\\geq1504$ \\\\\\\\ '],\n",
       " ['p71e17- Al objeto de optimizar los pedidos de tallas de una prenda de vestir para la próxima temporada, se\\nregistraron los porcentajes del número de veces que fueron solicitadas las distintas tallas sobre una muestra de\\n500 clientes. Si el porcentaje del número de veces para la talla media fueron del 23\\\\%, calcule un intervalo de\\nconfianza para tal porcentaje con un nivel de significación del 3\\\\%',\n",
       "  'Calculamos el intervalo de confianza para la proporción, si los aciertos son: 115.0, tamaño de la muestra: 500 y el grado de confianza: 97.0\\\\%. \\\\\\\\ \\\\\\\\ Valor crítico: \\\\\\\\ $\\\\alpha=1-0.97=0.03\\\\to \\\\frac{\\\\alpha}{2}=0.015$ \\\\\\\\ \\\\\\\\ $P(Z>z_{\\\\alpha/2})=0.015\\\\to P(Z<z_{\\\\alpha/2})=0.985 \\\\to z_{\\\\alpha/2} =2.1701$ \\\\\\\\ \\n    \\\\begin{tikzpicture}[scale=0.8]\\n    \\\\pgfmathdeclarefunction{gauss}{2}{\\\\pgfmathparse{1/(#2*sqrt(2*pi))*exp(-((x-#1)^2)/(2*#2^2))}}\\n    \\\\tikzmath{\\\\conf = 0.97; \\\\crit= 2.1701; \\\\a=0.015);}\\n    \\\\begin{axis}[no markers, domain=-5:5, samples=100, axis lines=left, height=5cm, width=12cm, xtick={0,\\\\crit}, ytick=\\\\empty, xticklabels = {$0$, $z_{\\\\frac{\\\\alpha}{2}}=\\\\crit$},enlargelimits=false, clip=false, axis on top]\\n      \\\\addplot [fill=cyan!20, draw=none, domain=-\\\\crit:\\\\crit] {gauss(0,1)} \\\\closedcycle;\\n      \\\\addplot [very thick,cyan!50!black] {gauss(0,1)};\\n    \\\\end{axis}\\n    \\\\node[] at (5.2,1.5) {$\\\\conf$};\\t\\n    \\\\draw[-]   (\\\\crit+6.5,1)node[right]{$\\\\a$}  --  (\\\\crit+5.6,0.1) ;\\n    \\\\end{tikzpicture} \\\\\\\\\\n    Error cometido: \\\\\\\\ $E=z_{\\\\alpha / 2}\\\\cdot \\\\sqrt{\\\\frac{\\\\widehat{p}\\\\cdot\\\\left(1-\\\\widehat{p} \\\\right)}{n}} \\\\to E=2.1701\\\\cdot \\\\sqrt{\\\\frac{0.23\\\\cdot0.77}{500}}=0.0408$ \\\\\\\\ Por tanto el intervalo de confianza será: \\\\\\\\$\\\\left(\\\\widehat{p} - E , \\\\widehat{p} + E \\\\right)=\\\\left(0.23 - 0.0408 , 0.23 + 0.0408 \\\\right)=\\\\left(0.1892, 0.2708 \\\\right)$ \\\\\\\\  \\\\\\\\ \\n    \\\\begin{tikzpicture}[scale=0.4]\\n      \\\\tikzmath{\\\\a = -10; \\\\b = 10; \\\\aa = \\\\a -1; \\\\bb = \\\\b + 1 ; \\\\dist = \\\\b - \\\\a; \\\\med = (\\\\a + \\\\b)/2;}\\n      \\\\draw[very thick] (\\\\a,0) -- (\\\\b,0);\\n      \\\\path [draw=black, fill=white] (\\\\b,0) circle (2pt);\\n      \\\\path [draw=black, fill=white] (\\\\a,0.0) circle (2pt);\\n      \\\\draw[latex-latex] (\\\\a - 1.5,0) -- (\\\\b + 1.5,0) ;\\n      \\\\draw[shift={(\\\\a,0)},color=black] (0pt,3pt) -- (0pt,-3pt);\\n      \\\\draw[shift={(\\\\a,0)},color=black] (0pt,0pt) -- (0pt,-3pt) node[below] {$0.1892$};\\n      \\\\draw[shift={(\\\\med,0)},color=black] (0pt,3pt) -- (0pt,-3pt);\\n      \\\\draw[shift={(\\\\med,0)},color=black] (0pt,0pt) -- (0pt,-3pt) node[below] {$0.23$};\\n      \\\\draw[shift={(\\\\b,0)},color=black] (0pt,3pt) -- (0pt,-3pt);\\n      \\\\draw[shift={(\\\\b,0)},color=black] (0pt,0pt) -- (0pt,-3pt) node[below] {$0.27080000000000004$};\\n      \\\\draw[decorate,decoration={brace}, thick](\\\\med,0.2)--(\\\\b,0.2) node[above, midway] {$E=0.0408$}; \\n    \\\\end{tikzpicture} \\\\\\\\\\n    '],\n",
       " ['p71e18- La producción de un máquina se distribuye según la ley normal y fabrica piezas con un peso \\nmedio de 245\\ngr y una desviación típica de 36,3 gr. Para determinar si las piezas que produce en la actualidad están de\\nacuerdo a estas normas, se toma cada cuatro horas una muestra de 16 piezas y se determina su peso medio.\\nCalcula los límites de confianza al 95 y 99\\\\%, construyendo el correspondiente gráfico de control.',\n",
       "  'i) Al 95\\\\%: \\\\\\\\  Calculamos el intervalo de confianza para la media, sabiendo que la media muestral es: 245, la desviación típica: 36.3, tamaño de la muestra: 16 y el grado de confianza: 95.0\\\\%. \\\\\\\\ \\\\\\\\ Valor crítico: \\\\\\\\ $\\\\alpha=1-0.95=0.05\\\\to \\\\frac{\\\\alpha}{2}=0.025$ \\\\\\\\ \\\\\\\\ $P(Z>z_{\\\\alpha/2})=0.025\\\\to P(Z<z_{\\\\alpha/2})=0.975 \\\\to z_{\\\\alpha/2} =1.96$ \\\\\\\\ \\n    \\\\begin{tikzpicture}[scale=0.8]\\n    \\\\pgfmathdeclarefunction{gauss}{2}{\\\\pgfmathparse{1/(#2*sqrt(2*pi))*exp(-((x-#1)^2)/(2*#2^2))}}\\n    \\\\tikzmath{\\\\conf = 0.95; \\\\crit= 1.96; \\\\a=0.025);}\\n    \\\\begin{axis}[no markers, domain=-5:5, samples=100, axis lines=left, height=5cm, width=12cm, xtick={0,\\\\crit}, ytick=\\\\empty, xticklabels = {$0$, $z_{\\\\frac{\\\\alpha}{2}}=\\\\crit$},enlargelimits=false, clip=false, axis on top]\\n      \\\\addplot [fill=cyan!20, draw=none, domain=-\\\\crit:\\\\crit] {gauss(0,1)} \\\\closedcycle;\\n      \\\\addplot [very thick,cyan!50!black] {gauss(0,1)};\\n    \\\\end{axis}\\n    \\\\node[] at (5.2,1.5) {$\\\\conf$};\\t\\n    \\\\draw[-]   (\\\\crit+6.5,1)node[right]{$\\\\a$}  --  (\\\\crit+5.6,0.1) ;\\n    \\\\end{tikzpicture} \\\\\\\\\\n    Error cometido: \\\\\\\\ $E=z_{\\\\alpha/2}\\\\cdot \\\\frac{\\\\sigma}{\\\\sqrt{n}} \\\\to E=1.96\\\\cdot \\\\frac{36.3}{4.0}=17.787$ \\\\\\\\ Por tanto el intervalo de confianza será: \\\\\\\\$\\\\left(\\\\overline{x} - E , \\\\overline{x} + E \\\\right)=\\\\left(245 - 17.787 , 245 + 17.787 \\\\right)=\\\\left(227.213, 262.787 \\\\right)$ \\\\\\\\  \\\\\\\\ \\n    \\\\begin{tikzpicture}[scale=0.4]\\n      \\\\tikzmath{\\\\a = -10; \\\\b = 10; \\\\aa = \\\\a -1; \\\\bb = \\\\b + 1 ; \\\\dist = \\\\b - \\\\a; \\\\med = (\\\\a + \\\\b)/2;}\\n      \\\\draw[very thick] (\\\\a,0) -- (\\\\b,0);\\n      \\\\path [draw=black, fill=white] (\\\\b,0) circle (2pt);\\n      \\\\path [draw=black, fill=white] (\\\\a,0.0) circle (2pt);\\n      \\\\draw[latex-latex] (\\\\a - 1.5,0) -- (\\\\b + 1.5,0) ;\\n      \\\\draw[shift={(\\\\a,0)},color=black] (0pt,3pt) -- (0pt,-3pt);\\n      \\\\draw[shift={(\\\\a,0)},color=black] (0pt,0pt) -- (0pt,-3pt) node[below] {$227.213$};\\n      \\\\draw[shift={(\\\\med,0)},color=black] (0pt,3pt) -- (0pt,-3pt);\\n      \\\\draw[shift={(\\\\med,0)},color=black] (0pt,0pt) -- (0pt,-3pt) node[below] {$245$};\\n      \\\\draw[shift={(\\\\b,0)},color=black] (0pt,3pt) -- (0pt,-3pt);\\n      \\\\draw[shift={(\\\\b,0)},color=black] (0pt,0pt) -- (0pt,-3pt) node[below] {$262.787$};\\n      \\\\draw[decorate,decoration={brace}, thick](\\\\med,0.2)--(\\\\b,0.2) node[above, midway] {$E=17.787$}; \\n    \\\\end{tikzpicture} \\\\\\\\\\n     \\\\\\\\ ii) Al 99\\\\%: \\\\\\\\  Calculamos el intervalo de confianza para la media, sabiendo que la media muestral es: 245, la desviación típica: 36.3, tamaño de la muestra: 16 y el grado de confianza: 99.0\\\\%. \\\\\\\\ \\\\\\\\ Valor crítico: \\\\\\\\ $\\\\alpha=1-0.99=0.01\\\\to \\\\frac{\\\\alpha}{2}=0.005$ \\\\\\\\ \\\\\\\\ $P(Z>z_{\\\\alpha/2})=0.005\\\\to P(Z<z_{\\\\alpha/2})=0.995 \\\\to z_{\\\\alpha/2} =2.5758$ \\\\\\\\ \\n    \\\\begin{tikzpicture}[scale=0.8]\\n    \\\\pgfmathdeclarefunction{gauss}{2}{\\\\pgfmathparse{1/(#2*sqrt(2*pi))*exp(-((x-#1)^2)/(2*#2^2))}}\\n    \\\\tikzmath{\\\\conf = 0.99; \\\\crit= 2.5758; \\\\a=0.005);}\\n    \\\\begin{axis}[no markers, domain=-5:5, samples=100, axis lines=left, height=5cm, width=12cm, xtick={0,\\\\crit}, ytick=\\\\empty, xticklabels = {$0$, $z_{\\\\frac{\\\\alpha}{2}}=\\\\crit$},enlargelimits=false, clip=false, axis on top]\\n      \\\\addplot [fill=cyan!20, draw=none, domain=-\\\\crit:\\\\crit] {gauss(0,1)} \\\\closedcycle;\\n      \\\\addplot [very thick,cyan!50!black] {gauss(0,1)};\\n    \\\\end{axis}\\n    \\\\node[] at (5.2,1.5) {$\\\\conf$};\\t\\n    \\\\draw[-]   (\\\\crit+6.5,1)node[right]{$\\\\a$}  --  (\\\\crit+5.6,0.1) ;\\n    \\\\end{tikzpicture} \\\\\\\\\\n    Error cometido: \\\\\\\\ $E=z_{\\\\alpha/2}\\\\cdot \\\\frac{\\\\sigma}{\\\\sqrt{n}} \\\\to E=2.5758\\\\cdot \\\\frac{36.3}{4.0}=23.3754$ \\\\\\\\ Por tanto el intervalo de confianza será: \\\\\\\\$\\\\left(\\\\overline{x} - E , \\\\overline{x} + E \\\\right)=\\\\left(245 - 23.3754 , 245 + 23.3754 \\\\right)=\\\\left(221.6246, 268.3754 \\\\right)$ \\\\\\\\  \\\\\\\\ \\n    \\\\begin{tikzpicture}[scale=0.4]\\n      \\\\tikzmath{\\\\a = -10; \\\\b = 10; \\\\aa = \\\\a -1; \\\\bb = \\\\b + 1 ; \\\\dist = \\\\b - \\\\a; \\\\med = (\\\\a + \\\\b)/2;}\\n      \\\\draw[very thick] (\\\\a,0) -- (\\\\b,0);\\n      \\\\path [draw=black, fill=white] (\\\\b,0) circle (2pt);\\n      \\\\path [draw=black, fill=white] (\\\\a,0.0) circle (2pt);\\n      \\\\draw[latex-latex] (\\\\a - 1.5,0) -- (\\\\b + 1.5,0) ;\\n      \\\\draw[shift={(\\\\a,0)},color=black] (0pt,3pt) -- (0pt,-3pt);\\n      \\\\draw[shift={(\\\\a,0)},color=black] (0pt,0pt) -- (0pt,-3pt) node[below] {$221.6246$};\\n      \\\\draw[shift={(\\\\med,0)},color=black] (0pt,3pt) -- (0pt,-3pt);\\n      \\\\draw[shift={(\\\\med,0)},color=black] (0pt,0pt) -- (0pt,-3pt) node[below] {$245$};\\n      \\\\draw[shift={(\\\\b,0)},color=black] (0pt,3pt) -- (0pt,-3pt);\\n      \\\\draw[shift={(\\\\b,0)},color=black] (0pt,0pt) -- (0pt,-3pt) node[below] {$268.3754$};\\n      \\\\draw[decorate,decoration={brace}, thick](\\\\med,0.2)--(\\\\b,0.2) node[above, midway] {$E=23.3754$}; \\n    \\\\end{tikzpicture} \\\\\\\\\\n    Por tanto el gráfico de control quedará: \\\\\\\\ \\\\includegraphics[scale=0.6]{p71e18.png}'],\n",
       " ['p71e19- Los pesos de los paquetes de café que envasan en una factoría siguen una distribución normal con un peso\\nmedio de 250 gr y desviación típica de 16 gr. En el proceso de control de calidad del envasado se toma una\\nmuestra de 16 envases cada cuatro horas y se calcula el peso medio de la muestra. Diseña un gráfico sobre el\\nque podamos representar semanalmente los análisis efectuados y controlar la calidad del proceso con los\\nniveles de confianza del 95 y 99\\\\%.',\n",
       "  'i) Al 95\\\\%: \\\\\\\\  Calculamos el intervalo de confianza para la media, sabiendo que la media muestral es: 250, la desviación típica: 16, tamaño de la muestra: 16 y el grado de confianza: 95.0\\\\%. \\\\\\\\ \\\\\\\\ Valor crítico: \\\\\\\\ $\\\\alpha=1-0.95=0.05\\\\to \\\\frac{\\\\alpha}{2}=0.025$ \\\\\\\\ \\\\\\\\ $P(Z>z_{\\\\alpha/2})=0.025\\\\to P(Z<z_{\\\\alpha/2})=0.975 \\\\to z_{\\\\alpha/2} =1.96$ \\\\\\\\ \\n    \\\\begin{tikzpicture}[scale=0.8]\\n    \\\\pgfmathdeclarefunction{gauss}{2}{\\\\pgfmathparse{1/(#2*sqrt(2*pi))*exp(-((x-#1)^2)/(2*#2^2))}}\\n    \\\\tikzmath{\\\\conf = 0.95; \\\\crit= 1.96; \\\\a=0.025);}\\n    \\\\begin{axis}[no markers, domain=-5:5, samples=100, axis lines=left, height=5cm, width=12cm, xtick={0,\\\\crit}, ytick=\\\\empty, xticklabels = {$0$, $z_{\\\\frac{\\\\alpha}{2}}=\\\\crit$},enlargelimits=false, clip=false, axis on top]\\n      \\\\addplot [fill=cyan!20, draw=none, domain=-\\\\crit:\\\\crit] {gauss(0,1)} \\\\closedcycle;\\n      \\\\addplot [very thick,cyan!50!black] {gauss(0,1)};\\n    \\\\end{axis}\\n    \\\\node[] at (5.2,1.5) {$\\\\conf$};\\t\\n    \\\\draw[-]   (\\\\crit+6.5,1)node[right]{$\\\\a$}  --  (\\\\crit+5.6,0.1) ;\\n    \\\\end{tikzpicture} \\\\\\\\\\n    Error cometido: \\\\\\\\ $E=z_{\\\\alpha/2}\\\\cdot \\\\frac{\\\\sigma}{\\\\sqrt{n}} \\\\to E=1.96\\\\cdot \\\\frac{16}{4.0}=7.84$ \\\\\\\\ Por tanto el intervalo de confianza será: \\\\\\\\$\\\\left(\\\\overline{x} - E , \\\\overline{x} + E \\\\right)=\\\\left(250 - 7.84 , 250 + 7.84 \\\\right)=\\\\left(242.16, 257.84 \\\\right)$ \\\\\\\\  \\\\\\\\ \\n    \\\\begin{tikzpicture}[scale=0.4]\\n      \\\\tikzmath{\\\\a = -10; \\\\b = 10; \\\\aa = \\\\a -1; \\\\bb = \\\\b + 1 ; \\\\dist = \\\\b - \\\\a; \\\\med = (\\\\a + \\\\b)/2;}\\n      \\\\draw[very thick] (\\\\a,0) -- (\\\\b,0);\\n      \\\\path [draw=black, fill=white] (\\\\b,0) circle (2pt);\\n      \\\\path [draw=black, fill=white] (\\\\a,0.0) circle (2pt);\\n      \\\\draw[latex-latex] (\\\\a - 1.5,0) -- (\\\\b + 1.5,0) ;\\n      \\\\draw[shift={(\\\\a,0)},color=black] (0pt,3pt) -- (0pt,-3pt);\\n      \\\\draw[shift={(\\\\a,0)},color=black] (0pt,0pt) -- (0pt,-3pt) node[below] {$242.16$};\\n      \\\\draw[shift={(\\\\med,0)},color=black] (0pt,3pt) -- (0pt,-3pt);\\n      \\\\draw[shift={(\\\\med,0)},color=black] (0pt,0pt) -- (0pt,-3pt) node[below] {$250$};\\n      \\\\draw[shift={(\\\\b,0)},color=black] (0pt,3pt) -- (0pt,-3pt);\\n      \\\\draw[shift={(\\\\b,0)},color=black] (0pt,0pt) -- (0pt,-3pt) node[below] {$257.84$};\\n      \\\\draw[decorate,decoration={brace}, thick](\\\\med,0.2)--(\\\\b,0.2) node[above, midway] {$E=7.84$}; \\n    \\\\end{tikzpicture} \\\\\\\\\\n     \\\\\\\\ ii) Al 99\\\\%: \\\\\\\\  Calculamos el intervalo de confianza para la media, sabiendo que la media muestral es: 250, la desviación típica: 16, tamaño de la muestra: 16 y el grado de confianza: 99.0\\\\%. \\\\\\\\ \\\\\\\\ Valor crítico: \\\\\\\\ $\\\\alpha=1-0.99=0.01\\\\to \\\\frac{\\\\alpha}{2}=0.005$ \\\\\\\\ \\\\\\\\ $P(Z>z_{\\\\alpha/2})=0.005\\\\to P(Z<z_{\\\\alpha/2})=0.995 \\\\to z_{\\\\alpha/2} =2.5758$ \\\\\\\\ \\n    \\\\begin{tikzpicture}[scale=0.8]\\n    \\\\pgfmathdeclarefunction{gauss}{2}{\\\\pgfmathparse{1/(#2*sqrt(2*pi))*exp(-((x-#1)^2)/(2*#2^2))}}\\n    \\\\tikzmath{\\\\conf = 0.99; \\\\crit= 2.5758; \\\\a=0.005);}\\n    \\\\begin{axis}[no markers, domain=-5:5, samples=100, axis lines=left, height=5cm, width=12cm, xtick={0,\\\\crit}, ytick=\\\\empty, xticklabels = {$0$, $z_{\\\\frac{\\\\alpha}{2}}=\\\\crit$},enlargelimits=false, clip=false, axis on top]\\n      \\\\addplot [fill=cyan!20, draw=none, domain=-\\\\crit:\\\\crit] {gauss(0,1)} \\\\closedcycle;\\n      \\\\addplot [very thick,cyan!50!black] {gauss(0,1)};\\n    \\\\end{axis}\\n    \\\\node[] at (5.2,1.5) {$\\\\conf$};\\t\\n    \\\\draw[-]   (\\\\crit+6.5,1)node[right]{$\\\\a$}  --  (\\\\crit+5.6,0.1) ;\\n    \\\\end{tikzpicture} \\\\\\\\\\n    Error cometido: \\\\\\\\ $E=z_{\\\\alpha/2}\\\\cdot \\\\frac{\\\\sigma}{\\\\sqrt{n}} \\\\to E=2.5758\\\\cdot \\\\frac{16}{4.0}=10.3032$ \\\\\\\\ Por tanto el intervalo de confianza será: \\\\\\\\$\\\\left(\\\\overline{x} - E , \\\\overline{x} + E \\\\right)=\\\\left(250 - 10.3032 , 250 + 10.3032 \\\\right)=\\\\left(239.6968, 260.3032 \\\\right)$ \\\\\\\\  \\\\\\\\ \\n    \\\\begin{tikzpicture}[scale=0.4]\\n      \\\\tikzmath{\\\\a = -10; \\\\b = 10; \\\\aa = \\\\a -1; \\\\bb = \\\\b + 1 ; \\\\dist = \\\\b - \\\\a; \\\\med = (\\\\a + \\\\b)/2;}\\n      \\\\draw[very thick] (\\\\a,0) -- (\\\\b,0);\\n      \\\\path [draw=black, fill=white] (\\\\b,0) circle (2pt);\\n      \\\\path [draw=black, fill=white] (\\\\a,0.0) circle (2pt);\\n      \\\\draw[latex-latex] (\\\\a - 1.5,0) -- (\\\\b + 1.5,0) ;\\n      \\\\draw[shift={(\\\\a,0)},color=black] (0pt,3pt) -- (0pt,-3pt);\\n      \\\\draw[shift={(\\\\a,0)},color=black] (0pt,0pt) -- (0pt,-3pt) node[below] {$239.6968$};\\n      \\\\draw[shift={(\\\\med,0)},color=black] (0pt,3pt) -- (0pt,-3pt);\\n      \\\\draw[shift={(\\\\med,0)},color=black] (0pt,0pt) -- (0pt,-3pt) node[below] {$250$};\\n      \\\\draw[shift={(\\\\b,0)},color=black] (0pt,3pt) -- (0pt,-3pt);\\n      \\\\draw[shift={(\\\\b,0)},color=black] (0pt,0pt) -- (0pt,-3pt) node[below] {$260.3032$};\\n      \\\\draw[decorate,decoration={brace}, thick](\\\\med,0.2)--(\\\\b,0.2) node[above, midway] {$E=10.3032$}; \\n    \\\\end{tikzpicture} \\\\\\\\\\n    Por tanto el gráfico de control quedará: \\\\\\\\ \\\\includegraphics[scale=0.6]{p71e19.png}'],\n",
       " ('Intervalo de confianza para la media, si la media muestral es: 200.8, la desviación típica: 15, tamaño de la muestra: 25 y el grado de confianza: 90.0\\\\%. \\\\\\\\ \\\\\\\\ ',\n",
       "  'Calculamos el intervalo de confianza para la media, sabiendo que la media muestral es: 200.8, la desviación típica: 15, tamaño de la muestra: 25 y el grado de confianza: 90.0\\\\%. \\\\\\\\ \\\\\\\\ Valor crítico: \\\\\\\\ $\\\\alpha=1-0.9=0.1\\\\to \\\\frac{\\\\alpha}{2}=0.05$ \\\\\\\\ \\\\\\\\ $P(Z>z_{\\\\alpha/2})=0.05\\\\to P(Z<z_{\\\\alpha/2})=0.95 \\\\to z_{\\\\alpha/2} =1.6449$ \\\\\\\\ \\n    \\\\begin{tikzpicture}[scale=0.8]\\n    \\\\pgfmathdeclarefunction{gauss}{2}{\\\\pgfmathparse{1/(#2*sqrt(2*pi))*exp(-((x-#1)^2)/(2*#2^2))}}\\n    \\\\tikzmath{\\\\conf = 0.9; \\\\crit= 1.6449; \\\\a=0.05);}\\n    \\\\begin{axis}[no markers, domain=-5:5, samples=100, axis lines=left, height=5cm, width=12cm, xtick={0,\\\\crit}, ytick=\\\\empty, xticklabels = {$0$, $z_{\\\\frac{\\\\alpha}{2}}=\\\\crit$},enlargelimits=false, clip=false, axis on top]\\n      \\\\addplot [fill=cyan!20, draw=none, domain=-\\\\crit:\\\\crit] {gauss(0,1)} \\\\closedcycle;\\n      \\\\addplot [very thick,cyan!50!black] {gauss(0,1)};\\n    \\\\end{axis}\\n    \\\\node[] at (5.2,1.5) {$\\\\conf$};\\t\\n    \\\\draw[-]   (\\\\crit+6.5,1)node[right]{$\\\\a$}  --  (\\\\crit+5.6,0.1) ;\\n    \\\\end{tikzpicture} \\\\\\\\\\n    Error cometido: \\\\\\\\ $E=z_{\\\\alpha/2}\\\\cdot \\\\frac{\\\\sigma}{\\\\sqrt{n}} \\\\to E=1.6449\\\\cdot \\\\frac{15}{5.0}=4.9347$ \\\\\\\\ Por tanto el intervalo de confianza será: \\\\\\\\$\\\\left(\\\\overline{x} - E , \\\\overline{x} + E \\\\right)=\\\\left(200.8 - 4.9347 , 200.8 + 4.9347 \\\\right)=\\\\left(195.8653, 205.7347 \\\\right)$ \\\\\\\\  \\\\\\\\ \\n    \\\\begin{tikzpicture}[scale=0.4]\\n      \\\\tikzmath{\\\\a = -10; \\\\b = 10; \\\\aa = \\\\a -1; \\\\bb = \\\\b + 1 ; \\\\dist = \\\\b - \\\\a; \\\\med = (\\\\a + \\\\b)/2;}\\n      \\\\draw[very thick] (\\\\a,0) -- (\\\\b,0);\\n      \\\\path [draw=black, fill=white] (\\\\b,0) circle (2pt);\\n      \\\\path [draw=black, fill=white] (\\\\a,0.0) circle (2pt);\\n      \\\\draw[latex-latex] (\\\\a - 1.5,0) -- (\\\\b + 1.5,0) ;\\n      \\\\draw[shift={(\\\\a,0)},color=black] (0pt,3pt) -- (0pt,-3pt);\\n      \\\\draw[shift={(\\\\a,0)},color=black] (0pt,0pt) -- (0pt,-3pt) node[below] {$195.86530000000002$};\\n      \\\\draw[shift={(\\\\med,0)},color=black] (0pt,3pt) -- (0pt,-3pt);\\n      \\\\draw[shift={(\\\\med,0)},color=black] (0pt,0pt) -- (0pt,-3pt) node[below] {$200.8$};\\n      \\\\draw[shift={(\\\\b,0)},color=black] (0pt,3pt) -- (0pt,-3pt);\\n      \\\\draw[shift={(\\\\b,0)},color=black] (0pt,0pt) -- (0pt,-3pt) node[below] {$205.7347$};\\n      \\\\draw[decorate,decoration={brace}, thick](\\\\med,0.2)--(\\\\b,0.2) node[above, midway] {$E=4.9347$}; \\n    \\\\end{tikzpicture} \\\\\\\\\\n    '),\n",
       " ('Intervalo de confianza para la media, si la media muestral es: 1053, la desviación típica: 75, tamaño de la muestra: 150 y el grado de confianza: 98.0\\\\%. \\\\\\\\ \\\\\\\\ ',\n",
       "  'Calculamos el intervalo de confianza para la media, sabiendo que la media muestral es: 1053, la desviación típica: 75, tamaño de la muestra: 150 y el grado de confianza: 98.0\\\\%. \\\\\\\\ \\\\\\\\ Valor crítico: \\\\\\\\ $\\\\alpha=1-0.98=0.02\\\\to \\\\frac{\\\\alpha}{2}=0.01$ \\\\\\\\ \\\\\\\\ $P(Z>z_{\\\\alpha/2})=0.01\\\\to P(Z<z_{\\\\alpha/2})=0.99 \\\\to z_{\\\\alpha/2} =2.3263$ \\\\\\\\ \\n    \\\\begin{tikzpicture}[scale=0.8]\\n    \\\\pgfmathdeclarefunction{gauss}{2}{\\\\pgfmathparse{1/(#2*sqrt(2*pi))*exp(-((x-#1)^2)/(2*#2^2))}}\\n    \\\\tikzmath{\\\\conf = 0.98; \\\\crit= 2.3263; \\\\a=0.01);}\\n    \\\\begin{axis}[no markers, domain=-5:5, samples=100, axis lines=left, height=5cm, width=12cm, xtick={0,\\\\crit}, ytick=\\\\empty, xticklabels = {$0$, $z_{\\\\frac{\\\\alpha}{2}}=\\\\crit$},enlargelimits=false, clip=false, axis on top]\\n      \\\\addplot [fill=cyan!20, draw=none, domain=-\\\\crit:\\\\crit] {gauss(0,1)} \\\\closedcycle;\\n      \\\\addplot [very thick,cyan!50!black] {gauss(0,1)};\\n    \\\\end{axis}\\n    \\\\node[] at (5.2,1.5) {$\\\\conf$};\\t\\n    \\\\draw[-]   (\\\\crit+6.5,1)node[right]{$\\\\a$}  --  (\\\\crit+5.6,0.1) ;\\n    \\\\end{tikzpicture} \\\\\\\\\\n    Error cometido: \\\\\\\\ $E=z_{\\\\alpha/2}\\\\cdot \\\\frac{\\\\sigma}{\\\\sqrt{n}} \\\\to E=2.3263\\\\cdot \\\\frac{75}{12.24744871391589}=14.2456$ \\\\\\\\ Por tanto el intervalo de confianza será: \\\\\\\\$\\\\left(\\\\overline{x} - E , \\\\overline{x} + E \\\\right)=\\\\left(1053 - 14.2456 , 1053 + 14.2456 \\\\right)=\\\\left(1038.7544, 1067.2456 \\\\right)$ \\\\\\\\  \\\\\\\\ \\n    \\\\begin{tikzpicture}[scale=0.4]\\n      \\\\tikzmath{\\\\a = -10; \\\\b = 10; \\\\aa = \\\\a -1; \\\\bb = \\\\b + 1 ; \\\\dist = \\\\b - \\\\a; \\\\med = (\\\\a + \\\\b)/2;}\\n      \\\\draw[very thick] (\\\\a,0) -- (\\\\b,0);\\n      \\\\path [draw=black, fill=white] (\\\\b,0) circle (2pt);\\n      \\\\path [draw=black, fill=white] (\\\\a,0.0) circle (2pt);\\n      \\\\draw[latex-latex] (\\\\a - 1.5,0) -- (\\\\b + 1.5,0) ;\\n      \\\\draw[shift={(\\\\a,0)},color=black] (0pt,3pt) -- (0pt,-3pt);\\n      \\\\draw[shift={(\\\\a,0)},color=black] (0pt,0pt) -- (0pt,-3pt) node[below] {$1038.7544$};\\n      \\\\draw[shift={(\\\\med,0)},color=black] (0pt,3pt) -- (0pt,-3pt);\\n      \\\\draw[shift={(\\\\med,0)},color=black] (0pt,0pt) -- (0pt,-3pt) node[below] {$1053$};\\n      \\\\draw[shift={(\\\\b,0)},color=black] (0pt,3pt) -- (0pt,-3pt);\\n      \\\\draw[shift={(\\\\b,0)},color=black] (0pt,0pt) -- (0pt,-3pt) node[below] {$1067.2456$};\\n      \\\\draw[decorate,decoration={brace}, thick](\\\\med,0.2)--(\\\\b,0.2) node[above, midway] {$E=14.2456$}; \\n    \\\\end{tikzpicture} \\\\\\\\\\n    ')]"
      ]
     },
     "execution_count": 35,
     "metadata": {},
     "output_type": "execute_result"
    }
   ],
   "source": [
    "lista_ejercicios"
   ]
  },
  {
   "cell_type": "markdown",
   "metadata": {
    "colab_type": "text",
    "id": "Tu-VQCBaK72f"
   },
   "source": [
    "### Cálculo del tamaño de una muestra\n",
    "\n",
    "Se desea realizar una investigación para estimar el peso medio de los recién nacidos de madres fumadoras. Se admite un error máximo de 50 gramos, con una confianza del 95%. Si por estudios anteriores se sabe que la desviación típica del peso medio de tales recién nacidos es de 400 gramos, ¿qué tamaño mínimo de muestra se necesita en la investigación?\n"
   ]
  },
  {
   "cell_type": "code",
   "execution_count": 36,
   "metadata": {
    "colab": {
     "base_uri": "https://localhost:8080/",
     "height": 34
    },
    "colab_type": "code",
    "id": "52mm-TJ3XkHQ",
    "outputId": "0fde87ff-d2ae-4842-fe01-e1ccd9e33d9b"
   },
   "outputs": [
    {
     "data": {
      "text/plain": [
       "(0.08999999999999997,\n",
       " 0.9550000000000001,\n",
       " 1.6954,\n",
       " 449.1221,\n",
       " 450,\n",
       " 'Tamaño de la muestra para estimar la proporcion con un error máximo: 0.04, si la proporción muestral es: 0.5 y el grado de confianza: 91.0\\\\%. \\\\\\\\ \\\\\\\\ ',\n",
       " 'Calculamos el tamaño de la muestra para estimar la proporcion con un error máximo: 0.04, si la proporción muestral es: 0.5 y el grado de confianza: 91.0\\\\%. \\\\\\\\ \\\\\\\\ Valor crítico: \\\\\\\\ $\\\\alpha=1-0.91=0.09\\\\to \\\\frac{\\\\alpha}{2}=0.045$ \\\\\\\\ \\\\\\\\ $P(Z>z_{\\\\alpha/2})=0.045\\\\to P(Z<z_{\\\\alpha/2})=0.9550000000000001 \\\\to z_{\\\\alpha/2} =1.6954$ \\\\\\\\ \\n    \\\\begin{tikzpicture}[scale=0.8]\\n    \\\\pgfmathdeclarefunction{gauss}{2}{\\\\pgfmathparse{1/(#2*sqrt(2*pi))*exp(-((x-#1)^2)/(2*#2^2))}}\\n    \\\\tikzmath{\\\\conf = 0.91; \\\\crit= 1.6954; \\\\a=0.045);}\\n    \\\\begin{axis}[no markers, domain=-5:5, samples=100, axis lines=left, height=5cm, width=12cm, xtick={0,\\\\crit}, ytick=\\\\empty, xticklabels = {$0$, $z_{\\\\frac{\\\\alpha}{2}}=\\\\crit$},enlargelimits=false, clip=false, axis on top]\\n      \\\\addplot [fill=cyan!20, draw=none, domain=-\\\\crit:\\\\crit] {gauss(0,1)} \\\\closedcycle;\\n      \\\\addplot [very thick,cyan!50!black] {gauss(0,1)};\\n    \\\\end{axis}\\n    \\\\node[] at (5.2,1.5) {$\\\\conf$};\\t\\n    \\\\draw[-]   (\\\\crit+6.5,1)node[right]{$\\\\a$}  --  (\\\\crit+5.6,0.1) ;\\n    \\\\end{tikzpicture} \\\\\\\\\\n    Error cometido: \\\\\\\\ $E=z_{\\\\alpha / 2}\\\\cdot \\\\sqrt{\\\\frac{\\\\widehat{p}\\\\cdot\\\\left(1-\\\\widehat{p} \\\\right)}{n}} \\\\to n =\\\\frac{\\\\widehat{p}\\\\cdot\\\\left(1-\\\\widehat{p} \\\\right)\\\\cdot z_{\\\\alpha / 2}^2}{E^2} \\\\to n \\\\geq450$ \\\\\\\\ ')"
      ]
     },
     "execution_count": 36,
     "metadata": {},
     "output_type": "execute_result"
    }
   ],
   "source": [
    "E = 0.04\n",
    "proporcion = 0.5\n",
    "confianza = 0.91\n",
    "\n",
    "error_max_proporcion(confianza, proporcion, E)"
   ]
  },
  {
   "cell_type": "markdown",
   "metadata": {
    "colab_type": "text",
    "id": "s1rIXyu9XkzZ"
   },
   "source": [
    "- Deseamos valorar el grado de conocimientos en historia de una población\n",
    "de varios miles de estudiantes. Sabemos\n",
    "que σ = 2,3. Nos proponemos estimar μ pasando una prueba a 100\n",
    "estudiantes.\n",
    "a) Calcular el intervalo característico\n",
    "para $\\overline{x}$\n",
    "correspondiente a una probabilidad de 0,95\n",
    "\n",
    "- Una vez realizada la prueba a 100 estudiantes concretos, se ha obtenido una\n",
    "media $\\overline{x}$ = 6,32.\n",
    "b) Hallar el intervalo de confianza de\n",
    "μ con un nivel de confianza del\n",
    "95 %.\n"
   ]
  },
  {
   "cell_type": "markdown",
   "metadata": {
    "colab_type": "text",
    "id": "0tpv7OCcOMYp"
   },
   "source": [
    "### Junio 2018 Estimación de la proporción por intervalo de confianza\n",
    "\n",
    "Para estimar la proporción de personas con sobrepeso en una población se ha tomado una\n",
    "muestra aleatoria simple de tamaño 100 personas, de las cuales 21 tienen sobrepeso. Calcular el intervalo\n",
    "de confianza al 96% para la proporción de personas con sobrepeso en la población.\n",
    "\n"
   ]
  },
  {
   "cell_type": "code",
   "execution_count": 37,
   "metadata": {
    "colab": {
     "base_uri": "https://localhost:8080/",
     "height": 156
    },
    "colab_type": "code",
    "id": "6lZVzgYWOdmc",
    "outputId": "3e9e76b8-fc69-40ae-e960-8a2f499d50eb"
   },
   "outputs": [
    {
     "data": {
      "text/plain": [
       "(0.21,\n",
       " 0.040000000000000036,\n",
       " 0.98,\n",
       " 2.0537,\n",
       " 0.0836,\n",
       " 0.1264,\n",
       " 0.29359999999999997,\n",
       " (0.12634911517884823, 0.29365088482115176),\n",
       " 'Intervalo de confianza para la proporción, si los aciertos son: 21, tamaño de la muestra: 100 y el grado de confianza: 96.0\\\\%. \\\\\\\\ \\\\\\\\ ',\n",
       " 'Calculamos el intervalo de confianza para la proporción, si los aciertos son: 21, tamaño de la muestra: 100 y el grado de confianza: 96.0\\\\%. \\\\\\\\ \\\\\\\\ Valor crítico: \\\\\\\\ $\\\\alpha=1-0.96=0.04\\\\to \\\\frac{\\\\alpha}{2}=0.02$ \\\\\\\\ \\\\\\\\ $P(Z>z_{\\\\alpha/2})=0.02\\\\to P(Z<z_{\\\\alpha/2})=0.98 \\\\to z_{\\\\alpha/2} =2.0537$ \\\\\\\\ \\n    \\\\begin{tikzpicture}[scale=0.8]\\n    \\\\pgfmathdeclarefunction{gauss}{2}{\\\\pgfmathparse{1/(#2*sqrt(2*pi))*exp(-((x-#1)^2)/(2*#2^2))}}\\n    \\\\tikzmath{\\\\conf = 0.96; \\\\crit= 2.0537; \\\\a=0.02);}\\n    \\\\begin{axis}[no markers, domain=-5:5, samples=100, axis lines=left, height=5cm, width=12cm, xtick={0,\\\\crit}, ytick=\\\\empty, xticklabels = {$0$, $z_{\\\\frac{\\\\alpha}{2}}=\\\\crit$},enlargelimits=false, clip=false, axis on top]\\n      \\\\addplot [fill=cyan!20, draw=none, domain=-\\\\crit:\\\\crit] {gauss(0,1)} \\\\closedcycle;\\n      \\\\addplot [very thick,cyan!50!black] {gauss(0,1)};\\n    \\\\end{axis}\\n    \\\\node[] at (5.2,1.5) {$\\\\conf$};\\t\\n    \\\\draw[-]   (\\\\crit+6.5,1)node[right]{$\\\\a$}  --  (\\\\crit+5.6,0.1) ;\\n    \\\\end{tikzpicture} \\\\\\\\\\n    Error cometido: \\\\\\\\ $E=z_{\\\\alpha / 2}\\\\cdot \\\\sqrt{\\\\frac{\\\\widehat{p}\\\\cdot\\\\left(1-\\\\widehat{p} \\\\right)}{n}} \\\\to E=2.0537\\\\cdot \\\\sqrt{\\\\frac{0.21\\\\cdot0.79}{100}}=0.0836$ \\\\\\\\ Por tanto el intervalo de confianza será: \\\\\\\\$\\\\left(\\\\widehat{p} - E , \\\\widehat{p} + E \\\\right)=\\\\left(0.21 - 0.0836 , 0.21 + 0.0836 \\\\right)=\\\\left(0.1264, 0.2936 \\\\right)$ \\\\\\\\  \\\\\\\\ \\n    \\\\begin{tikzpicture}[scale=0.4]\\n      \\\\tikzmath{\\\\a = -10; \\\\b = 10; \\\\aa = \\\\a -1; \\\\bb = \\\\b + 1 ; \\\\dist = \\\\b - \\\\a; \\\\med = (\\\\a + \\\\b)/2;}\\n      \\\\draw[very thick] (\\\\a,0) -- (\\\\b,0);\\n      \\\\path [draw=black, fill=white] (\\\\b,0) circle (2pt);\\n      \\\\path [draw=black, fill=white] (\\\\a,0.0) circle (2pt);\\n      \\\\draw[latex-latex] (\\\\a - 1.5,0) -- (\\\\b + 1.5,0) ;\\n      \\\\draw[shift={(\\\\a,0)},color=black] (0pt,3pt) -- (0pt,-3pt);\\n      \\\\draw[shift={(\\\\a,0)},color=black] (0pt,0pt) -- (0pt,-3pt) node[below] {$0.1264$};\\n      \\\\draw[shift={(\\\\med,0)},color=black] (0pt,3pt) -- (0pt,-3pt);\\n      \\\\draw[shift={(\\\\med,0)},color=black] (0pt,0pt) -- (0pt,-3pt) node[below] {$0.21$};\\n      \\\\draw[shift={(\\\\b,0)},color=black] (0pt,3pt) -- (0pt,-3pt);\\n      \\\\draw[shift={(\\\\b,0)},color=black] (0pt,0pt) -- (0pt,-3pt) node[below] {$0.29359999999999997$};\\n      \\\\draw[decorate,decoration={brace}, thick](\\\\med,0.2)--(\\\\b,0.2) node[above, midway] {$E=0.0836$}; \\n    \\\\end{tikzpicture} \\\\\\\\\\n    ')"
      ]
     },
     "execution_count": 37,
     "metadata": {},
     "output_type": "execute_result"
    }
   ],
   "source": [
    "proporcion_intervalo(0.96, 21, 100)"
   ]
  },
  {
   "cell_type": "markdown",
   "metadata": {
    "colab_type": "text",
    "id": "ErJBN13qmwNh"
   },
   "source": [
    "## Ejercicios de distribuciones muestrales\n",
    "\n",
    "\n",
    "Se ha seleccionado una muestra al azar de 50 mujeres de una población de mayores\n",
    "de 18 años. Se desconoce la talla media de la población, pero en la muestra se ha\n",
    "observado que la media de las 50 tallas es 1,60 m. Si se sabe por otros estudios que\n",
    "la desviación típica en la población es de 3,3 cm, determina la probabilidad de que la\n",
    "media de la población no difiere en más de 1 cm de la de la muestra.\n"
   ]
  },
  {
   "cell_type": "code",
   "execution_count": 38,
   "metadata": {
    "colab": {},
    "colab_type": "code",
    "id": "NoM0c8tum_mV"
   },
   "outputs": [
    {
     "data": {
      "text/plain": [
       "(0.967866646858422, 0.967866646858422, 0.466479492187500)"
      ]
     },
     "execution_count": 38,
     "metadata": {},
     "output_type": "execute_result"
    }
   ],
   "source": [
    "n = 50\n",
    "\n",
    "media_muestral = 1.60\n",
    "\n",
    "sigma = 3.3\n",
    "\n",
    "error_maximo = 1\n",
    "\n",
    "Z = Normal('Z',0,1)\n",
    "X = Normal('X',media_muestral,sigma/sqrt(n))\n",
    "\n",
    "P(And(X>media_muestral-error_maximo,X<media_muestral+error_maximo)), P(And(Z>-1/(sigma/sqrt(n)),Z<1/(sigma/sqrt(n)))), sigma/sqrt(n).evalf(2)\n",
    "#P(And(3<=X, X<4.5))\n",
    "\n",
    "\n",
    "\n",
    "\n"
   ]
  },
  {
   "cell_type": "code",
   "execution_count": 39,
   "metadata": {},
   "outputs": [
    {
     "data": {
      "text/plain": [
       "(0.050000000000000044,\n",
       " 0.975,\n",
       " 1.96,\n",
       " 1536.64,\n",
       " 1537,\n",
       " 'Tamaño de la muestra para estimar la proporcion con un error máximo: 0.02, si la proporción muestral es: 0.2 y el grado de confianza: 95.0\\\\%. \\\\\\\\ \\\\\\\\ ',\n",
       " 'Calculamos el tamaño de la muestra para estimar la proporcion con un error máximo: 0.02, si la proporción muestral es: 0.2 y el grado de confianza: 95.0\\\\%. \\\\\\\\ \\\\\\\\ Valor crítico: \\\\\\\\ $\\\\alpha=1-0.95=0.05\\\\to \\\\frac{\\\\alpha}{2}=0.025$ \\\\\\\\ \\\\\\\\ $P(Z>z_{\\\\alpha/2})=0.025\\\\to P(Z<z_{\\\\alpha/2})=0.975 \\\\to z_{\\\\alpha/2} =1.96$ \\\\\\\\ \\n    \\\\begin{tikzpicture}[scale=0.8]\\n    \\\\pgfmathdeclarefunction{gauss}{2}{\\\\pgfmathparse{1/(#2*sqrt(2*pi))*exp(-((x-#1)^2)/(2*#2^2))}}\\n    \\\\tikzmath{\\\\conf = 0.95; \\\\crit= 1.96; \\\\a=0.025);}\\n    \\\\begin{axis}[no markers, domain=-5:5, samples=100, axis lines=left, height=5cm, width=12cm, xtick={0,\\\\crit}, ytick=\\\\empty, xticklabels = {$0$, $z_{\\\\frac{\\\\alpha}{2}}=\\\\crit$},enlargelimits=false, clip=false, axis on top]\\n      \\\\addplot [fill=cyan!20, draw=none, domain=-\\\\crit:\\\\crit] {gauss(0,1)} \\\\closedcycle;\\n      \\\\addplot [very thick,cyan!50!black] {gauss(0,1)};\\n    \\\\end{axis}\\n    \\\\node[] at (5.2,1.5) {$\\\\conf$};\\t\\n    \\\\draw[-]   (\\\\crit+6.5,1)node[right]{$\\\\a$}  --  (\\\\crit+5.6,0.1) ;\\n    \\\\end{tikzpicture} \\\\\\\\\\n    Error cometido: \\\\\\\\ $E=z_{\\\\alpha / 2}\\\\cdot \\\\sqrt{\\\\frac{\\\\widehat{p}\\\\cdot\\\\left(1-\\\\widehat{p} \\\\right)}{n}} \\\\to n =\\\\frac{\\\\widehat{p}\\\\cdot\\\\left(1-\\\\widehat{p} \\\\right)\\\\cdot z_{\\\\alpha / 2}^2}{E^2} \\\\to n \\\\geq1537$ \\\\\\\\ ')"
      ]
     },
     "execution_count": 39,
     "metadata": {},
     "output_type": "execute_result"
    }
   ],
   "source": [
    "error_max_proporcion(0.95,0.20,0.02)"
   ]
  }
 ],
 "metadata": {
  "colab": {
   "name": "Intervalos_de_confianza.ipynb",
   "provenance": [],
   "toc_visible": true
  },
  "kernelspec": {
   "display_name": "Python 3",
   "language": "python",
   "name": "python3"
  },
  "language_info": {
   "codemirror_mode": {
    "name": "ipython",
    "version": 3
   },
   "file_extension": ".py",
   "mimetype": "text/x-python",
   "name": "python",
   "nbconvert_exporter": "python",
   "pygments_lexer": "ipython3",
   "version": "3.6.8"
  }
 },
 "nbformat": 4,
 "nbformat_minor": 1
}

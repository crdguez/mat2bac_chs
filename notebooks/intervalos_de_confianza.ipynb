{
 "cells": [
  {
   "cell_type": "code",
   "execution_count": 1,
   "metadata": {
    "colab": {},
    "colab_type": "code",
    "id": "vN_kzESqyAw8"
   },
   "outputs": [],
   "source": [
    "import numpy as np\n",
    "import scipy.stats\n",
    "from sympy.stats import Normal, P\n",
    "from sympy import *\n",
    "import pandas as pd\n",
    "import math \n",
    "\n",
    "\n",
    "# Manejo de un fichero con enunciados y soluciones, se usa un dataframe\n",
    "#df = pd.DataFrame()\n",
    "#encabezado_df = [r\"enunciado_latex\",r\"solucion\"]\n",
    "# Los datos tienen que ser una lista con esta estructura:\n",
    "#datos = [[r\"Texto_en_latex1\",r\"Texto_en_latex2\"],[r\"Solucion_en_latex_1\",r\"Solucion_en_latex_2\"]]\n",
    "# df = df.append(pd.DataFrame(dict(zip(encabezado_df, datos))))\n",
    "# list(df.enunciado_latex)\n",
    "# list(df.solucion)\n",
    "lista_ejercicios = []\n",
    "\n",
    "def mean_confidence_interval2(data, confidence=0.95):\n",
    "    a = 1.0 * np.array(data)\n",
    "    n = len(a)\n",
    "    m, se = np.mean(a), scipy.stats.sem(a)\n",
    "    h = se * scipy.stats.t.ppf((1 + confidence) / 2., n-1)\n",
    "    return m, m-h, m+h\n",
    "\n",
    "def media_desviacion_muestra(data=[]):\n",
    "    #devuelve de una muestra su media y su desviación típica\n",
    "    m = np.mean((1.0*np.array(data)))\n",
    "    d = np.std((1.0*np.array(data)))\n",
    "    return m, d\n",
    "\n",
    "def tikz_confianza(confianza,critico) :\n",
    "\n",
    "  conf = confianza\n",
    "  crit = critico\n",
    "  a = round((1-conf)/2,3)\n",
    "  tikz = r\"\"\"\n",
    "  \\begin{tikzpicture}[scale=0.8]\n",
    "    \\pgfmathdeclarefunction{gauss}{2}{\\pgfmathparse{1/(#2*sqrt(2*pi))*exp(-((x-#1)^2)/(2*#2^2))}}\n",
    "    \\tikzmath{\\conf = \"\"\"+latex(conf)+r\"\"\"; \\crit= \"\"\"+latex(crit)+r\"\"\"; \\a=\"\"\"+latex(a)+r\"\"\");}\n",
    "    \\begin{axis}[no markers, domain=-5:5, samples=100, axis lines=left, height=5cm, width=12cm, xtick={0,\\crit}, ytick=\\empty, xticklabels = {$0$, $z_{\\frac{\\alpha}{2}}=\\crit$},enlargelimits=false, clip=false, axis on top]\n",
    "      \\addplot [fill=cyan!20, draw=none, domain=-\\crit:\\crit] {gauss(0,1)} \\closedcycle;\n",
    "      \\addplot [very thick,cyan!50!black] {gauss(0,1)};\n",
    "    \\end{axis}\n",
    "    \\node[] at (5.2,1.5) {$\\conf$};\t\n",
    "    \\draw[-]   (\\crit+6.5,1)node[right]{$\\a$}  --  (\\crit+5.6,0.1) ;\n",
    "  \\end{tikzpicture} \\\\\n",
    "  \"\"\"\n",
    "  return tikz\n",
    "\n",
    "def tikz_intervalo(centro, radio) :\n",
    "  tikz = r\"\"\" \\\\ \n",
    "  \\begin{tikzpicture}[scale=0.4]\n",
    "      \\tikzmath{\\a = -10; \\b = 10; \\aa = \\a -1; \\bb = \\b + 1 ; \\dist = \\b - \\a; \\med = (\\a + \\b)/2;}\n",
    "      \\draw[very thick] (\\a,0) -- (\\b,0);\n",
    "      \\path [draw=black, fill=white] (\\b,0) circle (2pt);\n",
    "      \\path [draw=black, fill=white] (\\a,0.0) circle (2pt);\n",
    "      \\draw[latex-latex] (\\a - 1.5,0) -- (\\b + 1.5,0) ;\n",
    "      \\draw[shift={(\\a,0)},color=black] (0pt,3pt) -- (0pt,-3pt);\n",
    "      \\draw[shift={(\\a,0)},color=black] (0pt,0pt) -- (0pt,-3pt) node[below] {$\"\"\"+latex(centro -radio)+r\"\"\"$};\n",
    "      \\draw[shift={(\\med,0)},color=black] (0pt,3pt) -- (0pt,-3pt);\n",
    "      \\draw[shift={(\\med,0)},color=black] (0pt,0pt) -- (0pt,-3pt) node[below] {$\"\"\"+latex(centro)+r\"\"\"$};\n",
    "      \\draw[shift={(\\b,0)},color=black] (0pt,3pt) -- (0pt,-3pt);\n",
    "      \\draw[shift={(\\b,0)},color=black] (0pt,0pt) -- (0pt,-3pt) node[below] {$\"\"\"+latex(centro + radio)+r\"\"\"$};\n",
    "      \\draw[decorate,decoration={brace}, thick](\\med,0.2)--(\\b,0.2) node[above, midway] {$E=\"\"\"+latex(radio)+r\"\"\"$}; \n",
    "  \\end{tikzpicture} \\\\\n",
    "  \"\"\"\n",
    "  return tikz\n",
    "\n",
    "def media_intervalo(confianza, mu , sigma, N) : \n",
    "    #Intervalo de confianza de la media, la confianza en probabilidad no porcentaje\n",
    "\n",
    "    #E=scipy.stats.norm.ppf((1-(1-confianza/100)/2), mu, sigma/np.sqrt(N))-mu\n",
    "    enunciado_latex = r\"\"\"Intervalo de confianza para la media, si la media muestral es: {}, la desviación típica: {}, tamaño de la muestra: {} y el grado de confianza: {}\\%. \\\\ \\\\ \"\"\".format(mu,sigma,N,confianza*100)\n",
    "    alpha = 1-confianza \n",
    "    solucion_latex = r\"$\\alpha=1-\"+latex(confianza)+r\"=\"+latex(round(1-confianza,2))+r\"\\to \\frac{\\alpha}{2}=\"+latex(round(alpha/2,4))+r\"$ \\\\ \\\\ \"\n",
    "    #pmax = (1-(1-confianza)/2)\n",
    "    pmax = confianza+(alpha)/2\n",
    "    zcritico=round(scipy.stats.norm.ppf(pmax),4)\n",
    "    solucion_latex += r\"Valor crítico: \\\\ $P(Z>z_{\\alpha/2})=\"+latex(round(alpha/2,4))+r\"\\to P(Z<z_{\\alpha/2})=\"+latex(pmax)+r\" \\to z_{\\alpha/2} =\"+latex(zcritico)+r\"$ \\\\ \"\n",
    "    solucion_latex += tikz_confianza(confianza,zcritico)\n",
    "    E=round(zcritico*sigma/np.sqrt(N),4)\n",
    "    solucion_latex += r\"Error cometido: \\\\ $E=z_{\\alpha/2}\\cdot \\frac{\\sigma}{\\sqrt{n}} \\to E=\"+latex(zcritico)+r\"\\cdot \\frac{\"+latex(sigma)+r\"}{\"+latex(np.sqrt(N))+r\"}=\"+latex(E)+r\"$ \\\\ \"\n",
    "    solucion_latex += r\"Por tanto el intervalo de confianza será: \\\\\"\n",
    "    solucion_latex += r\"$\\left(\\overline{x} - E , \\overline{x} + E \\right)=\\left(\"+latex(mu)+r\" - \"+latex(E)+r\" , \"+latex(mu)+r\" + \"+latex(E)+r\" \\right)=\\left(\"+latex(round(mu-E,4))+r\", \"+latex(round(mu+E,4))+r\" \\right)$ \\\\ \"\n",
    "    solucion_latex += tikz_intervalo(mu,E)\n",
    "    return alpha,pmax,zcritico,E,mu-E,mu+E,scipy.stats.norm.interval(confianza, loc=mu, scale=sigma/np.sqrt(N)),enunciado_latex,solucion_latex\n",
    "\n",
    "def proporcion_intervalo(confianza, aciertos, N) : \n",
    "    #E=scipy.stats.norm.ppf((1-(1-confianza/100)/2), mu, sigma/np.sqrt(N))-mu\n",
    "    enunciado_latex = r\"\"\"Intervalo de confianza para la proporción, si los aciertos son: {}, tamaño de la muestra: {} y el grado de confianza: {}\\%. \\\\ \\\\ \"\"\".format(aciertos,N,confianza*100)\n",
    "    proporcion_muestral = aciertos/N\n",
    "    alpha = 1-confianza\n",
    "    solucion_latex = r\"$\\alpha=1-\"+latex(confianza)+r\"=\"+latex(round(1-confianza,2))+r\"\\to \\frac{\\alpha}{2}=\"+latex(round(alpha/2,4))+r\"$ \\\\ \\\\ \"\n",
    "    #pmax = (1-(1-confianza)/2)\n",
    "    pmax = confianza+(alpha)/2\n",
    "    zcritico=round(scipy.stats.norm.ppf(pmax),4)\n",
    "    solucion_latex += r\"Valor crítico: \\\\ $P(Z>z_{\\alpha/2})=\"+latex(round(alpha/2,4))+r\"\\to P(Z<z_{\\alpha/2})=\"+latex(pmax)+r\" \\to z_{\\alpha/2} =\"+latex(zcritico)+r\"$ \\\\ \"\n",
    "    solucion_latex += tikz_confianza(confianza,zcritico)\n",
    "\n",
    "    E=round(zcritico*np.sqrt(proporcion_muestral*(1-proporcion_muestral)/N),4)\n",
    "    solucion_latex += r\"Error cometido: \\\\ $E=z_{\\alpha / 2}\\cdot \\sqrt{\\frac{\\widehat{p}\\cdot\\left(1-\\widehat{p} \\right)}{n}} \\to E=\"+latex(zcritico)+r\"\\cdot \\sqrt{\\frac{\"+latex(proporcion_muestral)+r\"\\cdot\"+latex(round(1-proporcion_muestral,4))+r\"}{\"+latex(N)+r\"}}=\"+latex(E)+r\"$ \\\\ \"\n",
    "    solucion_latex += r\"Por tanto el intervalo de confianza será: \\\\\"\n",
    "    solucion_latex += r\"$\\left(\\widehat{p} - E , \\widehat{p} + E \\right)=\\left(\"+latex(proporcion_muestral)+r\" - \"+latex(E)+r\" , \"+latex(proporcion_muestral)+r\" + \"+latex(E)+r\" \\right)=\\left(\"+latex(round(proporcion_muestral-E,4))+r\", \"+latex(round(proporcion_muestral+E,4))+r\" \\right)$ \\\\ \"\n",
    "    solucion_latex += tikz_intervalo(proporcion_muestral,E)\n",
    "\n",
    "    return proporcion_muestral, alpha,pmax,zcritico,E,proporcion_muestral-E,proporcion_muestral+E,scipy.stats.norm.interval(confianza, loc=aciertos/N, scale=np.sqrt(((aciertos/N)*(1-aciertos/N))/N)),enunciado_latex,solucion_latex\n",
    "\n",
    "\n",
    "def error_max_media(confianza, sigma, E) :\n",
    "    enunciado_latex = r\"\"\"Tamaño de la muestra para estimar la media con un error máximo: {}, si la desviación típica es: {} y el grado de confianza: {}\\%. \\\\ \\\\ \"\"\".format(E,sigma,confianza*100)\n",
    "    alpha = 1-confianza\n",
    "    #pmax = (1-(1-confianza)/2)\n",
    "    pmax = confianza+(alpha)/2\n",
    "    zcritico=round(scipy.stats.norm.ppf(pmax),4)\n",
    "    solucion_latex = r\"$\\alpha=1-\"+latex(confianza)+r\"=\"+latex(round(1-confianza,2))+r\"\\to \\frac{\\alpha}{2}=\"+latex(round(alpha/2,4))+r\"$ \\\\ \\\\ \"\n",
    "    solucion_latex += r\"Valor crítico: \\\\ $P(Z>z_{\\alpha/2})=\"+latex(round(alpha/2,4))+r\"\\to P(Z<z_{\\alpha/2})=\"+latex(pmax)+r\" \\to z_{\\alpha/2} =\"+latex(zcritico)+r\"$ \\\\ \"\n",
    "    solucion_latex += tikz_confianza(confianza,zcritico)\n",
    "    n=(zcritico*sigma/E)**2\n",
    "    solucion_latex += r\"Error cometido: \\\\ $E=z_{\\alpha/2}\\cdot \\frac{\\sigma}{\\sqrt{n}} \\to n =\\frac{\\sigma^2 \\cdot z_{\\alpha / 2}^2}{E^2} \\to n \\geq\"+latex(math.ceil(n))+r\"$ \\\\ \"\n",
    "\n",
    "    \n",
    "    return alpha, pmax, round(zcritico,4), round(n,4), math.ceil(n), enunciado_latex, solucion_latex\n",
    "\n",
    "\n",
    "def error_max_proporcion(confianza, proporcion, E) :\n",
    "    enunciado_latex = r\"\"\"Tamaño de la muestra para estimar la proporcion con un error máximo: {}, si la proporción muestral es: {} y el grado de confianza: {}\\%. \\\\ \\\\ \"\"\".format(E,proporcion,confianza*100)\n",
    "    alpha = 1-confianza\n",
    "    #pmax = (1-(1-confianza)/2)\n",
    "    pmax = confianza+(alpha)/2\n",
    "    zcritico=round(scipy.stats.norm.ppf(pmax),4)\n",
    "    solucion_latex = r\"$\\alpha=1-\"+latex(confianza)+r\"=\"+latex(round(1-confianza,2))+r\"\\to \\frac{\\alpha}{2}=\"+latex(round(alpha/2,4))+r\"$ \\\\ \\\\ \"\n",
    "    solucion_latex += r\"Valor crítico: \\\\ $P(Z>z_{\\alpha/2})=\"+latex(round(alpha/2,4))+r\"\\to P(Z<z_{\\alpha/2})=\"+latex(pmax)+r\" \\to z_{\\alpha/2} =\"+latex(zcritico)+r\"$ \\\\ \"\n",
    "    solucion_latex += tikz_confianza(confianza,zcritico)\n",
    "    n=(proporcion*(1-proporcion))/(E/zcritico)**2\n",
    "    solucion_latex += r\"Error cometido: \\\\ $E=z_{\\alpha / 2}\\cdot \\sqrt{\\frac{\\widehat{p}\\cdot\\left(1-\\widehat{p} \\right)}{n}} \\to n =\\frac{\\widehat{p}\\cdot\\left(1-\\widehat{p} \\right)\\cdot z_{\\alpha / 2}^2}{E^2} \\to n \\geq\"+latex(math.ceil(n))+r\"$ \\\\ \"\n",
    "\n",
    "    \n",
    "    return alpha, pmax, round(zcritico,4), round(n,4), math.ceil(n), enunciado_latex, solucion_latex"
   ]
  },
  {
   "cell_type": "code",
   "execution_count": 2,
   "metadata": {
    "colab": {
     "base_uri": "https://localhost:8080/",
     "height": 523
    },
    "colab_type": "code",
    "id": "lboD0-7ggHow",
    "outputId": "1d8d175f-09bb-42a3-8bd0-1cce0f8479cd"
   },
   "outputs": [
    {
     "name": "stdout",
     "output_type": "stream",
     "text": [
      "Intervalo de confianza para la media, si la media muestral es: 6.32, la desviación típica: 2.3, tamaño de la muestra: 100 y el grado de confianza: 95.0\\%. \\\\ \\\\ \n",
      "$\\alpha=1-0.95=0.05\\to \\frac{\\alpha}{2}=0.025$ \\\\ \\\\ Valor crítico: \\\\ $P(Z>z_{\\alpha/2})=0.025\\to P(Z<z_{\\alpha/2})=0.975 \\to z_{\\alpha/2} =1.96$ \\\\ \n",
      "  \\begin{tikzpicture}[scale=0.8]\n",
      "    \\pgfmathdeclarefunction{gauss}{2}{\\pgfmathparse{1/(#2*sqrt(2*pi))*exp(-((x-#1)^2)/(2*#2^2))}}\n",
      "    \\tikzmath{\\conf = 0.95; \\crit= 1.96; \\a=0.025);}\n",
      "    \\begin{axis}[no markers, domain=-5:5, samples=100, axis lines=left, height=5cm, width=12cm, xtick={0,\\crit}, ytick=\\empty, xticklabels = {$0$, $z_{\\frac{\\alpha}{2}}=\\crit$},enlargelimits=false, clip=false, axis on top]\n",
      "      \\addplot [fill=cyan!20, draw=none, domain=-\\crit:\\crit] {gauss(0,1)} \\closedcycle;\n",
      "      \\addplot [very thick,cyan!50!black] {gauss(0,1)};\n",
      "    \\end{axis}\n",
      "    \\node[] at (5.2,1.5) {$\\conf$};\t\n",
      "    \\draw[-]   (\\crit+6.5,1)node[right]{$\\a$}  --  (\\crit+5.6,0.1) ;\n",
      "  \\end{tikzpicture} \\\\\n",
      "  Error cometido: \\\\ $E=z_{\\alpha/2}\\cdot \\frac{\\sigma}{\\sqrt{n}} \\to E=1.96\\cdot \\frac{2.3}{10.0}=0.4508$ \\\\ Por tanto el intervalo de confianza será: \\\\$\\left(\\overline{x} - E , \\overline{x} + E \\right)=\\left(6.32 - 0.4508 , 6.32 + 0.4508 \\right)=\\left(5.8692, 6.7708 \\right)$ \\\\  \\\\ \n",
      "  \\begin{tikzpicture}[scale=0.4]\n",
      "      \\tikzmath{\\a = -10; \\b = 10; \\aa = \\a -1; \\bb = \\b + 1 ; \\dist = \\b - \\a; \\med = (\\a + \\b)/2;}\n",
      "      \\draw[very thick] (\\a,0) -- (\\b,0);\n",
      "      \\path [draw=black, fill=white] (\\b,0) circle (2pt);\n",
      "      \\path [draw=black, fill=white] (\\a,0.0) circle (2pt);\n",
      "      \\draw[latex-latex] (\\a - 1.5,0) -- (\\b + 1.5,0) ;\n",
      "      \\draw[shift={(\\a,0)},color=black] (0pt,3pt) -- (0pt,-3pt);\n",
      "      \\draw[shift={(\\a,0)},color=black] (0pt,0pt) -- (0pt,-3pt) node[below] {$5.8692$};\n",
      "      \\draw[shift={(\\med,0)},color=black] (0pt,3pt) -- (0pt,-3pt);\n",
      "      \\draw[shift={(\\med,0)},color=black] (0pt,0pt) -- (0pt,-3pt) node[below] {$6.32$};\n",
      "      \\draw[shift={(\\b,0)},color=black] (0pt,3pt) -- (0pt,-3pt);\n",
      "      \\draw[shift={(\\b,0)},color=black] (0pt,0pt) -- (0pt,-3pt) node[below] {$6.7708$};\n",
      "      \\draw[decorate,decoration={brace}, thick](\\med,0.2)--(\\b,0.2) node[above, midway] {$E=0.4508$}; \n",
      "  \\end{tikzpicture} \\\\\n",
      "  \n"
     ]
    }
   ],
   "source": [
    "#ejemplo \n",
    "\n",
    "mu = 6.32\n",
    "sigma = 2.3\n",
    "confianza = 0.95\n",
    "N = 100\n",
    "\n",
    "print(media_intervalo(confianza, mu , sigma, N)[7])\n",
    "print(media_intervalo(confianza, mu , sigma, N)[8])\n",
    "\n"
   ]
  },
  {
   "cell_type": "markdown",
   "metadata": {},
   "source": [
    "### Ejercicios del cuadernillo"
   ]
  },
  {
   "cell_type": "code",
   "execution_count": 2,
   "metadata": {},
   "outputs": [],
   "source": [
    "enunciado = r\"\"\"p71e1-Una muestra aleatoria de 36 personas, empleadas en una gran industria, da el número medio de días al año\n",
    "que faltan al trabajo es $\\overline{x} = 12$ con $s = 4$.\n",
    "a) Dar una estimación puntual de $\\mu$.\n",
    "b) Tomando un nivel del 99\\% dar el intervalo de confianza de $\\mu$.\n",
    "c) Tomando un nivel del 95\\% dar el intervalo de confianza de $\\mu$.\"\"\"\n",
    "N=36\n",
    "mu=12\n",
    "s=4\n",
    "#sigma=round(sqrt(N/(N-1)*s**2),4)\n",
    "sigma = s\n",
    "\n",
    "solucion = r\"\"\"a) $\\mu\\approx \"\"\"+latex(mu)+r\"\"\"$ \\\\ b) \"\"\"\n",
    "solucion += media_intervalo(0.99,mu,sigma,N)[8] + r\"\\\\ c) \"\n",
    "solucion += media_intervalo(0.95,mu,sigma,N)[8]\n",
    "\n",
    "lista_ejercicios.append([enunciado,solucion])\n"
   ]
  },
  {
   "cell_type": "code",
   "execution_count": 3,
   "metadata": {},
   "outputs": [],
   "source": [
    "enunciado = r\"\"\"p71e2- Cuál debe ser el tamaño de una muestra si se quiere estimar el gasto medio de una familia en electricidad,\n",
    "mensualmente, con un error menor de 1.500 pesetas y el 95/% como nivel de confianza, sabiendo que el gasto\n",
    "medio en 1999 era de 13.300 ptas. con una desviación de 1.200 ptas.\"\"\"\n",
    "\n",
    "E=1500\n",
    "mu=13300\n",
    "sigma=1200\n",
    "\n",
    "solucion = error_max_media(0.95,sigma,E)[6]\n",
    "#solucion = r\"\"\"Deberá ser: \"\"\"+latex(mu)+r\"\"\"$ \\\\ b) \"\"\"\n",
    "\n",
    "lista_ejercicios.append([enunciado,solucion])\n"
   ]
  },
  {
   "cell_type": "code",
   "execution_count": 4,
   "metadata": {},
   "outputs": [],
   "source": [
    "enunciado = r\"\"\"p71e3- Una muestra aleatoria de 100 bombillas producidas por una determinada fábrica, tiene una vida media de\n",
    "1.280 horas con una desviación típica de 140 horas:\n",
    "i) Estimar la duración media de las bombillas fabricas por esa fábrica.\n",
    "ii) Dar el intervalo de confianza, a un nivel del 0,95 de la estimación anterior.\"\"\"\n",
    "N=100\n",
    "mu=1280\n",
    "sigma=140\n",
    "\n",
    "solucion = r\"\"\"i) $\\mu\\approx \"\"\"+latex(mu)+r\"\"\"$ \\\\ ii) \"\"\"\n",
    "solucion += media_intervalo(0.95,mu,sigma,N)[8] \n",
    "\n",
    "lista_ejercicios.append([enunciado,solucion])\n"
   ]
  },
  {
   "cell_type": "code",
   "execution_count": 5,
   "metadata": {},
   "outputs": [],
   "source": [
    "enunciado = r\"\"\"p71e4- La dirección de un hotel quiere saber el número de días que, de promedio, sus clientes se hospedan en él .\n",
    "Toma una muestra de 400 clientes y obtiene una media de 5,4 días con una desviación típica de 2 días.\n",
    "i) Estimar el número medio de días que los clientes permanecen en el hotel.\n",
    "ii) Hallar el intervalo de confianza de la estimación anterior a un nivel del 90\\%\"\"\"\n",
    "N=400\n",
    "mu=5.4\n",
    "sigma=2\n",
    "\n",
    "solucion = r\"\"\"i) $\\mu\\approx \"\"\"+latex(mu)+r\"\"\"$ \\\\ ii) \"\"\"\n",
    "solucion += media_intervalo(0.9,mu,sigma,N)[8] \n",
    "\n",
    "lista_ejercicios.append([enunciado,solucion])\n"
   ]
  },
  {
   "cell_type": "code",
   "execution_count": 6,
   "metadata": {},
   "outputs": [],
   "source": [
    "enunciado = r\"\"\"p71e5- Una muestra aleatoria de 225 votantes tiene 135 partidarios para el pago de impuestos destinados a la mejora\n",
    "de la ciudad.\n",
    "i) Efectuar una estimación puntual del porcentaje de votantes que están a favor de pagar el nuevo\n",
    "impuesto.\n",
    "ii) Dar el intervalo de confianza, a un nivel del 0,95 de la estimación anterior.\"\"\"\n",
    "N=225\n",
    "aciertos=135\n",
    "\n",
    "\n",
    "solucion = r\"\"\"i) $p \\approx \\widehat{p} =\"\"\"+latex(round((aciertos/N)*100),4)+r\"\"\"$\\% \\\\ ii) \"\"\"\n",
    "solucion += proporcion_intervalo(0.95,aciertos,N)[9] \n",
    "\n",
    "\n",
    "lista_ejercicios.append([enunciado,solucion])\n"
   ]
  },
  {
   "cell_type": "code",
   "execution_count": 7,
   "metadata": {},
   "outputs": [],
   "source": [
    "enunciado = r\"\"\"p71e6- El valor de diez cheques al descubierto ha sido de 670, 1400, 350, 1700, 2000, 1700, 530, 710, 1200 y 1000\n",
    "euros. Si estas diez denuncias se consideran como una muestra del total de todas las que por ese motivo se\n",
    "realizan a lo largo de un año, ¿cuál será el valor medio de los cheques al descubierto que se expedirán.\"\"\"\n",
    "\n",
    "datos = [670, 1400, 350, 1700, 2000, 1700, 530, 710, 1200, 1000]\n",
    "N=10\n",
    "\n",
    "solucion = r\"\"\"Calculamos la media estadística para estimar la media: $\\overline{x}=\\frac{{\\sum_{i=1}^n x_i }}{n} =\"\"\"+latex(media_desviacion_muestra(datos)[0])+r\"\"\"$ \\\\\"\"\"\n",
    "\n",
    "lista_ejercicios.append([enunciado,solucion])"
   ]
  },
  {
   "cell_type": "code",
   "execution_count": 8,
   "metadata": {},
   "outputs": [],
   "source": [
    "enunciado = r\"\"\"p71e7- De 120 alumnos, la proporción de que tengan dos o más hermanos es de 48/120. Indica los parámetros de la\n",
    "distribución a las que se ajustarían las muestras de tamaño 30.\"\"\"\n",
    "str_p='48/120'\n",
    "p = S(str_p)\n",
    "n = 30\n",
    "str_s= \"sqrt((\"+str_p+\"*(1-\"+str_p+\"))/\"+str(n)+\")\"\n",
    "\n",
    "\n",
    "solucion = r\"\"\"La distribución muestral $\\widehat{p} \\rightarrow N \\left ( p , \\sqrt{ \\frac{p \\cdot (1-p)} {n}}\\right )$. Luego: \\\\ \"\"\"\n",
    "solucion += r\"\"\"$p \\approx \\widehat{p}=\"\"\"+latex(S(str_p, evaluate=False))+r\"\"\"=\"\"\"+latex(S(str_p))+r\"\"\"$ \\\\ \"\"\"\n",
    "solucion += r\"\"\"$\\sigma \\approx \\sqrt{\\frac{\"\"\"+latex(S(str_p, evaluate=False))\n",
    "solucion += r\"\"\"\\cdot \\left(1-\"\"\"+latex(S(str_p, evaluate=False))+r\"\"\"\\right)}{\"\"\"+latex(n)+r\"\"\"}}=\"\"\"+latex(S(str_s))+r\"\"\"$ \\\\ \"\"\"\n",
    "\n",
    "lista_ejercicios.append([enunciado,solucion])\n"
   ]
  },
  {
   "cell_type": "code",
   "execution_count": 9,
   "metadata": {},
   "outputs": [],
   "source": [
    "enunciado = r\"\"\"p71e8- En cierto instituto de Enseñanza Secundaria hay matriculados 800 alumnos. A una muestra seleccionada\n",
    "aleatoriamente de un 15\\% de ellos, se les preguntó si utilizaban la cafetería del centro. Contestaron\n",
    "negativamente un total de 24 alumnos. Estima el porcentaje de alumnado que utiliza la cafetería del instituto.\n",
    "Determina, con un confianza del 99\\%, el error máximo cometido con dicha estimación\"\"\"\n",
    "N=15*800/100\n",
    "aciertos=15*800/100-24\n",
    "\n",
    "\n",
    "solucion = r\"\"\"i) Tamaño de la muestra:$\"\"\"+latex(N)+r\"\"\"$. Alumnos de la muestra que utiliza la cafetería: $\"\"\"+latex(aciertos)+r\"\"\"\\to $ \\\\ \"\"\"\n",
    "solucion += r\"\"\"$p \\approx \\widehat{p} =\"\"\"+latex(round((aciertos/N)*100),4)+r\"\"\"$\\% \\\\ ii) \"\"\"\n",
    "solucion += proporcion_intervalo(0.95,aciertos,N)[9]+ r\"\\\\ Por tanto, el error máximo es: \"  \n",
    "solucion += latex(proporcion_intervalo(0.95,aciertos,N)[4]) \n",
    "\n",
    "lista_ejercicios.append([enunciado,solucion])\n"
   ]
  },
  {
   "cell_type": "code",
   "execution_count": 10,
   "metadata": {},
   "outputs": [],
   "source": [
    "enunciado = r\"\"\"p71e9- Para estimar la proporción de las familias de una determinada ciudad que poseen microondas, \n",
    "se quiere\n",
    "utilizar una muestra aleatoria de medida n. Calcula el valor mínimo de n para garantizar que, a un nivel de\n",
    "confianza del 95\\%, el error en la estimación sea menor que 0,005. (Como se desconoce la proporción, se ha de\n",
    "tomar el caso más desfavorable que será 0,5)\"\"\"\n",
    "\n",
    "E=0.005\n",
    "proporcion=0.5\n",
    "\n",
    "\n",
    "solucion = error_max_proporcion(0.95,proporcion,E)[6]\n",
    "solucion\n",
    "\n",
    "lista_ejercicios.append([enunciado,solucion])\n"
   ]
  },
  {
   "cell_type": "code",
   "execution_count": 11,
   "metadata": {
    "colab": {
     "base_uri": "https://localhost:8080/",
     "height": 112
    },
    "colab_type": "code",
    "id": "qwftFKqXJA68",
    "outputId": "e7a518a1-6a42-4bef-bc7b-efc88d0500c4"
   },
   "outputs": [
    {
     "data": {
      "text/html": [
       "<div>\n",
       "<style scoped>\n",
       "    .dataframe tbody tr th:only-of-type {\n",
       "        vertical-align: middle;\n",
       "    }\n",
       "\n",
       "    .dataframe tbody tr th {\n",
       "        vertical-align: top;\n",
       "    }\n",
       "\n",
       "    .dataframe thead th {\n",
       "        text-align: right;\n",
       "    }\n",
       "</style>\n",
       "<table border=\"1\" class=\"dataframe\">\n",
       "  <thead>\n",
       "    <tr style=\"text-align: right;\">\n",
       "      <th></th>\n",
       "      <th>enunciado</th>\n",
       "      <th>solucion</th>\n",
       "    </tr>\n",
       "  </thead>\n",
       "  <tbody>\n",
       "    <tr>\n",
       "      <th>0</th>\n",
       "      <td>p71e1-Una muestra aleatoria de 36 personas, em...</td>\n",
       "      <td>a) $\\mu\\approx 12$ \\\\ b) $\\alpha=1-0.99=0.01\\t...</td>\n",
       "    </tr>\n",
       "    <tr>\n",
       "      <th>1</th>\n",
       "      <td>p71e2- Cuál debe ser el tamaño de una muestra ...</td>\n",
       "      <td>$\\alpha=1-0.95=0.05\\to \\frac{\\alpha}{2}=0.025$...</td>\n",
       "    </tr>\n",
       "    <tr>\n",
       "      <th>2</th>\n",
       "      <td>p71e3- Una muestra aleatoria de 100 bombillas ...</td>\n",
       "      <td>i) $\\mu\\approx 1280$ \\\\ ii) $\\alpha=1-0.95=0.0...</td>\n",
       "    </tr>\n",
       "    <tr>\n",
       "      <th>3</th>\n",
       "      <td>p71e4- La dirección de un hotel quiere saber e...</td>\n",
       "      <td>i) $\\mu\\approx 5.4$ \\\\ ii) $\\alpha=1-0.9=0.1\\t...</td>\n",
       "    </tr>\n",
       "    <tr>\n",
       "      <th>4</th>\n",
       "      <td>p71e5- Una muestra aleatoria de 225 votantes t...</td>\n",
       "      <td>i) $p \\approx \\widehat{p} =60$\\% \\\\ ii) $\\alph...</td>\n",
       "    </tr>\n",
       "    <tr>\n",
       "      <th>5</th>\n",
       "      <td>p71e6- El valor de diez cheques al descubierto...</td>\n",
       "      <td>Calculamos la media estadística para estimar l...</td>\n",
       "    </tr>\n",
       "    <tr>\n",
       "      <th>6</th>\n",
       "      <td>p71e7- De 120 alumnos, la proporción de que te...</td>\n",
       "      <td>La distribución muestral $\\widehat{p} \\rightar...</td>\n",
       "    </tr>\n",
       "    <tr>\n",
       "      <th>7</th>\n",
       "      <td>p71e8- En cierto instituto de Enseñanza Secund...</td>\n",
       "      <td>i) Tamaño de la muestra:$120.0$. Alumnos de la...</td>\n",
       "    </tr>\n",
       "    <tr>\n",
       "      <th>8</th>\n",
       "      <td>p71e9- Para estimar la proporción de las famil...</td>\n",
       "      <td>$\\alpha=1-0.95=0.05\\to \\frac{\\alpha}{2}=0.025$...</td>\n",
       "    </tr>\n",
       "  </tbody>\n",
       "</table>\n",
       "</div>"
      ],
      "text/plain": [
       "                                           enunciado  \\\n",
       "0  p71e1-Una muestra aleatoria de 36 personas, em...   \n",
       "1  p71e2- Cuál debe ser el tamaño de una muestra ...   \n",
       "2  p71e3- Una muestra aleatoria de 100 bombillas ...   \n",
       "3  p71e4- La dirección de un hotel quiere saber e...   \n",
       "4  p71e5- Una muestra aleatoria de 225 votantes t...   \n",
       "5  p71e6- El valor de diez cheques al descubierto...   \n",
       "6  p71e7- De 120 alumnos, la proporción de que te...   \n",
       "7  p71e8- En cierto instituto de Enseñanza Secund...   \n",
       "8  p71e9- Para estimar la proporción de las famil...   \n",
       "\n",
       "                                            solucion  \n",
       "0  a) $\\mu\\approx 12$ \\\\ b) $\\alpha=1-0.99=0.01\\t...  \n",
       "1  $\\alpha=1-0.95=0.05\\to \\frac{\\alpha}{2}=0.025$...  \n",
       "2  i) $\\mu\\approx 1280$ \\\\ ii) $\\alpha=1-0.95=0.0...  \n",
       "3  i) $\\mu\\approx 5.4$ \\\\ ii) $\\alpha=1-0.9=0.1\\t...  \n",
       "4  i) $p \\approx \\widehat{p} =60$\\% \\\\ ii) $\\alph...  \n",
       "5  Calculamos la media estadística para estimar l...  \n",
       "6  La distribución muestral $\\widehat{p} \\rightar...  \n",
       "7  i) Tamaño de la muestra:$120.0$. Alumnos de la...  \n",
       "8  $\\alpha=1-0.95=0.05\\to \\frac{\\alpha}{2}=0.025$...  "
      ]
     },
     "execution_count": 11,
     "metadata": {},
     "output_type": "execute_result"
    }
   ],
   "source": [
    "df=pd.DataFrame(lista_ejercicios,columns=['enunciado','solucion'])\n",
    "df.to_csv(\"ejercicios_intervalos.csv\")\n",
    "df"
   ]
  },
  {
   "cell_type": "markdown",
   "metadata": {
    "colab_type": "text",
    "id": "UwRAK3GxnO7d"
   },
   "source": [
    "### Septiembre 2012\n",
    "La cantidad de refresco que se sirve en cada vaso a la entrada de unos cines está\n",
    "normalmente distribuida con una desviación típica de 15 ml. Hemos medido las cantidades en los vasos de\n",
    "los 25 asistentes de una determinada sesión que compraron un refresco y hemos obtenido un promedio de\n",
    "200,8 ml. Fijado un nivel de confianza del 90%, calcular el intervalo de confianza para la media de la\n",
    "cantidad de refresco que se sirve en cada vaso."
   ]
  },
  {
   "cell_type": "code",
   "execution_count": 3,
   "metadata": {
    "colab": {
     "base_uri": "https://localhost:8080/",
     "height": 211
    },
    "colab_type": "code",
    "id": "S0FGu_8WnRu2",
    "outputId": "782479ad-a4d3-478e-8d58-2670660ec8cc"
   },
   "outputs": [
    {
     "data": {
      "text/plain": [
       "((195.8654391191456, 205.73456088085442),\n",
       " (0.09999999999999998,\n",
       "  0.95,\n",
       "  1.6449,\n",
       "  4.9347,\n",
       "  195.86530000000002,\n",
       "  205.7347,\n",
       "  (195.8654391191456, 205.73456088085442),\n",
       "  'Intervalo de confianza para la media, si la media muestral es: 200.8, la desviación típica: 15, tamaño de la muestra: 25 y el grado de confianza: 90.0\\\\%. \\\\\\\\ \\\\\\\\ ',\n",
       "  '$\\\\alpha=1-0.9=0.1\\\\to \\\\frac{\\\\alpha}{2}=0.05$ \\\\\\\\ \\\\\\\\ Valor crítico: \\\\\\\\ $P(Z>z_{\\\\alpha/2})=0.05\\\\to P(Z<z_{\\\\alpha/2})=0.95 \\\\to z_{\\\\alpha/2} =1.6449$ \\\\\\\\ \\n  \\\\begin{tikzpicture}[scale=0.8]\\n    \\\\pgfmathdeclarefunction{gauss}{2}{\\\\pgfmathparse{1/(#2*sqrt(2*pi))*exp(-((x-#1)^2)/(2*#2^2))}}\\n    \\\\tikzmath{\\\\conf = 0.9; \\\\crit= 1.6449; \\\\a=0.05);}\\n    \\\\begin{axis}[no markers, domain=-5:5, samples=100, axis lines=left, height=5cm, width=12cm, xtick={0,\\\\crit}, ytick=\\\\empty, xticklabels = {$0$, $z_{\\\\frac{\\\\alpha}{2}}=\\\\crit$},enlargelimits=false, clip=false, axis on top]\\n      \\\\addplot [fill=cyan!20, draw=none, domain=-\\\\crit:\\\\crit] {gauss(0,1)} \\\\closedcycle;\\n      \\\\addplot [very thick,cyan!50!black] {gauss(0,1)};\\n    \\\\end{axis}\\n    \\\\node[] at (5.2,1.5) {$\\\\conf$};\\t\\n    \\\\draw[-]   (\\\\crit+6.5,1)node[right]{$\\\\a$}  --  (\\\\crit+5.6,0.1) ;\\n  \\\\end{tikzpicture} \\\\\\\\\\n  Error cometido: \\\\\\\\ $E=z_{\\\\alpha/2}\\\\cdot \\\\frac{\\\\sigma}{\\\\sqrt{n}} \\\\to E=1.6449\\\\cdot \\\\frac{15}{5.0}=4.9347$ \\\\\\\\ Por tanto el intervalo de confianza será: \\\\\\\\$\\\\left(\\\\overline{x} - E , \\\\overline{x} + E \\\\right)=\\\\left(200.8 - 4.9347 , 200.8 + 4.9347 \\\\right)=\\\\left(195.8653, 205.7347 \\\\right)$ \\\\\\\\  \\\\\\\\ \\n  \\\\begin{tikzpicture}[scale=0.4]\\n      \\\\tikzmath{\\\\a = -10; \\\\b = 10; \\\\aa = \\\\a -1; \\\\bb = \\\\b + 1 ; \\\\dist = \\\\b - \\\\a; \\\\med = (\\\\a + \\\\b)/2;}\\n      \\\\draw[very thick] (\\\\a,0) -- (\\\\b,0);\\n      \\\\path [draw=black, fill=white] (\\\\b,0) circle (2pt);\\n      \\\\path [draw=black, fill=white] (\\\\a,0.0) circle (2pt);\\n      \\\\draw[latex-latex] (\\\\a - 1.5,0) -- (\\\\b + 1.5,0) ;\\n      \\\\draw[shift={(\\\\a,0)},color=black] (0pt,3pt) -- (0pt,-3pt);\\n      \\\\draw[shift={(\\\\a,0)},color=black] (0pt,0pt) -- (0pt,-3pt) node[below] {$195.86530000000002$};\\n      \\\\draw[shift={(\\\\med,0)},color=black] (0pt,3pt) -- (0pt,-3pt);\\n      \\\\draw[shift={(\\\\med,0)},color=black] (0pt,0pt) -- (0pt,-3pt) node[below] {$200.8$};\\n      \\\\draw[shift={(\\\\b,0)},color=black] (0pt,3pt) -- (0pt,-3pt);\\n      \\\\draw[shift={(\\\\b,0)},color=black] (0pt,0pt) -- (0pt,-3pt) node[below] {$205.7347$};\\n      \\\\draw[decorate,decoration={brace}, thick](\\\\med,0.2)--(\\\\b,0.2) node[above, midway] {$E=4.9347$}; \\n  \\\\end{tikzpicture} \\\\\\\\\\n  '))"
      ]
     },
     "execution_count": 3,
     "metadata": {},
     "output_type": "execute_result"
    }
   ],
   "source": [
    "mu = 200.8\n",
    "sigma = 15\n",
    "N = 25\n",
    "confianza = 0.90\n",
    "\n",
    "lista_ejercicios.append(media_intervalo(confianza, mu , sigma, N)[7:])\n",
    "scipy.stats.norm.interval(confianza, loc=mu, scale=sigma/np.sqrt(N)), media_intervalo(confianza, mu , sigma, N)\n",
    "\n"
   ]
  },
  {
   "cell_type": "markdown",
   "metadata": {
    "colab_type": "text",
    "id": "Ta5Vqs5FFH3k"
   },
   "source": [
    "### Septiembre 2017\n",
    "\n",
    "La duración de las bombillas de un fabricante es una variable aleatoria con distribución\n",
    "normal de desviación típica 75 horas. Decidimos tomar un tamaño de la muestra igual a 150, comprobamos la duración de cada\n",
    "bombilla y calculamos su promedio, que resulta ser 1053 horas. Calcular el intervalo de confianza al 98\\%\n",
    "para la media de la duración de las bombillas del fabricante."
   ]
  },
  {
   "cell_type": "code",
   "execution_count": 4,
   "metadata": {
    "colab": {
     "base_uri": "https://localhost:8080/",
     "height": 211
    },
    "colab_type": "code",
    "id": "ac8gaIxuFYjN",
    "outputId": "72af0eaf-1e26-4b2a-db3d-e3dd440d913f"
   },
   "outputs": [
    {
     "data": {
      "text/plain": [
       "((1038.7540868609788, 1067.2459131390212),\n",
       " (0.020000000000000018,\n",
       "  0.99,\n",
       "  2.3263,\n",
       "  14.2456,\n",
       "  1038.7544,\n",
       "  1067.2456,\n",
       "  (1038.7540868609788, 1067.2459131390212),\n",
       "  'Intervalo de confianza para la media, si la media muestral es: 1053, la desviación típica: 75, tamaño de la muestra: 150 y el grado de confianza: 98.0\\\\%. \\\\\\\\ \\\\\\\\ ',\n",
       "  '$\\\\alpha=1-0.98=0.02\\\\to \\\\frac{\\\\alpha}{2}=0.01$ \\\\\\\\ \\\\\\\\ Valor crítico: \\\\\\\\ $P(Z>z_{\\\\alpha/2})=0.01\\\\to P(Z<z_{\\\\alpha/2})=0.99 \\\\to z_{\\\\alpha/2} =2.3263$ \\\\\\\\ \\n  \\\\begin{tikzpicture}[scale=0.8]\\n    \\\\pgfmathdeclarefunction{gauss}{2}{\\\\pgfmathparse{1/(#2*sqrt(2*pi))*exp(-((x-#1)^2)/(2*#2^2))}}\\n    \\\\tikzmath{\\\\conf = 0.98; \\\\crit= 2.3263; \\\\a=0.01);}\\n    \\\\begin{axis}[no markers, domain=-5:5, samples=100, axis lines=left, height=5cm, width=12cm, xtick={0,\\\\crit}, ytick=\\\\empty, xticklabels = {$0$, $z_{\\\\frac{\\\\alpha}{2}}=\\\\crit$},enlargelimits=false, clip=false, axis on top]\\n      \\\\addplot [fill=cyan!20, draw=none, domain=-\\\\crit:\\\\crit] {gauss(0,1)} \\\\closedcycle;\\n      \\\\addplot [very thick,cyan!50!black] {gauss(0,1)};\\n    \\\\end{axis}\\n    \\\\node[] at (5.2,1.5) {$\\\\conf$};\\t\\n    \\\\draw[-]   (\\\\crit+6.5,1)node[right]{$\\\\a$}  --  (\\\\crit+5.6,0.1) ;\\n  \\\\end{tikzpicture} \\\\\\\\\\n  Error cometido: \\\\\\\\ $E=z_{\\\\alpha/2}\\\\cdot \\\\frac{\\\\sigma}{\\\\sqrt{n}} \\\\to E=2.3263\\\\cdot \\\\frac{75}{12.24744871391589}=14.2456$ \\\\\\\\ Por tanto el intervalo de confianza será: \\\\\\\\$\\\\left(\\\\overline{x} - E , \\\\overline{x} + E \\\\right)=\\\\left(1053 - 14.2456 , 1053 + 14.2456 \\\\right)=\\\\left(1038.7544, 1067.2456 \\\\right)$ \\\\\\\\  \\\\\\\\ \\n  \\\\begin{tikzpicture}[scale=0.4]\\n      \\\\tikzmath{\\\\a = -10; \\\\b = 10; \\\\aa = \\\\a -1; \\\\bb = \\\\b + 1 ; \\\\dist = \\\\b - \\\\a; \\\\med = (\\\\a + \\\\b)/2;}\\n      \\\\draw[very thick] (\\\\a,0) -- (\\\\b,0);\\n      \\\\path [draw=black, fill=white] (\\\\b,0) circle (2pt);\\n      \\\\path [draw=black, fill=white] (\\\\a,0.0) circle (2pt);\\n      \\\\draw[latex-latex] (\\\\a - 1.5,0) -- (\\\\b + 1.5,0) ;\\n      \\\\draw[shift={(\\\\a,0)},color=black] (0pt,3pt) -- (0pt,-3pt);\\n      \\\\draw[shift={(\\\\a,0)},color=black] (0pt,0pt) -- (0pt,-3pt) node[below] {$1038.7544$};\\n      \\\\draw[shift={(\\\\med,0)},color=black] (0pt,3pt) -- (0pt,-3pt);\\n      \\\\draw[shift={(\\\\med,0)},color=black] (0pt,0pt) -- (0pt,-3pt) node[below] {$1053$};\\n      \\\\draw[shift={(\\\\b,0)},color=black] (0pt,3pt) -- (0pt,-3pt);\\n      \\\\draw[shift={(\\\\b,0)},color=black] (0pt,0pt) -- (0pt,-3pt) node[below] {$1067.2456$};\\n      \\\\draw[decorate,decoration={brace}, thick](\\\\med,0.2)--(\\\\b,0.2) node[above, midway] {$E=14.2456$}; \\n  \\\\end{tikzpicture} \\\\\\\\\\n  '))"
      ]
     },
     "execution_count": 4,
     "metadata": {},
     "output_type": "execute_result"
    }
   ],
   "source": [
    "mu = 1053\n",
    "sigma = 75\n",
    "N = 150\n",
    "confianza = 0.98\n",
    "\n",
    "lista_ejercicios.append(media_intervalo(confianza, mu , sigma, N)[7:])\n",
    "scipy.stats.norm.interval(confianza, loc=mu, scale=sigma/np.sqrt(N)), media_intervalo(confianza, mu , sigma, N)\n"
   ]
  },
  {
   "cell_type": "code",
   "execution_count": 5,
   "metadata": {
    "colab": {
     "base_uri": "https://localhost:8080/",
     "height": 106
    },
    "colab_type": "code",
    "id": "aHUY0HniIY9x",
    "outputId": "88c217d4-4e33-4656-8a76-f9842ed6403c"
   },
   "outputs": [
    {
     "data": {
      "text/plain": [
       "[('Intervalo de confianza para la media, si la media muestral es: 200.8, la desviación típica: 15, tamaño de la muestra: 25 y el grado de confianza: 90.0\\\\%. \\\\\\\\ \\\\\\\\ ',\n",
       "  '$\\\\alpha=1-0.9=0.1\\\\to \\\\frac{\\\\alpha}{2}=0.05$ \\\\\\\\ \\\\\\\\ Valor crítico: \\\\\\\\ $P(Z>z_{\\\\alpha/2})=0.05\\\\to P(Z<z_{\\\\alpha/2})=0.95 \\\\to z_{\\\\alpha/2} =1.6449$ \\\\\\\\ \\n  \\\\begin{tikzpicture}[scale=0.8]\\n    \\\\pgfmathdeclarefunction{gauss}{2}{\\\\pgfmathparse{1/(#2*sqrt(2*pi))*exp(-((x-#1)^2)/(2*#2^2))}}\\n    \\\\tikzmath{\\\\conf = 0.9; \\\\crit= 1.6449; \\\\a=0.05);}\\n    \\\\begin{axis}[no markers, domain=-5:5, samples=100, axis lines=left, height=5cm, width=12cm, xtick={0,\\\\crit}, ytick=\\\\empty, xticklabels = {$0$, $z_{\\\\frac{\\\\alpha}{2}}=\\\\crit$},enlargelimits=false, clip=false, axis on top]\\n      \\\\addplot [fill=cyan!20, draw=none, domain=-\\\\crit:\\\\crit] {gauss(0,1)} \\\\closedcycle;\\n      \\\\addplot [very thick,cyan!50!black] {gauss(0,1)};\\n    \\\\end{axis}\\n    \\\\node[] at (5.2,1.5) {$\\\\conf$};\\t\\n    \\\\draw[-]   (\\\\crit+6.5,1)node[right]{$\\\\a$}  --  (\\\\crit+5.6,0.1) ;\\n  \\\\end{tikzpicture} \\\\\\\\\\n  Error cometido: \\\\\\\\ $E=z_{\\\\alpha/2}\\\\cdot \\\\frac{\\\\sigma}{\\\\sqrt{n}} \\\\to E=1.6449\\\\cdot \\\\frac{15}{5.0}=4.9347$ \\\\\\\\ Por tanto el intervalo de confianza será: \\\\\\\\$\\\\left(\\\\overline{x} - E , \\\\overline{x} + E \\\\right)=\\\\left(200.8 - 4.9347 , 200.8 + 4.9347 \\\\right)=\\\\left(195.8653, 205.7347 \\\\right)$ \\\\\\\\  \\\\\\\\ \\n  \\\\begin{tikzpicture}[scale=0.4]\\n      \\\\tikzmath{\\\\a = -10; \\\\b = 10; \\\\aa = \\\\a -1; \\\\bb = \\\\b + 1 ; \\\\dist = \\\\b - \\\\a; \\\\med = (\\\\a + \\\\b)/2;}\\n      \\\\draw[very thick] (\\\\a,0) -- (\\\\b,0);\\n      \\\\path [draw=black, fill=white] (\\\\b,0) circle (2pt);\\n      \\\\path [draw=black, fill=white] (\\\\a,0.0) circle (2pt);\\n      \\\\draw[latex-latex] (\\\\a - 1.5,0) -- (\\\\b + 1.5,0) ;\\n      \\\\draw[shift={(\\\\a,0)},color=black] (0pt,3pt) -- (0pt,-3pt);\\n      \\\\draw[shift={(\\\\a,0)},color=black] (0pt,0pt) -- (0pt,-3pt) node[below] {$195.86530000000002$};\\n      \\\\draw[shift={(\\\\med,0)},color=black] (0pt,3pt) -- (0pt,-3pt);\\n      \\\\draw[shift={(\\\\med,0)},color=black] (0pt,0pt) -- (0pt,-3pt) node[below] {$200.8$};\\n      \\\\draw[shift={(\\\\b,0)},color=black] (0pt,3pt) -- (0pt,-3pt);\\n      \\\\draw[shift={(\\\\b,0)},color=black] (0pt,0pt) -- (0pt,-3pt) node[below] {$205.7347$};\\n      \\\\draw[decorate,decoration={brace}, thick](\\\\med,0.2)--(\\\\b,0.2) node[above, midway] {$E=4.9347$}; \\n  \\\\end{tikzpicture} \\\\\\\\\\n  '),\n",
       " ('Intervalo de confianza para la media, si la media muestral es: 1053, la desviación típica: 75, tamaño de la muestra: 150 y el grado de confianza: 98.0\\\\%. \\\\\\\\ \\\\\\\\ ',\n",
       "  '$\\\\alpha=1-0.98=0.02\\\\to \\\\frac{\\\\alpha}{2}=0.01$ \\\\\\\\ \\\\\\\\ Valor crítico: \\\\\\\\ $P(Z>z_{\\\\alpha/2})=0.01\\\\to P(Z<z_{\\\\alpha/2})=0.99 \\\\to z_{\\\\alpha/2} =2.3263$ \\\\\\\\ \\n  \\\\begin{tikzpicture}[scale=0.8]\\n    \\\\pgfmathdeclarefunction{gauss}{2}{\\\\pgfmathparse{1/(#2*sqrt(2*pi))*exp(-((x-#1)^2)/(2*#2^2))}}\\n    \\\\tikzmath{\\\\conf = 0.98; \\\\crit= 2.3263; \\\\a=0.01);}\\n    \\\\begin{axis}[no markers, domain=-5:5, samples=100, axis lines=left, height=5cm, width=12cm, xtick={0,\\\\crit}, ytick=\\\\empty, xticklabels = {$0$, $z_{\\\\frac{\\\\alpha}{2}}=\\\\crit$},enlargelimits=false, clip=false, axis on top]\\n      \\\\addplot [fill=cyan!20, draw=none, domain=-\\\\crit:\\\\crit] {gauss(0,1)} \\\\closedcycle;\\n      \\\\addplot [very thick,cyan!50!black] {gauss(0,1)};\\n    \\\\end{axis}\\n    \\\\node[] at (5.2,1.5) {$\\\\conf$};\\t\\n    \\\\draw[-]   (\\\\crit+6.5,1)node[right]{$\\\\a$}  --  (\\\\crit+5.6,0.1) ;\\n  \\\\end{tikzpicture} \\\\\\\\\\n  Error cometido: \\\\\\\\ $E=z_{\\\\alpha/2}\\\\cdot \\\\frac{\\\\sigma}{\\\\sqrt{n}} \\\\to E=2.3263\\\\cdot \\\\frac{75}{12.24744871391589}=14.2456$ \\\\\\\\ Por tanto el intervalo de confianza será: \\\\\\\\$\\\\left(\\\\overline{x} - E , \\\\overline{x} + E \\\\right)=\\\\left(1053 - 14.2456 , 1053 + 14.2456 \\\\right)=\\\\left(1038.7544, 1067.2456 \\\\right)$ \\\\\\\\  \\\\\\\\ \\n  \\\\begin{tikzpicture}[scale=0.4]\\n      \\\\tikzmath{\\\\a = -10; \\\\b = 10; \\\\aa = \\\\a -1; \\\\bb = \\\\b + 1 ; \\\\dist = \\\\b - \\\\a; \\\\med = (\\\\a + \\\\b)/2;}\\n      \\\\draw[very thick] (\\\\a,0) -- (\\\\b,0);\\n      \\\\path [draw=black, fill=white] (\\\\b,0) circle (2pt);\\n      \\\\path [draw=black, fill=white] (\\\\a,0.0) circle (2pt);\\n      \\\\draw[latex-latex] (\\\\a - 1.5,0) -- (\\\\b + 1.5,0) ;\\n      \\\\draw[shift={(\\\\a,0)},color=black] (0pt,3pt) -- (0pt,-3pt);\\n      \\\\draw[shift={(\\\\a,0)},color=black] (0pt,0pt) -- (0pt,-3pt) node[below] {$1038.7544$};\\n      \\\\draw[shift={(\\\\med,0)},color=black] (0pt,3pt) -- (0pt,-3pt);\\n      \\\\draw[shift={(\\\\med,0)},color=black] (0pt,0pt) -- (0pt,-3pt) node[below] {$1053$};\\n      \\\\draw[shift={(\\\\b,0)},color=black] (0pt,3pt) -- (0pt,-3pt);\\n      \\\\draw[shift={(\\\\b,0)},color=black] (0pt,0pt) -- (0pt,-3pt) node[below] {$1067.2456$};\\n      \\\\draw[decorate,decoration={brace}, thick](\\\\med,0.2)--(\\\\b,0.2) node[above, midway] {$E=14.2456$}; \\n  \\\\end{tikzpicture} \\\\\\\\\\n  ')]"
      ]
     },
     "execution_count": 5,
     "metadata": {},
     "output_type": "execute_result"
    }
   ],
   "source": [
    "lista_ejercicios"
   ]
  },
  {
   "cell_type": "markdown",
   "metadata": {
    "colab_type": "text",
    "id": "Tu-VQCBaK72f"
   },
   "source": [
    "### Cálculo del tamaño de una muestra\n",
    "\n",
    "Se desea realizar una investigación para estimar el peso medio de los recién nacidos de madres fumadoras. Se admite un error máximo de 50 gramos, con una confianza del 95%. Si por estudios anteriores se sabe que la desviación típica del peso medio de tales recién nacidos es de 400 gramos, ¿qué tamaño mínimo de muestra se necesita en la investigación?\n"
   ]
  },
  {
   "cell_type": "code",
   "execution_count": 11,
   "metadata": {
    "colab": {
     "base_uri": "https://localhost:8080/",
     "height": 34
    },
    "colab_type": "code",
    "id": "d6-1-t2w6ObT",
    "outputId": "c3aa1a3f-0790-4228-cedd-5687e75233de"
   },
   "outputs": [
    {
     "data": {
      "text/plain": [
       "(0.08999999999999997, 0.9550000000000001, 1.6954, 183.9599, 184)"
      ]
     },
     "execution_count": 11,
     "metadata": {},
     "output_type": "execute_result"
    }
   ],
   "source": [
    "import math \n",
    "\n",
    "E = 50\n",
    "confianza = 0.91\n",
    "sigma = 400\n",
    "\n",
    "def error_max_media(confianza, sigma, E) :\n",
    "  alpha = 1-confianza\n",
    "  #pmax = (1-(1-confianza)/2)\n",
    "  pmax = confianza+(alpha)/2\n",
    "  zcritico=scipy.stats.norm.ppf(pmax)\n",
    "  n=(zcritico*sigma/E)**2\n",
    "  return alpha, pmax, round(zcritico,4), round(n,4), math.ceil(n)\n",
    "\n",
    "error_max_media(confianza, sigma, E)\n",
    "\n",
    "\n",
    "def error_max_proporcion(confianza, proporcion, E) :\n",
    "  alpha = 1-confianza\n",
    "  #pmax = (1-(1-confianza)/2)\n",
    "  pmax = confianza+(alpha)/2\n",
    "  zcritico=scipy.stats.norm.ppf(pmax)\n",
    "  n=(proporcion*(1-proporcion))/(E/zcritico)**2\n",
    "  return alpha, pmax, round(zcritico,4), round(n,4), math.ceil(n)\n",
    "\n",
    "error_max_media(confianza, sigma, E)"
   ]
  },
  {
   "cell_type": "code",
   "execution_count": 10,
   "metadata": {
    "colab": {
     "base_uri": "https://localhost:8080/",
     "height": 34
    },
    "colab_type": "code",
    "id": "52mm-TJ3XkHQ",
    "outputId": "0fde87ff-d2ae-4842-fe01-e1ccd9e33d9b"
   },
   "outputs": [
    {
     "ename": "NameError",
     "evalue": "name 'math' is not defined",
     "output_type": "error",
     "traceback": [
      "\u001b[0;31m---------------------------------------------------------------------------\u001b[0m",
      "\u001b[0;31mNameError\u001b[0m                                 Traceback (most recent call last)",
      "\u001b[0;32m<ipython-input-10-c42d4249ae6b>\u001b[0m in \u001b[0;36m<module>\u001b[0;34m()\u001b[0m\n\u001b[1;32m      3\u001b[0m \u001b[0mconfianza\u001b[0m \u001b[0;34m=\u001b[0m \u001b[0;36m0.91\u001b[0m\u001b[0;34m\u001b[0m\u001b[0;34m\u001b[0m\u001b[0m\n\u001b[1;32m      4\u001b[0m \u001b[0;34m\u001b[0m\u001b[0m\n\u001b[0;32m----> 5\u001b[0;31m \u001b[0merror_max_proporcion\u001b[0m\u001b[0;34m(\u001b[0m\u001b[0mconfianza\u001b[0m\u001b[0;34m,\u001b[0m \u001b[0mproporcion\u001b[0m\u001b[0;34m,\u001b[0m \u001b[0mE\u001b[0m\u001b[0;34m)\u001b[0m\u001b[0;34m\u001b[0m\u001b[0;34m\u001b[0m\u001b[0m\n\u001b[0m",
      "\u001b[0;32m<ipython-input-8-21635e4e50f6>\u001b[0m in \u001b[0;36merror_max_proporcion\u001b[0;34m(confianza, proporcion, E)\u001b[0m\n\u001b[1;32m    133\u001b[0m     \u001b[0msolucion_latex\u001b[0m \u001b[0;34m+=\u001b[0m \u001b[0mtikz_confianza\u001b[0m\u001b[0;34m(\u001b[0m\u001b[0mconfianza\u001b[0m\u001b[0;34m,\u001b[0m\u001b[0mzcritico\u001b[0m\u001b[0;34m)\u001b[0m\u001b[0;34m\u001b[0m\u001b[0;34m\u001b[0m\u001b[0m\n\u001b[1;32m    134\u001b[0m     \u001b[0mn\u001b[0m\u001b[0;34m=\u001b[0m\u001b[0;34m(\u001b[0m\u001b[0mproporcion\u001b[0m\u001b[0;34m*\u001b[0m\u001b[0;34m(\u001b[0m\u001b[0;36m1\u001b[0m\u001b[0;34m-\u001b[0m\u001b[0mproporcion\u001b[0m\u001b[0;34m)\u001b[0m\u001b[0;34m)\u001b[0m\u001b[0;34m/\u001b[0m\u001b[0;34m(\u001b[0m\u001b[0mE\u001b[0m\u001b[0;34m/\u001b[0m\u001b[0mzcritico\u001b[0m\u001b[0;34m)\u001b[0m\u001b[0;34m**\u001b[0m\u001b[0;36m2\u001b[0m\u001b[0;34m\u001b[0m\u001b[0;34m\u001b[0m\u001b[0m\n\u001b[0;32m--> 135\u001b[0;31m     \u001b[0msolucion_latex\u001b[0m \u001b[0;34m+=\u001b[0m \u001b[0;34mr\"Error cometido: \\\\ $E=z_{\\alpha / 2}\\cdot \\sqrt{\\frac{\\widehat{p}\\cdot\\left(1-\\widehat{p} \\right)}{n}} \\to n =\\frac{\\widehat{p}\\cdot\\left(1-\\widehat{p} \\right)\\cdot z_{\\alpha / 2}^2}{E^2} \\to n \\geq\"\u001b[0m\u001b[0;34m+\u001b[0m\u001b[0mlatex\u001b[0m\u001b[0;34m(\u001b[0m\u001b[0mmath\u001b[0m\u001b[0;34m.\u001b[0m\u001b[0mceil\u001b[0m\u001b[0;34m(\u001b[0m\u001b[0mn\u001b[0m\u001b[0;34m)\u001b[0m\u001b[0;34m)\u001b[0m\u001b[0;34m+\u001b[0m\u001b[0;34mr\"$ \\\\ \"\u001b[0m\u001b[0;34m\u001b[0m\u001b[0;34m\u001b[0m\u001b[0m\n\u001b[0m\u001b[1;32m    136\u001b[0m \u001b[0;34m\u001b[0m\u001b[0m\n\u001b[1;32m    137\u001b[0m \u001b[0;34m\u001b[0m\u001b[0m\n",
      "\u001b[0;31mNameError\u001b[0m: name 'math' is not defined"
     ]
    }
   ],
   "source": [
    "E = 0.04\n",
    "proporcion = 0.5\n",
    "confianza = 0.91\n",
    "\n",
    "error_max_proporcion(confianza, proporcion, E)"
   ]
  },
  {
   "cell_type": "markdown",
   "metadata": {
    "colab_type": "text",
    "id": "s1rIXyu9XkzZ"
   },
   "source": [
    "- Deseamos valorar el grado de conocimientos en historia de una población\n",
    "de varios miles de estudiantes. Sabemos\n",
    "que σ = 2,3. Nos proponemos estimar μ pasando una prueba a 100\n",
    "estudiantes.\n",
    "a) Calcular el intervalo característico\n",
    "para $\\overline{x}$\n",
    "correspondiente a una probabilidad de 0,95\n",
    "\n",
    "- Una vez realizada la prueba a 100 estudiantes concretos, se ha obtenido una\n",
    "media $\\overline{x}$ = 6,32.\n",
    "b) Hallar el intervalo de confianza de\n",
    "μ con un nivel de confianza del\n",
    "95 %.\n"
   ]
  },
  {
   "cell_type": "markdown",
   "metadata": {
    "colab_type": "text",
    "id": "0tpv7OCcOMYp"
   },
   "source": [
    "### Junio 2018 Estimación de la proporción por intervalo de confianza\n",
    "\n",
    "Para estimar la proporción de personas con sobrepeso en una población se ha tomado una\n",
    "muestra aleatoria simple de tamaño 100 personas, de las cuales 21 tienen sobrepeso. Calcular el intervalo\n",
    "de confianza al 96% para la proporción de personas con sobrepeso en la población.\n",
    "\n"
   ]
  },
  {
   "cell_type": "code",
   "execution_count": 40,
   "metadata": {
    "colab": {
     "base_uri": "https://localhost:8080/",
     "height": 156
    },
    "colab_type": "code",
    "id": "6lZVzgYWOdmc",
    "outputId": "3e9e76b8-fc69-40ae-e960-8a2f499d50eb"
   },
   "outputs": [
    {
     "data": {
      "text/plain": [
       "(0.21,\n",
       " 0.040000000000000036,\n",
       " 0.98,\n",
       " 2.0537,\n",
       " 0.0836,\n",
       " 0.1264,\n",
       " 0.29359999999999997,\n",
       " (0.12634911517884823, 0.29365088482115176),\n",
       " 'Intervalo de confianza para la proporción, si los aciertos son: 21, tamaño de la muestra: 100 y el grado de confianza: 96.0\\\\%. \\\\\\\\ \\\\\\\\ ',\n",
       " '$\\\\alpha=1-0.96=0.04\\\\to \\\\frac{\\\\alpha}{2}=0.02$ \\\\\\\\ \\\\\\\\ Valor crítico: \\\\\\\\ $P(Z>z_{\\\\alpha/2})=0.02\\\\to P(Z<z_{\\\\alpha/2})=0.98 \\\\to z_{\\\\alpha/2} =2.0537$ \\\\\\\\ \\n  \\\\begin{tikzpicture}[scale=0.8]\\n    \\\\pgfmathdeclarefunction{gauss}{2}{\\\\pgfmathparse{1/(#2*sqrt(2*pi))*exp(-((x-#1)^2)/(2*#2^2))}}\\n    \\\\tikzmath{\\\\conf = 0.96; \\\\crit= 2.0537; \\\\a=0.02);}\\n    \\\\begin{axis}[no markers, domain=-5:5, samples=100, axis lines=left, height=5cm, width=12cm, xtick={0,\\\\crit}, ytick=\\\\empty, xticklabels = {$0$, $z_{\\\\frac{\\\\alpha}{2}}=\\\\crit$},enlargelimits=false, clip=false, axis on top]\\n      \\\\addplot [fill=cyan!20, draw=none, domain=-\\\\crit:\\\\crit] {gauss(0,1)} \\\\closedcycle;\\n      \\\\addplot [very thick,cyan!50!black] {gauss(0,1)};\\n    \\\\end{axis}\\n    \\\\node[] at (5.2,1.5) {$\\\\conf$};\\t\\n    \\\\draw[-]   (\\\\crit+6.5,1)node[right]{$\\\\a$}  --  (\\\\crit+5.6,0.1) ;\\n  \\\\end{tikzpicture} \\\\\\\\\\n  Error cometido: \\\\\\\\ $E=z_{\\\\alpha / 2}\\\\cdot \\\\sqrt{\\\\frac{\\\\widehat{p}\\\\cdot\\\\left(1-\\\\overline{p} \\\\right)}{n}} \\\\to E=2.0537\\\\cdot \\\\sqrt{\\\\frac{0.21\\\\cdot0.79}{100}}=0.0836$ \\\\\\\\ Por tanto el intervalo de confianza será: \\\\\\\\$\\\\left(\\\\widehat{p} - E , \\\\widehat{p} + E \\\\right)=\\\\left(0.21 - 0.0836 , 0.21 + 0.0836 \\\\right)=\\\\left(0.1264, 0.2936 \\\\right)$ \\\\\\\\  \\\\\\\\ \\n  \\\\begin{tikzpicture}[scale=0.4]\\n      \\\\tikzmath{\\\\a = -10; \\\\b = 10; \\\\aa = \\\\a -1; \\\\bb = \\\\b + 1 ; \\\\dist = \\\\b - \\\\a; \\\\med = (\\\\a + \\\\b)/2;}\\n      \\\\draw[very thick] (\\\\a,0) -- (\\\\b,0);\\n      \\\\path [draw=black, fill=white] (\\\\b,0) circle (2pt);\\n      \\\\path [draw=black, fill=white] (\\\\a,0.0) circle (2pt);\\n      \\\\draw[latex-latex] (\\\\a - 1.5,0) -- (\\\\b + 1.5,0) ;\\n      \\\\draw[shift={(\\\\a,0)},color=black] (0pt,3pt) -- (0pt,-3pt);\\n      \\\\draw[shift={(\\\\a,0)},color=black] (0pt,0pt) -- (0pt,-3pt) node[below] {$0.1264$};\\n      \\\\draw[shift={(\\\\med,0)},color=black] (0pt,3pt) -- (0pt,-3pt);\\n      \\\\draw[shift={(\\\\med,0)},color=black] (0pt,0pt) -- (0pt,-3pt) node[below] {$0.21$};\\n      \\\\draw[shift={(\\\\b,0)},color=black] (0pt,3pt) -- (0pt,-3pt);\\n      \\\\draw[shift={(\\\\b,0)},color=black] (0pt,0pt) -- (0pt,-3pt) node[below] {$0.29359999999999997$};\\n      \\\\draw[decorate,decoration={brace}, thick](\\\\med,0.2)--(\\\\b,0.2) node[above, midway] {$E=0.0836$}; \\n  \\\\end{tikzpicture} \\\\\\\\\\n  ')"
      ]
     },
     "execution_count": 40,
     "metadata": {},
     "output_type": "execute_result"
    }
   ],
   "source": [
    "proporcion_intervalo(0.96, 21, 100)"
   ]
  },
  {
   "cell_type": "markdown",
   "metadata": {
    "colab_type": "text",
    "id": "ErJBN13qmwNh"
   },
   "source": [
    "## Ejercicios de distribuciones muestrales\n",
    "\n",
    "\n",
    "Se ha seleccionado una muestra al azar de 50 mujeres de una población de mayores\n",
    "de 18 años. Se desconoce la talla media de la población, pero en la muestra se ha\n",
    "observado que la media de las 50 tallas es 1,60 m. Si se sabe por otros estudios que\n",
    "la desviación típica en la población es de 3,3 cm, determina la probabilidad de que la\n",
    "media de la población no difiere en más de 1 cm de la de la muestra.\n"
   ]
  },
  {
   "cell_type": "code",
   "execution_count": 10,
   "metadata": {
    "colab": {},
    "colab_type": "code",
    "id": "NoM0c8tum_mV"
   },
   "outputs": [
    {
     "data": {
      "text/plain": [
       "(0.967866646858422, 0.967866646858422, 0.466479492187500)"
      ]
     },
     "execution_count": 10,
     "metadata": {},
     "output_type": "execute_result"
    }
   ],
   "source": [
    "n = 50\n",
    "\n",
    "media_muestral = 1.60\n",
    "\n",
    "sigma = 3.3\n",
    "\n",
    "error_maximo = 1\n",
    "\n",
    "Z = Normal('Z',0,1)\n",
    "X = Normal('X',media_muestral,sigma/sqrt(n))\n",
    "\n",
    "P(And(X>media_muestral-error_maximo,X<media_muestral+error_maximo)), P(And(Z>-1/(sigma/sqrt(n)),Z<1/(sigma/sqrt(n)))), sigma/sqrt(n).evalf(2)\n",
    "#P(And(3<=X, X<4.5))\n",
    "\n",
    "\n",
    "\n",
    "\n"
   ]
  },
  {
   "cell_type": "code",
   "execution_count": 19,
   "metadata": {},
   "outputs": [
    {
     "data": {
      "text/plain": [
       "(0.050000000000000044,\n",
       " 0.975,\n",
       " 1.96,\n",
       " 1536.64,\n",
       " 1537,\n",
       " 'Tamaño de la muestra para estimar la proporcion con un error máximo: 0.02, si la proporción muestral es: 0.2 y el grado de confianza: 95.0\\\\%. \\\\\\\\ \\\\\\\\ ',\n",
       " '$\\\\alpha=1-0.95=0.05\\\\to \\\\frac{\\\\alpha}{2}=0.025$ \\\\\\\\ \\\\\\\\ Valor crítico: \\\\\\\\ $P(Z>z_{\\\\alpha/2})=0.025\\\\to P(Z<z_{\\\\alpha/2})=0.975 \\\\to z_{\\\\alpha/2} =1.96$ \\\\\\\\ \\n  \\\\begin{tikzpicture}[scale=0.8]\\n    \\\\pgfmathdeclarefunction{gauss}{2}{\\\\pgfmathparse{1/(#2*sqrt(2*pi))*exp(-((x-#1)^2)/(2*#2^2))}}\\n    \\\\tikzmath{\\\\conf = 0.95; \\\\crit= 1.96; \\\\a=0.025);}\\n    \\\\begin{axis}[no markers, domain=-5:5, samples=100, axis lines=left, height=5cm, width=12cm, xtick={0,\\\\crit}, ytick=\\\\empty, xticklabels = {$0$, $z_{\\\\frac{\\\\alpha}{2}}=\\\\crit$},enlargelimits=false, clip=false, axis on top]\\n      \\\\addplot [fill=cyan!20, draw=none, domain=-\\\\crit:\\\\crit] {gauss(0,1)} \\\\closedcycle;\\n      \\\\addplot [very thick,cyan!50!black] {gauss(0,1)};\\n    \\\\end{axis}\\n    \\\\node[] at (5.2,1.5) {$\\\\conf$};\\t\\n    \\\\draw[-]   (\\\\crit+6.5,1)node[right]{$\\\\a$}  --  (\\\\crit+5.6,0.1) ;\\n  \\\\end{tikzpicture} \\\\\\\\\\n  Error cometido: \\\\\\\\ $E=z_{\\\\alpha / 2}\\\\cdot \\\\sqrt{\\\\frac{\\\\widehat{p}\\\\cdot\\\\left(1-\\\\widehat{p} \\\\right)}{n}} \\\\to n =\\\\frac{\\\\widehat{p}\\\\cdot\\\\left(1-\\\\widehat{p} \\\\right)\\\\cdot z_{\\\\alpha / 2}^2}{E^2} \\\\to n \\\\geq1537$ \\\\\\\\ ')"
      ]
     },
     "execution_count": 19,
     "metadata": {},
     "output_type": "execute_result"
    }
   ],
   "source": [
    "error_max_proporcion(0.95,0.20,0.02)"
   ]
  }
 ],
 "metadata": {
  "colab": {
   "name": "Intervalos_de_confianza.ipynb",
   "provenance": [],
   "toc_visible": true
  },
  "kernelspec": {
   "display_name": "Python 3",
   "language": "python",
   "name": "python3"
  },
  "language_info": {
   "codemirror_mode": {
    "name": "ipython",
    "version": 3
   },
   "file_extension": ".py",
   "mimetype": "text/x-python",
   "name": "python",
   "nbconvert_exporter": "python",
   "pygments_lexer": "ipython3",
   "version": "3.6.8"
  }
 },
 "nbformat": 4,
 "nbformat_minor": 1
}

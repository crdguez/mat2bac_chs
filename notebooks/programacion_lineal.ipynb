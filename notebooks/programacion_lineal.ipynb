{
 "cells": [
  {
   "cell_type": "code",
   "execution_count": 4,
   "id": "83eea2eb",
   "metadata": {},
   "outputs": [
    {
     "name": "stdout",
     "output_type": "stream",
     "text": [
      "IPython console for SymPy 1.8 (Python 3.6.13-64-bit) (ground types: gmpy)\n",
      "\n",
      "These commands were executed:\n",
      ">>> from __future__ import division\n",
      ">>> from sympy import *\n",
      ">>> x, y, z, t = symbols('x y z t')\n",
      ">>> k, m, n = symbols('k m n', integer=True)\n",
      ">>> f, g, h = symbols('f g h', cls=Function)\n",
      ">>> init_printing()\n",
      "\n",
      "Documentation can be found at https://docs.sympy.org/1.8/\n",
      "\n"
     ]
    }
   ],
   "source": [
    "from sympy import *\n",
    "from IPython.display import display_latex, display\n",
    "from sympy.parsing.latex import parse_latex\n",
    "init_session()\n",
    "\n",
    "from scipy import optimize\n",
    "\n",
    "%matplotlib inline\n"
   ]
  },
  {
   "cell_type": "code",
   "execution_count": 2,
   "id": "dd4a9395",
   "metadata": {},
   "outputs": [],
   "source": [
    "def sistema_a_latex(sist, ltx=True) :\n",
    "    \"\"\"\n",
    "    Convierte un sistema Sympy a código LaTeX. Por defecto las ecuaciones tienen que estar en latex. Si no ltx=False\n",
    "    \"\"\"\n",
    "    sist_latex = r\"$\\left\\{ \\begin{matrix}\"\n",
    "    for e in sist:\n",
    "        ee = e if ltx else latex(e)\n",
    "        sist_latex += ee +r\" \\\\ \"  \n",
    "    sist_latex += r\"\\end{matrix}\\right.$\"\n",
    "    return(sist_latex)"
   ]
  },
  {
   "cell_type": "code",
   "execution_count": 36,
   "id": "67ec0f2c",
   "metadata": {},
   "outputs": [
    {
     "name": "stdout",
     "output_type": "stream",
     "text": [
      "Sistema:\n"
     ]
    },
    {
     "data": {
      "text/latex": [
       "$\\left\\{ \\begin{matrix}x \\geq 0  \\\\ y \\geq 0  \\\\  x + 2y \\leq 800 \\\\ 3x+2y \\leq 1200 \\\\ 7x \\leq 2100 \\\\ \\end{matrix}\\right.$"
      ]
     },
     "metadata": {},
     "output_type": "display_data"
    },
    {
     "data": {
      "image/png": "[encoded data removed]",
      "text/latex": [
       "$\\displaystyle \\left[ x \\geq 0, \\  y \\geq 0, \\  x + 2 y \\leq 800, \\  3 x + 2 y \\leq 1200, \\  7 x \\leq 2100\\right]$"
      ],
      "text/plain": [
       "[x ≥ 0, y ≥ 0, x + 2⋅y ≤ 800, 3⋅x + 2⋅y ≤ 1200, 7⋅x ≤ 2100]"
      ]
     },
     "metadata": {},
     "output_type": "display_data"
    },
    {
     "data": {
      "image/png": "[encoded data removed]",
      "text/latex": [
       "$\\displaystyle \\left[ 0, \\  0, \\  0, \\  0, \\  0\\right]$"
      ],
      "text/plain": [
       "[0, 0, 0, 0, 0]"
      ]
     },
     "metadata": {},
     "output_type": "display_data"
    },
    {
     "data": {
      "image/png": "[encoded data removed]",
      "text/plain": [
       "<Figure size 432x288 with 1 Axes>"
      ]
     },
     "metadata": {
      "needs_background": "light"
     },
     "output_type": "display_data"
    }
   ],
   "source": [
    "def region_factible(sist_latex) :\n",
    "    print(\"Sistema:\")\n",
    "    display_latex(sistema_a_latex(sist_latex), raw=True)\n",
    "    sist=[parse_latex(i) for i in sist_latex]\n",
    "    display(sist)\n",
    "    d= dict()\n",
    "    puntos_de_corte=[]\n",
    "\n",
    "#     cálculo de escala:\n",
    "    # eje x\n",
    "\n",
    "#     display([solve([Eq(y,0), Eq(s.args[0],s.args[1])]) for s in sist])\n",
    "    cortes_eje_x = [solve([Eq(y,0), Eq(s.args[0],s.args[1])]) for s in sist]\n",
    "    display([cortes_eje_x[i][y] for i in range(len(cortes_eje_x))])\n",
    "#     display([cortes_eje_x[i][y] for i in cortes_eje_x])\n",
    "\n",
    "\n",
    "\n",
    "    sist_plot=parse_expr(\"And(\"+\",\".join(([str(sist[i]) for i in range(len(sist))]))+\")\")\n",
    "    p = plot_implicit(sist_plot, (x, -10, 800), (y, -10, 800), show =False, adaptative=False)\n",
    "\n",
    "    for n, e in enumerate(sist):\n",
    "#         display([n,e])\n",
    "        p.extend(plot_implicit(Eq(e.args[0],e.args[1]), x_var=x,line_color='red',show=False))\n",
    "        for ee in range(n+1,len(sist)) :\n",
    "#             print(\"Ptos de corte\")\n",
    "            sis_corte=[Eq(e.args[0],e.args[1]), Eq(sist[ee].args[0],sist[ee].args[1])]\n",
    "#             display_latex(sistema_a_latex(sis_corte, ltx=False)+r\"$\\to\"+latex(linsolve(sis_corte,[x,y]))+\"$\", raw=True)\n",
    "            for corte in linsolve(sis_corte,[x,y]) :\n",
    "#                 display_latex(linsolve(sis_corte,[x,y]))\n",
    "#                 display_latex(corte)\n",
    "                puntos_de_corte.append(corte)\n",
    "\n",
    "\n",
    "#     p.show()\n",
    "    d['plot']=p\n",
    "    d['puntos_de_corte']=puntos_de_corte\n",
    "    return d\n",
    "    \n",
    "# sist_latex = [r'2x + y \\leq 2 ',r' 4x + y \\geq 4',r'y \\leq 2']\n",
    "# d = region_factible(sist_latex) \n",
    "# d\n",
    "\n",
    "\n",
    "problema = [[r'x \\geq 0 ', r'y \\geq 0 ',r' x + 2y \\leq 800',r'3x+2y \\leq 1200',r'7x \\leq 2100'],360*x+120*y,'max']\n",
    "sist_latex, expr_optimizar, tipo = problema\n",
    "\n",
    "def sol_prog_lineal(sist_latex, expr_optimizar, tipo) :\n",
    "    \"\"\"\n",
    "    devuelve el diccionario solución del problema de optimización. OJO, minimiza la opuesta si es de maximizar \n",
    "    \"\"\"\n",
    "    \n",
    "    sist_ine = [parse_latex(i) for i in sist_latex]\n",
    "    sist=[]\n",
    "    for e in sist_ine :\n",
    "        if latex(e).find(r'leq') != -1 or latex(e).find(r'<') != -1:\n",
    "            sist.append(Eq(e.args[0],e.args[1]))\n",
    "        elif latex(e).find(r'geq') != -1 or latex(e).find(r'>') != -1:\n",
    "            sist.append(Eq((-1)*e.args[0],(-1)*e.args[1]))\n",
    "\n",
    "#     display(sist)\n",
    "    A, b = linear_eq_to_matrix(sist,[x,y])\n",
    "    c = Poly(expr_optimizar,[x,y]).coeffs() if tipo == 'min' else Poly((-1)*expr_optimizar,[x,y]).coeffs()\n",
    "#     display(A.tolist(),b,expr_optimizar, c)\n",
    "\n",
    "    sol = optimize.linprog(\n",
    "#         c = Poly(expr_optimizar,[x,y]).coeffs() if tipo == 'min' else Poly((-1)*expr_optimizar,[x,y]).coeffs() ,\n",
    "        c = c, \n",
    "        A_ub=A.tolist(), \n",
    "        b_ub=b,\n",
    "        method='simplex'\n",
    "    )\n",
    "\n",
    "    return(sol)\n",
    "    \n",
    "\n",
    "sol_prog_lineal(sist_latex, expr_optimizar, tipo)\n",
    "region_factible(sist_latex)['plot'].show()"
   ]
  },
  {
   "cell_type": "code",
   "execution_count": 37,
   "id": "2e4f852e",
   "metadata": {},
   "outputs": [
    {
     "name": "stdout",
     "output_type": "stream",
     "text": [
      "{x: 0, y: 0}\n",
      "{y: 0}\n",
      "{x: 800, y: 0}\n",
      "{x: 400, y: 0}\n",
      "{x: 300, y: 0}\n",
      "{x: 0, y: 0}\n",
      "{y: 0}\n",
      "{x: 800, y: 0}\n",
      "{x: 400, y: 0}\n",
      "{x: 300, y: 0}\n"
     ]
    },
    {
     "data": {
      "text/plain": [
       "[None, None, None, None, None]"
      ]
     },
     "execution_count": 37,
     "metadata": {},
     "output_type": "execute_result"
    }
   ],
   "source": [
    "expr=360*y+120*x\n",
    "# expr.coeffs()\n",
    "Poly(expr,[x,y]).coeffs()\n",
    "\n",
    "l=[{𝑥:0, 𝑦:0}, {𝑦:0}, {𝑥:800, 𝑦:0}, {𝑥:400, 𝑦:0}, {𝑥:300, 𝑦:0}]\n",
    "# [l[i][x] for i in range(len(l))]\n",
    "range(len(l))\n",
    "# [l[i][x] for i in range(len(l)-1)]\n",
    "l[0]\n",
    "\n",
    "for d in l:\n",
    "    print(d[x]) if x in d \n",
    "\n",
    "[print(d) for d in l]"
   ]
  },
  {
   "cell_type": "code",
   "execution_count": 56,
   "id": "5cc7322e",
   "metadata": {},
   "outputs": [
    {
     "name": "stdout",
     "output_type": "stream",
     "text": [
      "Sistema:\n"
     ]
    },
    {
     "data": {
      "text/latex": [
       "$\\left\\{ \\begin{matrix}2x + y \\leq 2  \\\\  4x + y \\geq 4 \\\\ y \\leq 0 \\\\ \\end{matrix}\\right.$"
      ]
     },
     "metadata": {},
     "output_type": "display_data"
    },
    {
     "data": {
      "image/png": "[encoded data removed]",
      "text/latex": [
       "$\\displaystyle \\left[ 2 x + y \\leq 2, \\  4 x + y \\geq 4, \\  y \\leq 0\\right]$"
      ],
      "text/plain": [
       "[2⋅x + y ≤ 2, 4⋅x + y ≥ 4, y ≤ 0]"
      ]
     },
     "metadata": {},
     "output_type": "display_data"
    },
    {
     "data": {
      "image/png": "[encoded data removed]",
      "text/plain": [
       "<Figure size 432x288 with 1 Axes>"
      ]
     },
     "metadata": {
      "needs_background": "light"
     },
     "output_type": "display_data"
    }
   ],
   "source": [
    "#p19.e1\n",
    "\n",
    "prob = [[[r'2x + y \\leq 2 ',r' 4x + y \\geq 4',r'y \\leq 0'],x+y,'max']]\n",
    "\n",
    "for p in prob :\n",
    "    sist_latex, funcion, tipo = p\n",
    "    d = region_factible(sist_latex)\n",
    "    d['plot'].extend(plot_implicit(Eq(funcion,0), x_var=x, line_color='green', show=False))\n",
    "    d['plot'].show()\n",
    "    \n",
    "    \n",
    "    \n"
   ]
  },
  {
   "cell_type": "code",
   "execution_count": 4,
   "id": "854e052c",
   "metadata": {},
   "outputs": [
    {
     "data": {
      "text/plain": [
       "'1.5.2'"
      ]
     },
     "execution_count": 4,
     "metadata": {},
     "output_type": "execute_result"
    }
   ],
   "source": [
    "from scipy import optimize\n",
    "import scipy\n",
    "scipy.__version__"
   ]
  },
  {
   "cell_type": "code",
   "execution_count": 17,
   "id": "2b868c16",
   "metadata": {},
   "outputs": [
    {
     "name": "stdout",
     "output_type": "stream",
     "text": [
      "400.0\n"
     ]
    }
   ],
   "source": [
    "# Ejemplo de uso de optimización con scipy\n",
    "\n",
    "from scipy import optimize\n",
    "\n",
    "\"\"\"\n",
    "    minimizar z=-30x-50y es lo mismo que maximizar z=300x+500y y cambiar el signo\n",
    "    s.a:\n",
    "        x+y<=10 <-> -x-y>=-10\n",
    "        x+3y<=20\n",
    "        \n",
    "    Por tanto hay que traducir el problema a minimizar y todas las restricciones a <= \n",
    "    \n",
    "\"\"\"\n",
    "\n",
    "sol = optimize.linprog(\n",
    "    c = [-30, -50], \n",
    "    A_ub=[[1, 1],[1,3]], \n",
    "    b_ub=[10,20],\n",
    "    method='simplex'\n",
    ")\n",
    "\n",
    "pprint(-(sol[\"fun\"]))"
   ]
  }
 ],
 "metadata": {
  "kernelspec": {
   "display_name": "Python 3",
   "language": "python",
   "name": "python3"
  },
  "language_info": {
   "codemirror_mode": {
    "name": "ipython",
    "version": 3
   },
   "file_extension": ".py",
   "mimetype": "text/x-python",
   "name": "python",
   "nbconvert_exporter": "python",
   "pygments_lexer": "ipython3",
   "version": "3.6.13"
  }
 },
 "nbformat": 4,
 "nbformat_minor": 5
}

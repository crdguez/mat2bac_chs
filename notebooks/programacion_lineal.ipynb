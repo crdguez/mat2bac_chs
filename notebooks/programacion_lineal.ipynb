{
 "cells": [
  {
   "cell_type": "code",
   "execution_count": 1,
   "id": "83eea2eb",
   "metadata": {},
   "outputs": [
    {
     "name": "stdout",
     "output_type": "stream",
     "text": [
      "IPython console for SymPy 1.8 (Python 3.6.13-64-bit) (ground types: gmpy)\n",
      "\n",
      "These commands were executed:\n",
      ">>> from __future__ import division\n",
      ">>> from sympy import *\n",
      ">>> x, y, z, t = symbols('x y z t')\n",
      ">>> k, m, n = symbols('k m n', integer=True)\n",
      ">>> f, g, h = symbols('f g h', cls=Function)\n",
      ">>> init_printing()\n",
      "\n",
      "Documentation can be found at https://docs.sympy.org/1.8/\n",
      "\n"
     ]
    }
   ],
   "source": [
    "from sympy import *\n",
    "from IPython.display import display_latex, display\n",
    "from sympy.parsing.latex import parse_latex\n",
    "init_session()\n",
    "%matplotlib inline\n"
   ]
  },
  {
   "cell_type": "code",
   "execution_count": 2,
   "id": "dd4a9395",
   "metadata": {},
   "outputs": [],
   "source": [
    "def sistema_a_latex(sist, ltx=True) :\n",
    "    \"\"\"\n",
    "    Convierte un sistema Sympy a código LaTeX. Por defecto las ecuaciones tienen que estar en latex. Si no ltx=False\n",
    "    \"\"\"\n",
    "    sist_latex = r\"$\\left\\{ \\begin{matrix}\"\n",
    "    for e in sist:\n",
    "        ee = e if ltx else latex(e)\n",
    "        sist_latex += ee +r\" \\\\ \"  \n",
    "    sist_latex += r\"\\end{matrix}\\right.$\"\n",
    "    return(sist_latex)"
   ]
  },
  {
   "cell_type": "code",
   "execution_count": 58,
   "id": "67ec0f2c",
   "metadata": {},
   "outputs": [
    {
     "data": {
      "image/png": "[encoded data removed]",
      "text/latex": [
       "$\\displaystyle \\left[ 2 x + y \\leq 2, \\  4 x + y \\geq 4, \\  y \\leq 0\\right]$"
      ],
      "text/plain": [
       "[2⋅x + y ≤ 2, 4⋅x + y ≥ 4, y ≤ 0]"
      ]
     },
     "metadata": {},
     "output_type": "display_data"
    },
    {
     "data": {
      "text/plain": [
       "'SI'"
      ]
     },
     "metadata": {},
     "output_type": "display_data"
    },
    {
     "data": {
      "text/plain": [
       "'SI'"
      ]
     },
     "metadata": {},
     "output_type": "display_data"
    }
   ],
   "source": [
    "def sistema_a_matrices_prog_lineal(sist) :\n",
    "    sist2 = [e for e in sist]\n",
    "    display(sist2)\n",
    "    return sist2\n",
    "    \n",
    "\n",
    "\n",
    "def region_factible(sist_latex) :\n",
    "    print(\"Sistema:\")\n",
    "    display_latex(sistema_a_latex(sist_latex), raw=True)\n",
    "    sist=[parse_latex(i) for i in sist_latex]\n",
    "    display(sist)\n",
    "    d= dict()\n",
    "    puntos_de_corte=[]\n",
    "\n",
    "\n",
    "\n",
    "    sist_plot=parse_expr(\"And(\"+\",\".join(([str(sist[i]) for i in range(len(sist))]))+\")\")\n",
    "    p = plot_implicit(sist_plot, show =False)\n",
    "\n",
    "    for n, e in enumerate(sist):\n",
    "#         display([n,e])\n",
    "        p.extend(plot_implicit(Eq(e.args[0],e.args[1]), x_var=x,line_color='red',show=False))\n",
    "        for ee in range(n+1,len(sist)) :\n",
    "#             print(\"Ptos de corte\")\n",
    "            sis_corte=[Eq(e.args[0],e.args[1]), Eq(sist[ee].args[0],sist[ee].args[1])]\n",
    "#             display_latex(sistema_a_latex(sis_corte, ltx=False)+r\"$\\to\"+latex(linsolve(sis_corte,[x,y]))+\"$\", raw=True)\n",
    "            for corte in linsolve(sis_corte,[x,y]) :\n",
    "#                 display_latex(linsolve(sis_corte,[x,y]))\n",
    "#                 display_latex(corte)\n",
    "                puntos_de_corte.append(corte)\n",
    "\n",
    "\n",
    "#     p.show()\n",
    "    d['plot']=p\n",
    "    d['puntos_de_corte']=puntos_de_corte\n",
    "    return d\n",
    "    \n",
    "# sist_latex = [r'2x + y \\leq 2 ',r' 4x + y \\geq 4',r'y \\leq 2']\n",
    "# d = region_factible(sist_latex) \n",
    "# d\n",
    "\n",
    "\n",
    "\n",
    "sist_latex = [r'2x + y \\leq 2 ',r' 4x + y \\geq 4',r'y \\leq 0']\n",
    "sist=sistema_a_matrices_prog_lineal([parse_latex(i) for i in sist_latex])\n",
    "expr=sist[0]\n",
    "latex(expr).find(r'')\n",
    "\n",
    "for e in sist :\n",
    "    if latex(e).find(r'leq') != -1 :\n",
    "        display('SI')\n",
    "\n",
    "\n",
    "\n"
   ]
  },
  {
   "cell_type": "code",
   "execution_count": 9,
   "id": "5cc7322e",
   "metadata": {},
   "outputs": [
    {
     "name": "stdout",
     "output_type": "stream",
     "text": [
      "Sistema:\n"
     ]
    },
    {
     "data": {
      "text/latex": [
       "$\\left\\{ \\begin{matrix}2x + y \\leq 2  \\\\  4x + y \\geq 4 \\\\ y \\leq 0 \\\\ \\end{matrix}\\right.$"
      ]
     },
     "metadata": {},
     "output_type": "display_data"
    },
    {
     "data": {
      "image/png": "[encoded data removed]",
      "text/latex": [
       "$\\displaystyle \\left[ 2 x + y \\leq 2, \\  4 x + y \\geq 4, \\  y \\leq 0\\right]$"
      ],
      "text/plain": [
       "[2⋅x + y ≤ 2, 4⋅x + y ≥ 4, y ≤ 0]"
      ]
     },
     "metadata": {},
     "output_type": "display_data"
    },
    {
     "data": {
      "image/png": "[encoded data removed]",
      "text/plain": [
       "<Figure size 432x288 with 1 Axes>"
      ]
     },
     "metadata": {
      "needs_background": "light"
     },
     "output_type": "display_data"
    },
    {
     "data": {
      "image/png": "[encoded data removed]",
      "text/latex": [
       "$\\displaystyle \\left[ \\left( 2 x + y, \\  2\\right), \\  \\left( 4 x + y, \\  4\\right), \\  \\left( y, \\  0\\right)\\right]$"
      ],
      "text/plain": [
       "[(2⋅x + y, 2), (4⋅x + y, 4), (y, 0)]"
      ]
     },
     "metadata": {},
     "output_type": "display_data"
    }
   ],
   "source": [
    "#p19.e1\n",
    "\n",
    "prob = [[[r'2x + y \\leq 2 ',r' 4x + y \\geq 4',r'y \\leq 0'],x+y,'max']]\n",
    "\n",
    "for p in prob :\n",
    "    sist_latex, funcion, tipo = p\n",
    "    d = region_factible(sist_latex)\n",
    "    d['plot'].extend(plot_implicit(Eq(funcion,0), x_var=x, line_color='green', show=False))\n",
    "    d['plot'].show()\n",
    "    \n",
    "    \n",
    "    \n"
   ]
  },
  {
   "cell_type": "code",
   "execution_count": 4,
   "id": "854e052c",
   "metadata": {},
   "outputs": [
    {
     "data": {
      "text/plain": [
       "'1.5.2'"
      ]
     },
     "execution_count": 4,
     "metadata": {},
     "output_type": "execute_result"
    }
   ],
   "source": [
    "from scipy import optimize\n",
    "import scipy\n",
    "scipy.__version__"
   ]
  },
  {
   "cell_type": "code",
   "execution_count": 8,
   "id": "2b868c16",
   "metadata": {},
   "outputs": [
    {
     "name": "stdout",
     "output_type": "stream",
     "text": [
      "400.0\n"
     ]
    }
   ],
   "source": [
    "# Ejemplo de uso de optimización con scipy\n",
    "\n",
    "from scipy import optimize\n",
    "\n",
    "\"\"\"\n",
    "    minimizar z=-30x-50y es lo mismo que maximizar z=300x+500y y cambiar el signo\n",
    "    s.a:\n",
    "        x+y<=10 <-> -x-y>=-10\n",
    "        x+3y<=20\n",
    "        \n",
    "    Por tanto hay que traducir el problema a minimizar y todas las restricciones a <= \n",
    "    \n",
    "\"\"\"\n",
    "\n",
    "sol = optimize.linprog(\n",
    "    c = [-30, -50], \n",
    "    A_ub=[[1, 1],[1,3]], \n",
    "    b_ub=[10,20],\n",
    "    method='simplex'\n",
    ")\n",
    "\n",
    "pprint(-(sol[\"fun\"]))"
   ]
  }
 ],
 "metadata": {
  "kernelspec": {
   "display_name": "Python 3",
   "language": "python",
   "name": "python3"
  },
  "language_info": {
   "codemirror_mode": {
    "name": "ipython",
    "version": 3
   },
   "file_extension": ".py",
   "mimetype": "text/x-python",
   "name": "python",
   "nbconvert_exporter": "python",
   "pygments_lexer": "ipython3",
   "version": "3.6.13"
  }
 },
 "nbformat": 4,
 "nbformat_minor": 5
}

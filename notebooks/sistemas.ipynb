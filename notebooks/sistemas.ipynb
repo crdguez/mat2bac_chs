{
 "cells": [
  {
   "cell_type": "code",
   "execution_count": 1,
   "metadata": {
    "id": "-cVvkLt0Yl6m"
   },
   "outputs": [],
   "source": [
    "#!pip install sympy"
   ]
  },
  {
   "cell_type": "code",
   "execution_count": 1,
   "metadata": {
    "colab": {
     "base_uri": "https://localhost:8080/",
     "height": 130
    },
    "id": "fkQeaZkrY0PY",
    "outputId": "371489c7-ab73-4ba5-876f-8d9a8a6631c3"
   },
   "outputs": [],
   "source": [
    "from sympy import *\n",
    "# init_session()\n",
    "from __future__ import division\n",
    "x, y, z, t = symbols('x y z t')\n",
    "k, m, n = symbols('k m n', integer=True)\n",
    "f, g, h = symbols('f g h', cls=Function)\n",
    "init_printing(use_latex=False)\n",
    "\n",
    "from IPython.display import Markdown as md\n",
    "from IPython.display import display\n"
   ]
  },
  {
   "cell_type": "code",
   "execution_count": 2,
   "metadata": {
    "colab": {
     "base_uri": "https://localhost:8080/"
    },
    "id": "S_IyPG6chmb8",
    "outputId": "7f54cc69-031e-4c92-d8ba-c69ef3e26def"
   },
   "outputs": [
    {
     "name": "stdout",
     "output_type": "stream",
     "text": [
      "IPython console for SymPy 1.10.1 (Python 3.9.13-64-bit) (ground types: gmpy)\n",
      "\n",
      "These commands were executed:\n",
      ">>> from sympy import *\n",
      ">>> x, y, z, t = symbols('x y z t')\n",
      ">>> k, m, n = symbols('k m n', integer=True)\n",
      ">>> f, g, h = symbols('f g h', cls=Function)\n",
      ">>> init_printing()\n",
      "\n",
      "Documentation can be found at https://docs.sympy.org/1.10.1/\n",
      "\n"
     ]
    }
   ],
   "source": [
    "from sympy import *\n",
    "from IPython.display import display_latex, display\n",
    "init_session()\n",
    "\n",
    "\n",
    "def sistema_a_latex(sist) :\n",
    "    \"\"\"\n",
    "    Convierte un sistema Sympy a código LaTeX\n",
    "    \"\"\"\n",
    "    sist_latex = r\"$\\left\\{ \\begin{matrix}\"\n",
    "    for e in sist:\n",
    "        sist_latex += latex(e)+r\" \\\\ \"  \n",
    "    sist_latex += r\"\\end{matrix}\\right.$\"\n",
    "    return(sist_latex)\n",
    "\n",
    "\n",
    "def enunciado_dicusion(sist, k=k,lista=[]) :\n",
    "    \"\"\"\n",
    "    Típico enunciado de discusión y resolución de un sistema con un parámetro\n",
    "    \"\"\"\n",
    "    sistema_problema = sist\n",
    "    texto_problema = r\"\"\"Considere el siguiente sistema de ecuaciones, dónde {}  es un parámetro real: $\"\"\".format(k)\n",
    "    texto_problema += sistema_a_latex(sistema_problema)\n",
    "    texto_problema += \"\"\"$ Determine los valores del parámetro real {}, para los que este sistema es compatible determinado,  compatible indeterminado o incompatible.\"\"\".format(k)\n",
    "    \n",
    "    if lista :\n",
    "        texto_problema +=r\" \\\\ Resuelva el sistema cuando\"\n",
    "        texto_problema +=r\"\\begin{itemize}\"\n",
    "        for i in lista :\n",
    "            texto_problema += r\"\\item {}={}\".format(k,i)        \n",
    "        texto_problema +=r\"\\end{itemize}\"\n",
    "    return(texto_problema)\n",
    "\n",
    "\n",
    "def discusion_solucion(sist, k=k, resol=True) :\n",
    "    \"\"\"\n",
    "    Discute y resuelve un sistema con un parámetro o sin él\n",
    "    \"\"\"\n",
    "    d=dict()\n",
    "    solucion_md=[]\n",
    "    A, b = linear_eq_to_matrix(sist,[x,y,z])\n",
    "    AA = A.row_join(b)\n",
    "    AAs = AA.LUdecomposition()[1].applyfunc(nsimplify)\n",
    "    \n",
    "    if A.rank() < AA.rank():\n",
    "        solucion_latex = r\"Como $rg(A)={} < rg(A^*)={} \\to$ S.I. \\\\ \".format(A.rank(),AA.rank())\n",
    "        solucion_latex += r\"Ya que escalonando la matriz ampliada: \\\\ $A^*= {} \\thicksim {}$ \\\\\".format(latex(AA),latex(AAs)).replace('[','(').replace(']',')')\n",
    "        solucion_latex += r\"${}={} \\quad y \\quad {}={}$\".format(latex(AAs[:,:-1]),latex(A.det()),latex(AAs[:,1:]),latex(AAs[:,1:].det())).replace('[','|').replace(']','|')\n",
    "        solucion_md.append(r\"Como $rg(A)={} < rg(A^*)={} \\to$ S.I. \\\\ \".format(A.rank(),AA.rank()))\n",
    "        solucion_md.append(r\"Ya que escalonando la matriz ampliada: \\\\ $A^*= {} \\thicksim {}$ \\\\\".format(latex(AA),latex(AAs)).replace('[','(').replace(']',')'))\n",
    "        solucion_md.append(r\"${}={} \\quad y \\quad {}={}$\".format(latex(AAs[:,:-1]),latex(A.det()),latex(AAs[:,1:]),latex(AAs[:,1:].det())).replace('[','|').replace(']','|'))\n",
    "\n",
    "        \n",
    "    else :  \n",
    "        pprint(\"Discusión y resolución por Gauss:\")\n",
    "        solucion_md.append(\"**Discusión y resolución por Gauss** \")\n",
    "        solucion_md.append(\"Escalonando la matriz ampliada tenemos:\")\n",
    "        solucion_md.append(r\"$A = {} \\thicksim {}= A^*$.\".format(latex(AA),latex(AAs)).replace('[','(').replace(']',')'))\n",
    "        solucion_md.append(\"De los valores de la última fila podemos concluir:\")\n",
    " \n",
    "        solucion_latex = r\"\\textbf{Discusión y resolución por Gauss:} Escalonando la matriz ampliada tenemos\\\\\"\n",
    "        solucion_latex += r\"$A^*= {} \\thicksim {}$. \\\\  De los valores de la última fila podemos concluir:\".format(latex(AA),latex(AAs)).replace('[','(').replace(']',')')\n",
    "        solucion_latex += r\"\\begin{itemize}\"\n",
    "        pprint(AAs)\n",
    "                \n",
    "        pprint(\"det(A)={}\".format(A.det()))\n",
    "        pprint(AAs.row(-1)[-2:])\n",
    "\n",
    "        for i in (solve(AAs.row(-1)[-2])) :\n",
    "            pprint(i)\n",
    "            if AAs.row(-1)[-1].subs(k,i) == 0 :\n",
    "                pprint(\"Si {} = {} -->  0z=0 --> S.C.I\".format(k,i))\n",
    "                solucion_md.append(r\"* Si ${} = {} \\to$ $${}$$ La última fila es $0z=0 \\to $ S.C.I\".format(k,i,latex(AAs.subs(k,i))).replace('[','(').replace(']',')'))\n",
    "                solucion_latex += r\"\\item Si ${} = {} \\to$ $${}$$ La última fila es $0z=0 \\to $ S.C.I\".format(k,i,latex(AAs.subs(k,i))).replace('[','(').replace(']',')')\n",
    "                pprint([eq.subs(k,i) for eq in sist])\n",
    "                sol = list(zip([x,y,z],linsolve([eq.subs(k,i) for eq in sist],[x,y,z]).args[0],[r.subs(k,i) for r in [AAs.row(j) for j in range(AA.shape[0])]]))\n",
    "                pprint(sol)\n",
    "                for s in reversed(sol) :\n",
    "                        pprint(\"{} --> {} = {}\".format(s[2],s[0],s[1].subs(z,\"\\lambda\")))\n",
    "                        if resol :\n",
    "                            solucion_latex += r\"\\begin{itemize}\"\n",
    "                            solucion_md.append(r\"    - ${} \\to {} = {}$\".format(latex(s[2]),latex(s[0]),latex(s[1]).replace('z',\"\\lambda\")).replace('[','(').replace(']',')'))\n",
    "                            solucion_latex += r\"\\item ${} \\to {} = {}$\".format(latex(s[2]),latex(s[0]),latex(s[1]).replace('z',\"\\lambda\")).replace('[','(').replace(']',')')\n",
    "                            solucion_latex += r\"\\end{itemize}\"\n",
    "            else :\n",
    "                pprint(\"Si {} = {} --> 0z={} -->S.I\".format(k,i, AAs.row(-1)[-1].subs(k,i)))\n",
    "                solucion_latex += r\"\\item Si ${} = {} \\to$ $${}$$ La última fila es $0z={} \\to $ S.I.\".format(k,i,latex(AAs.subs(k,i)),AA.LUdecomposition()[1].applyfunc(simplify).row(-1)[-1].subs(k,i)).replace('[','(').replace(']',')')\n",
    "                solucion_md.append(r\"* Si ${} = {} \\to$ $${}$$ La última fila es $0z={} \\to $ S.I.\".format(k,i,latex(AAs.subs(k,i)),AA.LUdecomposition()[1].applyfunc(simplify).row(-1)[-1].subs(k,i)).replace('[','(').replace(']',')'))\n",
    "\n",
    "        if solve(AAs.row(-1)[-2]) :\n",
    "            pprint(\"si {} <> {}  --> S.C.D.\".format(k, solve(AAs.row(-1)[-2])))\n",
    "            solucion_latex += r\"\\item si ${}\\neq {}  \\to $ S.C.D.\".format(k,solve(AAs.row(-1)[-2]))\n",
    "            solucion_md.append(r\"* Si ${}\\neq {} $ S.C.D.\".format(k,solve(AAs.row(-1)[-2])))\n",
    "\n",
    "        else :\n",
    "            pprint(\"S.C.D.\".format(k, solve(AAs.row(-1)[-2])))\n",
    "            solucion_latex += r\"\\item S.C.D.\".format(k,solve(AAs.row(-1)[-2]))\n",
    "            solucion_md.append(r\"S.C.D.\")\n",
    "            \n",
    "\n",
    "\n",
    "        pprint(list(linsolve(sist,[x,y,z]).args[0].args))\n",
    "        sol = list(zip([x,y,z],linsolve(sist,[x,y,z]).args[0],[AAs.row(j) for j in range(AA.shape[0])]))\n",
    "        pprint(sol)\n",
    "        if resol :\n",
    "            for s in reversed(sol) :\n",
    "                pprint(\"{} --> {} = {}\".format(s[2],s[0],s[1]))\n",
    "                solucion_latex += r\"\\begin{itemize}\"\n",
    "                solucion_latex += r\"\\item ${} \\to {} = {}$\".format(latex(s[2]),s[0],latex(s[1])).replace('[','(').replace(']',')')\n",
    "                solucion_md.append(\" * ${} \\\\to {} = {}$\".format(latex(s[2]),s[0],latex(s[1])).replace('[','(').replace(']',')'))\n",
    "                solucion_latex += r\"\\end{itemize}\"\n",
    "\n",
    "        solucion_latex += r\"\\end{itemize}  \"\n",
    "        \n",
    "        # Por rangos y determinantes\n",
    "\n",
    "        pprint(\"Por rangos y determinantes:\")\n",
    "        solucion_latex += r\"\\textbf{Por rangos y determinantes:} \\\\\"\n",
    "        solucion_md.append(r\"**Por rangos y determinantes**\")\n",
    "\n",
    "\n",
    "        #Rango de A:\n",
    "\n",
    "\n",
    "        solucion_latex += r\"$\\left|A\\right|={}={} \".format(latex(A).replace(\"[\",\"|\").replace(\"]\",\"|\"),latex(A.det()))\n",
    "        txt_md= r\"$\\left|A\\right|={}={} \".format(latex(A).replace(\"[\",\"|\").replace(\"]\",\"|\"),latex(A.det()))\n",
    "        \n",
    "        if solve(A.det()) :\n",
    "            solucion_latex += r\"\\to \\left|A\\right|=0 \\quad si \\quad {} = {}$\".format(k,latex(solve(A.det())))\n",
    "            txt_md += r\"\\to \\left|A\\right|=0 \\quad si \\quad {} = {}$\".format(k,latex(solve(A.det())))\n",
    "            solucion_latex += r\"\\begin{itemize}\"\n",
    "            for i in solve(A.det()):\n",
    "                A2 = A.subs(k,i)\n",
    "                AA2 = AA.subs(k,i)\n",
    "                pprint(A2)\n",
    "                pprint(A2.rank())\n",
    "                pprint(AA2.rank())\n",
    "                if A2.rank() < AA2.rank() :\n",
    "                    pprint(\"Si {} = {} --> S.I.\".format(k,i))\n",
    "                    solucion_latex += r\"\\item Si ${}={} \\to rg(A)={} \\land rg(A^*)={} \\to $ S.I.\".format(k,i,A2.rank(),AA2.rank())\n",
    "                    txt_md += r\"* Si ${}={} \\to rg(A)={} \\land rg(A^*)={} \\to $ S.I.\".format(k,i,A2.rank(),AA2.rank())\n",
    "                else :\n",
    "                    pprint(\"Si {} = {} --> S.C.I --> solo se puede resolver por Gauss, ver más arriba\".format(k,i))\n",
    "                    solucion_latex += r\"\\item Si ${}={} \\to rg(A)={} \\land rg(A^*)={} \\to $ S.C.I. $\\to$ solo se puede resolver por Gauss, (ver más arriba)\".format(k,i,A2.rank(),AA2.rank())\n",
    "                    txt_md += r\" * Si ${}={} \\to rg(A)={} \\land rg(A^*)={} \\to $ S.C.I. $\\to$ solo se puede resolver por Gauss, (ver más arriba)\".format(k,i,A2.rank(),AA2.rank())\n",
    "            pprint(\"Si {} <> {} --> Rango(A)=Rango(A)={} --> S.C.D.\".format(k,solve(A.det()),A.rank()))\n",
    "            solucion_latex += r\"\\item Si ${} \\neq{} \\to rg(A)={} \\land rg(A^*)={} \\to $ S.C.D.  \\\\ \".format(k, solve(A.det()),A.rank(),AA.rank())\n",
    "            txt_md += r\"  \\n * Si ${} \\neq{} \\to rg(A)={} \\land rg(A^*)={} \\to $ S.C.D.  \\\\ \".format(k, solve(A.det()),A.rank(),AA.rank())\n",
    "            solucion_md.append(txt_md)\n",
    "\n",
    "            if resol :\n",
    "                pprint(\"Por Cramer:\")\n",
    "                sol=[]\n",
    "                solucion_latex += r\" \\\\ Por Cramer: \\begin{itemize}\"\n",
    "                for i, var in enumerate([x,y,z]):\n",
    "                    #print(\"columna\"+latex(i))\n",
    "                    AA.col_swap(i,3)\n",
    "                    pprint(\"Delta_i, A.det, solucion_latex_i : \")\n",
    "                    sol.append([var,AA[:,:-1],simplify(AA[:,:-1].det()),simplify(A.det()),simplify(AA[:,:-1].det()/A.det())])\n",
    "                    pprint(sol[i])\n",
    "                    #print(r\"$x_\"+latex(i)+r\"=\\frac{\"+latex(AA[:,:-1])+r\"}{\"+latex(A.det())+r\"}=\\frac{\"+latex(AA[:,:-1].det())+r\"}{\"+latex(A.det())+r\"}=\"+latex(AA[:,:-1].det()/A.det())+\"$\")\n",
    "                    solucion_latex += r\"\\item $\"+latex(sol[i][0])+r\"=\\frac{\"+latex(sol[i][1]).replace('[','|').replace(']','|')+r\"}{\"+latex(sol[i][3])+r\"}=\\frac{\"+latex(sol[i][2])+r\"}{\"+latex(sol[i][3])+r\"}=\"+latex(sol[i][4])+r\"$\"\n",
    "                    AA.col_swap(i,3)\n",
    "                solucion_latex += r\"\\end{itemize}\"\n",
    "\n",
    "        else:\n",
    "            solucion_latex += r\" \\neq 0 $\"\n",
    "            txt_md += r\" \\neq 0 $\"\n",
    "            solucion_latex += r\"\\begin{itemize}\"\n",
    "            solucion_latex += r\" \\item $rg(A)={} \\land rg(A^*)={} \\to $ S.C.D.   \\\\\".format(A.rank(),AA.rank())\n",
    "            txt_md += \"  \\n * $rg(A)={} \\land rg(A^*)={} \\\\to $ S.C.D.\".format(A.rank(),AA.rank())\n",
    "            if resol :\n",
    "                pprint(\"Por Cramer:\")\n",
    "                sol=[]\n",
    "                solucion_latex += r\" \\\\ Por Cramer: \\begin{itemize}\"\n",
    "                txt_md += \"\\n\"+r\"**Por Cramer**\"\n",
    "                for i, var in enumerate([x,y,z]):\n",
    "                    #print(\"columna\"+latex(i))\n",
    "                    AA.col_swap(i,3)\n",
    "                    pprint(\"Delta_i, A.det, solucion_latex_i : \")\n",
    "                    sol.append([var,AA[:,:-1],simplify(AA[:,:-1].det()),simplify(A.det()),simplify(AA[:,:-1].det()/A.det())])\n",
    "                    pprint(sol[i])\n",
    "                    #print(r\"$x_\"+latex(i)+r\"=\\frac{\"+latex(AA[:,:-1])+r\"}{\"+latex(A.det())+r\"}=\\frac{\"+latex(AA[:,:-1].det())+r\"}{\"+latex(A.det())+r\"}=\"+latex(AA[:,:-1].det()/A.det())+\"$\")\n",
    "                    solucion_latex += r\"\\item $\"+latex(sol[i][0])+r\"=\\frac{\"+latex(sol[i][1]).replace('[','|').replace(']','|')+r\"}{\"+latex(sol[i][3])+r\"}=\\frac{\"+latex(sol[i][2])+r\"}{\"+latex(sol[i][3])+r\"}=\"+latex(sol[i][4])+r\"$\"\n",
    "                    txt_md += \"   \\n * \"+\"$\"+latex(sol[i][0])+r\"=\\frac{\"+latex(sol[i][1]).replace('[','|').replace(']','|')+r\"}{\"+latex(sol[i][3])+r\"}=\\frac{\"+latex(sol[i][2])+r\"}{\"+latex(sol[i][3])+r\"}=\"+latex(sol[i][4])+r\"$\"\n",
    "\n",
    "                    AA.col_swap(i,3)\n",
    "                solucion_latex += r\"\\end{itemize}\"\n",
    "        solucion_latex += r\"\\end{itemize}\"\n",
    "        solucion_md.append(txt_md)\n",
    "    d['solucion_latex']=solucion_latex\n",
    "    d['solucion_markdown']=solucion_md\n",
    "    return(d) \n",
    "\n",
    "\n",
    "\n",
    " "
   ]
  },
  {
   "cell_type": "code",
   "execution_count": 3,
   "metadata": {},
   "outputs": [],
   "source": [
    "\"\"\"\n",
    "nueva versión para resolver sistemas v2223\n",
    "\"\"\"\n",
    "\n",
    "def lista_incognitas(sist, param=k) :\n",
    "    '''\n",
    "    extrae del sistema el listado de variables (letras) y no tiene en cuenta el parámetro si se le pasa\n",
    "    '''\n",
    "    l=[]\n",
    "    for expr in sist:\n",
    "        for s in expr.free_symbols:\n",
    "            l.append(s)\n",
    "    l=list(set(l))\n",
    "    if param in l :\n",
    "        l.remove(param)\n",
    "    \n",
    "    # ordenamos la lista\n",
    "    l=list(map(str,l))\n",
    "    l.sort(reverse=False)\n",
    "    l=list(map(S,l))\n",
    "    return(l)\n",
    "\n",
    "def sistema_solucion(sist, l_incognitas) :\n",
    "    \"\"\"\n",
    "    pasamos el sistema y el listado de incógnitas y se discute y resuelve\n",
    "    \"\"\"\n",
    "\n",
    "    gauss, minversa, cramer = [False, False, False]\n",
    "    l_tex=[]\n",
    "\n",
    "    A, b = linear_eq_to_matrix(sist,l_incognitas)\n",
    "    AA = A.row_join(b)\n",
    "    AAs = AA.LUdecomposition()[1].applyfunc(nsimplify).applyfunc(simplify)\n",
    "\n",
    "    \n",
    "    # Discusión\n",
    "    if A.rank() == AA.rank() :\n",
    "        display_latex(r\"Como $rg(A)=rg(A^*)={}$ --> S.C. (El sistema tiene solución)\".format(A.rank()),raw=True)\n",
    "        if A.rank() == len(l_incognitas) :\n",
    "            display_latex(r\"Como además $rg(A)={}$ coincide con el número de incógnitas --> S.C.D -- > Se puede resolver por Gauss, Matriz inversa o Cramer\".format(A.rank()),raw=True)\n",
    "            gauss = True\n",
    "            minversa = True\n",
    "            cramer = True\n",
    "        else:\n",
    "            display_latex(r\"Como además $rg(A)={}$ no coincide con el número de incógnitas--> S.C.I --> Solo se puede resolver por Gauss\".format(A.rank()),raw=True)\n",
    "            gauss = True\n",
    "    else :\n",
    "        tex = r\"Como $rg(A)={} \\land rg(A^*)={}$ --> S.I. \".format(A.rank(),AA.rank())\n",
    "        tex += \". Observa que escalonando la matriz ampliada obtenemos \"\n",
    "        tex += \"$A^*=\"+latex(AA).replace(\"[\",\"(\").replace(\"]\",\")\")+r\"\\sim\"+latex(AAs).replace(\"[\",\"(\").replace(\"]\",\")\")+r\"$\"\n",
    "        display_latex(tex,raw=True)\n",
    "\n",
    "    if gauss == True :\n",
    "        print(\"**Resolución por Gauss**\")\n",
    "        print(\"- - - - - - - - - - - -\")\n",
    "        sol=linsolve(sist,l_incognitas).args[0].subs(z,t)\n",
    "#         tex = \"Escalonando la matriz ampliada obtenemos \"\n",
    "        tex = \"$A^*=\"+latex(AA).replace(\"[\",\"(\").replace(\"]\",\")\")+r\"\\sim\"+latex(AAs).replace(\"[\",\"(\").replace(\"]\",\")\")\n",
    "        tex += r\"\\to \"+\", \".join([latex(s[0])+\"=\"+latex(s[1]) for s in list(zip(l_incognitas,sol))]).replace('t',r'\\lambda')\n",
    "        tex +=\"$\"\n",
    "        display_latex(tex,raw=True)\n",
    "     \n",
    "    if minversa == True :\n",
    "        print(\"**Método de la matríz inversa**\")\n",
    "        print(\"- - - - - - - - - - - - - - - \")\n",
    "        tex =r\"$A^{-1}=\"+latex(A.inv()).replace(\"[\",\"(\").replace(\"]\",\")\")+r\" \\to \"\n",
    "        tex += r\" X=A^{-1}\\cdot b\"\n",
    "        tex += r\" =\"+latex(A.inv()).replace(\"[\",\"(\").replace(\"]\",\")\")+r\"\\cdot \"+latex(b).replace(\"[\",\"(\").replace(\"]\",\")\")\n",
    "        tex += r\" =\"+latex((A.inv()*b).applyfunc(simplify)).replace(\"[\",\"(\").replace(\"]\",\")\")+r\"$\"      \n",
    "        display_latex(tex,raw=True)\n",
    "    if cramer == True :\n",
    "        sol=[]\n",
    "        print(\"**Por Cramer**\")\n",
    "        print(\"- - - - - - - -\")\n",
    "        for i, var in enumerate(l_incognitas):\n",
    "            AA.col_swap(i,3)\n",
    "            sol.append([var,AA[:,:-1],nsimplify(AA[:,:-1].det()),simplify(A.det()),simplify(AA[:,:-1].det())/A.det()])\n",
    "            tex = r\"$\"+latex(sol[i][0])+r\"=\\frac{\"+latex(sol[i][1]).replace('[','|').replace(']','|')+r\"}{\"+latex(sol[i][3])+r\"}=\\frac{\"+latex(sol[i][2])+r\"}{\"+latex(sol[i][3])+r\"}=\"+latex(sol[i][4])+r\"$\"\n",
    "            display_latex(tex,raw=True)\n",
    "            AA.col_swap(i,3)\n",
    "       \n",
    "\n",
    "        \n",
    "        \n",
    "        \n",
    "        \n",
    "        \n",
    "    \n",
    "def sistema_parametro(sist, param=k) :\n",
    "    \"\"\"\n",
    "    Discute los diferentes sistemas que aparecen según el parámetro \n",
    "    \"\"\"\n",
    "    d=dict()\n",
    "    solucion_md, solucion_latex = [], []\n",
    "    \n",
    "  \n",
    "    \n",
    "    l_incognitas = lista_incognitas(sist, param)   \n",
    "#     print(l_incognitas)\n",
    "#     print(param)\n",
    "    n_incognitas = len(l_incognitas)\n",
    "    \n",
    "    \n",
    "    \n",
    "    A, b = linear_eq_to_matrix(sist,l_incognitas)\n",
    "    AA = A.row_join(b)\n",
    "    AAs = AA.LUdecomposition()[1].applyfunc(nsimplify).applyfunc(simplify)\n",
    "    \n",
    "    \n",
    "    print(\"Discusión y resolución del sistema:\")\n",
    "    display_latex(sistema_a_latex(sist),raw=True)\n",
    "    print(\"-----------------------------------------------------------\")\n",
    "\n",
    "    # Valores donde existe la inversa:\n",
    "    tex = \"$|A|=\"+latex(A).replace(\"[\",\"|\").replace(\"]\",\"|\")+\"=\"+latex(factor(A.det()))+\"$\"\n",
    "    display_latex(tex,raw=True)\n",
    "    tex = r\"* Si $\"+latex(param)+r\" \\neq \"+\", \".join(list(map(str,solve(A.det()))))+r\"\\to |A| \\neq 0 \\to \\exists A^{-1}$.\"\n",
    "    display_latex(tex,raw=True)  \n",
    "    sistema_solucion(sist,l_incognitas)\n",
    "        \n",
    "    # Donde no hay inversa    \n",
    "    for i in solve(A.det()):\n",
    "        display_latex(r\"* Si $\"+str(param)+r\"=\"+str(i)+r\"\\to |A| = 0 \\to \\nexists A^{-1}$\",raw=True)\n",
    "        sistema_solucion(S(str(sist).replace(str(param),str(i))),l_incognitas)\n",
    "        \n",
    "  \n",
    "    \n",
    "    d['solucion_latex']=solucion_latex\n",
    "    d['solucion_markdown']=solucion_md\n",
    "    \n",
    "    return(d)\n",
    "\n",
    "\n"
   ]
  },
  {
   "cell_type": "code",
   "execution_count": 5,
   "metadata": {
    "colab": {
     "base_uri": "https://localhost:8080/"
    },
    "id": "tTZ57LHhAmxY",
    "outputId": "0485871d-6488-43be-dad7-f61cb89b722f"
   },
   "outputs": [
    {
     "name": "stdout",
     "output_type": "stream",
     "text": [
      "[x - 2⋅y + 3⋅z = -3, 2⋅x + y = 2, -x - 8⋅y + 9⋅z = 3]\n"
     ]
    },
    {
     "data": {
      "text/latex": [
       "$$\\left\\{ \\begin{matrix}x - 2 y + 3 z = -3 \\\\ 2 x + y = 2 \\\\ - x - 8 y + 9 z = 3 \\\\ \\end{matrix}\\right.$$"
      ]
     },
     "metadata": {},
     "output_type": "display_data"
    },
    {
     "data": {
      "text/plain": [
       "'$$\\\\left\\\\{ \\\\begin{matrix}x - 2 y + 3 z = -3 \\\\\\\\ 2 x + y = 2 \\\\\\\\ - x - 8 y + 9 z = 3 \\\\\\\\ \\\\end{matrix}\\\\right.$$'"
      ]
     },
     "metadata": {},
     "output_type": "display_data"
    },
    {
     "name": "stdout",
     "output_type": "stream",
     "text": [
      "⎡⎡1   -2  3⎤     ⎡1   -2  3  -3⎤     ⎡1  -2  3   -3⎤        ⎤\n",
      "⎢⎢         ⎥     ⎢             ⎥     ⎢             ⎥        ⎥\n",
      "⎢⎢2   1   0⎥, 2, ⎢2   1   0  2 ⎥, 3, ⎢0  5   -6  8 ⎥, (3, 3)⎥\n",
      "⎢⎢         ⎥     ⎢             ⎥     ⎢             ⎥        ⎥\n",
      "⎣⎣-1  -8  9⎦     ⎣-1  -8  9  3 ⎦     ⎣0  0   0   16⎦        ⎦\n",
      "∅\n",
      "[]\n",
      "[x - 2⋅y + z = 0, x + y - 2⋅z = -3, -2⋅x + 5⋅y - z = 5, 3⋅x - 2⋅y + z = 2]\n"
     ]
    },
    {
     "data": {
      "text/latex": [
       "$$\\left\\{ \\begin{matrix}x - 2 y + z = 0 \\\\ x + y - 2 z = -3 \\\\ - 2 x + 5 y - z = 5 \\\\ 3 x - 2 y + z = 2 \\\\ \\end{matrix}\\right.$$"
      ]
     },
     "metadata": {},
     "output_type": "display_data"
    },
    {
     "data": {
      "text/plain": [
       "'$$\\\\left\\\\{ \\\\begin{matrix}x - 2 y + z = 0 \\\\\\\\ x + y - 2 z = -3 \\\\\\\\ - 2 x + 5 y - z = 5 \\\\\\\\ 3 x - 2 y + z = 2 \\\\\\\\ \\\\end{matrix}\\\\right.$$'"
      ]
     },
     "metadata": {},
     "output_type": "display_data"
    },
    {
     "name": "stdout",
     "output_type": "stream",
     "text": [
      "⎡⎡1   -2  1 ⎤     ⎡1   -2  1   0 ⎤     ⎡1  -2  1   0 ⎤        ⎤\n",
      "⎢⎢          ⎥     ⎢              ⎥     ⎢             ⎥        ⎥\n",
      "⎢⎢1   1   -2⎥     ⎢1   1   -2  -3⎥     ⎢0  3   -3  -3⎥        ⎥\n",
      "⎢⎢          ⎥, 3, ⎢              ⎥, 3, ⎢             ⎥, (4, 3)⎥\n",
      "⎢⎢-2  5   -1⎥     ⎢-2  5   -1  5 ⎥     ⎢0  0   2   6 ⎥        ⎥\n",
      "⎢⎢          ⎥     ⎢              ⎥     ⎢             ⎥        ⎥\n",
      "⎣⎣3   -2  1 ⎦     ⎣3   -2  1   2 ⎦     ⎣0  0   0   0 ⎦        ⎦\n",
      "{(1, 2, 3)}\n",
      "{x: 1, y: 2, z: 3}\n",
      "[3⋅t + x - y + 2⋅z = 1, t + 2⋅x + 3⋅y - z = -3, t + x + y + z = 0]\n"
     ]
    },
    {
     "data": {
      "text/latex": [
       "$$\\left\\{ \\begin{matrix}3 t + x - y + 2 z = 1 \\\\ t + 2 x + 3 y - z = -3 \\\\ t + x + y + z = 0 \\\\ \\end{matrix}\\right.$$"
      ]
     },
     "metadata": {},
     "output_type": "display_data"
    },
    {
     "data": {
      "text/plain": [
       "'$$\\\\left\\\\{ \\\\begin{matrix}3 t + x - y + 2 z = 1 \\\\\\\\ t + 2 x + 3 y - z = -3 \\\\\\\\ t + x + y + z = 0 \\\\\\\\ \\\\end{matrix}\\\\right.$$'"
      ]
     },
     "metadata": {},
     "output_type": "display_data"
    },
    {
     "name": "stdout",
     "output_type": "stream",
     "text": [
      "⎡⎡1  -1  2 ⎤     ⎡1  -1  2   1 - 3⋅t⎤     ⎡1  -1  2   1 - 3⋅t⎤        ⎤\n",
      "⎢⎢         ⎥     ⎢                  ⎥     ⎢                  ⎥        ⎥\n",
      "⎢⎢2  3   -1⎥, 3, ⎢2  3   -1  -t - 3 ⎥, 3, ⎢0  5   -5  5⋅t - 5⎥, (3, 3)⎥\n",
      "⎢⎢         ⎥     ⎢                  ⎥     ⎢                  ⎥        ⎥\n",
      "⎣⎣1  1   1 ⎦     ⎣1  1   1     -t   ⎦     ⎣0  0   1      1   ⎦        ⎦\n",
      "{(-2⋅t - 1, t, 1)}\n",
      "{t: y, x: -2⋅y - 1, z: 1}\n",
      "[x - y + 2⋅z = 1 - 3⋅t, 2⋅x + 3⋅y - z = -t - 3, x + y + z = -t]\n"
     ]
    },
    {
     "data": {
      "text/latex": [
       "$$\\left\\{ \\begin{matrix}x - y + 2 z = 1 - 3 t \\\\ 2 x + 3 y - z = - t - 3 \\\\ x + y + z = - t \\\\ \\end{matrix}\\right.$$"
      ]
     },
     "metadata": {},
     "output_type": "display_data"
    },
    {
     "data": {
      "text/plain": [
       "'$$\\\\left\\\\{ \\\\begin{matrix}x - y + 2 z = 1 - 3 t \\\\\\\\ 2 x + 3 y - z = - t - 3 \\\\\\\\ x + y + z = - t \\\\\\\\ \\\\end{matrix}\\\\right.$$'"
      ]
     },
     "metadata": {},
     "output_type": "display_data"
    },
    {
     "name": "stdout",
     "output_type": "stream",
     "text": [
      "⎡⎡1  -1  2 ⎤     ⎡1  -1  2   1 - 3⋅t⎤     ⎡1  -1  2   1 - 3⋅t⎤        ⎤\n",
      "⎢⎢         ⎥     ⎢                  ⎥     ⎢                  ⎥        ⎥\n",
      "⎢⎢2  3   -1⎥, 3, ⎢2  3   -1  -t - 3 ⎥, 3, ⎢0  5   -5  5⋅t - 5⎥, (3, 3)⎥\n",
      "⎢⎢         ⎥     ⎢                  ⎥     ⎢                  ⎥        ⎥\n",
      "⎣⎣1  1   1 ⎦     ⎣1  1   1     -t   ⎦     ⎣0  0   1      1   ⎦        ⎦\n",
      "{(-2⋅t - 1, t, 1)}\n",
      "{t: y, x: -2⋅y - 1, z: 1}\n"
     ]
    }
   ],
   "source": [
    "# p14.e1\n",
    "\n",
    "sistemas = [\n",
    "            [Eq(x-2*y+3*z,-3),Eq(2*x+y,2), Eq(-x-8*y+9*z,3)],\n",
    "            [Eq(x-2*y+z,0), Eq(x+y-2*z,-3),Eq(-2*x+5*y-z,5), Eq(3*x-2*y+z,2)],\n",
    "            [Eq(x-y+2*z+3*t,1), Eq(2*x+3*y-z+t,-3),Eq(x+y+z+t,0)],\n",
    "            [Eq(x-y+2*z,1-3*t), Eq(2*x+3*y-z,-3-t),Eq(x+y+z,-t)]\n",
    "           ]\n",
    "\n",
    "for sist in sistemas:\n",
    "  pprint(sist)\n",
    "  display_latex(\"$\"+sistema_a_latex(sist)+\"$\",raw=True)\n",
    "  display(\"$\"+sistema_a_latex(sist)+\"$\")  \n",
    "  A, b = linear_eq_to_matrix(sist,[x,y,z])\n",
    "  AA = A.row_join(b)\n",
    "  #pprint(linear_eq_to_matrix(sist,[x,y,z]))\n",
    "  pprint([A,A.rank(),AA,AA.rank(),  AA.LUdecomposition()[1],A.shape])\n",
    "  #pprint([A.LUdecomposition(),A.LUsolve(b)])\n",
    "  pprint(linsolve(sist,[x,y,z]))\n",
    "  pprint(solve(sist))"
   ]
  },
  {
   "cell_type": "code",
   "execution_count": 6,
   "metadata": {
    "colab": {
     "base_uri": "https://localhost:8080/"
    },
    "id": "tTZ57LHhAmxY",
    "outputId": "0485871d-6488-43be-dad7-f61cb89b722f"
   },
   "outputs": [
    {
     "name": "stdout",
     "output_type": "stream",
     "text": [
      "[x - 2⋅y + 3⋅z = -3, x + y + z = 0, 2⋅x + 5⋅y + 9⋅z = 3]\n"
     ]
    },
    {
     "data": {
      "text/latex": [
       "$$\\left\\{ \\begin{matrix}x - 2 y + 3 z = -3 \\\\ x + y + z = 0 \\\\ 2 x + 5 y + 9 z = 3 \\\\ \\end{matrix}\\right.$$"
      ]
     },
     "metadata": {},
     "output_type": "display_data"
    },
    {
     "data": {
      "text/plain": [
       "'$$\\\\left\\\\{ \\\\begin{matrix}x - 2 y + 3 z = -3 \\\\\\\\ x + y + z = 0 \\\\\\\\ 2 x + 5 y + 9 z = 3 \\\\\\\\ \\\\end{matrix}\\\\right.$$'"
      ]
     },
     "metadata": {},
     "output_type": "display_data"
    },
    {
     "name": "stdout",
     "output_type": "stream",
     "text": [
      "⎡⎡1  -2  3⎤     ⎡1  -2  3  -3⎤     ⎡1  -2  3   -3⎤        ⎤\n",
      "⎢⎢        ⎥     ⎢            ⎥     ⎢             ⎥        ⎥\n",
      "⎢⎢1  1   1⎥, 3, ⎢1  1   1  0 ⎥, 3, ⎢0  3   -2  3 ⎥, (3, 3)⎥\n",
      "⎢⎢        ⎥     ⎢            ⎥     ⎢             ⎥        ⎥\n",
      "⎣⎣2  5   9⎦     ⎣2  5   9  3 ⎦     ⎣0  0   9   0 ⎦        ⎦\n",
      "{(-1, 1, 0)}\n",
      "{x: -1, y: 1, z: 0}\n",
      "[-x - y - z = -1, 5⋅x + y + 2⋅z = -3, 4⋅x + 2⋅y + z = 0]\n"
     ]
    },
    {
     "data": {
      "text/latex": [
       "$$\\left\\{ \\begin{matrix}- x - y - z = -1 \\\\ 5 x + y + 2 z = -3 \\\\ 4 x + 2 y + z = 0 \\\\ \\end{matrix}\\right.$$"
      ]
     },
     "metadata": {},
     "output_type": "display_data"
    },
    {
     "data": {
      "text/plain": [
       "'$$\\\\left\\\\{ \\\\begin{matrix}- x - y - z = -1 \\\\\\\\ 5 x + y + 2 z = -3 \\\\\\\\ 4 x + 2 y + z = 0 \\\\\\\\ \\\\end{matrix}\\\\right.$$'"
      ]
     },
     "metadata": {},
     "output_type": "display_data"
    },
    {
     "name": "stdout",
     "output_type": "stream",
     "text": [
      "⎡⎡-1  -1  -1⎤     ⎡-1  -1  -1  -1⎤     ⎡-1  -1   -1   -1⎤        ⎤\n",
      "⎢⎢          ⎥     ⎢              ⎥     ⎢                ⎥        ⎥\n",
      "⎢⎢5   1   2 ⎥, 3, ⎢5   1   2   -3⎥, 3, ⎢0   -4   -3   -8⎥, (3, 3)⎥\n",
      "⎢⎢          ⎥     ⎢              ⎥     ⎢                ⎥        ⎥\n",
      "⎣⎣4   2   1 ⎦     ⎣4   2   1   0 ⎦     ⎣0   0   -3/2  0 ⎦        ⎦\n",
      "{(-1, 2, 0)}\n",
      "{x: -1, y: 2, z: 0}\n"
     ]
    }
   ],
   "source": [
    "# p14.e2\n",
    "\n",
    "sistemas = [\n",
    "            [Eq(x-2*y+3*z,-3),Eq(x+y+z,0), Eq(2*x+5*y+9*z,3)],\n",
    "    [Eq(-x-y-z,-1),Eq(5*x+y+2*z,-3), Eq(4*x+2*y+z,0)],\n",
    "           ]\n",
    "\n",
    "for sist in sistemas:\n",
    "  pprint(sist)\n",
    "  display_latex(\"$\"+sistema_a_latex(sist)+\"$\",raw=True)\n",
    "  display(\"$\"+sistema_a_latex(sist)+\"$\")  \n",
    "  A, b = linear_eq_to_matrix(sist,[x,y,z])\n",
    "  AA = A.row_join(b)\n",
    "  #pprint(linear_eq_to_matrix(sist,[x,y,z]))\n",
    "  pprint([A,A.rank(),AA,AA.rank(),  AA.LUdecomposition()[1],A.shape])\n",
    "  #pprint([A.LUdecomposition(),A.LUsolve(b)])\n",
    "  pprint(linsolve(sist,[x,y,z]))\n",
    "  pprint(solve(sist))"
   ]
  },
  {
   "cell_type": "code",
   "execution_count": 7,
   "metadata": {
    "colab": {
     "base_uri": "https://localhost:8080/",
     "height": 329
    },
    "id": "Es3ghpxpSch7",
    "outputId": "2c44717d-5de6-435e-a384-2cab23aa106b"
   },
   "outputs": [
    {
     "name": "stdout",
     "output_type": "stream",
     "text": [
      "[2⋅x - y + 3⋅z = -3, x + y + z = 0, 2⋅x + 5⋅y + z = 3]\n"
     ]
    },
    {
     "data": {
      "text/latex": [
       "$$\\left\\{ \\begin{matrix}2 x - y + 3 z = -3 \\\\ x + y + z = 0 \\\\ 2 x + 5 y + z = 3 \\\\ \\end{matrix}\\right.$$"
      ]
     },
     "metadata": {},
     "output_type": "display_data"
    },
    {
     "name": "stdout",
     "output_type": "stream",
     "text": [
      "⎡⎡2  -1  3⎤     ⎡2  -1  3  -3⎤     ⎡2  -1    3    -3 ⎤        ⎤\n",
      "⎢⎢        ⎥     ⎢            ⎥     ⎢                 ⎥        ⎥\n",
      "⎢⎢1  1   1⎥, 2, ⎢1  1   1  0 ⎥, 2, ⎢0  3/2  -1/2  3/2⎥, (3, 3)⎥\n",
      "⎢⎢        ⎥     ⎢            ⎥     ⎢                 ⎥        ⎥\n",
      "⎣⎣2  5   1⎦     ⎣2  5   1  3 ⎦     ⎣0   0    0     0 ⎦        ⎦\n",
      "⎧⎛  4⋅z      z       ⎞⎫\n",
      "⎨⎜- ─── - 1, ─ + 1, z⎟⎬\n",
      "⎩⎝   3       3       ⎠⎭\n",
      "⎧     4⋅z         z    ⎫\n",
      "⎨x: - ─── - 1, y: ─ + 1⎬\n",
      "⎩      3          3    ⎭\n",
      "[-x - y - z = -1, 5⋅x + y + 2⋅z = -3, 4⋅x + 2⋅y + z = 0]\n"
     ]
    },
    {
     "data": {
      "text/latex": [
       "$$\\left\\{ \\begin{matrix}- x - y - z = -1 \\\\ 5 x + y + 2 z = -3 \\\\ 4 x + 2 y + z = 0 \\\\ \\end{matrix}\\right.$$"
      ]
     },
     "metadata": {},
     "output_type": "display_data"
    },
    {
     "name": "stdout",
     "output_type": "stream",
     "text": [
      "⎡⎡-1  -1  -1⎤     ⎡-1  -1  -1  -1⎤     ⎡-1  -1   -1   -1⎤        ⎤\n",
      "⎢⎢          ⎥     ⎢              ⎥     ⎢                ⎥        ⎥\n",
      "⎢⎢5   1   2 ⎥, 3, ⎢5   1   2   -3⎥, 3, ⎢0   -4   -3   -8⎥, (3, 3)⎥\n",
      "⎢⎢          ⎥     ⎢              ⎥     ⎢                ⎥        ⎥\n",
      "⎣⎣4   2   1 ⎦     ⎣4   2   1   0 ⎦     ⎣0   0   -3/2  0 ⎦        ⎦\n",
      "{(-1, 2, 0)}\n",
      "{x: -1, y: 2, z: 0}\n",
      "[3⋅x + 5⋅y - 8⋅z = 2, 5⋅x + 3⋅y - 8⋅z = 2, -8⋅x + 5⋅y + 3⋅z = 2]\n"
     ]
    },
    {
     "data": {
      "text/latex": [
       "$$\\left\\{ \\begin{matrix}3 x + 5 y - 8 z = 2 \\\\ 5 x + 3 y - 8 z = 2 \\\\ - 8 x + 5 y + 3 z = 2 \\\\ \\end{matrix}\\right.$$"
      ]
     },
     "metadata": {},
     "output_type": "display_data"
    },
    {
     "name": "stdout",
     "output_type": "stream",
     "text": [
      "⎡⎡3   5  -8⎤     ⎡3   5  -8  2⎤     ⎡3    5     -8    2  ⎤        ⎤\n",
      "⎢⎢         ⎥     ⎢            ⎥     ⎢                    ⎥        ⎥\n",
      "⎢⎢5   3  -8⎥, 2, ⎢5   3  -8  2⎥, 3, ⎢0  -16/3  16/3  -4/3⎥, (3, 3)⎥\n",
      "⎢⎢         ⎥     ⎢            ⎥     ⎢                    ⎥        ⎥\n",
      "⎣⎣-8  5  3 ⎦     ⎣-8  5  3   2⎦     ⎣0    0     0    11/4⎦        ⎦\n",
      "∅\n",
      "[]\n"
     ]
    }
   ],
   "source": [
    "# p14.e2\n",
    "\n",
    "sistemas = [[Eq(2*x-y+3*z,-3),Eq(x+y+z,0), Eq(2*x+5*y+z,3)],\n",
    "            [Eq(-x-y-z,-1),Eq(5*x+y+2*z,-3), Eq(4*x+2*y+z,0)],\n",
    "            [Eq(3*x+5*y-8*z,2),Eq(5*x+3*y-8*z,2), Eq(-8*x+5*y+3*z,2)],\n",
    "           ]\n",
    "\n",
    "for sist in sistemas:\n",
    "  pprint(sist)\n",
    "  display_latex(\"$\"+sistema_a_latex(sist)+\"$\",raw=True)  \n",
    "  A, b = linear_eq_to_matrix(sist,[x,y,z])\n",
    "  AA = A.row_join(b)\n",
    "  #pprint(linear_eq_to_matrix(sistema,[x,y,z]))\n",
    "  pprint([A,A.rank(),AA,AA.rank(),  AA.LUdecomposition()[1] ,A.shape])\n",
    "#   pprint([A.LUdecomposition(),A.LUsolve(b)])\n",
    "  pprint(linsolve(sist,[x,y,z]))\n",
    "  pprint(solve(sist))\n",
    "  "
   ]
  },
  {
   "cell_type": "code",
   "execution_count": 8,
   "metadata": {
    "colab": {
     "base_uri": "https://localhost:8080/",
     "height": 899
    },
    "id": "OkeFOR-6Ta-Y",
    "outputId": "bf9a87e4-5e23-4cee-9597-1fe279eae7b2"
   },
   "outputs": [
    {
     "name": "stdout",
     "output_type": "stream",
     "text": [
      "[2⋅x + 4⋅y + 5⋅z = 1, x + 3⋅y + 3⋅z = -1, 3⋅x + 3⋅y + 2⋅z = 2]\n"
     ]
    },
    {
     "data": {
      "text/latex": [
       "$$\\left\\{ \\begin{matrix}2 x + 4 y + 5 z = 1 \\\\ x + 3 y + 3 z = -1 \\\\ 3 x + 3 y + 2 z = 2 \\\\ \\end{matrix}\\right.$$"
      ]
     },
     "metadata": {},
     "output_type": "display_data"
    },
    {
     "name": "stdout",
     "output_type": "stream",
     "text": [
      "⎡⎡2  4  5⎤     ⎡3/8   -7/8  3/8 ⎤  ⎡2  4  5  1 ⎤           ⎤\n",
      "⎢⎢       ⎥     ⎢                ⎥  ⎢           ⎥           ⎥\n",
      "⎢⎢1  3  3⎥, 3, ⎢-7/8  11/8  1/8 ⎥, ⎢1  3  3  -1⎥, 3, (3, 3)⎥\n",
      "⎢⎢       ⎥     ⎢                ⎥  ⎢           ⎥           ⎥\n",
      "⎣⎣3  3  2⎦     ⎣3/4   -3/4  -1/4⎦  ⎣3  3  2  2 ⎦           ⎦\n",
      "⎡⎛⎡ 1   0   0⎤  ⎡2  4   5 ⎤    ⎞  ⎡2 ⎤⎤\n",
      "⎢⎜⎢          ⎥  ⎢         ⎥    ⎟  ⎢  ⎥⎥\n",
      "⎢⎜⎢1/2  1   0⎥, ⎢0  1  1/2⎥, []⎟, ⎢-2⎥⎥\n",
      "⎢⎜⎢          ⎥  ⎢         ⎥    ⎟  ⎢  ⎥⎥\n",
      "⎣⎝⎣3/2  -3  1⎦  ⎣0  0  -4 ⎦    ⎠  ⎣1 ⎦⎦\n",
      "{(2, -2, 1)}\n",
      "{x: 2, y: -2, z: 1}\n",
      "⎡2 ⎤\n",
      "⎢  ⎥\n",
      "⎢-2⎥\n",
      "⎢  ⎥\n",
      "⎣1 ⎦\n",
      "{x: 2, y: -2, z: 1}\n",
      "Delta_i, A.det, s_i\n",
      "[-16, -8, 2]\n",
      "Delta_i, A.det, s_i\n",
      "[16, -8, -2]\n",
      "Delta_i, A.det, s_i\n",
      "[-8, -8, 1]\n",
      "[x + y + z = 2, x + 2⋅y - 3⋅z = 8, 2⋅x - 2⋅y + 2⋅z = -4]\n"
     ]
    },
    {
     "data": {
      "text/latex": [
       "$$\\left\\{ \\begin{matrix}x + y + z = 2 \\\\ x + 2 y - 3 z = 8 \\\\ 2 x - 2 y + 2 z = -4 \\\\ \\end{matrix}\\right.$$"
      ]
     },
     "metadata": {},
     "output_type": "display_data"
    },
    {
     "name": "stdout",
     "output_type": "stream",
     "text": [
      "⎡⎡1  1   1 ⎤     ⎡1/8  1/4   5/16 ⎤  ⎡1  1   1   2 ⎤           ⎤\n",
      "⎢⎢         ⎥     ⎢                ⎥  ⎢             ⎥           ⎥\n",
      "⎢⎢1  2   -3⎥, 3, ⎢1/2   0    -1/4 ⎥, ⎢1  2   -3  8 ⎥, 3, (3, 3)⎥\n",
      "⎢⎢         ⎥     ⎢                ⎥  ⎢             ⎥           ⎥\n",
      "⎣⎣2  -2  2 ⎦     ⎣3/8  -1/4  -1/16⎦  ⎣2  -2  2   -4⎦           ⎦\n",
      "⎡⎛⎡1  0   0⎤  ⎡1  1   1 ⎤    ⎞  ⎡1 ⎤⎤\n",
      "⎢⎜⎢        ⎥  ⎢         ⎥    ⎟  ⎢  ⎥⎥\n",
      "⎢⎜⎢1  1   0⎥, ⎢0  1  -4 ⎥, []⎟, ⎢2 ⎥⎥\n",
      "⎢⎜⎢        ⎥  ⎢         ⎥    ⎟  ⎢  ⎥⎥\n",
      "⎣⎝⎣2  -4  1⎦  ⎣0  0  -16⎦    ⎠  ⎣-1⎦⎦\n",
      "{(1, 2, -1)}\n",
      "{x: 1, y: 2, z: -1}\n",
      "⎡1 ⎤\n",
      "⎢  ⎥\n",
      "⎢2 ⎥\n",
      "⎢  ⎥\n",
      "⎣-1⎦\n",
      "{x: 1, y: 2, z: -1}\n",
      "Delta_i, A.det, s_i\n",
      "[-16, -16, 1]\n",
      "Delta_i, A.det, s_i\n",
      "[-32, -16, 2]\n",
      "Delta_i, A.det, s_i\n",
      "[16, -16, -1]\n"
     ]
    }
   ],
   "source": [
    "# p14.e3y4\n",
    "\n",
    "sistemas = [[Eq(2*x+4*y+5*z,1),Eq(x+3*y+3*z,-1), Eq(3*x+3*y+2*z,2)],\n",
    "            [Eq(x+y+z,2),Eq(x+2*y-3*z,8), Eq(2*x-2*y+2*z,-4)]\n",
    "           ]\n",
    "\n",
    "for sist in sistemas:\n",
    "  pprint(sist)\n",
    "  display_latex(\"$\"+sistema_a_latex(sist)+\"$\",raw=True)   \n",
    "  A, b = linear_eq_to_matrix(sist,[x,y,z])\n",
    "  AA = A.row_join(b)\n",
    "  #pprint(linear_eq_to_matrix(sistema,[x,y,z]))\n",
    "  pprint([A,A.rank(), A.inv(),AA,AA.rank(),A.shape])\n",
    "  pprint([A.LUdecomposition(),A.LUsolve(b)])\n",
    "  pprint(linsolve(sist,[x,y,z]))\n",
    "  pprint(solve(sist))\n",
    "  pprint(A.inv()*b)\n",
    "  pprint(solve_linear_system(AA,x,y,z))\n",
    "  #cramer\n",
    "  for i in range(A.shape[1]):\n",
    "    AA.col_swap(i,3)\n",
    "    pprint(\"Delta_i, A.det, s_i\")\n",
    "    pprint([AA[:,:-1].det(),A.det(),AA[:,:-1].det()/A.det()])\n",
    "    AA.col_swap(i,3)\n",
    "    #pprint(AA)\n"
   ]
  },
  {
   "cell_type": "code",
   "execution_count": 9,
   "metadata": {
    "colab": {
     "base_uri": "https://localhost:8080/",
     "height": 899
    },
    "id": "OkeFOR-6Ta-Y",
    "outputId": "bf9a87e4-5e23-4cee-9597-1fe279eae7b2"
   },
   "outputs": [
    {
     "name": "stdout",
     "output_type": "stream",
     "text": [
      "[2⋅x - y + z = 1, x - 2⋅y + 3⋅z = 4, x + y + 3⋅z = 0]\n"
     ]
    },
    {
     "data": {
      "text/latex": [
       "$$\\left\\{ \\begin{matrix}2 x - y + z = 1 \\\\ x - 2 y + 3 z = 4 \\\\ x + y + 3 z = 0 \\\\ \\end{matrix}\\right.$$"
      ]
     },
     "metadata": {},
     "output_type": "display_data"
    },
    {
     "name": "stdout",
     "output_type": "stream",
     "text": [
      "⎡⎡2  -1  1⎤     ⎡2  -1  1  1⎤           ⎤\n",
      "⎢⎢        ⎥     ⎢           ⎥           ⎥\n",
      "⎢⎢1  -2  3⎥, 3, ⎢1  -2  3  4⎥, 3, (3, 3)⎥\n",
      "⎢⎢        ⎥     ⎢           ⎥           ⎥\n",
      "⎣⎣1  1   3⎦     ⎣1  1   3  0⎦           ⎦\n",
      "[5⋅x - 2⋅y + z = -1, -2⋅x + y - 3⋅z = 4, 3⋅x - y - 2⋅z = 0]\n"
     ]
    },
    {
     "data": {
      "text/latex": [
       "$$\\left\\{ \\begin{matrix}5 x - 2 y + z = -1 \\\\ - 2 x + y - 3 z = 4 \\\\ 3 x - y - 2 z = 0 \\\\ \\end{matrix}\\right.$$"
      ]
     },
     "metadata": {},
     "output_type": "display_data"
    },
    {
     "name": "stdout",
     "output_type": "stream",
     "text": [
      "⎡⎡5   -2  1 ⎤     ⎡5   -2  1   -1⎤           ⎤\n",
      "⎢⎢          ⎥     ⎢              ⎥           ⎥\n",
      "⎢⎢-2  1   -3⎥, 2, ⎢-2  1   -3  4 ⎥, 3, (3, 3)⎥\n",
      "⎢⎢          ⎥     ⎢              ⎥           ⎥\n",
      "⎣⎣3   -1  -2⎦     ⎣3   -1  -2  0 ⎦           ⎦\n",
      "[3⋅x + 2⋅y - z = 1, -2⋅x + 3⋅y - 2⋅z = -1, -2⋅x + 5⋅y = 0]\n"
     ]
    },
    {
     "data": {
      "text/latex": [
       "$$\\left\\{ \\begin{matrix}3 x + 2 y - z = 1 \\\\ - 2 x + 3 y - 2 z = -1 \\\\ - 2 x + 5 y = 0 \\\\ \\end{matrix}\\right.$$"
      ]
     },
     "metadata": {},
     "output_type": "display_data"
    },
    {
     "name": "stdout",
     "output_type": "stream",
     "text": [
      "⎡⎡3   2  -1⎤     ⎡3   2  -1  1 ⎤           ⎤\n",
      "⎢⎢         ⎥     ⎢             ⎥           ⎥\n",
      "⎢⎢-2  3  -2⎥, 3, ⎢-2  3  -2  -1⎥, 3, (3, 3)⎥\n",
      "⎢⎢         ⎥     ⎢             ⎥           ⎥\n",
      "⎣⎣-2  5  0 ⎦     ⎣-2  5  0   0 ⎦           ⎦\n",
      "[2⋅x - 3⋅y + z = 0, x + 2⋅y - z = 0, 4⋅x + y - z = 0]\n"
     ]
    },
    {
     "data": {
      "text/latex": [
       "$$\\left\\{ \\begin{matrix}2 x - 3 y + z = 0 \\\\ x + 2 y - z = 0 \\\\ 4 x + y - z = 0 \\\\ \\end{matrix}\\right.$$"
      ]
     },
     "metadata": {},
     "output_type": "display_data"
    },
    {
     "name": "stdout",
     "output_type": "stream",
     "text": [
      "⎡⎡2  -3  1 ⎤     ⎡2  -3  1   0⎤           ⎤\n",
      "⎢⎢         ⎥     ⎢            ⎥           ⎥\n",
      "⎢⎢1  2   -1⎥, 2, ⎢1  2   -1  0⎥, 2, (3, 3)⎥\n",
      "⎢⎢         ⎥     ⎢            ⎥           ⎥\n",
      "⎣⎣4  1   -1⎦     ⎣4  1   -1  0⎦           ⎦\n"
     ]
    }
   ],
   "source": [
    "# p14.e1bis\n",
    "\n",
    "sistemas = [[Eq(2*x-y+z,1),Eq(x-2*y+3*z,4), Eq(x+y+3*z,0)],\n",
    "            [Eq(5*x-2*y+z,-1),Eq(-2*x+y-3*z,4), Eq(3*x-y-2*z,0)],\n",
    "            [Eq(3*x+2*y-z,1),Eq(-2*x+3*y-2*z,-1),Eq(x+5*y-3*x,0)],\n",
    "            [Eq(2*x-3*y+z,0),Eq(x+2*y-z,0),Eq(4*x+y-z,0)]\n",
    "           ]\n",
    "\n",
    "for sist in sistemas:\n",
    "  pprint(sist)\n",
    "  display_latex(\"$\"+sistema_a_latex(sist)+\"$\",raw=True)   \n",
    "  A, b = linear_eq_to_matrix(sist,[x,y,z])\n",
    "  AA = A.row_join(b)\n",
    "  pprint([A,A.rank(),AA,AA.rank(),A.shape])"
   ]
  },
  {
   "cell_type": "code",
   "execution_count": 10,
   "metadata": {
    "colab": {
     "base_uri": "https://localhost:8080/",
     "height": 899
    },
    "id": "OkeFOR-6Ta-Y",
    "outputId": "bf9a87e4-5e23-4cee-9597-1fe279eae7b2",
    "scrolled": true
   },
   "outputs": [
    {
     "name": "stdout",
     "output_type": "stream",
     "text": [
      "[x + 2⋅y + z = 0, 2⋅x + y + 2⋅z = 1, 5⋅x + 7⋅y + 5⋅z = 1]\n"
     ]
    },
    {
     "data": {
      "text/latex": [
       "$$\\left\\{ \\begin{matrix}x + 2 y + z = 0 \\\\ 2 x + y + 2 z = 1 \\\\ 5 x + 7 y + 5 z = 1 \\\\ \\end{matrix}\\right.$$"
      ]
     },
     "metadata": {},
     "output_type": "display_data"
    },
    {
     "name": "stdout",
     "output_type": "stream",
     "text": [
      "⎡⎡1  2  1⎤     ⎡1  2  1  0⎤             ⎡1  2   1  0⎤⎤\n",
      "⎢⎢       ⎥     ⎢          ⎥             ⎢           ⎥⎥\n",
      "⎢⎢2  1  2⎥, 2, ⎢2  1  2  1⎥, 2, (3, 3), ⎢0  -3  0  1⎥⎥\n",
      "⎢⎢       ⎥     ⎢          ⎥             ⎢           ⎥⎥\n",
      "⎣⎣5  7  5⎦     ⎣5  7  5  1⎦             ⎣0  0   0  0⎦⎦\n",
      "{(2/3 - z, -1/3, z)}\n",
      "[3⋅x + 2⋅y + z = 4, -2⋅x + 3⋅y + 2⋅z = 4, x + 5⋅y + 3⋅z = 1, -4⋅x + 6⋅y + 4⋅z \n",
      "= -3]\n"
     ]
    },
    {
     "data": {
      "text/latex": [
       "$$\\left\\{ \\begin{matrix}3 x + 2 y + z = 4 \\\\ - 2 x + 3 y + 2 z = 4 \\\\ x + 5 y + 3 z = 1 \\\\ - 4 x + 6 y + 4 z = -3 \\\\ \\end{matrix}\\right.$$"
      ]
     },
     "metadata": {},
     "output_type": "display_data"
    },
    {
     "name": "stdout",
     "output_type": "stream",
     "text": [
      "⎡⎡3   2  1⎤     ⎡3   2  1  4 ⎤             ⎡3   2     1    4  ⎤⎤\n",
      "⎢⎢        ⎥     ⎢            ⎥             ⎢                  ⎥⎥\n",
      "⎢⎢-2  3  2⎥     ⎢-2  3  2  4 ⎥             ⎢0  13/3  8/3  20/3⎥⎥\n",
      "⎢⎢        ⎥, 2, ⎢            ⎥, 3, (4, 3), ⎢                  ⎥⎥\n",
      "⎢⎢1   5  3⎥     ⎢1   5  3  1 ⎥             ⎢0   0     0    -7 ⎥⎥\n",
      "⎢⎢        ⎥     ⎢            ⎥             ⎢                  ⎥⎥\n",
      "⎣⎣-4  6  4⎦     ⎣-4  6  4  -3⎦             ⎣0   0     0    0  ⎦⎦\n",
      "∅\n",
      "[x + 2⋅y + 3⋅z = 2, 3⋅x + 2⋅y + 2⋅z = 2, x - y + 4⋅z = 1, 2⋅x + y - z = 3]\n"
     ]
    },
    {
     "data": {
      "text/latex": [
       "$$\\left\\{ \\begin{matrix}x + 2 y + 3 z = 2 \\\\ 3 x + 2 y + 2 z = 2 \\\\ x - y + 4 z = 1 \\\\ 2 x + y - z = 3 \\\\ \\end{matrix}\\right.$$"
      ]
     },
     "metadata": {},
     "output_type": "display_data"
    },
    {
     "name": "stdout",
     "output_type": "stream",
     "text": [
      "⎡                                           ⎡1  2    3    2 ⎤⎤\n",
      "⎢⎡1  2   3 ⎤     ⎡1  2   3   2⎤             ⎢               ⎥⎥\n",
      "⎢⎢         ⎥     ⎢            ⎥             ⎢0  -4   -7   -4⎥⎥\n",
      "⎢⎢3  2   2 ⎥     ⎢3  2   2   2⎥             ⎢               ⎥⎥\n",
      "⎢⎢         ⎥, 3, ⎢            ⎥, 4, (4, 3), ⎢0  0   25/4  2 ⎥⎥\n",
      "⎢⎢1  -1  4 ⎥     ⎢1  -1  4   1⎥             ⎢               ⎥⎥\n",
      "⎢⎢         ⎥     ⎢            ⎥             ⎢             64⎥⎥\n",
      "⎢⎣2  1   -1⎦     ⎣2  1   -1  3⎦             ⎢0  0    0    ──⎥⎥\n",
      "⎣                                           ⎣             25⎦⎦\n",
      "∅\n"
     ]
    }
   ],
   "source": [
    "# p14.e2bis\n",
    "\n",
    "sistemas = [[Eq(x+2*y+z,0),Eq(2*x+y+2*z,1), Eq(5*x+7*y+5*z,1)],\n",
    "            [Eq(3*x+2*y+z,4),Eq(-2*x+3*y+2*z,4), Eq(x+5*y+3*z,1),Eq(-4*x+6*y+4*z,-3)],\n",
    "            [Eq(x+2*y+3*z,2),Eq(3*x+2*y+2*z,2),Eq(x-y+4*z,1),Eq(2*x+y-z,3)],\n",
    "           ]\n",
    "\n",
    "for sist in sistemas:\n",
    "  pprint(sist)\n",
    "  display_latex(\"$\"+sistema_a_latex(sist)+\"$\",raw=True)   \n",
    "  A, b = linear_eq_to_matrix(sist,[x,y,z])\n",
    "  AA = A.row_join(b)\n",
    "  pprint([A,A.rank(),AA,AA.rank(),A.shape, AA.LUdecomposition()[1]])\n",
    "  pprint(linsolve(sist,[x,y,z]))  \n",
    "#   if A.rank() == AA.rank() :\n",
    "#         pprint(linsolve(sist,[x,y,z]))"
   ]
  },
  {
   "cell_type": "code",
   "execution_count": 11,
   "metadata": {
    "colab": {
     "base_uri": "https://localhost:8080/",
     "height": 899
    },
    "id": "OkeFOR-6Ta-Y",
    "outputId": "bf9a87e4-5e23-4cee-9597-1fe279eae7b2"
   },
   "outputs": [
    {
     "name": "stdout",
     "output_type": "stream",
     "text": [
      "[y + z = 1, x + y - 3⋅z = 8, x - 2⋅y = -1]\n"
     ]
    },
    {
     "data": {
      "text/latex": [
       "$$\\left\\{ \\begin{matrix}y + z = 1 \\\\ x + y - 3 z = 8 \\\\ x - 2 y = -1 \\\\ \\end{matrix}\\right.$$"
      ]
     },
     "metadata": {},
     "output_type": "display_data"
    },
    {
     "name": "stdout",
     "output_type": "stream",
     "text": [
      "⎡⎡0  1   1 ⎤     ⎡0  1   1   1 ⎤             ⎡1  1  -3  8 ⎤    ⎤\n",
      "⎢⎢         ⎥     ⎢             ⎥             ⎢            ⎥    ⎥\n",
      "⎢⎢1  1   -3⎥, 3, ⎢1  1   -3  8 ⎥, 3, (3, 3), ⎢0  1  1   1 ⎥, -6⎥\n",
      "⎢⎢         ⎥     ⎢             ⎥             ⎢            ⎥    ⎥\n",
      "⎣⎣1  -2  0 ⎦     ⎣1  -2  0   -1⎦             ⎣0  0  6   -6⎦    ⎦\n",
      "{(3, 2, -1)}\n",
      "[2⋅x + 3⋅y + z = 1, 2⋅x + 2⋅y + z = 1, 4⋅x + 5⋅y + 2⋅z = 2]\n"
     ]
    },
    {
     "data": {
      "text/latex": [
       "$$\\left\\{ \\begin{matrix}2 x + 3 y + z = 1 \\\\ 2 x + 2 y + z = 1 \\\\ 4 x + 5 y + 2 z = 2 \\\\ \\end{matrix}\\right.$$"
      ]
     },
     "metadata": {},
     "output_type": "display_data"
    },
    {
     "name": "stdout",
     "output_type": "stream",
     "text": [
      "⎡⎡2  3  1⎤     ⎡2  3  1  1⎤             ⎡2  3   1  1⎤   ⎤\n",
      "⎢⎢       ⎥     ⎢          ⎥             ⎢           ⎥   ⎥\n",
      "⎢⎢2  2  1⎥, 2, ⎢2  2  1  1⎥, 2, (3, 3), ⎢0  -1  0  0⎥, 0⎥\n",
      "⎢⎢       ⎥     ⎢          ⎥             ⎢           ⎥   ⎥\n",
      "⎣⎣4  5  2⎦     ⎣4  5  2  2⎦             ⎣0  0   0  0⎦   ⎦\n",
      "⎧⎛1   z      ⎞⎫\n",
      "⎨⎜─ - ─, 0, z⎟⎬\n",
      "⎩⎝2   2      ⎠⎭\n"
     ]
    }
   ],
   "source": [
    "# p14.e3bis\n",
    "\n",
    "sistemas = [[Eq(y+z,1),Eq(x+y-3*z,8), Eq(x-2*y,-1)],\n",
    "            [Eq(2*x+3*y+z,1),Eq(2*x+2*y+z,1), Eq(4*x+5*y+2*z,2)]\n",
    "           ]\n",
    "\n",
    "for sist in sistemas:\n",
    "  pprint(sist)\n",
    "  display_latex(\"$\"+sistema_a_latex(sist)+\"$\",raw=True)   \n",
    "  A, b = linear_eq_to_matrix(sist,[x,y,z])\n",
    "  AA = A.row_join(b)\n",
    "  #pprint(linear_eq_to_matrix(sistema,[x,y,z]))\n",
    "  pprint([A,A.rank(),AA,AA.rank(),A.shape,AA.LUdecomposition()[1],A.det()])\n",
    "  pprint(linsolve(sist,[x,y,z]))\n",
    "#   pprint(solve(sist))\n",
    "#   pprint(A.inv()*b)\n",
    "#   pprint(solve_linear_system(AA,x,y,z))\n",
    "#   #cramer\n",
    "#   for i in range(A.shape[1]):\n",
    "#     AA.col_swap(i,3)\n",
    "#     pprint(\"Delta_i, A.det, s_i\")\n",
    "#     pprint([AA[:,:-1].det(),A.det(),AA[:,:-1].det()/A.det()])\n",
    "#     AA.col_swap(i,3)\n",
    "#     #pprint(AA)\n"
   ]
  },
  {
   "cell_type": "code",
   "execution_count": 12,
   "metadata": {
    "scrolled": false
   },
   "outputs": [
    {
     "name": "stdout",
     "output_type": "stream",
     "text": [
      "===============================================================\n",
      "Discusión y resolución del sistema:\n"
     ]
    },
    {
     "data": {
      "text/latex": [
       "$\\left\\{ \\begin{matrix}k^{2} z + k x + k y = 12 \\\\ k z + x - y = 6 \\\\ 2 k x - 2 y + 2 z = 8 \\\\ \\end{matrix}\\right.$"
      ]
     },
     "metadata": {},
     "output_type": "display_data"
    },
    {
     "name": "stdout",
     "output_type": "stream",
     "text": [
      "-----------------------------------------------------------\n"
     ]
    },
    {
     "data": {
      "text/latex": [
       "$|A|=\\left|\\begin{matrix}k & k & k^{2}\\\\1 & -1 & k\\\\2 k & -2 & 2\\end{matrix}\\right|=4 k \\left(k - 1\\right) \\left(k + 1\\right)$"
      ]
     },
     "metadata": {},
     "output_type": "display_data"
    },
    {
     "data": {
      "text/latex": [
       "* Si $k \\neq -1, 0, 1\\to |A| \\neq 0 \\to \\exists A^{-1}$."
      ]
     },
     "metadata": {},
     "output_type": "display_data"
    },
    {
     "data": {
      "text/latex": [
       "Como $rg(A)=rg(A^*)=3$ --> S.C. (El sistema tiene solución)"
      ]
     },
     "metadata": {},
     "output_type": "display_data"
    },
    {
     "data": {
      "text/latex": [
       "Como además $rg(A)=3$ coincide con el número de incógnitas --> S.C.D -- > Se puede resolver por Gauss, Matriz inversa o Cramer"
      ]
     },
     "metadata": {},
     "output_type": "display_data"
    },
    {
     "name": "stdout",
     "output_type": "stream",
     "text": [
      "**Resolución por Gauss**\n",
      "- - - - - - - - - - - -\n"
     ]
    },
    {
     "data": {
      "text/latex": [
       "$A^*=\\left(\\begin{matrix}k & k & k^{2} & 12\\\\1 & -1 & k & 6\\\\2 k & -2 & 2 & 8\\end{matrix}\\right)\\sim\\left(\\begin{matrix}1 & -1 & k & 6\\\\0 & 2 k & 0 & 12 - 6 k\\\\0 & 0 & 2 - 2 k^{2} & - 6 k - 10 + \\frac{12}{k}\\end{matrix}\\right)\\to x=\\frac{k^{2} + 3 k - 6}{k^{3} - k}, y=\\frac{6 - 3 k}{k}, z=\\frac{3 k^{2} + 5 k - 6}{k^{3} - k}$"
      ]
     },
     "metadata": {},
     "output_type": "display_data"
    },
    {
     "name": "stdout",
     "output_type": "stream",
     "text": [
      "**Método de la matríz inversa**\n",
      "- - - - - - - - - - - - - - - \n"
     ]
    },
    {
     "data": {
      "text/latex": [
       "$A^{-1}=\\left(\\begin{matrix}\\frac{1}{2 k^{2} + 2 k} & - \\frac{1}{2 k - 2} & \\frac{k}{2 k^{2} - 2}\\\\\\frac{1}{2 k} & - \\frac{1}{2} & 0\\\\\\frac{1}{2 k^{2} + 2 k} & \\frac{1}{2 k - 2} & - \\frac{1}{2 k^{2} - 2}\\end{matrix}\\right) \\to  X=A^{-1}\\cdot b =\\left(\\begin{matrix}\\frac{1}{2 k^{2} + 2 k} & - \\frac{1}{2 k - 2} & \\frac{k}{2 k^{2} - 2}\\\\\\frac{1}{2 k} & - \\frac{1}{2} & 0\\\\\\frac{1}{2 k^{2} + 2 k} & \\frac{1}{2 k - 2} & - \\frac{1}{2 k^{2} - 2}\\end{matrix}\\right)\\cdot \\left(\\begin{matrix}12\\\\6\\\\8\\end{matrix}\\right) =\\left(\\begin{matrix}\\frac{k^{2} + 3 k - 6}{k^{3} - k}\\\\-3 + \\frac{6}{k}\\\\\\frac{3 k^{2} + 5 k - 6}{k^{3} - k}\\end{matrix}\\right)$"
      ]
     },
     "metadata": {},
     "output_type": "display_data"
    },
    {
     "name": "stdout",
     "output_type": "stream",
     "text": [
      "**Por Cramer**\n",
      "- - - - - - - -\n"
     ]
    },
    {
     "data": {
      "text/latex": [
       "$x=\\frac{\\left|\\begin{matrix}12 & k & k^{2}\\\\6 & -1 & k\\\\8 & -2 & 2\\end{matrix}\\right|}{4 k \\left(k^{2} - 1\\right)}=\\frac{4 k^{2} + 12 k - 24}{4 k \\left(k^{2} - 1\\right)}=\\frac{4 k^{2} + 12 k - 24}{4 k^{3} - 4 k}$"
      ]
     },
     "metadata": {},
     "output_type": "display_data"
    },
    {
     "data": {
      "text/latex": [
       "$y=\\frac{\\left|\\begin{matrix}k & 12 & k^{2}\\\\1 & 6 & k\\\\2 k & 8 & 2\\end{matrix}\\right|}{4 k \\left(k^{2} - 1\\right)}=\\frac{- 12 k^{3} + 24 k^{2} + 12 k - 24}{4 k \\left(k^{2} - 1\\right)}=\\frac{- 12 k^{3} + 24 k^{2} + 12 k - 24}{4 k^{3} - 4 k}$"
      ]
     },
     "metadata": {},
     "output_type": "display_data"
    },
    {
     "data": {
      "text/latex": [
       "$z=\\frac{\\left|\\begin{matrix}k & k & 12\\\\1 & -1 & 6\\\\2 k & -2 & 8\\end{matrix}\\right|}{4 k \\left(k^{2} - 1\\right)}=\\frac{12 k^{2} + 20 k - 24}{4 k \\left(k^{2} - 1\\right)}=\\frac{12 k^{2} + 20 k - 24}{4 k^{3} - 4 k}$"
      ]
     },
     "metadata": {},
     "output_type": "display_data"
    },
    {
     "data": {
      "text/latex": [
       "* Si $k=-1\\to |A| = 0 \\to \\nexists A^{-1}$"
      ]
     },
     "metadata": {},
     "output_type": "display_data"
    },
    {
     "data": {
      "text/latex": [
       "Como $rg(A)=rg(A^*)=3$ --> S.C. (El sistema tiene solución)"
      ]
     },
     "metadata": {},
     "output_type": "display_data"
    },
    {
     "data": {
      "text/latex": [
       "Como además $rg(A)=3$ coincide con el número de incógnitas --> S.C.D -- > Se puede resolver por Gauss, Matriz inversa o Cramer"
      ]
     },
     "metadata": {},
     "output_type": "display_data"
    },
    {
     "name": "stdout",
     "output_type": "stream",
     "text": [
      "**Resolución por Gauss**\n",
      "- - - - - - - - - - - -\n"
     ]
    },
    {
     "data": {
      "text/latex": [
       "$A^*=\\left(\\begin{matrix}-1 & -1 & -1 & 12\\\\1 & -1 & -1 & 6\\\\-2 & -2 & 2 & 8\\end{matrix}\\right)\\sim\\left(\\begin{matrix}-1 & -1 & -1 & 12\\\\0 & -2 & -2 & 18\\\\0 & 0 & 4 & -16\\end{matrix}\\right)\\to x=-3, y=-5, z=-4$"
      ]
     },
     "metadata": {},
     "output_type": "display_data"
    },
    {
     "name": "stdout",
     "output_type": "stream",
     "text": [
      "**Método de la matríz inversa**\n",
      "- - - - - - - - - - - - - - - \n"
     ]
    },
    {
     "data": {
      "text/latex": [
       "$A^{-1}=\\left(\\begin{matrix}- \\frac{1}{2} & \\frac{1}{2} & 0\\\\0 & - \\frac{1}{2} & - \\frac{1}{4}\\\\- \\frac{1}{2} & 0 & \\frac{1}{4}\\end{matrix}\\right) \\to  X=A^{-1}\\cdot b =\\left(\\begin{matrix}- \\frac{1}{2} & \\frac{1}{2} & 0\\\\0 & - \\frac{1}{2} & - \\frac{1}{4}\\\\- \\frac{1}{2} & 0 & \\frac{1}{4}\\end{matrix}\\right)\\cdot \\left(\\begin{matrix}12\\\\6\\\\8\\end{matrix}\\right) =\\left(\\begin{matrix}-3\\\\-5\\\\-4\\end{matrix}\\right)$"
      ]
     },
     "metadata": {},
     "output_type": "display_data"
    },
    {
     "name": "stdout",
     "output_type": "stream",
     "text": [
      "**Por Cramer**\n",
      "- - - - - - - -\n"
     ]
    },
    {
     "data": {
      "text/latex": [
       "$x=\\frac{\\left|\\begin{matrix}12 & -1 & -1\\\\6 & -1 & -1\\\\8 & -2 & 2\\end{matrix}\\right|}{8}=\\frac{-24}{8}=-3$"
      ]
     },
     "metadata": {},
     "output_type": "display_data"
    },
    {
     "data": {
      "text/latex": [
       "$y=\\frac{\\left|\\begin{matrix}-1 & 12 & -1\\\\1 & 6 & -1\\\\-2 & 8 & 2\\end{matrix}\\right|}{8}=\\frac{-40}{8}=-5$"
      ]
     },
     "metadata": {},
     "output_type": "display_data"
    },
    {
     "data": {
      "text/latex": [
       "$z=\\frac{\\left|\\begin{matrix}-1 & -1 & 12\\\\1 & -1 & 6\\\\-2 & -2 & 8\\end{matrix}\\right|}{8}=\\frac{-32}{8}=-4$"
      ]
     },
     "metadata": {},
     "output_type": "display_data"
    },
    {
     "data": {
      "text/latex": [
       "* Si $k=0\\to |A| = 0 \\to \\nexists A^{-1}$"
      ]
     },
     "metadata": {},
     "output_type": "display_data"
    },
    {
     "ename": "TypeError",
     "evalue": "bad operand type for unary -: 'BooleanFalse'",
     "output_type": "error",
     "traceback": [
      "\u001b[0;31m---------------------------------------------------------------------------\u001b[0m",
      "\u001b[0;31mTypeError\u001b[0m                                 Traceback (most recent call last)",
      "\u001b[0;32m/tmp/ipykernel_15439/3694330202.py\u001b[0m in \u001b[0;36m<module>\u001b[0;34m\u001b[0m\n\u001b[1;32m     22\u001b[0m     \u001b[0msist\u001b[0m\u001b[0;34m,\u001b[0m \u001b[0mpar\u001b[0m \u001b[0;34m=\u001b[0m \u001b[0ms\u001b[0m\u001b[0;34m\u001b[0m\u001b[0;34m\u001b[0m\u001b[0m\n\u001b[1;32m     23\u001b[0m     \u001b[0mprint\u001b[0m\u001b[0;34m(\u001b[0m\u001b[0;34m\"===============================================================\"\u001b[0m\u001b[0;34m)\u001b[0m\u001b[0;34m\u001b[0m\u001b[0;34m\u001b[0m\u001b[0m\n\u001b[0;32m---> 24\u001b[0;31m     \u001b[0msistema_parametro\u001b[0m\u001b[0;34m(\u001b[0m\u001b[0msist\u001b[0m\u001b[0;34m,\u001b[0m\u001b[0mparam\u001b[0m\u001b[0;34m=\u001b[0m\u001b[0mpar\u001b[0m\u001b[0;34m)\u001b[0m\u001b[0;34m\u001b[0m\u001b[0;34m\u001b[0m\u001b[0m\n\u001b[0m\u001b[1;32m     25\u001b[0m \u001b[0;34m\u001b[0m\u001b[0m\n",
      "\u001b[0;32m/tmp/ipykernel_15439/2376996979.py\u001b[0m in \u001b[0;36msistema_parametro\u001b[0;34m(sist, param)\u001b[0m\n\u001b[1;32m    122\u001b[0m     \u001b[0;32mfor\u001b[0m \u001b[0mi\u001b[0m \u001b[0;32min\u001b[0m \u001b[0msolve\u001b[0m\u001b[0;34m(\u001b[0m\u001b[0mA\u001b[0m\u001b[0;34m.\u001b[0m\u001b[0mdet\u001b[0m\u001b[0;34m(\u001b[0m\u001b[0;34m)\u001b[0m\u001b[0;34m)\u001b[0m\u001b[0;34m:\u001b[0m\u001b[0;34m\u001b[0m\u001b[0;34m\u001b[0m\u001b[0m\n\u001b[1;32m    123\u001b[0m         \u001b[0mdisplay_latex\u001b[0m\u001b[0;34m(\u001b[0m\u001b[0;34mr\"* Si $\"\u001b[0m\u001b[0;34m+\u001b[0m\u001b[0mstr\u001b[0m\u001b[0;34m(\u001b[0m\u001b[0mparam\u001b[0m\u001b[0;34m)\u001b[0m\u001b[0;34m+\u001b[0m\u001b[0;34mr\"=\"\u001b[0m\u001b[0;34m+\u001b[0m\u001b[0mstr\u001b[0m\u001b[0;34m(\u001b[0m\u001b[0mi\u001b[0m\u001b[0;34m)\u001b[0m\u001b[0;34m+\u001b[0m\u001b[0;34mr\"\\to |A| = 0 \\to \\nexists A^{-1}$\"\u001b[0m\u001b[0;34m,\u001b[0m\u001b[0mraw\u001b[0m\u001b[0;34m=\u001b[0m\u001b[0;32mTrue\u001b[0m\u001b[0;34m)\u001b[0m\u001b[0;34m\u001b[0m\u001b[0;34m\u001b[0m\u001b[0m\n\u001b[0;32m--> 124\u001b[0;31m         \u001b[0msistema_solucion\u001b[0m\u001b[0;34m(\u001b[0m\u001b[0mS\u001b[0m\u001b[0;34m(\u001b[0m\u001b[0mstr\u001b[0m\u001b[0;34m(\u001b[0m\u001b[0msist\u001b[0m\u001b[0;34m)\u001b[0m\u001b[0;34m.\u001b[0m\u001b[0mreplace\u001b[0m\u001b[0;34m(\u001b[0m\u001b[0mstr\u001b[0m\u001b[0;34m(\u001b[0m\u001b[0mparam\u001b[0m\u001b[0;34m)\u001b[0m\u001b[0;34m,\u001b[0m\u001b[0mstr\u001b[0m\u001b[0;34m(\u001b[0m\u001b[0mi\u001b[0m\u001b[0;34m)\u001b[0m\u001b[0;34m)\u001b[0m\u001b[0;34m)\u001b[0m\u001b[0;34m,\u001b[0m\u001b[0ml_incognitas\u001b[0m\u001b[0;34m)\u001b[0m\u001b[0;34m\u001b[0m\u001b[0;34m\u001b[0m\u001b[0m\n\u001b[0m\u001b[1;32m    125\u001b[0m \u001b[0;34m\u001b[0m\u001b[0m\n\u001b[1;32m    126\u001b[0m \u001b[0;34m\u001b[0m\u001b[0m\n",
      "\u001b[0;32m/tmp/ipykernel_15439/2376996979.py\u001b[0m in \u001b[0;36msistema_solucion\u001b[0;34m(sist, l_incognitas)\u001b[0m\n\u001b[1;32m     29\u001b[0m     \u001b[0ml_tex\u001b[0m\u001b[0;34m=\u001b[0m\u001b[0;34m[\u001b[0m\u001b[0;34m]\u001b[0m\u001b[0;34m\u001b[0m\u001b[0;34m\u001b[0m\u001b[0m\n\u001b[1;32m     30\u001b[0m \u001b[0;34m\u001b[0m\u001b[0m\n\u001b[0;32m---> 31\u001b[0;31m     \u001b[0mA\u001b[0m\u001b[0;34m,\u001b[0m \u001b[0mb\u001b[0m \u001b[0;34m=\u001b[0m \u001b[0mlinear_eq_to_matrix\u001b[0m\u001b[0;34m(\u001b[0m\u001b[0msist\u001b[0m\u001b[0;34m,\u001b[0m\u001b[0ml_incognitas\u001b[0m\u001b[0;34m)\u001b[0m\u001b[0;34m\u001b[0m\u001b[0;34m\u001b[0m\u001b[0m\n\u001b[0m\u001b[1;32m     32\u001b[0m     \u001b[0mAA\u001b[0m \u001b[0;34m=\u001b[0m \u001b[0mA\u001b[0m\u001b[0;34m.\u001b[0m\u001b[0mrow_join\u001b[0m\u001b[0;34m(\u001b[0m\u001b[0mb\u001b[0m\u001b[0;34m)\u001b[0m\u001b[0;34m\u001b[0m\u001b[0;34m\u001b[0m\u001b[0m\n\u001b[1;32m     33\u001b[0m     \u001b[0mAAs\u001b[0m \u001b[0;34m=\u001b[0m \u001b[0mAA\u001b[0m\u001b[0;34m.\u001b[0m\u001b[0mLUdecomposition\u001b[0m\u001b[0;34m(\u001b[0m\u001b[0;34m)\u001b[0m\u001b[0;34m[\u001b[0m\u001b[0;36m1\u001b[0m\u001b[0;34m]\u001b[0m\u001b[0;34m.\u001b[0m\u001b[0mapplyfunc\u001b[0m\u001b[0;34m(\u001b[0m\u001b[0mnsimplify\u001b[0m\u001b[0;34m)\u001b[0m\u001b[0;34m.\u001b[0m\u001b[0mapplyfunc\u001b[0m\u001b[0;34m(\u001b[0m\u001b[0msimplify\u001b[0m\u001b[0;34m)\u001b[0m\u001b[0;34m\u001b[0m\u001b[0;34m\u001b[0m\u001b[0m\n",
      "\u001b[0;32m~/Mis_aplicaciones/anaconda3/lib/python3.9/site-packages/sympy/solvers/solveset.py\u001b[0m in \u001b[0;36mlinear_eq_to_matrix\u001b[0;34m(equations, *symbols)\u001b[0m\n\u001b[1;32m   2585\u001b[0m             \u001b[0mf\u001b[0m \u001b[0;34m=\u001b[0m \u001b[0mf\u001b[0m\u001b[0;34m.\u001b[0m\u001b[0mrewrite\u001b[0m\u001b[0;34m(\u001b[0m\u001b[0mAdd\u001b[0m\u001b[0;34m,\u001b[0m \u001b[0mevaluate\u001b[0m\u001b[0;34m=\u001b[0m\u001b[0;32mFalse\u001b[0m\u001b[0;34m)\u001b[0m\u001b[0;34m\u001b[0m\u001b[0;34m\u001b[0m\u001b[0m\n\u001b[1;32m   2586\u001b[0m         \u001b[0mcoeff_list\u001b[0m \u001b[0;34m=\u001b[0m \u001b[0mlinear_coeffs\u001b[0m\u001b[0;34m(\u001b[0m\u001b[0mf\u001b[0m\u001b[0;34m,\u001b[0m \u001b[0;34m*\u001b[0m\u001b[0msymbols\u001b[0m\u001b[0;34m)\u001b[0m\u001b[0;34m\u001b[0m\u001b[0;34m\u001b[0m\u001b[0m\n\u001b[0;32m-> 2587\u001b[0;31m         \u001b[0mb\u001b[0m\u001b[0;34m.\u001b[0m\u001b[0mappend\u001b[0m\u001b[0;34m(\u001b[0m\u001b[0;34m-\u001b[0m\u001b[0mcoeff_list\u001b[0m\u001b[0;34m.\u001b[0m\u001b[0mpop\u001b[0m\u001b[0;34m(\u001b[0m\u001b[0;34m)\u001b[0m\u001b[0;34m)\u001b[0m\u001b[0;34m\u001b[0m\u001b[0;34m\u001b[0m\u001b[0m\n\u001b[0m\u001b[1;32m   2588\u001b[0m         \u001b[0mA\u001b[0m\u001b[0;34m.\u001b[0m\u001b[0mappend\u001b[0m\u001b[0;34m(\u001b[0m\u001b[0mcoeff_list\u001b[0m\u001b[0;34m)\u001b[0m\u001b[0;34m\u001b[0m\u001b[0;34m\u001b[0m\u001b[0m\n\u001b[1;32m   2589\u001b[0m     \u001b[0mA\u001b[0m\u001b[0;34m,\u001b[0m \u001b[0mb\u001b[0m \u001b[0;34m=\u001b[0m \u001b[0mmap\u001b[0m\u001b[0;34m(\u001b[0m\u001b[0mMatrix\u001b[0m\u001b[0;34m,\u001b[0m \u001b[0;34m(\u001b[0m\u001b[0mA\u001b[0m\u001b[0;34m,\u001b[0m \u001b[0mb\u001b[0m\u001b[0;34m)\u001b[0m\u001b[0;34m)\u001b[0m\u001b[0;34m\u001b[0m\u001b[0;34m\u001b[0m\u001b[0m\n",
      "\u001b[0;31mTypeError\u001b[0m: bad operand type for unary -: 'BooleanFalse'"
     ]
    }
   ],
   "source": [
    "# p14.e4bis\n",
    "\n",
    "sistemas = [\n",
    "#         [[Eq(-3*x+2*y+3*z,-2),Eq(2*x+k*y-5*z,-4),Eq(x+y+2*z,2)],k],\n",
    "#         [[Eq(x + y + z , k + 2),Eq(x - k*y + z , 1),Eq(k*x + y + z , 4)],k],\n",
    "#         [[Eq(x-2*y+z,3),Eq(y+2*z,0),Eq(3*y+7*z,m)],m],\n",
    "\n",
    "\n",
    "#         [[Eq(k*x+(k**2+1)*y+k*z,k),Eq(x+k*y+z,0),Eq(x+(k+1)*y+k**2*z,2*k-1)],k],\n",
    "#     [[Eq(m*x + m*z + y*(m**2 + 1), m), Eq(m*y + x + z, 0), Eq(m**2*z + x + y*(m + 1), 2*m - 1)],m],\n",
    "#            [[Eq(k*x + y + z , k),Eq(x + k*y + z , k), Eq(x + y + k*z , k)],k],\n",
    "    #     [[Eq(x-2*y+3*z,-3),Eq(2*x+y,2), Eq(-x-8*y+9*z,3)],h],\n",
    "    \n",
    "    # Ejercicio de examen\n",
    "#     [[Eq(x+y+z,-2),Eq(-k*x+3*y+z,-7),Eq(x+2*y+(k+2)*z,-5)],k],\n",
    "    [[Eq(k*x+k*y+k**2*z,12),Eq(x-y+k*z,6),Eq(2*k*x-2*y+2*z,8)],k],\n",
    "\n",
    "    \n",
    "]\n",
    "\n",
    "for s in sistemas :\n",
    "    sist, par = s\n",
    "    print(\"===============================================================\")\n",
    "    sistema_parametro(sist,param=par)\n",
    "\n"
   ]
  },
  {
   "cell_type": "code",
   "execution_count": null,
   "metadata": {},
   "outputs": [],
   "source": [
    "sistema_solucion([Eq(k*x+k*y+k**2*z,12).subs(k,2),Eq(x-y+k*z,6).subs(k,2),Eq(2*k*x-2*y+2*z,8).subs(k,2)],[x,y,z])"
   ]
  },
  {
   "cell_type": "code",
   "execution_count": 13,
   "metadata": {},
   "outputs": [
    {
     "name": "stdout",
     "output_type": "stream",
     "text": [
      "===============================================================\n",
      "Discusión y resolución del sistema:\n"
     ]
    },
    {
     "data": {
      "text/latex": [
       "$\\left\\{ \\begin{matrix}2 x - 5 y + 3 z = 0 \\\\ x - y + z = 0 \\\\ m y + 3 x + z = 0 \\\\ \\end{matrix}\\right.$"
      ]
     },
     "metadata": {},
     "output_type": "display_data"
    },
    {
     "name": "stdout",
     "output_type": "stream",
     "text": [
      "-----------------------------------------------------------\n"
     ]
    },
    {
     "data": {
      "text/latex": [
       "$|A|=\\left|\\begin{matrix}2 & -5 & 3\\\\1 & -1 & 1\\\\3 & m & 1\\end{matrix}\\right|=m - 3$"
      ]
     },
     "metadata": {},
     "output_type": "display_data"
    },
    {
     "data": {
      "text/latex": [
       "* Si $m \\neq 3\\to |A| \\neq 0 \\to \\exists A^{-1}$."
      ]
     },
     "metadata": {},
     "output_type": "display_data"
    },
    {
     "data": {
      "text/latex": [
       "Como $rg(A)=rg(A^*)=3$ --> S.C. (El sistema tiene solución)"
      ]
     },
     "metadata": {},
     "output_type": "display_data"
    },
    {
     "data": {
      "text/latex": [
       "Como además $rg(A)=3$ coincide con el número de incógnitas --> S.C.D -- > Se puede resolver por Gauss, Matriz inversa o Cramer"
      ]
     },
     "metadata": {},
     "output_type": "display_data"
    },
    {
     "name": "stdout",
     "output_type": "stream",
     "text": [
      "**Resolución por Gauss**\n",
      "- - - - - - - - - - - -\n"
     ]
    },
    {
     "data": {
      "text/latex": [
       "$A^*=\\left(\\begin{matrix}2 & -5 & 3 & 0\\\\1 & -1 & 1 & 0\\\\3 & m & 1 & 0\\end{matrix}\\right)\\sim\\left(\\begin{matrix}2 & -5 & 3 & 0\\\\0 & \\frac{3}{2} & - \\frac{1}{2} & 0\\\\0 & 0 & \\frac{m}{3} - 1 & 0\\end{matrix}\\right)\\to x=0, y=0, z=0$"
      ]
     },
     "metadata": {},
     "output_type": "display_data"
    },
    {
     "name": "stdout",
     "output_type": "stream",
     "text": [
      "**Método de la matríz inversa**\n",
      "- - - - - - - - - - - - - - - \n"
     ]
    },
    {
     "data": {
      "text/latex": [
       "$A^{-1}=\\left(\\begin{matrix}\\frac{- m - 1}{m - 3} & \\frac{3 m + 5}{m - 3} & - \\frac{24}{12 m - 36}\\\\\\frac{12}{6 m - 18} & - \\frac{42}{6 m - 18} & \\frac{6}{6 m - 18}\\\\\\frac{m + 3}{m - 3} & \\frac{- 2 m - 15}{m - 3} & \\frac{6}{2 m - 6}\\end{matrix}\\right) \\to  X=A^{-1}\\cdot b =\\left(\\begin{matrix}\\frac{- m - 1}{m - 3} & \\frac{3 m + 5}{m - 3} & - \\frac{24}{12 m - 36}\\\\\\frac{12}{6 m - 18} & - \\frac{42}{6 m - 18} & \\frac{6}{6 m - 18}\\\\\\frac{m + 3}{m - 3} & \\frac{- 2 m - 15}{m - 3} & \\frac{6}{2 m - 6}\\end{matrix}\\right)\\cdot \\left(\\begin{matrix}0\\\\0\\\\0\\end{matrix}\\right) =\\left(\\begin{matrix}0\\\\0\\\\0\\end{matrix}\\right)$"
      ]
     },
     "metadata": {},
     "output_type": "display_data"
    },
    {
     "name": "stdout",
     "output_type": "stream",
     "text": [
      "**Por Cramer**\n",
      "- - - - - - - -\n"
     ]
    },
    {
     "data": {
      "text/latex": [
       "$x=\\frac{\\left|\\begin{matrix}0 & -5 & 3\\\\0 & -1 & 1\\\\0 & m & 1\\end{matrix}\\right|}{m - 3}=\\frac{0}{m - 3}=0$"
      ]
     },
     "metadata": {},
     "output_type": "display_data"
    },
    {
     "data": {
      "text/latex": [
       "$y=\\frac{\\left|\\begin{matrix}2 & 0 & 3\\\\1 & 0 & 1\\\\3 & 0 & 1\\end{matrix}\\right|}{m - 3}=\\frac{0}{m - 3}=0$"
      ]
     },
     "metadata": {},
     "output_type": "display_data"
    },
    {
     "data": {
      "text/latex": [
       "$z=\\frac{\\left|\\begin{matrix}2 & -5 & 0\\\\1 & -1 & 0\\\\3 & m & 0\\end{matrix}\\right|}{m - 3}=\\frac{0}{m - 3}=0$"
      ]
     },
     "metadata": {},
     "output_type": "display_data"
    },
    {
     "data": {
      "text/latex": [
       "* Si $m=3\\to |A| = 0 \\to \\nexists A^{-1}$"
      ]
     },
     "metadata": {},
     "output_type": "display_data"
    },
    {
     "data": {
      "text/latex": [
       "Como $rg(A)=rg(A^*)=2$ --> S.C. (El sistema tiene solución)"
      ]
     },
     "metadata": {},
     "output_type": "display_data"
    },
    {
     "data": {
      "text/latex": [
       "Como además $rg(A)=2$ no coincide con el número de incógnitas--> S.C.I --> Solo se puede resolver por Gauss"
      ]
     },
     "metadata": {},
     "output_type": "display_data"
    },
    {
     "name": "stdout",
     "output_type": "stream",
     "text": [
      "**Resolución por Gauss**\n",
      "- - - - - - - - - - - -\n"
     ]
    },
    {
     "data": {
      "text/latex": [
       "$A^*=\\left(\\begin{matrix}2 & -5 & 3 & 0\\\\1 & -1 & 1 & 0\\\\3 & 3 & 1 & 0\\end{matrix}\\right)\\sim\\left(\\begin{matrix}2 & -5 & 3 & 0\\\\0 & \\frac{3}{2} & - \\frac{1}{2} & 0\\\\0 & 0 & 0 & 0\\end{matrix}\\right)\\to x=- \\frac{2 \\lambda}{3}, y=\\frac{\\lambda}{3}, z=\\lambda$"
      ]
     },
     "metadata": {},
     "output_type": "display_data"
    },
    {
     "name": "stdout",
     "output_type": "stream",
     "text": [
      "===============================================================\n",
      "Discusión y resolución del sistema:\n"
     ]
    },
    {
     "data": {
      "text/latex": [
       "$\\left\\{ \\begin{matrix}m y + x - z = 0 \\\\ 12 x - 3 y - 2 z = 0 \\\\ x - 2 y + z = 0 \\\\ \\end{matrix}\\right.$"
      ]
     },
     "metadata": {},
     "output_type": "display_data"
    },
    {
     "name": "stdout",
     "output_type": "stream",
     "text": [
      "-----------------------------------------------------------\n"
     ]
    },
    {
     "data": {
      "text/latex": [
       "$|A|=\\left|\\begin{matrix}1 & m & -1\\\\12 & -3 & -2\\\\1 & -2 & 1\\end{matrix}\\right|=- 14 \\left(m - 1\\right)$"
      ]
     },
     "metadata": {},
     "output_type": "display_data"
    },
    {
     "data": {
      "text/latex": [
       "* Si $m \\neq 1\\to |A| \\neq 0 \\to \\exists A^{-1}$."
      ]
     },
     "metadata": {},
     "output_type": "display_data"
    },
    {
     "data": {
      "text/latex": [
       "Como $rg(A)=rg(A^*)=3$ --> S.C. (El sistema tiene solución)"
      ]
     },
     "metadata": {},
     "output_type": "display_data"
    },
    {
     "data": {
      "text/latex": [
       "Como además $rg(A)=3$ coincide con el número de incógnitas --> S.C.D -- > Se puede resolver por Gauss, Matriz inversa o Cramer"
      ]
     },
     "metadata": {},
     "output_type": "display_data"
    },
    {
     "name": "stdout",
     "output_type": "stream",
     "text": [
      "**Resolución por Gauss**\n",
      "- - - - - - - - - - - -\n"
     ]
    },
    {
     "data": {
      "text/latex": [
       "$A^*=\\left(\\begin{matrix}1 & m & -1 & 0\\\\12 & -3 & -2 & 0\\\\1 & -2 & 1 & 0\\end{matrix}\\right)\\sim\\left(\\begin{matrix}1 & m & -1 & 0\\\\0 & - 12 m - 3 & 10 & 0\\\\0 & 0 & \\frac{14 \\left(m - 1\\right)}{3 \\cdot \\left(4 m + 1\\right)} & 0\\end{matrix}\\right)\\to x=0, y=0, z=0$"
      ]
     },
     "metadata": {},
     "output_type": "display_data"
    },
    {
     "name": "stdout",
     "output_type": "stream",
     "text": [
      "**Método de la matríz inversa**\n",
      "- - - - - - - - - - - - - - - \n"
     ]
    },
    {
     "data": {
      "text/latex": [
       "$A^{-1}=\\left(\\begin{matrix}\\frac{1}{2 m - 2} & \\frac{m - 2}{14 m - 14} & \\frac{2 m + 3}{14 m - 14}\\\\\\frac{1}{m - 1} & - \\frac{1}{7 m - 7} & \\frac{5}{7 m - 7}\\\\- \\frac{21}{14 - 14 m} & \\frac{- m - 2}{14 m - 14} & \\frac{12 m + 3}{14 m - 14}\\end{matrix}\\right) \\to  X=A^{-1}\\cdot b =\\left(\\begin{matrix}\\frac{1}{2 m - 2} & \\frac{m - 2}{14 m - 14} & \\frac{2 m + 3}{14 m - 14}\\\\\\frac{1}{m - 1} & - \\frac{1}{7 m - 7} & \\frac{5}{7 m - 7}\\\\- \\frac{21}{14 - 14 m} & \\frac{- m - 2}{14 m - 14} & \\frac{12 m + 3}{14 m - 14}\\end{matrix}\\right)\\cdot \\left(\\begin{matrix}0\\\\0\\\\0\\end{matrix}\\right) =\\left(\\begin{matrix}0\\\\0\\\\0\\end{matrix}\\right)$"
      ]
     },
     "metadata": {},
     "output_type": "display_data"
    },
    {
     "name": "stdout",
     "output_type": "stream",
     "text": [
      "**Por Cramer**\n",
      "- - - - - - - -\n"
     ]
    },
    {
     "data": {
      "text/latex": [
       "$x=\\frac{\\left|\\begin{matrix}0 & m & -1\\\\0 & -3 & -2\\\\0 & -2 & 1\\end{matrix}\\right|}{14 - 14 m}=\\frac{0}{14 - 14 m}=0$"
      ]
     },
     "metadata": {},
     "output_type": "display_data"
    },
    {
     "data": {
      "text/latex": [
       "$y=\\frac{\\left|\\begin{matrix}1 & 0 & -1\\\\12 & 0 & -2\\\\1 & 0 & 1\\end{matrix}\\right|}{14 - 14 m}=\\frac{0}{14 - 14 m}=0$"
      ]
     },
     "metadata": {},
     "output_type": "display_data"
    },
    {
     "data": {
      "text/latex": [
       "$z=\\frac{\\left|\\begin{matrix}1 & m & 0\\\\12 & -3 & 0\\\\1 & -2 & 0\\end{matrix}\\right|}{14 - 14 m}=\\frac{0}{14 - 14 m}=0$"
      ]
     },
     "metadata": {},
     "output_type": "display_data"
    },
    {
     "data": {
      "text/latex": [
       "* Si $m=1\\to |A| = 0 \\to \\nexists A^{-1}$"
      ]
     },
     "metadata": {},
     "output_type": "display_data"
    },
    {
     "data": {
      "text/latex": [
       "Como $rg(A)=rg(A^*)=2$ --> S.C. (El sistema tiene solución)"
      ]
     },
     "metadata": {},
     "output_type": "display_data"
    },
    {
     "data": {
      "text/latex": [
       "Como además $rg(A)=2$ no coincide con el número de incógnitas--> S.C.I --> Solo se puede resolver por Gauss"
      ]
     },
     "metadata": {},
     "output_type": "display_data"
    },
    {
     "name": "stdout",
     "output_type": "stream",
     "text": [
      "**Resolución por Gauss**\n",
      "- - - - - - - - - - - -\n"
     ]
    },
    {
     "data": {
      "text/latex": [
       "$A^*=\\left(\\begin{matrix}1 & 1 & -1 & 0\\\\12 & -3 & -2 & 0\\\\1 & -2 & 1 & 0\\end{matrix}\\right)\\sim\\left(\\begin{matrix}1 & 1 & -1 & 0\\\\0 & -15 & 10 & 0\\\\0 & 0 & 0 & 0\\end{matrix}\\right)\\to x=\\frac{\\lambda}{3}, y=\\frac{2 \\lambda}{3}, z=\\lambda$"
      ]
     },
     "metadata": {},
     "output_type": "display_data"
    },
    {
     "name": "stdout",
     "output_type": "stream",
     "text": [
      "===============================================================\n",
      "Discusión y resolución del sistema:\n"
     ]
    },
    {
     "data": {
      "text/latex": [
       "$\\left\\{ \\begin{matrix}x + y + 2 z = 0 \\\\ m x + y - z = m - 2 \\\\ m y + 3 x + z = m - 2 \\\\ \\end{matrix}\\right.$"
      ]
     },
     "metadata": {},
     "output_type": "display_data"
    },
    {
     "name": "stdout",
     "output_type": "stream",
     "text": [
      "-----------------------------------------------------------\n"
     ]
    },
    {
     "data": {
      "text/latex": [
       "$|A|=\\left|\\begin{matrix}1 & 1 & 2\\\\m & 1 & -1\\\\3 & m & 1\\end{matrix}\\right|=2 \\left(m - 2\\right) \\left(m + 2\\right)$"
      ]
     },
     "metadata": {},
     "output_type": "display_data"
    },
    {
     "data": {
      "text/latex": [
       "* Si $m \\neq -2, 2\\to |A| \\neq 0 \\to \\exists A^{-1}$."
      ]
     },
     "metadata": {},
     "output_type": "display_data"
    },
    {
     "data": {
      "text/latex": [
       "Como $rg(A)=rg(A^*)=3$ --> S.C. (El sistema tiene solución)"
      ]
     },
     "metadata": {},
     "output_type": "display_data"
    },
    {
     "data": {
      "text/latex": [
       "Como además $rg(A)=3$ coincide con el número de incógnitas --> S.C.D -- > Se puede resolver por Gauss, Matriz inversa o Cramer"
      ]
     },
     "metadata": {},
     "output_type": "display_data"
    },
    {
     "name": "stdout",
     "output_type": "stream",
     "text": [
      "**Resolución por Gauss**\n",
      "- - - - - - - - - - - -\n"
     ]
    },
    {
     "data": {
      "text/latex": [
       "$A^*=\\left(\\begin{matrix}1 & 1 & 2 & 0\\\\m & 1 & -1 & m - 2\\\\3 & m & 1 & m - 2\\end{matrix}\\right)\\sim\\left(\\begin{matrix}1 & 1 & 2 & 0\\\\0 & 1 - m & - 2 m - 1 & m - 2\\\\0 & 0 & \\frac{2 \\cdot \\left(4 - m^{2}\\right)}{m - 1} & \\frac{2 \\left(m - 2\\right)^{2}}{m - 1}\\end{matrix}\\right)\\to x=\\frac{m - 2}{m + 2}, y=\\frac{m - 2}{m + 2}, z=\\frac{2 - m}{m + 2}$"
      ]
     },
     "metadata": {},
     "output_type": "display_data"
    },
    {
     "name": "stdout",
     "output_type": "stream",
     "text": [
      "**Método de la matríz inversa**\n",
      "- - - - - - - - - - - - - - - \n"
     ]
    },
    {
     "data": {
      "text/latex": [
       "$A^{-1}=\\left(\\begin{matrix}\\frac{m + 1}{2 m^{2} - 8} & \\frac{2 m - 1}{2 m^{2} - 8} & - \\frac{3}{2 m^{2} - 8}\\\\\\frac{- m - 3}{2 m^{2} - 8} & - \\frac{5}{2 m^{2} - 8} & \\frac{2 m + 1}{2 m^{2} - 8}\\\\\\frac{m^{2} - 3}{2 m^{2} - 8} & \\frac{3 - m}{2 m^{2} - 8} & \\frac{1 - m}{2 m^{2} - 8}\\end{matrix}\\right) \\to  X=A^{-1}\\cdot b =\\left(\\begin{matrix}\\frac{m + 1}{2 m^{2} - 8} & \\frac{2 m - 1}{2 m^{2} - 8} & - \\frac{3}{2 m^{2} - 8}\\\\\\frac{- m - 3}{2 m^{2} - 8} & - \\frac{5}{2 m^{2} - 8} & \\frac{2 m + 1}{2 m^{2} - 8}\\\\\\frac{m^{2} - 3}{2 m^{2} - 8} & \\frac{3 - m}{2 m^{2} - 8} & \\frac{1 - m}{2 m^{2} - 8}\\end{matrix}\\right)\\cdot \\left(\\begin{matrix}0\\\\m - 2\\\\m - 2\\end{matrix}\\right) =\\left(\\begin{matrix}\\frac{m - 2}{m + 2}\\\\\\frac{m - 2}{m + 2}\\\\\\frac{2 - m}{m + 2}\\end{matrix}\\right)$"
      ]
     },
     "metadata": {},
     "output_type": "display_data"
    },
    {
     "name": "stdout",
     "output_type": "stream",
     "text": [
      "**Por Cramer**\n",
      "- - - - - - - -\n"
     ]
    },
    {
     "data": {
      "text/latex": [
       "$x=\\frac{\\left|\\begin{matrix}0 & 1 & 2\\\\m - 2 & 1 & -1\\\\m - 2 & m & 1\\end{matrix}\\right|}{2 m^{2} - 8}=\\frac{2 m^{2} - 8 m + 8}{2 m^{2} - 8}=\\frac{2 m^{2} - 8 m + 8}{2 m^{2} - 8}$"
      ]
     },
     "metadata": {},
     "output_type": "display_data"
    },
    {
     "data": {
      "text/latex": [
       "$y=\\frac{\\left|\\begin{matrix}1 & 0 & 2\\\\m & m - 2 & -1\\\\3 & m - 2 & 1\\end{matrix}\\right|}{2 m^{2} - 8}=\\frac{2 m^{2} - 8 m + 8}{2 m^{2} - 8}=\\frac{2 m^{2} - 8 m + 8}{2 m^{2} - 8}$"
      ]
     },
     "metadata": {},
     "output_type": "display_data"
    },
    {
     "data": {
      "text/latex": [
       "$z=\\frac{\\left|\\begin{matrix}1 & 1 & 0\\\\m & 1 & m - 2\\\\3 & m & m - 2\\end{matrix}\\right|}{2 m^{2} - 8}=\\frac{- 2 m^{2} + 8 m - 8}{2 m^{2} - 8}=\\frac{- 2 m^{2} + 8 m - 8}{2 m^{2} - 8}$"
      ]
     },
     "metadata": {},
     "output_type": "display_data"
    },
    {
     "data": {
      "text/latex": [
       "* Si $m=-2\\to |A| = 0 \\to \\nexists A^{-1}$"
      ]
     },
     "metadata": {},
     "output_type": "display_data"
    },
    {
     "data": {
      "text/latex": [
       "Como $rg(A)=2 \\land rg(A^*)=3$ --> S.I. . Observa que escalonando la matriz ampliada obtenemos $A^*=\\left(\\begin{matrix}1 & 1 & 2 & 0\\\\-2 & 1 & -1 & -4\\\\3 & -2 & 1 & -4\\end{matrix}\\right)\\sim\\left(\\begin{matrix}1 & 1 & 2 & 0\\\\0 & 3 & 3 & -4\\\\0 & 0 & 0 & - \\frac{32}{3}\\end{matrix}\\right)$"
      ]
     },
     "metadata": {},
     "output_type": "display_data"
    },
    {
     "data": {
      "text/latex": [
       "* Si $m=2\\to |A| = 0 \\to \\nexists A^{-1}$"
      ]
     },
     "metadata": {},
     "output_type": "display_data"
    },
    {
     "data": {
      "text/latex": [
       "Como $rg(A)=rg(A^*)=2$ --> S.C. (El sistema tiene solución)"
      ]
     },
     "metadata": {},
     "output_type": "display_data"
    },
    {
     "data": {
      "text/latex": [
       "Como además $rg(A)=2$ no coincide con el número de incógnitas--> S.C.I --> Solo se puede resolver por Gauss"
      ]
     },
     "metadata": {},
     "output_type": "display_data"
    },
    {
     "name": "stdout",
     "output_type": "stream",
     "text": [
      "**Resolución por Gauss**\n",
      "- - - - - - - - - - - -\n"
     ]
    },
    {
     "data": {
      "text/latex": [
       "$A^*=\\left(\\begin{matrix}1 & 1 & 2 & 0\\\\2 & 1 & -1 & 0\\\\3 & 2 & 1 & 0\\end{matrix}\\right)\\sim\\left(\\begin{matrix}1 & 1 & 2 & 0\\\\0 & -1 & -5 & 0\\\\0 & 0 & 0 & 0\\end{matrix}\\right)\\to x=3 \\lambda, y=- 5 \\lambda, z=\\lambda$"
      ]
     },
     "metadata": {},
     "output_type": "display_data"
    },
    {
     "name": "stdout",
     "output_type": "stream",
     "text": [
      "===============================================================\n",
      "Discusión y resolución del sistema:\n"
     ]
    },
    {
     "data": {
      "text/latex": [
       "$\\left\\{ \\begin{matrix}x - 2 y + z = 1 \\\\ m x + y - z = 1 \\\\ 3 x + 4 y - 2 z = -3 \\\\ \\end{matrix}\\right.$"
      ]
     },
     "metadata": {},
     "output_type": "display_data"
    },
    {
     "name": "stdout",
     "output_type": "stream",
     "text": [
      "-----------------------------------------------------------\n"
     ]
    },
    {
     "data": {
      "text/latex": [
       "$|A|=\\left|\\begin{matrix}1 & -2 & 1\\\\m & 1 & -1\\\\3 & 4 & -2\\end{matrix}\\right|=5$"
      ]
     },
     "metadata": {},
     "output_type": "display_data"
    },
    {
     "data": {
      "text/latex": [
       "* Si $m \\neq \\to |A| \\neq 0 \\to \\exists A^{-1}$."
      ]
     },
     "metadata": {},
     "output_type": "display_data"
    },
    {
     "data": {
      "text/latex": [
       "Como $rg(A)=rg(A^*)=3$ --> S.C. (El sistema tiene solución)"
      ]
     },
     "metadata": {},
     "output_type": "display_data"
    },
    {
     "data": {
      "text/latex": [
       "Como además $rg(A)=3$ coincide con el número de incógnitas --> S.C.D -- > Se puede resolver por Gauss, Matriz inversa o Cramer"
      ]
     },
     "metadata": {},
     "output_type": "display_data"
    },
    {
     "name": "stdout",
     "output_type": "stream",
     "text": [
      "**Resolución por Gauss**\n",
      "- - - - - - - - - - - -\n"
     ]
    },
    {
     "data": {
      "text/latex": [
       "$A^*=\\left(\\begin{matrix}1 & -2 & 1 & 1\\\\m & 1 & -1 & 1\\\\3 & 4 & -2 & -3\\end{matrix}\\right)\\sim\\left(\\begin{matrix}1 & -2 & 1 & 1\\\\0 & 2 m + 1 & - m - 1 & 1 - m\\\\0 & 0 & \\frac{5}{2 m + 1} & \\frac{2 \\left(- m - 8\\right)}{2 m + 1}\\end{matrix}\\right)\\to x=- \\frac{1}{5}, y=- \\frac{m}{5} - \\frac{11}{5}, z=- \\frac{2 m}{5} - \\frac{16}{5}$"
      ]
     },
     "metadata": {},
     "output_type": "display_data"
    },
    {
     "name": "stdout",
     "output_type": "stream",
     "text": [
      "**Método de la matríz inversa**\n",
      "- - - - - - - - - - - - - - - \n"
     ]
    },
    {
     "data": {
      "text/latex": [
       "$A^{-1}=\\left(\\begin{matrix}\\frac{2}{5} & 0 & \\frac{1}{5}\\\\\\frac{2 m}{5} - \\frac{3}{5} & -1 & \\frac{m}{5} + \\frac{1}{5}\\\\\\frac{4 m}{5} - \\frac{3}{5} & -2 & \\frac{2 m}{5} + \\frac{1}{5}\\end{matrix}\\right) \\to  X=A^{-1}\\cdot b =\\left(\\begin{matrix}\\frac{2}{5} & 0 & \\frac{1}{5}\\\\\\frac{2 m}{5} - \\frac{3}{5} & -1 & \\frac{m}{5} + \\frac{1}{5}\\\\\\frac{4 m}{5} - \\frac{3}{5} & -2 & \\frac{2 m}{5} + \\frac{1}{5}\\end{matrix}\\right)\\cdot \\left(\\begin{matrix}1\\\\1\\\\-3\\end{matrix}\\right) =\\left(\\begin{matrix}- \\frac{1}{5}\\\\- \\frac{m}{5} - \\frac{11}{5}\\\\- \\frac{2 m}{5} - \\frac{16}{5}\\end{matrix}\\right)$"
      ]
     },
     "metadata": {},
     "output_type": "display_data"
    },
    {
     "name": "stdout",
     "output_type": "stream",
     "text": [
      "**Por Cramer**\n",
      "- - - - - - - -\n"
     ]
    },
    {
     "data": {
      "text/latex": [
       "$x=\\frac{\\left|\\begin{matrix}1 & -2 & 1\\\\1 & 1 & -1\\\\-3 & 4 & -2\\end{matrix}\\right|}{5}=\\frac{-1}{5}=- \\frac{1}{5}$"
      ]
     },
     "metadata": {},
     "output_type": "display_data"
    },
    {
     "data": {
      "text/latex": [
       "$y=\\frac{\\left|\\begin{matrix}1 & 1 & 1\\\\m & 1 & -1\\\\3 & -3 & -2\\end{matrix}\\right|}{5}=\\frac{- m - 11}{5}=- \\frac{m}{5} - \\frac{11}{5}$"
      ]
     },
     "metadata": {},
     "output_type": "display_data"
    },
    {
     "data": {
      "text/latex": [
       "$z=\\frac{\\left|\\begin{matrix}1 & -2 & 1\\\\m & 1 & 1\\\\3 & 4 & -3\\end{matrix}\\right|}{5}=\\frac{- 2 m - 16}{5}=- \\frac{2 m}{5} - \\frac{16}{5}$"
      ]
     },
     "metadata": {},
     "output_type": "display_data"
    },
    {
     "name": "stdout",
     "output_type": "stream",
     "text": [
      "===============================================================\n",
      "Discusión y resolución del sistema:\n"
     ]
    },
    {
     "data": {
      "text/latex": [
       "$\\left\\{ \\begin{matrix}2 x - 3 y + z = 0 \\\\ - k y + x - 3 z = 0 \\\\ 5 x + 2 y - z = 0 \\\\ \\end{matrix}\\right.$"
      ]
     },
     "metadata": {},
     "output_type": "display_data"
    },
    {
     "name": "stdout",
     "output_type": "stream",
     "text": [
      "-----------------------------------------------------------\n"
     ]
    },
    {
     "data": {
      "text/latex": [
       "$|A|=\\left|\\begin{matrix}2 & -3 & 1\\\\1 & - k & -3\\\\5 & 2 & -1\\end{matrix}\\right|=7 \\left(k + 8\\right)$"
      ]
     },
     "metadata": {},
     "output_type": "display_data"
    },
    {
     "data": {
      "text/latex": [
       "* Si $k \\neq -8\\to |A| \\neq 0 \\to \\exists A^{-1}$."
      ]
     },
     "metadata": {},
     "output_type": "display_data"
    },
    {
     "data": {
      "text/latex": [
       "Como $rg(A)=rg(A^*)=3$ --> S.C. (El sistema tiene solución)"
      ]
     },
     "metadata": {},
     "output_type": "display_data"
    },
    {
     "data": {
      "text/latex": [
       "Como además $rg(A)=3$ coincide con el número de incógnitas --> S.C.D -- > Se puede resolver por Gauss, Matriz inversa o Cramer"
      ]
     },
     "metadata": {},
     "output_type": "display_data"
    },
    {
     "name": "stdout",
     "output_type": "stream",
     "text": [
      "**Resolución por Gauss**\n",
      "- - - - - - - - - - - -\n"
     ]
    },
    {
     "data": {
      "text/latex": [
       "$A^*=\\left(\\begin{matrix}2 & -3 & 1 & 0\\\\1 & - k & -3 & 0\\\\5 & 2 & -1 & 0\\end{matrix}\\right)\\sim\\left(\\begin{matrix}2 & -3 & 1 & 0\\\\0 & \\frac{3}{2} - k & - \\frac{7}{2} & 0\\\\0 & 0 & \\frac{7 \\left(- k - 8\\right)}{2 k - 3} & 0\\end{matrix}\\right)\\to x=0, y=0, z=0$"
      ]
     },
     "metadata": {},
     "output_type": "display_data"
    },
    {
     "name": "stdout",
     "output_type": "stream",
     "text": [
      "**Método de la matríz inversa**\n",
      "- - - - - - - - - - - - - - - \n"
     ]
    },
    {
     "data": {
      "text/latex": [
       "$A^{-1}=\\left(\\begin{matrix}\\frac{k + 6}{7 k + 56} & - \\frac{1}{7 k + 56} & \\frac{k + 9}{7 k + 56}\\\\- \\frac{2}{k + 8} & - \\frac{1}{k + 8} & \\frac{1}{k + 8}\\\\\\frac{5 k + 2}{7 k + 56} & - \\frac{38}{14 k + 112} & \\frac{3 - 2 k}{7 k + 56}\\end{matrix}\\right) \\to  X=A^{-1}\\cdot b =\\left(\\begin{matrix}\\frac{k + 6}{7 k + 56} & - \\frac{1}{7 k + 56} & \\frac{k + 9}{7 k + 56}\\\\- \\frac{2}{k + 8} & - \\frac{1}{k + 8} & \\frac{1}{k + 8}\\\\\\frac{5 k + 2}{7 k + 56} & - \\frac{38}{14 k + 112} & \\frac{3 - 2 k}{7 k + 56}\\end{matrix}\\right)\\cdot \\left(\\begin{matrix}0\\\\0\\\\0\\end{matrix}\\right) =\\left(\\begin{matrix}0\\\\0\\\\0\\end{matrix}\\right)$"
      ]
     },
     "metadata": {},
     "output_type": "display_data"
    },
    {
     "name": "stdout",
     "output_type": "stream",
     "text": [
      "**Por Cramer**\n",
      "- - - - - - - -\n"
     ]
    },
    {
     "data": {
      "text/latex": [
       "$x=\\frac{\\left|\\begin{matrix}0 & -3 & 1\\\\0 & - k & -3\\\\0 & 2 & -1\\end{matrix}\\right|}{7 k + 56}=\\frac{0}{7 k + 56}=0$"
      ]
     },
     "metadata": {},
     "output_type": "display_data"
    },
    {
     "data": {
      "text/latex": [
       "$y=\\frac{\\left|\\begin{matrix}2 & 0 & 1\\\\1 & 0 & -3\\\\5 & 0 & -1\\end{matrix}\\right|}{7 k + 56}=\\frac{0}{7 k + 56}=0$"
      ]
     },
     "metadata": {},
     "output_type": "display_data"
    },
    {
     "data": {
      "text/latex": [
       "$z=\\frac{\\left|\\begin{matrix}2 & -3 & 0\\\\1 & - k & 0\\\\5 & 2 & 0\\end{matrix}\\right|}{7 k + 56}=\\frac{0}{7 k + 56}=0$"
      ]
     },
     "metadata": {},
     "output_type": "display_data"
    },
    {
     "data": {
      "text/latex": [
       "* Si $k=-8\\to |A| = 0 \\to \\nexists A^{-1}$"
      ]
     },
     "metadata": {},
     "output_type": "display_data"
    },
    {
     "data": {
      "text/latex": [
       "Como $rg(A)=rg(A^*)=2$ --> S.C. (El sistema tiene solución)"
      ]
     },
     "metadata": {},
     "output_type": "display_data"
    },
    {
     "data": {
      "text/latex": [
       "Como además $rg(A)=2$ no coincide con el número de incógnitas--> S.C.I --> Solo se puede resolver por Gauss"
      ]
     },
     "metadata": {},
     "output_type": "display_data"
    },
    {
     "name": "stdout",
     "output_type": "stream",
     "text": [
      "**Resolución por Gauss**\n",
      "- - - - - - - - - - - -\n"
     ]
    },
    {
     "data": {
      "text/latex": [
       "$A^*=\\left(\\begin{matrix}2 & -3 & 1 & 0\\\\1 & 8 & -3 & 0\\\\5 & 2 & -1 & 0\\end{matrix}\\right)\\sim\\left(\\begin{matrix}2 & -3 & 1 & 0\\\\0 & \\frac{19}{2} & - \\frac{7}{2} & 0\\\\0 & 0 & 0 & 0\\end{matrix}\\right)\\to x=\\frac{\\lambda}{19}, y=\\frac{7 \\lambda}{19}, z=\\lambda$"
      ]
     },
     "metadata": {},
     "output_type": "display_data"
    }
   ],
   "source": [
    "# p14.e5\n",
    "\n",
    "sistemas = [\n",
    "            [[Eq(2*x - 5*y + 3*z , 0),Eq(x - y + z , 0),Eq(3*x + m*y + z , 0)],m],\n",
    "            [[Eq(x + m*y - z , 0),Eq(12*x - 3*y - 2*z , 0),Eq(x - 2*y + z , 0)],m],\n",
    "            [[Eq(x + y + 2*z , 0),Eq(m*x + y - z , m - 2), Eq(3*x + m*y + z , m - 2)],m],\n",
    "                [[Eq(x -2*y + z , 1),Eq(m*x + y - z , 1), Eq(3*x + 4*y - 2*z , -3 )],m],\n",
    "            [[Eq(2*x - 3*y + z , 0),Eq(x - k*y - 3*z , 0), Eq(5*x + 2*y - z , 0)],k],\n",
    "\n",
    "#         [[Eq(k*x+(k**2+1)*y+k*z,k),Eq(x+k*y+z,0),Eq(x+(k+1)*y+k**2*z,2*k-1)],k],\n",
    "#     [[Eq(m*x + m*z + y*(m**2 + 1), m), Eq(m*y + x + z, 0), Eq(m**2*z + x + y*(m + 1), 2*m - 1)],m],\n",
    "#            [[Eq(k*x + y + z , k),Eq(x + k*y + z , k), Eq(x + y + k*z , k)],k],\n",
    "    #     [[Eq(x-2*y+3*z,-3),Eq(2*x+y,2), Eq(-x-8*y+9*z,3)],h],\n",
    "]\n",
    "\n",
    "for s in sistemas :\n",
    "    sist, par = s\n",
    "    print(\"===============================================================\")\n",
    "    sistema_parametro(sist,param=par)\n",
    "\n"
   ]
  },
  {
   "cell_type": "code",
   "execution_count": null,
   "metadata": {},
   "outputs": [],
   "source": [
    "# Antiguo\n",
    "\n",
    "# p14.e5\n",
    "\n",
    "sistemas = [\n",
    "            [Eq(-3*x+2*y+3*z,-2),Eq(2*x+k*y-5*z,-4),Eq(x+y+2*z,2)],\n",
    "           [Eq(k*x + y + z , k),Eq(x + k*y + z , k), Eq(x + y + k*z , k)],\n",
    "            [Eq(x + y + z , k + 2),Eq(x - k*y + z , 1),Eq(k*x + y + z , 4)],\n",
    "            [Eq(k*x+(k**2+1)*y+k*z,k),Eq(x+k*y+z,0),Eq(x+(k+1)*y+k**2*z,2*k-1)],\n",
    "            [Eq(2*x - 5*y + 3*z , 0),Eq(x - y + z , 0),Eq(3*x + k*y + z , 0)],\n",
    "            [Eq(x + k*y - z , 0),Eq(12*x - 3*y - 2*z , 0),Eq(x - 2*y + z , 0)],\n",
    "            [Eq(x + y + 2*z , 0),Eq(k*x + y - z , k - 2), Eq(3*x + k*y + z , k - 2)],\n",
    "            [Eq(k*x+y,1),Eq(2*x+(k+1)*y,2),Eq(x+k*y,1)], \n",
    "            [Eq(y+k*z,1),Eq(k*x-y+z,1),Eq(y-z,-k)]\n",
    "            ]\n",
    "\n",
    "for sist in sistemas :\n",
    "    display_latex(\"$\"+sistema_a_latex(sist)+\"$\",raw=True)\n",
    "    print(discusion_solucion(sist)['solucion_latex'])\n",
    "\n"
   ]
  },
  {
   "cell_type": "code",
   "execution_count": 15,
   "metadata": {
    "colab": {
     "base_uri": "https://localhost:8080/",
     "height": 1000
    },
    "id": "UxCcmpuj2M5D",
    "outputId": "5efed7c1-619d-43e7-9b69-2956cc4ac0e6",
    "scrolled": false
   },
   "outputs": [
    {
     "name": "stdout",
     "output_type": "stream",
     "text": [
      "----------------------------------------------\n",
      "6. Una compañía aérea realiza vuelos a tres ciudades, A, B y C. Calcula el precio de los billetes a cada ciudad con\n",
      "la siguiente información. Si vende 10 billetes para ir a la ciudad A, 5 para B y ninguno para C, ingresa 925 euros;\n",
      "si vende 12 billetes para A, 8 para B y ninguno para C, ingresa 1200 euros; y si vende 6 billetes para A, 5 para B y\n",
      "8 para C, ingresa 861 euros.\n",
      "----------------------------------------------\n"
     ]
    },
    {
     "data": {
      "text/latex": [
       "$\\left\\{ \\begin{matrix}10 x + 5 y = 925 \\\\ 12 x + 8 y = 1200 \\\\ 6 x + 5 y + 8 z = 861 \\\\ \\end{matrix}\\right.$"
      ]
     },
     "metadata": {},
     "output_type": "display_data"
    },
    {
     "data": {
      "text/latex": [
       "Como $rg(A)=rg(A^*)=3$ --> S.C. (El sistema tiene solución)"
      ]
     },
     "metadata": {},
     "output_type": "display_data"
    },
    {
     "data": {
      "text/latex": [
       "Como además $rg(A)=3$ coincide con el número de incógnitas --> S.C.D -- > Se puede resolver por Gauss, Matriz inversa o Cramer"
      ]
     },
     "metadata": {},
     "output_type": "display_data"
    },
    {
     "name": "stdout",
     "output_type": "stream",
     "text": [
      "**Resolución por Gauss**\n",
      "- - - - - - - - - - - -\n"
     ]
    },
    {
     "data": {
      "text/latex": [
       "$A^*=\\left(\\begin{matrix}10 & 5 & 0 & 925\\\\12 & 8 & 0 & 1200\\\\6 & 5 & 8 & 861\\end{matrix}\\right)\\sim\\left(\\begin{matrix}10 & 5 & 0 & 925\\\\0 & 2 & 0 & 90\\\\0 & 0 & 8 & 216\\end{matrix}\\right)\\to x=70, y=45, z=27$"
      ]
     },
     "metadata": {},
     "output_type": "display_data"
    },
    {
     "name": "stdout",
     "output_type": "stream",
     "text": [
      "**Método de la matríz inversa**\n",
      "- - - - - - - - - - - - - - - \n"
     ]
    },
    {
     "data": {
      "text/latex": [
       "$A^{-1}=\\left(\\begin{matrix}\\frac{2}{5} & - \\frac{1}{4} & 0\\\\- \\frac{3}{5} & \\frac{1}{2} & 0\\\\\\frac{3}{40} & - \\frac{1}{8} & \\frac{1}{8}\\end{matrix}\\right) \\to  X=A^{-1}\\cdot b =\\left(\\begin{matrix}\\frac{2}{5} & - \\frac{1}{4} & 0\\\\- \\frac{3}{5} & \\frac{1}{2} & 0\\\\\\frac{3}{40} & - \\frac{1}{8} & \\frac{1}{8}\\end{matrix}\\right)\\cdot \\left(\\begin{matrix}925\\\\1200\\\\861\\end{matrix}\\right) =\\left(\\begin{matrix}70\\\\45\\\\27\\end{matrix}\\right)$"
      ]
     },
     "metadata": {},
     "output_type": "display_data"
    },
    {
     "name": "stdout",
     "output_type": "stream",
     "text": [
      "**Por Cramer**\n",
      "- - - - - - - -\n"
     ]
    },
    {
     "data": {
      "text/latex": [
       "$x=\\frac{\\left|\\begin{matrix}925 & 5 & 0\\\\1200 & 8 & 0\\\\861 & 5 & 8\\end{matrix}\\right|}{160}=\\frac{11200}{160}=70$"
      ]
     },
     "metadata": {},
     "output_type": "display_data"
    },
    {
     "data": {
      "text/latex": [
       "$y=\\frac{\\left|\\begin{matrix}10 & 925 & 0\\\\12 & 1200 & 0\\\\6 & 861 & 8\\end{matrix}\\right|}{160}=\\frac{7200}{160}=45$"
      ]
     },
     "metadata": {},
     "output_type": "display_data"
    },
    {
     "data": {
      "text/latex": [
       "$z=\\frac{\\left|\\begin{matrix}10 & 5 & 925\\\\12 & 8 & 1200\\\\6 & 5 & 861\\end{matrix}\\right|}{160}=\\frac{4320}{160}=27$"
      ]
     },
     "metadata": {},
     "output_type": "display_data"
    },
    {
     "name": "stdout",
     "output_type": "stream",
     "text": [
      "----------------------------------------------\n",
      "7. En una competición deportiva participan 50 atletas distribuidos, según la edad, en tres categorías: Infantiles,\n",
      "Cadetes y Juveniles. El doble del número de atletas infantiles excede en una unidad al número de atletas cadetes\n",
      "y, además, coincide con el quíntuplo del número de atletas juveniles. Determina el número de atletas de cada\n",
      "categoría.\n",
      "----------------------------------------------\n"
     ]
    },
    {
     "data": {
      "text/latex": [
       "$\\left\\{ \\begin{matrix}2 x = y + 1 \\\\ 2 x = 5 z \\\\ x + y + z = 50 \\\\ \\end{matrix}\\right.$"
      ]
     },
     "metadata": {},
     "output_type": "display_data"
    },
    {
     "data": {
      "text/latex": [
       "Como $rg(A)=rg(A^*)=3$ --> S.C. (El sistema tiene solución)"
      ]
     },
     "metadata": {},
     "output_type": "display_data"
    },
    {
     "data": {
      "text/latex": [
       "Como además $rg(A)=3$ coincide con el número de incógnitas --> S.C.D -- > Se puede resolver por Gauss, Matriz inversa o Cramer"
      ]
     },
     "metadata": {},
     "output_type": "display_data"
    },
    {
     "name": "stdout",
     "output_type": "stream",
     "text": [
      "**Resolución por Gauss**\n",
      "- - - - - - - - - - - -\n"
     ]
    },
    {
     "data": {
      "text/latex": [
       "$A^*=\\left(\\begin{matrix}2 & -1 & 0 & 1\\\\2 & 0 & -5 & 0\\\\1 & 1 & 1 & 50\\end{matrix}\\right)\\sim\\left(\\begin{matrix}2 & -1 & 0 & 1\\\\0 & 1 & -5 & -1\\\\0 & 0 & \\frac{17}{2} & 51\\end{matrix}\\right)\\to x=15, y=29, z=6$"
      ]
     },
     "metadata": {},
     "output_type": "display_data"
    },
    {
     "name": "stdout",
     "output_type": "stream",
     "text": [
      "**Método de la matríz inversa**\n",
      "- - - - - - - - - - - - - - - \n"
     ]
    },
    {
     "data": {
      "text/latex": [
       "$A^{-1}=\\left(\\begin{matrix}\\frac{5}{17} & \\frac{1}{17} & \\frac{5}{17}\\\\- \\frac{7}{17} & \\frac{2}{17} & \\frac{10}{17}\\\\\\frac{2}{17} & - \\frac{3}{17} & \\frac{2}{17}\\end{matrix}\\right) \\to  X=A^{-1}\\cdot b =\\left(\\begin{matrix}\\frac{5}{17} & \\frac{1}{17} & \\frac{5}{17}\\\\- \\frac{7}{17} & \\frac{2}{17} & \\frac{10}{17}\\\\\\frac{2}{17} & - \\frac{3}{17} & \\frac{2}{17}\\end{matrix}\\right)\\cdot \\left(\\begin{matrix}1\\\\0\\\\50\\end{matrix}\\right) =\\left(\\begin{matrix}15\\\\29\\\\6\\end{matrix}\\right)$"
      ]
     },
     "metadata": {},
     "output_type": "display_data"
    },
    {
     "name": "stdout",
     "output_type": "stream",
     "text": [
      "**Por Cramer**\n",
      "- - - - - - - -\n"
     ]
    },
    {
     "data": {
      "text/latex": [
       "$x=\\frac{\\left|\\begin{matrix}1 & -1 & 0\\\\0 & 0 & -5\\\\50 & 1 & 1\\end{matrix}\\right|}{17}=\\frac{255}{17}=15$"
      ]
     },
     "metadata": {},
     "output_type": "display_data"
    },
    {
     "data": {
      "text/latex": [
       "$y=\\frac{\\left|\\begin{matrix}2 & 1 & 0\\\\2 & 0 & -5\\\\1 & 50 & 1\\end{matrix}\\right|}{17}=\\frac{493}{17}=29$"
      ]
     },
     "metadata": {},
     "output_type": "display_data"
    },
    {
     "data": {
      "text/latex": [
       "$z=\\frac{\\left|\\begin{matrix}2 & -1 & 1\\\\2 & 0 & 0\\\\1 & 1 & 50\\end{matrix}\\right|}{17}=\\frac{102}{17}=6$"
      ]
     },
     "metadata": {},
     "output_type": "display_data"
    },
    {
     "name": "stdout",
     "output_type": "stream",
     "text": [
      "----------------------------------------------\n",
      "8. La suma de las tres cifras de un número es ocho. Sabiendo que la cifra de las centenas \n",
      "es igual que la de las decenas, y que ambas suman la cifra de las unidades, \n",
      "averigua dicho número.\n",
      "----------------------------------------------\n"
     ]
    },
    {
     "data": {
      "text/latex": [
       "$\\left\\{ \\begin{matrix}x + y + z = 8 \\\\ x = y \\\\ x + y = z \\\\ \\end{matrix}\\right.$"
      ]
     },
     "metadata": {},
     "output_type": "display_data"
    },
    {
     "data": {
      "text/latex": [
       "Como $rg(A)=rg(A^*)=3$ --> S.C. (El sistema tiene solución)"
      ]
     },
     "metadata": {},
     "output_type": "display_data"
    },
    {
     "data": {
      "text/latex": [
       "Como además $rg(A)=3$ coincide con el número de incógnitas --> S.C.D -- > Se puede resolver por Gauss, Matriz inversa o Cramer"
      ]
     },
     "metadata": {},
     "output_type": "display_data"
    },
    {
     "name": "stdout",
     "output_type": "stream",
     "text": [
      "**Resolución por Gauss**\n",
      "- - - - - - - - - - - -\n"
     ]
    },
    {
     "data": {
      "text/latex": [
       "$A^*=\\left(\\begin{matrix}1 & 1 & 1 & 8\\\\1 & -1 & 0 & 0\\\\1 & 1 & -1 & 0\\end{matrix}\\right)\\sim\\left(\\begin{matrix}1 & 1 & 1 & 8\\\\0 & -2 & -1 & -8\\\\0 & 0 & -2 & -8\\end{matrix}\\right)\\to x=2, y=2, z=4$"
      ]
     },
     "metadata": {},
     "output_type": "display_data"
    },
    {
     "name": "stdout",
     "output_type": "stream",
     "text": [
      "**Método de la matríz inversa**\n",
      "- - - - - - - - - - - - - - - \n"
     ]
    },
    {
     "data": {
      "text/latex": [
       "$A^{-1}=\\left(\\begin{matrix}\\frac{1}{4} & \\frac{1}{2} & \\frac{1}{4}\\\\\\frac{1}{4} & - \\frac{1}{2} & \\frac{1}{4}\\\\\\frac{1}{2} & 0 & - \\frac{1}{2}\\end{matrix}\\right) \\to  X=A^{-1}\\cdot b =\\left(\\begin{matrix}\\frac{1}{4} & \\frac{1}{2} & \\frac{1}{4}\\\\\\frac{1}{4} & - \\frac{1}{2} & \\frac{1}{4}\\\\\\frac{1}{2} & 0 & - \\frac{1}{2}\\end{matrix}\\right)\\cdot \\left(\\begin{matrix}8\\\\0\\\\0\\end{matrix}\\right) =\\left(\\begin{matrix}2\\\\2\\\\4\\end{matrix}\\right)$"
      ]
     },
     "metadata": {},
     "output_type": "display_data"
    },
    {
     "name": "stdout",
     "output_type": "stream",
     "text": [
      "**Por Cramer**\n",
      "- - - - - - - -\n"
     ]
    },
    {
     "data": {
      "text/latex": [
       "$x=\\frac{\\left|\\begin{matrix}8 & 1 & 1\\\\0 & -1 & 0\\\\0 & 1 & -1\\end{matrix}\\right|}{4}=\\frac{8}{4}=2$"
      ]
     },
     "metadata": {},
     "output_type": "display_data"
    },
    {
     "data": {
      "text/latex": [
       "$y=\\frac{\\left|\\begin{matrix}1 & 8 & 1\\\\1 & 0 & 0\\\\1 & 0 & -1\\end{matrix}\\right|}{4}=\\frac{8}{4}=2$"
      ]
     },
     "metadata": {},
     "output_type": "display_data"
    },
    {
     "data": {
      "text/latex": [
       "$z=\\frac{\\left|\\begin{matrix}1 & 1 & 8\\\\1 & -1 & 0\\\\1 & 1 & 0\\end{matrix}\\right|}{4}=\\frac{16}{4}=4$"
      ]
     },
     "metadata": {},
     "output_type": "display_data"
    },
    {
     "name": "stdout",
     "output_type": "stream",
     "text": [
      "----------------------------------------------\n",
      "9. Un alumno de 1.° de Bachillerato emplea en la compra de tres lápices, un sacapuntas y dos gomas de borrar,\n",
      "tres euros. El doble del precio de un lápiz excede en cinco céntimos de euro a la suma de los precios de un\n",
      "sacapuntas y una goma de borrar. Si cada lápiz costara cinco céntimos de euro más, entonces su precio duplicaría\n",
      "al de una goma de borrar. Determina el precio de un lápiz, de un sacapuntas y de una goma de borrar.\n",
      "----------------------------------------------\n"
     ]
    },
    {
     "data": {
      "text/latex": [
       "$\\left\\{ \\begin{matrix}3 x + y + 2 z = 300 \\\\ 2 x = y + z + 5 \\\\ x + 5 = 2 z \\\\ \\end{matrix}\\right.$"
      ]
     },
     "metadata": {},
     "output_type": "display_data"
    },
    {
     "data": {
      "text/latex": [
       "Como $rg(A)=rg(A^*)=3$ --> S.C. (El sistema tiene solución)"
      ]
     },
     "metadata": {},
     "output_type": "display_data"
    },
    {
     "data": {
      "text/latex": [
       "Como además $rg(A)=3$ coincide con el número de incógnitas --> S.C.D -- > Se puede resolver por Gauss, Matriz inversa o Cramer"
      ]
     },
     "metadata": {},
     "output_type": "display_data"
    },
    {
     "name": "stdout",
     "output_type": "stream",
     "text": [
      "**Resolución por Gauss**\n",
      "- - - - - - - - - - - -\n"
     ]
    },
    {
     "data": {
      "text/latex": [
       "$A^*=\\left(\\begin{matrix}3 & 1 & 2 & 300\\\\2 & -1 & -1 & 5\\\\1 & 0 & -2 & -5\\end{matrix}\\right)\\sim\\left(\\begin{matrix}3 & 1 & 2 & 300\\\\0 & - \\frac{5}{3} & - \\frac{7}{3} & -195\\\\0 & 0 & - \\frac{11}{5} & -66\\end{matrix}\\right)\\to x=55, y=75, z=30$"
      ]
     },
     "metadata": {},
     "output_type": "display_data"
    },
    {
     "name": "stdout",
     "output_type": "stream",
     "text": [
      "**Método de la matríz inversa**\n",
      "- - - - - - - - - - - - - - - \n"
     ]
    },
    {
     "data": {
      "text/latex": [
       "$A^{-1}=\\left(\\begin{matrix}\\frac{2}{11} & \\frac{2}{11} & \\frac{1}{11}\\\\\\frac{3}{11} & - \\frac{8}{11} & \\frac{7}{11}\\\\\\frac{1}{11} & \\frac{1}{11} & - \\frac{5}{11}\\end{matrix}\\right) \\to  X=A^{-1}\\cdot b =\\left(\\begin{matrix}\\frac{2}{11} & \\frac{2}{11} & \\frac{1}{11}\\\\\\frac{3}{11} & - \\frac{8}{11} & \\frac{7}{11}\\\\\\frac{1}{11} & \\frac{1}{11} & - \\frac{5}{11}\\end{matrix}\\right)\\cdot \\left(\\begin{matrix}300\\\\5\\\\-5\\end{matrix}\\right) =\\left(\\begin{matrix}55\\\\75\\\\30\\end{matrix}\\right)$"
      ]
     },
     "metadata": {},
     "output_type": "display_data"
    },
    {
     "name": "stdout",
     "output_type": "stream",
     "text": [
      "**Por Cramer**\n",
      "- - - - - - - -\n"
     ]
    },
    {
     "data": {
      "text/latex": [
       "$x=\\frac{\\left|\\begin{matrix}300 & 1 & 2\\\\5 & -1 & -1\\\\-5 & 0 & -2\\end{matrix}\\right|}{11}=\\frac{605}{11}=55$"
      ]
     },
     "metadata": {},
     "output_type": "display_data"
    },
    {
     "data": {
      "text/latex": [
       "$y=\\frac{\\left|\\begin{matrix}3 & 300 & 2\\\\2 & 5 & -1\\\\1 & -5 & -2\\end{matrix}\\right|}{11}=\\frac{825}{11}=75$"
      ]
     },
     "metadata": {},
     "output_type": "display_data"
    },
    {
     "data": {
      "text/latex": [
       "$z=\\frac{\\left|\\begin{matrix}3 & 1 & 300\\\\2 & -1 & 5\\\\1 & 0 & -5\\end{matrix}\\right|}{11}=\\frac{330}{11}=30$"
      ]
     },
     "metadata": {},
     "output_type": "display_data"
    },
    {
     "name": "stdout",
     "output_type": "stream",
     "text": [
      "----------------------------------------------\n",
      "10. Para la compra de un artículo de precio 10,70 euros se utilizan monedas de 1 euro, de 50 céntimos de euro y\n",
      "de 20 céntimos de euro. El número total de monedas excede en una unidad al triple de monedas de 1 euro. El 30\n",
      "% de la suma del número de monedas de 1 euro con el doble del número de monedas de 50 céntimos coincide\n",
      "con el número de monedas de 20 céntimos. Determina el número de monedas que se utilizan de cada clase.\n",
      "----------------------------------------------\n"
     ]
    },
    {
     "data": {
      "text/latex": [
       "$\\left\\{ \\begin{matrix}100 x + 50 y + 20 z = 1070 \\\\ x + y + z = 3 x + 1 \\\\ 0.3 x + 0.6 y = z \\\\ \\end{matrix}\\right.$"
      ]
     },
     "metadata": {},
     "output_type": "display_data"
    },
    {
     "data": {
      "text/latex": [
       "Como $rg(A)=rg(A^*)=3$ --> S.C. (El sistema tiene solución)"
      ]
     },
     "metadata": {},
     "output_type": "display_data"
    },
    {
     "data": {
      "text/latex": [
       "Como además $rg(A)=3$ coincide con el número de incógnitas --> S.C.D -- > Se puede resolver por Gauss, Matriz inversa o Cramer"
      ]
     },
     "metadata": {},
     "output_type": "display_data"
    },
    {
     "name": "stdout",
     "output_type": "stream",
     "text": [
      "**Resolución por Gauss**\n",
      "- - - - - - - - - - - -\n"
     ]
    },
    {
     "data": {
      "text/latex": [
       "$A^*=\\left(\\begin{matrix}100 & 50 & 20 & 1070\\\\-2 & 1 & 1 & 1\\\\0.3 & 0.6 & -1 & 0\\end{matrix}\\right)\\sim\\left(\\begin{matrix}100 & 50 & 20 & 1070\\\\0 & 2 & \\frac{7}{5} & \\frac{112}{5}\\\\0 & 0 & - \\frac{11}{8} & - \\frac{33}{4}\\end{matrix}\\right)\\to x=6.0, y=7.0, z=6.0$"
      ]
     },
     "metadata": {},
     "output_type": "display_data"
    },
    {
     "name": "stdout",
     "output_type": "stream",
     "text": [
      "**Método de la matríz inversa**\n",
      "- - - - - - - - - - - - - - - \n"
     ]
    },
    {
     "data": {
      "text/latex": [
       "$A^{-1}=\\left(\\begin{matrix}0.00581818181818182 & -0.225454545454545 & -0.109090909090909\\\\0.00618181818181818 & 0.385454545454545 & 0.509090909090909\\\\0.00545454545454545 & 0.163636363636364 & -0.727272727272727\\end{matrix}\\right) \\to  X=A^{-1}\\cdot b =\\left(\\begin{matrix}0.00581818181818182 & -0.225454545454545 & -0.109090909090909\\\\0.00618181818181818 & 0.385454545454545 & 0.509090909090909\\\\0.00545454545454545 & 0.163636363636364 & -0.727272727272727\\end{matrix}\\right)\\cdot \\left(\\begin{matrix}1070\\\\1\\\\0\\end{matrix}\\right) =\\left(\\begin{matrix}6.0\\\\7.0\\\\6.0\\end{matrix}\\right)$"
      ]
     },
     "metadata": {},
     "output_type": "display_data"
    },
    {
     "name": "stdout",
     "output_type": "stream",
     "text": [
      "**Por Cramer**\n",
      "- - - - - - - -\n"
     ]
    },
    {
     "data": {
      "text/latex": [
       "$x=\\frac{\\left|\\begin{matrix}1070 & 50 & 20\\\\1 & 1 & 1\\\\0 & 0.6 & -1\\end{matrix}\\right|}{-275.0}=\\frac{-1650}{-275.0}=6.0$"
      ]
     },
     "metadata": {},
     "output_type": "display_data"
    },
    {
     "data": {
      "text/latex": [
       "$y=\\frac{\\left|\\begin{matrix}100 & 1070 & 20\\\\-2 & 1 & 1\\\\0.3 & 0 & -1\\end{matrix}\\right|}{-275.0}=\\frac{-1925}{-275.0}=7.0$"
      ]
     },
     "metadata": {},
     "output_type": "display_data"
    },
    {
     "data": {
      "text/latex": [
       "$z=\\frac{\\left|\\begin{matrix}100 & 50 & 1070\\\\-2 & 1 & 1\\\\0.3 & 0.6 & 0\\end{matrix}\\right|}{-275.0}=\\frac{-1650}{-275.0}=6.0$"
      ]
     },
     "metadata": {},
     "output_type": "display_data"
    },
    {
     "name": "stdout",
     "output_type": "stream",
     "text": [
      "----------------------------------------------\n",
      "11. En un grupo de 2.° de Bachillerato los alumnos tienen como materia optativa una de estas tres asignaturas:\n",
      "Literatura, Psicología o Francés. El número de alumnos matriculados en Literatura representa el 60% del total de\n",
      "alumnos del grupo. Si tres alumnos de Psicología se hubiesen matriculado en Francés, entonces estas dos\n",
      "asignaturas tendrían el mismo número de alumnos. Finalmente, el doble de la diferencia del número de alumnos\n",
      "matriculados en Literatura y en Psicología es el triple de la diferencia de los matriculados en Psicología y en\n",
      "Francés. Calcula el número de alumnos matriculados en cada una de las materias optativas y el número de\n",
      "alumnos del grupo.\n",
      "----------------------------------------------\n"
     ]
    },
    {
     "data": {
      "text/latex": [
       "$\\left\\{ \\begin{matrix}x = 0.6 x + 0.6 y + 0.6 z \\\\ y - 3 = z + 3 \\\\ 2 x - 2 y = 3 y - 3 z \\\\ \\end{matrix}\\right.$"
      ]
     },
     "metadata": {},
     "output_type": "display_data"
    },
    {
     "data": {
      "text/latex": [
       "Como $rg(A)=rg(A^*)=3$ --> S.C. (El sistema tiene solución)"
      ]
     },
     "metadata": {},
     "output_type": "display_data"
    },
    {
     "data": {
      "text/latex": [
       "Como además $rg(A)=3$ coincide con el número de incógnitas --> S.C.D -- > Se puede resolver por Gauss, Matriz inversa o Cramer"
      ]
     },
     "metadata": {},
     "output_type": "display_data"
    },
    {
     "name": "stdout",
     "output_type": "stream",
     "text": [
      "**Resolución por Gauss**\n",
      "- - - - - - - - - - - -\n"
     ]
    },
    {
     "data": {
      "text/latex": [
       "$A^*=\\left(\\begin{matrix}0.4 & -0.6 & -0.6 & 0\\\\0 & 1 & -1 & 6\\\\2 & -5 & 3 & 0\\end{matrix}\\right)\\sim\\left(\\begin{matrix}\\frac{2}{5} & - \\frac{3}{5} & - \\frac{3}{5} & 0\\\\0 & 1 & -1 & 6\\\\0 & 0 & 4 & 12\\end{matrix}\\right)\\to x=18.0, y=9.0, z=3.0$"
      ]
     },
     "metadata": {},
     "output_type": "display_data"
    },
    {
     "name": "stdout",
     "output_type": "stream",
     "text": [
      "**Método de la matríz inversa**\n",
      "- - - - - - - - - - - - - - - \n"
     ]
    },
    {
     "data": {
      "text/latex": [
       "$A^{-1}=\\left(\\begin{matrix}-1.25 & 3.0 & 0.75\\\\-1.25 & 1.5 & 0.25\\\\-1.25 & 0.5 & 0.25\\end{matrix}\\right) \\to  X=A^{-1}\\cdot b =\\left(\\begin{matrix}-1.25 & 3.0 & 0.75\\\\-1.25 & 1.5 & 0.25\\\\-1.25 & 0.5 & 0.25\\end{matrix}\\right)\\cdot \\left(\\begin{matrix}0\\\\6\\\\0\\end{matrix}\\right) =\\left(\\begin{matrix}18.0\\\\9.0\\\\3.0\\end{matrix}\\right)$"
      ]
     },
     "metadata": {},
     "output_type": "display_data"
    },
    {
     "name": "stdout",
     "output_type": "stream",
     "text": [
      "**Por Cramer**\n",
      "- - - - - - - -\n"
     ]
    },
    {
     "data": {
      "text/latex": [
       "$x=\\frac{\\left|\\begin{matrix}0 & -0.6 & -0.6\\\\6 & 1 & -1\\\\0 & -5 & 3\\end{matrix}\\right|}{1.6}=\\frac{\\frac{144}{5}}{1.6}=18.0$"
      ]
     },
     "metadata": {},
     "output_type": "display_data"
    },
    {
     "data": {
      "text/latex": [
       "$y=\\frac{\\left|\\begin{matrix}0.4 & 0 & -0.6\\\\0 & 6 & -1\\\\2 & 0 & 3\\end{matrix}\\right|}{1.6}=\\frac{\\frac{72}{5}}{1.6}=9.0$"
      ]
     },
     "metadata": {},
     "output_type": "display_data"
    },
    {
     "data": {
      "text/latex": [
       "$z=\\frac{\\left|\\begin{matrix}0.4 & -0.6 & 0\\\\0 & 1 & 6\\\\2 & -5 & 0\\end{matrix}\\right|}{1.6}=\\frac{\\frac{24}{5}}{1.6}=3.0$"
      ]
     },
     "metadata": {},
     "output_type": "display_data"
    },
    {
     "name": "stdout",
     "output_type": "stream",
     "text": [
      "----------------------------------------------\n",
      "12. Si la altura de Sergio aumentase el triple de la diferencia entre las alturas de Martín y Jesús, Sergio sería igual\n",
      "de alto que Jesús. Las alturas de los tres suman 515 cm. Ocho veces la altura de Martín es lo mismo que nueve\n",
      "veces la de Sergio. Halla la estatura de cada uno.\n",
      "----------------------------------------------\n"
     ]
    },
    {
     "data": {
      "text/latex": [
       "$\\left\\{ \\begin{matrix}x + 3 y - 3 z = z \\\\ x + y + z = 515 \\\\ 8 y = 9 x \\\\ \\end{matrix}\\right.$"
      ]
     },
     "metadata": {},
     "output_type": "display_data"
    },
    {
     "data": {
      "text/latex": [
       "Como $rg(A)=rg(A^*)=3$ --> S.C. (El sistema tiene solución)"
      ]
     },
     "metadata": {},
     "output_type": "display_data"
    },
    {
     "data": {
      "text/latex": [
       "Como además $rg(A)=3$ coincide con el número de incógnitas --> S.C.D -- > Se puede resolver por Gauss, Matriz inversa o Cramer"
      ]
     },
     "metadata": {},
     "output_type": "display_data"
    },
    {
     "name": "stdout",
     "output_type": "stream",
     "text": [
      "**Resolución por Gauss**\n",
      "- - - - - - - - - - - -\n"
     ]
    },
    {
     "data": {
      "text/latex": [
       "$A^*=\\left(\\begin{matrix}1 & 3 & -4 & 0\\\\1 & 1 & 1 & 515\\\\-9 & 8 & 0 & 0\\end{matrix}\\right)\\sim\\left(\\begin{matrix}1 & 3 & -4 & 0\\\\0 & -2 & 5 & 515\\\\0 & 0 & \\frac{103}{2} & \\frac{18025}{2}\\end{matrix}\\right)\\to x=160, y=180, z=175$"
      ]
     },
     "metadata": {},
     "output_type": "display_data"
    },
    {
     "name": "stdout",
     "output_type": "stream",
     "text": [
      "**Método de la matríz inversa**\n",
      "- - - - - - - - - - - - - - - \n"
     ]
    },
    {
     "data": {
      "text/latex": [
       "$A^{-1}=\\left(\\begin{matrix}\\frac{8}{103} & \\frac{32}{103} & - \\frac{7}{103}\\\\\\frac{9}{103} & \\frac{36}{103} & \\frac{5}{103}\\\\- \\frac{17}{103} & \\frac{35}{103} & \\frac{2}{103}\\end{matrix}\\right) \\to  X=A^{-1}\\cdot b =\\left(\\begin{matrix}\\frac{8}{103} & \\frac{32}{103} & - \\frac{7}{103}\\\\\\frac{9}{103} & \\frac{36}{103} & \\frac{5}{103}\\\\- \\frac{17}{103} & \\frac{35}{103} & \\frac{2}{103}\\end{matrix}\\right)\\cdot \\left(\\begin{matrix}0\\\\515\\\\0\\end{matrix}\\right) =\\left(\\begin{matrix}160\\\\180\\\\175\\end{matrix}\\right)$"
      ]
     },
     "metadata": {},
     "output_type": "display_data"
    },
    {
     "name": "stdout",
     "output_type": "stream",
     "text": [
      "**Por Cramer**\n",
      "- - - - - - - -\n"
     ]
    },
    {
     "data": {
      "text/latex": [
       "$x=\\frac{\\left|\\begin{matrix}0 & 3 & -4\\\\515 & 1 & 1\\\\0 & 8 & 0\\end{matrix}\\right|}{-103}=\\frac{-16480}{-103}=160$"
      ]
     },
     "metadata": {},
     "output_type": "display_data"
    },
    {
     "data": {
      "text/latex": [
       "$y=\\frac{\\left|\\begin{matrix}1 & 0 & -4\\\\1 & 515 & 1\\\\-9 & 0 & 0\\end{matrix}\\right|}{-103}=\\frac{-18540}{-103}=180$"
      ]
     },
     "metadata": {},
     "output_type": "display_data"
    },
    {
     "data": {
      "text/latex": [
       "$z=\\frac{\\left|\\begin{matrix}1 & 3 & 0\\\\1 & 1 & 515\\\\-9 & 8 & 0\\end{matrix}\\right|}{-103}=\\frac{-18025}{-103}=175$"
      ]
     },
     "metadata": {},
     "output_type": "display_data"
    },
    {
     "name": "stdout",
     "output_type": "stream",
     "text": [
      "----------------------------------------------\n",
      "13. En un instituto se imparten enseñanzas de ESO, Bachillerato y Ciclos Formativos. La suma del número de\n",
      "los alumnos de Bachillerato y del doble de los alumnos de Ciclos Formativos excede en 100 al número de los\n",
      "alumnos de ESO. Si sumamos el 40% de los alumnos matriculados en ESO con el 30% de los matriculados en\n",
      "Bachillerato y con el 20% de los matriculados en Ciclos Formativos, se obtiene un número que excede en 45\n",
      "unidades al 30% del número total de alumnos. Sabiendo que cursan estos tres tipos de enseñanza un total de 1\n",
      "200 alumnos, halla el número de alumnos matriculados en cada tipo de enseñanza.\n",
      "----------------------------------------------\n"
     ]
    },
    {
     "data": {
      "text/latex": [
       "$\\left\\{ \\begin{matrix}y + 2 z = x + 100 \\\\ 40 x + 30 y + 20 z = 30 x + 30 y + 30 z + 4500 \\\\ x + y + z = 1200 \\\\ \\end{matrix}\\right.$"
      ]
     },
     "metadata": {},
     "output_type": "display_data"
    },
    {
     "data": {
      "text/latex": [
       "Como $rg(A)=rg(A^*)=3$ --> S.C. (El sistema tiene solución)"
      ]
     },
     "metadata": {},
     "output_type": "display_data"
    },
    {
     "data": {
      "text/latex": [
       "Como además $rg(A)=3$ coincide con el número de incógnitas --> S.C.D -- > Se puede resolver por Gauss, Matriz inversa o Cramer"
      ]
     },
     "metadata": {},
     "output_type": "display_data"
    },
    {
     "name": "stdout",
     "output_type": "stream",
     "text": [
      "**Resolución por Gauss**\n",
      "- - - - - - - - - - - -\n"
     ]
    },
    {
     "data": {
      "text/latex": [
       "$A^*=\\left(\\begin{matrix}-1 & 1 & 2 & 100\\\\10 & 0 & -10 & 4500\\\\1 & 1 & 1 & 1200\\end{matrix}\\right)\\sim\\left(\\begin{matrix}-1 & 1 & 2 & 100\\\\0 & 10 & 10 & 5500\\\\0 & 0 & 1 & 200\\end{matrix}\\right)\\to x=650, y=350, z=200$"
      ]
     },
     "metadata": {},
     "output_type": "display_data"
    },
    {
     "name": "stdout",
     "output_type": "stream",
     "text": [
      "**Método de la matríz inversa**\n",
      "- - - - - - - - - - - - - - - \n"
     ]
    },
    {
     "data": {
      "text/latex": [
       "$A^{-1}=\\left(\\begin{matrix}-1 & - \\frac{1}{10} & 1\\\\2 & \\frac{3}{10} & -1\\\\-1 & - \\frac{1}{5} & 1\\end{matrix}\\right) \\to  X=A^{-1}\\cdot b =\\left(\\begin{matrix}-1 & - \\frac{1}{10} & 1\\\\2 & \\frac{3}{10} & -1\\\\-1 & - \\frac{1}{5} & 1\\end{matrix}\\right)\\cdot \\left(\\begin{matrix}100\\\\4500\\\\1200\\end{matrix}\\right) =\\left(\\begin{matrix}650\\\\350\\\\200\\end{matrix}\\right)$"
      ]
     },
     "metadata": {},
     "output_type": "display_data"
    },
    {
     "name": "stdout",
     "output_type": "stream",
     "text": [
      "**Por Cramer**\n",
      "- - - - - - - -\n"
     ]
    },
    {
     "data": {
      "text/latex": [
       "$x=\\frac{\\left|\\begin{matrix}100 & 1 & 2\\\\4500 & 0 & -10\\\\1200 & 1 & 1\\end{matrix}\\right|}{-10}=\\frac{-6500}{-10}=650$"
      ]
     },
     "metadata": {},
     "output_type": "display_data"
    },
    {
     "data": {
      "text/latex": [
       "$y=\\frac{\\left|\\begin{matrix}-1 & 100 & 2\\\\10 & 4500 & -10\\\\1 & 1200 & 1\\end{matrix}\\right|}{-10}=\\frac{-3500}{-10}=350$"
      ]
     },
     "metadata": {},
     "output_type": "display_data"
    },
    {
     "data": {
      "text/latex": [
       "$z=\\frac{\\left|\\begin{matrix}-1 & 1 & 100\\\\10 & 0 & 4500\\\\1 & 1 & 1200\\end{matrix}\\right|}{-10}=\\frac{-2000}{-10}=200$"
      ]
     },
     "metadata": {},
     "output_type": "display_data"
    },
    {
     "name": "stdout",
     "output_type": "stream",
     "text": [
      "----------------------------------------------\n",
      "14. Una persona deja en herencia a sus hijos todo su dinero con las siguientes condiciones: al mayor le deja la\n",
      "media de lo que le deja a los otros más 30 000 euros; al mediano, exactamente la media del dinero de los otros; y\n",
      "al pequeño, la media del dinero de los otros menos 30 000 euros. De esta forma, ¿pueden los hijos saber cuánto\n",
      "dinero ha heredado cada uno?\n",
      "----------------------------------------------\n"
     ]
    },
    {
     "data": {
      "text/latex": [
       "$\\left\\{ \\begin{matrix}x = \\frac{y}{2} + \\frac{z}{2} + 30000 \\\\ y = \\frac{x}{2} + \\frac{z}{2} \\\\ z = \\frac{x}{2} + \\frac{y}{2} - 30000 \\\\ \\end{matrix}\\right.$"
      ]
     },
     "metadata": {},
     "output_type": "display_data"
    },
    {
     "data": {
      "text/latex": [
       "Como $rg(A)=rg(A^*)=2$ --> S.C. (El sistema tiene solución)"
      ]
     },
     "metadata": {},
     "output_type": "display_data"
    },
    {
     "data": {
      "text/latex": [
       "Como además $rg(A)=2$ no coincide con el número de incógnitas--> S.C.I --> Solo se puede resolver por Gauss"
      ]
     },
     "metadata": {},
     "output_type": "display_data"
    },
    {
     "name": "stdout",
     "output_type": "stream",
     "text": [
      "**Resolución por Gauss**\n",
      "- - - - - - - - - - - -\n"
     ]
    },
    {
     "data": {
      "text/latex": [
       "$A^*=\\left(\\begin{matrix}1 & - \\frac{1}{2} & - \\frac{1}{2} & 30000\\\\- \\frac{1}{2} & 1 & - \\frac{1}{2} & 0\\\\- \\frac{1}{2} & - \\frac{1}{2} & 1 & -30000\\end{matrix}\\right)\\sim\\left(\\begin{matrix}1 & - \\frac{1}{2} & - \\frac{1}{2} & 30000\\\\0 & \\frac{3}{4} & - \\frac{3}{4} & 15000\\\\0 & 0 & 0 & 0\\end{matrix}\\right)\\to x=\\lambda + 40000, y=\\lambda + 20000, z=\\lambda$"
      ]
     },
     "metadata": {},
     "output_type": "display_data"
    },
    {
     "name": "stdout",
     "output_type": "stream",
     "text": [
      "----------------------------------------------\n",
      "15. A Victoria le van a confeccionar su vestido de novia, por el que tendrá que pagar 1 742 euros. En la confección\n",
      "se utilizarán 15 metros de tela entre raso, seda y pasamanería bordada. Los metros de raso serán el doble que los\n",
      "de seda. Los precios del raso, de la seda y la pasamanería son 55,62 y 68 euros el metro, respectivamente. Si del\n",
      "precio total se destinan 500 euros a la mano de obra y 350 euros para beneficio del comerciante, ¿cuántos metros\n",
      "de cada material serán necesarios?\n",
      "----------------------------------------------\n"
     ]
    },
    {
     "data": {
      "text/latex": [
       "$\\left\\{ \\begin{matrix}x + y + z = 15 \\\\ x = 2 y \\\\ 55 x + 62 y + 68 z = 892 \\\\ \\end{matrix}\\right.$"
      ]
     },
     "metadata": {},
     "output_type": "display_data"
    },
    {
     "data": {
      "text/latex": [
       "Como $rg(A)=rg(A^*)=3$ --> S.C. (El sistema tiene solución)"
      ]
     },
     "metadata": {},
     "output_type": "display_data"
    },
    {
     "data": {
      "text/latex": [
       "Como además $rg(A)=3$ coincide con el número de incógnitas --> S.C.D -- > Se puede resolver por Gauss, Matriz inversa o Cramer"
      ]
     },
     "metadata": {},
     "output_type": "display_data"
    },
    {
     "name": "stdout",
     "output_type": "stream",
     "text": [
      "**Resolución por Gauss**\n",
      "- - - - - - - - - - - -\n"
     ]
    },
    {
     "data": {
      "text/latex": [
       "$A^*=\\left(\\begin{matrix}1 & 1 & 1 & 15\\\\1 & -2 & 0 & 0\\\\55 & 62 & 68 & 892\\end{matrix}\\right)\\sim\\left(\\begin{matrix}1 & 1 & 1 & 15\\\\0 & -3 & -1 & -15\\\\0 & 0 & \\frac{32}{3} & 32\\end{matrix}\\right)\\to x=8, y=4, z=3$"
      ]
     },
     "metadata": {},
     "output_type": "display_data"
    },
    {
     "name": "stdout",
     "output_type": "stream",
     "text": [
      "**Método de la matríz inversa**\n",
      "- - - - - - - - - - - - - - - \n"
     ]
    },
    {
     "data": {
      "text/latex": [
       "$A^{-1}=\\left(\\begin{matrix}\\frac{17}{4} & \\frac{3}{16} & - \\frac{1}{16}\\\\\\frac{17}{8} & - \\frac{13}{32} & - \\frac{1}{32}\\\\- \\frac{43}{8} & \\frac{7}{32} & \\frac{3}{32}\\end{matrix}\\right) \\to  X=A^{-1}\\cdot b =\\left(\\begin{matrix}\\frac{17}{4} & \\frac{3}{16} & - \\frac{1}{16}\\\\\\frac{17}{8} & - \\frac{13}{32} & - \\frac{1}{32}\\\\- \\frac{43}{8} & \\frac{7}{32} & \\frac{3}{32}\\end{matrix}\\right)\\cdot \\left(\\begin{matrix}15\\\\0\\\\892\\end{matrix}\\right) =\\left(\\begin{matrix}8\\\\4\\\\3\\end{matrix}\\right)$"
      ]
     },
     "metadata": {},
     "output_type": "display_data"
    },
    {
     "name": "stdout",
     "output_type": "stream",
     "text": [
      "**Por Cramer**\n",
      "- - - - - - - -\n"
     ]
    },
    {
     "data": {
      "text/latex": [
       "$x=\\frac{\\left|\\begin{matrix}15 & 1 & 1\\\\0 & -2 & 0\\\\892 & 62 & 68\\end{matrix}\\right|}{-32}=\\frac{-256}{-32}=8$"
      ]
     },
     "metadata": {},
     "output_type": "display_data"
    },
    {
     "data": {
      "text/latex": [
       "$y=\\frac{\\left|\\begin{matrix}1 & 15 & 1\\\\1 & 0 & 0\\\\55 & 892 & 68\\end{matrix}\\right|}{-32}=\\frac{-128}{-32}=4$"
      ]
     },
     "metadata": {},
     "output_type": "display_data"
    },
    {
     "data": {
      "text/latex": [
       "$z=\\frac{\\left|\\begin{matrix}1 & 1 & 15\\\\1 & -2 & 0\\\\55 & 62 & 892\\end{matrix}\\right|}{-32}=\\frac{-96}{-32}=3$"
      ]
     },
     "metadata": {},
     "output_type": "display_data"
    },
    {
     "name": "stdout",
     "output_type": "stream",
     "text": [
      "----------------------------------------------\n",
      "16. Lucía ha realizado tres pruebas escritas de una asignatura y la nota media de las tres ha sido 8,5 puntos. Si la\n",
      "nota media de las dos primeras es 8 y la nota media de las dos últimas es 9, halla la calificación de cada una de las\n",
      "pruebas.\n",
      "----------------------------------------------\n"
     ]
    },
    {
     "data": {
      "text/latex": [
       "$\\left\\{ \\begin{matrix}\\frac{x}{3} + \\frac{y}{3} + \\frac{z}{3} = 8.5 \\\\ \\frac{x}{2} + \\frac{y}{2} = 8 \\\\ \\frac{y}{2} + \\frac{z}{2} = 9 \\\\ \\end{matrix}\\right.$"
      ]
     },
     "metadata": {},
     "output_type": "display_data"
    },
    {
     "data": {
      "text/latex": [
       "Como $rg(A)=rg(A^*)=3$ --> S.C. (El sistema tiene solución)"
      ]
     },
     "metadata": {},
     "output_type": "display_data"
    },
    {
     "data": {
      "text/latex": [
       "Como además $rg(A)=3$ coincide con el número de incógnitas --> S.C.D -- > Se puede resolver por Gauss, Matriz inversa o Cramer"
      ]
     },
     "metadata": {},
     "output_type": "display_data"
    },
    {
     "name": "stdout",
     "output_type": "stream",
     "text": [
      "**Resolución por Gauss**\n",
      "- - - - - - - - - - - -\n"
     ]
    },
    {
     "data": {
      "text/latex": [
       "$A^*=\\left(\\begin{matrix}\\frac{1}{3} & \\frac{1}{3} & \\frac{1}{3} & 8.5\\\\\\frac{1}{2} & \\frac{1}{2} & 0 & 8\\\\0 & \\frac{1}{2} & \\frac{1}{2} & 9\\end{matrix}\\right)\\sim\\left(\\begin{matrix}\\frac{1}{3} & \\frac{1}{3} & \\frac{1}{3} & \\frac{17}{2}\\\\0 & \\frac{1}{2} & \\frac{1}{2} & 9\\\\0 & 0 & - \\frac{1}{2} & - \\frac{19}{4}\\end{matrix}\\right)\\to x=7.5, y=8.5, z=9.5$"
      ]
     },
     "metadata": {},
     "output_type": "display_data"
    },
    {
     "name": "stdout",
     "output_type": "stream",
     "text": [
      "**Método de la matríz inversa**\n",
      "- - - - - - - - - - - - - - - \n"
     ]
    },
    {
     "data": {
      "text/latex": [
       "$A^{-1}=\\left(\\begin{matrix}3 & 0 & -2\\\\-3 & 2 & 2\\\\3 & -2 & 0\\end{matrix}\\right) \\to  X=A^{-1}\\cdot b =\\left(\\begin{matrix}3 & 0 & -2\\\\-3 & 2 & 2\\\\3 & -2 & 0\\end{matrix}\\right)\\cdot \\left(\\begin{matrix}8.5\\\\8\\\\9\\end{matrix}\\right) =\\left(\\begin{matrix}7.5\\\\8.5\\\\9.5\\end{matrix}\\right)$"
      ]
     },
     "metadata": {},
     "output_type": "display_data"
    },
    {
     "name": "stdout",
     "output_type": "stream",
     "text": [
      "**Por Cramer**\n",
      "- - - - - - - -\n"
     ]
    },
    {
     "data": {
      "text/latex": [
       "$x=\\frac{\\left|\\begin{matrix}8.5 & \\frac{1}{3} & \\frac{1}{3}\\\\8 & \\frac{1}{2} & 0\\\\9 & \\frac{1}{2} & \\frac{1}{2}\\end{matrix}\\right|}{\\frac{1}{12}}=\\frac{\\frac{5}{8}}{\\frac{1}{12}}=7.5$"
      ]
     },
     "metadata": {},
     "output_type": "display_data"
    },
    {
     "data": {
      "text/latex": [
       "$y=\\frac{\\left|\\begin{matrix}\\frac{1}{3} & 8.5 & \\frac{1}{3}\\\\\\frac{1}{2} & 8 & 0\\\\0 & 9 & \\frac{1}{2}\\end{matrix}\\right|}{\\frac{1}{12}}=\\frac{\\frac{17}{24}}{\\frac{1}{12}}=8.5$"
      ]
     },
     "metadata": {},
     "output_type": "display_data"
    },
    {
     "data": {
      "text/latex": [
       "$z=\\frac{\\left|\\begin{matrix}\\frac{1}{3} & \\frac{1}{3} & 8.5\\\\\\frac{1}{2} & \\frac{1}{2} & 8\\\\0 & \\frac{1}{2} & 9\\end{matrix}\\right|}{\\frac{1}{12}}=\\frac{\\frac{19}{24}}{\\frac{1}{12}}=9.5$"
      ]
     },
     "metadata": {},
     "output_type": "display_data"
    }
   ],
   "source": [
    "# p14.e6a\n",
    "\n",
    "sistemas = [[r\"\"\"6. Una compañía aérea realiza vuelos a tres ciudades, A, B y C. Calcula el precio de los billetes a cada ciudad con\n",
    "la siguiente información. Si vende 10 billetes para ir a la ciudad A, 5 para B y ninguno para C, ingresa 925 euros;\n",
    "si vende 12 billetes para A, 8 para B y ninguno para C, ingresa 1200 euros; y si vende 6 billetes para A, 5 para B y\n",
    "8 para C, ingresa 861 euros.\"\"\",[Eq(10*x+5*y,925),Eq(12*x+8*y,1200), Eq(6*x+5*y+8*z,861)]],\n",
    "            [r\"\"\"7. En una competición deportiva participan 50 atletas distribuidos, según la edad, en tres categorías: Infantiles,\n",
    "Cadetes y Juveniles. El doble del número de atletas infantiles excede en una unidad al número de atletas cadetes\n",
    "y, además, coincide con el quíntuplo del número de atletas juveniles. Determina el número de atletas de cada\n",
    "categoría.\"\"\",[Eq(2*x,y+1),Eq(2*x,5*z), Eq(x+y+z,50)]], \n",
    "            #[r\"\"\"8. La suma de las tres cifras de un número es ocho. Sabiendo que la cifra de las centenas es igual que la de lasdecenas, y que ambas suman la cifra de las unidades, averigua dicho número.\"\"\",[Eq(x+y+z,8),Eq(x,y), Eq(x+y=z)]],\n",
    "[r\"\"\"8. La suma de las tres cifras de un número es ocho. Sabiendo que la cifra de las centenas \n",
    "es igual que la de las decenas, y que ambas suman la cifra de las unidades, \n",
    "averigua dicho número.\"\"\",[Eq(x+y+z,8),Eq(x,y), Eq(x+y,z)]],  \n",
    "            [r\"\"\"9. Un alumno de 1.° de Bachillerato emplea en la compra de tres lápices, un sacapuntas y dos gomas de borrar,\n",
    "tres euros. El doble del precio de un lápiz excede en cinco céntimos de euro a la suma de los precios de un\n",
    "sacapuntas y una goma de borrar. Si cada lápiz costara cinco céntimos de euro más, entonces su precio duplicaría\n",
    "al de una goma de borrar. Determina el precio de un lápiz, de un sacapuntas y de una goma de borrar.\"\"\",\n",
    "            [Eq(3*x+y+2*z,300),Eq(2*x,y+z+5),Eq(x+5,2*z)]],\n",
    "            [r\"\"\"10. Para la compra de un artículo de precio 10,70 euros se utilizan monedas de 1 euro, de 50 céntimos de euro y\n",
    "de 20 céntimos de euro. El número total de monedas excede en una unidad al triple de monedas de 1 euro. El 30\n",
    "% de la suma del número de monedas de 1 euro con el doble del número de monedas de 50 céntimos coincide\n",
    "con el número de monedas de 20 céntimos. Determina el número de monedas que se utilizan de cada clase.\"\"\",\n",
    "            [Eq(100*x+50*y+20*z,1070),Eq(x+y+z,3*x+1),Eq(30/100*(x+2*y),z)]],\n",
    "            [r\"\"\"11. En un grupo de 2.° de Bachillerato los alumnos tienen como materia optativa una de estas tres asignaturas:\n",
    "Literatura, Psicología o Francés. El número de alumnos matriculados en Literatura representa el 60% del total de\n",
    "alumnos del grupo. Si tres alumnos de Psicología se hubiesen matriculado en Francés, entonces estas dos\n",
    "asignaturas tendrían el mismo número de alumnos. Finalmente, el doble de la diferencia del número de alumnos\n",
    "matriculados en Literatura y en Psicología es el triple de la diferencia de los matriculados en Psicología y en\n",
    "Francés. Calcula el número de alumnos matriculados en cada una de las materias optativas y el número de\n",
    "alumnos del grupo.\"\"\",\n",
    "            [Eq(x,60/100*(x+y+z)),Eq(y-3,z+3),Eq(2*(x-y),3*(y-z))]],\n",
    "            [r\"\"\"12. Si la altura de Sergio aumentase el triple de la diferencia entre las alturas de Martín y Jesús, Sergio sería igual\n",
    "de alto que Jesús. Las alturas de los tres suman 515 cm. Ocho veces la altura de Martín es lo mismo que nueve\n",
    "veces la de Sergio. Halla la estatura de cada uno.\"\"\",\n",
    "            [Eq(x+3*(y-z),z),Eq(x+y+z,515),Eq(8*y,9*x)]],\n",
    "            [r\"\"\"13. En un instituto se imparten enseñanzas de ESO, Bachillerato y Ciclos Formativos. La suma del número de\n",
    "los alumnos de Bachillerato y del doble de los alumnos de Ciclos Formativos excede en 100 al número de los\n",
    "alumnos de ESO. Si sumamos el 40% de los alumnos matriculados en ESO con el 30% de los matriculados en\n",
    "Bachillerato y con el 20% de los matriculados en Ciclos Formativos, se obtiene un número que excede en 45\n",
    "unidades al 30% del número total de alumnos. Sabiendo que cursan estos tres tipos de enseñanza un total de 1\n",
    "200 alumnos, halla el número de alumnos matriculados en cada tipo de enseñanza.\"\"\",\n",
    "            [Eq(y+2*z,x+100),Eq(40*x+30*y+20*z,30*(x+y+z)+4500),Eq(x+y+z,1200)]],\n",
    "            [r\"\"\"14. Una persona deja en herencia a sus hijos todo su dinero con las siguientes condiciones: al mayor le deja la\n",
    "media de lo que le deja a los otros más 30 000 euros; al mediano, exactamente la media del dinero de los otros; y\n",
    "al pequeño, la media del dinero de los otros menos 30 000 euros. De esta forma, ¿pueden los hijos saber cuánto\n",
    "dinero ha heredado cada uno?\"\"\",\n",
    "            [Eq(x,y/2+z/2+30000),Eq(y,x/2+z/2),Eq(z,y/2+x/2-30000)]],            \n",
    "            [r\"\"\"15. A Victoria le van a confeccionar su vestido de novia, por el que tendrá que pagar 1 742 euros. En la confección\n",
    "se utilizarán 15 metros de tela entre raso, seda y pasamanería bordada. Los metros de raso serán el doble que los\n",
    "de seda. Los precios del raso, de la seda y la pasamanería son 55,62 y 68 euros el metro, respectivamente. Si del\n",
    "precio total se destinan 500 euros a la mano de obra y 350 euros para beneficio del comerciante, ¿cuántos metros\n",
    "de cada material serán necesarios?\"\"\",\n",
    "            [Eq(x+y+z,15),Eq(x,2*y),Eq(55*x+62*y+68*z,1742-500-350)]],\n",
    "            [r\"\"\"16. Lucía ha realizado tres pruebas escritas de una asignatura y la nota media de las tres ha sido 8,5 puntos. Si la\n",
    "nota media de las dos primeras es 8 y la nota media de las dos últimas es 9, halla la calificación de cada una de las\n",
    "pruebas.\"\"\",\n",
    "            [Eq((x+y+z)/3,8.5),Eq((x+y)/2,8),Eq((y+z)/2,9)]],\n",
    "           ]\n",
    "\n",
    "for sist in sistemas:\n",
    "    print(\"----------------------------------------------\")\n",
    "    print(sist[0])\n",
    "    print(\"----------------------------------------------\")\n",
    "\n",
    "    display_latex(sistema_a_latex(sist[1]),raw=True)\n",
    "    sistema_solucion(sist[1], lista_incognitas(sist[1]))\n",
    "    \n"
   ]
  },
  {
   "cell_type": "code",
   "execution_count": 21,
   "metadata": {
    "colab": {
     "base_uri": "https://localhost:8080/",
     "height": 1000
    },
    "id": "UxCcmpuj2M5D",
    "outputId": "5efed7c1-619d-43e7-9b69-2956cc4ac0e6",
    "scrolled": false
   },
   "outputs": [
    {
     "name": "stdout",
     "output_type": "stream",
     "text": [
      "----------------------------------------------\n",
      "Un hipermercado inicia una campaña de ofertas. En la primera de\n",
      "ellas descuenta un 4% en un cierto producto A, un 6% en el producto B y un 5% en el producto\n",
      "C. A las dos semanas pone en marcha la segunda oferta descontando un 8% sobre el precio inicial\n",
      "de A, un 10% sobre el precio inicial de B y un 6% sobre el precio inicial de C.\n",
      "Se sabe que si un cliente compra durante la primera oferta un producto A, dos B y tres C, se\n",
      "ahorra 16 euros respecto del precio inicial. Si compra tres productos A, uno B y cinco C en la\n",
      "segunda oferta, el ahorro es de 29 euros. Si compra un producto A, uno B y uno C, sin ningún\n",
      "tipo de descuento, debe abonar 135 euros.\n",
      "Calcúlese el precio de cada producto antes de las ofertas\n",
      "----------------------------------------------\n"
     ]
    },
    {
     "data": {
      "text/latex": [
       "$\\left\\{ \\begin{matrix}x + y + z = 135 \\\\ 4 x + 12 y + 15 z = 1600 \\\\ 24 x + 10 y + 30 z = 2900 \\\\ \\end{matrix}\\right.$"
      ]
     },
     "metadata": {},
     "output_type": "display_data"
    },
    {
     "data": {
      "text/latex": [
       "Como $rg(A)=rg(A^*)=3$ --> S.C. (El sistema tiene solución)"
      ]
     },
     "metadata": {},
     "output_type": "display_data"
    },
    {
     "data": {
      "text/latex": [
       "Como además $rg(A)=3$ coincide con el número de incógnitas --> S.C.D -- > Se puede resolver por Gauss, Matriz inversa o Cramer"
      ]
     },
     "metadata": {},
     "output_type": "display_data"
    },
    {
     "name": "stdout",
     "output_type": "stream",
     "text": [
      "**Resolución por Gauss**\n",
      "- - - - - - - - - - - -\n"
     ]
    },
    {
     "data": {
      "text/latex": [
       "$A^*=\\left(\\begin{matrix}1 & 1 & 1 & 135\\\\4 & 12 & 15 & 1600\\\\24 & 10 & 30 & 2900\\end{matrix}\\right)\\sim\\left(\\begin{matrix}1 & 1 & 1 & 135\\\\0 & 8 & 11 & 1060\\\\0 & 0 & \\frac{101}{4} & 1515\\end{matrix}\\right)\\to x=25, y=50, z=60$"
      ]
     },
     "metadata": {},
     "output_type": "display_data"
    },
    {
     "name": "stdout",
     "output_type": "stream",
     "text": [
      "**Método de la matríz inversa**\n",
      "- - - - - - - - - - - - - - - \n"
     ]
    },
    {
     "data": {
      "text/latex": [
       "$A^{-1}=\\left(\\begin{matrix}\\frac{105}{101} & - \\frac{10}{101} & \\frac{3}{202}\\\\\\frac{120}{101} & \\frac{3}{101} & - \\frac{11}{202}\\\\- \\frac{124}{101} & \\frac{7}{101} & \\frac{4}{101}\\end{matrix}\\right) \\to  X=A^{-1}\\cdot b =\\left(\\begin{matrix}\\frac{105}{101} & - \\frac{10}{101} & \\frac{3}{202}\\\\\\frac{120}{101} & \\frac{3}{101} & - \\frac{11}{202}\\\\- \\frac{124}{101} & \\frac{7}{101} & \\frac{4}{101}\\end{matrix}\\right)\\cdot \\left(\\begin{matrix}135\\\\1600\\\\2900\\end{matrix}\\right) =\\left(\\begin{matrix}25\\\\50\\\\60\\end{matrix}\\right)$"
      ]
     },
     "metadata": {},
     "output_type": "display_data"
    },
    {
     "name": "stdout",
     "output_type": "stream",
     "text": [
      "**Por Cramer**\n",
      "- - - - - - - -\n"
     ]
    },
    {
     "data": {
      "text/latex": [
       "$x=\\frac{\\left|\\begin{matrix}135 & 1 & 1\\\\1600 & 12 & 15\\\\2900 & 10 & 30\\end{matrix}\\right|}{202}=\\frac{5050}{202}=25$"
      ]
     },
     "metadata": {},
     "output_type": "display_data"
    },
    {
     "data": {
      "text/latex": [
       "$y=\\frac{\\left|\\begin{matrix}1 & 135 & 1\\\\4 & 1600 & 15\\\\24 & 2900 & 30\\end{matrix}\\right|}{202}=\\frac{10100}{202}=50$"
      ]
     },
     "metadata": {},
     "output_type": "display_data"
    },
    {
     "data": {
      "text/latex": [
       "$z=\\frac{\\left|\\begin{matrix}1 & 1 & 135\\\\4 & 12 & 1600\\\\24 & 10 & 2900\\end{matrix}\\right|}{202}=\\frac{12120}{202}=60$"
      ]
     },
     "metadata": {},
     "output_type": "display_data"
    },
    {
     "name": "stdout",
     "output_type": "stream",
     "text": [
      "----------------------------------------------\n",
      "Una empresa desea disponer de dinero en efectivo en euros, dólares\n",
      "y libras esterlinas. El valor total entre las tres monedas ha de ser igual a 264000 euros. Se quiere\n",
      "que el valor del dinero disponible en euros sea el doble del valor del dinero en dólares, y que el\n",
      "valor del dinero en libras esterlinas sea la décima parte del dinero en euros.\n",
      "Si se supone que una libra esterlina es igual a 1,5 euros y un dólar es igual a 1,1 euros, se pide\n",
      "determinar la cantidad de euros, dólares y libras esterlinas que la empresa ha de tener disponible.\n",
      "----------------------------------------------\n"
     ]
    },
    {
     "data": {
      "text/latex": [
       "$\\left\\{ \\begin{matrix}10 x + 11 y + 15 z = 2640000 \\\\ 10 x - 22 y = 0 \\\\ - x + 15 z = 0 \\\\ \\end{matrix}\\right.$"
      ]
     },
     "metadata": {},
     "output_type": "display_data"
    },
    {
     "data": {
      "text/latex": [
       "Como $rg(A)=rg(A^*)=3$ --> S.C. (El sistema tiene solución)"
      ]
     },
     "metadata": {},
     "output_type": "display_data"
    },
    {
     "data": {
      "text/latex": [
       "Como además $rg(A)=3$ coincide con el número de incógnitas --> S.C.D -- > Se puede resolver por Gauss, Matriz inversa o Cramer"
      ]
     },
     "metadata": {},
     "output_type": "display_data"
    },
    {
     "name": "stdout",
     "output_type": "stream",
     "text": [
      "**Resolución por Gauss**\n",
      "- - - - - - - - - - - -\n"
     ]
    },
    {
     "data": {
      "text/latex": [
       "$A^*=\\left(\\begin{matrix}10 & 11 & 15 & 2640000\\\\10 & -22 & 0 & 0\\\\-1 & 0 & 15 & 0\\end{matrix}\\right)\\sim\\left(\\begin{matrix}10 & 11 & 15 & 2640000\\\\0 & -33 & -15 & -2640000\\\\0 & 0 & 16 & 176000\\end{matrix}\\right)\\to x=165000, y=75000, z=11000$"
      ]
     },
     "metadata": {},
     "output_type": "display_data"
    },
    {
     "name": "stdout",
     "output_type": "stream",
     "text": [
      "**Método de la matríz inversa**\n",
      "- - - - - - - - - - - - - - - \n"
     ]
    },
    {
     "data": {
      "text/latex": [
       "$A^{-1}=\\left(\\begin{matrix}\\frac{1}{16} & \\frac{1}{32} & - \\frac{1}{16}\\\\\\frac{5}{176} & - \\frac{1}{32} & - \\frac{5}{176}\\\\\\frac{1}{240} & \\frac{1}{480} & \\frac{1}{16}\\end{matrix}\\right) \\to  X=A^{-1}\\cdot b =\\left(\\begin{matrix}\\frac{1}{16} & \\frac{1}{32} & - \\frac{1}{16}\\\\\\frac{5}{176} & - \\frac{1}{32} & - \\frac{5}{176}\\\\\\frac{1}{240} & \\frac{1}{480} & \\frac{1}{16}\\end{matrix}\\right)\\cdot \\left(\\begin{matrix}2640000\\\\0\\\\0\\end{matrix}\\right) =\\left(\\begin{matrix}165000\\\\75000\\\\11000\\end{matrix}\\right)$"
      ]
     },
     "metadata": {},
     "output_type": "display_data"
    },
    {
     "name": "stdout",
     "output_type": "stream",
     "text": [
      "**Por Cramer**\n",
      "- - - - - - - -\n"
     ]
    },
    {
     "data": {
      "text/latex": [
       "$x=\\frac{\\left|\\begin{matrix}2640000 & 11 & 15\\\\0 & -22 & 0\\\\0 & 0 & 15\\end{matrix}\\right|}{-5280}=\\frac{-871200000}{-5280}=165000$"
      ]
     },
     "metadata": {},
     "output_type": "display_data"
    },
    {
     "data": {
      "text/latex": [
       "$y=\\frac{\\left|\\begin{matrix}10 & 2640000 & 15\\\\10 & 0 & 0\\\\-1 & 0 & 15\\end{matrix}\\right|}{-5280}=\\frac{-396000000}{-5280}=75000$"
      ]
     },
     "metadata": {},
     "output_type": "display_data"
    },
    {
     "data": {
      "text/latex": [
       "$z=\\frac{\\left|\\begin{matrix}10 & 11 & 2640000\\\\10 & -22 & 0\\\\-1 & 0 & 0\\end{matrix}\\right|}{-5280}=\\frac{-58080000}{-5280}=11000$"
      ]
     },
     "metadata": {},
     "output_type": "display_data"
    }
   ],
   "source": [
    "# exámenes\n",
    "\n",
    "sistemas = [[r\"\"\"Un hipermercado inicia una campaña de ofertas. En la primera de\n",
    "ellas descuenta un 4% en un cierto producto A, un 6% en el producto B y un 5% en el producto\n",
    "C. A las dos semanas pone en marcha la segunda oferta descontando un 8% sobre el precio inicial\n",
    "de A, un 10% sobre el precio inicial de B y un 6% sobre el precio inicial de C.\n",
    "Se sabe que si un cliente compra durante la primera oferta un producto A, dos B y tres C, se\n",
    "ahorra 16 euros respecto del precio inicial. Si compra tres productos A, uno B y cinco C en la\n",
    "segunda oferta, el ahorro es de 29 euros. Si compra un producto A, uno B y uno C, sin ningún\n",
    "tipo de descuento, debe abonar 135 euros.\n",
    "Calcúlese el precio de cada producto antes de las ofertas\"\"\",[Eq(x+y+z,135),Eq(4*x+2*6*y+3*5*z,1600), \n",
    "                                                              Eq(3*8*x+10*y+5*6*z,2900)]],\n",
    "            [r\"\"\"Una empresa desea disponer de dinero en efectivo en euros, dólares\n",
    "y libras esterlinas. El valor total entre las tres monedas ha de ser igual a 264000 euros. Se quiere\n",
    "que el valor del dinero disponible en euros sea el doble del valor del dinero en dólares, y que el\n",
    "valor del dinero en libras esterlinas sea la décima parte del dinero en euros.\n",
    "Si se supone que una libra esterlina es igual a 1,5 euros y un dólar es igual a 1,1 euros, se pide\n",
    "determinar la cantidad de euros, dólares y libras esterlinas que la empresa ha de tener disponible.\"\"\",\n",
    "            [Eq(10*x+11*y+15*z,2640000),Eq(10*x-22*y,0),Eq(15*z-x,0)]]\n",
    "           ]\n",
    "\n",
    "for sist in sistemas:\n",
    "    print(\"----------------------------------------------\")\n",
    "    print(sist[0])\n",
    "    print(\"----------------------------------------------\")\n",
    "\n",
    "    display_latex(sistema_a_latex(sist[1]),raw=True)\n",
    "    sistema_solucion(sist[1], lista_incognitas(sist[1]))\n",
    "    \n"
   ]
  },
  {
   "cell_type": "code",
   "execution_count": null,
   "metadata": {
    "colab": {
     "base_uri": "https://localhost:8080/",
     "height": 1000
    },
    "id": "UxCcmpuj2M5D",
    "outputId": "5efed7c1-619d-43e7-9b69-2956cc4ac0e6",
    "scrolled": false
   },
   "outputs": [],
   "source": [
    "# Junio 2001\n",
    "\n",
    "sistemas = [[r\"\"\"Junio 2001\"\"\",[Eq(200*x+100*y+150*z,8600),Eq(x-2*z,0), Eq(x-3*y+3*z,0)]],\n",
    "           ]\n",
    "\n",
    "for sist in sistemas:\n",
    "    print(\"----------------------------------------------\")\n",
    "    print(sist[0])\n",
    "    print(\"----------------------------------------------\")\n",
    "\n",
    "    display_latex(sistema_a_latex(sist[1]),raw=True)\n",
    "    sistema_solucion(sist[1], lista_incognitas(sist[1]))\n",
    "    \n"
   ]
  },
  {
   "cell_type": "code",
   "execution_count": null,
   "metadata": {
    "colab": {
     "base_uri": "https://localhost:8080/",
     "height": 1000
    },
    "id": "UxCcmpuj2M5D",
    "outputId": "5efed7c1-619d-43e7-9b69-2956cc4ac0e6"
   },
   "outputs": [],
   "source": [
    "# Antiguo\n",
    "\n",
    "# p14.e6a\n",
    "\n",
    "sistemas = [[r\"\"\"6. Una compañía aérea realiza vuelos a tres ciudades, A, B y C. Calcula el precio de los billetes a cada ciudad con\n",
    "la siguiente información. Si vende 10 billetes para ir a la ciudad A, 5 para B y ninguno para C, ingresa 925 euros;\n",
    "si vende 12 billetes para A, 8 para B y ninguno para C, ingresa 1200 euros; y si vende 6 billetes para A, 5 para B y\n",
    "8 para C, ingresa 861 euros.\"\"\",[Eq(10*x+5*y,925),Eq(12*x+8*y,1200), Eq(6*x+5*y+8*z,861)]],\n",
    "            [r\"\"\"7. En una competición deportiva participan 50 atletas distribuidos, según la edad, en tres categorías: Infantiles,\n",
    "Cadetes y Juveniles. El doble del número de atletas infantiles excede en una unidad al número de atletas cadetes\n",
    "y, además, coincide con el quíntuplo del número de atletas juveniles. Determina el número de atletas de cada\n",
    "categoría.\"\"\",[Eq(2*x,y+1),Eq(2*x,5*z), Eq(x+y+z,50)]], \n",
    "            #[r\"\"\"8. La suma de las tres cifras de un número es ocho. Sabiendo que la cifra de las centenas es igual que la de lasdecenas, y que ambas suman la cifra de las unidades, averigua dicho número.\"\"\",[Eq(x+y+z,8),Eq(x,y), Eq(x+y=z)]],\n",
    "[r\"\"\"8. La suma de las tres cifras de un número es ocho. Sabiendo que la cifra de las centenas \n",
    "es igual que la de las decenas, y que ambas suman la cifra de las unidades, \n",
    "averigua dicho número.\"\"\",[Eq(x+y+z,8),Eq(x,y), Eq(x+y,z)]],  \n",
    "            [r\"\"\"9. Un alumno de 1.° de Bachillerato emplea en la compra de tres lápices, un sacapuntas y dos gomas de borrar,\n",
    "tres euros. El doble del precio de un lápiz excede en cinco céntimos de euro a la suma de los precios de un\n",
    "sacapuntas y una goma de borrar. Si cada lápiz costara cinco céntimos de euro más, entonces su precio duplicaría\n",
    "al de una goma de borrar. Determina el precio de un lápiz, de un sacapuntas y de una goma de borrar.\"\"\",\n",
    "            [Eq(3*x+y+2*z,300),Eq(2*x,y+z+5),Eq(x+5,2*z)]],\n",
    "            [r\"\"\"10. Para la compra de un artículo de precio 10,70 euros se utilizan monedas de 1 euro, de 50 céntimos de euro y\n",
    "de 20 céntimos de euro. El número total de monedas excede en una unidad al triple de monedas de 1 euro. El 30\n",
    "% de la suma del número de monedas de 1 euro con el doble del número de monedas de 50 céntimos coincide\n",
    "con el número de monedas de 20 céntimos. Determina el número de monedas que se utilizan de cada clase.\"\"\",\n",
    "            [Eq(100*x+50*y+20*z,1070),Eq(x+y+z,3*x+1),Eq(30/100*(x+2*y),z)]],\n",
    "            [r\"\"\"11. En un grupo de 2.° de Bachillerato los alumnos tienen como materia optativa una de estas tres asignaturas:\n",
    "Literatura, Psicología o Francés. El número de alumnos matriculados en Literatura representa el 60% del total de\n",
    "alumnos del grupo. Si tres alumnos de Psicología se hubiesen matriculado en Francés, entonces estas dos\n",
    "asignaturas tendrían el mismo número de alumnos. Finalmente, el doble de la diferencia del número de alumnos\n",
    "matriculados en Literatura y en Psicología es el triple de la diferencia de los matriculados en Psicología y en\n",
    "Francés. Calcula el número de alumnos matriculados en cada una de las materias optativas y el número de\n",
    "alumnos del grupo.\"\"\",\n",
    "            [Eq(x,60/100*(x+y+z)),Eq(y-3,z+3),Eq(2*(x-y),3*(y-z))]],\n",
    "            [r\"\"\"12. Si la altura de Sergio aumentase el triple de la diferencia entre las alturas de Martín y Jesús, Sergio sería igual\n",
    "de alto que Jesús. Las alturas de los tres suman 515 cm. Ocho veces la altura de Martín es lo mismo que nueve\n",
    "veces la de Sergio. Halla la estatura de cada uno.\"\"\",\n",
    "            [Eq(x+3*(y-z),z),Eq(x+y+z,515),Eq(8*y,9*x)]],\n",
    "            [r\"\"\"13. En un instituto se imparten enseñanzas de ESO, Bachillerato y Ciclos Formativos. La suma del número de\n",
    "los alumnos de Bachillerato y del doble de los alumnos de Ciclos Formativos excede en 100 al número de los\n",
    "alumnos de ESO. Si sumamos el 40% de los alumnos matriculados en ESO con el 30% de los matriculados en\n",
    "Bachillerato y con el 20% de los matriculados en Ciclos Formativos, se obtiene un número que excede en 45\n",
    "unidades al 30% del número total de alumnos. Sabiendo que cursan estos tres tipos de enseñanza un total de 1\n",
    "200 alumnos, halla el número de alumnos matriculados en cada tipo de enseñanza.\"\"\",\n",
    "            [Eq(y+2*z,x+100),Eq(40*x+30*y+20*z,30*(x+y+z)+4500),Eq(x+y+z,1200)]],\n",
    "            [r\"\"\"14. Una persona deja en herencia a sus hijos todo su dinero con las siguientes condiciones: al mayor le deja la\n",
    "media de lo que le deja a los otros más 30 000 euros; al mediano, exactamente la media del dinero de los otros; y\n",
    "al pequeño, la media del dinero de los otros menos 30 000 euros. De esta forma, ¿pueden los hijos saber cuánto\n",
    "dinero ha heredado cada uno?\"\"\",\n",
    "            [Eq(x,y/2+z/2+30000),Eq(y,x/2+z/2),Eq(z,y/2+x/2-30000)]],            \n",
    "            [r\"\"\"15. A Victoria le van a confeccionar su vestido de novia, por el que tendrá que pagar 1 742 euros. En la confección\n",
    "se utilizarán 15 metros de tela entre raso, seda y pasamanería bordada. Los metros de raso serán el doble que los\n",
    "de seda. Los precios del raso, de la seda y la pasamanería son 55,62 y 68 euros el metro, respectivamente. Si del\n",
    "precio total se destinan 500 euros a la mano de obra y 350 euros para beneficio del comerciante, ¿cuántos metros\n",
    "de cada material serán necesarios?\"\"\",\n",
    "            [Eq(x+y+z,15),Eq(x,2*y),Eq(55*x+62*y+68*z,1742-500-350)]],\n",
    "            [r\"\"\"16. Lucía ha realizado tres pruebas escritas de una asignatura y la nota media de las tres ha sido 8,5 puntos. Si la\n",
    "nota media de las dos primeras es 8 y la nota media de las dos últimas es 9, halla la calificación de cada una de las\n",
    "pruebas.\"\"\",\n",
    "            [Eq((x+y+z)/3,8.5),Eq((x+y)/2,8),Eq((y+z)/2,9)]],\n",
    "           ]\n",
    "\n",
    "for sist in sistemas:\n",
    "  \n",
    "  print(latex(sist[0]))\n",
    "  pprint(\"Sistema:\")\n",
    "  pprint(sist[1])\n",
    "  \n",
    "  A, b = linear_eq_to_matrix(sist[1],[x,y,z])\n",
    "  AA = A.row_join(b)\n",
    "\n",
    "\n",
    "  #pprint(linear_eq_to_matrix(sistema,[x,y,z]))\n",
    "  #print(latex(sist[1]))\n",
    "  \n",
    "  #pprint([A,A.rank(),AA,AA.rank(),A.shape])\n",
    "  #pprint([A.LUdecomposition(),A.LUsolve(b)])\n",
    "  #pprint(linsolve(sist[1],[x,y,z]))\n",
    "  #pprint(solve(sist[1]))\n",
    "  #pprint(A.inv()*b)\n",
    "  pprint(\"Solución:\")\n",
    "  pprint(solve_linear_system(AA,x,y,z))\n",
    "  \n",
    "  #cramer\n",
    "  pprint(\"Datos que salen en Cramer:\")\n",
    "  for i in range(A.shape[1]):\n",
    "    AA.col_swap(i,3)\n",
    "    pprint(\"Delta_i, A.det, solucion_i : \")\n",
    "    pprint([AA[:,:-1].det(),A.det(),AA[:,:-1].det()/A.det()])\n",
    "    AA.col_swap(i,3)\n",
    "    #pprint(AA)\n"
   ]
  }
 ],
 "metadata": {
  "colab": {
   "collapsed_sections": [],
   "name": "sistemas.ipynb",
   "provenance": []
  },
  "kernelspec": {
   "display_name": "Python 3 (ipykernel)",
   "language": "python",
   "name": "python3"
  },
  "language_info": {
   "codemirror_mode": {
    "name": "ipython",
    "version": 3
   },
   "file_extension": ".py",
   "mimetype": "text/x-python",
   "name": "python",
   "nbconvert_exporter": "python",
   "pygments_lexer": "ipython3",
   "version": "3.9.13"
  }
 },
 "nbformat": 4,
 "nbformat_minor": 1
}
